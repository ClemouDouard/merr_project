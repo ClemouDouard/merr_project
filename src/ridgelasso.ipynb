{
 "cells": [
  {
   "cell_type": "code",
   "execution_count": 21,
   "metadata": {
    "vscode": {
     "languageId": "r"
    }
   },
   "outputs": [
    {
     "data": {
      "text/html": [
       "<table class=\"dataframe\">\n",
       "<caption>A data.frame: 6 × 47</caption>\n",
       "<thead>\n",
       "\t<tr><th></th><th scope=col>age</th><th scope=col>death</th><th scope=col>sex</th><th scope=col>hospdead</th><th scope=col>slos</th><th scope=col>d.time</th><th scope=col>dzgroup</th><th scope=col>dzclass</th><th scope=col>num.co</th><th scope=col>edu</th><th scope=col>⋯</th><th scope=col>crea</th><th scope=col>sod</th><th scope=col>ph</th><th scope=col>glucose</th><th scope=col>bun</th><th scope=col>urine</th><th scope=col>adlp</th><th scope=col>adls</th><th scope=col>sfdm2</th><th scope=col>adlsc</th></tr>\n",
       "\t<tr><th></th><th scope=col>&lt;dbl&gt;</th><th scope=col>&lt;int&gt;</th><th scope=col>&lt;chr&gt;</th><th scope=col>&lt;int&gt;</th><th scope=col>&lt;int&gt;</th><th scope=col>&lt;int&gt;</th><th scope=col>&lt;chr&gt;</th><th scope=col>&lt;chr&gt;</th><th scope=col>&lt;int&gt;</th><th scope=col>&lt;int&gt;</th><th scope=col>⋯</th><th scope=col>&lt;dbl&gt;</th><th scope=col>&lt;int&gt;</th><th scope=col>&lt;dbl&gt;</th><th scope=col>&lt;dbl&gt;</th><th scope=col>&lt;dbl&gt;</th><th scope=col>&lt;dbl&gt;</th><th scope=col>&lt;int&gt;</th><th scope=col>&lt;int&gt;</th><th scope=col>&lt;chr&gt;</th><th scope=col>&lt;dbl&gt;</th></tr>\n",
       "</thead>\n",
       "<tbody>\n",
       "\t<tr><th scope=row>1</th><td>62.84998</td><td>0</td><td>male  </td><td>0</td><td> 5</td><td>2029</td><td>Lung Cancer      </td><td>Cancer            </td><td>0</td><td>11</td><td>⋯</td><td>1.1999512</td><td>141</td><td>7.459961</td><td>NA</td><td>NA</td><td>NA</td><td> 7</td><td>7</td><td>                   </td><td>7</td></tr>\n",
       "\t<tr><th scope=row>2</th><td>60.33899</td><td>1</td><td>female</td><td>1</td><td> 4</td><td><span style=white-space:pre-wrap>   4</span></td><td><span style=white-space:pre-wrap>Cirrhosis        </span></td><td>COPD/CHF/Cirrhosis</td><td>2</td><td>12</td><td>⋯</td><td>5.5000000</td><td>132</td><td>7.250000</td><td>NA</td><td>NA</td><td>NA</td><td>NA</td><td>1</td><td><span style=white-space:pre-wrap>&lt;2 mo. follow-up   </span></td><td>1</td></tr>\n",
       "\t<tr><th scope=row>3</th><td>52.74698</td><td>1</td><td>female</td><td>0</td><td>17</td><td><span style=white-space:pre-wrap>  47</span></td><td><span style=white-space:pre-wrap>Cirrhosis        </span></td><td>COPD/CHF/Cirrhosis</td><td>2</td><td>12</td><td>⋯</td><td>2.0000000</td><td>134</td><td>7.459961</td><td>NA</td><td>NA</td><td>NA</td><td> 1</td><td>0</td><td><span style=white-space:pre-wrap>&lt;2 mo. follow-up   </span></td><td>0</td></tr>\n",
       "\t<tr><th scope=row>4</th><td>42.38498</td><td>1</td><td>female</td><td>0</td><td> 3</td><td> 133</td><td>Lung Cancer      </td><td>Cancer            </td><td>2</td><td>11</td><td>⋯</td><td>0.7999268</td><td>139</td><td>      NA</td><td>NA</td><td>NA</td><td>NA</td><td> 0</td><td>0</td><td>no(M2 and SIP pres)</td><td>0</td></tr>\n",
       "\t<tr><th scope=row>5</th><td>79.88495</td><td>0</td><td>female</td><td>0</td><td>16</td><td>2029</td><td>ARF/MOSF w/Sepsis</td><td>ARF/MOSF          </td><td>1</td><td>NA</td><td>⋯</td><td>0.7999268</td><td>143</td><td>7.509766</td><td>NA</td><td>NA</td><td>NA</td><td>NA</td><td>2</td><td>no(M2 and SIP pres)</td><td>2</td></tr>\n",
       "\t<tr><th scope=row>6</th><td>93.01599</td><td>1</td><td><span style=white-space:pre-wrap>male  </span></td><td>1</td><td> 4</td><td><span style=white-space:pre-wrap>   4</span></td><td><span style=white-space:pre-wrap>Coma             </span></td><td><span style=white-space:pre-wrap>Coma              </span></td><td>1</td><td>14</td><td>⋯</td><td>0.6999512</td><td>140</td><td>7.659180</td><td>NA</td><td>NA</td><td>NA</td><td>NA</td><td>1</td><td><span style=white-space:pre-wrap>&lt;2 mo. follow-up   </span></td><td>1</td></tr>\n",
       "</tbody>\n",
       "</table>\n"
      ],
      "text/latex": [
       "A data.frame: 6 × 47\n",
       "\\begin{tabular}{r|lllllllllllllllllllll}\n",
       "  & age & death & sex & hospdead & slos & d.time & dzgroup & dzclass & num.co & edu & ⋯ & crea & sod & ph & glucose & bun & urine & adlp & adls & sfdm2 & adlsc\\\\\n",
       "  & <dbl> & <int> & <chr> & <int> & <int> & <int> & <chr> & <chr> & <int> & <int> & ⋯ & <dbl> & <int> & <dbl> & <dbl> & <dbl> & <dbl> & <int> & <int> & <chr> & <dbl>\\\\\n",
       "\\hline\n",
       "\t1 & 62.84998 & 0 & male   & 0 &  5 & 2029 & Lung Cancer       & Cancer             & 0 & 11 & ⋯ & 1.1999512 & 141 & 7.459961 & NA & NA & NA &  7 & 7 &                     & 7\\\\\n",
       "\t2 & 60.33899 & 1 & female & 1 &  4 &    4 & Cirrhosis         & COPD/CHF/Cirrhosis & 2 & 12 & ⋯ & 5.5000000 & 132 & 7.250000 & NA & NA & NA & NA & 1 & <2 mo. follow-up    & 1\\\\\n",
       "\t3 & 52.74698 & 1 & female & 0 & 17 &   47 & Cirrhosis         & COPD/CHF/Cirrhosis & 2 & 12 & ⋯ & 2.0000000 & 134 & 7.459961 & NA & NA & NA &  1 & 0 & <2 mo. follow-up    & 0\\\\\n",
       "\t4 & 42.38498 & 1 & female & 0 &  3 &  133 & Lung Cancer       & Cancer             & 2 & 11 & ⋯ & 0.7999268 & 139 &       NA & NA & NA & NA &  0 & 0 & no(M2 and SIP pres) & 0\\\\\n",
       "\t5 & 79.88495 & 0 & female & 0 & 16 & 2029 & ARF/MOSF w/Sepsis & ARF/MOSF           & 1 & NA & ⋯ & 0.7999268 & 143 & 7.509766 & NA & NA & NA & NA & 2 & no(M2 and SIP pres) & 2\\\\\n",
       "\t6 & 93.01599 & 1 & male   & 1 &  4 &    4 & Coma              & Coma               & 1 & 14 & ⋯ & 0.6999512 & 140 & 7.659180 & NA & NA & NA & NA & 1 & <2 mo. follow-up    & 1\\\\\n",
       "\\end{tabular}\n"
      ],
      "text/markdown": [
       "\n",
       "A data.frame: 6 × 47\n",
       "\n",
       "| <!--/--> | age &lt;dbl&gt; | death &lt;int&gt; | sex &lt;chr&gt; | hospdead &lt;int&gt; | slos &lt;int&gt; | d.time &lt;int&gt; | dzgroup &lt;chr&gt; | dzclass &lt;chr&gt; | num.co &lt;int&gt; | edu &lt;int&gt; | ⋯ ⋯ | crea &lt;dbl&gt; | sod &lt;int&gt; | ph &lt;dbl&gt; | glucose &lt;dbl&gt; | bun &lt;dbl&gt; | urine &lt;dbl&gt; | adlp &lt;int&gt; | adls &lt;int&gt; | sfdm2 &lt;chr&gt; | adlsc &lt;dbl&gt; |\n",
       "|---|---|---|---|---|---|---|---|---|---|---|---|---|---|---|---|---|---|---|---|---|---|\n",
       "| 1 | 62.84998 | 0 | male   | 0 |  5 | 2029 | Lung Cancer       | Cancer             | 0 | 11 | ⋯ | 1.1999512 | 141 | 7.459961 | NA | NA | NA |  7 | 7 | <!----> | 7 |\n",
       "| 2 | 60.33899 | 1 | female | 1 |  4 |    4 | Cirrhosis         | COPD/CHF/Cirrhosis | 2 | 12 | ⋯ | 5.5000000 | 132 | 7.250000 | NA | NA | NA | NA | 1 | &lt;2 mo. follow-up    | 1 |\n",
       "| 3 | 52.74698 | 1 | female | 0 | 17 |   47 | Cirrhosis         | COPD/CHF/Cirrhosis | 2 | 12 | ⋯ | 2.0000000 | 134 | 7.459961 | NA | NA | NA |  1 | 0 | &lt;2 mo. follow-up    | 0 |\n",
       "| 4 | 42.38498 | 1 | female | 0 |  3 |  133 | Lung Cancer       | Cancer             | 2 | 11 | ⋯ | 0.7999268 | 139 |       NA | NA | NA | NA |  0 | 0 | no(M2 and SIP pres) | 0 |\n",
       "| 5 | 79.88495 | 0 | female | 0 | 16 | 2029 | ARF/MOSF w/Sepsis | ARF/MOSF           | 1 | NA | ⋯ | 0.7999268 | 143 | 7.509766 | NA | NA | NA | NA | 2 | no(M2 and SIP pres) | 2 |\n",
       "| 6 | 93.01599 | 1 | male   | 1 |  4 |    4 | Coma              | Coma               | 1 | 14 | ⋯ | 0.6999512 | 140 | 7.659180 | NA | NA | NA | NA | 1 | &lt;2 mo. follow-up    | 1 |\n",
       "\n"
      ],
      "text/plain": [
       "  age      death sex    hospdead slos d.time dzgroup          \n",
       "1 62.84998 0     male   0         5   2029   Lung Cancer      \n",
       "2 60.33899 1     female 1         4      4   Cirrhosis        \n",
       "3 52.74698 1     female 0        17     47   Cirrhosis        \n",
       "4 42.38498 1     female 0         3    133   Lung Cancer      \n",
       "5 79.88495 0     female 0        16   2029   ARF/MOSF w/Sepsis\n",
       "6 93.01599 1     male   1         4      4   Coma             \n",
       "  dzclass            num.co edu ⋯ crea      sod ph       glucose bun urine adlp\n",
       "1 Cancer             0      11  ⋯ 1.1999512 141 7.459961 NA      NA  NA     7  \n",
       "2 COPD/CHF/Cirrhosis 2      12  ⋯ 5.5000000 132 7.250000 NA      NA  NA    NA  \n",
       "3 COPD/CHF/Cirrhosis 2      12  ⋯ 2.0000000 134 7.459961 NA      NA  NA     1  \n",
       "4 Cancer             2      11  ⋯ 0.7999268 139       NA NA      NA  NA     0  \n",
       "5 ARF/MOSF           1      NA  ⋯ 0.7999268 143 7.509766 NA      NA  NA    NA  \n",
       "6 Coma               1      14  ⋯ 0.6999512 140 7.659180 NA      NA  NA    NA  \n",
       "  adls sfdm2               adlsc\n",
       "1 7                        7    \n",
       "2 1    <2 mo. follow-up    1    \n",
       "3 0    <2 mo. follow-up    0    \n",
       "4 0    no(M2 and SIP pres) 0    \n",
       "5 2    no(M2 and SIP pres) 2    \n",
       "6 1    <2 mo. follow-up    1    "
      ]
     },
     "metadata": {},
     "output_type": "display_data"
    }
   ],
   "source": [
    "data <- read.csv(\"../data/support2.csv\")\n",
    "head(data)"
   ]
  },
  {
   "cell_type": "code",
   "execution_count": 22,
   "metadata": {
    "vscode": {
     "languageId": "r"
    }
   },
   "outputs": [],
   "source": [
    "data$pafi[is.na(data$pafi)] <- 333.3\n",
    "data$alb[is.na(data$alb)] <- 3.5\n",
    "data$bun[is.na(data$bun)] <- 6.51\n",
    "data$urine[is.na(data$urine)] <- 2502"
   ]
  },
  {
   "cell_type": "code",
   "execution_count": 23,
   "metadata": {
    "vscode": {
     "languageId": "r"
    }
   },
   "outputs": [
    {
     "data": {
      "text/html": [
       "<table class=\"dataframe\">\n",
       "<caption>A data.frame: 6 × 47</caption>\n",
       "<thead>\n",
       "\t<tr><th></th><th scope=col>age</th><th scope=col>death</th><th scope=col>sex</th><th scope=col>hospdead</th><th scope=col>slos</th><th scope=col>d.time</th><th scope=col>dzgroup</th><th scope=col>dzclass</th><th scope=col>num.co</th><th scope=col>edu</th><th scope=col>⋯</th><th scope=col>crea</th><th scope=col>sod</th><th scope=col>ph</th><th scope=col>glucose</th><th scope=col>bun</th><th scope=col>urine</th><th scope=col>adlp</th><th scope=col>adls</th><th scope=col>sfdm2</th><th scope=col>adlsc</th></tr>\n",
       "\t<tr><th></th><th scope=col>&lt;dbl&gt;</th><th scope=col>&lt;int&gt;</th><th scope=col>&lt;chr&gt;</th><th scope=col>&lt;int&gt;</th><th scope=col>&lt;int&gt;</th><th scope=col>&lt;int&gt;</th><th scope=col>&lt;chr&gt;</th><th scope=col>&lt;chr&gt;</th><th scope=col>&lt;int&gt;</th><th scope=col>&lt;int&gt;</th><th scope=col>⋯</th><th scope=col>&lt;dbl&gt;</th><th scope=col>&lt;dbl&gt;</th><th scope=col>&lt;dbl&gt;</th><th scope=col>&lt;dbl&gt;</th><th scope=col>&lt;dbl&gt;</th><th scope=col>&lt;dbl&gt;</th><th scope=col>&lt;dbl&gt;</th><th scope=col>&lt;dbl&gt;</th><th scope=col>&lt;chr&gt;</th><th scope=col>&lt;dbl&gt;</th></tr>\n",
       "</thead>\n",
       "<tbody>\n",
       "\t<tr><th scope=row>1</th><td>62.84998</td><td>0</td><td>male  </td><td>0</td><td> 5</td><td>2029</td><td>Lung Cancer      </td><td>Cancer            </td><td>0</td><td>11</td><td>⋯</td><td>1.1999512</td><td>141</td><td>7.459961</td><td>135</td><td>6.51</td><td>2502</td><td>7</td><td>7</td><td>                   </td><td>7</td></tr>\n",
       "\t<tr><th scope=row>2</th><td>60.33899</td><td>1</td><td>female</td><td>1</td><td> 4</td><td><span style=white-space:pre-wrap>   4</span></td><td><span style=white-space:pre-wrap>Cirrhosis        </span></td><td>COPD/CHF/Cirrhosis</td><td>2</td><td>12</td><td>⋯</td><td>5.5000000</td><td>132</td><td>7.250000</td><td>135</td><td>6.51</td><td>2502</td><td>0</td><td>1</td><td><span style=white-space:pre-wrap>&lt;2 mo. follow-up   </span></td><td>1</td></tr>\n",
       "\t<tr><th scope=row>3</th><td>52.74698</td><td>1</td><td>female</td><td>0</td><td>17</td><td><span style=white-space:pre-wrap>  47</span></td><td><span style=white-space:pre-wrap>Cirrhosis        </span></td><td>COPD/CHF/Cirrhosis</td><td>2</td><td>12</td><td>⋯</td><td>2.0000000</td><td>134</td><td>7.459961</td><td>135</td><td>6.51</td><td>2502</td><td>1</td><td>0</td><td><span style=white-space:pre-wrap>&lt;2 mo. follow-up   </span></td><td>0</td></tr>\n",
       "\t<tr><th scope=row>4</th><td>42.38498</td><td>1</td><td>female</td><td>0</td><td> 3</td><td> 133</td><td>Lung Cancer      </td><td>Cancer            </td><td>2</td><td>11</td><td>⋯</td><td>0.7999268</td><td>139</td><td>7.419922</td><td>135</td><td>6.51</td><td>2502</td><td>0</td><td>0</td><td>no(M2 and SIP pres)</td><td>0</td></tr>\n",
       "\t<tr><th scope=row>5</th><td>79.88495</td><td>0</td><td>female</td><td>0</td><td>16</td><td>2029</td><td>ARF/MOSF w/Sepsis</td><td>ARF/MOSF          </td><td>1</td><td>12</td><td>⋯</td><td>0.7999268</td><td>143</td><td>7.509766</td><td>135</td><td>6.51</td><td>2502</td><td>0</td><td>2</td><td>no(M2 and SIP pres)</td><td>2</td></tr>\n",
       "\t<tr><th scope=row>6</th><td>93.01599</td><td>1</td><td><span style=white-space:pre-wrap>male  </span></td><td>1</td><td> 4</td><td><span style=white-space:pre-wrap>   4</span></td><td><span style=white-space:pre-wrap>Coma             </span></td><td><span style=white-space:pre-wrap>Coma              </span></td><td>1</td><td>14</td><td>⋯</td><td>0.6999512</td><td>140</td><td>7.659180</td><td>135</td><td>6.51</td><td>2502</td><td>0</td><td>1</td><td><span style=white-space:pre-wrap>&lt;2 mo. follow-up   </span></td><td>1</td></tr>\n",
       "</tbody>\n",
       "</table>\n"
      ],
      "text/latex": [
       "A data.frame: 6 × 47\n",
       "\\begin{tabular}{r|lllllllllllllllllllll}\n",
       "  & age & death & sex & hospdead & slos & d.time & dzgroup & dzclass & num.co & edu & ⋯ & crea & sod & ph & glucose & bun & urine & adlp & adls & sfdm2 & adlsc\\\\\n",
       "  & <dbl> & <int> & <chr> & <int> & <int> & <int> & <chr> & <chr> & <int> & <int> & ⋯ & <dbl> & <dbl> & <dbl> & <dbl> & <dbl> & <dbl> & <dbl> & <dbl> & <chr> & <dbl>\\\\\n",
       "\\hline\n",
       "\t1 & 62.84998 & 0 & male   & 0 &  5 & 2029 & Lung Cancer       & Cancer             & 0 & 11 & ⋯ & 1.1999512 & 141 & 7.459961 & 135 & 6.51 & 2502 & 7 & 7 &                     & 7\\\\\n",
       "\t2 & 60.33899 & 1 & female & 1 &  4 &    4 & Cirrhosis         & COPD/CHF/Cirrhosis & 2 & 12 & ⋯ & 5.5000000 & 132 & 7.250000 & 135 & 6.51 & 2502 & 0 & 1 & <2 mo. follow-up    & 1\\\\\n",
       "\t3 & 52.74698 & 1 & female & 0 & 17 &   47 & Cirrhosis         & COPD/CHF/Cirrhosis & 2 & 12 & ⋯ & 2.0000000 & 134 & 7.459961 & 135 & 6.51 & 2502 & 1 & 0 & <2 mo. follow-up    & 0\\\\\n",
       "\t4 & 42.38498 & 1 & female & 0 &  3 &  133 & Lung Cancer       & Cancer             & 2 & 11 & ⋯ & 0.7999268 & 139 & 7.419922 & 135 & 6.51 & 2502 & 0 & 0 & no(M2 and SIP pres) & 0\\\\\n",
       "\t5 & 79.88495 & 0 & female & 0 & 16 & 2029 & ARF/MOSF w/Sepsis & ARF/MOSF           & 1 & 12 & ⋯ & 0.7999268 & 143 & 7.509766 & 135 & 6.51 & 2502 & 0 & 2 & no(M2 and SIP pres) & 2\\\\\n",
       "\t6 & 93.01599 & 1 & male   & 1 &  4 &    4 & Coma              & Coma               & 1 & 14 & ⋯ & 0.6999512 & 140 & 7.659180 & 135 & 6.51 & 2502 & 0 & 1 & <2 mo. follow-up    & 1\\\\\n",
       "\\end{tabular}\n"
      ],
      "text/markdown": [
       "\n",
       "A data.frame: 6 × 47\n",
       "\n",
       "| <!--/--> | age &lt;dbl&gt; | death &lt;int&gt; | sex &lt;chr&gt; | hospdead &lt;int&gt; | slos &lt;int&gt; | d.time &lt;int&gt; | dzgroup &lt;chr&gt; | dzclass &lt;chr&gt; | num.co &lt;int&gt; | edu &lt;int&gt; | ⋯ ⋯ | crea &lt;dbl&gt; | sod &lt;dbl&gt; | ph &lt;dbl&gt; | glucose &lt;dbl&gt; | bun &lt;dbl&gt; | urine &lt;dbl&gt; | adlp &lt;dbl&gt; | adls &lt;dbl&gt; | sfdm2 &lt;chr&gt; | adlsc &lt;dbl&gt; |\n",
       "|---|---|---|---|---|---|---|---|---|---|---|---|---|---|---|---|---|---|---|---|---|---|\n",
       "| 1 | 62.84998 | 0 | male   | 0 |  5 | 2029 | Lung Cancer       | Cancer             | 0 | 11 | ⋯ | 1.1999512 | 141 | 7.459961 | 135 | 6.51 | 2502 | 7 | 7 | <!----> | 7 |\n",
       "| 2 | 60.33899 | 1 | female | 1 |  4 |    4 | Cirrhosis         | COPD/CHF/Cirrhosis | 2 | 12 | ⋯ | 5.5000000 | 132 | 7.250000 | 135 | 6.51 | 2502 | 0 | 1 | &lt;2 mo. follow-up    | 1 |\n",
       "| 3 | 52.74698 | 1 | female | 0 | 17 |   47 | Cirrhosis         | COPD/CHF/Cirrhosis | 2 | 12 | ⋯ | 2.0000000 | 134 | 7.459961 | 135 | 6.51 | 2502 | 1 | 0 | &lt;2 mo. follow-up    | 0 |\n",
       "| 4 | 42.38498 | 1 | female | 0 |  3 |  133 | Lung Cancer       | Cancer             | 2 | 11 | ⋯ | 0.7999268 | 139 | 7.419922 | 135 | 6.51 | 2502 | 0 | 0 | no(M2 and SIP pres) | 0 |\n",
       "| 5 | 79.88495 | 0 | female | 0 | 16 | 2029 | ARF/MOSF w/Sepsis | ARF/MOSF           | 1 | 12 | ⋯ | 0.7999268 | 143 | 7.509766 | 135 | 6.51 | 2502 | 0 | 2 | no(M2 and SIP pres) | 2 |\n",
       "| 6 | 93.01599 | 1 | male   | 1 |  4 |    4 | Coma              | Coma               | 1 | 14 | ⋯ | 0.6999512 | 140 | 7.659180 | 135 | 6.51 | 2502 | 0 | 1 | &lt;2 mo. follow-up    | 1 |\n",
       "\n"
      ],
      "text/plain": [
       "  age      death sex    hospdead slos d.time dzgroup          \n",
       "1 62.84998 0     male   0         5   2029   Lung Cancer      \n",
       "2 60.33899 1     female 1         4      4   Cirrhosis        \n",
       "3 52.74698 1     female 0        17     47   Cirrhosis        \n",
       "4 42.38498 1     female 0         3    133   Lung Cancer      \n",
       "5 79.88495 0     female 0        16   2029   ARF/MOSF w/Sepsis\n",
       "6 93.01599 1     male   1         4      4   Coma             \n",
       "  dzclass            num.co edu ⋯ crea      sod ph       glucose bun  urine\n",
       "1 Cancer             0      11  ⋯ 1.1999512 141 7.459961 135     6.51 2502 \n",
       "2 COPD/CHF/Cirrhosis 2      12  ⋯ 5.5000000 132 7.250000 135     6.51 2502 \n",
       "3 COPD/CHF/Cirrhosis 2      12  ⋯ 2.0000000 134 7.459961 135     6.51 2502 \n",
       "4 Cancer             2      11  ⋯ 0.7999268 139 7.419922 135     6.51 2502 \n",
       "5 ARF/MOSF           1      12  ⋯ 0.7999268 143 7.509766 135     6.51 2502 \n",
       "6 Coma               1      14  ⋯ 0.6999512 140 7.659180 135     6.51 2502 \n",
       "  adlp adls sfdm2               adlsc\n",
       "1 7    7                        7    \n",
       "2 0    1    <2 mo. follow-up    1    \n",
       "3 1    0    <2 mo. follow-up    0    \n",
       "4 0    0    no(M2 and SIP pres) 0    \n",
       "5 0    2    no(M2 and SIP pres) 2    \n",
       "6 0    1    <2 mo. follow-up    1    "
      ]
     },
     "metadata": {},
     "output_type": "display_data"
    }
   ],
   "source": [
    "data[] <- lapply(data, function(x) {\n",
    "  if (is.numeric(x)) {\n",
    "    x[is.na(x)] <- median(x, na.rm = TRUE) \n",
    "  }\n",
    "  return(x)\n",
    "})\n",
    "head(data)"
   ]
  },
  {
   "cell_type": "code",
   "execution_count": 24,
   "metadata": {
    "vscode": {
     "languageId": "r"
    }
   },
   "outputs": [
    {
     "data": {
      "text/html": [
       "<table class=\"dataframe\">\n",
       "<caption>A data.frame: 8 × 2</caption>\n",
       "<thead>\n",
       "\t<tr><th></th><th scope=col>colonne</th><th scope=col>nombre_vides</th></tr>\n",
       "\t<tr><th></th><th scope=col>&lt;chr&gt;</th><th scope=col>&lt;int&gt;</th></tr>\n",
       "</thead>\n",
       "<tbody>\n",
       "\t<tr><th scope=row>sex</th><td>sex    </td><td>   0</td></tr>\n",
       "\t<tr><th scope=row>dzgroup</th><td>dzgroup</td><td>   0</td></tr>\n",
       "\t<tr><th scope=row>dzclass</th><td>dzclass</td><td>   0</td></tr>\n",
       "\t<tr><th scope=row>income</th><td>income </td><td>2982</td></tr>\n",
       "\t<tr><th scope=row>race</th><td>race   </td><td>  42</td></tr>\n",
       "\t<tr><th scope=row>ca</th><td>ca     </td><td>   0</td></tr>\n",
       "\t<tr><th scope=row>dnr</th><td>dnr    </td><td>  30</td></tr>\n",
       "\t<tr><th scope=row>sfdm2</th><td>sfdm2  </td><td>1400</td></tr>\n",
       "</tbody>\n",
       "</table>\n"
      ],
      "text/latex": [
       "A data.frame: 8 × 2\n",
       "\\begin{tabular}{r|ll}\n",
       "  & colonne & nombre\\_vides\\\\\n",
       "  & <chr> & <int>\\\\\n",
       "\\hline\n",
       "\tsex & sex     &    0\\\\\n",
       "\tdzgroup & dzgroup &    0\\\\\n",
       "\tdzclass & dzclass &    0\\\\\n",
       "\tincome & income  & 2982\\\\\n",
       "\trace & race    &   42\\\\\n",
       "\tca & ca      &    0\\\\\n",
       "\tdnr & dnr     &   30\\\\\n",
       "\tsfdm2 & sfdm2   & 1400\\\\\n",
       "\\end{tabular}\n"
      ],
      "text/markdown": [
       "\n",
       "A data.frame: 8 × 2\n",
       "\n",
       "| <!--/--> | colonne &lt;chr&gt; | nombre_vides &lt;int&gt; |\n",
       "|---|---|---|\n",
       "| sex | sex     |    0 |\n",
       "| dzgroup | dzgroup |    0 |\n",
       "| dzclass | dzclass |    0 |\n",
       "| income | income  | 2982 |\n",
       "| race | race    |   42 |\n",
       "| ca | ca      |    0 |\n",
       "| dnr | dnr     |   30 |\n",
       "| sfdm2 | sfdm2   | 1400 |\n",
       "\n"
      ],
      "text/plain": [
       "        colonne nombre_vides\n",
       "sex     sex        0        \n",
       "dzgroup dzgroup    0        \n",
       "dzclass dzclass    0        \n",
       "income  income  2982        \n",
       "race    race      42        \n",
       "ca      ca         0        \n",
       "dnr     dnr       30        \n",
       "sfdm2   sfdm2   1400        "
      ]
     },
     "metadata": {},
     "output_type": "display_data"
    }
   ],
   "source": [
    "colonnes_chaine <- sapply(data, is.character)\n",
    "\n",
    "nombres_vides <- sapply(data[, colonnes_chaine], function(x) sum(x == \"\"))\n",
    "\n",
    "# Afficher les résultats\n",
    "resultats <- data.frame(\n",
    "  colonne = names(nombres_vides),\n",
    "  nombre_vides = nombres_vides\n",
    ")\n",
    "resultats"
   ]
  },
  {
   "cell_type": "code",
   "execution_count": 25,
   "metadata": {
    "vscode": {
     "languageId": "r"
    }
   },
   "outputs": [
    {
     "data": {
      "text/html": [
       "<table class=\"dataframe\">\n",
       "<caption>A data.frame: 7 × 2</caption>\n",
       "<thead>\n",
       "\t<tr><th></th><th scope=col>colonne</th><th scope=col>nombre_vides</th></tr>\n",
       "\t<tr><th></th><th scope=col>&lt;chr&gt;</th><th scope=col>&lt;int&gt;</th></tr>\n",
       "</thead>\n",
       "<tbody>\n",
       "\t<tr><th scope=row>sex</th><td>sex    </td><td>0</td></tr>\n",
       "\t<tr><th scope=row>dzgroup</th><td>dzgroup</td><td>0</td></tr>\n",
       "\t<tr><th scope=row>dzclass</th><td>dzclass</td><td>0</td></tr>\n",
       "\t<tr><th scope=row>race</th><td>race   </td><td>0</td></tr>\n",
       "\t<tr><th scope=row>ca</th><td>ca     </td><td>0</td></tr>\n",
       "\t<tr><th scope=row>dnr</th><td>dnr    </td><td>0</td></tr>\n",
       "\t<tr><th scope=row>sfdm2</th><td>sfdm2  </td><td>0</td></tr>\n",
       "</tbody>\n",
       "</table>\n"
      ],
      "text/latex": [
       "A data.frame: 7 × 2\n",
       "\\begin{tabular}{r|ll}\n",
       "  & colonne & nombre\\_vides\\\\\n",
       "  & <chr> & <int>\\\\\n",
       "\\hline\n",
       "\tsex & sex     & 0\\\\\n",
       "\tdzgroup & dzgroup & 0\\\\\n",
       "\tdzclass & dzclass & 0\\\\\n",
       "\trace & race    & 0\\\\\n",
       "\tca & ca      & 0\\\\\n",
       "\tdnr & dnr     & 0\\\\\n",
       "\tsfdm2 & sfdm2   & 0\\\\\n",
       "\\end{tabular}\n"
      ],
      "text/markdown": [
       "\n",
       "A data.frame: 7 × 2\n",
       "\n",
       "| <!--/--> | colonne &lt;chr&gt; | nombre_vides &lt;int&gt; |\n",
       "|---|---|---|\n",
       "| sex | sex     | 0 |\n",
       "| dzgroup | dzgroup | 0 |\n",
       "| dzclass | dzclass | 0 |\n",
       "| race | race    | 0 |\n",
       "| ca | ca      | 0 |\n",
       "| dnr | dnr     | 0 |\n",
       "| sfdm2 | sfdm2   | 0 |\n",
       "\n"
      ],
      "text/plain": [
       "        colonne nombre_vides\n",
       "sex     sex     0           \n",
       "dzgroup dzgroup 0           \n",
       "dzclass dzclass 0           \n",
       "race    race    0           \n",
       "ca      ca      0           \n",
       "dnr     dnr     0           \n",
       "sfdm2   sfdm2   0           "
      ]
     },
     "metadata": {},
     "output_type": "display_data"
    }
   ],
   "source": [
    "data <- data[, !names(data) %in% \"income\"]\n",
    "#data <- data[, !names(data) %in% \"sfdm2\"]\n",
    "data <- data[!(is.na(data$sfdm2) | data$sfdm2 == \"\"), ]\n",
    "data <- data[!(is.na(data$race) | data$race == \"\"), ]\n",
    "data <- data[!(is.na(data$dnr) | data$dnr == \"\"), ]\n",
    "\n",
    "colonnes_chaine <- sapply(data, is.character)\n",
    "\n",
    "nombres_vides <- sapply(data[, colonnes_chaine], function(x) sum(x == \"\"))\n",
    "\n",
    "# Afficher les résultats\n",
    "resultats <- data.frame(\n",
    "  colonne = names(nombres_vides),\n",
    "  nombre_vides = nombres_vides\n",
    ")\n",
    "resultats"
   ]
  },
  {
   "cell_type": "code",
   "execution_count": 26,
   "metadata": {
    "vscode": {
     "languageId": "r"
    }
   },
   "outputs": [
    {
     "data": {
      "text/html": [
       "2.33304272013949"
      ],
      "text/latex": [
       "2.33304272013949"
      ],
      "text/markdown": [
       "2.33304272013949"
      ],
      "text/plain": [
       "[1] 2.333043"
      ]
     },
     "metadata": {},
     "output_type": "display_data"
    }
   ],
   "source": [
    "A <- ifelse(data$hospdead > 0.5, 1, 0)\n",
    "A <- A[A == 1]\n",
    "B <- ifelse(data$hospdead < 0.5, 1, 0)\n",
    "B <- B[B == 1]\n",
    "\n",
    "A_t = length(A)/nrow(data)\n",
    "B_t = length(B)/nrow(data)\n",
    "\n",
    "inv_At = 1/A_t *B_t\n",
    "inv_Bt = 1\n",
    "\n",
    "inv_At"
   ]
  },
  {
   "cell_type": "code",
   "execution_count": 27,
   "metadata": {
    "vscode": {
     "languageId": "r"
    }
   },
   "outputs": [],
   "source": [
    "library(caret)\n",
    "\n",
    "set.seed(123)\n",
    "index <- createDataPartition(data$hospdead, p = 0.7, list = FALSE)\n",
    "\n",
    "train_data2 <- data[index, ]\n",
    "test_data2 <- data[-index, ]"
   ]
  },
  {
   "cell_type": "code",
   "execution_count": 28,
   "metadata": {
    "vscode": {
     "languageId": "r"
    }
   },
   "outputs": [],
   "source": [
    "weights <- ifelse(train_data2$hospdead == 1, 1, inv_At)"
   ]
  },
  {
   "cell_type": "code",
   "execution_count": 29,
   "metadata": {
    "vscode": {
     "languageId": "r"
    }
   },
   "outputs": [],
   "source": [
    "library(glmnet)\n"
   ]
  },
  {
   "cell_type": "code",
   "execution_count": 30,
   "metadata": {
    "vscode": {
     "languageId": "r"
    }
   },
   "outputs": [],
   "source": [
    "formula <- hospdead ~ . - 1\n",
    "\n",
    "x_train <- model.matrix(formula, data = train_data2)\n",
    "y_train <- train_data2$hospdead\n",
    "\n",
    "x_test <- model.matrix(formula, data = test_data2)\n",
    "y_test <- test_data2$hospdead"
   ]
  },
  {
   "cell_type": "code",
   "execution_count": 39,
   "metadata": {
    "vscode": {
     "languageId": "r"
    }
   },
   "outputs": [],
   "source": [
    "ridge_model <- glmnet(x_train, y_train, family = \"binomial\", alpha = 0)\n",
    "\n",
    "cv_ridge <- cv.glmnet(x_train, y_train, family = \"binomial\", alpha = 0)\n",
    "\n",
    "best_lambda_ridge <- cv_ridge$lambda.min\n",
    "\n",
    "final_ridge_model <- glmnet(x_train, y_train, family = \"binomial\", alpha = 0, lambda = best_lambda_ridge, weights = weights)"
   ]
  },
  {
   "cell_type": "code",
   "execution_count": 70,
   "metadata": {
    "vscode": {
     "languageId": "r"
    }
   },
   "outputs": [
    {
     "name": "stderr",
     "output_type": "stream",
     "text": [
      "Warning message:\n",
      "“from glmnet C++ code (error code -88); Convergence for 88th lambda value not reached after maxit=100000 iterations; solutions for larger lambdas returned”\n"
     ]
    }
   ],
   "source": [
    "#cv_lasso <- cv.glmnet(x_train, y_train, family = \"binomial\", alpha = 1)\n",
    "\n",
    "#best_lambda_lasso <- cv_lasso$lambda.min\n",
    "\n",
    "final_lasso_model <- glmnet(x_train, y_train, family = \"binomial\", alpha = 1)"
   ]
  },
  {
   "cell_type": "code",
   "execution_count": 68,
   "metadata": {
    "vscode": {
     "languageId": "r"
    }
   },
   "outputs": [
    {
     "data": {
      "text/plain": [
       "\n",
       "Call:  glmnet(x = x_train, y = y_train, family = \"binomial\", weights = weights,      alpha = 1, lambda = best_lambda_lasso) \n",
       "\n",
       "   Df  %Dev   Lambda\n",
       "1   0  0.00 0.181300\n",
       "2   3  6.76 0.165200\n",
       "3   3 13.37 0.150500\n",
       "4   3 18.68 0.137200\n",
       "5   3 23.05 0.125000\n",
       "6   3 26.73 0.113900\n",
       "7   4 29.90 0.103800\n",
       "8   4 33.19 0.094550\n",
       "9   5 36.14 0.086150\n",
       "10  5 38.84 0.078490\n",
       "11  5 41.26 0.071520\n",
       "12  5 43.43 0.065170\n",
       "13  5 45.40 0.059380\n",
       "14  5 47.19 0.054100\n",
       "15  6 49.03 0.049300\n",
       "16  7 50.94 0.044920\n",
       "17  7 52.65 0.040930\n",
       "18  7 54.18 0.037290\n",
       "19  7 55.57 0.033980\n",
       "20  7 56.81 0.030960\n",
       "21  8 57.96 0.028210\n",
       "22  9 59.19 0.025700\n",
       "23  9 60.30 0.023420\n",
       "24  9 61.30 0.021340\n",
       "25  9 62.18 0.019440\n",
       "26 10 63.05 0.017720\n",
       "27 11 63.82 0.016140\n",
       "28 11 64.51 0.014710\n",
       "29 12 65.13 0.013400\n",
       "30 12 65.68 0.012210\n",
       "31 12 66.18 0.011130\n",
       "32 12 66.63 0.010140\n",
       "33 14 67.03 0.009237\n",
       "34 16 67.42 0.008417\n",
       "35 17 67.79 0.007669\n",
       "36 19 68.13 0.006988\n",
       "37 22 68.48 0.006367\n",
       "38 22 68.81 0.005801\n",
       "39 22 69.12 0.005286\n",
       "40 23 69.42 0.004816\n",
       "41 23 69.69 0.004388\n",
       "42 26 69.97 0.003999\n",
       "43 27 70.24 0.003643\n",
       "44 28 70.49 0.003320\n",
       "45 29 70.73 0.003025\n",
       "46 30 70.96 0.002756\n",
       "47 31 71.19 0.002511\n",
       "48 32 71.42 0.002288\n",
       "49 34 71.68 0.002085\n",
       "50 35 71.95 0.001900\n",
       "51 36 72.24 0.001731\n",
       "52 37 72.56 0.001577\n",
       "53 36 72.93 0.001437\n",
       "54 37 73.35 0.001309\n",
       "55 37 73.82 0.001193\n",
       "56 39 74.32 0.001087\n",
       "57 39 74.83 0.000991\n",
       "58 42 75.40 0.000902\n",
       "59 43 76.04 0.000822\n",
       "60 42 76.67 0.000749\n",
       "61 41 77.29 0.000683\n",
       "62 44 77.88 0.000622\n",
       "63 45 78.42 0.000567\n",
       "64 45 78.94 0.000516\n",
       "65 48 79.45 0.000471\n",
       "66 49 79.96 0.000429\n",
       "67 49 80.45 0.000391\n",
       "68 49 80.94 0.000356\n",
       "69 50 81.43 0.000324\n",
       "70 49 81.90 0.000296\n",
       "71 50 82.37 0.000269\n",
       "72 52 82.84 0.000245\n",
       "73 53 83.29 0.000224\n",
       "74 53 83.76 0.000204\n",
       "75 52 84.22 0.000186\n",
       "76 55 84.68 0.000169\n",
       "77 53 85.14 0.000154\n",
       "78 54 85.59 0.000140\n",
       "79 54 86.04 0.000128\n",
       "80 53 86.48 0.000117\n",
       "81 51 86.91 0.000106"
      ]
     },
     "metadata": {},
     "output_type": "display_data"
    }
   ],
   "source": [
    "final_lasso_model"
   ]
  },
  {
   "cell_type": "code",
   "execution_count": 72,
   "metadata": {
    "vscode": {
     "languageId": "r"
    }
   },
   "outputs": [
    {
     "name": "stderr",
     "output_type": "stream",
     "text": [
      "Warning message:\n",
      "“from glmnet C++ code (error code -82); Convergence for 82th lambda value not reached after maxit=100000 iterations; solutions for larger lambdas returned”\n"
     ]
    }
   ],
   "source": [
    "best_lambda_lasso <- final_lasso_model$lambda.min\n",
    "arg_min <- which.min(final_lasso_model$lambda)\n",
    "\n",
    "final_lasso_model <- glmnet(x_train, y_train, family = \"binomial\", alpha = 1, lambda = best_lambda_lasso, weights = weights)"
   ]
  },
  {
   "cell_type": "code",
   "execution_count": 79,
   "metadata": {
    "vscode": {
     "languageId": "r"
    }
   },
   "outputs": [
    {
     "data": {
      "text/html": [
       "87"
      ],
      "text/latex": [
       "87"
      ],
      "text/markdown": [
       "87"
      ],
      "text/plain": [
       "[1] 87"
      ]
     },
     "metadata": {},
     "output_type": "display_data"
    }
   ],
   "source": [
    "arg_min"
   ]
  },
  {
   "cell_type": "code",
   "execution_count": 40,
   "metadata": {
    "vscode": {
     "languageId": "r"
    }
   },
   "outputs": [],
   "source": [
    "ridge_preds <- predict(final_ridge_model, s = best_lambda_ridge, newx = x_test, type = \"response\")\n",
    "ridge_classes <- ifelse(ridge_preds > 0.5, 1, 0)\n",
    "\n",
    "conf_matrix_ridge <- table(Actual = y_test, Predicted = ridge_classes)"
   ]
  },
  {
   "cell_type": "code",
   "execution_count": 41,
   "metadata": {
    "vscode": {
     "languageId": "r"
    }
   },
   "outputs": [
    {
     "name": "stdout",
     "output_type": "stream",
     "text": [
      "[1] \"Confusion Matrix for Ridge:\"\n",
      "      Predicted\n",
      "Actual    0    1\n",
      "     0 1576   38\n",
      "     1  188  491\n",
      "[1] \"Accuracy for Ridge: 0.901439162668993\"\n"
     ]
    }
   ],
   "source": [
    "print(\"Confusion Matrix for Ridge:\")\n",
    "print(conf_matrix_ridge)\n",
    "\n",
    "accuracy_ridge <- sum(diag(conf_matrix_ridge)) / sum(conf_matrix_ridge)\n",
    "\n",
    "print(paste(\"Accuracy for Ridge:\", accuracy_ridge))"
   ]
  },
  {
   "cell_type": "code",
   "execution_count": 77,
   "metadata": {
    "vscode": {
     "languageId": "r"
    }
   },
   "outputs": [
    {
     "ename": "ERROR",
     "evalue": "Error in UseMethod(\"predict\"): pas de méthode pour 'predict' applicable pour un objet de classe \"NULL\"\n",
     "output_type": "error",
     "traceback": [
      "Error in UseMethod(\"predict\"): pas de méthode pour 'predict' applicable pour un objet de classe \"NULL\"\nTraceback:\n",
      "1. predict.list(final_lasso_model[arg_min], s = best_lambda_lasso, \n .     newx = x_test, type = \"response\")",
      "2. lapply(object, predict, ... = ...)",
      "3. FUN(X[[i]], ...)",
      "4. .handleSimpleError(function (cnd) \n . {\n .     watcher$capture_plot_and_output()\n .     cnd <- sanitize_call(cnd)\n .     watcher$push(cnd)\n .     switch(on_error, continue = invokeRestart(\"eval_continue\"), \n .         stop = invokeRestart(\"eval_stop\"), error = invokeRestart(\"eval_error\", \n .             cnd))\n . }, \"pas de méthode pour 'predict' applicable pour un objet de classe \\\"NULL\\\"\", \n .     base::quote(UseMethod(\"predict\")))"
     ]
    }
   ],
   "source": [
    "lasso_preds <- predict(final_lasso_model[arg_min], s = best_lambda_lasso, newx = x_test, type = \"response\")\n",
    "lasso_classes <- ifelse(lasso_preds > 0.5, 1, 0)\n",
    "\n",
    "conf_matrix_lasso <- table(Actual = y_test, Predicted = lasso_classes)"
   ]
  },
  {
   "cell_type": "code",
   "execution_count": 75,
   "metadata": {
    "vscode": {
     "languageId": "r"
    }
   },
   "outputs": [
    {
     "data": {
      "text/html": [
       "2293"
      ],
      "text/latex": [
       "2293"
      ],
      "text/markdown": [
       "2293"
      ],
      "text/plain": [
       "[1] 2293"
      ]
     },
     "metadata": {},
     "output_type": "display_data"
    }
   ],
   "source": [
    "length(y_test)"
   ]
  },
  {
   "cell_type": "code",
   "execution_count": 76,
   "metadata": {
    "vscode": {
     "languageId": "r"
    }
   },
   "outputs": [
    {
     "data": {
      "text/html": [
       "185733"
      ],
      "text/latex": [
       "185733"
      ],
      "text/markdown": [
       "185733"
      ],
      "text/plain": [
       "[1] 185733"
      ]
     },
     "metadata": {},
     "output_type": "display_data"
    }
   ],
   "source": [
    "length(lasso_classes)"
   ]
  },
  {
   "cell_type": "code",
   "execution_count": 67,
   "metadata": {
    "vscode": {
     "languageId": "r"
    }
   },
   "outputs": [
    {
     "data": {
      "text/html": [
       "<table class=\"dataframe\">\n",
       "<caption>A matrix: 2293 × 81 of type dbl</caption>\n",
       "<thead>\n",
       "\t<tr><th></th><th scope=col>s0</th><th scope=col>s1</th><th scope=col>s2</th><th scope=col>s3</th><th scope=col>s4</th><th scope=col>s5</th><th scope=col>s6</th><th scope=col>s7</th><th scope=col>s8</th><th scope=col>s9</th><th scope=col>⋯</th><th scope=col>s71</th><th scope=col>s72</th><th scope=col>s73</th><th scope=col>s74</th><th scope=col>s75</th><th scope=col>s76</th><th scope=col>s77</th><th scope=col>s78</th><th scope=col>s79</th><th scope=col>s80</th></tr>\n",
       "</thead>\n",
       "<tbody>\n",
       "\t<tr><th scope=row>5</th><td>0.1562513</td><td>0.1516469</td><td>0.1422986</td><td>0.13319000</td><td>0.12446573</td><td>0.11619354</td><td>0.10727731</td><td>0.08825831</td><td>0.07193419</td><td>0.05804534</td><td>⋯</td><td>9.549713e-124</td><td>1.419638e-134</td><td>8.168105e-147</td><td>9.093178e-160</td><td>9.288869e-174</td><td>6.744672e-189</td><td>3.034610e-205</td><td>1.223796e-222</td><td>3.547452e-241</td><td>9.490362e-261</td></tr>\n",
       "\t<tr><th scope=row>6</th><td>0.1562513</td><td>0.1597167</td><td>0.1471345</td><td>0.13541595</td><td>0.12457252</td><td>0.11457480</td><td>0.10575651</td><td>0.10147396</td><td>0.09808927</td><td>0.09606796</td><td>⋯</td><td> 1.957542e-01</td><td> 2.047436e-01</td><td> 2.149876e-01</td><td> 2.255423e-01</td><td> 2.365106e-01</td><td> 2.484357e-01</td><td> 2.614184e-01</td><td> 2.751790e-01</td><td> 2.902739e-01</td><td> 3.060290e-01</td></tr>\n",
       "\t<tr><th scope=row>12</th><td>0.1562513</td><td>0.1550046</td><td>0.1560927</td><td>0.15579073</td><td>0.15449947</td><td>0.15248097</td><td>0.15022835</td><td>0.15080215</td><td>0.15154883</td><td>0.15305332</td><td>⋯</td><td> 3.966627e-01</td><td> 4.104588e-01</td><td> 4.247428e-01</td><td> 4.392848e-01</td><td> 4.536090e-01</td><td> 4.681350e-01</td><td> 4.829934e-01</td><td> 4.974782e-01</td><td> 5.113902e-01</td><td> 5.245708e-01</td></tr>\n",
       "\t<tr><th scope=row>13</th><td>0.1562513</td><td>0.1376618</td><td>0.1186057</td><td>0.10275401</td><td>0.08939490</td><td>0.07803077</td><td>0.06861491</td><td>0.06351545</td><td>0.05848599</td><td>0.05312680</td><td>⋯</td><td> 2.181335e-10</td><td> 3.483275e-11</td><td> 4.368368e-12</td><td> 4.791735e-13</td><td> 4.386179e-14</td><td> 3.271773e-15</td><td> 1.962449e-16</td><td> 9.750187e-18</td><td> 3.919788e-19</td><td> 1.302022e-20</td></tr>\n",
       "\t<tr><th scope=row>15</th><td>0.1562513</td><td>0.1638022</td><td>0.1701025</td><td>0.17420551</td><td>0.17674000</td><td>0.17813338</td><td>0.17694345</td><td>0.15726322</td><td>0.14000641</td><td>0.12657286</td><td>⋯</td><td>1.399053e-115</td><td>8.104962e-126</td><td>2.161391e-137</td><td>1.242671e-149</td><td>7.411358e-163</td><td>3.633205e-177</td><td>1.291859e-192</td><td>4.713358e-209</td><td>1.429433e-226</td><td>4.581509e-245</td></tr>\n",
       "\t<tr><th scope=row>18</th><td>0.1562513</td><td>0.1979581</td><td>0.2454830</td><td>0.29118188</td><td>0.33469302</td><td>0.37587751</td><td>0.41474887</td><td>0.45172668</td><td>0.48615822</td><td>0.51779996</td><td>⋯</td><td> 9.898658e-01</td><td> 9.903218e-01</td><td> 9.907797e-01</td><td> 9.911947e-01</td><td> 9.916244e-01</td><td> 9.920352e-01</td><td> 9.924275e-01</td><td> 9.928076e-01</td><td> 9.932046e-01</td><td> 9.935827e-01</td></tr>\n",
       "\t<tr><th scope=row>19</th><td>0.1562513</td><td>0.1559960</td><td>0.1586003</td><td>0.15963184</td><td>0.15952259</td><td>0.15855780</td><td>0.15725656</td><td>0.15879162</td><td>0.16043795</td><td>0.16279594</td><td>⋯</td><td> 4.771358e-01</td><td> 4.916760e-01</td><td> 5.071983e-01</td><td> 5.233326e-01</td><td> 5.392083e-01</td><td> 5.555159e-01</td><td> 5.723862e-01</td><td> 5.891295e-01</td><td> 6.040462e-01</td><td> 6.178253e-01</td></tr>\n",
       "\t<tr><th scope=row>21</th><td>0.1562513</td><td>0.1369620</td><td>0.1176889</td><td>0.10171402</td><td>0.08829319</td><td>0.07690858</td><td>0.06746440</td><td>0.06199887</td><td>0.05668739</td><td>0.05115853</td><td>⋯</td><td> 8.105366e-15</td><td> 5.694890e-16</td><td> 2.831644e-17</td><td> 1.159729e-18</td><td> 3.668751e-20</td><td> 8.660394e-22</td><td> 1.497814e-23</td><td> 1.987315e-25</td><td> 1.978841e-27</td><td> 1.513800e-29</td></tr>\n",
       "\t<tr><th scope=row>22</th><td>0.1562513</td><td>0.1645466</td><td>0.1714622</td><td>0.17632018</td><td>0.17963769</td><td>0.18176301</td><td>0.18316543</td><td>0.18617882</td><td>0.18913192</td><td>0.19260723</td><td>⋯</td><td> 2.978690e-01</td><td> 2.898263e-01</td><td> 2.791174e-01</td><td> 2.691188e-01</td><td> 2.581122e-01</td><td> 2.465403e-01</td><td> 2.343562e-01</td><td> 2.206535e-01</td><td> 2.053502e-01</td><td> 1.891824e-01</td></tr>\n",
       "\t<tr><th scope=row>26</th><td>0.1562513</td><td>0.1462462</td><td>0.1431229</td><td>0.13928561</td><td>0.13499469</td><td>0.13041528</td><td>0.12505083</td><td>0.11338246</td><td>0.10155910</td><td>0.08925503</td><td>⋯</td><td> 1.102319e-65</td><td> 2.275018e-71</td><td> 8.616399e-78</td><td> 1.347346e-84</td><td> 6.088247e-92</td><td>6.829089e-100</td><td>1.756474e-108</td><td>1.272904e-117</td><td>2.318657e-127</td><td>1.206868e-137</td></tr>\n",
       "\t<tr><th scope=row>30</th><td>0.1562513</td><td>0.1461723</td><td>0.1362323</td><td>0.12674516</td><td>0.11779274</td><td>0.10940215</td><td>0.10058633</td><td>0.08300772</td><td>0.06900590</td><td>0.05876855</td><td>⋯</td><td>1.645263e-116</td><td>9.518761e-127</td><td>2.553876e-138</td><td>1.440046e-150</td><td>8.529671e-164</td><td>4.124374e-178</td><td>1.420731e-193</td><td>4.985416e-210</td><td>1.443028e-227</td><td>4.362399e-246</td></tr>\n",
       "\t<tr><th scope=row>33</th><td>0.1562513</td><td>0.1552561</td><td>0.1585042</td><td>0.16011990</td><td>0.16054234</td><td>0.16006303</td><td>0.15918954</td><td>0.16093120</td><td>0.16275926</td><td>0.16530867</td><td>⋯</td><td> 2.417557e-03</td><td> 1.452606e-03</td><td> 8.131515e-04</td><td> 4.369916e-04</td><td> 2.250574e-04</td><td> 1.087705e-04</td><td> 4.930802e-05</td><td> 2.114594e-05</td><td> 8.548064e-06</td><td> 3.276168e-06</td></tr>\n",
       "\t<tr><th scope=row>38</th><td>0.1562513</td><td>0.1369133</td><td>0.1192261</td><td>0.10430847</td><td>0.09158070</td><td>0.08063191</td><td>0.07130384</td><td>0.06451893</td><td>0.05805989</td><td>0.05161510</td><td>⋯</td><td> 3.183523e-32</td><td> 5.872293e-35</td><td> 4.773507e-38</td><td> 2.522193e-41</td><td> 7.307940e-45</td><td> 1.078379e-48</td><td> 7.806292e-53</td><td> 3.058201e-57</td><td> 6.156508e-62</td><td> 6.760295e-67</td></tr>\n",
       "\t<tr><th scope=row>39</th><td>0.1562513</td><td>0.1406736</td><td>0.1281457</td><td>0.11679552</td><td>0.10650848</td><td>0.09718030</td><td>0.08788828</td><td>0.07166919</td><td>0.05895749</td><td>0.04978802</td><td>⋯</td><td>2.638012e-121</td><td>6.340122e-132</td><td>6.352955e-144</td><td>1.236745e-156</td><td>2.354322e-170</td><td>3.331066e-185</td><td>3.041777e-201</td><td>2.607725e-218</td><td>1.692808e-236</td><td>1.056952e-255</td></tr>\n",
       "\t<tr><th scope=row>44</th><td>0.1562513</td><td>0.1443691</td><td>0.1352312</td><td>0.12639177</td><td>0.11796582</td><td>0.11000455</td><td>0.10156566</td><td>0.08447524</td><td>0.06963246</td><td>0.05686283</td><td>⋯</td><td>1.142816e-121</td><td>2.400728e-132</td><td>2.044173e-144</td><td>3.421081e-157</td><td>5.494777e-171</td><td>6.503773e-186</td><td>4.924816e-202</td><td>3.451450e-219</td><td>1.806963e-237</td><td>9.026932e-257</td></tr>\n",
       "\t<tr><th scope=row>52</th><td>0.1562513</td><td>0.1405309</td><td>0.1239404</td><td>0.10968481</td><td>0.09732626</td><td>0.08654429</td><td>0.07743883</td><td>0.07274479</td><td>0.06790083</td><td>0.06243789</td><td>⋯</td><td> 4.170342e-09</td><td> 8.283221e-10</td><td> 1.325872e-10</td><td> 1.895189e-11</td><td> 2.301989e-12</td><td> 2.338180e-13</td><td> 1.971366e-14</td><td> 1.412165e-15</td><td> 8.493991e-17</td><td> 4.350414e-18</td></tr>\n",
       "\t<tr><th scope=row>54</th><td>0.1562513</td><td>0.1488810</td><td>0.1365118</td><td>0.12513580</td><td>0.11470623</td><td>0.10516008</td><td>0.09651572</td><td>0.08937231</td><td>0.08211469</td><td>0.07429540</td><td>⋯</td><td> 3.345448e-33</td><td> 5.361315e-36</td><td> 3.679345e-39</td><td> 1.656034e-42</td><td> 3.969793e-46</td><td> 4.783476e-50</td><td> 2.809472e-54</td><td> 8.783391e-59</td><td> 1.379260e-63</td><td> 1.161433e-68</td></tr>\n",
       "\t<tr><th scope=row>56</th><td>0.1562513</td><td>0.1373867</td><td>0.1185118</td><td>0.10278751</td><td>0.08951792</td><td>0.07821595</td><td>0.06786230</td><td>0.05301102</td><td>0.04121487</td><td>0.03192178</td><td>⋯</td><td>2.888036e-122</td><td>6.439477e-133</td><td>5.876617e-145</td><td>1.054580e-157</td><td>1.809157e-171</td><td>2.292764e-186</td><td>1.872219e-202</td><td>1.424615e-219</td><td>8.174830e-238</td><td>4.506752e-257</td></tr>\n",
       "\t<tr><th scope=row>59</th><td>0.1562513</td><td>0.1593705</td><td>0.1616275</td><td>0.16231488</td><td>0.16187162</td><td>0.16058579</td><td>0.15892808</td><td>0.15961232</td><td>0.16042921</td><td>0.16194050</td><td>⋯</td><td> 4.868014e-01</td><td> 5.031259e-01</td><td> 5.198162e-01</td><td> 5.349778e-01</td><td> 5.493503e-01</td><td> 5.627585e-01</td><td> 5.751474e-01</td><td> 5.870008e-01</td><td> 5.982057e-01</td><td> 6.086405e-01</td></tr>\n",
       "\t<tr><th scope=row>65</th><td>0.1562513</td><td>0.1585329</td><td>0.1554498</td><td>0.15134272</td><td>0.14664251</td><td>0.14161812</td><td>0.13678468</td><td>0.13538613</td><td>0.13255664</td><td>0.12720851</td><td>⋯</td><td> 8.210721e-15</td><td> 4.663862e-16</td><td> 1.809725e-17</td><td> 5.799287e-19</td><td> 1.403521e-20</td><td> 2.495842e-22</td><td> 3.203970e-24</td><td> 3.094312e-26</td><td> 2.192931e-28</td><td> 1.173690e-30</td></tr>\n",
       "\t<tr><th scope=row>66</th><td>0.1562513</td><td>0.1720564</td><td>0.1821629</td><td>0.18991189</td><td>0.19586948</td><td>0.20042249</td><td>0.20387302</td><td>0.20669314</td><td>0.20931260</td><td>0.21231948</td><td>⋯</td><td> 7.437434e-07</td><td> 2.435922e-07</td><td> 6.840464e-08</td><td> 1.753635e-08</td><td> 4.008927e-09</td><td> 8.021053e-10</td><td> 1.396196e-10</td><td> 2.157417e-11</td><td> 2.933386e-12</td><td> 3.534354e-13</td></tr>\n",
       "\t<tr><th scope=row>67</th><td>0.1562513</td><td>0.1429659</td><td>0.1298984</td><td>0.11810908</td><td>0.10746243</td><td>0.09783854</td><td>0.08960948</td><td>0.08689700</td><td>0.08494058</td><td>0.08427972</td><td>⋯</td><td> 7.071704e-03</td><td> 5.025213e-03</td><td> 3.393909e-03</td><td> 2.231428e-03</td><td> 1.413646e-03</td><td> 8.595324e-04</td><td> 5.001901e-04</td><td> 2.797207e-04</td><td> 1.502394e-04</td><td> 7.762614e-05</td></tr>\n",
       "\t<tr><th scope=row>69</th><td>0.1562513</td><td>0.1361046</td><td>0.1165686</td><td>0.10044631</td><td>0.08695352</td><td>0.07554715</td><td>0.06608093</td><td>0.06027813</td><td>0.05471796</td><td>0.04905520</td><td>⋯</td><td> 1.113240e-18</td><td> 3.549966e-20</td><td> 7.248857e-22</td><td> 1.147744e-23</td><td> 1.306391e-25</td><td> 1.011307e-27</td><td> 5.214416e-30</td><td> 1.905482e-32</td><td> 4.786201e-35</td><td> 8.533735e-38</td></tr>\n",
       "\t<tr><th scope=row>70</th><td>0.1562513</td><td>0.1567810</td><td>0.1538414</td><td>0.14987520</td><td>0.14530972</td><td>0.14041264</td><td>0.13402720</td><td>0.11452927</td><td>0.09829905</td><td>0.08603316</td><td>⋯</td><td>2.261060e-119</td><td>7.577218e-130</td><td>1.085900e-141</td><td>3.148443e-154</td><td>9.027958e-168</td><td>1.991287e-182</td><td>2.957847e-198</td><td>4.240727e-215</td><td>4.750910e-233</td><td>5.285616e-252</td></tr>\n",
       "\t<tr><th scope=row>72</th><td>0.1562513</td><td>0.1367737</td><td>0.1154703</td><td>0.09819262</td><td>0.08395930</td><td>0.07210017</td><td>0.06225074</td><td>0.05493709</td><td>0.04829136</td><td>0.04200479</td><td>⋯</td><td> 5.422412e-32</td><td> 1.195681e-34</td><td> 1.185225e-37</td><td> 7.751664e-41</td><td> 2.809246e-44</td><td> 5.276491e-48</td><td> 4.963919e-52</td><td> 2.564066e-56</td><td> 6.888357e-61</td><td> 1.022602e-65</td></tr>\n",
       "\t<tr><th scope=row>83</th><td>0.1562513</td><td>0.1424340</td><td>0.1304673</td><td>0.11950282</td><td>0.10947603</td><td>0.10031576</td><td>0.09244849</td><td>0.09022211</td><td>0.08871244</td><td>0.08850225</td><td>⋯</td><td> 1.520973e-03</td><td> 9.464728e-04</td><td> 5.528428e-04</td><td> 3.084794e-04</td><td> 1.639358e-04</td><td> 8.201776e-05</td><td> 3.844288e-05</td><td> 1.707418e-05</td><td> 7.180130e-06</td><td> 2.862019e-06</td></tr>\n",
       "\t<tr><th scope=row>84</th><td>0.1562513</td><td>0.1413282</td><td>0.1258505</td><td>0.11235606</td><td>0.10051090</td><td>0.09006292</td><td>0.08125195</td><td>0.07771373</td><td>0.07500849</td><td>0.07359420</td><td>⋯</td><td> 6.757060e-01</td><td> 7.005076e-01</td><td> 7.259270e-01</td><td> 7.493209e-01</td><td> 7.743334e-01</td><td> 7.974573e-01</td><td> 8.185902e-01</td><td> 8.379748e-01</td><td> 8.554650e-01</td><td> 8.709461e-01</td></tr>\n",
       "\t<tr><th scope=row>92</th><td>0.1562513</td><td>0.1734711</td><td>0.1775634</td><td>0.17954652</td><td>0.18007013</td><td>0.17956403</td><td>0.17884798</td><td>0.18324217</td><td>0.18801016</td><td>0.19391452</td><td>⋯</td><td> 5.784453e-01</td><td> 5.945640e-01</td><td> 6.117203e-01</td><td> 6.279662e-01</td><td> 6.449207e-01</td><td> 6.618872e-01</td><td> 6.783227e-01</td><td> 6.942275e-01</td><td> 7.100116e-01</td><td> 7.248453e-01</td></tr>\n",
       "\t<tr><th scope=row>93</th><td>0.1562513</td><td>0.1462927</td><td>0.1413198</td><td>0.13594418</td><td>0.13036189</td><td>0.12469325</td><td>0.11933166</td><td>0.11718128</td><td>0.11545177</td><td>0.11467494</td><td>⋯</td><td> 1.962646e-02</td><td> 1.533082e-02</td><td> 1.159407e-02</td><td> 8.457536e-03</td><td> 6.009566e-03</td><td> 4.108115e-03</td><td> 2.690114e-03</td><td> 1.705664e-03</td><td> 1.043845e-03</td><td> 6.176619e-04</td></tr>\n",
       "\t<tr><th scope=row>98</th><td>0.1562513</td><td>0.1364865</td><td>0.1186615</td><td>0.10366209</td><td>0.09088985</td><td>0.07992212</td><td>0.07057172</td><td>0.06357276</td><td>0.05696025</td><td>0.05043469</td><td>⋯</td><td> 9.152985e-35</td><td> 1.097296e-37</td><td> 5.530254e-41</td><td> 1.736436e-44</td><td> 2.878676e-48</td><td> 2.299895e-52</td><td> 8.504873e-57</td><td> 1.631161e-61</td><td> 1.531644e-66</td><td> 7.500160e-72</td></tr>\n",
       "\t<tr><th scope=row>⋮</th><td>⋮</td><td>⋮</td><td>⋮</td><td>⋮</td><td>⋮</td><td>⋮</td><td>⋮</td><td>⋮</td><td>⋮</td><td>⋮</td><td>⋱</td><td>⋮</td><td>⋮</td><td>⋮</td><td>⋮</td><td>⋮</td><td>⋮</td><td>⋮</td><td>⋮</td><td>⋮</td><td>⋮</td></tr>\n",
       "\t<tr><th scope=row>9015</th><td>0.1562513</td><td>0.1351007</td><td>0.1160454</td><td>0.10026634</td><td>0.08701925</td><td>0.07578784</td><td>0.06637352</td><td>0.05989901</td><td>0.05379264</td><td>0.04774772</td><td>⋯</td><td>9.929947e-29</td><td>4.038384e-31</td><td>8.071455e-34</td><td>1.095262e-36</td><td>8.781561e-40</td><td>3.880279e-43</td><td>9.139556e-47</td><td>1.255359e-50</td><td>9.602296e-55</td><td>4.305629e-59</td></tr>\n",
       "\t<tr><th scope=row>9018</th><td>0.1562513</td><td>0.1485045</td><td>0.1362156</td><td>0.12490632</td><td>0.11453227</td><td>0.10503253</td><td>0.09649434</td><td>0.09011821</td><td>0.08350360</td><td>0.07616205</td><td>⋯</td><td>1.575088e-27</td><td>7.459658e-30</td><td>1.737006e-32</td><td>2.845741e-35</td><td>2.751583e-38</td><td>1.494938e-41</td><td>4.444643e-45</td><td>7.787602e-49</td><td>7.662897e-53</td><td>4.482073e-57</td></tr>\n",
       "\t<tr><th scope=row>9020</th><td>0.1562513</td><td>0.1575632</td><td>0.1554926</td><td>0.15225329</td><td>0.14830115</td><td>0.14392473</td><td>0.13949126</td><td>0.13668751</td><td>0.13449351</td><td>0.13382260</td><td>⋯</td><td>2.877326e-22</td><td>3.849679e-24</td><td>2.923481e-26</td><td>1.661751e-28</td><td>6.233209e-31</td><td>1.474152e-33</td><td>2.141340e-36</td><td>2.038957e-39</td><td>1.225158e-42</td><td>4.841763e-46</td></tr>\n",
       "\t<tr><th scope=row>9021</th><td>0.1562513</td><td>0.1486053</td><td>0.1461070</td><td>0.14277248</td><td>0.13889027</td><td>0.13464425</td><td>0.13008865</td><td>0.12455038</td><td>0.11778156</td><td>0.10896847</td><td>⋯</td><td>1.176201e-27</td><td>5.391017e-30</td><td>1.228291e-32</td><td>1.929330e-35</td><td>1.814306e-38</td><td>9.558021e-42</td><td>2.725687e-45</td><td>4.592989e-49</td><td>4.365380e-53</td><td>2.464961e-57</td></tr>\n",
       "\t<tr><th scope=row>9022</th><td>0.1562513</td><td>0.1453574</td><td>0.1390474</td><td>0.13259198</td><td>0.12612941</td><td>0.11974089</td><td>0.11366889</td><td>0.10962145</td><td>0.10450786</td><td>0.09746443</td><td>⋯</td><td>1.404966e-10</td><td>2.183633e-11</td><td>2.673768e-12</td><td>2.837663e-13</td><td>2.532598e-14</td><td>1.835629e-15</td><td>1.062947e-16</td><td>5.111300e-18</td><td>2.008261e-19</td><td>6.557464e-21</td></tr>\n",
       "\t<tr><th scope=row>9025</th><td>0.1562513</td><td>0.1711020</td><td>0.1858416</td><td>0.19805373</td><td>0.20829021</td><td>0.21694309</td><td>0.22391011</td><td>0.22550960</td><td>0.22669615</td><td>0.22836793</td><td>⋯</td><td>2.408506e-25</td><td>1.907841e-27</td><td>7.962418e-30</td><td>2.387655e-32</td><td>4.458825e-35</td><td>4.935556e-38</td><td>3.147085e-41</td><td>1.242088e-44</td><td>2.904213e-48</td><td>4.230980e-52</td></tr>\n",
       "\t<tr><th scope=row>9031</th><td>0.1562513</td><td>0.1332721</td><td>0.1117452</td><td>0.09444345</td><td>0.08030222</td><td>0.06860229</td><td>0.05899985</td><td>0.05241338</td><td>0.04639018</td><td>0.04063707</td><td>⋯</td><td>1.099807e-27</td><td>5.746814e-30</td><td>1.517663e-32</td><td>2.769675e-35</td><td>3.050610e-38</td><td>1.898176e-41</td><td>6.461265e-45</td><td>1.310672e-48</td><td>1.514675e-52</td><td>1.048189e-56</td></tr>\n",
       "\t<tr><th scope=row>9032</th><td>0.1562513</td><td>0.1689738</td><td>0.1744696</td><td>0.17777461</td><td>0.17953486</td><td>0.18018414</td><td>0.18012557</td><td>0.18047054</td><td>0.18113125</td><td>0.18316542</td><td>⋯</td><td>5.439846e-24</td><td>4.667498e-26</td><td>2.120997e-28</td><td>7.081584e-31</td><td>1.484918e-33</td><td>1.872233e-36</td><td>1.387133e-39</td><td>6.417501e-43</td><td>1.771114e-46</td><td>3.072710e-50</td></tr>\n",
       "\t<tr><th scope=row>9033</th><td>0.1562513</td><td>0.1493130</td><td>0.1476293</td><td>0.14498064</td><td>0.14168137</td><td>0.13793358</td><td>0.13380957</td><td>0.12868730</td><td>0.12221330</td><td>0.11351989</td><td>⋯</td><td>5.394247e-27</td><td>2.736296e-29</td><td>6.988430e-32</td><td>1.238600e-34</td><td>1.326552e-37</td><td>8.039059e-41</td><td>2.667264e-44</td><td>5.281603e-48</td><td>5.960580e-52</td><td>4.035662e-56</td></tr>\n",
       "\t<tr><th scope=row>9037</th><td>0.1562513</td><td>0.1468239</td><td>0.1290770</td><td>0.11387318</td><td>0.10073330</td><td>0.08930487</td><td>0.07963432</td><td>0.07419818</td><td>0.06870889</td><td>0.06265478</td><td>⋯</td><td>1.077202e-07</td><td>3.282817e-08</td><td>8.470893e-09</td><td>2.020912e-09</td><td>4.247353e-10</td><td>7.805332e-11</td><td>1.248796e-11</td><td>1.764901e-12</td><td>2.185901e-13</td><td>2.401745e-14</td></tr>\n",
       "\t<tr><th scope=row>9038</th><td>0.1562513</td><td>0.1719824</td><td>0.1903241</td><td>0.20607849</td><td>0.21976779</td><td>0.23177619</td><td>0.24264900</td><td>0.25515010</td><td>0.26717545</td><td>0.27923101</td><td>⋯</td><td>7.483531e-01</td><td>7.572229e-01</td><td>7.652500e-01</td><td>7.741593e-01</td><td>7.817068e-01</td><td>7.889648e-01</td><td>7.962685e-01</td><td>8.031517e-01</td><td>8.094365e-01</td><td>8.153535e-01</td></tr>\n",
       "\t<tr><th scope=row>9039</th><td>0.1562513</td><td>0.1473537</td><td>0.1313817</td><td>0.11740790</td><td>0.10511126</td><td>0.09424431</td><td>0.08500663</td><td>0.08067983</td><td>0.07727438</td><td>0.07520540</td><td>⋯</td><td>3.443162e-02</td><td>3.194803e-02</td><td>2.897657e-02</td><td>2.626908e-02</td><td>2.330060e-02</td><td>2.039709e-02</td><td>1.766073e-02</td><td>1.502168e-02</td><td>1.252570e-02</td><td>1.026924e-02</td></tr>\n",
       "\t<tr><th scope=row>9040</th><td>0.1562513</td><td>0.1478193</td><td>0.1444792</td><td>0.14044346</td><td>0.13597130</td><td>0.13122644</td><td>0.12626899</td><td>0.12060910</td><td>0.11381034</td><td>0.10508851</td><td>⋯</td><td>7.926192e-27</td><td>4.428290e-29</td><td>1.260322e-31</td><td>2.512964e-34</td><td>3.058204e-37</td><td>2.138708e-40</td><td>8.299831e-44</td><td>1.940361e-47</td><td>2.610597e-51</td><td>2.128506e-55</td></tr>\n",
       "\t<tr><th scope=row>9043</th><td>0.1562513</td><td>0.1580930</td><td>0.1602210</td><td>0.16080682</td><td>0.16028237</td><td>0.15893121</td><td>0.15718306</td><td>0.15736774</td><td>0.15769713</td><td>0.15876790</td><td>⋯</td><td>7.505444e-04</td><td>4.436748e-04</td><td>2.452930e-04</td><td>1.308608e-04</td><td>6.646850e-05</td><td>3.189768e-05</td><td>1.438957e-05</td><td>6.155201e-06</td><td>2.469327e-06</td><td>9.358484e-07</td></tr>\n",
       "\t<tr><th scope=row>9048</th><td>0.1562513</td><td>0.1448266</td><td>0.1333461</td><td>0.12270596</td><td>0.11288871</td><td>0.10385396</td><td>0.09577393</td><td>0.09046968</td><td>0.08612516</td><td>0.08334138</td><td>⋯</td><td>8.279477e-23</td><td>1.105896e-24</td><td>8.409432e-27</td><td>4.764582e-29</td><td>1.787547e-31</td><td>4.225243e-34</td><td>6.128767e-37</td><td>5.821642e-40</td><td>3.483450e-43</td><td>1.369447e-46</td></tr>\n",
       "\t<tr><th scope=row>9049</th><td>0.1562513</td><td>0.1381295</td><td>0.1198249</td><td>0.10446034</td><td>0.09140813</td><td>0.08022490</td><td>0.07076692</td><td>0.06426504</td><td>0.05804837</td><td>0.05177855</td><td>⋯</td><td>2.030856e-26</td><td>1.301172e-28</td><td>4.332494e-31</td><td>1.016826e-33</td><td>1.468343e-36</td><td>1.229021e-39</td><td>5.787487e-43</td><td>1.663361e-46</td><td>2.794148e-50</td><td>2.874590e-54</td></tr>\n",
       "\t<tr><th scope=row>9051</th><td>0.1562513</td><td>0.1812417</td><td>0.2121808</td><td>0.24067609</td><td>0.26702212</td><td>0.29149004</td><td>0.31457587</td><td>0.33909814</td><td>0.36258418</td><td>0.38523137</td><td>⋯</td><td>8.836537e-01</td><td>8.834799e-01</td><td>8.830593e-01</td><td>8.834876e-01</td><td>8.838889e-01</td><td>8.843725e-01</td><td>8.851901e-01</td><td>8.859533e-01</td><td>8.862919e-01</td><td>8.866561e-01</td></tr>\n",
       "\t<tr><th scope=row>9055</th><td>0.1562513</td><td>0.1753438</td><td>0.2075342</td><td>0.23756844</td><td>0.26563658</td><td>0.29194014</td><td>0.31708938</td><td>0.34544335</td><td>0.37279993</td><td>0.39935612</td><td>⋯</td><td>9.073498e-01</td><td>9.094019e-01</td><td>9.113713e-01</td><td>9.132930e-01</td><td>9.149945e-01</td><td>9.166990e-01</td><td>9.183868e-01</td><td>9.199881e-01</td><td>9.214957e-01</td><td>9.229979e-01</td></tr>\n",
       "\t<tr><th scope=row>9058</th><td>0.1562513</td><td>0.1397815</td><td>0.1223538</td><td>0.10754011</td><td>0.09481753</td><td>0.08380999</td><td>0.07461638</td><td>0.07026456</td><td>0.06683847</td><td>0.06472723</td><td>⋯</td><td>2.895441e-05</td><td>1.418349e-05</td><td>6.264444e-06</td><td>2.594933e-06</td><td>9.940328e-07</td><td>3.483228e-07</td><td>1.109957e-07</td><td>3.260629e-08</td><td>8.800883e-09</td><td>2.192556e-09</td></tr>\n",
       "\t<tr><th scope=row>9060</th><td>0.1562513</td><td>0.1646396</td><td>0.1645588</td><td>0.16295114</td><td>0.16035282</td><td>0.15710876</td><td>0.15358424</td><td>0.15113648</td><td>0.14705197</td><td>0.14021011</td><td>⋯</td><td>8.290858e-25</td><td>6.321295e-27</td><td>2.543906e-29</td><td>7.422172e-32</td><td>1.355305e-34</td><td>1.472517e-37</td><td>9.275440e-41</td><td>3.623913e-44</td><td>8.403005e-48</td><td>1.216401e-51</td></tr>\n",
       "\t<tr><th scope=row>9061</th><td>0.1562513</td><td>0.1368435</td><td>0.1173352</td><td>0.10120956</td><td>0.08769519</td><td>0.07625664</td><td>0.06668830</td><td>0.06016643</td><td>0.05402183</td><td>0.04792953</td><td>⋯</td><td>2.072368e-25</td><td>1.613406e-27</td><td>6.657082e-30</td><td>1.962574e-32</td><td>3.629217e-35</td><td>3.968831e-38</td><td>2.484799e-41</td><td>9.618238e-45</td><td>2.204574e-48</td><td>3.137165e-52</td></tr>\n",
       "\t<tr><th scope=row>9062</th><td>0.1562513</td><td>0.1575112</td><td>0.1573124</td><td>0.15568102</td><td>0.15311960</td><td>0.14995299</td><td>0.14706934</td><td>0.15101564</td><td>0.15545552</td><td>0.16121370</td><td>⋯</td><td>6.715697e-01</td><td>6.897891e-01</td><td>7.074142e-01</td><td>7.236417e-01</td><td>7.382289e-01</td><td>7.517225e-01</td><td>7.640180e-01</td><td>7.754654e-01</td><td>7.862453e-01</td><td>7.960981e-01</td></tr>\n",
       "\t<tr><th scope=row>9063</th><td>0.1562513</td><td>0.1520798</td><td>0.1505081</td><td>0.14775529</td><td>0.14426685</td><td>0.14032765</td><td>0.13682848</td><td>0.14055505</td><td>0.14480461</td><td>0.15041560</td><td>⋯</td><td>6.247888e-01</td><td>6.350233e-01</td><td>6.465895e-01</td><td>6.572434e-01</td><td>6.680439e-01</td><td>6.786322e-01</td><td>6.893012e-01</td><td>6.999536e-01</td><td>7.106353e-01</td><td>7.213905e-01</td></tr>\n",
       "\t<tr><th scope=row>9066</th><td>0.1562513</td><td>0.1434651</td><td>0.1268587</td><td>0.11252451</td><td>0.10005187</td><td>0.08913625</td><td>0.07994657</td><td>0.07577684</td><td>0.07251236</td><td>0.07056124</td><td>⋯</td><td>8.513195e-03</td><td>7.137944e-03</td><td>5.794167e-03</td><td>4.649477e-03</td><td>3.637142e-03</td><td>2.781921e-03</td><td>2.072548e-03</td><td>1.503996e-03</td><td>1.060381e-03</td><td>7.274229e-04</td></tr>\n",
       "\t<tr><th scope=row>9071</th><td>0.1562513</td><td>0.1531262</td><td>0.1508141</td><td>0.14759083</td><td>0.14376739</td><td>0.13954129</td><td>0.13532143</td><td>0.13374331</td><td>0.13249547</td><td>0.13211838</td><td>⋯</td><td>4.764067e-02</td><td>4.189168e-02</td><td>3.582012e-02</td><td>3.026518e-02</td><td>2.494898e-02</td><td>2.011201e-02</td><td>1.584924e-02</td><td>1.220759e-02</td><td>9.168329e-03</td><td>6.725670e-03</td></tr>\n",
       "\t<tr><th scope=row>9074</th><td>0.1562513</td><td>0.1397008</td><td>0.1225209</td><td>0.10787877</td><td>0.09527394</td><td>0.08434528</td><td>0.07502380</td><td>0.06875847</td><td>0.06264554</td><td>0.05631779</td><td>⋯</td><td>4.540940e-25</td><td>3.847705e-27</td><td>1.747666e-29</td><td>5.735944e-32</td><td>1.190616e-34</td><td>1.479200e-37</td><td>1.067599e-40</td><td>4.820871e-44</td><td>1.305147e-47</td><td>2.221628e-51</td></tr>\n",
       "\t<tr><th scope=row>9079</th><td>0.1562513</td><td>0.1385988</td><td>0.1206479</td><td>0.10550900</td><td>0.09259519</td><td>0.08148954</td><td>0.07216814</td><td>0.06677351</td><td>0.06143187</td><td>0.05574572</td><td>⋯</td><td>8.458418e-16</td><td>4.757576e-17</td><td>1.833192e-18</td><td>5.746891e-20</td><td>1.359319e-21</td><td>2.342075e-23</td><td>2.884763e-25</td><td>2.667416e-27</td><td>1.807425e-29</td><td>9.213003e-32</td></tr>\n",
       "\t<tr><th scope=row>9088</th><td>0.1562513</td><td>0.1734623</td><td>0.1998180</td><td>0.22373132</td><td>0.24557227</td><td>0.26564934</td><td>0.28399795</td><td>0.29850486</td><td>0.30830512</td><td>0.31025501</td><td>⋯</td><td>6.857062e-21</td><td>1.025858e-22</td><td>8.820650e-25</td><td>5.771344e-27</td><td>2.517977e-29</td><td>7.028031e-32</td><td>1.225642e-34</td><td>1.417238e-37</td><td>1.045897e-40</td><td>5.145660e-44</td></tr>\n",
       "\t<tr><th scope=row>9094</th><td>0.1562513</td><td>0.1729040</td><td>0.1960558</td><td>0.21666387</td><td>0.23517360</td><td>0.25193387</td><td>0.26755710</td><td>0.28562788</td><td>0.30309468</td><td>0.32037575</td><td>⋯</td><td>8.545656e-01</td><td>8.564413e-01</td><td>8.580124e-01</td><td>8.596093e-01</td><td>8.600629e-01</td><td>8.600425e-01</td><td>8.602298e-01</td><td>8.603262e-01</td><td>8.602999e-01</td><td>8.602804e-01</td></tr>\n",
       "\t<tr><th scope=row>9100</th><td>0.1562513</td><td>0.1468309</td><td>0.1416325</td><td>0.13606582</td><td>0.13032023</td><td>0.12451140</td><td>0.11873219</td><td>0.11309878</td><td>0.10648049</td><td>0.09811704</td><td>⋯</td><td>2.681632e-22</td><td>3.777084e-24</td><td>3.058826e-26</td><td>1.832089e-28</td><td>7.299147e-31</td><td>1.827838e-33</td><td>2.797587e-36</td><td>2.812763e-39</td><td>1.788817e-42</td><td>7.491048e-46</td></tr>\n",
       "</tbody>\n",
       "</table>\n"
      ],
      "text/latex": [
       "A matrix: 2293 × 81 of type dbl\n",
       "\\begin{tabular}{r|lllllllllllllllllllll}\n",
       "  & s0 & s1 & s2 & s3 & s4 & s5 & s6 & s7 & s8 & s9 & ⋯ & s71 & s72 & s73 & s74 & s75 & s76 & s77 & s78 & s79 & s80\\\\\n",
       "\\hline\n",
       "\t5 & 0.1562513 & 0.1516469 & 0.1422986 & 0.13319000 & 0.12446573 & 0.11619354 & 0.10727731 & 0.08825831 & 0.07193419 & 0.05804534 & ⋯ & 9.549713e-124 & 1.419638e-134 & 8.168105e-147 & 9.093178e-160 & 9.288869e-174 & 6.744672e-189 & 3.034610e-205 & 1.223796e-222 & 3.547452e-241 & 9.490362e-261\\\\\n",
       "\t6 & 0.1562513 & 0.1597167 & 0.1471345 & 0.13541595 & 0.12457252 & 0.11457480 & 0.10575651 & 0.10147396 & 0.09808927 & 0.09606796 & ⋯ &  1.957542e-01 &  2.047436e-01 &  2.149876e-01 &  2.255423e-01 &  2.365106e-01 &  2.484357e-01 &  2.614184e-01 &  2.751790e-01 &  2.902739e-01 &  3.060290e-01\\\\\n",
       "\t12 & 0.1562513 & 0.1550046 & 0.1560927 & 0.15579073 & 0.15449947 & 0.15248097 & 0.15022835 & 0.15080215 & 0.15154883 & 0.15305332 & ⋯ &  3.966627e-01 &  4.104588e-01 &  4.247428e-01 &  4.392848e-01 &  4.536090e-01 &  4.681350e-01 &  4.829934e-01 &  4.974782e-01 &  5.113902e-01 &  5.245708e-01\\\\\n",
       "\t13 & 0.1562513 & 0.1376618 & 0.1186057 & 0.10275401 & 0.08939490 & 0.07803077 & 0.06861491 & 0.06351545 & 0.05848599 & 0.05312680 & ⋯ &  2.181335e-10 &  3.483275e-11 &  4.368368e-12 &  4.791735e-13 &  4.386179e-14 &  3.271773e-15 &  1.962449e-16 &  9.750187e-18 &  3.919788e-19 &  1.302022e-20\\\\\n",
       "\t15 & 0.1562513 & 0.1638022 & 0.1701025 & 0.17420551 & 0.17674000 & 0.17813338 & 0.17694345 & 0.15726322 & 0.14000641 & 0.12657286 & ⋯ & 1.399053e-115 & 8.104962e-126 & 2.161391e-137 & 1.242671e-149 & 7.411358e-163 & 3.633205e-177 & 1.291859e-192 & 4.713358e-209 & 1.429433e-226 & 4.581509e-245\\\\\n",
       "\t18 & 0.1562513 & 0.1979581 & 0.2454830 & 0.29118188 & 0.33469302 & 0.37587751 & 0.41474887 & 0.45172668 & 0.48615822 & 0.51779996 & ⋯ &  9.898658e-01 &  9.903218e-01 &  9.907797e-01 &  9.911947e-01 &  9.916244e-01 &  9.920352e-01 &  9.924275e-01 &  9.928076e-01 &  9.932046e-01 &  9.935827e-01\\\\\n",
       "\t19 & 0.1562513 & 0.1559960 & 0.1586003 & 0.15963184 & 0.15952259 & 0.15855780 & 0.15725656 & 0.15879162 & 0.16043795 & 0.16279594 & ⋯ &  4.771358e-01 &  4.916760e-01 &  5.071983e-01 &  5.233326e-01 &  5.392083e-01 &  5.555159e-01 &  5.723862e-01 &  5.891295e-01 &  6.040462e-01 &  6.178253e-01\\\\\n",
       "\t21 & 0.1562513 & 0.1369620 & 0.1176889 & 0.10171402 & 0.08829319 & 0.07690858 & 0.06746440 & 0.06199887 & 0.05668739 & 0.05115853 & ⋯ &  8.105366e-15 &  5.694890e-16 &  2.831644e-17 &  1.159729e-18 &  3.668751e-20 &  8.660394e-22 &  1.497814e-23 &  1.987315e-25 &  1.978841e-27 &  1.513800e-29\\\\\n",
       "\t22 & 0.1562513 & 0.1645466 & 0.1714622 & 0.17632018 & 0.17963769 & 0.18176301 & 0.18316543 & 0.18617882 & 0.18913192 & 0.19260723 & ⋯ &  2.978690e-01 &  2.898263e-01 &  2.791174e-01 &  2.691188e-01 &  2.581122e-01 &  2.465403e-01 &  2.343562e-01 &  2.206535e-01 &  2.053502e-01 &  1.891824e-01\\\\\n",
       "\t26 & 0.1562513 & 0.1462462 & 0.1431229 & 0.13928561 & 0.13499469 & 0.13041528 & 0.12505083 & 0.11338246 & 0.10155910 & 0.08925503 & ⋯ &  1.102319e-65 &  2.275018e-71 &  8.616399e-78 &  1.347346e-84 &  6.088247e-92 & 6.829089e-100 & 1.756474e-108 & 1.272904e-117 & 2.318657e-127 & 1.206868e-137\\\\\n",
       "\t30 & 0.1562513 & 0.1461723 & 0.1362323 & 0.12674516 & 0.11779274 & 0.10940215 & 0.10058633 & 0.08300772 & 0.06900590 & 0.05876855 & ⋯ & 1.645263e-116 & 9.518761e-127 & 2.553876e-138 & 1.440046e-150 & 8.529671e-164 & 4.124374e-178 & 1.420731e-193 & 4.985416e-210 & 1.443028e-227 & 4.362399e-246\\\\\n",
       "\t33 & 0.1562513 & 0.1552561 & 0.1585042 & 0.16011990 & 0.16054234 & 0.16006303 & 0.15918954 & 0.16093120 & 0.16275926 & 0.16530867 & ⋯ &  2.417557e-03 &  1.452606e-03 &  8.131515e-04 &  4.369916e-04 &  2.250574e-04 &  1.087705e-04 &  4.930802e-05 &  2.114594e-05 &  8.548064e-06 &  3.276168e-06\\\\\n",
       "\t38 & 0.1562513 & 0.1369133 & 0.1192261 & 0.10430847 & 0.09158070 & 0.08063191 & 0.07130384 & 0.06451893 & 0.05805989 & 0.05161510 & ⋯ &  3.183523e-32 &  5.872293e-35 &  4.773507e-38 &  2.522193e-41 &  7.307940e-45 &  1.078379e-48 &  7.806292e-53 &  3.058201e-57 &  6.156508e-62 &  6.760295e-67\\\\\n",
       "\t39 & 0.1562513 & 0.1406736 & 0.1281457 & 0.11679552 & 0.10650848 & 0.09718030 & 0.08788828 & 0.07166919 & 0.05895749 & 0.04978802 & ⋯ & 2.638012e-121 & 6.340122e-132 & 6.352955e-144 & 1.236745e-156 & 2.354322e-170 & 3.331066e-185 & 3.041777e-201 & 2.607725e-218 & 1.692808e-236 & 1.056952e-255\\\\\n",
       "\t44 & 0.1562513 & 0.1443691 & 0.1352312 & 0.12639177 & 0.11796582 & 0.11000455 & 0.10156566 & 0.08447524 & 0.06963246 & 0.05686283 & ⋯ & 1.142816e-121 & 2.400728e-132 & 2.044173e-144 & 3.421081e-157 & 5.494777e-171 & 6.503773e-186 & 4.924816e-202 & 3.451450e-219 & 1.806963e-237 & 9.026932e-257\\\\\n",
       "\t52 & 0.1562513 & 0.1405309 & 0.1239404 & 0.10968481 & 0.09732626 & 0.08654429 & 0.07743883 & 0.07274479 & 0.06790083 & 0.06243789 & ⋯ &  4.170342e-09 &  8.283221e-10 &  1.325872e-10 &  1.895189e-11 &  2.301989e-12 &  2.338180e-13 &  1.971366e-14 &  1.412165e-15 &  8.493991e-17 &  4.350414e-18\\\\\n",
       "\t54 & 0.1562513 & 0.1488810 & 0.1365118 & 0.12513580 & 0.11470623 & 0.10516008 & 0.09651572 & 0.08937231 & 0.08211469 & 0.07429540 & ⋯ &  3.345448e-33 &  5.361315e-36 &  3.679345e-39 &  1.656034e-42 &  3.969793e-46 &  4.783476e-50 &  2.809472e-54 &  8.783391e-59 &  1.379260e-63 &  1.161433e-68\\\\\n",
       "\t56 & 0.1562513 & 0.1373867 & 0.1185118 & 0.10278751 & 0.08951792 & 0.07821595 & 0.06786230 & 0.05301102 & 0.04121487 & 0.03192178 & ⋯ & 2.888036e-122 & 6.439477e-133 & 5.876617e-145 & 1.054580e-157 & 1.809157e-171 & 2.292764e-186 & 1.872219e-202 & 1.424615e-219 & 8.174830e-238 & 4.506752e-257\\\\\n",
       "\t59 & 0.1562513 & 0.1593705 & 0.1616275 & 0.16231488 & 0.16187162 & 0.16058579 & 0.15892808 & 0.15961232 & 0.16042921 & 0.16194050 & ⋯ &  4.868014e-01 &  5.031259e-01 &  5.198162e-01 &  5.349778e-01 &  5.493503e-01 &  5.627585e-01 &  5.751474e-01 &  5.870008e-01 &  5.982057e-01 &  6.086405e-01\\\\\n",
       "\t65 & 0.1562513 & 0.1585329 & 0.1554498 & 0.15134272 & 0.14664251 & 0.14161812 & 0.13678468 & 0.13538613 & 0.13255664 & 0.12720851 & ⋯ &  8.210721e-15 &  4.663862e-16 &  1.809725e-17 &  5.799287e-19 &  1.403521e-20 &  2.495842e-22 &  3.203970e-24 &  3.094312e-26 &  2.192931e-28 &  1.173690e-30\\\\\n",
       "\t66 & 0.1562513 & 0.1720564 & 0.1821629 & 0.18991189 & 0.19586948 & 0.20042249 & 0.20387302 & 0.20669314 & 0.20931260 & 0.21231948 & ⋯ &  7.437434e-07 &  2.435922e-07 &  6.840464e-08 &  1.753635e-08 &  4.008927e-09 &  8.021053e-10 &  1.396196e-10 &  2.157417e-11 &  2.933386e-12 &  3.534354e-13\\\\\n",
       "\t67 & 0.1562513 & 0.1429659 & 0.1298984 & 0.11810908 & 0.10746243 & 0.09783854 & 0.08960948 & 0.08689700 & 0.08494058 & 0.08427972 & ⋯ &  7.071704e-03 &  5.025213e-03 &  3.393909e-03 &  2.231428e-03 &  1.413646e-03 &  8.595324e-04 &  5.001901e-04 &  2.797207e-04 &  1.502394e-04 &  7.762614e-05\\\\\n",
       "\t69 & 0.1562513 & 0.1361046 & 0.1165686 & 0.10044631 & 0.08695352 & 0.07554715 & 0.06608093 & 0.06027813 & 0.05471796 & 0.04905520 & ⋯ &  1.113240e-18 &  3.549966e-20 &  7.248857e-22 &  1.147744e-23 &  1.306391e-25 &  1.011307e-27 &  5.214416e-30 &  1.905482e-32 &  4.786201e-35 &  8.533735e-38\\\\\n",
       "\t70 & 0.1562513 & 0.1567810 & 0.1538414 & 0.14987520 & 0.14530972 & 0.14041264 & 0.13402720 & 0.11452927 & 0.09829905 & 0.08603316 & ⋯ & 2.261060e-119 & 7.577218e-130 & 1.085900e-141 & 3.148443e-154 & 9.027958e-168 & 1.991287e-182 & 2.957847e-198 & 4.240727e-215 & 4.750910e-233 & 5.285616e-252\\\\\n",
       "\t72 & 0.1562513 & 0.1367737 & 0.1154703 & 0.09819262 & 0.08395930 & 0.07210017 & 0.06225074 & 0.05493709 & 0.04829136 & 0.04200479 & ⋯ &  5.422412e-32 &  1.195681e-34 &  1.185225e-37 &  7.751664e-41 &  2.809246e-44 &  5.276491e-48 &  4.963919e-52 &  2.564066e-56 &  6.888357e-61 &  1.022602e-65\\\\\n",
       "\t83 & 0.1562513 & 0.1424340 & 0.1304673 & 0.11950282 & 0.10947603 & 0.10031576 & 0.09244849 & 0.09022211 & 0.08871244 & 0.08850225 & ⋯ &  1.520973e-03 &  9.464728e-04 &  5.528428e-04 &  3.084794e-04 &  1.639358e-04 &  8.201776e-05 &  3.844288e-05 &  1.707418e-05 &  7.180130e-06 &  2.862019e-06\\\\\n",
       "\t84 & 0.1562513 & 0.1413282 & 0.1258505 & 0.11235606 & 0.10051090 & 0.09006292 & 0.08125195 & 0.07771373 & 0.07500849 & 0.07359420 & ⋯ &  6.757060e-01 &  7.005076e-01 &  7.259270e-01 &  7.493209e-01 &  7.743334e-01 &  7.974573e-01 &  8.185902e-01 &  8.379748e-01 &  8.554650e-01 &  8.709461e-01\\\\\n",
       "\t92 & 0.1562513 & 0.1734711 & 0.1775634 & 0.17954652 & 0.18007013 & 0.17956403 & 0.17884798 & 0.18324217 & 0.18801016 & 0.19391452 & ⋯ &  5.784453e-01 &  5.945640e-01 &  6.117203e-01 &  6.279662e-01 &  6.449207e-01 &  6.618872e-01 &  6.783227e-01 &  6.942275e-01 &  7.100116e-01 &  7.248453e-01\\\\\n",
       "\t93 & 0.1562513 & 0.1462927 & 0.1413198 & 0.13594418 & 0.13036189 & 0.12469325 & 0.11933166 & 0.11718128 & 0.11545177 & 0.11467494 & ⋯ &  1.962646e-02 &  1.533082e-02 &  1.159407e-02 &  8.457536e-03 &  6.009566e-03 &  4.108115e-03 &  2.690114e-03 &  1.705664e-03 &  1.043845e-03 &  6.176619e-04\\\\\n",
       "\t98 & 0.1562513 & 0.1364865 & 0.1186615 & 0.10366209 & 0.09088985 & 0.07992212 & 0.07057172 & 0.06357276 & 0.05696025 & 0.05043469 & ⋯ &  9.152985e-35 &  1.097296e-37 &  5.530254e-41 &  1.736436e-44 &  2.878676e-48 &  2.299895e-52 &  8.504873e-57 &  1.631161e-61 &  1.531644e-66 &  7.500160e-72\\\\\n",
       "\t⋮ & ⋮ & ⋮ & ⋮ & ⋮ & ⋮ & ⋮ & ⋮ & ⋮ & ⋮ & ⋮ & ⋱ & ⋮ & ⋮ & ⋮ & ⋮ & ⋮ & ⋮ & ⋮ & ⋮ & ⋮ & ⋮\\\\\n",
       "\t9015 & 0.1562513 & 0.1351007 & 0.1160454 & 0.10026634 & 0.08701925 & 0.07578784 & 0.06637352 & 0.05989901 & 0.05379264 & 0.04774772 & ⋯ & 9.929947e-29 & 4.038384e-31 & 8.071455e-34 & 1.095262e-36 & 8.781561e-40 & 3.880279e-43 & 9.139556e-47 & 1.255359e-50 & 9.602296e-55 & 4.305629e-59\\\\\n",
       "\t9018 & 0.1562513 & 0.1485045 & 0.1362156 & 0.12490632 & 0.11453227 & 0.10503253 & 0.09649434 & 0.09011821 & 0.08350360 & 0.07616205 & ⋯ & 1.575088e-27 & 7.459658e-30 & 1.737006e-32 & 2.845741e-35 & 2.751583e-38 & 1.494938e-41 & 4.444643e-45 & 7.787602e-49 & 7.662897e-53 & 4.482073e-57\\\\\n",
       "\t9020 & 0.1562513 & 0.1575632 & 0.1554926 & 0.15225329 & 0.14830115 & 0.14392473 & 0.13949126 & 0.13668751 & 0.13449351 & 0.13382260 & ⋯ & 2.877326e-22 & 3.849679e-24 & 2.923481e-26 & 1.661751e-28 & 6.233209e-31 & 1.474152e-33 & 2.141340e-36 & 2.038957e-39 & 1.225158e-42 & 4.841763e-46\\\\\n",
       "\t9021 & 0.1562513 & 0.1486053 & 0.1461070 & 0.14277248 & 0.13889027 & 0.13464425 & 0.13008865 & 0.12455038 & 0.11778156 & 0.10896847 & ⋯ & 1.176201e-27 & 5.391017e-30 & 1.228291e-32 & 1.929330e-35 & 1.814306e-38 & 9.558021e-42 & 2.725687e-45 & 4.592989e-49 & 4.365380e-53 & 2.464961e-57\\\\\n",
       "\t9022 & 0.1562513 & 0.1453574 & 0.1390474 & 0.13259198 & 0.12612941 & 0.11974089 & 0.11366889 & 0.10962145 & 0.10450786 & 0.09746443 & ⋯ & 1.404966e-10 & 2.183633e-11 & 2.673768e-12 & 2.837663e-13 & 2.532598e-14 & 1.835629e-15 & 1.062947e-16 & 5.111300e-18 & 2.008261e-19 & 6.557464e-21\\\\\n",
       "\t9025 & 0.1562513 & 0.1711020 & 0.1858416 & 0.19805373 & 0.20829021 & 0.21694309 & 0.22391011 & 0.22550960 & 0.22669615 & 0.22836793 & ⋯ & 2.408506e-25 & 1.907841e-27 & 7.962418e-30 & 2.387655e-32 & 4.458825e-35 & 4.935556e-38 & 3.147085e-41 & 1.242088e-44 & 2.904213e-48 & 4.230980e-52\\\\\n",
       "\t9031 & 0.1562513 & 0.1332721 & 0.1117452 & 0.09444345 & 0.08030222 & 0.06860229 & 0.05899985 & 0.05241338 & 0.04639018 & 0.04063707 & ⋯ & 1.099807e-27 & 5.746814e-30 & 1.517663e-32 & 2.769675e-35 & 3.050610e-38 & 1.898176e-41 & 6.461265e-45 & 1.310672e-48 & 1.514675e-52 & 1.048189e-56\\\\\n",
       "\t9032 & 0.1562513 & 0.1689738 & 0.1744696 & 0.17777461 & 0.17953486 & 0.18018414 & 0.18012557 & 0.18047054 & 0.18113125 & 0.18316542 & ⋯ & 5.439846e-24 & 4.667498e-26 & 2.120997e-28 & 7.081584e-31 & 1.484918e-33 & 1.872233e-36 & 1.387133e-39 & 6.417501e-43 & 1.771114e-46 & 3.072710e-50\\\\\n",
       "\t9033 & 0.1562513 & 0.1493130 & 0.1476293 & 0.14498064 & 0.14168137 & 0.13793358 & 0.13380957 & 0.12868730 & 0.12221330 & 0.11351989 & ⋯ & 5.394247e-27 & 2.736296e-29 & 6.988430e-32 & 1.238600e-34 & 1.326552e-37 & 8.039059e-41 & 2.667264e-44 & 5.281603e-48 & 5.960580e-52 & 4.035662e-56\\\\\n",
       "\t9037 & 0.1562513 & 0.1468239 & 0.1290770 & 0.11387318 & 0.10073330 & 0.08930487 & 0.07963432 & 0.07419818 & 0.06870889 & 0.06265478 & ⋯ & 1.077202e-07 & 3.282817e-08 & 8.470893e-09 & 2.020912e-09 & 4.247353e-10 & 7.805332e-11 & 1.248796e-11 & 1.764901e-12 & 2.185901e-13 & 2.401745e-14\\\\\n",
       "\t9038 & 0.1562513 & 0.1719824 & 0.1903241 & 0.20607849 & 0.21976779 & 0.23177619 & 0.24264900 & 0.25515010 & 0.26717545 & 0.27923101 & ⋯ & 7.483531e-01 & 7.572229e-01 & 7.652500e-01 & 7.741593e-01 & 7.817068e-01 & 7.889648e-01 & 7.962685e-01 & 8.031517e-01 & 8.094365e-01 & 8.153535e-01\\\\\n",
       "\t9039 & 0.1562513 & 0.1473537 & 0.1313817 & 0.11740790 & 0.10511126 & 0.09424431 & 0.08500663 & 0.08067983 & 0.07727438 & 0.07520540 & ⋯ & 3.443162e-02 & 3.194803e-02 & 2.897657e-02 & 2.626908e-02 & 2.330060e-02 & 2.039709e-02 & 1.766073e-02 & 1.502168e-02 & 1.252570e-02 & 1.026924e-02\\\\\n",
       "\t9040 & 0.1562513 & 0.1478193 & 0.1444792 & 0.14044346 & 0.13597130 & 0.13122644 & 0.12626899 & 0.12060910 & 0.11381034 & 0.10508851 & ⋯ & 7.926192e-27 & 4.428290e-29 & 1.260322e-31 & 2.512964e-34 & 3.058204e-37 & 2.138708e-40 & 8.299831e-44 & 1.940361e-47 & 2.610597e-51 & 2.128506e-55\\\\\n",
       "\t9043 & 0.1562513 & 0.1580930 & 0.1602210 & 0.16080682 & 0.16028237 & 0.15893121 & 0.15718306 & 0.15736774 & 0.15769713 & 0.15876790 & ⋯ & 7.505444e-04 & 4.436748e-04 & 2.452930e-04 & 1.308608e-04 & 6.646850e-05 & 3.189768e-05 & 1.438957e-05 & 6.155201e-06 & 2.469327e-06 & 9.358484e-07\\\\\n",
       "\t9048 & 0.1562513 & 0.1448266 & 0.1333461 & 0.12270596 & 0.11288871 & 0.10385396 & 0.09577393 & 0.09046968 & 0.08612516 & 0.08334138 & ⋯ & 8.279477e-23 & 1.105896e-24 & 8.409432e-27 & 4.764582e-29 & 1.787547e-31 & 4.225243e-34 & 6.128767e-37 & 5.821642e-40 & 3.483450e-43 & 1.369447e-46\\\\\n",
       "\t9049 & 0.1562513 & 0.1381295 & 0.1198249 & 0.10446034 & 0.09140813 & 0.08022490 & 0.07076692 & 0.06426504 & 0.05804837 & 0.05177855 & ⋯ & 2.030856e-26 & 1.301172e-28 & 4.332494e-31 & 1.016826e-33 & 1.468343e-36 & 1.229021e-39 & 5.787487e-43 & 1.663361e-46 & 2.794148e-50 & 2.874590e-54\\\\\n",
       "\t9051 & 0.1562513 & 0.1812417 & 0.2121808 & 0.24067609 & 0.26702212 & 0.29149004 & 0.31457587 & 0.33909814 & 0.36258418 & 0.38523137 & ⋯ & 8.836537e-01 & 8.834799e-01 & 8.830593e-01 & 8.834876e-01 & 8.838889e-01 & 8.843725e-01 & 8.851901e-01 & 8.859533e-01 & 8.862919e-01 & 8.866561e-01\\\\\n",
       "\t9055 & 0.1562513 & 0.1753438 & 0.2075342 & 0.23756844 & 0.26563658 & 0.29194014 & 0.31708938 & 0.34544335 & 0.37279993 & 0.39935612 & ⋯ & 9.073498e-01 & 9.094019e-01 & 9.113713e-01 & 9.132930e-01 & 9.149945e-01 & 9.166990e-01 & 9.183868e-01 & 9.199881e-01 & 9.214957e-01 & 9.229979e-01\\\\\n",
       "\t9058 & 0.1562513 & 0.1397815 & 0.1223538 & 0.10754011 & 0.09481753 & 0.08380999 & 0.07461638 & 0.07026456 & 0.06683847 & 0.06472723 & ⋯ & 2.895441e-05 & 1.418349e-05 & 6.264444e-06 & 2.594933e-06 & 9.940328e-07 & 3.483228e-07 & 1.109957e-07 & 3.260629e-08 & 8.800883e-09 & 2.192556e-09\\\\\n",
       "\t9060 & 0.1562513 & 0.1646396 & 0.1645588 & 0.16295114 & 0.16035282 & 0.15710876 & 0.15358424 & 0.15113648 & 0.14705197 & 0.14021011 & ⋯ & 8.290858e-25 & 6.321295e-27 & 2.543906e-29 & 7.422172e-32 & 1.355305e-34 & 1.472517e-37 & 9.275440e-41 & 3.623913e-44 & 8.403005e-48 & 1.216401e-51\\\\\n",
       "\t9061 & 0.1562513 & 0.1368435 & 0.1173352 & 0.10120956 & 0.08769519 & 0.07625664 & 0.06668830 & 0.06016643 & 0.05402183 & 0.04792953 & ⋯ & 2.072368e-25 & 1.613406e-27 & 6.657082e-30 & 1.962574e-32 & 3.629217e-35 & 3.968831e-38 & 2.484799e-41 & 9.618238e-45 & 2.204574e-48 & 3.137165e-52\\\\\n",
       "\t9062 & 0.1562513 & 0.1575112 & 0.1573124 & 0.15568102 & 0.15311960 & 0.14995299 & 0.14706934 & 0.15101564 & 0.15545552 & 0.16121370 & ⋯ & 6.715697e-01 & 6.897891e-01 & 7.074142e-01 & 7.236417e-01 & 7.382289e-01 & 7.517225e-01 & 7.640180e-01 & 7.754654e-01 & 7.862453e-01 & 7.960981e-01\\\\\n",
       "\t9063 & 0.1562513 & 0.1520798 & 0.1505081 & 0.14775529 & 0.14426685 & 0.14032765 & 0.13682848 & 0.14055505 & 0.14480461 & 0.15041560 & ⋯ & 6.247888e-01 & 6.350233e-01 & 6.465895e-01 & 6.572434e-01 & 6.680439e-01 & 6.786322e-01 & 6.893012e-01 & 6.999536e-01 & 7.106353e-01 & 7.213905e-01\\\\\n",
       "\t9066 & 0.1562513 & 0.1434651 & 0.1268587 & 0.11252451 & 0.10005187 & 0.08913625 & 0.07994657 & 0.07577684 & 0.07251236 & 0.07056124 & ⋯ & 8.513195e-03 & 7.137944e-03 & 5.794167e-03 & 4.649477e-03 & 3.637142e-03 & 2.781921e-03 & 2.072548e-03 & 1.503996e-03 & 1.060381e-03 & 7.274229e-04\\\\\n",
       "\t9071 & 0.1562513 & 0.1531262 & 0.1508141 & 0.14759083 & 0.14376739 & 0.13954129 & 0.13532143 & 0.13374331 & 0.13249547 & 0.13211838 & ⋯ & 4.764067e-02 & 4.189168e-02 & 3.582012e-02 & 3.026518e-02 & 2.494898e-02 & 2.011201e-02 & 1.584924e-02 & 1.220759e-02 & 9.168329e-03 & 6.725670e-03\\\\\n",
       "\t9074 & 0.1562513 & 0.1397008 & 0.1225209 & 0.10787877 & 0.09527394 & 0.08434528 & 0.07502380 & 0.06875847 & 0.06264554 & 0.05631779 & ⋯ & 4.540940e-25 & 3.847705e-27 & 1.747666e-29 & 5.735944e-32 & 1.190616e-34 & 1.479200e-37 & 1.067599e-40 & 4.820871e-44 & 1.305147e-47 & 2.221628e-51\\\\\n",
       "\t9079 & 0.1562513 & 0.1385988 & 0.1206479 & 0.10550900 & 0.09259519 & 0.08148954 & 0.07216814 & 0.06677351 & 0.06143187 & 0.05574572 & ⋯ & 8.458418e-16 & 4.757576e-17 & 1.833192e-18 & 5.746891e-20 & 1.359319e-21 & 2.342075e-23 & 2.884763e-25 & 2.667416e-27 & 1.807425e-29 & 9.213003e-32\\\\\n",
       "\t9088 & 0.1562513 & 0.1734623 & 0.1998180 & 0.22373132 & 0.24557227 & 0.26564934 & 0.28399795 & 0.29850486 & 0.30830512 & 0.31025501 & ⋯ & 6.857062e-21 & 1.025858e-22 & 8.820650e-25 & 5.771344e-27 & 2.517977e-29 & 7.028031e-32 & 1.225642e-34 & 1.417238e-37 & 1.045897e-40 & 5.145660e-44\\\\\n",
       "\t9094 & 0.1562513 & 0.1729040 & 0.1960558 & 0.21666387 & 0.23517360 & 0.25193387 & 0.26755710 & 0.28562788 & 0.30309468 & 0.32037575 & ⋯ & 8.545656e-01 & 8.564413e-01 & 8.580124e-01 & 8.596093e-01 & 8.600629e-01 & 8.600425e-01 & 8.602298e-01 & 8.603262e-01 & 8.602999e-01 & 8.602804e-01\\\\\n",
       "\t9100 & 0.1562513 & 0.1468309 & 0.1416325 & 0.13606582 & 0.13032023 & 0.12451140 & 0.11873219 & 0.11309878 & 0.10648049 & 0.09811704 & ⋯ & 2.681632e-22 & 3.777084e-24 & 3.058826e-26 & 1.832089e-28 & 7.299147e-31 & 1.827838e-33 & 2.797587e-36 & 2.812763e-39 & 1.788817e-42 & 7.491048e-46\\\\\n",
       "\\end{tabular}\n"
      ],
      "text/markdown": [
       "\n",
       "A matrix: 2293 × 81 of type dbl\n",
       "\n",
       "| <!--/--> | s0 | s1 | s2 | s3 | s4 | s5 | s6 | s7 | s8 | s9 | ⋯ | s71 | s72 | s73 | s74 | s75 | s76 | s77 | s78 | s79 | s80 |\n",
       "|---|---|---|---|---|---|---|---|---|---|---|---|---|---|---|---|---|---|---|---|---|---|\n",
       "| 5 | 0.1562513 | 0.1516469 | 0.1422986 | 0.13319000 | 0.12446573 | 0.11619354 | 0.10727731 | 0.08825831 | 0.07193419 | 0.05804534 | ⋯ | 9.549713e-124 | 1.419638e-134 | 8.168105e-147 | 9.093178e-160 | 9.288869e-174 | 6.744672e-189 | 3.034610e-205 | 1.223796e-222 | 3.547452e-241 | 9.490362e-261 |\n",
       "| 6 | 0.1562513 | 0.1597167 | 0.1471345 | 0.13541595 | 0.12457252 | 0.11457480 | 0.10575651 | 0.10147396 | 0.09808927 | 0.09606796 | ⋯ |  1.957542e-01 |  2.047436e-01 |  2.149876e-01 |  2.255423e-01 |  2.365106e-01 |  2.484357e-01 |  2.614184e-01 |  2.751790e-01 |  2.902739e-01 |  3.060290e-01 |\n",
       "| 12 | 0.1562513 | 0.1550046 | 0.1560927 | 0.15579073 | 0.15449947 | 0.15248097 | 0.15022835 | 0.15080215 | 0.15154883 | 0.15305332 | ⋯ |  3.966627e-01 |  4.104588e-01 |  4.247428e-01 |  4.392848e-01 |  4.536090e-01 |  4.681350e-01 |  4.829934e-01 |  4.974782e-01 |  5.113902e-01 |  5.245708e-01 |\n",
       "| 13 | 0.1562513 | 0.1376618 | 0.1186057 | 0.10275401 | 0.08939490 | 0.07803077 | 0.06861491 | 0.06351545 | 0.05848599 | 0.05312680 | ⋯ |  2.181335e-10 |  3.483275e-11 |  4.368368e-12 |  4.791735e-13 |  4.386179e-14 |  3.271773e-15 |  1.962449e-16 |  9.750187e-18 |  3.919788e-19 |  1.302022e-20 |\n",
       "| 15 | 0.1562513 | 0.1638022 | 0.1701025 | 0.17420551 | 0.17674000 | 0.17813338 | 0.17694345 | 0.15726322 | 0.14000641 | 0.12657286 | ⋯ | 1.399053e-115 | 8.104962e-126 | 2.161391e-137 | 1.242671e-149 | 7.411358e-163 | 3.633205e-177 | 1.291859e-192 | 4.713358e-209 | 1.429433e-226 | 4.581509e-245 |\n",
       "| 18 | 0.1562513 | 0.1979581 | 0.2454830 | 0.29118188 | 0.33469302 | 0.37587751 | 0.41474887 | 0.45172668 | 0.48615822 | 0.51779996 | ⋯ |  9.898658e-01 |  9.903218e-01 |  9.907797e-01 |  9.911947e-01 |  9.916244e-01 |  9.920352e-01 |  9.924275e-01 |  9.928076e-01 |  9.932046e-01 |  9.935827e-01 |\n",
       "| 19 | 0.1562513 | 0.1559960 | 0.1586003 | 0.15963184 | 0.15952259 | 0.15855780 | 0.15725656 | 0.15879162 | 0.16043795 | 0.16279594 | ⋯ |  4.771358e-01 |  4.916760e-01 |  5.071983e-01 |  5.233326e-01 |  5.392083e-01 |  5.555159e-01 |  5.723862e-01 |  5.891295e-01 |  6.040462e-01 |  6.178253e-01 |\n",
       "| 21 | 0.1562513 | 0.1369620 | 0.1176889 | 0.10171402 | 0.08829319 | 0.07690858 | 0.06746440 | 0.06199887 | 0.05668739 | 0.05115853 | ⋯ |  8.105366e-15 |  5.694890e-16 |  2.831644e-17 |  1.159729e-18 |  3.668751e-20 |  8.660394e-22 |  1.497814e-23 |  1.987315e-25 |  1.978841e-27 |  1.513800e-29 |\n",
       "| 22 | 0.1562513 | 0.1645466 | 0.1714622 | 0.17632018 | 0.17963769 | 0.18176301 | 0.18316543 | 0.18617882 | 0.18913192 | 0.19260723 | ⋯ |  2.978690e-01 |  2.898263e-01 |  2.791174e-01 |  2.691188e-01 |  2.581122e-01 |  2.465403e-01 |  2.343562e-01 |  2.206535e-01 |  2.053502e-01 |  1.891824e-01 |\n",
       "| 26 | 0.1562513 | 0.1462462 | 0.1431229 | 0.13928561 | 0.13499469 | 0.13041528 | 0.12505083 | 0.11338246 | 0.10155910 | 0.08925503 | ⋯ |  1.102319e-65 |  2.275018e-71 |  8.616399e-78 |  1.347346e-84 |  6.088247e-92 | 6.829089e-100 | 1.756474e-108 | 1.272904e-117 | 2.318657e-127 | 1.206868e-137 |\n",
       "| 30 | 0.1562513 | 0.1461723 | 0.1362323 | 0.12674516 | 0.11779274 | 0.10940215 | 0.10058633 | 0.08300772 | 0.06900590 | 0.05876855 | ⋯ | 1.645263e-116 | 9.518761e-127 | 2.553876e-138 | 1.440046e-150 | 8.529671e-164 | 4.124374e-178 | 1.420731e-193 | 4.985416e-210 | 1.443028e-227 | 4.362399e-246 |\n",
       "| 33 | 0.1562513 | 0.1552561 | 0.1585042 | 0.16011990 | 0.16054234 | 0.16006303 | 0.15918954 | 0.16093120 | 0.16275926 | 0.16530867 | ⋯ |  2.417557e-03 |  1.452606e-03 |  8.131515e-04 |  4.369916e-04 |  2.250574e-04 |  1.087705e-04 |  4.930802e-05 |  2.114594e-05 |  8.548064e-06 |  3.276168e-06 |\n",
       "| 38 | 0.1562513 | 0.1369133 | 0.1192261 | 0.10430847 | 0.09158070 | 0.08063191 | 0.07130384 | 0.06451893 | 0.05805989 | 0.05161510 | ⋯ |  3.183523e-32 |  5.872293e-35 |  4.773507e-38 |  2.522193e-41 |  7.307940e-45 |  1.078379e-48 |  7.806292e-53 |  3.058201e-57 |  6.156508e-62 |  6.760295e-67 |\n",
       "| 39 | 0.1562513 | 0.1406736 | 0.1281457 | 0.11679552 | 0.10650848 | 0.09718030 | 0.08788828 | 0.07166919 | 0.05895749 | 0.04978802 | ⋯ | 2.638012e-121 | 6.340122e-132 | 6.352955e-144 | 1.236745e-156 | 2.354322e-170 | 3.331066e-185 | 3.041777e-201 | 2.607725e-218 | 1.692808e-236 | 1.056952e-255 |\n",
       "| 44 | 0.1562513 | 0.1443691 | 0.1352312 | 0.12639177 | 0.11796582 | 0.11000455 | 0.10156566 | 0.08447524 | 0.06963246 | 0.05686283 | ⋯ | 1.142816e-121 | 2.400728e-132 | 2.044173e-144 | 3.421081e-157 | 5.494777e-171 | 6.503773e-186 | 4.924816e-202 | 3.451450e-219 | 1.806963e-237 | 9.026932e-257 |\n",
       "| 52 | 0.1562513 | 0.1405309 | 0.1239404 | 0.10968481 | 0.09732626 | 0.08654429 | 0.07743883 | 0.07274479 | 0.06790083 | 0.06243789 | ⋯ |  4.170342e-09 |  8.283221e-10 |  1.325872e-10 |  1.895189e-11 |  2.301989e-12 |  2.338180e-13 |  1.971366e-14 |  1.412165e-15 |  8.493991e-17 |  4.350414e-18 |\n",
       "| 54 | 0.1562513 | 0.1488810 | 0.1365118 | 0.12513580 | 0.11470623 | 0.10516008 | 0.09651572 | 0.08937231 | 0.08211469 | 0.07429540 | ⋯ |  3.345448e-33 |  5.361315e-36 |  3.679345e-39 |  1.656034e-42 |  3.969793e-46 |  4.783476e-50 |  2.809472e-54 |  8.783391e-59 |  1.379260e-63 |  1.161433e-68 |\n",
       "| 56 | 0.1562513 | 0.1373867 | 0.1185118 | 0.10278751 | 0.08951792 | 0.07821595 | 0.06786230 | 0.05301102 | 0.04121487 | 0.03192178 | ⋯ | 2.888036e-122 | 6.439477e-133 | 5.876617e-145 | 1.054580e-157 | 1.809157e-171 | 2.292764e-186 | 1.872219e-202 | 1.424615e-219 | 8.174830e-238 | 4.506752e-257 |\n",
       "| 59 | 0.1562513 | 0.1593705 | 0.1616275 | 0.16231488 | 0.16187162 | 0.16058579 | 0.15892808 | 0.15961232 | 0.16042921 | 0.16194050 | ⋯ |  4.868014e-01 |  5.031259e-01 |  5.198162e-01 |  5.349778e-01 |  5.493503e-01 |  5.627585e-01 |  5.751474e-01 |  5.870008e-01 |  5.982057e-01 |  6.086405e-01 |\n",
       "| 65 | 0.1562513 | 0.1585329 | 0.1554498 | 0.15134272 | 0.14664251 | 0.14161812 | 0.13678468 | 0.13538613 | 0.13255664 | 0.12720851 | ⋯ |  8.210721e-15 |  4.663862e-16 |  1.809725e-17 |  5.799287e-19 |  1.403521e-20 |  2.495842e-22 |  3.203970e-24 |  3.094312e-26 |  2.192931e-28 |  1.173690e-30 |\n",
       "| 66 | 0.1562513 | 0.1720564 | 0.1821629 | 0.18991189 | 0.19586948 | 0.20042249 | 0.20387302 | 0.20669314 | 0.20931260 | 0.21231948 | ⋯ |  7.437434e-07 |  2.435922e-07 |  6.840464e-08 |  1.753635e-08 |  4.008927e-09 |  8.021053e-10 |  1.396196e-10 |  2.157417e-11 |  2.933386e-12 |  3.534354e-13 |\n",
       "| 67 | 0.1562513 | 0.1429659 | 0.1298984 | 0.11810908 | 0.10746243 | 0.09783854 | 0.08960948 | 0.08689700 | 0.08494058 | 0.08427972 | ⋯ |  7.071704e-03 |  5.025213e-03 |  3.393909e-03 |  2.231428e-03 |  1.413646e-03 |  8.595324e-04 |  5.001901e-04 |  2.797207e-04 |  1.502394e-04 |  7.762614e-05 |\n",
       "| 69 | 0.1562513 | 0.1361046 | 0.1165686 | 0.10044631 | 0.08695352 | 0.07554715 | 0.06608093 | 0.06027813 | 0.05471796 | 0.04905520 | ⋯ |  1.113240e-18 |  3.549966e-20 |  7.248857e-22 |  1.147744e-23 |  1.306391e-25 |  1.011307e-27 |  5.214416e-30 |  1.905482e-32 |  4.786201e-35 |  8.533735e-38 |\n",
       "| 70 | 0.1562513 | 0.1567810 | 0.1538414 | 0.14987520 | 0.14530972 | 0.14041264 | 0.13402720 | 0.11452927 | 0.09829905 | 0.08603316 | ⋯ | 2.261060e-119 | 7.577218e-130 | 1.085900e-141 | 3.148443e-154 | 9.027958e-168 | 1.991287e-182 | 2.957847e-198 | 4.240727e-215 | 4.750910e-233 | 5.285616e-252 |\n",
       "| 72 | 0.1562513 | 0.1367737 | 0.1154703 | 0.09819262 | 0.08395930 | 0.07210017 | 0.06225074 | 0.05493709 | 0.04829136 | 0.04200479 | ⋯ |  5.422412e-32 |  1.195681e-34 |  1.185225e-37 |  7.751664e-41 |  2.809246e-44 |  5.276491e-48 |  4.963919e-52 |  2.564066e-56 |  6.888357e-61 |  1.022602e-65 |\n",
       "| 83 | 0.1562513 | 0.1424340 | 0.1304673 | 0.11950282 | 0.10947603 | 0.10031576 | 0.09244849 | 0.09022211 | 0.08871244 | 0.08850225 | ⋯ |  1.520973e-03 |  9.464728e-04 |  5.528428e-04 |  3.084794e-04 |  1.639358e-04 |  8.201776e-05 |  3.844288e-05 |  1.707418e-05 |  7.180130e-06 |  2.862019e-06 |\n",
       "| 84 | 0.1562513 | 0.1413282 | 0.1258505 | 0.11235606 | 0.10051090 | 0.09006292 | 0.08125195 | 0.07771373 | 0.07500849 | 0.07359420 | ⋯ |  6.757060e-01 |  7.005076e-01 |  7.259270e-01 |  7.493209e-01 |  7.743334e-01 |  7.974573e-01 |  8.185902e-01 |  8.379748e-01 |  8.554650e-01 |  8.709461e-01 |\n",
       "| 92 | 0.1562513 | 0.1734711 | 0.1775634 | 0.17954652 | 0.18007013 | 0.17956403 | 0.17884798 | 0.18324217 | 0.18801016 | 0.19391452 | ⋯ |  5.784453e-01 |  5.945640e-01 |  6.117203e-01 |  6.279662e-01 |  6.449207e-01 |  6.618872e-01 |  6.783227e-01 |  6.942275e-01 |  7.100116e-01 |  7.248453e-01 |\n",
       "| 93 | 0.1562513 | 0.1462927 | 0.1413198 | 0.13594418 | 0.13036189 | 0.12469325 | 0.11933166 | 0.11718128 | 0.11545177 | 0.11467494 | ⋯ |  1.962646e-02 |  1.533082e-02 |  1.159407e-02 |  8.457536e-03 |  6.009566e-03 |  4.108115e-03 |  2.690114e-03 |  1.705664e-03 |  1.043845e-03 |  6.176619e-04 |\n",
       "| 98 | 0.1562513 | 0.1364865 | 0.1186615 | 0.10366209 | 0.09088985 | 0.07992212 | 0.07057172 | 0.06357276 | 0.05696025 | 0.05043469 | ⋯ |  9.152985e-35 |  1.097296e-37 |  5.530254e-41 |  1.736436e-44 |  2.878676e-48 |  2.299895e-52 |  8.504873e-57 |  1.631161e-61 |  1.531644e-66 |  7.500160e-72 |\n",
       "| ⋮ | ⋮ | ⋮ | ⋮ | ⋮ | ⋮ | ⋮ | ⋮ | ⋮ | ⋮ | ⋮ | ⋱ | ⋮ | ⋮ | ⋮ | ⋮ | ⋮ | ⋮ | ⋮ | ⋮ | ⋮ | ⋮ |\n",
       "| 9015 | 0.1562513 | 0.1351007 | 0.1160454 | 0.10026634 | 0.08701925 | 0.07578784 | 0.06637352 | 0.05989901 | 0.05379264 | 0.04774772 | ⋯ | 9.929947e-29 | 4.038384e-31 | 8.071455e-34 | 1.095262e-36 | 8.781561e-40 | 3.880279e-43 | 9.139556e-47 | 1.255359e-50 | 9.602296e-55 | 4.305629e-59 |\n",
       "| 9018 | 0.1562513 | 0.1485045 | 0.1362156 | 0.12490632 | 0.11453227 | 0.10503253 | 0.09649434 | 0.09011821 | 0.08350360 | 0.07616205 | ⋯ | 1.575088e-27 | 7.459658e-30 | 1.737006e-32 | 2.845741e-35 | 2.751583e-38 | 1.494938e-41 | 4.444643e-45 | 7.787602e-49 | 7.662897e-53 | 4.482073e-57 |\n",
       "| 9020 | 0.1562513 | 0.1575632 | 0.1554926 | 0.15225329 | 0.14830115 | 0.14392473 | 0.13949126 | 0.13668751 | 0.13449351 | 0.13382260 | ⋯ | 2.877326e-22 | 3.849679e-24 | 2.923481e-26 | 1.661751e-28 | 6.233209e-31 | 1.474152e-33 | 2.141340e-36 | 2.038957e-39 | 1.225158e-42 | 4.841763e-46 |\n",
       "| 9021 | 0.1562513 | 0.1486053 | 0.1461070 | 0.14277248 | 0.13889027 | 0.13464425 | 0.13008865 | 0.12455038 | 0.11778156 | 0.10896847 | ⋯ | 1.176201e-27 | 5.391017e-30 | 1.228291e-32 | 1.929330e-35 | 1.814306e-38 | 9.558021e-42 | 2.725687e-45 | 4.592989e-49 | 4.365380e-53 | 2.464961e-57 |\n",
       "| 9022 | 0.1562513 | 0.1453574 | 0.1390474 | 0.13259198 | 0.12612941 | 0.11974089 | 0.11366889 | 0.10962145 | 0.10450786 | 0.09746443 | ⋯ | 1.404966e-10 | 2.183633e-11 | 2.673768e-12 | 2.837663e-13 | 2.532598e-14 | 1.835629e-15 | 1.062947e-16 | 5.111300e-18 | 2.008261e-19 | 6.557464e-21 |\n",
       "| 9025 | 0.1562513 | 0.1711020 | 0.1858416 | 0.19805373 | 0.20829021 | 0.21694309 | 0.22391011 | 0.22550960 | 0.22669615 | 0.22836793 | ⋯ | 2.408506e-25 | 1.907841e-27 | 7.962418e-30 | 2.387655e-32 | 4.458825e-35 | 4.935556e-38 | 3.147085e-41 | 1.242088e-44 | 2.904213e-48 | 4.230980e-52 |\n",
       "| 9031 | 0.1562513 | 0.1332721 | 0.1117452 | 0.09444345 | 0.08030222 | 0.06860229 | 0.05899985 | 0.05241338 | 0.04639018 | 0.04063707 | ⋯ | 1.099807e-27 | 5.746814e-30 | 1.517663e-32 | 2.769675e-35 | 3.050610e-38 | 1.898176e-41 | 6.461265e-45 | 1.310672e-48 | 1.514675e-52 | 1.048189e-56 |\n",
       "| 9032 | 0.1562513 | 0.1689738 | 0.1744696 | 0.17777461 | 0.17953486 | 0.18018414 | 0.18012557 | 0.18047054 | 0.18113125 | 0.18316542 | ⋯ | 5.439846e-24 | 4.667498e-26 | 2.120997e-28 | 7.081584e-31 | 1.484918e-33 | 1.872233e-36 | 1.387133e-39 | 6.417501e-43 | 1.771114e-46 | 3.072710e-50 |\n",
       "| 9033 | 0.1562513 | 0.1493130 | 0.1476293 | 0.14498064 | 0.14168137 | 0.13793358 | 0.13380957 | 0.12868730 | 0.12221330 | 0.11351989 | ⋯ | 5.394247e-27 | 2.736296e-29 | 6.988430e-32 | 1.238600e-34 | 1.326552e-37 | 8.039059e-41 | 2.667264e-44 | 5.281603e-48 | 5.960580e-52 | 4.035662e-56 |\n",
       "| 9037 | 0.1562513 | 0.1468239 | 0.1290770 | 0.11387318 | 0.10073330 | 0.08930487 | 0.07963432 | 0.07419818 | 0.06870889 | 0.06265478 | ⋯ | 1.077202e-07 | 3.282817e-08 | 8.470893e-09 | 2.020912e-09 | 4.247353e-10 | 7.805332e-11 | 1.248796e-11 | 1.764901e-12 | 2.185901e-13 | 2.401745e-14 |\n",
       "| 9038 | 0.1562513 | 0.1719824 | 0.1903241 | 0.20607849 | 0.21976779 | 0.23177619 | 0.24264900 | 0.25515010 | 0.26717545 | 0.27923101 | ⋯ | 7.483531e-01 | 7.572229e-01 | 7.652500e-01 | 7.741593e-01 | 7.817068e-01 | 7.889648e-01 | 7.962685e-01 | 8.031517e-01 | 8.094365e-01 | 8.153535e-01 |\n",
       "| 9039 | 0.1562513 | 0.1473537 | 0.1313817 | 0.11740790 | 0.10511126 | 0.09424431 | 0.08500663 | 0.08067983 | 0.07727438 | 0.07520540 | ⋯ | 3.443162e-02 | 3.194803e-02 | 2.897657e-02 | 2.626908e-02 | 2.330060e-02 | 2.039709e-02 | 1.766073e-02 | 1.502168e-02 | 1.252570e-02 | 1.026924e-02 |\n",
       "| 9040 | 0.1562513 | 0.1478193 | 0.1444792 | 0.14044346 | 0.13597130 | 0.13122644 | 0.12626899 | 0.12060910 | 0.11381034 | 0.10508851 | ⋯ | 7.926192e-27 | 4.428290e-29 | 1.260322e-31 | 2.512964e-34 | 3.058204e-37 | 2.138708e-40 | 8.299831e-44 | 1.940361e-47 | 2.610597e-51 | 2.128506e-55 |\n",
       "| 9043 | 0.1562513 | 0.1580930 | 0.1602210 | 0.16080682 | 0.16028237 | 0.15893121 | 0.15718306 | 0.15736774 | 0.15769713 | 0.15876790 | ⋯ | 7.505444e-04 | 4.436748e-04 | 2.452930e-04 | 1.308608e-04 | 6.646850e-05 | 3.189768e-05 | 1.438957e-05 | 6.155201e-06 | 2.469327e-06 | 9.358484e-07 |\n",
       "| 9048 | 0.1562513 | 0.1448266 | 0.1333461 | 0.12270596 | 0.11288871 | 0.10385396 | 0.09577393 | 0.09046968 | 0.08612516 | 0.08334138 | ⋯ | 8.279477e-23 | 1.105896e-24 | 8.409432e-27 | 4.764582e-29 | 1.787547e-31 | 4.225243e-34 | 6.128767e-37 | 5.821642e-40 | 3.483450e-43 | 1.369447e-46 |\n",
       "| 9049 | 0.1562513 | 0.1381295 | 0.1198249 | 0.10446034 | 0.09140813 | 0.08022490 | 0.07076692 | 0.06426504 | 0.05804837 | 0.05177855 | ⋯ | 2.030856e-26 | 1.301172e-28 | 4.332494e-31 | 1.016826e-33 | 1.468343e-36 | 1.229021e-39 | 5.787487e-43 | 1.663361e-46 | 2.794148e-50 | 2.874590e-54 |\n",
       "| 9051 | 0.1562513 | 0.1812417 | 0.2121808 | 0.24067609 | 0.26702212 | 0.29149004 | 0.31457587 | 0.33909814 | 0.36258418 | 0.38523137 | ⋯ | 8.836537e-01 | 8.834799e-01 | 8.830593e-01 | 8.834876e-01 | 8.838889e-01 | 8.843725e-01 | 8.851901e-01 | 8.859533e-01 | 8.862919e-01 | 8.866561e-01 |\n",
       "| 9055 | 0.1562513 | 0.1753438 | 0.2075342 | 0.23756844 | 0.26563658 | 0.29194014 | 0.31708938 | 0.34544335 | 0.37279993 | 0.39935612 | ⋯ | 9.073498e-01 | 9.094019e-01 | 9.113713e-01 | 9.132930e-01 | 9.149945e-01 | 9.166990e-01 | 9.183868e-01 | 9.199881e-01 | 9.214957e-01 | 9.229979e-01 |\n",
       "| 9058 | 0.1562513 | 0.1397815 | 0.1223538 | 0.10754011 | 0.09481753 | 0.08380999 | 0.07461638 | 0.07026456 | 0.06683847 | 0.06472723 | ⋯ | 2.895441e-05 | 1.418349e-05 | 6.264444e-06 | 2.594933e-06 | 9.940328e-07 | 3.483228e-07 | 1.109957e-07 | 3.260629e-08 | 8.800883e-09 | 2.192556e-09 |\n",
       "| 9060 | 0.1562513 | 0.1646396 | 0.1645588 | 0.16295114 | 0.16035282 | 0.15710876 | 0.15358424 | 0.15113648 | 0.14705197 | 0.14021011 | ⋯ | 8.290858e-25 | 6.321295e-27 | 2.543906e-29 | 7.422172e-32 | 1.355305e-34 | 1.472517e-37 | 9.275440e-41 | 3.623913e-44 | 8.403005e-48 | 1.216401e-51 |\n",
       "| 9061 | 0.1562513 | 0.1368435 | 0.1173352 | 0.10120956 | 0.08769519 | 0.07625664 | 0.06668830 | 0.06016643 | 0.05402183 | 0.04792953 | ⋯ | 2.072368e-25 | 1.613406e-27 | 6.657082e-30 | 1.962574e-32 | 3.629217e-35 | 3.968831e-38 | 2.484799e-41 | 9.618238e-45 | 2.204574e-48 | 3.137165e-52 |\n",
       "| 9062 | 0.1562513 | 0.1575112 | 0.1573124 | 0.15568102 | 0.15311960 | 0.14995299 | 0.14706934 | 0.15101564 | 0.15545552 | 0.16121370 | ⋯ | 6.715697e-01 | 6.897891e-01 | 7.074142e-01 | 7.236417e-01 | 7.382289e-01 | 7.517225e-01 | 7.640180e-01 | 7.754654e-01 | 7.862453e-01 | 7.960981e-01 |\n",
       "| 9063 | 0.1562513 | 0.1520798 | 0.1505081 | 0.14775529 | 0.14426685 | 0.14032765 | 0.13682848 | 0.14055505 | 0.14480461 | 0.15041560 | ⋯ | 6.247888e-01 | 6.350233e-01 | 6.465895e-01 | 6.572434e-01 | 6.680439e-01 | 6.786322e-01 | 6.893012e-01 | 6.999536e-01 | 7.106353e-01 | 7.213905e-01 |\n",
       "| 9066 | 0.1562513 | 0.1434651 | 0.1268587 | 0.11252451 | 0.10005187 | 0.08913625 | 0.07994657 | 0.07577684 | 0.07251236 | 0.07056124 | ⋯ | 8.513195e-03 | 7.137944e-03 | 5.794167e-03 | 4.649477e-03 | 3.637142e-03 | 2.781921e-03 | 2.072548e-03 | 1.503996e-03 | 1.060381e-03 | 7.274229e-04 |\n",
       "| 9071 | 0.1562513 | 0.1531262 | 0.1508141 | 0.14759083 | 0.14376739 | 0.13954129 | 0.13532143 | 0.13374331 | 0.13249547 | 0.13211838 | ⋯ | 4.764067e-02 | 4.189168e-02 | 3.582012e-02 | 3.026518e-02 | 2.494898e-02 | 2.011201e-02 | 1.584924e-02 | 1.220759e-02 | 9.168329e-03 | 6.725670e-03 |\n",
       "| 9074 | 0.1562513 | 0.1397008 | 0.1225209 | 0.10787877 | 0.09527394 | 0.08434528 | 0.07502380 | 0.06875847 | 0.06264554 | 0.05631779 | ⋯ | 4.540940e-25 | 3.847705e-27 | 1.747666e-29 | 5.735944e-32 | 1.190616e-34 | 1.479200e-37 | 1.067599e-40 | 4.820871e-44 | 1.305147e-47 | 2.221628e-51 |\n",
       "| 9079 | 0.1562513 | 0.1385988 | 0.1206479 | 0.10550900 | 0.09259519 | 0.08148954 | 0.07216814 | 0.06677351 | 0.06143187 | 0.05574572 | ⋯ | 8.458418e-16 | 4.757576e-17 | 1.833192e-18 | 5.746891e-20 | 1.359319e-21 | 2.342075e-23 | 2.884763e-25 | 2.667416e-27 | 1.807425e-29 | 9.213003e-32 |\n",
       "| 9088 | 0.1562513 | 0.1734623 | 0.1998180 | 0.22373132 | 0.24557227 | 0.26564934 | 0.28399795 | 0.29850486 | 0.30830512 | 0.31025501 | ⋯ | 6.857062e-21 | 1.025858e-22 | 8.820650e-25 | 5.771344e-27 | 2.517977e-29 | 7.028031e-32 | 1.225642e-34 | 1.417238e-37 | 1.045897e-40 | 5.145660e-44 |\n",
       "| 9094 | 0.1562513 | 0.1729040 | 0.1960558 | 0.21666387 | 0.23517360 | 0.25193387 | 0.26755710 | 0.28562788 | 0.30309468 | 0.32037575 | ⋯ | 8.545656e-01 | 8.564413e-01 | 8.580124e-01 | 8.596093e-01 | 8.600629e-01 | 8.600425e-01 | 8.602298e-01 | 8.603262e-01 | 8.602999e-01 | 8.602804e-01 |\n",
       "| 9100 | 0.1562513 | 0.1468309 | 0.1416325 | 0.13606582 | 0.13032023 | 0.12451140 | 0.11873219 | 0.11309878 | 0.10648049 | 0.09811704 | ⋯ | 2.681632e-22 | 3.777084e-24 | 3.058826e-26 | 1.832089e-28 | 7.299147e-31 | 1.827838e-33 | 2.797587e-36 | 2.812763e-39 | 1.788817e-42 | 7.491048e-46 |\n",
       "\n"
      ],
      "text/plain": [
       "     s0        s1        s2        s3         s4         s5         s6        \n",
       "5    0.1562513 0.1516469 0.1422986 0.13319000 0.12446573 0.11619354 0.10727731\n",
       "6    0.1562513 0.1597167 0.1471345 0.13541595 0.12457252 0.11457480 0.10575651\n",
       "12   0.1562513 0.1550046 0.1560927 0.15579073 0.15449947 0.15248097 0.15022835\n",
       "13   0.1562513 0.1376618 0.1186057 0.10275401 0.08939490 0.07803077 0.06861491\n",
       "15   0.1562513 0.1638022 0.1701025 0.17420551 0.17674000 0.17813338 0.17694345\n",
       "18   0.1562513 0.1979581 0.2454830 0.29118188 0.33469302 0.37587751 0.41474887\n",
       "19   0.1562513 0.1559960 0.1586003 0.15963184 0.15952259 0.15855780 0.15725656\n",
       "21   0.1562513 0.1369620 0.1176889 0.10171402 0.08829319 0.07690858 0.06746440\n",
       "22   0.1562513 0.1645466 0.1714622 0.17632018 0.17963769 0.18176301 0.18316543\n",
       "26   0.1562513 0.1462462 0.1431229 0.13928561 0.13499469 0.13041528 0.12505083\n",
       "30   0.1562513 0.1461723 0.1362323 0.12674516 0.11779274 0.10940215 0.10058633\n",
       "33   0.1562513 0.1552561 0.1585042 0.16011990 0.16054234 0.16006303 0.15918954\n",
       "38   0.1562513 0.1369133 0.1192261 0.10430847 0.09158070 0.08063191 0.07130384\n",
       "39   0.1562513 0.1406736 0.1281457 0.11679552 0.10650848 0.09718030 0.08788828\n",
       "44   0.1562513 0.1443691 0.1352312 0.12639177 0.11796582 0.11000455 0.10156566\n",
       "52   0.1562513 0.1405309 0.1239404 0.10968481 0.09732626 0.08654429 0.07743883\n",
       "54   0.1562513 0.1488810 0.1365118 0.12513580 0.11470623 0.10516008 0.09651572\n",
       "56   0.1562513 0.1373867 0.1185118 0.10278751 0.08951792 0.07821595 0.06786230\n",
       "59   0.1562513 0.1593705 0.1616275 0.16231488 0.16187162 0.16058579 0.15892808\n",
       "65   0.1562513 0.1585329 0.1554498 0.15134272 0.14664251 0.14161812 0.13678468\n",
       "66   0.1562513 0.1720564 0.1821629 0.18991189 0.19586948 0.20042249 0.20387302\n",
       "67   0.1562513 0.1429659 0.1298984 0.11810908 0.10746243 0.09783854 0.08960948\n",
       "69   0.1562513 0.1361046 0.1165686 0.10044631 0.08695352 0.07554715 0.06608093\n",
       "70   0.1562513 0.1567810 0.1538414 0.14987520 0.14530972 0.14041264 0.13402720\n",
       "72   0.1562513 0.1367737 0.1154703 0.09819262 0.08395930 0.07210017 0.06225074\n",
       "83   0.1562513 0.1424340 0.1304673 0.11950282 0.10947603 0.10031576 0.09244849\n",
       "84   0.1562513 0.1413282 0.1258505 0.11235606 0.10051090 0.09006292 0.08125195\n",
       "92   0.1562513 0.1734711 0.1775634 0.17954652 0.18007013 0.17956403 0.17884798\n",
       "93   0.1562513 0.1462927 0.1413198 0.13594418 0.13036189 0.12469325 0.11933166\n",
       "98   0.1562513 0.1364865 0.1186615 0.10366209 0.09088985 0.07992212 0.07057172\n",
       "⋮    ⋮         ⋮         ⋮         ⋮          ⋮          ⋮          ⋮         \n",
       "9015 0.1562513 0.1351007 0.1160454 0.10026634 0.08701925 0.07578784 0.06637352\n",
       "9018 0.1562513 0.1485045 0.1362156 0.12490632 0.11453227 0.10503253 0.09649434\n",
       "9020 0.1562513 0.1575632 0.1554926 0.15225329 0.14830115 0.14392473 0.13949126\n",
       "9021 0.1562513 0.1486053 0.1461070 0.14277248 0.13889027 0.13464425 0.13008865\n",
       "9022 0.1562513 0.1453574 0.1390474 0.13259198 0.12612941 0.11974089 0.11366889\n",
       "9025 0.1562513 0.1711020 0.1858416 0.19805373 0.20829021 0.21694309 0.22391011\n",
       "9031 0.1562513 0.1332721 0.1117452 0.09444345 0.08030222 0.06860229 0.05899985\n",
       "9032 0.1562513 0.1689738 0.1744696 0.17777461 0.17953486 0.18018414 0.18012557\n",
       "9033 0.1562513 0.1493130 0.1476293 0.14498064 0.14168137 0.13793358 0.13380957\n",
       "9037 0.1562513 0.1468239 0.1290770 0.11387318 0.10073330 0.08930487 0.07963432\n",
       "9038 0.1562513 0.1719824 0.1903241 0.20607849 0.21976779 0.23177619 0.24264900\n",
       "9039 0.1562513 0.1473537 0.1313817 0.11740790 0.10511126 0.09424431 0.08500663\n",
       "9040 0.1562513 0.1478193 0.1444792 0.14044346 0.13597130 0.13122644 0.12626899\n",
       "9043 0.1562513 0.1580930 0.1602210 0.16080682 0.16028237 0.15893121 0.15718306\n",
       "9048 0.1562513 0.1448266 0.1333461 0.12270596 0.11288871 0.10385396 0.09577393\n",
       "9049 0.1562513 0.1381295 0.1198249 0.10446034 0.09140813 0.08022490 0.07076692\n",
       "9051 0.1562513 0.1812417 0.2121808 0.24067609 0.26702212 0.29149004 0.31457587\n",
       "9055 0.1562513 0.1753438 0.2075342 0.23756844 0.26563658 0.29194014 0.31708938\n",
       "9058 0.1562513 0.1397815 0.1223538 0.10754011 0.09481753 0.08380999 0.07461638\n",
       "9060 0.1562513 0.1646396 0.1645588 0.16295114 0.16035282 0.15710876 0.15358424\n",
       "9061 0.1562513 0.1368435 0.1173352 0.10120956 0.08769519 0.07625664 0.06668830\n",
       "9062 0.1562513 0.1575112 0.1573124 0.15568102 0.15311960 0.14995299 0.14706934\n",
       "9063 0.1562513 0.1520798 0.1505081 0.14775529 0.14426685 0.14032765 0.13682848\n",
       "9066 0.1562513 0.1434651 0.1268587 0.11252451 0.10005187 0.08913625 0.07994657\n",
       "9071 0.1562513 0.1531262 0.1508141 0.14759083 0.14376739 0.13954129 0.13532143\n",
       "9074 0.1562513 0.1397008 0.1225209 0.10787877 0.09527394 0.08434528 0.07502380\n",
       "9079 0.1562513 0.1385988 0.1206479 0.10550900 0.09259519 0.08148954 0.07216814\n",
       "9088 0.1562513 0.1734623 0.1998180 0.22373132 0.24557227 0.26564934 0.28399795\n",
       "9094 0.1562513 0.1729040 0.1960558 0.21666387 0.23517360 0.25193387 0.26755710\n",
       "9100 0.1562513 0.1468309 0.1416325 0.13606582 0.13032023 0.12451140 0.11873219\n",
       "     s7         s8         s9         ⋯ s71           s72          \n",
       "5    0.08825831 0.07193419 0.05804534 ⋯ 9.549713e-124 1.419638e-134\n",
       "6    0.10147396 0.09808927 0.09606796 ⋯  1.957542e-01  2.047436e-01\n",
       "12   0.15080215 0.15154883 0.15305332 ⋯  3.966627e-01  4.104588e-01\n",
       "13   0.06351545 0.05848599 0.05312680 ⋯  2.181335e-10  3.483275e-11\n",
       "15   0.15726322 0.14000641 0.12657286 ⋯ 1.399053e-115 8.104962e-126\n",
       "18   0.45172668 0.48615822 0.51779996 ⋯  9.898658e-01  9.903218e-01\n",
       "19   0.15879162 0.16043795 0.16279594 ⋯  4.771358e-01  4.916760e-01\n",
       "21   0.06199887 0.05668739 0.05115853 ⋯  8.105366e-15  5.694890e-16\n",
       "22   0.18617882 0.18913192 0.19260723 ⋯  2.978690e-01  2.898263e-01\n",
       "26   0.11338246 0.10155910 0.08925503 ⋯  1.102319e-65  2.275018e-71\n",
       "30   0.08300772 0.06900590 0.05876855 ⋯ 1.645263e-116 9.518761e-127\n",
       "33   0.16093120 0.16275926 0.16530867 ⋯  2.417557e-03  1.452606e-03\n",
       "38   0.06451893 0.05805989 0.05161510 ⋯  3.183523e-32  5.872293e-35\n",
       "39   0.07166919 0.05895749 0.04978802 ⋯ 2.638012e-121 6.340122e-132\n",
       "44   0.08447524 0.06963246 0.05686283 ⋯ 1.142816e-121 2.400728e-132\n",
       "52   0.07274479 0.06790083 0.06243789 ⋯  4.170342e-09  8.283221e-10\n",
       "54   0.08937231 0.08211469 0.07429540 ⋯  3.345448e-33  5.361315e-36\n",
       "56   0.05301102 0.04121487 0.03192178 ⋯ 2.888036e-122 6.439477e-133\n",
       "59   0.15961232 0.16042921 0.16194050 ⋯  4.868014e-01  5.031259e-01\n",
       "65   0.13538613 0.13255664 0.12720851 ⋯  8.210721e-15  4.663862e-16\n",
       "66   0.20669314 0.20931260 0.21231948 ⋯  7.437434e-07  2.435922e-07\n",
       "67   0.08689700 0.08494058 0.08427972 ⋯  7.071704e-03  5.025213e-03\n",
       "69   0.06027813 0.05471796 0.04905520 ⋯  1.113240e-18  3.549966e-20\n",
       "70   0.11452927 0.09829905 0.08603316 ⋯ 2.261060e-119 7.577218e-130\n",
       "72   0.05493709 0.04829136 0.04200479 ⋯  5.422412e-32  1.195681e-34\n",
       "83   0.09022211 0.08871244 0.08850225 ⋯  1.520973e-03  9.464728e-04\n",
       "84   0.07771373 0.07500849 0.07359420 ⋯  6.757060e-01  7.005076e-01\n",
       "92   0.18324217 0.18801016 0.19391452 ⋯  5.784453e-01  5.945640e-01\n",
       "93   0.11718128 0.11545177 0.11467494 ⋯  1.962646e-02  1.533082e-02\n",
       "98   0.06357276 0.05696025 0.05043469 ⋯  9.152985e-35  1.097296e-37\n",
       "⋮    ⋮          ⋮          ⋮          ⋱ ⋮             ⋮            \n",
       "9015 0.05989901 0.05379264 0.04774772 ⋯ 9.929947e-29  4.038384e-31 \n",
       "9018 0.09011821 0.08350360 0.07616205 ⋯ 1.575088e-27  7.459658e-30 \n",
       "9020 0.13668751 0.13449351 0.13382260 ⋯ 2.877326e-22  3.849679e-24 \n",
       "9021 0.12455038 0.11778156 0.10896847 ⋯ 1.176201e-27  5.391017e-30 \n",
       "9022 0.10962145 0.10450786 0.09746443 ⋯ 1.404966e-10  2.183633e-11 \n",
       "9025 0.22550960 0.22669615 0.22836793 ⋯ 2.408506e-25  1.907841e-27 \n",
       "9031 0.05241338 0.04639018 0.04063707 ⋯ 1.099807e-27  5.746814e-30 \n",
       "9032 0.18047054 0.18113125 0.18316542 ⋯ 5.439846e-24  4.667498e-26 \n",
       "9033 0.12868730 0.12221330 0.11351989 ⋯ 5.394247e-27  2.736296e-29 \n",
       "9037 0.07419818 0.06870889 0.06265478 ⋯ 1.077202e-07  3.282817e-08 \n",
       "9038 0.25515010 0.26717545 0.27923101 ⋯ 7.483531e-01  7.572229e-01 \n",
       "9039 0.08067983 0.07727438 0.07520540 ⋯ 3.443162e-02  3.194803e-02 \n",
       "9040 0.12060910 0.11381034 0.10508851 ⋯ 7.926192e-27  4.428290e-29 \n",
       "9043 0.15736774 0.15769713 0.15876790 ⋯ 7.505444e-04  4.436748e-04 \n",
       "9048 0.09046968 0.08612516 0.08334138 ⋯ 8.279477e-23  1.105896e-24 \n",
       "9049 0.06426504 0.05804837 0.05177855 ⋯ 2.030856e-26  1.301172e-28 \n",
       "9051 0.33909814 0.36258418 0.38523137 ⋯ 8.836537e-01  8.834799e-01 \n",
       "9055 0.34544335 0.37279993 0.39935612 ⋯ 9.073498e-01  9.094019e-01 \n",
       "9058 0.07026456 0.06683847 0.06472723 ⋯ 2.895441e-05  1.418349e-05 \n",
       "9060 0.15113648 0.14705197 0.14021011 ⋯ 8.290858e-25  6.321295e-27 \n",
       "9061 0.06016643 0.05402183 0.04792953 ⋯ 2.072368e-25  1.613406e-27 \n",
       "9062 0.15101564 0.15545552 0.16121370 ⋯ 6.715697e-01  6.897891e-01 \n",
       "9063 0.14055505 0.14480461 0.15041560 ⋯ 6.247888e-01  6.350233e-01 \n",
       "9066 0.07577684 0.07251236 0.07056124 ⋯ 8.513195e-03  7.137944e-03 \n",
       "9071 0.13374331 0.13249547 0.13211838 ⋯ 4.764067e-02  4.189168e-02 \n",
       "9074 0.06875847 0.06264554 0.05631779 ⋯ 4.540940e-25  3.847705e-27 \n",
       "9079 0.06677351 0.06143187 0.05574572 ⋯ 8.458418e-16  4.757576e-17 \n",
       "9088 0.29850486 0.30830512 0.31025501 ⋯ 6.857062e-21  1.025858e-22 \n",
       "9094 0.28562788 0.30309468 0.32037575 ⋯ 8.545656e-01  8.564413e-01 \n",
       "9100 0.11309878 0.10648049 0.09811704 ⋯ 2.681632e-22  3.777084e-24 \n",
       "     s73           s74           s75           s76           s77          \n",
       "5    8.168105e-147 9.093178e-160 9.288869e-174 6.744672e-189 3.034610e-205\n",
       "6     2.149876e-01  2.255423e-01  2.365106e-01  2.484357e-01  2.614184e-01\n",
       "12    4.247428e-01  4.392848e-01  4.536090e-01  4.681350e-01  4.829934e-01\n",
       "13    4.368368e-12  4.791735e-13  4.386179e-14  3.271773e-15  1.962449e-16\n",
       "15   2.161391e-137 1.242671e-149 7.411358e-163 3.633205e-177 1.291859e-192\n",
       "18    9.907797e-01  9.911947e-01  9.916244e-01  9.920352e-01  9.924275e-01\n",
       "19    5.071983e-01  5.233326e-01  5.392083e-01  5.555159e-01  5.723862e-01\n",
       "21    2.831644e-17  1.159729e-18  3.668751e-20  8.660394e-22  1.497814e-23\n",
       "22    2.791174e-01  2.691188e-01  2.581122e-01  2.465403e-01  2.343562e-01\n",
       "26    8.616399e-78  1.347346e-84  6.088247e-92 6.829089e-100 1.756474e-108\n",
       "30   2.553876e-138 1.440046e-150 8.529671e-164 4.124374e-178 1.420731e-193\n",
       "33    8.131515e-04  4.369916e-04  2.250574e-04  1.087705e-04  4.930802e-05\n",
       "38    4.773507e-38  2.522193e-41  7.307940e-45  1.078379e-48  7.806292e-53\n",
       "39   6.352955e-144 1.236745e-156 2.354322e-170 3.331066e-185 3.041777e-201\n",
       "44   2.044173e-144 3.421081e-157 5.494777e-171 6.503773e-186 4.924816e-202\n",
       "52    1.325872e-10  1.895189e-11  2.301989e-12  2.338180e-13  1.971366e-14\n",
       "54    3.679345e-39  1.656034e-42  3.969793e-46  4.783476e-50  2.809472e-54\n",
       "56   5.876617e-145 1.054580e-157 1.809157e-171 2.292764e-186 1.872219e-202\n",
       "59    5.198162e-01  5.349778e-01  5.493503e-01  5.627585e-01  5.751474e-01\n",
       "65    1.809725e-17  5.799287e-19  1.403521e-20  2.495842e-22  3.203970e-24\n",
       "66    6.840464e-08  1.753635e-08  4.008927e-09  8.021053e-10  1.396196e-10\n",
       "67    3.393909e-03  2.231428e-03  1.413646e-03  8.595324e-04  5.001901e-04\n",
       "69    7.248857e-22  1.147744e-23  1.306391e-25  1.011307e-27  5.214416e-30\n",
       "70   1.085900e-141 3.148443e-154 9.027958e-168 1.991287e-182 2.957847e-198\n",
       "72    1.185225e-37  7.751664e-41  2.809246e-44  5.276491e-48  4.963919e-52\n",
       "83    5.528428e-04  3.084794e-04  1.639358e-04  8.201776e-05  3.844288e-05\n",
       "84    7.259270e-01  7.493209e-01  7.743334e-01  7.974573e-01  8.185902e-01\n",
       "92    6.117203e-01  6.279662e-01  6.449207e-01  6.618872e-01  6.783227e-01\n",
       "93    1.159407e-02  8.457536e-03  6.009566e-03  4.108115e-03  2.690114e-03\n",
       "98    5.530254e-41  1.736436e-44  2.878676e-48  2.299895e-52  8.504873e-57\n",
       "⋮    ⋮             ⋮             ⋮             ⋮             ⋮            \n",
       "9015 8.071455e-34  1.095262e-36  8.781561e-40  3.880279e-43  9.139556e-47 \n",
       "9018 1.737006e-32  2.845741e-35  2.751583e-38  1.494938e-41  4.444643e-45 \n",
       "9020 2.923481e-26  1.661751e-28  6.233209e-31  1.474152e-33  2.141340e-36 \n",
       "9021 1.228291e-32  1.929330e-35  1.814306e-38  9.558021e-42  2.725687e-45 \n",
       "9022 2.673768e-12  2.837663e-13  2.532598e-14  1.835629e-15  1.062947e-16 \n",
       "9025 7.962418e-30  2.387655e-32  4.458825e-35  4.935556e-38  3.147085e-41 \n",
       "9031 1.517663e-32  2.769675e-35  3.050610e-38  1.898176e-41  6.461265e-45 \n",
       "9032 2.120997e-28  7.081584e-31  1.484918e-33  1.872233e-36  1.387133e-39 \n",
       "9033 6.988430e-32  1.238600e-34  1.326552e-37  8.039059e-41  2.667264e-44 \n",
       "9037 8.470893e-09  2.020912e-09  4.247353e-10  7.805332e-11  1.248796e-11 \n",
       "9038 7.652500e-01  7.741593e-01  7.817068e-01  7.889648e-01  7.962685e-01 \n",
       "9039 2.897657e-02  2.626908e-02  2.330060e-02  2.039709e-02  1.766073e-02 \n",
       "9040 1.260322e-31  2.512964e-34  3.058204e-37  2.138708e-40  8.299831e-44 \n",
       "9043 2.452930e-04  1.308608e-04  6.646850e-05  3.189768e-05  1.438957e-05 \n",
       "9048 8.409432e-27  4.764582e-29  1.787547e-31  4.225243e-34  6.128767e-37 \n",
       "9049 4.332494e-31  1.016826e-33  1.468343e-36  1.229021e-39  5.787487e-43 \n",
       "9051 8.830593e-01  8.834876e-01  8.838889e-01  8.843725e-01  8.851901e-01 \n",
       "9055 9.113713e-01  9.132930e-01  9.149945e-01  9.166990e-01  9.183868e-01 \n",
       "9058 6.264444e-06  2.594933e-06  9.940328e-07  3.483228e-07  1.109957e-07 \n",
       "9060 2.543906e-29  7.422172e-32  1.355305e-34  1.472517e-37  9.275440e-41 \n",
       "9061 6.657082e-30  1.962574e-32  3.629217e-35  3.968831e-38  2.484799e-41 \n",
       "9062 7.074142e-01  7.236417e-01  7.382289e-01  7.517225e-01  7.640180e-01 \n",
       "9063 6.465895e-01  6.572434e-01  6.680439e-01  6.786322e-01  6.893012e-01 \n",
       "9066 5.794167e-03  4.649477e-03  3.637142e-03  2.781921e-03  2.072548e-03 \n",
       "9071 3.582012e-02  3.026518e-02  2.494898e-02  2.011201e-02  1.584924e-02 \n",
       "9074 1.747666e-29  5.735944e-32  1.190616e-34  1.479200e-37  1.067599e-40 \n",
       "9079 1.833192e-18  5.746891e-20  1.359319e-21  2.342075e-23  2.884763e-25 \n",
       "9088 8.820650e-25  5.771344e-27  2.517977e-29  7.028031e-32  1.225642e-34 \n",
       "9094 8.580124e-01  8.596093e-01  8.600629e-01  8.600425e-01  8.602298e-01 \n",
       "9100 3.058826e-26  1.832089e-28  7.299147e-31  1.827838e-33  2.797587e-36 \n",
       "     s78           s79           s80          \n",
       "5    1.223796e-222 3.547452e-241 9.490362e-261\n",
       "6     2.751790e-01  2.902739e-01  3.060290e-01\n",
       "12    4.974782e-01  5.113902e-01  5.245708e-01\n",
       "13    9.750187e-18  3.919788e-19  1.302022e-20\n",
       "15   4.713358e-209 1.429433e-226 4.581509e-245\n",
       "18    9.928076e-01  9.932046e-01  9.935827e-01\n",
       "19    5.891295e-01  6.040462e-01  6.178253e-01\n",
       "21    1.987315e-25  1.978841e-27  1.513800e-29\n",
       "22    2.206535e-01  2.053502e-01  1.891824e-01\n",
       "26   1.272904e-117 2.318657e-127 1.206868e-137\n",
       "30   4.985416e-210 1.443028e-227 4.362399e-246\n",
       "33    2.114594e-05  8.548064e-06  3.276168e-06\n",
       "38    3.058201e-57  6.156508e-62  6.760295e-67\n",
       "39   2.607725e-218 1.692808e-236 1.056952e-255\n",
       "44   3.451450e-219 1.806963e-237 9.026932e-257\n",
       "52    1.412165e-15  8.493991e-17  4.350414e-18\n",
       "54    8.783391e-59  1.379260e-63  1.161433e-68\n",
       "56   1.424615e-219 8.174830e-238 4.506752e-257\n",
       "59    5.870008e-01  5.982057e-01  6.086405e-01\n",
       "65    3.094312e-26  2.192931e-28  1.173690e-30\n",
       "66    2.157417e-11  2.933386e-12  3.534354e-13\n",
       "67    2.797207e-04  1.502394e-04  7.762614e-05\n",
       "69    1.905482e-32  4.786201e-35  8.533735e-38\n",
       "70   4.240727e-215 4.750910e-233 5.285616e-252\n",
       "72    2.564066e-56  6.888357e-61  1.022602e-65\n",
       "83    1.707418e-05  7.180130e-06  2.862019e-06\n",
       "84    8.379748e-01  8.554650e-01  8.709461e-01\n",
       "92    6.942275e-01  7.100116e-01  7.248453e-01\n",
       "93    1.705664e-03  1.043845e-03  6.176619e-04\n",
       "98    1.631161e-61  1.531644e-66  7.500160e-72\n",
       "⋮    ⋮             ⋮             ⋮            \n",
       "9015 1.255359e-50  9.602296e-55  4.305629e-59 \n",
       "9018 7.787602e-49  7.662897e-53  4.482073e-57 \n",
       "9020 2.038957e-39  1.225158e-42  4.841763e-46 \n",
       "9021 4.592989e-49  4.365380e-53  2.464961e-57 \n",
       "9022 5.111300e-18  2.008261e-19  6.557464e-21 \n",
       "9025 1.242088e-44  2.904213e-48  4.230980e-52 \n",
       "9031 1.310672e-48  1.514675e-52  1.048189e-56 \n",
       "9032 6.417501e-43  1.771114e-46  3.072710e-50 \n",
       "9033 5.281603e-48  5.960580e-52  4.035662e-56 \n",
       "9037 1.764901e-12  2.185901e-13  2.401745e-14 \n",
       "9038 8.031517e-01  8.094365e-01  8.153535e-01 \n",
       "9039 1.502168e-02  1.252570e-02  1.026924e-02 \n",
       "9040 1.940361e-47  2.610597e-51  2.128506e-55 \n",
       "9043 6.155201e-06  2.469327e-06  9.358484e-07 \n",
       "9048 5.821642e-40  3.483450e-43  1.369447e-46 \n",
       "9049 1.663361e-46  2.794148e-50  2.874590e-54 \n",
       "9051 8.859533e-01  8.862919e-01  8.866561e-01 \n",
       "9055 9.199881e-01  9.214957e-01  9.229979e-01 \n",
       "9058 3.260629e-08  8.800883e-09  2.192556e-09 \n",
       "9060 3.623913e-44  8.403005e-48  1.216401e-51 \n",
       "9061 9.618238e-45  2.204574e-48  3.137165e-52 \n",
       "9062 7.754654e-01  7.862453e-01  7.960981e-01 \n",
       "9063 6.999536e-01  7.106353e-01  7.213905e-01 \n",
       "9066 1.503996e-03  1.060381e-03  7.274229e-04 \n",
       "9071 1.220759e-02  9.168329e-03  6.725670e-03 \n",
       "9074 4.820871e-44  1.305147e-47  2.221628e-51 \n",
       "9079 2.667416e-27  1.807425e-29  9.213003e-32 \n",
       "9088 1.417238e-37  1.045897e-40  5.145660e-44 \n",
       "9094 8.603262e-01  8.602999e-01  8.602804e-01 \n",
       "9100 2.812763e-39  1.788817e-42  7.491048e-46 "
      ]
     },
     "metadata": {},
     "output_type": "display_data"
    }
   ],
   "source": [
    "lasso_preds"
   ]
  },
  {
   "cell_type": "code",
   "execution_count": 59,
   "metadata": {
    "vscode": {
     "languageId": "r"
    }
   },
   "outputs": [
    {
     "name": "stdout",
     "output_type": "stream",
     "text": [
      "[1] \"Confusion Matrix for Lasso:\"\n"
     ]
    },
    {
     "name": "stdout",
     "output_type": "stream",
     "text": [
      "      Predicted\n",
      "Actual    0    1\n",
      "     0 1530   84\n",
      "     1   69  610\n",
      "[1] \"Accuracy for Lasso: 0.933275185346707\"\n"
     ]
    }
   ],
   "source": [
    "print(\"Confusion Matrix for Lasso:\")\n",
    "print(conf_matrix_lasso)\n",
    "\n",
    "accuracy_lasso <- sum(diag(conf_matrix_lasso)) / sum(conf_matrix_lasso)\n",
    "\n",
    "print(paste(\"Accuracy for Lasso:\", accuracy_lasso))"
   ]
  }
 ],
 "metadata": {
  "kernelspec": {
   "display_name": "R",
   "language": "R",
   "name": "ir"
  },
  "language_info": {
   "codemirror_mode": "r",
   "file_extension": ".r",
   "mimetype": "text/x-r-source",
   "name": "R",
   "pygments_lexer": "r",
   "version": "4.4.2"
  }
 },
 "nbformat": 4,
 "nbformat_minor": 2
}
