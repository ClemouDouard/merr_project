{
 "cells": [
  {
   "cell_type": "code",
   "execution_count": 30,
   "metadata": {
    "vscode": {
     "languageId": "r"
    }
   },
   "outputs": [
    {
     "data": {
      "text/html": [
       "<table class=\"dataframe\">\n",
       "<caption>A data.frame: 6 × 47</caption>\n",
       "<thead>\n",
       "\t<tr><th></th><th scope=col>age</th><th scope=col>death</th><th scope=col>sex</th><th scope=col>hospdead</th><th scope=col>slos</th><th scope=col>d.time</th><th scope=col>dzgroup</th><th scope=col>dzclass</th><th scope=col>num.co</th><th scope=col>edu</th><th scope=col>⋯</th><th scope=col>crea</th><th scope=col>sod</th><th scope=col>ph</th><th scope=col>glucose</th><th scope=col>bun</th><th scope=col>urine</th><th scope=col>adlp</th><th scope=col>adls</th><th scope=col>sfdm2</th><th scope=col>adlsc</th></tr>\n",
       "\t<tr><th></th><th scope=col>&lt;dbl&gt;</th><th scope=col>&lt;int&gt;</th><th scope=col>&lt;chr&gt;</th><th scope=col>&lt;int&gt;</th><th scope=col>&lt;int&gt;</th><th scope=col>&lt;int&gt;</th><th scope=col>&lt;chr&gt;</th><th scope=col>&lt;chr&gt;</th><th scope=col>&lt;int&gt;</th><th scope=col>&lt;int&gt;</th><th scope=col>⋯</th><th scope=col>&lt;dbl&gt;</th><th scope=col>&lt;int&gt;</th><th scope=col>&lt;dbl&gt;</th><th scope=col>&lt;dbl&gt;</th><th scope=col>&lt;dbl&gt;</th><th scope=col>&lt;dbl&gt;</th><th scope=col>&lt;int&gt;</th><th scope=col>&lt;int&gt;</th><th scope=col>&lt;chr&gt;</th><th scope=col>&lt;dbl&gt;</th></tr>\n",
       "</thead>\n",
       "<tbody>\n",
       "\t<tr><th scope=row>1</th><td>62.84998</td><td>0</td><td>male  </td><td>0</td><td> 5</td><td>2029</td><td>Lung Cancer      </td><td>Cancer            </td><td>0</td><td>11</td><td>⋯</td><td>1.1999512</td><td>141</td><td>7.459961</td><td>NA</td><td>NA</td><td>NA</td><td> 7</td><td>7</td><td>                   </td><td>7</td></tr>\n",
       "\t<tr><th scope=row>2</th><td>60.33899</td><td>1</td><td>female</td><td>1</td><td> 4</td><td><span style=white-space:pre-wrap>   4</span></td><td><span style=white-space:pre-wrap>Cirrhosis        </span></td><td>COPD/CHF/Cirrhosis</td><td>2</td><td>12</td><td>⋯</td><td>5.5000000</td><td>132</td><td>7.250000</td><td>NA</td><td>NA</td><td>NA</td><td>NA</td><td>1</td><td><span style=white-space:pre-wrap>&lt;2 mo. follow-up   </span></td><td>1</td></tr>\n",
       "\t<tr><th scope=row>3</th><td>52.74698</td><td>1</td><td>female</td><td>0</td><td>17</td><td><span style=white-space:pre-wrap>  47</span></td><td><span style=white-space:pre-wrap>Cirrhosis        </span></td><td>COPD/CHF/Cirrhosis</td><td>2</td><td>12</td><td>⋯</td><td>2.0000000</td><td>134</td><td>7.459961</td><td>NA</td><td>NA</td><td>NA</td><td> 1</td><td>0</td><td><span style=white-space:pre-wrap>&lt;2 mo. follow-up   </span></td><td>0</td></tr>\n",
       "\t<tr><th scope=row>4</th><td>42.38498</td><td>1</td><td>female</td><td>0</td><td> 3</td><td> 133</td><td>Lung Cancer      </td><td>Cancer            </td><td>2</td><td>11</td><td>⋯</td><td>0.7999268</td><td>139</td><td>      NA</td><td>NA</td><td>NA</td><td>NA</td><td> 0</td><td>0</td><td>no(M2 and SIP pres)</td><td>0</td></tr>\n",
       "\t<tr><th scope=row>5</th><td>79.88495</td><td>0</td><td>female</td><td>0</td><td>16</td><td>2029</td><td>ARF/MOSF w/Sepsis</td><td>ARF/MOSF          </td><td>1</td><td>NA</td><td>⋯</td><td>0.7999268</td><td>143</td><td>7.509766</td><td>NA</td><td>NA</td><td>NA</td><td>NA</td><td>2</td><td>no(M2 and SIP pres)</td><td>2</td></tr>\n",
       "\t<tr><th scope=row>6</th><td>93.01599</td><td>1</td><td><span style=white-space:pre-wrap>male  </span></td><td>1</td><td> 4</td><td><span style=white-space:pre-wrap>   4</span></td><td><span style=white-space:pre-wrap>Coma             </span></td><td><span style=white-space:pre-wrap>Coma              </span></td><td>1</td><td>14</td><td>⋯</td><td>0.6999512</td><td>140</td><td>7.659180</td><td>NA</td><td>NA</td><td>NA</td><td>NA</td><td>1</td><td><span style=white-space:pre-wrap>&lt;2 mo. follow-up   </span></td><td>1</td></tr>\n",
       "</tbody>\n",
       "</table>\n"
      ],
      "text/latex": [
       "A data.frame: 6 × 47\n",
       "\\begin{tabular}{r|lllllllllllllllllllll}\n",
       "  & age & death & sex & hospdead & slos & d.time & dzgroup & dzclass & num.co & edu & ⋯ & crea & sod & ph & glucose & bun & urine & adlp & adls & sfdm2 & adlsc\\\\\n",
       "  & <dbl> & <int> & <chr> & <int> & <int> & <int> & <chr> & <chr> & <int> & <int> & ⋯ & <dbl> & <int> & <dbl> & <dbl> & <dbl> & <dbl> & <int> & <int> & <chr> & <dbl>\\\\\n",
       "\\hline\n",
       "\t1 & 62.84998 & 0 & male   & 0 &  5 & 2029 & Lung Cancer       & Cancer             & 0 & 11 & ⋯ & 1.1999512 & 141 & 7.459961 & NA & NA & NA &  7 & 7 &                     & 7\\\\\n",
       "\t2 & 60.33899 & 1 & female & 1 &  4 &    4 & Cirrhosis         & COPD/CHF/Cirrhosis & 2 & 12 & ⋯ & 5.5000000 & 132 & 7.250000 & NA & NA & NA & NA & 1 & <2 mo. follow-up    & 1\\\\\n",
       "\t3 & 52.74698 & 1 & female & 0 & 17 &   47 & Cirrhosis         & COPD/CHF/Cirrhosis & 2 & 12 & ⋯ & 2.0000000 & 134 & 7.459961 & NA & NA & NA &  1 & 0 & <2 mo. follow-up    & 0\\\\\n",
       "\t4 & 42.38498 & 1 & female & 0 &  3 &  133 & Lung Cancer       & Cancer             & 2 & 11 & ⋯ & 0.7999268 & 139 &       NA & NA & NA & NA &  0 & 0 & no(M2 and SIP pres) & 0\\\\\n",
       "\t5 & 79.88495 & 0 & female & 0 & 16 & 2029 & ARF/MOSF w/Sepsis & ARF/MOSF           & 1 & NA & ⋯ & 0.7999268 & 143 & 7.509766 & NA & NA & NA & NA & 2 & no(M2 and SIP pres) & 2\\\\\n",
       "\t6 & 93.01599 & 1 & male   & 1 &  4 &    4 & Coma              & Coma               & 1 & 14 & ⋯ & 0.6999512 & 140 & 7.659180 & NA & NA & NA & NA & 1 & <2 mo. follow-up    & 1\\\\\n",
       "\\end{tabular}\n"
      ],
      "text/markdown": [
       "\n",
       "A data.frame: 6 × 47\n",
       "\n",
       "| <!--/--> | age &lt;dbl&gt; | death &lt;int&gt; | sex &lt;chr&gt; | hospdead &lt;int&gt; | slos &lt;int&gt; | d.time &lt;int&gt; | dzgroup &lt;chr&gt; | dzclass &lt;chr&gt; | num.co &lt;int&gt; | edu &lt;int&gt; | ⋯ ⋯ | crea &lt;dbl&gt; | sod &lt;int&gt; | ph &lt;dbl&gt; | glucose &lt;dbl&gt; | bun &lt;dbl&gt; | urine &lt;dbl&gt; | adlp &lt;int&gt; | adls &lt;int&gt; | sfdm2 &lt;chr&gt; | adlsc &lt;dbl&gt; |\n",
       "|---|---|---|---|---|---|---|---|---|---|---|---|---|---|---|---|---|---|---|---|---|---|\n",
       "| 1 | 62.84998 | 0 | male   | 0 |  5 | 2029 | Lung Cancer       | Cancer             | 0 | 11 | ⋯ | 1.1999512 | 141 | 7.459961 | NA | NA | NA |  7 | 7 | <!----> | 7 |\n",
       "| 2 | 60.33899 | 1 | female | 1 |  4 |    4 | Cirrhosis         | COPD/CHF/Cirrhosis | 2 | 12 | ⋯ | 5.5000000 | 132 | 7.250000 | NA | NA | NA | NA | 1 | &lt;2 mo. follow-up    | 1 |\n",
       "| 3 | 52.74698 | 1 | female | 0 | 17 |   47 | Cirrhosis         | COPD/CHF/Cirrhosis | 2 | 12 | ⋯ | 2.0000000 | 134 | 7.459961 | NA | NA | NA |  1 | 0 | &lt;2 mo. follow-up    | 0 |\n",
       "| 4 | 42.38498 | 1 | female | 0 |  3 |  133 | Lung Cancer       | Cancer             | 2 | 11 | ⋯ | 0.7999268 | 139 |       NA | NA | NA | NA |  0 | 0 | no(M2 and SIP pres) | 0 |\n",
       "| 5 | 79.88495 | 0 | female | 0 | 16 | 2029 | ARF/MOSF w/Sepsis | ARF/MOSF           | 1 | NA | ⋯ | 0.7999268 | 143 | 7.509766 | NA | NA | NA | NA | 2 | no(M2 and SIP pres) | 2 |\n",
       "| 6 | 93.01599 | 1 | male   | 1 |  4 |    4 | Coma              | Coma               | 1 | 14 | ⋯ | 0.6999512 | 140 | 7.659180 | NA | NA | NA | NA | 1 | &lt;2 mo. follow-up    | 1 |\n",
       "\n"
      ],
      "text/plain": [
       "  age      death sex    hospdead slos d.time dzgroup          \n",
       "1 62.84998 0     male   0         5   2029   Lung Cancer      \n",
       "2 60.33899 1     female 1         4      4   Cirrhosis        \n",
       "3 52.74698 1     female 0        17     47   Cirrhosis        \n",
       "4 42.38498 1     female 0         3    133   Lung Cancer      \n",
       "5 79.88495 0     female 0        16   2029   ARF/MOSF w/Sepsis\n",
       "6 93.01599 1     male   1         4      4   Coma             \n",
       "  dzclass            num.co edu ⋯ crea      sod ph       glucose bun urine adlp\n",
       "1 Cancer             0      11  ⋯ 1.1999512 141 7.459961 NA      NA  NA     7  \n",
       "2 COPD/CHF/Cirrhosis 2      12  ⋯ 5.5000000 132 7.250000 NA      NA  NA    NA  \n",
       "3 COPD/CHF/Cirrhosis 2      12  ⋯ 2.0000000 134 7.459961 NA      NA  NA     1  \n",
       "4 Cancer             2      11  ⋯ 0.7999268 139       NA NA      NA  NA     0  \n",
       "5 ARF/MOSF           1      NA  ⋯ 0.7999268 143 7.509766 NA      NA  NA    NA  \n",
       "6 Coma               1      14  ⋯ 0.6999512 140 7.659180 NA      NA  NA    NA  \n",
       "  adls sfdm2               adlsc\n",
       "1 7                        7    \n",
       "2 1    <2 mo. follow-up    1    \n",
       "3 0    <2 mo. follow-up    0    \n",
       "4 0    no(M2 and SIP pres) 0    \n",
       "5 2    no(M2 and SIP pres) 2    \n",
       "6 1    <2 mo. follow-up    1    "
      ]
     },
     "metadata": {},
     "output_type": "display_data"
    }
   ],
   "source": [
    "data <- read.csv(\"../data/support2.csv\")\n",
    "head(data)"
   ]
  },
  {
   "cell_type": "code",
   "execution_count": 31,
   "metadata": {
    "vscode": {
     "languageId": "r"
    }
   },
   "outputs": [],
   "source": [
    "data$pafi[is.na(data$pafi)] <- 333.3\n",
    "data$alb[is.na(data$alb)] <- 3.5\n",
    "data$bun[is.na(data$bun)] <- 6.51\n",
    "data$urine[is.na(data$urine)] <- 2502"
   ]
  },
  {
   "cell_type": "code",
   "execution_count": 32,
   "metadata": {
    "vscode": {
     "languageId": "r"
    }
   },
   "outputs": [
    {
     "data": {
      "text/html": [
       "<table class=\"dataframe\">\n",
       "<caption>A data.frame: 6 × 42</caption>\n",
       "<thead>\n",
       "\t<tr><th></th><th scope=col>age</th><th scope=col>death</th><th scope=col>sex</th><th scope=col>hospdead</th><th scope=col>slos</th><th scope=col>d.time</th><th scope=col>dzgroup</th><th scope=col>dzclass</th><th scope=col>num.co</th><th scope=col>edu</th><th scope=col>⋯</th><th scope=col>crea</th><th scope=col>sod</th><th scope=col>ph</th><th scope=col>glucose</th><th scope=col>bun</th><th scope=col>urine</th><th scope=col>adlp</th><th scope=col>adls</th><th scope=col>sfdm2</th><th scope=col>adlsc</th></tr>\n",
       "\t<tr><th></th><th scope=col>&lt;dbl&gt;</th><th scope=col>&lt;int&gt;</th><th scope=col>&lt;chr&gt;</th><th scope=col>&lt;int&gt;</th><th scope=col>&lt;int&gt;</th><th scope=col>&lt;int&gt;</th><th scope=col>&lt;chr&gt;</th><th scope=col>&lt;chr&gt;</th><th scope=col>&lt;int&gt;</th><th scope=col>&lt;int&gt;</th><th scope=col>⋯</th><th scope=col>&lt;dbl&gt;</th><th scope=col>&lt;int&gt;</th><th scope=col>&lt;dbl&gt;</th><th scope=col>&lt;dbl&gt;</th><th scope=col>&lt;dbl&gt;</th><th scope=col>&lt;dbl&gt;</th><th scope=col>&lt;int&gt;</th><th scope=col>&lt;int&gt;</th><th scope=col>&lt;chr&gt;</th><th scope=col>&lt;dbl&gt;</th></tr>\n",
       "</thead>\n",
       "<tbody>\n",
       "\t<tr><th scope=row>1</th><td>62.84998</td><td>0</td><td>male  </td><td>0</td><td> 5</td><td>2029</td><td>Lung Cancer      </td><td>Cancer            </td><td>0</td><td>11</td><td>⋯</td><td>1.1999512</td><td>141</td><td>7.459961</td><td>NA</td><td>6.51</td><td>2502</td><td> 7</td><td>7</td><td>                   </td><td>7</td></tr>\n",
       "\t<tr><th scope=row>2</th><td>60.33899</td><td>1</td><td>female</td><td>1</td><td> 4</td><td><span style=white-space:pre-wrap>   4</span></td><td><span style=white-space:pre-wrap>Cirrhosis        </span></td><td>COPD/CHF/Cirrhosis</td><td>2</td><td>12</td><td>⋯</td><td>5.5000000</td><td>132</td><td>7.250000</td><td>NA</td><td>6.51</td><td>2502</td><td>NA</td><td>1</td><td><span style=white-space:pre-wrap>&lt;2 mo. follow-up   </span></td><td>1</td></tr>\n",
       "\t<tr><th scope=row>3</th><td>52.74698</td><td>1</td><td>female</td><td>0</td><td>17</td><td><span style=white-space:pre-wrap>  47</span></td><td><span style=white-space:pre-wrap>Cirrhosis        </span></td><td>COPD/CHF/Cirrhosis</td><td>2</td><td>12</td><td>⋯</td><td>2.0000000</td><td>134</td><td>7.459961</td><td>NA</td><td>6.51</td><td>2502</td><td> 1</td><td>0</td><td><span style=white-space:pre-wrap>&lt;2 mo. follow-up   </span></td><td>0</td></tr>\n",
       "\t<tr><th scope=row>4</th><td>42.38498</td><td>1</td><td>female</td><td>0</td><td> 3</td><td> 133</td><td>Lung Cancer      </td><td>Cancer            </td><td>2</td><td>11</td><td>⋯</td><td>0.7999268</td><td>139</td><td>      NA</td><td>NA</td><td>6.51</td><td>2502</td><td> 0</td><td>0</td><td>no(M2 and SIP pres)</td><td>0</td></tr>\n",
       "\t<tr><th scope=row>5</th><td>79.88495</td><td>0</td><td>female</td><td>0</td><td>16</td><td>2029</td><td>ARF/MOSF w/Sepsis</td><td>ARF/MOSF          </td><td>1</td><td>NA</td><td>⋯</td><td>0.7999268</td><td>143</td><td>7.509766</td><td>NA</td><td>6.51</td><td>2502</td><td>NA</td><td>2</td><td>no(M2 and SIP pres)</td><td>2</td></tr>\n",
       "\t<tr><th scope=row>6</th><td>93.01599</td><td>1</td><td><span style=white-space:pre-wrap>male  </span></td><td>1</td><td> 4</td><td><span style=white-space:pre-wrap>   4</span></td><td><span style=white-space:pre-wrap>Coma             </span></td><td><span style=white-space:pre-wrap>Coma              </span></td><td>1</td><td>14</td><td>⋯</td><td>0.6999512</td><td>140</td><td>7.659180</td><td>NA</td><td>6.51</td><td>2502</td><td>NA</td><td>1</td><td><span style=white-space:pre-wrap>&lt;2 mo. follow-up   </span></td><td>1</td></tr>\n",
       "</tbody>\n",
       "</table>\n"
      ],
      "text/latex": [
       "A data.frame: 6 × 42\n",
       "\\begin{tabular}{r|lllllllllllllllllllll}\n",
       "  & age & death & sex & hospdead & slos & d.time & dzgroup & dzclass & num.co & edu & ⋯ & crea & sod & ph & glucose & bun & urine & adlp & adls & sfdm2 & adlsc\\\\\n",
       "  & <dbl> & <int> & <chr> & <int> & <int> & <int> & <chr> & <chr> & <int> & <int> & ⋯ & <dbl> & <int> & <dbl> & <dbl> & <dbl> & <dbl> & <int> & <int> & <chr> & <dbl>\\\\\n",
       "\\hline\n",
       "\t1 & 62.84998 & 0 & male   & 0 &  5 & 2029 & Lung Cancer       & Cancer             & 0 & 11 & ⋯ & 1.1999512 & 141 & 7.459961 & NA & 6.51 & 2502 &  7 & 7 &                     & 7\\\\\n",
       "\t2 & 60.33899 & 1 & female & 1 &  4 &    4 & Cirrhosis         & COPD/CHF/Cirrhosis & 2 & 12 & ⋯ & 5.5000000 & 132 & 7.250000 & NA & 6.51 & 2502 & NA & 1 & <2 mo. follow-up    & 1\\\\\n",
       "\t3 & 52.74698 & 1 & female & 0 & 17 &   47 & Cirrhosis         & COPD/CHF/Cirrhosis & 2 & 12 & ⋯ & 2.0000000 & 134 & 7.459961 & NA & 6.51 & 2502 &  1 & 0 & <2 mo. follow-up    & 0\\\\\n",
       "\t4 & 42.38498 & 1 & female & 0 &  3 &  133 & Lung Cancer       & Cancer             & 2 & 11 & ⋯ & 0.7999268 & 139 &       NA & NA & 6.51 & 2502 &  0 & 0 & no(M2 and SIP pres) & 0\\\\\n",
       "\t5 & 79.88495 & 0 & female & 0 & 16 & 2029 & ARF/MOSF w/Sepsis & ARF/MOSF           & 1 & NA & ⋯ & 0.7999268 & 143 & 7.509766 & NA & 6.51 & 2502 & NA & 2 & no(M2 and SIP pres) & 2\\\\\n",
       "\t6 & 93.01599 & 1 & male   & 1 &  4 &    4 & Coma              & Coma               & 1 & 14 & ⋯ & 0.6999512 & 140 & 7.659180 & NA & 6.51 & 2502 & NA & 1 & <2 mo. follow-up    & 1\\\\\n",
       "\\end{tabular}\n"
      ],
      "text/markdown": [
       "\n",
       "A data.frame: 6 × 42\n",
       "\n",
       "| <!--/--> | age &lt;dbl&gt; | death &lt;int&gt; | sex &lt;chr&gt; | hospdead &lt;int&gt; | slos &lt;int&gt; | d.time &lt;int&gt; | dzgroup &lt;chr&gt; | dzclass &lt;chr&gt; | num.co &lt;int&gt; | edu &lt;int&gt; | ⋯ ⋯ | crea &lt;dbl&gt; | sod &lt;int&gt; | ph &lt;dbl&gt; | glucose &lt;dbl&gt; | bun &lt;dbl&gt; | urine &lt;dbl&gt; | adlp &lt;int&gt; | adls &lt;int&gt; | sfdm2 &lt;chr&gt; | adlsc &lt;dbl&gt; |\n",
       "|---|---|---|---|---|---|---|---|---|---|---|---|---|---|---|---|---|---|---|---|---|---|\n",
       "| 1 | 62.84998 | 0 | male   | 0 |  5 | 2029 | Lung Cancer       | Cancer             | 0 | 11 | ⋯ | 1.1999512 | 141 | 7.459961 | NA | 6.51 | 2502 |  7 | 7 | <!----> | 7 |\n",
       "| 2 | 60.33899 | 1 | female | 1 |  4 |    4 | Cirrhosis         | COPD/CHF/Cirrhosis | 2 | 12 | ⋯ | 5.5000000 | 132 | 7.250000 | NA | 6.51 | 2502 | NA | 1 | &lt;2 mo. follow-up    | 1 |\n",
       "| 3 | 52.74698 | 1 | female | 0 | 17 |   47 | Cirrhosis         | COPD/CHF/Cirrhosis | 2 | 12 | ⋯ | 2.0000000 | 134 | 7.459961 | NA | 6.51 | 2502 |  1 | 0 | &lt;2 mo. follow-up    | 0 |\n",
       "| 4 | 42.38498 | 1 | female | 0 |  3 |  133 | Lung Cancer       | Cancer             | 2 | 11 | ⋯ | 0.7999268 | 139 |       NA | NA | 6.51 | 2502 |  0 | 0 | no(M2 and SIP pres) | 0 |\n",
       "| 5 | 79.88495 | 0 | female | 0 | 16 | 2029 | ARF/MOSF w/Sepsis | ARF/MOSF           | 1 | NA | ⋯ | 0.7999268 | 143 | 7.509766 | NA | 6.51 | 2502 | NA | 2 | no(M2 and SIP pres) | 2 |\n",
       "| 6 | 93.01599 | 1 | male   | 1 |  4 |    4 | Coma              | Coma               | 1 | 14 | ⋯ | 0.6999512 | 140 | 7.659180 | NA | 6.51 | 2502 | NA | 1 | &lt;2 mo. follow-up    | 1 |\n",
       "\n"
      ],
      "text/plain": [
       "  age      death sex    hospdead slos d.time dzgroup          \n",
       "1 62.84998 0     male   0         5   2029   Lung Cancer      \n",
       "2 60.33899 1     female 1         4      4   Cirrhosis        \n",
       "3 52.74698 1     female 0        17     47   Cirrhosis        \n",
       "4 42.38498 1     female 0         3    133   Lung Cancer      \n",
       "5 79.88495 0     female 0        16   2029   ARF/MOSF w/Sepsis\n",
       "6 93.01599 1     male   1         4      4   Coma             \n",
       "  dzclass            num.co edu ⋯ crea      sod ph       glucose bun  urine\n",
       "1 Cancer             0      11  ⋯ 1.1999512 141 7.459961 NA      6.51 2502 \n",
       "2 COPD/CHF/Cirrhosis 2      12  ⋯ 5.5000000 132 7.250000 NA      6.51 2502 \n",
       "3 COPD/CHF/Cirrhosis 2      12  ⋯ 2.0000000 134 7.459961 NA      6.51 2502 \n",
       "4 Cancer             2      11  ⋯ 0.7999268 139       NA NA      6.51 2502 \n",
       "5 ARF/MOSF           1      NA  ⋯ 0.7999268 143 7.509766 NA      6.51 2502 \n",
       "6 Coma               1      14  ⋯ 0.6999512 140 7.659180 NA      6.51 2502 \n",
       "  adlp adls sfdm2               adlsc\n",
       "1  7   7                        7    \n",
       "2 NA   1    <2 mo. follow-up    1    \n",
       "3  1   0    <2 mo. follow-up    0    \n",
       "4  0   0    no(M2 and SIP pres) 0    \n",
       "5 NA   2    no(M2 and SIP pres) 2    \n",
       "6 NA   1    <2 mo. follow-up    1    "
      ]
     },
     "metadata": {},
     "output_type": "display_data"
    }
   ],
   "source": [
    "data <- data[, !names(data) %in% \"dnr\"]\n",
    "data <- data[, !names(data) %in% \"scoma\"]\n",
    "data <- data[, !names(data) %in% \"sps\"]\n",
    "data <- data[, !names(data) %in% \"surv2m\"]\n",
    "data <- data[, !names(data) %in% \"surv6m\"]\n",
    "\n",
    "head(data)"
   ]
  },
  {
   "cell_type": "code",
   "execution_count": 33,
   "metadata": {
    "vscode": {
     "languageId": "r"
    }
   },
   "outputs": [
    {
     "data": {
      "text/html": [
       "<table class=\"dataframe\">\n",
       "<caption>A data.frame: 6 × 42</caption>\n",
       "<thead>\n",
       "\t<tr><th></th><th scope=col>age</th><th scope=col>death</th><th scope=col>sex</th><th scope=col>hospdead</th><th scope=col>slos</th><th scope=col>d.time</th><th scope=col>dzgroup</th><th scope=col>dzclass</th><th scope=col>num.co</th><th scope=col>edu</th><th scope=col>⋯</th><th scope=col>crea</th><th scope=col>sod</th><th scope=col>ph</th><th scope=col>glucose</th><th scope=col>bun</th><th scope=col>urine</th><th scope=col>adlp</th><th scope=col>adls</th><th scope=col>sfdm2</th><th scope=col>adlsc</th></tr>\n",
       "\t<tr><th></th><th scope=col>&lt;dbl&gt;</th><th scope=col>&lt;int&gt;</th><th scope=col>&lt;chr&gt;</th><th scope=col>&lt;int&gt;</th><th scope=col>&lt;int&gt;</th><th scope=col>&lt;int&gt;</th><th scope=col>&lt;chr&gt;</th><th scope=col>&lt;chr&gt;</th><th scope=col>&lt;int&gt;</th><th scope=col>&lt;int&gt;</th><th scope=col>⋯</th><th scope=col>&lt;dbl&gt;</th><th scope=col>&lt;dbl&gt;</th><th scope=col>&lt;dbl&gt;</th><th scope=col>&lt;dbl&gt;</th><th scope=col>&lt;dbl&gt;</th><th scope=col>&lt;dbl&gt;</th><th scope=col>&lt;dbl&gt;</th><th scope=col>&lt;dbl&gt;</th><th scope=col>&lt;chr&gt;</th><th scope=col>&lt;dbl&gt;</th></tr>\n",
       "</thead>\n",
       "<tbody>\n",
       "\t<tr><th scope=row>1</th><td>62.84998</td><td>0</td><td>male  </td><td>0</td><td> 5</td><td>2029</td><td>Lung Cancer      </td><td>Cancer            </td><td>0</td><td>11</td><td>⋯</td><td>1.1999512</td><td>141</td><td>7.459961</td><td>135</td><td>6.51</td><td>2502</td><td>7</td><td>7</td><td>                   </td><td>7</td></tr>\n",
       "\t<tr><th scope=row>2</th><td>60.33899</td><td>1</td><td>female</td><td>1</td><td> 4</td><td><span style=white-space:pre-wrap>   4</span></td><td><span style=white-space:pre-wrap>Cirrhosis        </span></td><td>COPD/CHF/Cirrhosis</td><td>2</td><td>12</td><td>⋯</td><td>5.5000000</td><td>132</td><td>7.250000</td><td>135</td><td>6.51</td><td>2502</td><td>0</td><td>1</td><td><span style=white-space:pre-wrap>&lt;2 mo. follow-up   </span></td><td>1</td></tr>\n",
       "\t<tr><th scope=row>3</th><td>52.74698</td><td>1</td><td>female</td><td>0</td><td>17</td><td><span style=white-space:pre-wrap>  47</span></td><td><span style=white-space:pre-wrap>Cirrhosis        </span></td><td>COPD/CHF/Cirrhosis</td><td>2</td><td>12</td><td>⋯</td><td>2.0000000</td><td>134</td><td>7.459961</td><td>135</td><td>6.51</td><td>2502</td><td>1</td><td>0</td><td><span style=white-space:pre-wrap>&lt;2 mo. follow-up   </span></td><td>0</td></tr>\n",
       "\t<tr><th scope=row>4</th><td>42.38498</td><td>1</td><td>female</td><td>0</td><td> 3</td><td> 133</td><td>Lung Cancer      </td><td>Cancer            </td><td>2</td><td>11</td><td>⋯</td><td>0.7999268</td><td>139</td><td>7.419922</td><td>135</td><td>6.51</td><td>2502</td><td>0</td><td>0</td><td>no(M2 and SIP pres)</td><td>0</td></tr>\n",
       "\t<tr><th scope=row>5</th><td>79.88495</td><td>0</td><td>female</td><td>0</td><td>16</td><td>2029</td><td>ARF/MOSF w/Sepsis</td><td>ARF/MOSF          </td><td>1</td><td>12</td><td>⋯</td><td>0.7999268</td><td>143</td><td>7.509766</td><td>135</td><td>6.51</td><td>2502</td><td>0</td><td>2</td><td>no(M2 and SIP pres)</td><td>2</td></tr>\n",
       "\t<tr><th scope=row>6</th><td>93.01599</td><td>1</td><td><span style=white-space:pre-wrap>male  </span></td><td>1</td><td> 4</td><td><span style=white-space:pre-wrap>   4</span></td><td><span style=white-space:pre-wrap>Coma             </span></td><td><span style=white-space:pre-wrap>Coma              </span></td><td>1</td><td>14</td><td>⋯</td><td>0.6999512</td><td>140</td><td>7.659180</td><td>135</td><td>6.51</td><td>2502</td><td>0</td><td>1</td><td><span style=white-space:pre-wrap>&lt;2 mo. follow-up   </span></td><td>1</td></tr>\n",
       "</tbody>\n",
       "</table>\n"
      ],
      "text/latex": [
       "A data.frame: 6 × 42\n",
       "\\begin{tabular}{r|lllllllllllllllllllll}\n",
       "  & age & death & sex & hospdead & slos & d.time & dzgroup & dzclass & num.co & edu & ⋯ & crea & sod & ph & glucose & bun & urine & adlp & adls & sfdm2 & adlsc\\\\\n",
       "  & <dbl> & <int> & <chr> & <int> & <int> & <int> & <chr> & <chr> & <int> & <int> & ⋯ & <dbl> & <dbl> & <dbl> & <dbl> & <dbl> & <dbl> & <dbl> & <dbl> & <chr> & <dbl>\\\\\n",
       "\\hline\n",
       "\t1 & 62.84998 & 0 & male   & 0 &  5 & 2029 & Lung Cancer       & Cancer             & 0 & 11 & ⋯ & 1.1999512 & 141 & 7.459961 & 135 & 6.51 & 2502 & 7 & 7 &                     & 7\\\\\n",
       "\t2 & 60.33899 & 1 & female & 1 &  4 &    4 & Cirrhosis         & COPD/CHF/Cirrhosis & 2 & 12 & ⋯ & 5.5000000 & 132 & 7.250000 & 135 & 6.51 & 2502 & 0 & 1 & <2 mo. follow-up    & 1\\\\\n",
       "\t3 & 52.74698 & 1 & female & 0 & 17 &   47 & Cirrhosis         & COPD/CHF/Cirrhosis & 2 & 12 & ⋯ & 2.0000000 & 134 & 7.459961 & 135 & 6.51 & 2502 & 1 & 0 & <2 mo. follow-up    & 0\\\\\n",
       "\t4 & 42.38498 & 1 & female & 0 &  3 &  133 & Lung Cancer       & Cancer             & 2 & 11 & ⋯ & 0.7999268 & 139 & 7.419922 & 135 & 6.51 & 2502 & 0 & 0 & no(M2 and SIP pres) & 0\\\\\n",
       "\t5 & 79.88495 & 0 & female & 0 & 16 & 2029 & ARF/MOSF w/Sepsis & ARF/MOSF           & 1 & 12 & ⋯ & 0.7999268 & 143 & 7.509766 & 135 & 6.51 & 2502 & 0 & 2 & no(M2 and SIP pres) & 2\\\\\n",
       "\t6 & 93.01599 & 1 & male   & 1 &  4 &    4 & Coma              & Coma               & 1 & 14 & ⋯ & 0.6999512 & 140 & 7.659180 & 135 & 6.51 & 2502 & 0 & 1 & <2 mo. follow-up    & 1\\\\\n",
       "\\end{tabular}\n"
      ],
      "text/markdown": [
       "\n",
       "A data.frame: 6 × 42\n",
       "\n",
       "| <!--/--> | age &lt;dbl&gt; | death &lt;int&gt; | sex &lt;chr&gt; | hospdead &lt;int&gt; | slos &lt;int&gt; | d.time &lt;int&gt; | dzgroup &lt;chr&gt; | dzclass &lt;chr&gt; | num.co &lt;int&gt; | edu &lt;int&gt; | ⋯ ⋯ | crea &lt;dbl&gt; | sod &lt;dbl&gt; | ph &lt;dbl&gt; | glucose &lt;dbl&gt; | bun &lt;dbl&gt; | urine &lt;dbl&gt; | adlp &lt;dbl&gt; | adls &lt;dbl&gt; | sfdm2 &lt;chr&gt; | adlsc &lt;dbl&gt; |\n",
       "|---|---|---|---|---|---|---|---|---|---|---|---|---|---|---|---|---|---|---|---|---|---|\n",
       "| 1 | 62.84998 | 0 | male   | 0 |  5 | 2029 | Lung Cancer       | Cancer             | 0 | 11 | ⋯ | 1.1999512 | 141 | 7.459961 | 135 | 6.51 | 2502 | 7 | 7 | <!----> | 7 |\n",
       "| 2 | 60.33899 | 1 | female | 1 |  4 |    4 | Cirrhosis         | COPD/CHF/Cirrhosis | 2 | 12 | ⋯ | 5.5000000 | 132 | 7.250000 | 135 | 6.51 | 2502 | 0 | 1 | &lt;2 mo. follow-up    | 1 |\n",
       "| 3 | 52.74698 | 1 | female | 0 | 17 |   47 | Cirrhosis         | COPD/CHF/Cirrhosis | 2 | 12 | ⋯ | 2.0000000 | 134 | 7.459961 | 135 | 6.51 | 2502 | 1 | 0 | &lt;2 mo. follow-up    | 0 |\n",
       "| 4 | 42.38498 | 1 | female | 0 |  3 |  133 | Lung Cancer       | Cancer             | 2 | 11 | ⋯ | 0.7999268 | 139 | 7.419922 | 135 | 6.51 | 2502 | 0 | 0 | no(M2 and SIP pres) | 0 |\n",
       "| 5 | 79.88495 | 0 | female | 0 | 16 | 2029 | ARF/MOSF w/Sepsis | ARF/MOSF           | 1 | 12 | ⋯ | 0.7999268 | 143 | 7.509766 | 135 | 6.51 | 2502 | 0 | 2 | no(M2 and SIP pres) | 2 |\n",
       "| 6 | 93.01599 | 1 | male   | 1 |  4 |    4 | Coma              | Coma               | 1 | 14 | ⋯ | 0.6999512 | 140 | 7.659180 | 135 | 6.51 | 2502 | 0 | 1 | &lt;2 mo. follow-up    | 1 |\n",
       "\n"
      ],
      "text/plain": [
       "  age      death sex    hospdead slos d.time dzgroup          \n",
       "1 62.84998 0     male   0         5   2029   Lung Cancer      \n",
       "2 60.33899 1     female 1         4      4   Cirrhosis        \n",
       "3 52.74698 1     female 0        17     47   Cirrhosis        \n",
       "4 42.38498 1     female 0         3    133   Lung Cancer      \n",
       "5 79.88495 0     female 0        16   2029   ARF/MOSF w/Sepsis\n",
       "6 93.01599 1     male   1         4      4   Coma             \n",
       "  dzclass            num.co edu ⋯ crea      sod ph       glucose bun  urine\n",
       "1 Cancer             0      11  ⋯ 1.1999512 141 7.459961 135     6.51 2502 \n",
       "2 COPD/CHF/Cirrhosis 2      12  ⋯ 5.5000000 132 7.250000 135     6.51 2502 \n",
       "3 COPD/CHF/Cirrhosis 2      12  ⋯ 2.0000000 134 7.459961 135     6.51 2502 \n",
       "4 Cancer             2      11  ⋯ 0.7999268 139 7.419922 135     6.51 2502 \n",
       "5 ARF/MOSF           1      12  ⋯ 0.7999268 143 7.509766 135     6.51 2502 \n",
       "6 Coma               1      14  ⋯ 0.6999512 140 7.659180 135     6.51 2502 \n",
       "  adlp adls sfdm2               adlsc\n",
       "1 7    7                        7    \n",
       "2 0    1    <2 mo. follow-up    1    \n",
       "3 1    0    <2 mo. follow-up    0    \n",
       "4 0    0    no(M2 and SIP pres) 0    \n",
       "5 0    2    no(M2 and SIP pres) 2    \n",
       "6 0    1    <2 mo. follow-up    1    "
      ]
     },
     "metadata": {},
     "output_type": "display_data"
    }
   ],
   "source": [
    "data[] <- lapply(data, function(x) {\n",
    "  if (is.numeric(x)) {\n",
    "    x[is.na(x)] <- median(x, na.rm = TRUE)\n",
    "  }\n",
    "  return(x)\n",
    "})\n",
    "head(data)"
   ]
  },
  {
   "cell_type": "code",
   "execution_count": 34,
   "metadata": {
    "vscode": {
     "languageId": "r"
    }
   },
   "outputs": [
    {
     "data": {
      "text/html": [
       "<table class=\"dataframe\">\n",
       "<caption>A data.frame: 7 × 2</caption>\n",
       "<thead>\n",
       "\t<tr><th></th><th scope=col>colonne</th><th scope=col>nombre_vides</th></tr>\n",
       "\t<tr><th></th><th scope=col>&lt;chr&gt;</th><th scope=col>&lt;int&gt;</th></tr>\n",
       "</thead>\n",
       "<tbody>\n",
       "\t<tr><th scope=row>sex</th><td>sex    </td><td>   0</td></tr>\n",
       "\t<tr><th scope=row>dzgroup</th><td>dzgroup</td><td>   0</td></tr>\n",
       "\t<tr><th scope=row>dzclass</th><td>dzclass</td><td>   0</td></tr>\n",
       "\t<tr><th scope=row>income</th><td>income </td><td>2982</td></tr>\n",
       "\t<tr><th scope=row>race</th><td>race   </td><td>  42</td></tr>\n",
       "\t<tr><th scope=row>ca</th><td>ca     </td><td>   0</td></tr>\n",
       "\t<tr><th scope=row>sfdm2</th><td>sfdm2  </td><td>1400</td></tr>\n",
       "</tbody>\n",
       "</table>\n"
      ],
      "text/latex": [
       "A data.frame: 7 × 2\n",
       "\\begin{tabular}{r|ll}\n",
       "  & colonne & nombre\\_vides\\\\\n",
       "  & <chr> & <int>\\\\\n",
       "\\hline\n",
       "\tsex & sex     &    0\\\\\n",
       "\tdzgroup & dzgroup &    0\\\\\n",
       "\tdzclass & dzclass &    0\\\\\n",
       "\tincome & income  & 2982\\\\\n",
       "\trace & race    &   42\\\\\n",
       "\tca & ca      &    0\\\\\n",
       "\tsfdm2 & sfdm2   & 1400\\\\\n",
       "\\end{tabular}\n"
      ],
      "text/markdown": [
       "\n",
       "A data.frame: 7 × 2\n",
       "\n",
       "| <!--/--> | colonne &lt;chr&gt; | nombre_vides &lt;int&gt; |\n",
       "|---|---|---|\n",
       "| sex | sex     |    0 |\n",
       "| dzgroup | dzgroup |    0 |\n",
       "| dzclass | dzclass |    0 |\n",
       "| income | income  | 2982 |\n",
       "| race | race    |   42 |\n",
       "| ca | ca      |    0 |\n",
       "| sfdm2 | sfdm2   | 1400 |\n",
       "\n"
      ],
      "text/plain": [
       "        colonne nombre_vides\n",
       "sex     sex        0        \n",
       "dzgroup dzgroup    0        \n",
       "dzclass dzclass    0        \n",
       "income  income  2982        \n",
       "race    race      42        \n",
       "ca      ca         0        \n",
       "sfdm2   sfdm2   1400        "
      ]
     },
     "metadata": {},
     "output_type": "display_data"
    }
   ],
   "source": [
    "colonnes_chaine <- sapply(data, is.character)\n",
    "\n",
    "nombres_vides <- sapply(data[, colonnes_chaine], function(x) sum(x == \"\"))\n",
    "\n",
    "# Afficher les résultats\n",
    "resultats <- data.frame(\n",
    "  colonne = names(nombres_vides),\n",
    "  nombre_vides = nombres_vides\n",
    ")\n",
    "resultats"
   ]
  },
  {
   "cell_type": "code",
   "execution_count": 35,
   "metadata": {
    "vscode": {
     "languageId": "r"
    }
   },
   "outputs": [
    {
     "data": {
      "text/html": [
       "<table class=\"dataframe\">\n",
       "<caption>A data.frame: 6 × 2</caption>\n",
       "<thead>\n",
       "\t<tr><th></th><th scope=col>colonne</th><th scope=col>nombre_vides</th></tr>\n",
       "\t<tr><th></th><th scope=col>&lt;chr&gt;</th><th scope=col>&lt;int&gt;</th></tr>\n",
       "</thead>\n",
       "<tbody>\n",
       "\t<tr><th scope=row>sex</th><td>sex    </td><td>0</td></tr>\n",
       "\t<tr><th scope=row>dzgroup</th><td>dzgroup</td><td>0</td></tr>\n",
       "\t<tr><th scope=row>dzclass</th><td>dzclass</td><td>0</td></tr>\n",
       "\t<tr><th scope=row>race</th><td>race   </td><td>0</td></tr>\n",
       "\t<tr><th scope=row>ca</th><td>ca     </td><td>0</td></tr>\n",
       "\t<tr><th scope=row>sfdm2</th><td>sfdm2  </td><td>0</td></tr>\n",
       "</tbody>\n",
       "</table>\n"
      ],
      "text/latex": [
       "A data.frame: 6 × 2\n",
       "\\begin{tabular}{r|ll}\n",
       "  & colonne & nombre\\_vides\\\\\n",
       "  & <chr> & <int>\\\\\n",
       "\\hline\n",
       "\tsex & sex     & 0\\\\\n",
       "\tdzgroup & dzgroup & 0\\\\\n",
       "\tdzclass & dzclass & 0\\\\\n",
       "\trace & race    & 0\\\\\n",
       "\tca & ca      & 0\\\\\n",
       "\tsfdm2 & sfdm2   & 0\\\\\n",
       "\\end{tabular}\n"
      ],
      "text/markdown": [
       "\n",
       "A data.frame: 6 × 2\n",
       "\n",
       "| <!--/--> | colonne &lt;chr&gt; | nombre_vides &lt;int&gt; |\n",
       "|---|---|---|\n",
       "| sex | sex     | 0 |\n",
       "| dzgroup | dzgroup | 0 |\n",
       "| dzclass | dzclass | 0 |\n",
       "| race | race    | 0 |\n",
       "| ca | ca      | 0 |\n",
       "| sfdm2 | sfdm2   | 0 |\n",
       "\n"
      ],
      "text/plain": [
       "        colonne nombre_vides\n",
       "sex     sex     0           \n",
       "dzgroup dzgroup 0           \n",
       "dzclass dzclass 0           \n",
       "race    race    0           \n",
       "ca      ca      0           \n",
       "sfdm2   sfdm2   0           "
      ]
     },
     "metadata": {},
     "output_type": "display_data"
    }
   ],
   "source": [
    "data <- data[, !names(data) %in% \"income\"]\n",
    "#data <- data[, !names(data) %in% \"sfdm2\"]\n",
    "data <- data[!(is.na(data$sfdm2) | data$sfdm2 == \"\"), ]\n",
    "data <- data[!(is.na(data$race) | data$race == \"\"), ]\n",
    "data <- data[!(is.na(data$dnr) | data$dnr == \"\"), ]\n",
    "\n",
    "colonnes_chaine <- sapply(data, is.character)\n",
    "\n",
    "nombres_vides <- sapply(data[, colonnes_chaine], function(x) sum(x == \"\"))\n",
    "\n",
    "# Afficher les résultats\n",
    "resultats <- data.frame(\n",
    "  colonne = names(nombres_vides),\n",
    "  nombre_vides = nombres_vides\n",
    ")\n",
    "resultats"
   ]
  },
  {
   "cell_type": "code",
   "execution_count": 36,
   "metadata": {
    "vscode": {
     "languageId": "r"
    }
   },
   "outputs": [
    {
     "data": {
      "text/html": [
       "2.32582322357019"
      ],
      "text/latex": [
       "2.32582322357019"
      ],
      "text/markdown": [
       "2.32582322357019"
      ],
      "text/plain": [
       "[1] 2.325823"
      ]
     },
     "metadata": {},
     "output_type": "display_data"
    }
   ],
   "source": [
    "A <- ifelse(data$hospdead > 0.5, 1, 0)\n",
    "A <- A[A == 1]\n",
    "B <- ifelse(data$hospdead < 0.5, 1, 0)\n",
    "B <- B[B == 1]\n",
    "\n",
    "A_t = length(A)/nrow(data)\n",
    "B_t = length(B)/nrow(data)\n",
    "\n",
    "inv_At = 1/A_t *B_t\n",
    "inv_Bt = 1\n",
    "\n",
    "inv_At"
   ]
  },
  {
   "cell_type": "code",
   "execution_count": 37,
   "metadata": {
    "vscode": {
     "languageId": "r"
    }
   },
   "outputs": [],
   "source": [
    "library(caret)\n",
    "\n",
    "set.seed(123)\n",
    "index <- createDataPartition(data$hospdead, p = 0.7, list = FALSE)\n",
    "\n",
    "train_data2 <- data[index, ]\n",
    "test_data2 <- data[-index, ]"
   ]
  },
  {
   "cell_type": "code",
   "execution_count": 38,
   "metadata": {
    "vscode": {
     "languageId": "r"
    }
   },
   "outputs": [],
   "source": [
    "weights <- ifelse(train_data2$hospdead == 1, 1, inv_At * 2)"
   ]
  },
  {
   "cell_type": "code",
   "execution_count": 39,
   "metadata": {
    "vscode": {
     "languageId": "r"
    }
   },
   "outputs": [],
   "source": [
    "library(glmnet)\n"
   ]
  },
  {
   "cell_type": "code",
   "execution_count": 40,
   "metadata": {
    "vscode": {
     "languageId": "r"
    }
   },
   "outputs": [],
   "source": [
    "formula <- hospdead ~ . - 1\n",
    "\n",
    "x_train <- model.matrix(formula, data = train_data2)\n",
    "y_train <- train_data2$hospdead\n",
    "\n",
    "x_test <- model.matrix(formula, data = test_data2)\n",
    "y_test <- test_data2$hospdead"
   ]
  },
  {
   "cell_type": "code",
   "execution_count": 41,
   "metadata": {
    "vscode": {
     "languageId": "r"
    }
   },
   "outputs": [],
   "source": [
    "ridge_model <- glmnet(x_train, y_train, family = \"binomial\", alpha = 0)\n",
    "\n",
    "cv_ridge <- cv.glmnet(x_train, y_train, family = \"binomial\", alpha = 0)\n",
    "\n",
    "best_lambda_ridge <- cv_ridge$lambda.min\n",
    "\n",
    "final_ridge_model <- glmnet(x_train, y_train, family = \"binomial\", alpha = 0, lambda = best_lambda_ridge, weights = weights)"
   ]
  },
  {
   "cell_type": "code",
   "execution_count": 42,
   "metadata": {
    "vscode": {
     "languageId": "r"
    }
   },
   "outputs": [
    {
     "name": "stderr",
     "output_type": "stream",
     "text": [
      "Warning message:\n",
      "“from glmnet C++ code (error code -79); Convergence for 79th lambda value not reached after maxit=100000 iterations; solutions for larger lambdas returned”\n"
     ]
    }
   ],
   "source": [
    "final_lasso_model <- glmnet(x_train, y_train, family = \"binomial\", alpha = 1, weights = lasso_weights)"
   ]
  },
  {
   "cell_type": "code",
   "execution_count": 43,
   "metadata": {
    "vscode": {
     "languageId": "r"
    }
   },
   "outputs": [
    {
     "data": {
      "text/plain": [
       "\n",
       "Call:  glmnet(x = x_train, y = y_train, family = \"binomial\", weights = lasso_weights,      alpha = 1) \n",
       "\n",
       "   Df  %Dev   Lambda\n",
       "1   0  0.00 0.114400\n",
       "2   1  4.67 0.104200\n",
       "3   1  8.26 0.094980\n",
       "4   1 11.08 0.086540\n",
       "5   3 14.11 0.078850\n",
       "6   4 18.52 0.071850\n",
       "7   5 22.65 0.065470\n",
       "8   5 26.32 0.059650\n",
       "9   5 29.52 0.054350\n",
       "10  5 32.35 0.049520\n",
       "11  5 34.87 0.045120\n",
       "12  5 37.13 0.041110\n",
       "13  5 39.18 0.037460\n",
       "14  6 41.54 0.034130\n",
       "15  6 43.65 0.031100\n",
       "16  7 45.54 0.028340\n",
       "17  9 47.56 0.025820\n",
       "18  9 49.52 0.023530\n",
       "19  9 51.24 0.021440\n",
       "20  9 52.75 0.019530\n",
       "21  9 54.09 0.017800\n",
       "22  9 55.28 0.016220\n",
       "23 10 56.40 0.014780\n",
       "24 10 57.42 0.013460\n",
       "25 10 58.32 0.012270\n",
       "26 10 59.13 0.011180\n",
       "27 10 59.86 0.010180\n",
       "28 10 60.51 0.009280\n",
       "29 11 61.11 0.008455\n",
       "30 11 61.68 0.007704\n",
       "31 11 62.19 0.007020\n",
       "32 11 62.65 0.006396\n",
       "33 12 63.07 0.005828\n",
       "34 12 63.45 0.005310\n",
       "35 14 63.84 0.004838\n",
       "36 16 64.22 0.004409\n",
       "37 17 64.59 0.004017\n",
       "38 18 64.95 0.003660\n",
       "39 20 65.28 0.003335\n",
       "40 21 65.59 0.003039\n",
       "41 21 65.88 0.002769\n",
       "42 21 66.15 0.002523\n",
       "43 22 66.41 0.002299\n",
       "44 23 66.66 0.002094\n",
       "45 26 66.91 0.001908\n",
       "46 30 67.19 0.001739\n",
       "47 30 67.49 0.001584\n",
       "48 30 67.80 0.001444\n",
       "49 31 68.13 0.001315\n",
       "50 32 68.53 0.001199\n",
       "51 35 68.98 0.001092\n",
       "52 38 69.48 0.000995\n",
       "53 40 70.11 0.000907\n",
       "54 39 70.80 0.000826\n",
       "55 39 71.53 0.000753\n",
       "56 41 72.29 0.000686\n",
       "57 40 73.06 0.000625\n",
       "58 41 73.82 0.000569\n",
       "59 43 74.57 0.000519\n",
       "60 42 75.21 0.000473\n",
       "61 40 75.83 0.000431\n",
       "62 40 76.43 0.000392\n",
       "63 43 77.03 0.000358\n",
       "64 45 77.61 0.000326\n",
       "65 45 78.18 0.000297\n",
       "66 45 78.74 0.000271\n",
       "67 44 79.28 0.000246\n",
       "68 44 79.81 0.000225\n",
       "69 44 80.32 0.000205\n",
       "70 46 80.82 0.000187\n",
       "71 46 81.30 0.000170\n",
       "72 48 81.78 0.000155\n",
       "73 48 82.24 0.000141\n",
       "74 48 82.70 0.000129\n",
       "75 48 83.15 0.000117\n",
       "76 51 83.62 0.000107\n",
       "77 51 84.06 0.000097\n",
       "78 51 84.48 0.000089"
      ]
     },
     "metadata": {},
     "output_type": "display_data"
    }
   ],
   "source": [
    "final_lasso_model"
   ]
  },
  {
   "cell_type": "code",
   "execution_count": 44,
   "metadata": {
    "vscode": {
     "languageId": "r"
    }
   },
   "outputs": [],
   "source": [
    "#best_lambda_lasso <- final_lasso_model$lambda.min\n",
    "arg_min <- which.min(final_lasso_model$lambda)\n",
    "best_lambda_lasso <- final_lasso_model[[5]][arg_min]\n",
    "#arg_min <- which(final_lasso_model$lambda == best_lambda_lasso)\n",
    "\n",
    "final_lasso_model <- glmnet(x_train, y_train, family = \"binomial\", alpha = 1, lambda = best_lambda_lasso, weights = weights)"
   ]
  },
  {
   "cell_type": "code",
   "execution_count": 45,
   "metadata": {
    "vscode": {
     "languageId": "r"
    }
   },
   "outputs": [
    {
     "data": {
      "text/html": [
       "8.85789575203721e-05"
      ],
      "text/latex": [
       "8.85789575203721e-05"
      ],
      "text/markdown": [
       "8.85789575203721e-05"
      ],
      "text/plain": [
       "[1] 8.857896e-05"
      ]
     },
     "metadata": {},
     "output_type": "display_data"
    }
   ],
   "source": [
    "best_lambda_lasso"
   ]
  },
  {
   "cell_type": "code",
   "execution_count": 46,
   "metadata": {
    "vscode": {
     "languageId": "r"
    }
   },
   "outputs": [
    {
     "name": "stdout",
     "output_type": "stream",
     "text": [
      "[1] 78\n"
     ]
    }
   ],
   "source": [
    "print(arg_min)"
   ]
  },
  {
   "cell_type": "code",
   "execution_count": 47,
   "metadata": {
    "vscode": {
     "languageId": "r"
    }
   },
   "outputs": [
    {
     "data": {
      "text/plain": [
       "\n",
       "Call:  glmnet(x = x_train, y = y_train, family = \"binomial\", weights = weights,      alpha = 1, lambda = best_lambda_lasso) \n",
       "\n",
       "  Df  %Dev    Lambda\n",
       "1 50 84.49 8.858e-05"
      ]
     },
     "metadata": {},
     "output_type": "display_data"
    }
   ],
   "source": [
    "final_lasso_model"
   ]
  },
  {
   "cell_type": "code",
   "execution_count": 48,
   "metadata": {
    "vscode": {
     "languageId": "r"
    }
   },
   "outputs": [],
   "source": [
    "ridge_preds <- predict(final_ridge_model, s = best_lambda_ridge, newx = x_test, type = \"response\")\n",
    "ridge_classes <- ifelse(ridge_preds > 0.5, 1, 0)\n",
    "\n",
    "conf_matrix_ridge <- table(Actual = y_test, Predicted = ridge_classes)"
   ]
  },
  {
   "cell_type": "code",
   "execution_count": 49,
   "metadata": {
    "vscode": {
     "languageId": "r"
    }
   },
   "outputs": [
    {
     "name": "stdout",
     "output_type": "stream",
     "text": [
      "[1] \"Confusion Matrix for Ridge:\"\n",
      "      Predicted\n",
      "Actual    0    1\n",
      "     0 1604   14\n",
      "     1  317  367\n",
      "[1] \"Accuracy for Ridge: 0.856211989574283\"\n"
     ]
    }
   ],
   "source": [
    "print(\"Confusion Matrix for Ridge:\")\n",
    "print(conf_matrix_ridge)\n",
    "\n",
    "accuracy_ridge <- sum(diag(conf_matrix_ridge)) / sum(conf_matrix_ridge)\n",
    "\n",
    "print(paste(\"Accuracy for Ridge:\", accuracy_ridge))"
   ]
  },
  {
   "cell_type": "code",
   "execution_count": null,
   "metadata": {
    "vscode": {
     "languageId": "r"
    }
   },
   "outputs": [],
   "source": [
    "lasso_preds <- predict(final_lasso_model,s = best_lambda_lasso, newx = x_test, type = \"response\")\n",
    "lasso_classes <- ifelse(lasso_preds > 0.5, 1, 0)\n",
    "\n",
    "conf_matrix_lasso <- table(Actual = y_teresst, Predicted = lasso_classes)"
   ]
  },
  {
   "cell_type": "code",
   "execution_count": 51,
   "metadata": {
    "vscode": {
     "languageId": "r"
    }
   },
   "outputs": [
    {
     "data": {
      "text/html": [
       "2302"
      ],
      "text/latex": [
       "2302"
      ],
      "text/markdown": [
       "2302"
      ],
      "text/plain": [
       "[1] 2302"
      ]
     },
     "metadata": {},
     "output_type": "display_data"
    }
   ],
   "source": [
    "length(y_test)"
   ]
  },
  {
   "cell_type": "code",
   "execution_count": 52,
   "metadata": {
    "vscode": {
     "languageId": "r"
    }
   },
   "outputs": [
    {
     "data": {
      "text/html": [
       "2302"
      ],
      "text/latex": [
       "2302"
      ],
      "text/markdown": [
       "2302"
      ],
      "text/plain": [
       "[1] 2302"
      ]
     },
     "metadata": {},
     "output_type": "display_data"
    }
   ],
   "source": [
    "length(lasso_classes)"
   ]
  },
  {
   "cell_type": "code",
   "execution_count": 53,
   "metadata": {
    "vscode": {
     "languageId": "r"
    }
   },
   "outputs": [
    {
     "data": {
      "text/html": [
       "<table class=\"dataframe\">\n",
       "<caption>A matrix: 2302 × 1 of type dbl</caption>\n",
       "<thead>\n",
       "\t<tr><th></th><th scope=col>s1</th></tr>\n",
       "</thead>\n",
       "<tbody>\n",
       "\t<tr><th scope=row>4</th><td> 1.085244e-15</td></tr>\n",
       "\t<tr><th scope=row>5</th><td>8.677289e-233</td></tr>\n",
       "\t<tr><th scope=row>11</th><td> 5.052888e-13</td></tr>\n",
       "\t<tr><th scope=row>12</th><td> 3.342403e-01</td></tr>\n",
       "\t<tr><th scope=row>14</th><td>1.001296e-214</td></tr>\n",
       "\t<tr><th scope=row>15</th><td>5.221850e-220</td></tr>\n",
       "\t<tr><th scope=row>18</th><td> 9.877574e-01</td></tr>\n",
       "\t<tr><th scope=row>20</th><td> 5.889921e-20</td></tr>\n",
       "\t<tr><th scope=row>21</th><td> 4.855642e-26</td></tr>\n",
       "\t<tr><th scope=row>25</th><td> 7.613980e-46</td></tr>\n",
       "\t<tr><th scope=row>28</th><td> 9.842232e-01</td></tr>\n",
       "\t<tr><th scope=row>32</th><td>1.080863e-231</td></tr>\n",
       "\t<tr><th scope=row>37</th><td> 3.207858e-70</td></tr>\n",
       "\t<tr><th scope=row>38</th><td> 1.363542e-59</td></tr>\n",
       "\t<tr><th scope=row>43</th><td> 9.844418e-01</td></tr>\n",
       "\t<tr><th scope=row>48</th><td> 3.663882e-25</td></tr>\n",
       "\t<tr><th scope=row>53</th><td>9.045378e-231</td></tr>\n",
       "\t<tr><th scope=row>54</th><td> 5.125577e-61</td></tr>\n",
       "\t<tr><th scope=row>58</th><td>5.441058e-225</td></tr>\n",
       "\t<tr><th scope=row>64</th><td>2.962303e-228</td></tr>\n",
       "\t<tr><th scope=row>65</th><td> 3.699384e-27</td></tr>\n",
       "\t<tr><th scope=row>66</th><td> 4.555251e-12</td></tr>\n",
       "\t<tr><th scope=row>68</th><td> 3.521351e-02</td></tr>\n",
       "\t<tr><th scope=row>69</th><td> 1.947780e-33</td></tr>\n",
       "\t<tr><th scope=row>71</th><td> 9.943172e-01</td></tr>\n",
       "\t<tr><th scope=row>82</th><td>5.601756e-222</td></tr>\n",
       "\t<tr><th scope=row>83</th><td> 7.465999e-06</td></tr>\n",
       "\t<tr><th scope=row>91</th><td> 9.426906e-01</td></tr>\n",
       "\t<tr><th scope=row>92</th><td> 7.057156e-01</td></tr>\n",
       "\t<tr><th scope=row>97</th><td> 9.024503e-01</td></tr>\n",
       "\t<tr><th scope=row>⋮</th><td>⋮</td></tr>\n",
       "\t<tr><th scope=row>8991</th><td>4.173524e-12</td></tr>\n",
       "\t<tr><th scope=row>8992</th><td>3.173531e-52</td></tr>\n",
       "\t<tr><th scope=row>8996</th><td>3.284032e-08</td></tr>\n",
       "\t<tr><th scope=row>8997</th><td>1.828090e-21</td></tr>\n",
       "\t<tr><th scope=row>8998</th><td>9.761993e-17</td></tr>\n",
       "\t<tr><th scope=row>9008</th><td>9.267778e-01</td></tr>\n",
       "\t<tr><th scope=row>9011</th><td>3.681024e-03</td></tr>\n",
       "\t<tr><th scope=row>9013</th><td>1.348922e-50</td></tr>\n",
       "\t<tr><th scope=row>9015</th><td>1.779066e-52</td></tr>\n",
       "\t<tr><th scope=row>9021</th><td>2.287245e-51</td></tr>\n",
       "\t<tr><th scope=row>9022</th><td>7.471647e-19</td></tr>\n",
       "\t<tr><th scope=row>9025</th><td>4.181149e-47</td></tr>\n",
       "\t<tr><th scope=row>9027</th><td>4.983021e-19</td></tr>\n",
       "\t<tr><th scope=row>9031</th><td>1.200022e-50</td></tr>\n",
       "\t<tr><th scope=row>9033</th><td>3.170161e-50</td></tr>\n",
       "\t<tr><th scope=row>9038</th><td>5.795470e-01</td></tr>\n",
       "\t<tr><th scope=row>9039</th><td>1.356639e-02</td></tr>\n",
       "\t<tr><th scope=row>9040</th><td>2.141193e-49</td></tr>\n",
       "\t<tr><th scope=row>9043</th><td>1.855700e-06</td></tr>\n",
       "\t<tr><th scope=row>9049</th><td>7.734708e-48</td></tr>\n",
       "\t<tr><th scope=row>9055</th><td>8.864893e-01</td></tr>\n",
       "\t<tr><th scope=row>9058</th><td>7.312254e-09</td></tr>\n",
       "\t<tr><th scope=row>9061</th><td>1.787068e-46</td></tr>\n",
       "\t<tr><th scope=row>9063</th><td>6.691254e-01</td></tr>\n",
       "\t<tr><th scope=row>9066</th><td>1.077855e-03</td></tr>\n",
       "\t<tr><th scope=row>9074</th><td>1.300024e-45</td></tr>\n",
       "\t<tr><th scope=row>9079</th><td>4.638008e-28</td></tr>\n",
       "\t<tr><th scope=row>9088</th><td>3.111074e-39</td></tr>\n",
       "\t<tr><th scope=row>9094</th><td>7.702191e-01</td></tr>\n",
       "\t<tr><th scope=row>9100</th><td>2.470434e-41</td></tr>\n",
       "</tbody>\n",
       "</table>\n"
      ],
      "text/latex": [
       "A matrix: 2302 × 1 of type dbl\n",
       "\\begin{tabular}{r|l}\n",
       "  & s1\\\\\n",
       "\\hline\n",
       "\t4 &  1.085244e-15\\\\\n",
       "\t5 & 8.677289e-233\\\\\n",
       "\t11 &  5.052888e-13\\\\\n",
       "\t12 &  3.342403e-01\\\\\n",
       "\t14 & 1.001296e-214\\\\\n",
       "\t15 & 5.221850e-220\\\\\n",
       "\t18 &  9.877574e-01\\\\\n",
       "\t20 &  5.889921e-20\\\\\n",
       "\t21 &  4.855642e-26\\\\\n",
       "\t25 &  7.613980e-46\\\\\n",
       "\t28 &  9.842232e-01\\\\\n",
       "\t32 & 1.080863e-231\\\\\n",
       "\t37 &  3.207858e-70\\\\\n",
       "\t38 &  1.363542e-59\\\\\n",
       "\t43 &  9.844418e-01\\\\\n",
       "\t48 &  3.663882e-25\\\\\n",
       "\t53 & 9.045378e-231\\\\\n",
       "\t54 &  5.125577e-61\\\\\n",
       "\t58 & 5.441058e-225\\\\\n",
       "\t64 & 2.962303e-228\\\\\n",
       "\t65 &  3.699384e-27\\\\\n",
       "\t66 &  4.555251e-12\\\\\n",
       "\t68 &  3.521351e-02\\\\\n",
       "\t69 &  1.947780e-33\\\\\n",
       "\t71 &  9.943172e-01\\\\\n",
       "\t82 & 5.601756e-222\\\\\n",
       "\t83 &  7.465999e-06\\\\\n",
       "\t91 &  9.426906e-01\\\\\n",
       "\t92 &  7.057156e-01\\\\\n",
       "\t97 &  9.024503e-01\\\\\n",
       "\t⋮ & ⋮\\\\\n",
       "\t8991 & 4.173524e-12\\\\\n",
       "\t8992 & 3.173531e-52\\\\\n",
       "\t8996 & 3.284032e-08\\\\\n",
       "\t8997 & 1.828090e-21\\\\\n",
       "\t8998 & 9.761993e-17\\\\\n",
       "\t9008 & 9.267778e-01\\\\\n",
       "\t9011 & 3.681024e-03\\\\\n",
       "\t9013 & 1.348922e-50\\\\\n",
       "\t9015 & 1.779066e-52\\\\\n",
       "\t9021 & 2.287245e-51\\\\\n",
       "\t9022 & 7.471647e-19\\\\\n",
       "\t9025 & 4.181149e-47\\\\\n",
       "\t9027 & 4.983021e-19\\\\\n",
       "\t9031 & 1.200022e-50\\\\\n",
       "\t9033 & 3.170161e-50\\\\\n",
       "\t9038 & 5.795470e-01\\\\\n",
       "\t9039 & 1.356639e-02\\\\\n",
       "\t9040 & 2.141193e-49\\\\\n",
       "\t9043 & 1.855700e-06\\\\\n",
       "\t9049 & 7.734708e-48\\\\\n",
       "\t9055 & 8.864893e-01\\\\\n",
       "\t9058 & 7.312254e-09\\\\\n",
       "\t9061 & 1.787068e-46\\\\\n",
       "\t9063 & 6.691254e-01\\\\\n",
       "\t9066 & 1.077855e-03\\\\\n",
       "\t9074 & 1.300024e-45\\\\\n",
       "\t9079 & 4.638008e-28\\\\\n",
       "\t9088 & 3.111074e-39\\\\\n",
       "\t9094 & 7.702191e-01\\\\\n",
       "\t9100 & 2.470434e-41\\\\\n",
       "\\end{tabular}\n"
      ],
      "text/markdown": [
       "\n",
       "A matrix: 2302 × 1 of type dbl\n",
       "\n",
       "| <!--/--> | s1 |\n",
       "|---|---|\n",
       "| 4 |  1.085244e-15 |\n",
       "| 5 | 8.677289e-233 |\n",
       "| 11 |  5.052888e-13 |\n",
       "| 12 |  3.342403e-01 |\n",
       "| 14 | 1.001296e-214 |\n",
       "| 15 | 5.221850e-220 |\n",
       "| 18 |  9.877574e-01 |\n",
       "| 20 |  5.889921e-20 |\n",
       "| 21 |  4.855642e-26 |\n",
       "| 25 |  7.613980e-46 |\n",
       "| 28 |  9.842232e-01 |\n",
       "| 32 | 1.080863e-231 |\n",
       "| 37 |  3.207858e-70 |\n",
       "| 38 |  1.363542e-59 |\n",
       "| 43 |  9.844418e-01 |\n",
       "| 48 |  3.663882e-25 |\n",
       "| 53 | 9.045378e-231 |\n",
       "| 54 |  5.125577e-61 |\n",
       "| 58 | 5.441058e-225 |\n",
       "| 64 | 2.962303e-228 |\n",
       "| 65 |  3.699384e-27 |\n",
       "| 66 |  4.555251e-12 |\n",
       "| 68 |  3.521351e-02 |\n",
       "| 69 |  1.947780e-33 |\n",
       "| 71 |  9.943172e-01 |\n",
       "| 82 | 5.601756e-222 |\n",
       "| 83 |  7.465999e-06 |\n",
       "| 91 |  9.426906e-01 |\n",
       "| 92 |  7.057156e-01 |\n",
       "| 97 |  9.024503e-01 |\n",
       "| ⋮ | ⋮ |\n",
       "| 8991 | 4.173524e-12 |\n",
       "| 8992 | 3.173531e-52 |\n",
       "| 8996 | 3.284032e-08 |\n",
       "| 8997 | 1.828090e-21 |\n",
       "| 8998 | 9.761993e-17 |\n",
       "| 9008 | 9.267778e-01 |\n",
       "| 9011 | 3.681024e-03 |\n",
       "| 9013 | 1.348922e-50 |\n",
       "| 9015 | 1.779066e-52 |\n",
       "| 9021 | 2.287245e-51 |\n",
       "| 9022 | 7.471647e-19 |\n",
       "| 9025 | 4.181149e-47 |\n",
       "| 9027 | 4.983021e-19 |\n",
       "| 9031 | 1.200022e-50 |\n",
       "| 9033 | 3.170161e-50 |\n",
       "| 9038 | 5.795470e-01 |\n",
       "| 9039 | 1.356639e-02 |\n",
       "| 9040 | 2.141193e-49 |\n",
       "| 9043 | 1.855700e-06 |\n",
       "| 9049 | 7.734708e-48 |\n",
       "| 9055 | 8.864893e-01 |\n",
       "| 9058 | 7.312254e-09 |\n",
       "| 9061 | 1.787068e-46 |\n",
       "| 9063 | 6.691254e-01 |\n",
       "| 9066 | 1.077855e-03 |\n",
       "| 9074 | 1.300024e-45 |\n",
       "| 9079 | 4.638008e-28 |\n",
       "| 9088 | 3.111074e-39 |\n",
       "| 9094 | 7.702191e-01 |\n",
       "| 9100 | 2.470434e-41 |\n",
       "\n"
      ],
      "text/plain": [
       "     s1           \n",
       "4     1.085244e-15\n",
       "5    8.677289e-233\n",
       "11    5.052888e-13\n",
       "12    3.342403e-01\n",
       "14   1.001296e-214\n",
       "15   5.221850e-220\n",
       "18    9.877574e-01\n",
       "20    5.889921e-20\n",
       "21    4.855642e-26\n",
       "25    7.613980e-46\n",
       "28    9.842232e-01\n",
       "32   1.080863e-231\n",
       "37    3.207858e-70\n",
       "38    1.363542e-59\n",
       "43    9.844418e-01\n",
       "48    3.663882e-25\n",
       "53   9.045378e-231\n",
       "54    5.125577e-61\n",
       "58   5.441058e-225\n",
       "64   2.962303e-228\n",
       "65    3.699384e-27\n",
       "66    4.555251e-12\n",
       "68    3.521351e-02\n",
       "69    1.947780e-33\n",
       "71    9.943172e-01\n",
       "82   5.601756e-222\n",
       "83    7.465999e-06\n",
       "91    9.426906e-01\n",
       "92    7.057156e-01\n",
       "97    9.024503e-01\n",
       "⋮    ⋮            \n",
       "8991 4.173524e-12 \n",
       "8992 3.173531e-52 \n",
       "8996 3.284032e-08 \n",
       "8997 1.828090e-21 \n",
       "8998 9.761993e-17 \n",
       "9008 9.267778e-01 \n",
       "9011 3.681024e-03 \n",
       "9013 1.348922e-50 \n",
       "9015 1.779066e-52 \n",
       "9021 2.287245e-51 \n",
       "9022 7.471647e-19 \n",
       "9025 4.181149e-47 \n",
       "9027 4.983021e-19 \n",
       "9031 1.200022e-50 \n",
       "9033 3.170161e-50 \n",
       "9038 5.795470e-01 \n",
       "9039 1.356639e-02 \n",
       "9040 2.141193e-49 \n",
       "9043 1.855700e-06 \n",
       "9049 7.734708e-48 \n",
       "9055 8.864893e-01 \n",
       "9058 7.312254e-09 \n",
       "9061 1.787068e-46 \n",
       "9063 6.691254e-01 \n",
       "9066 1.077855e-03 \n",
       "9074 1.300024e-45 \n",
       "9079 4.638008e-28 \n",
       "9088 3.111074e-39 \n",
       "9094 7.702191e-01 \n",
       "9100 2.470434e-41 "
      ]
     },
     "metadata": {},
     "output_type": "display_data"
    }
   ],
   "source": [
    "lasso_preds"
   ]
  },
  {
   "cell_type": "code",
   "execution_count": 54,
   "metadata": {
    "vscode": {
     "languageId": "r"
    }
   },
   "outputs": [
    {
     "name": "stdout",
     "output_type": "stream",
     "text": [
      "[1] \"Confusion Matrix for Lasso:\"\n",
      "      Predicted\n",
      "Actual    0    1\n",
      "     0 1583   35\n",
      "     1   77  607\n",
      "[1] \"Accuracy for Lasso: 0.951346655082537\"\n"
     ]
    }
   ],
   "source": [
    "print(\"Confusion Matrix for Lasso:\")\n",
    "print(conf_matrix_lasso)\n",
    "\n",
    "accuracy_lasso <- sum(diag(conf_matrix_lasso)) / sum(conf_matrix_lasso)\n",
    "\n",
    "print(paste(\"Accuracy for Lasso:\", accuracy_lasso))"
   ]
  },
  {
   "cell_type": "code",
   "execution_count": 56,
   "metadata": {
    "vscode": {
     "languageId": "r"
    }
   },
   "outputs": [
    {
     "name": "stdout",
     "output_type": "stream",
     "text": [
      "Lambda optimal : 0.01144041 \n",
      "         Actual\n",
      "Predicted    0    1\n",
      "        0 1596  273\n",
      "        1   22  411\n",
      "0.8718506Lambda optimal : 0.0001144041 \n",
      "         Actual\n",
      "Predicted    0    1\n",
      "        0 1583  204\n",
      "        1   35  480\n",
      "0.8961772Lambda optimal : 5.720206e-05 \n",
      "         Actual\n",
      "Predicted    0    1\n",
      "        0 1584  190\n",
      "        1   34  494\n",
      "0.9026933Lambda optimal : 3.813471e-05 \n",
      "         Actual\n",
      "Predicted    0    1\n",
      "        0 1584  181\n",
      "        1   34  503\n",
      "0.906603Lambda optimal : 2.860103e-05 \n",
      "         Actual\n",
      "Predicted    0    1\n",
      "        0 1585  170\n",
      "        1   33  514\n",
      "0.9118158Lambda optimal : 2.288082e-05 \n",
      "         Actual\n",
      "Predicted    0    1\n",
      "        0 1583  156\n",
      "        1   35  528\n",
      "0.9170287Lambda optimal : 1.906735e-05 \n",
      "         Actual\n",
      "Predicted    0    1\n",
      "        0 1583  150\n",
      "        1   35  534\n",
      "0.9196351Lambda optimal : 1.634345e-05 \n",
      "         Actual\n",
      "Predicted    0    1\n",
      "        0 1584  123\n",
      "        1   34  561\n",
      "0.9317984Lambda optimal : 1.722502e-05 \n",
      "         Actual\n",
      "Predicted    0    1\n",
      "        0 1584  120\n",
      "        1   34  564\n",
      "0.9331017Lambda optimal : 2.024041e-05 \n",
      "         Actual\n",
      "Predicted    0    1\n",
      "        0 1582  110\n",
      "        1   36  574\n",
      "0.9365769"
     ]
    },
    {
     "name": "stderr",
     "output_type": "stream",
     "text": [
      "Warning message:\n",
      "“from glmnet C++ code (error code -79); Convergence for 79th lambda value not reached after maxit=100000 iterations; solutions for larger lambdas returned”\n",
      "Warning message:\n",
      "“from glmnet C++ code (error code -79); Convergence for 79th lambda value not reached after maxit=100000 iterations; solutions for larger lambdas returned”\n",
      "Warning message:\n",
      "“from glmnet C++ code (error code -79); Convergence for 79th lambda value not reached after maxit=100000 iterations; solutions for larger lambdas returned”\n",
      "Warning message:\n",
      "“from glmnet C++ code (error code -79); Convergence for 79th lambda value not reached after maxit=100000 iterations; solutions for larger lambdas returned”\n",
      "Warning message:\n",
      "“from glmnet C++ code (error code -78); Convergence for 78th lambda value not reached after maxit=100000 iterations; solutions for larger lambdas returned”\n",
      "Warning message:\n",
      "“from glmnet C++ code (error code -79); Convergence for 79th lambda value not reached after maxit=100000 iterations; solutions for larger lambdas returned”\n",
      "Warning message:\n",
      "“from glmnet C++ code (error code -79); Convergence for 79th lambda value not reached after maxit=100000 iterations; solutions for larger lambdas returned”\n",
      "Warning message:\n",
      "“from glmnet C++ code (error code -79); Convergence for 79th lambda value not reached after maxit=100000 iterations; solutions for larger lambdas returned”\n",
      "Warning message:\n",
      "“from glmnet C++ code (error code -79); Convergence for 79th lambda value not reached after maxit=100000 iterations; solutions for larger lambdas returned”\n",
      "Warning message:\n",
      "“from glmnet C++ code (error code -79); Convergence for 79th lambda value not reached after maxit=100000 iterations; solutions for larger lambdas returned”\n",
      "Warning message:\n",
      "“from glmnet C++ code (error code -79); Convergence for 79th lambda value not reached after maxit=100000 iterations; solutions for larger lambdas returned”\n"
     ]
    },
    {
     "name": "stdout",
     "output_type": "stream",
     "text": [
      "Lambda optimal : 8.857896e-05 \n",
      "         Actual\n",
      "Predicted    0    1\n",
      "        0 1582   77\n",
      "        1   36  607\n",
      "0.9509123"
     ]
    }
   ],
   "source": [
    "res <- c()\n",
    "\n",
    "for (i in 0:10) {\n",
    "cv_model <- cv.glmnet(\n",
    "  x_train, y_train,\n",
    "  alpha = i/10,  # Mélange entre Ridge et Lasso\n",
    "  family = \"binomial\",  # Régression logistique\n",
    "  weights = weights  # Poids pour équilibrer\n",
    ")\n",
    "\n",
    "# Extraction du lambda optimal\n",
    "optimal_lambda <- cv_model$lambda.min\n",
    "cat(\"Lambda optimal :\", optimal_lambda, \"\\n\")\n",
    "\n",
    "# Prédictions sur l'ensemble de test\n",
    "predictions <- predict(cv_model, x_test, s = \"lambda.min\", type = \"response\")\n",
    "predicted_classes <- ifelse(predictions > 0.5, 1, 0)\n",
    "\n",
    "# Évaluation des performances\n",
    "confusion_matrix <- table(Predicted = predicted_classes, Actual = y_test)\n",
    "print(confusion_matrix)\n",
    "\n",
    "accuracy <- sum(diag(confusion_matrix)) / sum(confusion_matrix)\n",
    "cat(accuracy)\n",
    "res <- c(res, (accuracy))\n",
    "}\n"
   ]
  },
  {
   "cell_type": "markdown",
   "metadata": {},
   "source": [
    "alpha = 0.1 : acc = 0.91\n",
    "alpha = 0.2 : acc = 0.92\n",
    "alpha = 0.3 : acc = 0.93\n",
    "alpha = 0.4 : acc = 0.93\n",
    "alpha = 0.5 : acc = 0.93\n",
    "alpha = 0.6 : acc = 0.94\n",
    "alpha = 0.7 : acc = 0.94\n",
    "alpha = 0.8 : acc = 0.95\n",
    "alpha = 0.9 : acc = 0.95"
   ]
  }
 ],
 "metadata": {
  "kernelspec": {
   "display_name": "R",
   "language": "R",
   "name": "ir"
  },
  "language_info": {
   "codemirror_mode": "r",
   "file_extension": ".r",
   "mimetype": "text/x-r-source",
   "name": "R",
   "pygments_lexer": "r",
   "version": "4.4.2"
  }
 },
 "nbformat": 4,
 "nbformat_minor": 2
}
