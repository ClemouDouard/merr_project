{
 "cells": [
  {
   "cell_type": "markdown",
   "metadata": {},
   "source": [
    "# Régressions Ridge, Lasso et Elastic net"
   ]
  },
  {
   "cell_type": "markdown",
   "metadata": {},
   "source": [
    "## Imports"
   ]
  },
  {
   "cell_type": "code",
   "execution_count": 1,
   "metadata": {
    "vscode": {
     "languageId": "r"
    }
   },
   "outputs": [
    {
     "data": {
      "text/html": [
       "<table class=\"dataframe\">\n",
       "<caption>A data.frame: 6 × 47</caption>\n",
       "<thead>\n",
       "\t<tr><th></th><th scope=col>age</th><th scope=col>death</th><th scope=col>sex</th><th scope=col>hospdead</th><th scope=col>slos</th><th scope=col>d.time</th><th scope=col>dzgroup</th><th scope=col>dzclass</th><th scope=col>num.co</th><th scope=col>edu</th><th scope=col>⋯</th><th scope=col>crea</th><th scope=col>sod</th><th scope=col>ph</th><th scope=col>glucose</th><th scope=col>bun</th><th scope=col>urine</th><th scope=col>adlp</th><th scope=col>adls</th><th scope=col>sfdm2</th><th scope=col>adlsc</th></tr>\n",
       "\t<tr><th></th><th scope=col>&lt;dbl&gt;</th><th scope=col>&lt;int&gt;</th><th scope=col>&lt;chr&gt;</th><th scope=col>&lt;int&gt;</th><th scope=col>&lt;int&gt;</th><th scope=col>&lt;int&gt;</th><th scope=col>&lt;chr&gt;</th><th scope=col>&lt;chr&gt;</th><th scope=col>&lt;int&gt;</th><th scope=col>&lt;int&gt;</th><th scope=col>⋯</th><th scope=col>&lt;dbl&gt;</th><th scope=col>&lt;int&gt;</th><th scope=col>&lt;dbl&gt;</th><th scope=col>&lt;dbl&gt;</th><th scope=col>&lt;dbl&gt;</th><th scope=col>&lt;dbl&gt;</th><th scope=col>&lt;int&gt;</th><th scope=col>&lt;int&gt;</th><th scope=col>&lt;chr&gt;</th><th scope=col>&lt;dbl&gt;</th></tr>\n",
       "</thead>\n",
       "<tbody>\n",
       "\t<tr><th scope=row>1</th><td>62.84998</td><td>0</td><td>male  </td><td>0</td><td> 5</td><td>2029</td><td>Lung Cancer      </td><td>Cancer            </td><td>0</td><td>11</td><td>⋯</td><td>1.1999512</td><td>141</td><td>7.459961</td><td>NA</td><td>NA</td><td>NA</td><td> 7</td><td>7</td><td>                   </td><td>7</td></tr>\n",
       "\t<tr><th scope=row>2</th><td>60.33899</td><td>1</td><td>female</td><td>1</td><td> 4</td><td><span style=white-space:pre-wrap>   4</span></td><td><span style=white-space:pre-wrap>Cirrhosis        </span></td><td>COPD/CHF/Cirrhosis</td><td>2</td><td>12</td><td>⋯</td><td>5.5000000</td><td>132</td><td>7.250000</td><td>NA</td><td>NA</td><td>NA</td><td>NA</td><td>1</td><td><span style=white-space:pre-wrap>&lt;2 mo. follow-up   </span></td><td>1</td></tr>\n",
       "\t<tr><th scope=row>3</th><td>52.74698</td><td>1</td><td>female</td><td>0</td><td>17</td><td><span style=white-space:pre-wrap>  47</span></td><td><span style=white-space:pre-wrap>Cirrhosis        </span></td><td>COPD/CHF/Cirrhosis</td><td>2</td><td>12</td><td>⋯</td><td>2.0000000</td><td>134</td><td>7.459961</td><td>NA</td><td>NA</td><td>NA</td><td> 1</td><td>0</td><td><span style=white-space:pre-wrap>&lt;2 mo. follow-up   </span></td><td>0</td></tr>\n",
       "\t<tr><th scope=row>4</th><td>42.38498</td><td>1</td><td>female</td><td>0</td><td> 3</td><td> 133</td><td>Lung Cancer      </td><td>Cancer            </td><td>2</td><td>11</td><td>⋯</td><td>0.7999268</td><td>139</td><td>      NA</td><td>NA</td><td>NA</td><td>NA</td><td> 0</td><td>0</td><td>no(M2 and SIP pres)</td><td>0</td></tr>\n",
       "\t<tr><th scope=row>5</th><td>79.88495</td><td>0</td><td>female</td><td>0</td><td>16</td><td>2029</td><td>ARF/MOSF w/Sepsis</td><td>ARF/MOSF          </td><td>1</td><td>NA</td><td>⋯</td><td>0.7999268</td><td>143</td><td>7.509766</td><td>NA</td><td>NA</td><td>NA</td><td>NA</td><td>2</td><td>no(M2 and SIP pres)</td><td>2</td></tr>\n",
       "\t<tr><th scope=row>6</th><td>93.01599</td><td>1</td><td><span style=white-space:pre-wrap>male  </span></td><td>1</td><td> 4</td><td><span style=white-space:pre-wrap>   4</span></td><td><span style=white-space:pre-wrap>Coma             </span></td><td><span style=white-space:pre-wrap>Coma              </span></td><td>1</td><td>14</td><td>⋯</td><td>0.6999512</td><td>140</td><td>7.659180</td><td>NA</td><td>NA</td><td>NA</td><td>NA</td><td>1</td><td><span style=white-space:pre-wrap>&lt;2 mo. follow-up   </span></td><td>1</td></tr>\n",
       "</tbody>\n",
       "</table>\n"
      ],
      "text/latex": [
       "A data.frame: 6 × 47\n",
       "\\begin{tabular}{r|lllllllllllllllllllll}\n",
       "  & age & death & sex & hospdead & slos & d.time & dzgroup & dzclass & num.co & edu & ⋯ & crea & sod & ph & glucose & bun & urine & adlp & adls & sfdm2 & adlsc\\\\\n",
       "  & <dbl> & <int> & <chr> & <int> & <int> & <int> & <chr> & <chr> & <int> & <int> & ⋯ & <dbl> & <int> & <dbl> & <dbl> & <dbl> & <dbl> & <int> & <int> & <chr> & <dbl>\\\\\n",
       "\\hline\n",
       "\t1 & 62.84998 & 0 & male   & 0 &  5 & 2029 & Lung Cancer       & Cancer             & 0 & 11 & ⋯ & 1.1999512 & 141 & 7.459961 & NA & NA & NA &  7 & 7 &                     & 7\\\\\n",
       "\t2 & 60.33899 & 1 & female & 1 &  4 &    4 & Cirrhosis         & COPD/CHF/Cirrhosis & 2 & 12 & ⋯ & 5.5000000 & 132 & 7.250000 & NA & NA & NA & NA & 1 & <2 mo. follow-up    & 1\\\\\n",
       "\t3 & 52.74698 & 1 & female & 0 & 17 &   47 & Cirrhosis         & COPD/CHF/Cirrhosis & 2 & 12 & ⋯ & 2.0000000 & 134 & 7.459961 & NA & NA & NA &  1 & 0 & <2 mo. follow-up    & 0\\\\\n",
       "\t4 & 42.38498 & 1 & female & 0 &  3 &  133 & Lung Cancer       & Cancer             & 2 & 11 & ⋯ & 0.7999268 & 139 &       NA & NA & NA & NA &  0 & 0 & no(M2 and SIP pres) & 0\\\\\n",
       "\t5 & 79.88495 & 0 & female & 0 & 16 & 2029 & ARF/MOSF w/Sepsis & ARF/MOSF           & 1 & NA & ⋯ & 0.7999268 & 143 & 7.509766 & NA & NA & NA & NA & 2 & no(M2 and SIP pres) & 2\\\\\n",
       "\t6 & 93.01599 & 1 & male   & 1 &  4 &    4 & Coma              & Coma               & 1 & 14 & ⋯ & 0.6999512 & 140 & 7.659180 & NA & NA & NA & NA & 1 & <2 mo. follow-up    & 1\\\\\n",
       "\\end{tabular}\n"
      ],
      "text/markdown": [
       "\n",
       "A data.frame: 6 × 47\n",
       "\n",
       "| <!--/--> | age &lt;dbl&gt; | death &lt;int&gt; | sex &lt;chr&gt; | hospdead &lt;int&gt; | slos &lt;int&gt; | d.time &lt;int&gt; | dzgroup &lt;chr&gt; | dzclass &lt;chr&gt; | num.co &lt;int&gt; | edu &lt;int&gt; | ⋯ ⋯ | crea &lt;dbl&gt; | sod &lt;int&gt; | ph &lt;dbl&gt; | glucose &lt;dbl&gt; | bun &lt;dbl&gt; | urine &lt;dbl&gt; | adlp &lt;int&gt; | adls &lt;int&gt; | sfdm2 &lt;chr&gt; | adlsc &lt;dbl&gt; |\n",
       "|---|---|---|---|---|---|---|---|---|---|---|---|---|---|---|---|---|---|---|---|---|---|\n",
       "| 1 | 62.84998 | 0 | male   | 0 |  5 | 2029 | Lung Cancer       | Cancer             | 0 | 11 | ⋯ | 1.1999512 | 141 | 7.459961 | NA | NA | NA |  7 | 7 | <!----> | 7 |\n",
       "| 2 | 60.33899 | 1 | female | 1 |  4 |    4 | Cirrhosis         | COPD/CHF/Cirrhosis | 2 | 12 | ⋯ | 5.5000000 | 132 | 7.250000 | NA | NA | NA | NA | 1 | &lt;2 mo. follow-up    | 1 |\n",
       "| 3 | 52.74698 | 1 | female | 0 | 17 |   47 | Cirrhosis         | COPD/CHF/Cirrhosis | 2 | 12 | ⋯ | 2.0000000 | 134 | 7.459961 | NA | NA | NA |  1 | 0 | &lt;2 mo. follow-up    | 0 |\n",
       "| 4 | 42.38498 | 1 | female | 0 |  3 |  133 | Lung Cancer       | Cancer             | 2 | 11 | ⋯ | 0.7999268 | 139 |       NA | NA | NA | NA |  0 | 0 | no(M2 and SIP pres) | 0 |\n",
       "| 5 | 79.88495 | 0 | female | 0 | 16 | 2029 | ARF/MOSF w/Sepsis | ARF/MOSF           | 1 | NA | ⋯ | 0.7999268 | 143 | 7.509766 | NA | NA | NA | NA | 2 | no(M2 and SIP pres) | 2 |\n",
       "| 6 | 93.01599 | 1 | male   | 1 |  4 |    4 | Coma              | Coma               | 1 | 14 | ⋯ | 0.6999512 | 140 | 7.659180 | NA | NA | NA | NA | 1 | &lt;2 mo. follow-up    | 1 |\n",
       "\n"
      ],
      "text/plain": [
       "  age      death sex    hospdead slos d.time dzgroup          \n",
       "1 62.84998 0     male   0         5   2029   Lung Cancer      \n",
       "2 60.33899 1     female 1         4      4   Cirrhosis        \n",
       "3 52.74698 1     female 0        17     47   Cirrhosis        \n",
       "4 42.38498 1     female 0         3    133   Lung Cancer      \n",
       "5 79.88495 0     female 0        16   2029   ARF/MOSF w/Sepsis\n",
       "6 93.01599 1     male   1         4      4   Coma             \n",
       "  dzclass            num.co edu ⋯ crea      sod ph       glucose bun urine adlp\n",
       "1 Cancer             0      11  ⋯ 1.1999512 141 7.459961 NA      NA  NA     7  \n",
       "2 COPD/CHF/Cirrhosis 2      12  ⋯ 5.5000000 132 7.250000 NA      NA  NA    NA  \n",
       "3 COPD/CHF/Cirrhosis 2      12  ⋯ 2.0000000 134 7.459961 NA      NA  NA     1  \n",
       "4 Cancer             2      11  ⋯ 0.7999268 139       NA NA      NA  NA     0  \n",
       "5 ARF/MOSF           1      NA  ⋯ 0.7999268 143 7.509766 NA      NA  NA    NA  \n",
       "6 Coma               1      14  ⋯ 0.6999512 140 7.659180 NA      NA  NA    NA  \n",
       "  adls sfdm2               adlsc\n",
       "1 7                        7    \n",
       "2 1    <2 mo. follow-up    1    \n",
       "3 0    <2 mo. follow-up    0    \n",
       "4 0    no(M2 and SIP pres) 0    \n",
       "5 2    no(M2 and SIP pres) 2    \n",
       "6 1    <2 mo. follow-up    1    "
      ]
     },
     "metadata": {},
     "output_type": "display_data"
    }
   ],
   "source": [
    "data <- read.csv(\"../data/support2.csv\")\n",
    "head(data)"
   ]
  },
  {
   "cell_type": "markdown",
   "metadata": {},
   "source": [
    "## Cleaning"
   ]
  },
  {
   "cell_type": "code",
   "execution_count": 2,
   "metadata": {
    "vscode": {
     "languageId": "r"
    }
   },
   "outputs": [],
   "source": [
    "data$pafi[is.na(data$pafi)] <- 333.3\n",
    "data$alb[is.na(data$alb)] <- 3.5\n",
    "data$bun[is.na(data$bun)] <- 6.51\n",
    "data$urine[is.na(data$urine)] <- 2502"
   ]
  },
  {
   "cell_type": "code",
   "execution_count": 3,
   "metadata": {
    "vscode": {
     "languageId": "r"
    }
   },
   "outputs": [
    {
     "data": {
      "text/html": [
       "<table class=\"dataframe\">\n",
       "<caption>A data.frame: 6 × 42</caption>\n",
       "<thead>\n",
       "\t<tr><th></th><th scope=col>age</th><th scope=col>death</th><th scope=col>sex</th><th scope=col>hospdead</th><th scope=col>slos</th><th scope=col>d.time</th><th scope=col>dzgroup</th><th scope=col>dzclass</th><th scope=col>num.co</th><th scope=col>edu</th><th scope=col>⋯</th><th scope=col>crea</th><th scope=col>sod</th><th scope=col>ph</th><th scope=col>glucose</th><th scope=col>bun</th><th scope=col>urine</th><th scope=col>adlp</th><th scope=col>adls</th><th scope=col>sfdm2</th><th scope=col>adlsc</th></tr>\n",
       "\t<tr><th></th><th scope=col>&lt;dbl&gt;</th><th scope=col>&lt;int&gt;</th><th scope=col>&lt;chr&gt;</th><th scope=col>&lt;int&gt;</th><th scope=col>&lt;int&gt;</th><th scope=col>&lt;int&gt;</th><th scope=col>&lt;chr&gt;</th><th scope=col>&lt;chr&gt;</th><th scope=col>&lt;int&gt;</th><th scope=col>&lt;int&gt;</th><th scope=col>⋯</th><th scope=col>&lt;dbl&gt;</th><th scope=col>&lt;int&gt;</th><th scope=col>&lt;dbl&gt;</th><th scope=col>&lt;dbl&gt;</th><th scope=col>&lt;dbl&gt;</th><th scope=col>&lt;dbl&gt;</th><th scope=col>&lt;int&gt;</th><th scope=col>&lt;int&gt;</th><th scope=col>&lt;chr&gt;</th><th scope=col>&lt;dbl&gt;</th></tr>\n",
       "</thead>\n",
       "<tbody>\n",
       "\t<tr><th scope=row>1</th><td>62.84998</td><td>0</td><td>male  </td><td>0</td><td> 5</td><td>2029</td><td>Lung Cancer      </td><td>Cancer            </td><td>0</td><td>11</td><td>⋯</td><td>1.1999512</td><td>141</td><td>7.459961</td><td>NA</td><td>6.51</td><td>2502</td><td> 7</td><td>7</td><td>                   </td><td>7</td></tr>\n",
       "\t<tr><th scope=row>2</th><td>60.33899</td><td>1</td><td>female</td><td>1</td><td> 4</td><td><span style=white-space:pre-wrap>   4</span></td><td><span style=white-space:pre-wrap>Cirrhosis        </span></td><td>COPD/CHF/Cirrhosis</td><td>2</td><td>12</td><td>⋯</td><td>5.5000000</td><td>132</td><td>7.250000</td><td>NA</td><td>6.51</td><td>2502</td><td>NA</td><td>1</td><td><span style=white-space:pre-wrap>&lt;2 mo. follow-up   </span></td><td>1</td></tr>\n",
       "\t<tr><th scope=row>3</th><td>52.74698</td><td>1</td><td>female</td><td>0</td><td>17</td><td><span style=white-space:pre-wrap>  47</span></td><td><span style=white-space:pre-wrap>Cirrhosis        </span></td><td>COPD/CHF/Cirrhosis</td><td>2</td><td>12</td><td>⋯</td><td>2.0000000</td><td>134</td><td>7.459961</td><td>NA</td><td>6.51</td><td>2502</td><td> 1</td><td>0</td><td><span style=white-space:pre-wrap>&lt;2 mo. follow-up   </span></td><td>0</td></tr>\n",
       "\t<tr><th scope=row>4</th><td>42.38498</td><td>1</td><td>female</td><td>0</td><td> 3</td><td> 133</td><td>Lung Cancer      </td><td>Cancer            </td><td>2</td><td>11</td><td>⋯</td><td>0.7999268</td><td>139</td><td>      NA</td><td>NA</td><td>6.51</td><td>2502</td><td> 0</td><td>0</td><td>no(M2 and SIP pres)</td><td>0</td></tr>\n",
       "\t<tr><th scope=row>5</th><td>79.88495</td><td>0</td><td>female</td><td>0</td><td>16</td><td>2029</td><td>ARF/MOSF w/Sepsis</td><td>ARF/MOSF          </td><td>1</td><td>NA</td><td>⋯</td><td>0.7999268</td><td>143</td><td>7.509766</td><td>NA</td><td>6.51</td><td>2502</td><td>NA</td><td>2</td><td>no(M2 and SIP pres)</td><td>2</td></tr>\n",
       "\t<tr><th scope=row>6</th><td>93.01599</td><td>1</td><td><span style=white-space:pre-wrap>male  </span></td><td>1</td><td> 4</td><td><span style=white-space:pre-wrap>   4</span></td><td><span style=white-space:pre-wrap>Coma             </span></td><td><span style=white-space:pre-wrap>Coma              </span></td><td>1</td><td>14</td><td>⋯</td><td>0.6999512</td><td>140</td><td>7.659180</td><td>NA</td><td>6.51</td><td>2502</td><td>NA</td><td>1</td><td><span style=white-space:pre-wrap>&lt;2 mo. follow-up   </span></td><td>1</td></tr>\n",
       "</tbody>\n",
       "</table>\n"
      ],
      "text/latex": [
       "A data.frame: 6 × 42\n",
       "\\begin{tabular}{r|lllllllllllllllllllll}\n",
       "  & age & death & sex & hospdead & slos & d.time & dzgroup & dzclass & num.co & edu & ⋯ & crea & sod & ph & glucose & bun & urine & adlp & adls & sfdm2 & adlsc\\\\\n",
       "  & <dbl> & <int> & <chr> & <int> & <int> & <int> & <chr> & <chr> & <int> & <int> & ⋯ & <dbl> & <int> & <dbl> & <dbl> & <dbl> & <dbl> & <int> & <int> & <chr> & <dbl>\\\\\n",
       "\\hline\n",
       "\t1 & 62.84998 & 0 & male   & 0 &  5 & 2029 & Lung Cancer       & Cancer             & 0 & 11 & ⋯ & 1.1999512 & 141 & 7.459961 & NA & 6.51 & 2502 &  7 & 7 &                     & 7\\\\\n",
       "\t2 & 60.33899 & 1 & female & 1 &  4 &    4 & Cirrhosis         & COPD/CHF/Cirrhosis & 2 & 12 & ⋯ & 5.5000000 & 132 & 7.250000 & NA & 6.51 & 2502 & NA & 1 & <2 mo. follow-up    & 1\\\\\n",
       "\t3 & 52.74698 & 1 & female & 0 & 17 &   47 & Cirrhosis         & COPD/CHF/Cirrhosis & 2 & 12 & ⋯ & 2.0000000 & 134 & 7.459961 & NA & 6.51 & 2502 &  1 & 0 & <2 mo. follow-up    & 0\\\\\n",
       "\t4 & 42.38498 & 1 & female & 0 &  3 &  133 & Lung Cancer       & Cancer             & 2 & 11 & ⋯ & 0.7999268 & 139 &       NA & NA & 6.51 & 2502 &  0 & 0 & no(M2 and SIP pres) & 0\\\\\n",
       "\t5 & 79.88495 & 0 & female & 0 & 16 & 2029 & ARF/MOSF w/Sepsis & ARF/MOSF           & 1 & NA & ⋯ & 0.7999268 & 143 & 7.509766 & NA & 6.51 & 2502 & NA & 2 & no(M2 and SIP pres) & 2\\\\\n",
       "\t6 & 93.01599 & 1 & male   & 1 &  4 &    4 & Coma              & Coma               & 1 & 14 & ⋯ & 0.6999512 & 140 & 7.659180 & NA & 6.51 & 2502 & NA & 1 & <2 mo. follow-up    & 1\\\\\n",
       "\\end{tabular}\n"
      ],
      "text/markdown": [
       "\n",
       "A data.frame: 6 × 42\n",
       "\n",
       "| <!--/--> | age &lt;dbl&gt; | death &lt;int&gt; | sex &lt;chr&gt; | hospdead &lt;int&gt; | slos &lt;int&gt; | d.time &lt;int&gt; | dzgroup &lt;chr&gt; | dzclass &lt;chr&gt; | num.co &lt;int&gt; | edu &lt;int&gt; | ⋯ ⋯ | crea &lt;dbl&gt; | sod &lt;int&gt; | ph &lt;dbl&gt; | glucose &lt;dbl&gt; | bun &lt;dbl&gt; | urine &lt;dbl&gt; | adlp &lt;int&gt; | adls &lt;int&gt; | sfdm2 &lt;chr&gt; | adlsc &lt;dbl&gt; |\n",
       "|---|---|---|---|---|---|---|---|---|---|---|---|---|---|---|---|---|---|---|---|---|---|\n",
       "| 1 | 62.84998 | 0 | male   | 0 |  5 | 2029 | Lung Cancer       | Cancer             | 0 | 11 | ⋯ | 1.1999512 | 141 | 7.459961 | NA | 6.51 | 2502 |  7 | 7 | <!----> | 7 |\n",
       "| 2 | 60.33899 | 1 | female | 1 |  4 |    4 | Cirrhosis         | COPD/CHF/Cirrhosis | 2 | 12 | ⋯ | 5.5000000 | 132 | 7.250000 | NA | 6.51 | 2502 | NA | 1 | &lt;2 mo. follow-up    | 1 |\n",
       "| 3 | 52.74698 | 1 | female | 0 | 17 |   47 | Cirrhosis         | COPD/CHF/Cirrhosis | 2 | 12 | ⋯ | 2.0000000 | 134 | 7.459961 | NA | 6.51 | 2502 |  1 | 0 | &lt;2 mo. follow-up    | 0 |\n",
       "| 4 | 42.38498 | 1 | female | 0 |  3 |  133 | Lung Cancer       | Cancer             | 2 | 11 | ⋯ | 0.7999268 | 139 |       NA | NA | 6.51 | 2502 |  0 | 0 | no(M2 and SIP pres) | 0 |\n",
       "| 5 | 79.88495 | 0 | female | 0 | 16 | 2029 | ARF/MOSF w/Sepsis | ARF/MOSF           | 1 | NA | ⋯ | 0.7999268 | 143 | 7.509766 | NA | 6.51 | 2502 | NA | 2 | no(M2 and SIP pres) | 2 |\n",
       "| 6 | 93.01599 | 1 | male   | 1 |  4 |    4 | Coma              | Coma               | 1 | 14 | ⋯ | 0.6999512 | 140 | 7.659180 | NA | 6.51 | 2502 | NA | 1 | &lt;2 mo. follow-up    | 1 |\n",
       "\n"
      ],
      "text/plain": [
       "  age      death sex    hospdead slos d.time dzgroup          \n",
       "1 62.84998 0     male   0         5   2029   Lung Cancer      \n",
       "2 60.33899 1     female 1         4      4   Cirrhosis        \n",
       "3 52.74698 1     female 0        17     47   Cirrhosis        \n",
       "4 42.38498 1     female 0         3    133   Lung Cancer      \n",
       "5 79.88495 0     female 0        16   2029   ARF/MOSF w/Sepsis\n",
       "6 93.01599 1     male   1         4      4   Coma             \n",
       "  dzclass            num.co edu ⋯ crea      sod ph       glucose bun  urine\n",
       "1 Cancer             0      11  ⋯ 1.1999512 141 7.459961 NA      6.51 2502 \n",
       "2 COPD/CHF/Cirrhosis 2      12  ⋯ 5.5000000 132 7.250000 NA      6.51 2502 \n",
       "3 COPD/CHF/Cirrhosis 2      12  ⋯ 2.0000000 134 7.459961 NA      6.51 2502 \n",
       "4 Cancer             2      11  ⋯ 0.7999268 139       NA NA      6.51 2502 \n",
       "5 ARF/MOSF           1      NA  ⋯ 0.7999268 143 7.509766 NA      6.51 2502 \n",
       "6 Coma               1      14  ⋯ 0.6999512 140 7.659180 NA      6.51 2502 \n",
       "  adlp adls sfdm2               adlsc\n",
       "1  7   7                        7    \n",
       "2 NA   1    <2 mo. follow-up    1    \n",
       "3  1   0    <2 mo. follow-up    0    \n",
       "4  0   0    no(M2 and SIP pres) 0    \n",
       "5 NA   2    no(M2 and SIP pres) 2    \n",
       "6 NA   1    <2 mo. follow-up    1    "
      ]
     },
     "metadata": {},
     "output_type": "display_data"
    }
   ],
   "source": [
    "data <- data[, !names(data) %in% \"dnr\"]\n",
    "data <- data[, !names(data) %in% \"scoma\"]\n",
    "data <- data[, !names(data) %in% \"sps\"]\n",
    "data <- data[, !names(data) %in% \"surv2m\"]\n",
    "data <- data[, !names(data) %in% \"surv6m\"]\n",
    "\n",
    "head(data)"
   ]
  },
  {
   "cell_type": "code",
   "execution_count": 4,
   "metadata": {
    "vscode": {
     "languageId": "r"
    }
   },
   "outputs": [
    {
     "data": {
      "text/html": [
       "<table class=\"dataframe\">\n",
       "<caption>A data.frame: 6 × 42</caption>\n",
       "<thead>\n",
       "\t<tr><th></th><th scope=col>age</th><th scope=col>death</th><th scope=col>sex</th><th scope=col>hospdead</th><th scope=col>slos</th><th scope=col>d.time</th><th scope=col>dzgroup</th><th scope=col>dzclass</th><th scope=col>num.co</th><th scope=col>edu</th><th scope=col>⋯</th><th scope=col>crea</th><th scope=col>sod</th><th scope=col>ph</th><th scope=col>glucose</th><th scope=col>bun</th><th scope=col>urine</th><th scope=col>adlp</th><th scope=col>adls</th><th scope=col>sfdm2</th><th scope=col>adlsc</th></tr>\n",
       "\t<tr><th></th><th scope=col>&lt;dbl&gt;</th><th scope=col>&lt;int&gt;</th><th scope=col>&lt;chr&gt;</th><th scope=col>&lt;int&gt;</th><th scope=col>&lt;int&gt;</th><th scope=col>&lt;int&gt;</th><th scope=col>&lt;chr&gt;</th><th scope=col>&lt;chr&gt;</th><th scope=col>&lt;int&gt;</th><th scope=col>&lt;int&gt;</th><th scope=col>⋯</th><th scope=col>&lt;dbl&gt;</th><th scope=col>&lt;dbl&gt;</th><th scope=col>&lt;dbl&gt;</th><th scope=col>&lt;dbl&gt;</th><th scope=col>&lt;dbl&gt;</th><th scope=col>&lt;dbl&gt;</th><th scope=col>&lt;dbl&gt;</th><th scope=col>&lt;dbl&gt;</th><th scope=col>&lt;chr&gt;</th><th scope=col>&lt;dbl&gt;</th></tr>\n",
       "</thead>\n",
       "<tbody>\n",
       "\t<tr><th scope=row>1</th><td>62.84998</td><td>0</td><td>male  </td><td>0</td><td> 5</td><td>2029</td><td>Lung Cancer      </td><td>Cancer            </td><td>0</td><td>11</td><td>⋯</td><td>1.1999512</td><td>141</td><td>7.459961</td><td>135</td><td>6.51</td><td>2502</td><td>7</td><td>7</td><td>                   </td><td>7</td></tr>\n",
       "\t<tr><th scope=row>2</th><td>60.33899</td><td>1</td><td>female</td><td>1</td><td> 4</td><td><span style=white-space:pre-wrap>   4</span></td><td><span style=white-space:pre-wrap>Cirrhosis        </span></td><td>COPD/CHF/Cirrhosis</td><td>2</td><td>12</td><td>⋯</td><td>5.5000000</td><td>132</td><td>7.250000</td><td>135</td><td>6.51</td><td>2502</td><td>0</td><td>1</td><td><span style=white-space:pre-wrap>&lt;2 mo. follow-up   </span></td><td>1</td></tr>\n",
       "\t<tr><th scope=row>3</th><td>52.74698</td><td>1</td><td>female</td><td>0</td><td>17</td><td><span style=white-space:pre-wrap>  47</span></td><td><span style=white-space:pre-wrap>Cirrhosis        </span></td><td>COPD/CHF/Cirrhosis</td><td>2</td><td>12</td><td>⋯</td><td>2.0000000</td><td>134</td><td>7.459961</td><td>135</td><td>6.51</td><td>2502</td><td>1</td><td>0</td><td><span style=white-space:pre-wrap>&lt;2 mo. follow-up   </span></td><td>0</td></tr>\n",
       "\t<tr><th scope=row>4</th><td>42.38498</td><td>1</td><td>female</td><td>0</td><td> 3</td><td> 133</td><td>Lung Cancer      </td><td>Cancer            </td><td>2</td><td>11</td><td>⋯</td><td>0.7999268</td><td>139</td><td>7.419922</td><td>135</td><td>6.51</td><td>2502</td><td>0</td><td>0</td><td>no(M2 and SIP pres)</td><td>0</td></tr>\n",
       "\t<tr><th scope=row>5</th><td>79.88495</td><td>0</td><td>female</td><td>0</td><td>16</td><td>2029</td><td>ARF/MOSF w/Sepsis</td><td>ARF/MOSF          </td><td>1</td><td>12</td><td>⋯</td><td>0.7999268</td><td>143</td><td>7.509766</td><td>135</td><td>6.51</td><td>2502</td><td>0</td><td>2</td><td>no(M2 and SIP pres)</td><td>2</td></tr>\n",
       "\t<tr><th scope=row>6</th><td>93.01599</td><td>1</td><td><span style=white-space:pre-wrap>male  </span></td><td>1</td><td> 4</td><td><span style=white-space:pre-wrap>   4</span></td><td><span style=white-space:pre-wrap>Coma             </span></td><td><span style=white-space:pre-wrap>Coma              </span></td><td>1</td><td>14</td><td>⋯</td><td>0.6999512</td><td>140</td><td>7.659180</td><td>135</td><td>6.51</td><td>2502</td><td>0</td><td>1</td><td><span style=white-space:pre-wrap>&lt;2 mo. follow-up   </span></td><td>1</td></tr>\n",
       "</tbody>\n",
       "</table>\n"
      ],
      "text/latex": [
       "A data.frame: 6 × 42\n",
       "\\begin{tabular}{r|lllllllllllllllllllll}\n",
       "  & age & death & sex & hospdead & slos & d.time & dzgroup & dzclass & num.co & edu & ⋯ & crea & sod & ph & glucose & bun & urine & adlp & adls & sfdm2 & adlsc\\\\\n",
       "  & <dbl> & <int> & <chr> & <int> & <int> & <int> & <chr> & <chr> & <int> & <int> & ⋯ & <dbl> & <dbl> & <dbl> & <dbl> & <dbl> & <dbl> & <dbl> & <dbl> & <chr> & <dbl>\\\\\n",
       "\\hline\n",
       "\t1 & 62.84998 & 0 & male   & 0 &  5 & 2029 & Lung Cancer       & Cancer             & 0 & 11 & ⋯ & 1.1999512 & 141 & 7.459961 & 135 & 6.51 & 2502 & 7 & 7 &                     & 7\\\\\n",
       "\t2 & 60.33899 & 1 & female & 1 &  4 &    4 & Cirrhosis         & COPD/CHF/Cirrhosis & 2 & 12 & ⋯ & 5.5000000 & 132 & 7.250000 & 135 & 6.51 & 2502 & 0 & 1 & <2 mo. follow-up    & 1\\\\\n",
       "\t3 & 52.74698 & 1 & female & 0 & 17 &   47 & Cirrhosis         & COPD/CHF/Cirrhosis & 2 & 12 & ⋯ & 2.0000000 & 134 & 7.459961 & 135 & 6.51 & 2502 & 1 & 0 & <2 mo. follow-up    & 0\\\\\n",
       "\t4 & 42.38498 & 1 & female & 0 &  3 &  133 & Lung Cancer       & Cancer             & 2 & 11 & ⋯ & 0.7999268 & 139 & 7.419922 & 135 & 6.51 & 2502 & 0 & 0 & no(M2 and SIP pres) & 0\\\\\n",
       "\t5 & 79.88495 & 0 & female & 0 & 16 & 2029 & ARF/MOSF w/Sepsis & ARF/MOSF           & 1 & 12 & ⋯ & 0.7999268 & 143 & 7.509766 & 135 & 6.51 & 2502 & 0 & 2 & no(M2 and SIP pres) & 2\\\\\n",
       "\t6 & 93.01599 & 1 & male   & 1 &  4 &    4 & Coma              & Coma               & 1 & 14 & ⋯ & 0.6999512 & 140 & 7.659180 & 135 & 6.51 & 2502 & 0 & 1 & <2 mo. follow-up    & 1\\\\\n",
       "\\end{tabular}\n"
      ],
      "text/markdown": [
       "\n",
       "A data.frame: 6 × 42\n",
       "\n",
       "| <!--/--> | age &lt;dbl&gt; | death &lt;int&gt; | sex &lt;chr&gt; | hospdead &lt;int&gt; | slos &lt;int&gt; | d.time &lt;int&gt; | dzgroup &lt;chr&gt; | dzclass &lt;chr&gt; | num.co &lt;int&gt; | edu &lt;int&gt; | ⋯ ⋯ | crea &lt;dbl&gt; | sod &lt;dbl&gt; | ph &lt;dbl&gt; | glucose &lt;dbl&gt; | bun &lt;dbl&gt; | urine &lt;dbl&gt; | adlp &lt;dbl&gt; | adls &lt;dbl&gt; | sfdm2 &lt;chr&gt; | adlsc &lt;dbl&gt; |\n",
       "|---|---|---|---|---|---|---|---|---|---|---|---|---|---|---|---|---|---|---|---|---|---|\n",
       "| 1 | 62.84998 | 0 | male   | 0 |  5 | 2029 | Lung Cancer       | Cancer             | 0 | 11 | ⋯ | 1.1999512 | 141 | 7.459961 | 135 | 6.51 | 2502 | 7 | 7 | <!----> | 7 |\n",
       "| 2 | 60.33899 | 1 | female | 1 |  4 |    4 | Cirrhosis         | COPD/CHF/Cirrhosis | 2 | 12 | ⋯ | 5.5000000 | 132 | 7.250000 | 135 | 6.51 | 2502 | 0 | 1 | &lt;2 mo. follow-up    | 1 |\n",
       "| 3 | 52.74698 | 1 | female | 0 | 17 |   47 | Cirrhosis         | COPD/CHF/Cirrhosis | 2 | 12 | ⋯ | 2.0000000 | 134 | 7.459961 | 135 | 6.51 | 2502 | 1 | 0 | &lt;2 mo. follow-up    | 0 |\n",
       "| 4 | 42.38498 | 1 | female | 0 |  3 |  133 | Lung Cancer       | Cancer             | 2 | 11 | ⋯ | 0.7999268 | 139 | 7.419922 | 135 | 6.51 | 2502 | 0 | 0 | no(M2 and SIP pres) | 0 |\n",
       "| 5 | 79.88495 | 0 | female | 0 | 16 | 2029 | ARF/MOSF w/Sepsis | ARF/MOSF           | 1 | 12 | ⋯ | 0.7999268 | 143 | 7.509766 | 135 | 6.51 | 2502 | 0 | 2 | no(M2 and SIP pres) | 2 |\n",
       "| 6 | 93.01599 | 1 | male   | 1 |  4 |    4 | Coma              | Coma               | 1 | 14 | ⋯ | 0.6999512 | 140 | 7.659180 | 135 | 6.51 | 2502 | 0 | 1 | &lt;2 mo. follow-up    | 1 |\n",
       "\n"
      ],
      "text/plain": [
       "  age      death sex    hospdead slos d.time dzgroup          \n",
       "1 62.84998 0     male   0         5   2029   Lung Cancer      \n",
       "2 60.33899 1     female 1         4      4   Cirrhosis        \n",
       "3 52.74698 1     female 0        17     47   Cirrhosis        \n",
       "4 42.38498 1     female 0         3    133   Lung Cancer      \n",
       "5 79.88495 0     female 0        16   2029   ARF/MOSF w/Sepsis\n",
       "6 93.01599 1     male   1         4      4   Coma             \n",
       "  dzclass            num.co edu ⋯ crea      sod ph       glucose bun  urine\n",
       "1 Cancer             0      11  ⋯ 1.1999512 141 7.459961 135     6.51 2502 \n",
       "2 COPD/CHF/Cirrhosis 2      12  ⋯ 5.5000000 132 7.250000 135     6.51 2502 \n",
       "3 COPD/CHF/Cirrhosis 2      12  ⋯ 2.0000000 134 7.459961 135     6.51 2502 \n",
       "4 Cancer             2      11  ⋯ 0.7999268 139 7.419922 135     6.51 2502 \n",
       "5 ARF/MOSF           1      12  ⋯ 0.7999268 143 7.509766 135     6.51 2502 \n",
       "6 Coma               1      14  ⋯ 0.6999512 140 7.659180 135     6.51 2502 \n",
       "  adlp adls sfdm2               adlsc\n",
       "1 7    7                        7    \n",
       "2 0    1    <2 mo. follow-up    1    \n",
       "3 1    0    <2 mo. follow-up    0    \n",
       "4 0    0    no(M2 and SIP pres) 0    \n",
       "5 0    2    no(M2 and SIP pres) 2    \n",
       "6 0    1    <2 mo. follow-up    1    "
      ]
     },
     "metadata": {},
     "output_type": "display_data"
    }
   ],
   "source": [
    "data[] <- lapply(data, function(x) {\n",
    "  if (is.numeric(x)) {\n",
    "    x[is.na(x)] <- median(x, na.rm = TRUE)\n",
    "  }\n",
    "  return(x)\n",
    "})\n",
    "head(data)"
   ]
  },
  {
   "cell_type": "code",
   "execution_count": 5,
   "metadata": {
    "vscode": {
     "languageId": "r"
    }
   },
   "outputs": [
    {
     "data": {
      "text/html": [
       "<table class=\"dataframe\">\n",
       "<caption>A data.frame: 7 × 2</caption>\n",
       "<thead>\n",
       "\t<tr><th></th><th scope=col>colonne</th><th scope=col>nombre_vides</th></tr>\n",
       "\t<tr><th></th><th scope=col>&lt;chr&gt;</th><th scope=col>&lt;int&gt;</th></tr>\n",
       "</thead>\n",
       "<tbody>\n",
       "\t<tr><th scope=row>sex</th><td>sex    </td><td>   0</td></tr>\n",
       "\t<tr><th scope=row>dzgroup</th><td>dzgroup</td><td>   0</td></tr>\n",
       "\t<tr><th scope=row>dzclass</th><td>dzclass</td><td>   0</td></tr>\n",
       "\t<tr><th scope=row>income</th><td>income </td><td>2982</td></tr>\n",
       "\t<tr><th scope=row>race</th><td>race   </td><td>  42</td></tr>\n",
       "\t<tr><th scope=row>ca</th><td>ca     </td><td>   0</td></tr>\n",
       "\t<tr><th scope=row>sfdm2</th><td>sfdm2  </td><td>1400</td></tr>\n",
       "</tbody>\n",
       "</table>\n"
      ],
      "text/latex": [
       "A data.frame: 7 × 2\n",
       "\\begin{tabular}{r|ll}\n",
       "  & colonne & nombre\\_vides\\\\\n",
       "  & <chr> & <int>\\\\\n",
       "\\hline\n",
       "\tsex & sex     &    0\\\\\n",
       "\tdzgroup & dzgroup &    0\\\\\n",
       "\tdzclass & dzclass &    0\\\\\n",
       "\tincome & income  & 2982\\\\\n",
       "\trace & race    &   42\\\\\n",
       "\tca & ca      &    0\\\\\n",
       "\tsfdm2 & sfdm2   & 1400\\\\\n",
       "\\end{tabular}\n"
      ],
      "text/markdown": [
       "\n",
       "A data.frame: 7 × 2\n",
       "\n",
       "| <!--/--> | colonne &lt;chr&gt; | nombre_vides &lt;int&gt; |\n",
       "|---|---|---|\n",
       "| sex | sex     |    0 |\n",
       "| dzgroup | dzgroup |    0 |\n",
       "| dzclass | dzclass |    0 |\n",
       "| income | income  | 2982 |\n",
       "| race | race    |   42 |\n",
       "| ca | ca      |    0 |\n",
       "| sfdm2 | sfdm2   | 1400 |\n",
       "\n"
      ],
      "text/plain": [
       "        colonne nombre_vides\n",
       "sex     sex        0        \n",
       "dzgroup dzgroup    0        \n",
       "dzclass dzclass    0        \n",
       "income  income  2982        \n",
       "race    race      42        \n",
       "ca      ca         0        \n",
       "sfdm2   sfdm2   1400        "
      ]
     },
     "metadata": {},
     "output_type": "display_data"
    }
   ],
   "source": [
    "colonnes_chaine <- sapply(data, is.character)\n",
    "\n",
    "nombres_vides <- sapply(data[, colonnes_chaine], function(x) sum(x == \"\"))\n",
    "\n",
    "# Afficher les résultats\n",
    "resultats <- data.frame(\n",
    "  colonne = names(nombres_vides),\n",
    "  nombre_vides = nombres_vides\n",
    ")\n",
    "resultats"
   ]
  },
  {
   "cell_type": "code",
   "execution_count": 6,
   "metadata": {
    "vscode": {
     "languageId": "r"
    }
   },
   "outputs": [
    {
     "data": {
      "text/html": [
       "<table class=\"dataframe\">\n",
       "<caption>A data.frame: 6 × 2</caption>\n",
       "<thead>\n",
       "\t<tr><th></th><th scope=col>colonne</th><th scope=col>nombre_vides</th></tr>\n",
       "\t<tr><th></th><th scope=col>&lt;chr&gt;</th><th scope=col>&lt;int&gt;</th></tr>\n",
       "</thead>\n",
       "<tbody>\n",
       "\t<tr><th scope=row>sex</th><td>sex    </td><td>0</td></tr>\n",
       "\t<tr><th scope=row>dzgroup</th><td>dzgroup</td><td>0</td></tr>\n",
       "\t<tr><th scope=row>dzclass</th><td>dzclass</td><td>0</td></tr>\n",
       "\t<tr><th scope=row>race</th><td>race   </td><td>0</td></tr>\n",
       "\t<tr><th scope=row>ca</th><td>ca     </td><td>0</td></tr>\n",
       "\t<tr><th scope=row>sfdm2</th><td>sfdm2  </td><td>0</td></tr>\n",
       "</tbody>\n",
       "</table>\n"
      ],
      "text/latex": [
       "A data.frame: 6 × 2\n",
       "\\begin{tabular}{r|ll}\n",
       "  & colonne & nombre\\_vides\\\\\n",
       "  & <chr> & <int>\\\\\n",
       "\\hline\n",
       "\tsex & sex     & 0\\\\\n",
       "\tdzgroup & dzgroup & 0\\\\\n",
       "\tdzclass & dzclass & 0\\\\\n",
       "\trace & race    & 0\\\\\n",
       "\tca & ca      & 0\\\\\n",
       "\tsfdm2 & sfdm2   & 0\\\\\n",
       "\\end{tabular}\n"
      ],
      "text/markdown": [
       "\n",
       "A data.frame: 6 × 2\n",
       "\n",
       "| <!--/--> | colonne &lt;chr&gt; | nombre_vides &lt;int&gt; |\n",
       "|---|---|---|\n",
       "| sex | sex     | 0 |\n",
       "| dzgroup | dzgroup | 0 |\n",
       "| dzclass | dzclass | 0 |\n",
       "| race | race    | 0 |\n",
       "| ca | ca      | 0 |\n",
       "| sfdm2 | sfdm2   | 0 |\n",
       "\n"
      ],
      "text/plain": [
       "        colonne nombre_vides\n",
       "sex     sex     0           \n",
       "dzgroup dzgroup 0           \n",
       "dzclass dzclass 0           \n",
       "race    race    0           \n",
       "ca      ca      0           \n",
       "sfdm2   sfdm2   0           "
      ]
     },
     "metadata": {},
     "output_type": "display_data"
    }
   ],
   "source": [
    "data <- data[, !names(data) %in% \"income\"]\n",
    "#data <- data[, !names(data) %in% \"sfdm2\"]\n",
    "data <- data[!(is.na(data$sfdm2) | data$sfdm2 == \"\"), ]\n",
    "data <- data[!(is.na(data$race) | data$race == \"\"), ]\n",
    "data <- data[!(is.na(data$dnr) | data$dnr == \"\"), ]\n",
    "\n",
    "colonnes_chaine <- sapply(data, is.character)\n",
    "\n",
    "nombres_vides <- sapply(data[, colonnes_chaine], function(x) sum(x == \"\"))\n",
    "\n",
    "# Afficher les résultats\n",
    "resultats <- data.frame(\n",
    "  colonne = names(nombres_vides),\n",
    "  nombre_vides = nombres_vides\n",
    ")\n",
    "resultats"
   ]
  },
  {
   "cell_type": "markdown",
   "metadata": {},
   "source": [
    "On applique un poids aux personnes qui meurent car il y en a moins dans le dataset"
   ]
  },
  {
   "cell_type": "code",
   "execution_count": 7,
   "metadata": {
    "vscode": {
     "languageId": "r"
    }
   },
   "outputs": [
    {
     "data": {
      "text/html": [
       "2.32582322357019"
      ],
      "text/latex": [
       "2.32582322357019"
      ],
      "text/markdown": [
       "2.32582322357019"
      ],
      "text/plain": [
       "[1] 2.325823"
      ]
     },
     "metadata": {},
     "output_type": "display_data"
    }
   ],
   "source": [
    "A <- ifelse(data$hospdead > 0.5, 1, 0)\n",
    "A <- A[A == 1]\n",
    "B <- ifelse(data$hospdead < 0.5, 1, 0)\n",
    "B <- B[B == 1]\n",
    "\n",
    "A_t = length(A)/nrow(data)\n",
    "B_t = length(B)/nrow(data)\n",
    "\n",
    "inv_At = 1/A_t *B_t\n",
    "inv_Bt = 1\n",
    "\n",
    "inv_At"
   ]
  },
  {
   "cell_type": "markdown",
   "metadata": {},
   "source": [
    "On sépare en gardant la même proportion de morts/vivants"
   ]
  },
  {
   "cell_type": "code",
   "execution_count": 8,
   "metadata": {
    "vscode": {
     "languageId": "r"
    }
   },
   "outputs": [
    {
     "name": "stderr",
     "output_type": "stream",
     "text": [
      "Le chargement a nécessité le package : ggplot2\n",
      "\n",
      "Le chargement a nécessité le package : lattice\n",
      "\n"
     ]
    }
   ],
   "source": [
    "library(caret)\n",
    "\n",
    "set.seed(123)\n",
    "index <- createDataPartition(data$hospdead, p = 0.7, list = FALSE)\n",
    "\n",
    "train_data2 <- data[index, ]\n",
    "test_data2 <- data[-index, ]"
   ]
  },
  {
   "cell_type": "markdown",
   "metadata": {},
   "source": [
    "On applique arbitrairement 2 fois plus d'importance aux faux positifs qu'aux négatifs"
   ]
  },
  {
   "cell_type": "code",
   "execution_count": 9,
   "metadata": {
    "vscode": {
     "languageId": "r"
    }
   },
   "outputs": [],
   "source": [
    "weights <- ifelse(train_data2$hospdead == 1, 1, inv_At * 2)"
   ]
  },
  {
   "cell_type": "code",
   "execution_count": 10,
   "metadata": {
    "vscode": {
     "languageId": "r"
    }
   },
   "outputs": [
    {
     "name": "stderr",
     "output_type": "stream",
     "text": [
      "Le chargement a nécessité le package : Matrix\n",
      "\n"
     ]
    },
    {
     "name": "stderr",
     "output_type": "stream",
     "text": [
      "Loaded glmnet 4.1-8\n",
      "\n"
     ]
    }
   ],
   "source": [
    "library(glmnet)\n"
   ]
  },
  {
   "cell_type": "markdown",
   "metadata": {},
   "source": [
    "## Ridge et Lasso"
   ]
  },
  {
   "cell_type": "code",
   "execution_count": 11,
   "metadata": {
    "vscode": {
     "languageId": "r"
    }
   },
   "outputs": [],
   "source": [
    "formula <- hospdead ~ . - 1\n",
    "\n",
    "x_train <- model.matrix(formula, data = train_data2)\n",
    "y_train <- train_data2$hospdead\n",
    "\n",
    "x_test <- model.matrix(formula, data = test_data2)\n",
    "y_test <- test_data2$hospdead"
   ]
  },
  {
   "cell_type": "markdown",
   "metadata": {},
   "source": [
    "## Ridge"
   ]
  },
  {
   "cell_type": "code",
   "execution_count": 12,
   "metadata": {
    "vscode": {
     "languageId": "r"
    }
   },
   "outputs": [],
   "source": [
    "ridge_model <- glmnet(x_train, y_train, family = \"binomial\", alpha = 0)\n",
    "\n",
    "cv_ridge <- cv.glmnet(x_train, y_train, family = \"binomial\", alpha = 0)\n",
    "\n",
    "best_lambda_ridge <- cv_ridge$lambda.min\n",
    "\n",
    "final_ridge_model <- glmnet(x_train, y_train, family = \"binomial\", alpha = 0, lambda = best_lambda_ridge, weights = weights)"
   ]
  },
  {
   "cell_type": "code",
   "execution_count": 13,
   "metadata": {
    "vscode": {
     "languageId": "r"
    }
   },
   "outputs": [],
   "source": [
    "ridge_preds <- predict(final_ridge_model, s = best_lambda_ridge, newx = x_test, type = \"response\")\n",
    "ridge_classes <- ifelse(ridge_preds > 0.5, 1, 0)\n",
    "\n",
    "conf_matrix_ridge <- table(Actual = y_test, Predicted = ridge_classes)"
   ]
  },
  {
   "cell_type": "code",
   "execution_count": 14,
   "metadata": {
    "vscode": {
     "languageId": "r"
    }
   },
   "outputs": [
    {
     "name": "stdout",
     "output_type": "stream",
     "text": [
      "[1] \"Confusion Matrix for Ridge:\"\n",
      "      Predicted\n",
      "Actual    0    1\n",
      "     0 1604   14\n",
      "     1  317  367\n"
     ]
    },
    {
     "name": "stdout",
     "output_type": "stream",
     "text": [
      "[1] \"Accuracy for Ridge: 0.856211989574283\"\n"
     ]
    }
   ],
   "source": [
    "print(\"Confusion Matrix for Ridge:\")\n",
    "print(conf_matrix_ridge)\n",
    "\n",
    "accuracy_ridge <- sum(diag(conf_matrix_ridge)) / sum(conf_matrix_ridge)\n",
    "\n",
    "print(paste(\"Accuracy for Ridge:\", accuracy_ridge))"
   ]
  },
  {
   "cell_type": "markdown",
   "metadata": {},
   "source": [
    "On obtient ici une précision de 86% pour la régression Ridge avec un nombre minimal de faux positifs"
   ]
  },
  {
   "cell_type": "code",
   "execution_count": 20,
   "metadata": {
    "vscode": {
     "languageId": "r"
    }
   },
   "outputs": [
    {
     "name": "stderr",
     "output_type": "stream",
     "text": [
      "\u001b[1m\u001b[22m`geom_smooth()` using formula = 'y ~ x'\n"
     ]
    },
    {
     "data": {
      "image/png": "[encoded data removed]",
      "text/plain": [
       "plot without title"
      ]
     },
     "metadata": {
      "image/png": {
       "height": 420,
       "width": 420
      }
     },
     "output_type": "display_data"
    }
   ],
   "source": [
    "ridge_plot_data <- data.frame(\n",
    "  Actual = y_test,\n",
    "  Predicted = as.numeric(ridge_classes)\n",
    ")\n",
    "\n",
    "ggplot(ridge_plot_data, aes(x = Actual, y = Predicted)) +\n",
    "  geom_point(alpha = 0.5, color = \"blue\") +\n",
    "  geom_smooth(method = \"glm\", method.args = list(family = \"binomial\"), color = \"red\") +\n",
    "  ggtitle(\"Ridge Regression: Predicted Probability vs Actual\") +\n",
    "  xlab(\"Actual hospdead\") +\n",
    "  ylab(\"Predicted Probability\")"
   ]
  },
  {
   "cell_type": "markdown",
   "metadata": {},
   "source": [
    "## Lasso"
   ]
  },
  {
   "cell_type": "code",
   "execution_count": 15,
   "metadata": {
    "vscode": {
     "languageId": "r"
    }
   },
   "outputs": [
    {
     "name": "stderr",
     "output_type": "stream",
     "text": [
      "Warning message:\n",
      "“from glmnet C++ code (error code -79); Convergence for 79th lambda value not reached after maxit=100000 iterations; solutions for larger lambdas returned”\n"
     ]
    }
   ],
   "source": [
    "final_lasso_model <- glmnet(x_train, y_train, family = \"binomial\", alpha = 1, weights = weights)"
   ]
  },
  {
   "cell_type": "code",
   "execution_count": 16,
   "metadata": {
    "vscode": {
     "languageId": "r"
    }
   },
   "outputs": [],
   "source": [
    "#best_lambda_lasso <- final_lasso_model$lambda.min\n",
    "arg_min <- which.min(final_lasso_model$lambda)\n",
    "best_lambda_lasso <- final_lasso_model[[5]][arg_min]\n",
    "#arg_min <- which(final_lasso_model$lambda == best_lambda_lasso)\n",
    "\n",
    "final_lasso_model <- glmnet(x_train, y_train, family = \"binomial\", alpha = 1, lambda = best_lambda_lasso, weights = weights)"
   ]
  },
  {
   "cell_type": "code",
   "execution_count": 17,
   "metadata": {
    "vscode": {
     "languageId": "r"
    }
   },
   "outputs": [
    {
     "data": {
      "text/plain": [
       "\n",
       "Call:  glmnet(x = x_train, y = y_train, family = \"binomial\", weights = weights,      alpha = 1, lambda = best_lambda_lasso) \n",
       "\n",
       "  Df  %Dev    Lambda\n",
       "1 50 84.49 8.858e-05"
      ]
     },
     "metadata": {},
     "output_type": "display_data"
    }
   ],
   "source": [
    "final_lasso_model"
   ]
  },
  {
   "cell_type": "code",
   "execution_count": 18,
   "metadata": {
    "vscode": {
     "languageId": "r"
    }
   },
   "outputs": [],
   "source": [
    "lasso_preds <- predict(final_lasso_model,s = best_lambda_lasso, newx = x_test, type = \"response\")\n",
    "lasso_classes <- ifelse(lasso_preds > 0.5, 1, 0)\n",
    "\n",
    "conf_matrix_lasso <- table(Actual = y_test, Predicted = lasso_classes)"
   ]
  },
  {
   "cell_type": "code",
   "execution_count": 19,
   "metadata": {
    "vscode": {
     "languageId": "r"
    }
   },
   "outputs": [
    {
     "name": "stdout",
     "output_type": "stream",
     "text": [
      "[1] \"Confusion Matrix for Lasso:\"\n",
      "      Predicted\n",
      "Actual    0    1\n",
      "     0 1583   35\n",
      "     1   77  607\n",
      "[1] \"Accuracy for Lasso: 0.951346655082537\"\n"
     ]
    }
   ],
   "source": [
    "print(\"Confusion Matrix for Lasso:\")\n",
    "print(conf_matrix_lasso)\n",
    "\n",
    "accuracy_lasso <- sum(diag(conf_matrix_lasso)) / sum(conf_matrix_lasso)\n",
    "\n",
    "print(paste(\"Accuracy for Lasso:\", accuracy_lasso))"
   ]
  },
  {
   "cell_type": "markdown",
   "metadata": {},
   "source": [
    "Ici on obtient une précision de 95%, mais en ayant un peu plus de faux positifs que pour la régression Ridge."
   ]
  },
  {
   "cell_type": "code",
   "execution_count": 21,
   "metadata": {
    "vscode": {
     "languageId": "r"
    }
   },
   "outputs": [
    {
     "name": "stderr",
     "output_type": "stream",
     "text": [
      "\u001b[1m\u001b[22m`geom_smooth()` using formula = 'y ~ x'\n"
     ]
    },
    {
     "data": {
      "image/png": "[encoded data removed]",
      "text/plain": [
       "plot without title"
      ]
     },
     "metadata": {
      "image/png": {
       "height": 420,
       "width": 420
      }
     },
     "output_type": "display_data"
    }
   ],
   "source": [
    "ridge_plot_data <- data.frame(\n",
    "  Actual = y_test,\n",
    "  Predicted = as.numeric(lasso_classes)\n",
    ")\n",
    "\n",
    "ggplot(ridge_plot_data, aes(x = Actual, y = Predicted)) +\n",
    "  geom_point(alpha = 0.5, color = \"blue\") +\n",
    "  geom_smooth(method = \"glm\", method.args = list(family = \"binomial\"), color = \"red\") +\n",
    "  ggtitle(\"Ridge Regression: Predicted Probability vs Actual\") +\n",
    "  xlab(\"Actual hospdead\") +\n",
    "  ylab(\"Predicted Probability\")"
   ]
  },
  {
   "cell_type": "markdown",
   "metadata": {},
   "source": [
    "## Elastic Net"
   ]
  },
  {
   "cell_type": "code",
   "execution_count": 23,
   "metadata": {
    "vscode": {
     "languageId": "r"
    }
   },
   "outputs": [
    {
     "name": "stdout",
     "output_type": "stream",
     "text": [
      "Lambda optimal : 0.01144041 \n",
      "      Predicted\n",
      "Actual    0    1\n",
      "     0 1596   22\n",
      "     1  273  411\n",
      "0.8718506Lambda optimal : 0.0001144041 \n",
      "      Predicted\n",
      "Actual    0    1\n",
      "     0 1583   35\n",
      "     1  204  480\n",
      "0.8961772Lambda optimal : 5.720206e-05 \n",
      "      Predicted\n",
      "Actual    0    1\n",
      "     0 1584   34\n",
      "     1  190  494\n",
      "0.9026933Lambda optimal : 3.813471e-05 \n",
      "      Predicted\n",
      "Actual    0    1\n",
      "     0 1584   34\n",
      "     1  181  503\n",
      "0.906603Lambda optimal : 2.860103e-05 \n",
      "      Predicted\n",
      "Actual    0    1\n",
      "     0 1585   33\n",
      "     1  170  514\n",
      "0.9118158Lambda optimal : 2.288082e-05 \n",
      "      Predicted\n",
      "Actual    0    1\n",
      "     0 1583   35\n",
      "     1  156  528\n",
      "0.9170287Lambda optimal : 1.906735e-05 \n",
      "      Predicted\n",
      "Actual    0    1\n",
      "     0 1583   35\n",
      "     1  150  534\n",
      "0.9196351Lambda optimal : 1.634345e-05 \n",
      "      Predicted\n",
      "Actual    0    1\n",
      "     0 1584   34\n",
      "     1  123  561\n",
      "0.9317984Lambda optimal : 1.722502e-05 \n",
      "      Predicted\n",
      "Actual    0    1\n",
      "     0 1584   34\n",
      "     1  120  564\n",
      "0.9331017Lambda optimal : 2.024041e-05 \n",
      "      Predicted\n",
      "Actual    0    1\n",
      "     0 1582   36\n",
      "     1  110  574\n",
      "0.9365769"
     ]
    },
    {
     "name": "stderr",
     "output_type": "stream",
     "text": [
      "Warning message:\n",
      "“from glmnet C++ code (error code -79); Convergence for 79th lambda value not reached after maxit=100000 iterations; solutions for larger lambdas returned”\n",
      "Warning message:\n",
      "“from glmnet C++ code (error code -79); Convergence for 79th lambda value not reached after maxit=100000 iterations; solutions for larger lambdas returned”\n",
      "Warning message:\n",
      "“from glmnet C++ code (error code -79); Convergence for 79th lambda value not reached after maxit=100000 iterations; solutions for larger lambdas returned”\n",
      "Warning message:\n",
      "“from glmnet C++ code (error code -79); Convergence for 79th lambda value not reached after maxit=100000 iterations; solutions for larger lambdas returned”\n",
      "Warning message:\n",
      "“from glmnet C++ code (error code -79); Convergence for 79th lambda value not reached after maxit=100000 iterations; solutions for larger lambdas returned”\n",
      "Warning message:\n",
      "“from glmnet C++ code (error code -79); Convergence for 79th lambda value not reached after maxit=100000 iterations; solutions for larger lambdas returned”\n",
      "Warning message:\n",
      "“from glmnet C++ code (error code -79); Convergence for 79th lambda value not reached after maxit=100000 iterations; solutions for larger lambdas returned”\n",
      "Warning message:\n",
      "“from glmnet C++ code (error code -79); Convergence for 79th lambda value not reached after maxit=100000 iterations; solutions for larger lambdas returned”\n",
      "Warning message:\n",
      "“from glmnet C++ code (error code -79); Convergence for 79th lambda value not reached after maxit=100000 iterations; solutions for larger lambdas returned”\n",
      "Warning message:\n",
      "“from glmnet C++ code (error code -79); Convergence for 79th lambda value not reached after maxit=100000 iterations; solutions for larger lambdas returned”\n",
      "Warning message:\n",
      "“from glmnet C++ code (error code -79); Convergence for 79th lambda value not reached after maxit=100000 iterations; solutions for larger lambdas returned”\n"
     ]
    },
    {
     "name": "stdout",
     "output_type": "stream",
     "text": [
      "Lambda optimal : 8.857896e-05 \n",
      "      Predicted\n",
      "Actual    0    1\n",
      "     0 1582   36\n",
      "     1   77  607\n",
      "0.9509123"
     ]
    }
   ],
   "source": [
    "res <- c()\n",
    "\n",
    "for (i in 0:10) {\n",
    "cv_model <- cv.glmnet(\n",
    "  x_train, y_train,\n",
    "  alpha = i/10,  # Mélange entre Ridge et Lasso\n",
    "  family = \"binomial\",  # Régression logistique\n",
    "  weights = weights  # Poids pour équilibrer\n",
    ")\n",
    "\n",
    "# Extraction du lambda optimal\n",
    "optimal_lambda <- cv_model$lambda.min\n",
    "cat(\"Lambda optimal :\", optimal_lambda, \"\\n\")\n",
    "\n",
    "# Prédictions sur l'ensemble de test\n",
    "predictions <- predict(cv_model, x_test, s = \"lambda.min\", type = \"response\")\n",
    "predicted_classes <- ifelse(predictions > 0.5, 1, 0)\n",
    "\n",
    "# Évaluation des performances\n",
    "confusion_matrix <- table(Actual = y_test, Predicted = predicted_classes)\n",
    "print(confusion_matrix)\n",
    "\n",
    "accuracy <- sum(diag(confusion_matrix)) / sum(confusion_matrix)\n",
    "cat(accuracy)\n",
    "res <- c(res, (accuracy))\n",
    "}\n"
   ]
  },
  {
   "cell_type": "markdown",
   "metadata": {},
   "source": [
    "On voit ici que dès que alpha vaut $0.1$ ou plus, le nombre de faux positifs reste le même (50% plus élevé que pour Ridge) et ce n'est que le nombre de faux négatifs qui diminue"
   ]
  },
  {
   "cell_type": "markdown",
   "metadata": {},
   "source": [
    "D'un autre côté, la précision globale augmente avec le alpha, ce qui signifie que la précision optimale est obtenue avec Lasso"
   ]
  },
  {
   "cell_type": "code",
   "execution_count": 26,
   "metadata": {
    "vscode": {
     "languageId": "r"
    }
   },
   "outputs": [
    {
     "data": {
      "image/png": "[encoded data removed]",
      "text/plain": [
       "plot without title"
      ]
     },
     "metadata": {
      "image/png": {
       "height": 420,
       "width": 420
      }
     },
     "output_type": "display_data"
    }
   ],
   "source": [
    "plot(x=0:10, y = res, xlab=\"alpha * 10\", ylab=\"Accuracy\")"
   ]
  }
 ],
 "metadata": {
  "kernelspec": {
   "display_name": "R",
   "language": "R",
   "name": "ir"
  },
  "language_info": {
   "codemirror_mode": "r",
   "file_extension": ".r",
   "mimetype": "text/x-r-source",
   "name": "R",
   "pygments_lexer": "r",
   "version": "4.4.2"
  }
 },
 "nbformat": 4,
 "nbformat_minor": 2
}
