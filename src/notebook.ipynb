{
 "cells": [
  {
   "cell_type": "markdown",
   "metadata": {},
   "source": [
    "ROCHETTE\n",
    "LEVEQUE\n",
    "\n",
    "# Chargement des Données\n",
    "\n",
    "Nous importons le dataset pour obtenir une vue d'ensemble de ses caractéristiques et de ses variables."
   ]
  },
  {
   "cell_type": "code",
   "execution_count": 1,
   "metadata": {
    "vscode": {
     "languageId": "r"
    }
   },
   "outputs": [
    {
     "data": {
      "text/html": [
       "<table class=\"dataframe\">\n",
       "<caption>A data.frame: 6 × 47</caption>\n",
       "<thead>\n",
       "\t<tr><th></th><th scope=col>age</th><th scope=col>death</th><th scope=col>sex</th><th scope=col>hospdead</th><th scope=col>slos</th><th scope=col>d.time</th><th scope=col>dzgroup</th><th scope=col>dzclass</th><th scope=col>num.co</th><th scope=col>edu</th><th scope=col>⋯</th><th scope=col>crea</th><th scope=col>sod</th><th scope=col>ph</th><th scope=col>glucose</th><th scope=col>bun</th><th scope=col>urine</th><th scope=col>adlp</th><th scope=col>adls</th><th scope=col>sfdm2</th><th scope=col>adlsc</th></tr>\n",
       "\t<tr><th></th><th scope=col>&lt;dbl&gt;</th><th scope=col>&lt;int&gt;</th><th scope=col>&lt;chr&gt;</th><th scope=col>&lt;int&gt;</th><th scope=col>&lt;int&gt;</th><th scope=col>&lt;int&gt;</th><th scope=col>&lt;chr&gt;</th><th scope=col>&lt;chr&gt;</th><th scope=col>&lt;int&gt;</th><th scope=col>&lt;int&gt;</th><th scope=col>⋯</th><th scope=col>&lt;dbl&gt;</th><th scope=col>&lt;int&gt;</th><th scope=col>&lt;dbl&gt;</th><th scope=col>&lt;dbl&gt;</th><th scope=col>&lt;dbl&gt;</th><th scope=col>&lt;dbl&gt;</th><th scope=col>&lt;int&gt;</th><th scope=col>&lt;int&gt;</th><th scope=col>&lt;chr&gt;</th><th scope=col>&lt;dbl&gt;</th></tr>\n",
       "</thead>\n",
       "<tbody>\n",
       "\t<tr><th scope=row>1</th><td>62.84998</td><td>0</td><td>male  </td><td>0</td><td> 5</td><td>2029</td><td>Lung Cancer      </td><td>Cancer            </td><td>0</td><td>11</td><td>⋯</td><td>1.1999512</td><td>141</td><td>7.459961</td><td>NA</td><td>NA</td><td>NA</td><td> 7</td><td>7</td><td>                   </td><td>7</td></tr>\n",
       "\t<tr><th scope=row>2</th><td>60.33899</td><td>1</td><td>female</td><td>1</td><td> 4</td><td><span style=white-space:pre-wrap>   4</span></td><td><span style=white-space:pre-wrap>Cirrhosis        </span></td><td>COPD/CHF/Cirrhosis</td><td>2</td><td>12</td><td>⋯</td><td>5.5000000</td><td>132</td><td>7.250000</td><td>NA</td><td>NA</td><td>NA</td><td>NA</td><td>1</td><td><span style=white-space:pre-wrap>&lt;2 mo. follow-up   </span></td><td>1</td></tr>\n",
       "\t<tr><th scope=row>3</th><td>52.74698</td><td>1</td><td>female</td><td>0</td><td>17</td><td><span style=white-space:pre-wrap>  47</span></td><td><span style=white-space:pre-wrap>Cirrhosis        </span></td><td>COPD/CHF/Cirrhosis</td><td>2</td><td>12</td><td>⋯</td><td>2.0000000</td><td>134</td><td>7.459961</td><td>NA</td><td>NA</td><td>NA</td><td> 1</td><td>0</td><td><span style=white-space:pre-wrap>&lt;2 mo. follow-up   </span></td><td>0</td></tr>\n",
       "\t<tr><th scope=row>4</th><td>42.38498</td><td>1</td><td>female</td><td>0</td><td> 3</td><td> 133</td><td>Lung Cancer      </td><td>Cancer            </td><td>2</td><td>11</td><td>⋯</td><td>0.7999268</td><td>139</td><td>      NA</td><td>NA</td><td>NA</td><td>NA</td><td> 0</td><td>0</td><td>no(M2 and SIP pres)</td><td>0</td></tr>\n",
       "\t<tr><th scope=row>5</th><td>79.88495</td><td>0</td><td>female</td><td>0</td><td>16</td><td>2029</td><td>ARF/MOSF w/Sepsis</td><td>ARF/MOSF          </td><td>1</td><td>NA</td><td>⋯</td><td>0.7999268</td><td>143</td><td>7.509766</td><td>NA</td><td>NA</td><td>NA</td><td>NA</td><td>2</td><td>no(M2 and SIP pres)</td><td>2</td></tr>\n",
       "\t<tr><th scope=row>6</th><td>93.01599</td><td>1</td><td><span style=white-space:pre-wrap>male  </span></td><td>1</td><td> 4</td><td><span style=white-space:pre-wrap>   4</span></td><td><span style=white-space:pre-wrap>Coma             </span></td><td><span style=white-space:pre-wrap>Coma              </span></td><td>1</td><td>14</td><td>⋯</td><td>0.6999512</td><td>140</td><td>7.659180</td><td>NA</td><td>NA</td><td>NA</td><td>NA</td><td>1</td><td><span style=white-space:pre-wrap>&lt;2 mo. follow-up   </span></td><td>1</td></tr>\n",
       "</tbody>\n",
       "</table>\n"
      ],
      "text/latex": [
       "A data.frame: 6 × 47\n",
       "\\begin{tabular}{r|lllllllllllllllllllll}\n",
       "  & age & death & sex & hospdead & slos & d.time & dzgroup & dzclass & num.co & edu & ⋯ & crea & sod & ph & glucose & bun & urine & adlp & adls & sfdm2 & adlsc\\\\\n",
       "  & <dbl> & <int> & <chr> & <int> & <int> & <int> & <chr> & <chr> & <int> & <int> & ⋯ & <dbl> & <int> & <dbl> & <dbl> & <dbl> & <dbl> & <int> & <int> & <chr> & <dbl>\\\\\n",
       "\\hline\n",
       "\t1 & 62.84998 & 0 & male   & 0 &  5 & 2029 & Lung Cancer       & Cancer             & 0 & 11 & ⋯ & 1.1999512 & 141 & 7.459961 & NA & NA & NA &  7 & 7 &                     & 7\\\\\n",
       "\t2 & 60.33899 & 1 & female & 1 &  4 &    4 & Cirrhosis         & COPD/CHF/Cirrhosis & 2 & 12 & ⋯ & 5.5000000 & 132 & 7.250000 & NA & NA & NA & NA & 1 & <2 mo. follow-up    & 1\\\\\n",
       "\t3 & 52.74698 & 1 & female & 0 & 17 &   47 & Cirrhosis         & COPD/CHF/Cirrhosis & 2 & 12 & ⋯ & 2.0000000 & 134 & 7.459961 & NA & NA & NA &  1 & 0 & <2 mo. follow-up    & 0\\\\\n",
       "\t4 & 42.38498 & 1 & female & 0 &  3 &  133 & Lung Cancer       & Cancer             & 2 & 11 & ⋯ & 0.7999268 & 139 &       NA & NA & NA & NA &  0 & 0 & no(M2 and SIP pres) & 0\\\\\n",
       "\t5 & 79.88495 & 0 & female & 0 & 16 & 2029 & ARF/MOSF w/Sepsis & ARF/MOSF           & 1 & NA & ⋯ & 0.7999268 & 143 & 7.509766 & NA & NA & NA & NA & 2 & no(M2 and SIP pres) & 2\\\\\n",
       "\t6 & 93.01599 & 1 & male   & 1 &  4 &    4 & Coma              & Coma               & 1 & 14 & ⋯ & 0.6999512 & 140 & 7.659180 & NA & NA & NA & NA & 1 & <2 mo. follow-up    & 1\\\\\n",
       "\\end{tabular}\n"
      ],
      "text/markdown": [
       "\n",
       "A data.frame: 6 × 47\n",
       "\n",
       "| <!--/--> | age &lt;dbl&gt; | death &lt;int&gt; | sex &lt;chr&gt; | hospdead &lt;int&gt; | slos &lt;int&gt; | d.time &lt;int&gt; | dzgroup &lt;chr&gt; | dzclass &lt;chr&gt; | num.co &lt;int&gt; | edu &lt;int&gt; | ⋯ ⋯ | crea &lt;dbl&gt; | sod &lt;int&gt; | ph &lt;dbl&gt; | glucose &lt;dbl&gt; | bun &lt;dbl&gt; | urine &lt;dbl&gt; | adlp &lt;int&gt; | adls &lt;int&gt; | sfdm2 &lt;chr&gt; | adlsc &lt;dbl&gt; |\n",
       "|---|---|---|---|---|---|---|---|---|---|---|---|---|---|---|---|---|---|---|---|---|---|\n",
       "| 1 | 62.84998 | 0 | male   | 0 |  5 | 2029 | Lung Cancer       | Cancer             | 0 | 11 | ⋯ | 1.1999512 | 141 | 7.459961 | NA | NA | NA |  7 | 7 | <!----> | 7 |\n",
       "| 2 | 60.33899 | 1 | female | 1 |  4 |    4 | Cirrhosis         | COPD/CHF/Cirrhosis | 2 | 12 | ⋯ | 5.5000000 | 132 | 7.250000 | NA | NA | NA | NA | 1 | &lt;2 mo. follow-up    | 1 |\n",
       "| 3 | 52.74698 | 1 | female | 0 | 17 |   47 | Cirrhosis         | COPD/CHF/Cirrhosis | 2 | 12 | ⋯ | 2.0000000 | 134 | 7.459961 | NA | NA | NA |  1 | 0 | &lt;2 mo. follow-up    | 0 |\n",
       "| 4 | 42.38498 | 1 | female | 0 |  3 |  133 | Lung Cancer       | Cancer             | 2 | 11 | ⋯ | 0.7999268 | 139 |       NA | NA | NA | NA |  0 | 0 | no(M2 and SIP pres) | 0 |\n",
       "| 5 | 79.88495 | 0 | female | 0 | 16 | 2029 | ARF/MOSF w/Sepsis | ARF/MOSF           | 1 | NA | ⋯ | 0.7999268 | 143 | 7.509766 | NA | NA | NA | NA | 2 | no(M2 and SIP pres) | 2 |\n",
       "| 6 | 93.01599 | 1 | male   | 1 |  4 |    4 | Coma              | Coma               | 1 | 14 | ⋯ | 0.6999512 | 140 | 7.659180 | NA | NA | NA | NA | 1 | &lt;2 mo. follow-up    | 1 |\n",
       "\n"
      ],
      "text/plain": [
       "  age      death sex    hospdead slos d.time dzgroup          \n",
       "1 62.84998 0     male   0         5   2029   Lung Cancer      \n",
       "2 60.33899 1     female 1         4      4   Cirrhosis        \n",
       "3 52.74698 1     female 0        17     47   Cirrhosis        \n",
       "4 42.38498 1     female 0         3    133   Lung Cancer      \n",
       "5 79.88495 0     female 0        16   2029   ARF/MOSF w/Sepsis\n",
       "6 93.01599 1     male   1         4      4   Coma             \n",
       "  dzclass            num.co edu ⋯ crea      sod ph       glucose bun urine adlp\n",
       "1 Cancer             0      11  ⋯ 1.1999512 141 7.459961 NA      NA  NA     7  \n",
       "2 COPD/CHF/Cirrhosis 2      12  ⋯ 5.5000000 132 7.250000 NA      NA  NA    NA  \n",
       "3 COPD/CHF/Cirrhosis 2      12  ⋯ 2.0000000 134 7.459961 NA      NA  NA     1  \n",
       "4 Cancer             2      11  ⋯ 0.7999268 139       NA NA      NA  NA     0  \n",
       "5 ARF/MOSF           1      NA  ⋯ 0.7999268 143 7.509766 NA      NA  NA    NA  \n",
       "6 Coma               1      14  ⋯ 0.6999512 140 7.659180 NA      NA  NA    NA  \n",
       "  adls sfdm2               adlsc\n",
       "1 7                        7    \n",
       "2 1    <2 mo. follow-up    1    \n",
       "3 0    <2 mo. follow-up    0    \n",
       "4 0    no(M2 and SIP pres) 0    \n",
       "5 2    no(M2 and SIP pres) 2    \n",
       "6 1    <2 mo. follow-up    1    "
      ]
     },
     "metadata": {},
     "output_type": "display_data"
    }
   ],
   "source": [
    "data <- read.csv(\"../data/support2.csv\")\n",
    "head(data)"
   ]
  },
  {
   "cell_type": "markdown",
   "metadata": {},
   "source": [
    "# Description des Variables\n",
    "\n",
    "Le dataset contient `nrow(data)` observations et `ncol(data)` variables. Voici une description des principales variables :\n",
    "\n",
    "1.  **Variables Démographiques**\n",
    "\n",
    "    -   `age` : Âge du patient (numérique).\n",
    "\n",
    "    -   `sex` : Genre du patient (catégorique - \"male\" ou \"female\").\n",
    "\n",
    "    -   `edu` : Niveau d'éducation, avec des valeurs manquantes.\n",
    "\n",
    "    -   `income` : Niveau de revenu, également avec un nombre important de valeurs manquantes.\n",
    "\n",
    "2.  **État de santé et résultats**\n",
    "\n",
    "    -   `death` et `hospdead` : Indicateurs de mortalité (binaire).\n",
    "\n",
    "    -   `slos` : Durée de séjour à l'hôpital.\n",
    "\n",
    "    -   `d.time` : Durée jusqu’au décès ou au dernier suivi.\n",
    "\n",
    "    -   `dzgroup` et `dzclass` : Variables catégorielles spécifiant le groupe de maladie et la classe.\n",
    "\n",
    "3.  **Mesures cliniques**\n",
    "\n",
    "    -   `sps`, `aps`, `scoma` : Scores représentant l'état de santé et le niveau de coma.\n",
    "\n",
    "    -   Signes vitaux tels que `meanbp` (pression artérielle moyenne), `hrt` (fréquence cardiaque), `resp` (taux de respiration) et `temp` (température).\n",
    "\n",
    "    -   Résultats de tests de laboratoire : `pafi`, `alb`, `bili`, `crea`, `sod`, `ph`, `glucose`, `bun` et `urine`.\n",
    "\n",
    "4.  **Fonctionnalité et suivi**\n",
    "\n",
    "    -   `adlp` et `adls` : Scores des activités de la vie quotidienne, avec de nombreuses valeurs manquantes.\n",
    "\n",
    "    -   `sfdm2` : Statut de suivi, également avec quelques valeurs manquantes.\n",
    "\n",
    "# Analyse des valeurs manquantes\n",
    "\n",
    "Nous examinons le nombre de valeurs manquantes pour chaque variable."
   ]
  },
  {
   "cell_type": "code",
   "execution_count": 2,
   "metadata": {
    "vscode": {
     "languageId": "r"
    }
   },
   "outputs": [
    {
     "data": {
      "text/html": [
       "<style>\n",
       ".dl-inline {width: auto; margin:0; padding: 0}\n",
       ".dl-inline>dt, .dl-inline>dd {float: none; width: auto; display: inline-block}\n",
       ".dl-inline>dt::after {content: \":\\0020\"; padding-right: .5ex}\n",
       ".dl-inline>dt:not(:first-of-type) {padding-left: .5ex}\n",
       "</style><dl class=dl-inline><dt>adlp</dt><dd>5641</dd><dt>urine</dt><dd>4862</dd><dt>glucose</dt><dd>4500</dd><dt>bun</dt><dd>4352</dd><dt>totmcst</dt><dd>3475</dd><dt>alb</dt><dd>3372</dd><dt>adls</dt><dd>2867</dd><dt>bili</dt><dd>2601</dd><dt>pafi</dt><dd>2325</dd><dt>ph</dt><dd>2284</dd><dt>prg2m</dt><dd>1649</dd><dt>edu</dt><dd>1634</dd><dt>prg6m</dt><dd>1633</dd><dt>totcst</dt><dd>888</dd><dt>wblc</dt><dd>212</dd><dt>charges</dt><dd>172</dd><dt>avtisst</dt><dd>82</dd><dt>crea</dt><dd>67</dd><dt>dnrday</dt><dd>30</dd><dt>scoma</dt><dd>1</dd><dt>sps</dt><dd>1</dd><dt>aps</dt><dd>1</dd><dt>surv2m</dt><dd>1</dd><dt>surv6m</dt><dd>1</dd><dt>meanbp</dt><dd>1</dd><dt>hrt</dt><dd>1</dd><dt>resp</dt><dd>1</dd><dt>temp</dt><dd>1</dd><dt>sod</dt><dd>1</dd></dl>\n"
      ],
      "text/latex": [
       "\\begin{description*}\n",
       "\\item[adlp] 5641\n",
       "\\item[urine] 4862\n",
       "\\item[glucose] 4500\n",
       "\\item[bun] 4352\n",
       "\\item[totmcst] 3475\n",
       "\\item[alb] 3372\n",
       "\\item[adls] 2867\n",
       "\\item[bili] 2601\n",
       "\\item[pafi] 2325\n",
       "\\item[ph] 2284\n",
       "\\item[prg2m] 1649\n",
       "\\item[edu] 1634\n",
       "\\item[prg6m] 1633\n",
       "\\item[totcst] 888\n",
       "\\item[wblc] 212\n",
       "\\item[charges] 172\n",
       "\\item[avtisst] 82\n",
       "\\item[crea] 67\n",
       "\\item[dnrday] 30\n",
       "\\item[scoma] 1\n",
       "\\item[sps] 1\n",
       "\\item[aps] 1\n",
       "\\item[surv2m] 1\n",
       "\\item[surv6m] 1\n",
       "\\item[meanbp] 1\n",
       "\\item[hrt] 1\n",
       "\\item[resp] 1\n",
       "\\item[temp] 1\n",
       "\\item[sod] 1\n",
       "\\end{description*}\n"
      ],
      "text/markdown": [
       "adlp\n",
       ":   5641urine\n",
       ":   4862glucose\n",
       ":   4500bun\n",
       ":   4352totmcst\n",
       ":   3475alb\n",
       ":   3372adls\n",
       ":   2867bili\n",
       ":   2601pafi\n",
       ":   2325ph\n",
       ":   2284prg2m\n",
       ":   1649edu\n",
       ":   1634prg6m\n",
       ":   1633totcst\n",
       ":   888wblc\n",
       ":   212charges\n",
       ":   172avtisst\n",
       ":   82crea\n",
       ":   67dnrday\n",
       ":   30scoma\n",
       ":   1sps\n",
       ":   1aps\n",
       ":   1surv2m\n",
       ":   1surv6m\n",
       ":   1meanbp\n",
       ":   1hrt\n",
       ":   1resp\n",
       ":   1temp\n",
       ":   1sod\n",
       ":   1\n",
       "\n"
      ],
      "text/plain": [
       "   adlp   urine glucose     bun totmcst     alb    adls    bili    pafi      ph \n",
       "   5641    4862    4500    4352    3475    3372    2867    2601    2325    2284 \n",
       "  prg2m     edu   prg6m  totcst    wblc charges avtisst    crea  dnrday   scoma \n",
       "   1649    1634    1633     888     212     172      82      67      30       1 \n",
       "    sps     aps  surv2m  surv6m  meanbp     hrt    resp    temp     sod \n",
       "      1       1       1       1       1       1       1       1       1 "
      ]
     },
     "metadata": {},
     "output_type": "display_data"
    }
   ],
   "source": [
    "missing_data_summary <- sapply(data, function(x) sum(is.na(x)))\n",
    "missing_data_summary <- sort(missing_data_summary[missing_data_summary > 0], decreasing = TRUE)\n",
    "missing_data_summary"
   ]
  },
  {
   "cell_type": "markdown",
   "metadata": {},
   "source": [
    "Les variables avec des valeurs manquantes significatives sont :\n",
    "\n",
    "-   `edu` (niveau d'éducation),\n",
    "\n",
    "-   `income`,\n",
    "\n",
    "-   `pafi` (pression partielle en oxygène artériel),\n",
    "\n",
    "-   `alb` (albumine),\n",
    "\n",
    "-   `glucose`,\n",
    "\n",
    "-   `bun` (azote uréique sanguin),\n",
    "\n",
    "-   `urine`,\n",
    "\n",
    "-   `adlp` et `adls` (scores d'activités de la vie quotidienne).\n",
    "\n",
    "# Analyse des valeurs aberrantes\n",
    "\n",
    "Pour détecter les valeurs aberrantes, nous analysons les valeurs situées en dehors de 1,5 fois l'écart interquartile (IQR)."
   ]
  },
  {
   "cell_type": "code",
   "execution_count": 3,
   "metadata": {
    "vscode": {
     "languageId": "r"
    }
   },
   "outputs": [
    {
     "data": {
      "text/html": [
       "<style>\n",
       ".dl-inline {width: auto; margin:0; padding: 0}\n",
       ".dl-inline>dt, .dl-inline>dd {float: none; width: auto; display: inline-block}\n",
       ".dl-inline>dt::after {content: \":\\0020\"; padding-right: .5ex}\n",
       ".dl-inline>dt:not(:first-of-type) {padding-left: .5ex}\n",
       "</style><dl class=dl-inline><dt>scoma</dt><dd>1955</dd><dt>diabetes</dt><dd>1778</dd><dt>hday</dt><dd>1543</dd><dt>crea</dt><dd>987</dd><dt>bili</dt><dd>926</dd><dt>charges</dt><dd>912</dd><dt>dnrday</dt><dd>799</dd><dt>slos</dt><dd>768</dd><dt>totcst</dt><dd>749</dd><dt>totmcst</dt><dd>495</dd><dt>wblc</dt><dd>399</dd><dt>resp</dt><dd>313</dd><dt>surv2m</dt><dd>307</dd><dt>dementia</dt><dd>296</dd><dt>sps</dt><dd>283</dd><dt>glucose</dt><dd>272</dd><dt>d.time</dt><dd>267</dd><dt>bun</dt><dd>267</dd><dt>ph</dt><dd>260</dd><dt>sod</dt><dd>256</dd><dt>edu</dt><dd>199</dd><dt>aps</dt><dd>178</dd><dt>adlp</dt><dd>149</dd><dt>urine</dt><dd>92</dd><dt>pafi</dt><dd>90</dd><dt>age</dt><dd>56</dd><dt>avtisst</dt><dd>43</dd><dt>hrt</dt><dd>40</dd><dt>num.co</dt><dd>25</dd><dt>alb</dt><dd>15</dd><dt>temp</dt><dd>14</dd><dt>meanbp</dt><dd>6</dd></dl>\n"
      ],
      "text/latex": [
       "\\begin{description*}\n",
       "\\item[scoma] 1955\n",
       "\\item[diabetes] 1778\n",
       "\\item[hday] 1543\n",
       "\\item[crea] 987\n",
       "\\item[bili] 926\n",
       "\\item[charges] 912\n",
       "\\item[dnrday] 799\n",
       "\\item[slos] 768\n",
       "\\item[totcst] 749\n",
       "\\item[totmcst] 495\n",
       "\\item[wblc] 399\n",
       "\\item[resp] 313\n",
       "\\item[surv2m] 307\n",
       "\\item[dementia] 296\n",
       "\\item[sps] 283\n",
       "\\item[glucose] 272\n",
       "\\item[d.time] 267\n",
       "\\item[bun] 267\n",
       "\\item[ph] 260\n",
       "\\item[sod] 256\n",
       "\\item[edu] 199\n",
       "\\item[aps] 178\n",
       "\\item[adlp] 149\n",
       "\\item[urine] 92\n",
       "\\item[pafi] 90\n",
       "\\item[age] 56\n",
       "\\item[avtisst] 43\n",
       "\\item[hrt] 40\n",
       "\\item[num.co] 25\n",
       "\\item[alb] 15\n",
       "\\item[temp] 14\n",
       "\\item[meanbp] 6\n",
       "\\end{description*}\n"
      ],
      "text/markdown": [
       "scoma\n",
       ":   1955diabetes\n",
       ":   1778hday\n",
       ":   1543crea\n",
       ":   987bili\n",
       ":   926charges\n",
       ":   912dnrday\n",
       ":   799slos\n",
       ":   768totcst\n",
       ":   749totmcst\n",
       ":   495wblc\n",
       ":   399resp\n",
       ":   313surv2m\n",
       ":   307dementia\n",
       ":   296sps\n",
       ":   283glucose\n",
       ":   272d.time\n",
       ":   267bun\n",
       ":   267ph\n",
       ":   260sod\n",
       ":   256edu\n",
       ":   199aps\n",
       ":   178adlp\n",
       ":   149urine\n",
       ":   92pafi\n",
       ":   90age\n",
       ":   56avtisst\n",
       ":   43hrt\n",
       ":   40num.co\n",
       ":   25alb\n",
       ":   15temp\n",
       ":   14meanbp\n",
       ":   6\n",
       "\n"
      ],
      "text/plain": [
       "   scoma diabetes     hday     crea     bili  charges   dnrday     slos \n",
       "    1955     1778     1543      987      926      912      799      768 \n",
       "  totcst  totmcst     wblc     resp   surv2m dementia      sps  glucose \n",
       "     749      495      399      313      307      296      283      272 \n",
       "  d.time      bun       ph      sod      edu      aps     adlp    urine \n",
       "     267      267      260      256      199      178      149       92 \n",
       "    pafi      age  avtisst      hrt   num.co      alb     temp   meanbp \n",
       "      90       56       43       40       25       15       14        6 "
      ]
     },
     "metadata": {},
     "output_type": "display_data"
    }
   ],
   "source": [
    "find_outliers <- function(series) {\n",
    "  q1 <- quantile(series, 0.25, na.rm = TRUE)\n",
    "  q3 <- quantile(series, 0.75, na.rm = TRUE)\n",
    "  iqr <- q3 - q1\n",
    "  lower_bound <- q1 - 1.5 * iqr\n",
    "  upper_bound <- q3 + 1.5 * iqr\n",
    "  return(sum(series < lower_bound | series > upper_bound, na.rm = TRUE))\n",
    "}\n",
    "\n",
    "outliers_summary <- sapply(data[, sapply(data, is.numeric)], find_outliers)\n",
    "outliers_summary <- sort(outliers_summary[outliers_summary > 0], decreasing = TRUE)\n",
    "outliers_summary"
   ]
  },
  {
   "cell_type": "markdown",
   "metadata": {},
   "source": [
    "# Interprétation des valeurs aberrantes\n",
    "\n",
    "Les variables présentant le plus grand nombre de valeurs aberrantes sont :\n",
    "\n",
    "-   `slos` : Durée de séjour, avec des valeurs extrêmes suggérant que certains patients ont eu de très longues hospitalisations.\n",
    "\n",
    "-   `charges` et `totcst` : Frais hospitaliers avec des valeurs particulièrement élevées pour certains patients.\n",
    "\n",
    "-   Les indicateurs de santé, tels que `bili`, `crea`, `glucose` et `bun`, présentent également des valeurs extrêmes, ce qui peut refléter des anomalies dans les conditions de santé de certains patients.\n",
    "\n",
    "# Conclusion\n",
    "\n",
    "Cette analyse descriptive permet d’identifier les variables avec des valeurs manquantes et des valeurs aberrantes, fournissant une base pour des traitements ultérieurs des données et des analyses plus approfondies.\n"
   ]
  }
 ],
 "metadata": {
  "kernelspec": {
   "display_name": "R",
   "language": "R",
   "name": "ir"
  },
  "language_info": {
   "codemirror_mode": "r",
   "file_extension": ".r",
   "mimetype": "text/x-r-source",
   "name": "R",
   "pygments_lexer": "r",
   "version": "4.4.2"
  }
 },
 "nbformat": 4,
 "nbformat_minor": 2
}
