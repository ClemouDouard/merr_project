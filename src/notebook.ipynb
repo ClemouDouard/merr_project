{
 "cells": [
  {
   "cell_type": "markdown",
   "metadata": {},
   "source": [
    "ROCHETTE\n",
    "LEVEQUE\n",
    "\n",
    "# Chargement des Données\n",
    "\n",
    "Nous importons le dataset pour obtenir une vue d'ensemble de ses caractéristiques et de ses variables."
   ]
  },
  {
   "cell_type": "code",
   "execution_count": 1,
   "metadata": {
    "vscode": {
     "languageId": "r"
    }
   },
   "outputs": [
    {
     "data": {
      "text/html": [
       "<table class=\"dataframe\">\n",
       "<caption>A data.frame: 6 × 47</caption>\n",
       "<thead>\n",
       "\t<tr><th></th><th scope=col>age</th><th scope=col>death</th><th scope=col>sex</th><th scope=col>hospdead</th><th scope=col>slos</th><th scope=col>d.time</th><th scope=col>dzgroup</th><th scope=col>dzclass</th><th scope=col>num.co</th><th scope=col>edu</th><th scope=col>⋯</th><th scope=col>crea</th><th scope=col>sod</th><th scope=col>ph</th><th scope=col>glucose</th><th scope=col>bun</th><th scope=col>urine</th><th scope=col>adlp</th><th scope=col>adls</th><th scope=col>sfdm2</th><th scope=col>adlsc</th></tr>\n",
       "\t<tr><th></th><th scope=col>&lt;dbl&gt;</th><th scope=col>&lt;int&gt;</th><th scope=col>&lt;chr&gt;</th><th scope=col>&lt;int&gt;</th><th scope=col>&lt;int&gt;</th><th scope=col>&lt;int&gt;</th><th scope=col>&lt;chr&gt;</th><th scope=col>&lt;chr&gt;</th><th scope=col>&lt;int&gt;</th><th scope=col>&lt;int&gt;</th><th scope=col>⋯</th><th scope=col>&lt;dbl&gt;</th><th scope=col>&lt;int&gt;</th><th scope=col>&lt;dbl&gt;</th><th scope=col>&lt;dbl&gt;</th><th scope=col>&lt;dbl&gt;</th><th scope=col>&lt;dbl&gt;</th><th scope=col>&lt;int&gt;</th><th scope=col>&lt;int&gt;</th><th scope=col>&lt;chr&gt;</th><th scope=col>&lt;dbl&gt;</th></tr>\n",
       "</thead>\n",
       "<tbody>\n",
       "\t<tr><th scope=row>1</th><td>62.84998</td><td>0</td><td>male  </td><td>0</td><td> 5</td><td>2029</td><td>Lung Cancer      </td><td>Cancer            </td><td>0</td><td>11</td><td>⋯</td><td>1.1999512</td><td>141</td><td>7.459961</td><td>NA</td><td>NA</td><td>NA</td><td> 7</td><td>7</td><td>                   </td><td>7</td></tr>\n",
       "\t<tr><th scope=row>2</th><td>60.33899</td><td>1</td><td>female</td><td>1</td><td> 4</td><td><span style=white-space:pre-wrap>   4</span></td><td><span style=white-space:pre-wrap>Cirrhosis        </span></td><td>COPD/CHF/Cirrhosis</td><td>2</td><td>12</td><td>⋯</td><td>5.5000000</td><td>132</td><td>7.250000</td><td>NA</td><td>NA</td><td>NA</td><td>NA</td><td>1</td><td><span style=white-space:pre-wrap>&lt;2 mo. follow-up   </span></td><td>1</td></tr>\n",
       "\t<tr><th scope=row>3</th><td>52.74698</td><td>1</td><td>female</td><td>0</td><td>17</td><td><span style=white-space:pre-wrap>  47</span></td><td><span style=white-space:pre-wrap>Cirrhosis        </span></td><td>COPD/CHF/Cirrhosis</td><td>2</td><td>12</td><td>⋯</td><td>2.0000000</td><td>134</td><td>7.459961</td><td>NA</td><td>NA</td><td>NA</td><td> 1</td><td>0</td><td><span style=white-space:pre-wrap>&lt;2 mo. follow-up   </span></td><td>0</td></tr>\n",
       "\t<tr><th scope=row>4</th><td>42.38498</td><td>1</td><td>female</td><td>0</td><td> 3</td><td> 133</td><td>Lung Cancer      </td><td>Cancer            </td><td>2</td><td>11</td><td>⋯</td><td>0.7999268</td><td>139</td><td>      NA</td><td>NA</td><td>NA</td><td>NA</td><td> 0</td><td>0</td><td>no(M2 and SIP pres)</td><td>0</td></tr>\n",
       "\t<tr><th scope=row>5</th><td>79.88495</td><td>0</td><td>female</td><td>0</td><td>16</td><td>2029</td><td>ARF/MOSF w/Sepsis</td><td>ARF/MOSF          </td><td>1</td><td>NA</td><td>⋯</td><td>0.7999268</td><td>143</td><td>7.509766</td><td>NA</td><td>NA</td><td>NA</td><td>NA</td><td>2</td><td>no(M2 and SIP pres)</td><td>2</td></tr>\n",
       "\t<tr><th scope=row>6</th><td>93.01599</td><td>1</td><td><span style=white-space:pre-wrap>male  </span></td><td>1</td><td> 4</td><td><span style=white-space:pre-wrap>   4</span></td><td><span style=white-space:pre-wrap>Coma             </span></td><td><span style=white-space:pre-wrap>Coma              </span></td><td>1</td><td>14</td><td>⋯</td><td>0.6999512</td><td>140</td><td>7.659180</td><td>NA</td><td>NA</td><td>NA</td><td>NA</td><td>1</td><td><span style=white-space:pre-wrap>&lt;2 mo. follow-up   </span></td><td>1</td></tr>\n",
       "</tbody>\n",
       "</table>\n"
      ],
      "text/latex": [
       "A data.frame: 6 × 47\n",
       "\\begin{tabular}{r|lllllllllllllllllllll}\n",
       "  & age & death & sex & hospdead & slos & d.time & dzgroup & dzclass & num.co & edu & ⋯ & crea & sod & ph & glucose & bun & urine & adlp & adls & sfdm2 & adlsc\\\\\n",
       "  & <dbl> & <int> & <chr> & <int> & <int> & <int> & <chr> & <chr> & <int> & <int> & ⋯ & <dbl> & <int> & <dbl> & <dbl> & <dbl> & <dbl> & <int> & <int> & <chr> & <dbl>\\\\\n",
       "\\hline\n",
       "\t1 & 62.84998 & 0 & male   & 0 &  5 & 2029 & Lung Cancer       & Cancer             & 0 & 11 & ⋯ & 1.1999512 & 141 & 7.459961 & NA & NA & NA &  7 & 7 &                     & 7\\\\\n",
       "\t2 & 60.33899 & 1 & female & 1 &  4 &    4 & Cirrhosis         & COPD/CHF/Cirrhosis & 2 & 12 & ⋯ & 5.5000000 & 132 & 7.250000 & NA & NA & NA & NA & 1 & <2 mo. follow-up    & 1\\\\\n",
       "\t3 & 52.74698 & 1 & female & 0 & 17 &   47 & Cirrhosis         & COPD/CHF/Cirrhosis & 2 & 12 & ⋯ & 2.0000000 & 134 & 7.459961 & NA & NA & NA &  1 & 0 & <2 mo. follow-up    & 0\\\\\n",
       "\t4 & 42.38498 & 1 & female & 0 &  3 &  133 & Lung Cancer       & Cancer             & 2 & 11 & ⋯ & 0.7999268 & 139 &       NA & NA & NA & NA &  0 & 0 & no(M2 and SIP pres) & 0\\\\\n",
       "\t5 & 79.88495 & 0 & female & 0 & 16 & 2029 & ARF/MOSF w/Sepsis & ARF/MOSF           & 1 & NA & ⋯ & 0.7999268 & 143 & 7.509766 & NA & NA & NA & NA & 2 & no(M2 and SIP pres) & 2\\\\\n",
       "\t6 & 93.01599 & 1 & male   & 1 &  4 &    4 & Coma              & Coma               & 1 & 14 & ⋯ & 0.6999512 & 140 & 7.659180 & NA & NA & NA & NA & 1 & <2 mo. follow-up    & 1\\\\\n",
       "\\end{tabular}\n"
      ],
      "text/markdown": [
       "\n",
       "A data.frame: 6 × 47\n",
       "\n",
       "| <!--/--> | age &lt;dbl&gt; | death &lt;int&gt; | sex &lt;chr&gt; | hospdead &lt;int&gt; | slos &lt;int&gt; | d.time &lt;int&gt; | dzgroup &lt;chr&gt; | dzclass &lt;chr&gt; | num.co &lt;int&gt; | edu &lt;int&gt; | ⋯ ⋯ | crea &lt;dbl&gt; | sod &lt;int&gt; | ph &lt;dbl&gt; | glucose &lt;dbl&gt; | bun &lt;dbl&gt; | urine &lt;dbl&gt; | adlp &lt;int&gt; | adls &lt;int&gt; | sfdm2 &lt;chr&gt; | adlsc &lt;dbl&gt; |\n",
       "|---|---|---|---|---|---|---|---|---|---|---|---|---|---|---|---|---|---|---|---|---|---|\n",
       "| 1 | 62.84998 | 0 | male   | 0 |  5 | 2029 | Lung Cancer       | Cancer             | 0 | 11 | ⋯ | 1.1999512 | 141 | 7.459961 | NA | NA | NA |  7 | 7 | <!----> | 7 |\n",
       "| 2 | 60.33899 | 1 | female | 1 |  4 |    4 | Cirrhosis         | COPD/CHF/Cirrhosis | 2 | 12 | ⋯ | 5.5000000 | 132 | 7.250000 | NA | NA | NA | NA | 1 | &lt;2 mo. follow-up    | 1 |\n",
       "| 3 | 52.74698 | 1 | female | 0 | 17 |   47 | Cirrhosis         | COPD/CHF/Cirrhosis | 2 | 12 | ⋯ | 2.0000000 | 134 | 7.459961 | NA | NA | NA |  1 | 0 | &lt;2 mo. follow-up    | 0 |\n",
       "| 4 | 42.38498 | 1 | female | 0 |  3 |  133 | Lung Cancer       | Cancer             | 2 | 11 | ⋯ | 0.7999268 | 139 |       NA | NA | NA | NA |  0 | 0 | no(M2 and SIP pres) | 0 |\n",
       "| 5 | 79.88495 | 0 | female | 0 | 16 | 2029 | ARF/MOSF w/Sepsis | ARF/MOSF           | 1 | NA | ⋯ | 0.7999268 | 143 | 7.509766 | NA | NA | NA | NA | 2 | no(M2 and SIP pres) | 2 |\n",
       "| 6 | 93.01599 | 1 | male   | 1 |  4 |    4 | Coma              | Coma               | 1 | 14 | ⋯ | 0.6999512 | 140 | 7.659180 | NA | NA | NA | NA | 1 | &lt;2 mo. follow-up    | 1 |\n",
       "\n"
      ],
      "text/plain": [
       "  age      death sex    hospdead slos d.time dzgroup          \n",
       "1 62.84998 0     male   0         5   2029   Lung Cancer      \n",
       "2 60.33899 1     female 1         4      4   Cirrhosis        \n",
       "3 52.74698 1     female 0        17     47   Cirrhosis        \n",
       "4 42.38498 1     female 0         3    133   Lung Cancer      \n",
       "5 79.88495 0     female 0        16   2029   ARF/MOSF w/Sepsis\n",
       "6 93.01599 1     male   1         4      4   Coma             \n",
       "  dzclass            num.co edu ⋯ crea      sod ph       glucose bun urine adlp\n",
       "1 Cancer             0      11  ⋯ 1.1999512 141 7.459961 NA      NA  NA     7  \n",
       "2 COPD/CHF/Cirrhosis 2      12  ⋯ 5.5000000 132 7.250000 NA      NA  NA    NA  \n",
       "3 COPD/CHF/Cirrhosis 2      12  ⋯ 2.0000000 134 7.459961 NA      NA  NA     1  \n",
       "4 Cancer             2      11  ⋯ 0.7999268 139       NA NA      NA  NA     0  \n",
       "5 ARF/MOSF           1      NA  ⋯ 0.7999268 143 7.509766 NA      NA  NA    NA  \n",
       "6 Coma               1      14  ⋯ 0.6999512 140 7.659180 NA      NA  NA    NA  \n",
       "  adls sfdm2               adlsc\n",
       "1 7                        7    \n",
       "2 1    <2 mo. follow-up    1    \n",
       "3 0    <2 mo. follow-up    0    \n",
       "4 0    no(M2 and SIP pres) 0    \n",
       "5 2    no(M2 and SIP pres) 2    \n",
       "6 1    <2 mo. follow-up    1    "
      ]
     },
     "metadata": {},
     "output_type": "display_data"
    }
   ],
   "source": [
    "data <- read.csv(\"../data/support2.csv\")\n",
    "head(data)"
   ]
  },
  {
   "cell_type": "markdown",
   "metadata": {},
   "source": [
    "# Description des Variables\n",
    "\n",
    "Le dataset contient `nrow(data)` observations et `ncol(data)` variables. Voici une description des principales variables :\n",
    "\n",
    "1.  **Variables Démographiques**\n",
    "\n",
    "    -   `age` : Âge du patient (numérique).\n",
    "\n",
    "    -   `sex` : Genre du patient (catégorique - \"male\" ou \"female\").\n",
    "\n",
    "    -   `edu` : Niveau d'éducation, avec des valeurs manquantes.\n",
    "\n",
    "    -   `income` : Niveau de revenu, également avec un nombre important de valeurs manquantes.\n",
    "\n",
    "2.  **État de santé et résultats**\n",
    "\n",
    "    -   `death` et `hospdead` : Indicateurs de mortalité (binaire).\n",
    "\n",
    "    -   `slos` : Durée de séjour à l'hôpital.\n",
    "\n",
    "    -   `d.time` : Durée jusqu’au décès ou au dernier suivi.\n",
    "\n",
    "    -   `dzgroup` et `dzclass` : Variables catégorielles spécifiant le groupe de maladie et la classe.\n",
    "\n",
    "3.  **Mesures cliniques**\n",
    "\n",
    "    -   `sps`, `aps`, `scoma` : Scores représentant l'état de santé et le niveau de coma.\n",
    "\n",
    "    -   Signes vitaux tels que `meanbp` (pression artérielle moyenne), `hrt` (fréquence cardiaque), `resp` (taux de respiration) et `temp` (température).\n",
    "\n",
    "    -   Résultats de tests de laboratoire : `pafi`, `alb`, `bili`, `crea`, `sod`, `ph`, `glucose`, `bun` et `urine`.\n",
    "\n",
    "4.  **Fonctionnalité et suivi**\n",
    "\n",
    "    -   `adlp` et `adls` : Scores des activités de la vie quotidienne, avec de nombreuses valeurs manquantes.\n",
    "\n",
    "    -   `sfdm2` : Statut de suivi, également avec quelques valeurs manquantes.\n",
    "\n",
    "# Analyse des valeurs manquantes\n",
    "\n",
    "Nous examinons le nombre de valeurs manquantes pour chaque variable."
   ]
  },
  {
   "cell_type": "code",
   "execution_count": 2,
   "metadata": {
    "vscode": {
     "languageId": "r"
    }
   },
   "outputs": [
    {
     "data": {
      "text/html": [
       "<style>\n",
       ".dl-inline {width: auto; margin:0; padding: 0}\n",
       ".dl-inline>dt, .dl-inline>dd {float: none; width: auto; display: inline-block}\n",
       ".dl-inline>dt::after {content: \":\\0020\"; padding-right: .5ex}\n",
       ".dl-inline>dt:not(:first-of-type) {padding-left: .5ex}\n",
       "</style><dl class=dl-inline><dt>adlp</dt><dd>5641</dd><dt>urine</dt><dd>4862</dd><dt>glucose</dt><dd>4500</dd><dt>bun</dt><dd>4352</dd><dt>totmcst</dt><dd>3475</dd><dt>alb</dt><dd>3372</dd><dt>adls</dt><dd>2867</dd><dt>bili</dt><dd>2601</dd><dt>pafi</dt><dd>2325</dd><dt>ph</dt><dd>2284</dd><dt>prg2m</dt><dd>1649</dd><dt>edu</dt><dd>1634</dd><dt>prg6m</dt><dd>1633</dd><dt>totcst</dt><dd>888</dd><dt>wblc</dt><dd>212</dd><dt>charges</dt><dd>172</dd><dt>avtisst</dt><dd>82</dd><dt>crea</dt><dd>67</dd><dt>dnrday</dt><dd>30</dd><dt>scoma</dt><dd>1</dd><dt>sps</dt><dd>1</dd><dt>aps</dt><dd>1</dd><dt>surv2m</dt><dd>1</dd><dt>surv6m</dt><dd>1</dd><dt>meanbp</dt><dd>1</dd><dt>hrt</dt><dd>1</dd><dt>resp</dt><dd>1</dd><dt>temp</dt><dd>1</dd><dt>sod</dt><dd>1</dd></dl>\n"
      ],
      "text/latex": [
       "\\begin{description*}\n",
       "\\item[adlp] 5641\n",
       "\\item[urine] 4862\n",
       "\\item[glucose] 4500\n",
       "\\item[bun] 4352\n",
       "\\item[totmcst] 3475\n",
       "\\item[alb] 3372\n",
       "\\item[adls] 2867\n",
       "\\item[bili] 2601\n",
       "\\item[pafi] 2325\n",
       "\\item[ph] 2284\n",
       "\\item[prg2m] 1649\n",
       "\\item[edu] 1634\n",
       "\\item[prg6m] 1633\n",
       "\\item[totcst] 888\n",
       "\\item[wblc] 212\n",
       "\\item[charges] 172\n",
       "\\item[avtisst] 82\n",
       "\\item[crea] 67\n",
       "\\item[dnrday] 30\n",
       "\\item[scoma] 1\n",
       "\\item[sps] 1\n",
       "\\item[aps] 1\n",
       "\\item[surv2m] 1\n",
       "\\item[surv6m] 1\n",
       "\\item[meanbp] 1\n",
       "\\item[hrt] 1\n",
       "\\item[resp] 1\n",
       "\\item[temp] 1\n",
       "\\item[sod] 1\n",
       "\\end{description*}\n"
      ],
      "text/markdown": [
       "adlp\n",
       ":   5641urine\n",
       ":   4862glucose\n",
       ":   4500bun\n",
       ":   4352totmcst\n",
       ":   3475alb\n",
       ":   3372adls\n",
       ":   2867bili\n",
       ":   2601pafi\n",
       ":   2325ph\n",
       ":   2284prg2m\n",
       ":   1649edu\n",
       ":   1634prg6m\n",
       ":   1633totcst\n",
       ":   888wblc\n",
       ":   212charges\n",
       ":   172avtisst\n",
       ":   82crea\n",
       ":   67dnrday\n",
       ":   30scoma\n",
       ":   1sps\n",
       ":   1aps\n",
       ":   1surv2m\n",
       ":   1surv6m\n",
       ":   1meanbp\n",
       ":   1hrt\n",
       ":   1resp\n",
       ":   1temp\n",
       ":   1sod\n",
       ":   1\n",
       "\n"
      ],
      "text/plain": [
       "   adlp   urine glucose     bun totmcst     alb    adls    bili    pafi      ph \n",
       "   5641    4862    4500    4352    3475    3372    2867    2601    2325    2284 \n",
       "  prg2m     edu   prg6m  totcst    wblc charges avtisst    crea  dnrday   scoma \n",
       "   1649    1634    1633     888     212     172      82      67      30       1 \n",
       "    sps     aps  surv2m  surv6m  meanbp     hrt    resp    temp     sod \n",
       "      1       1       1       1       1       1       1       1       1 "
      ]
     },
     "metadata": {},
     "output_type": "display_data"
    }
   ],
   "source": [
    "missing_data_summary <- sapply(data, function(x) sum(is.na(x)))\n",
    "missing_data_summary <- sort(missing_data_summary[missing_data_summary > 0], decreasing = TRUE)\n",
    "missing_data_summary"
   ]
  },
  {
   "cell_type": "markdown",
   "metadata": {},
   "source": [
    "Les variables avec des valeurs manquantes significatives sont :\n",
    "\n",
    "-   `edu` (niveau d'éducation),\n",
    "\n",
    "-   `income`,\n",
    "\n",
    "-   `pafi` (pression partielle en oxygène artériel),\n",
    "\n",
    "-   `alb` (albumine),\n",
    "\n",
    "-   `glucose`,\n",
    "\n",
    "-   `bun` (azote uréique sanguin),\n",
    "\n",
    "-   `urine`,\n",
    "\n",
    "-   `adlp` et `adls` (scores d'activités de la vie quotidienne).\n",
    "\n",
    "# Analyse des valeurs aberrantes\n",
    "\n",
    "Pour détecter les valeurs aberrantes, nous analysons les valeurs situées en dehors de 1,5 fois l'écart interquartile (IQR)."
   ]
  },
  {
   "cell_type": "code",
   "execution_count": 3,
   "metadata": {
    "vscode": {
     "languageId": "r"
    }
   },
   "outputs": [
    {
     "data": {
      "text/html": [
       "<style>\n",
       ".dl-inline {width: auto; margin:0; padding: 0}\n",
       ".dl-inline>dt, .dl-inline>dd {float: none; width: auto; display: inline-block}\n",
       ".dl-inline>dt::after {content: \":\\0020\"; padding-right: .5ex}\n",
       ".dl-inline>dt:not(:first-of-type) {padding-left: .5ex}\n",
       "</style><dl class=dl-inline><dt>scoma</dt><dd>1955</dd><dt>diabetes</dt><dd>1778</dd><dt>hday</dt><dd>1543</dd><dt>crea</dt><dd>987</dd><dt>bili</dt><dd>926</dd><dt>charges</dt><dd>912</dd><dt>dnrday</dt><dd>799</dd><dt>slos</dt><dd>768</dd><dt>totcst</dt><dd>749</dd><dt>totmcst</dt><dd>495</dd><dt>wblc</dt><dd>399</dd><dt>resp</dt><dd>313</dd><dt>surv2m</dt><dd>307</dd><dt>dementia</dt><dd>296</dd><dt>sps</dt><dd>283</dd><dt>glucose</dt><dd>272</dd><dt>d.time</dt><dd>267</dd><dt>bun</dt><dd>267</dd><dt>ph</dt><dd>260</dd><dt>sod</dt><dd>256</dd><dt>edu</dt><dd>199</dd><dt>aps</dt><dd>178</dd><dt>adlp</dt><dd>149</dd><dt>urine</dt><dd>92</dd><dt>pafi</dt><dd>90</dd><dt>age</dt><dd>56</dd><dt>avtisst</dt><dd>43</dd><dt>hrt</dt><dd>40</dd><dt>num.co</dt><dd>25</dd><dt>alb</dt><dd>15</dd><dt>temp</dt><dd>14</dd><dt>meanbp</dt><dd>6</dd></dl>\n"
      ],
      "text/latex": [
       "\\begin{description*}\n",
       "\\item[scoma] 1955\n",
       "\\item[diabetes] 1778\n",
       "\\item[hday] 1543\n",
       "\\item[crea] 987\n",
       "\\item[bili] 926\n",
       "\\item[charges] 912\n",
       "\\item[dnrday] 799\n",
       "\\item[slos] 768\n",
       "\\item[totcst] 749\n",
       "\\item[totmcst] 495\n",
       "\\item[wblc] 399\n",
       "\\item[resp] 313\n",
       "\\item[surv2m] 307\n",
       "\\item[dementia] 296\n",
       "\\item[sps] 283\n",
       "\\item[glucose] 272\n",
       "\\item[d.time] 267\n",
       "\\item[bun] 267\n",
       "\\item[ph] 260\n",
       "\\item[sod] 256\n",
       "\\item[edu] 199\n",
       "\\item[aps] 178\n",
       "\\item[adlp] 149\n",
       "\\item[urine] 92\n",
       "\\item[pafi] 90\n",
       "\\item[age] 56\n",
       "\\item[avtisst] 43\n",
       "\\item[hrt] 40\n",
       "\\item[num.co] 25\n",
       "\\item[alb] 15\n",
       "\\item[temp] 14\n",
       "\\item[meanbp] 6\n",
       "\\end{description*}\n"
      ],
      "text/markdown": [
       "scoma\n",
       ":   1955diabetes\n",
       ":   1778hday\n",
       ":   1543crea\n",
       ":   987bili\n",
       ":   926charges\n",
       ":   912dnrday\n",
       ":   799slos\n",
       ":   768totcst\n",
       ":   749totmcst\n",
       ":   495wblc\n",
       ":   399resp\n",
       ":   313surv2m\n",
       ":   307dementia\n",
       ":   296sps\n",
       ":   283glucose\n",
       ":   272d.time\n",
       ":   267bun\n",
       ":   267ph\n",
       ":   260sod\n",
       ":   256edu\n",
       ":   199aps\n",
       ":   178adlp\n",
       ":   149urine\n",
       ":   92pafi\n",
       ":   90age\n",
       ":   56avtisst\n",
       ":   43hrt\n",
       ":   40num.co\n",
       ":   25alb\n",
       ":   15temp\n",
       ":   14meanbp\n",
       ":   6\n",
       "\n"
      ],
      "text/plain": [
       "   scoma diabetes     hday     crea     bili  charges   dnrday     slos \n",
       "    1955     1778     1543      987      926      912      799      768 \n",
       "  totcst  totmcst     wblc     resp   surv2m dementia      sps  glucose \n",
       "     749      495      399      313      307      296      283      272 \n",
       "  d.time      bun       ph      sod      edu      aps     adlp    urine \n",
       "     267      267      260      256      199      178      149       92 \n",
       "    pafi      age  avtisst      hrt   num.co      alb     temp   meanbp \n",
       "      90       56       43       40       25       15       14        6 "
      ]
     },
     "metadata": {},
     "output_type": "display_data"
    }
   ],
   "source": [
    "find_outliers <- function(series) {\n",
    "  q1 <- quantile(series, 0.25, na.rm = TRUE)\n",
    "  q3 <- quantile(series, 0.75, na.rm = TRUE)\n",
    "  iqr <- q3 - q1\n",
    "  lower_bound <- q1 - 1.5 * iqr\n",
    "  upper_bound <- q3 + 1.5 * iqr\n",
    "  return(sum(series < lower_bound | series > upper_bound, na.rm = TRUE))\n",
    "}\n",
    "\n",
    "outliers_summary <- sapply(data[, sapply(data, is.numeric)], find_outliers)\n",
    "outliers_summary <- sort(outliers_summary[outliers_summary > 0], decreasing = TRUE)\n",
    "outliers_summary"
   ]
  },
  {
   "cell_type": "markdown",
   "metadata": {},
   "source": [
    "# Interprétation des valeurs aberrantes\n",
    "\n",
    "Les variables présentant le plus grand nombre de valeurs aberrantes sont :\n",
    "\n",
    "-   `slos` : Durée de séjour, avec des valeurs extrêmes suggérant que certains patients ont eu de très longues hospitalisations.\n",
    "\n",
    "-   `charges` et `totcst` : Frais hospitaliers avec des valeurs particulièrement élevées pour certains patients.\n",
    "\n",
    "-   Les indicateurs de santé, tels que `bili`, `crea`, `glucose` et `bun`, présentent également des valeurs extrêmes, ce qui peut refléter des anomalies dans les conditions de santé de certains patients.\n",
    "\n",
    "# Conclusion\n",
    "\n",
    "Cette analyse descriptive permet d’identifier les variables avec des valeurs manquantes et des valeurs aberrantes, fournissant une base pour des traitements ultérieurs des données et des analyses plus approfondies.\n"
   ]
  },
  {
   "cell_type": "markdown",
   "metadata": {},
   "source": [
    "# Valeurs manquantes"
   ]
  },
  {
   "cell_type": "markdown",
   "metadata": {},
   "source": [
    "on supprime toutes les colonnes avec des valeurs manquantes"
   ]
  },
  {
   "cell_type": "code",
   "execution_count": 6,
   "metadata": {
    "vscode": {
     "languageId": "r"
    }
   },
   "outputs": [
    {
     "data": {
      "text/html": [
       "<table class=\"dataframe\">\n",
       "<caption>A data.frame: 6 × 18</caption>\n",
       "<thead>\n",
       "\t<tr><th></th><th scope=col>age</th><th scope=col>death</th><th scope=col>sex</th><th scope=col>hospdead</th><th scope=col>slos</th><th scope=col>d.time</th><th scope=col>dzgroup</th><th scope=col>dzclass</th><th scope=col>num.co</th><th scope=col>income</th><th scope=col>race</th><th scope=col>hday</th><th scope=col>diabetes</th><th scope=col>dementia</th><th scope=col>ca</th><th scope=col>dnr</th><th scope=col>sfdm2</th><th scope=col>adlsc</th></tr>\n",
       "\t<tr><th></th><th scope=col>&lt;dbl&gt;</th><th scope=col>&lt;int&gt;</th><th scope=col>&lt;chr&gt;</th><th scope=col>&lt;int&gt;</th><th scope=col>&lt;int&gt;</th><th scope=col>&lt;int&gt;</th><th scope=col>&lt;chr&gt;</th><th scope=col>&lt;chr&gt;</th><th scope=col>&lt;int&gt;</th><th scope=col>&lt;chr&gt;</th><th scope=col>&lt;chr&gt;</th><th scope=col>&lt;int&gt;</th><th scope=col>&lt;int&gt;</th><th scope=col>&lt;int&gt;</th><th scope=col>&lt;chr&gt;</th><th scope=col>&lt;chr&gt;</th><th scope=col>&lt;chr&gt;</th><th scope=col>&lt;dbl&gt;</th></tr>\n",
       "</thead>\n",
       "<tbody>\n",
       "\t<tr><th scope=row>1</th><td>62.84998</td><td>0</td><td>male  </td><td>0</td><td> 5</td><td>2029</td><td>Lung Cancer      </td><td>Cancer            </td><td>0</td><td>$11-$25k  </td><td>other</td><td>1</td><td>0</td><td>0</td><td>metastatic</td><td>no dnr</td><td>                   </td><td>7</td></tr>\n",
       "\t<tr><th scope=row>2</th><td>60.33899</td><td>1</td><td>female</td><td>1</td><td> 4</td><td><span style=white-space:pre-wrap>   4</span></td><td><span style=white-space:pre-wrap>Cirrhosis        </span></td><td>COPD/CHF/Cirrhosis</td><td>2</td><td><span style=white-space:pre-wrap>$11-$25k  </span></td><td>white</td><td>3</td><td>0</td><td>0</td><td><span style=white-space:pre-wrap>no        </span></td><td><span style=white-space:pre-wrap>      </span></td><td><span style=white-space:pre-wrap>&lt;2 mo. follow-up   </span></td><td>1</td></tr>\n",
       "\t<tr><th scope=row>3</th><td>52.74698</td><td>1</td><td>female</td><td>0</td><td>17</td><td><span style=white-space:pre-wrap>  47</span></td><td><span style=white-space:pre-wrap>Cirrhosis        </span></td><td>COPD/CHF/Cirrhosis</td><td>2</td><td>under $11k</td><td>white</td><td>4</td><td>0</td><td>0</td><td><span style=white-space:pre-wrap>no        </span></td><td>no dnr</td><td><span style=white-space:pre-wrap>&lt;2 mo. follow-up   </span></td><td>0</td></tr>\n",
       "\t<tr><th scope=row>4</th><td>42.38498</td><td>1</td><td>female</td><td>0</td><td> 3</td><td> 133</td><td>Lung Cancer      </td><td>Cancer            </td><td>2</td><td>under $11k</td><td>white</td><td>1</td><td>0</td><td>0</td><td>metastatic</td><td>no dnr</td><td>no(M2 and SIP pres)</td><td>0</td></tr>\n",
       "\t<tr><th scope=row>5</th><td>79.88495</td><td>0</td><td>female</td><td>0</td><td>16</td><td>2029</td><td>ARF/MOSF w/Sepsis</td><td>ARF/MOSF          </td><td>1</td><td>          </td><td>white</td><td>3</td><td>0</td><td>0</td><td>no        </td><td>no dnr</td><td>no(M2 and SIP pres)</td><td>2</td></tr>\n",
       "\t<tr><th scope=row>6</th><td>93.01599</td><td>1</td><td><span style=white-space:pre-wrap>male  </span></td><td>1</td><td> 4</td><td><span style=white-space:pre-wrap>   4</span></td><td><span style=white-space:pre-wrap>Coma             </span></td><td><span style=white-space:pre-wrap>Coma              </span></td><td>1</td><td><span style=white-space:pre-wrap>          </span></td><td>white</td><td>1</td><td>0</td><td>0</td><td><span style=white-space:pre-wrap>no        </span></td><td>no dnr</td><td><span style=white-space:pre-wrap>&lt;2 mo. follow-up   </span></td><td>1</td></tr>\n",
       "</tbody>\n",
       "</table>\n"
      ],
      "text/latex": [
       "A data.frame: 6 × 18\n",
       "\\begin{tabular}{r|llllllllllllllllll}\n",
       "  & age & death & sex & hospdead & slos & d.time & dzgroup & dzclass & num.co & income & race & hday & diabetes & dementia & ca & dnr & sfdm2 & adlsc\\\\\n",
       "  & <dbl> & <int> & <chr> & <int> & <int> & <int> & <chr> & <chr> & <int> & <chr> & <chr> & <int> & <int> & <int> & <chr> & <chr> & <chr> & <dbl>\\\\\n",
       "\\hline\n",
       "\t1 & 62.84998 & 0 & male   & 0 &  5 & 2029 & Lung Cancer       & Cancer             & 0 & \\$11-\\$25k   & other & 1 & 0 & 0 & metastatic & no dnr &                     & 7\\\\\n",
       "\t2 & 60.33899 & 1 & female & 1 &  4 &    4 & Cirrhosis         & COPD/CHF/Cirrhosis & 2 & \\$11-\\$25k   & white & 3 & 0 & 0 & no         &        & <2 mo. follow-up    & 1\\\\\n",
       "\t3 & 52.74698 & 1 & female & 0 & 17 &   47 & Cirrhosis         & COPD/CHF/Cirrhosis & 2 & under \\$11k & white & 4 & 0 & 0 & no         & no dnr & <2 mo. follow-up    & 0\\\\\n",
       "\t4 & 42.38498 & 1 & female & 0 &  3 &  133 & Lung Cancer       & Cancer             & 2 & under \\$11k & white & 1 & 0 & 0 & metastatic & no dnr & no(M2 and SIP pres) & 0\\\\\n",
       "\t5 & 79.88495 & 0 & female & 0 & 16 & 2029 & ARF/MOSF w/Sepsis & ARF/MOSF           & 1 &            & white & 3 & 0 & 0 & no         & no dnr & no(M2 and SIP pres) & 2\\\\\n",
       "\t6 & 93.01599 & 1 & male   & 1 &  4 &    4 & Coma              & Coma               & 1 &            & white & 1 & 0 & 0 & no         & no dnr & <2 mo. follow-up    & 1\\\\\n",
       "\\end{tabular}\n"
      ],
      "text/markdown": [
       "\n",
       "A data.frame: 6 × 18\n",
       "\n",
       "| <!--/--> | age &lt;dbl&gt; | death &lt;int&gt; | sex &lt;chr&gt; | hospdead &lt;int&gt; | slos &lt;int&gt; | d.time &lt;int&gt; | dzgroup &lt;chr&gt; | dzclass &lt;chr&gt; | num.co &lt;int&gt; | income &lt;chr&gt; | race &lt;chr&gt; | hday &lt;int&gt; | diabetes &lt;int&gt; | dementia &lt;int&gt; | ca &lt;chr&gt; | dnr &lt;chr&gt; | sfdm2 &lt;chr&gt; | adlsc &lt;dbl&gt; |\n",
       "|---|---|---|---|---|---|---|---|---|---|---|---|---|---|---|---|---|---|---|\n",
       "| 1 | 62.84998 | 0 | male   | 0 |  5 | 2029 | Lung Cancer       | Cancer             | 0 | $11-$25k   | other | 1 | 0 | 0 | metastatic | no dnr | <!----> | 7 |\n",
       "| 2 | 60.33899 | 1 | female | 1 |  4 |    4 | Cirrhosis         | COPD/CHF/Cirrhosis | 2 | $11-$25k   | white | 3 | 0 | 0 | no         | <!----> | &lt;2 mo. follow-up    | 1 |\n",
       "| 3 | 52.74698 | 1 | female | 0 | 17 |   47 | Cirrhosis         | COPD/CHF/Cirrhosis | 2 | under $11k | white | 4 | 0 | 0 | no         | no dnr | &lt;2 mo. follow-up    | 0 |\n",
       "| 4 | 42.38498 | 1 | female | 0 |  3 |  133 | Lung Cancer       | Cancer             | 2 | under $11k | white | 1 | 0 | 0 | metastatic | no dnr | no(M2 and SIP pres) | 0 |\n",
       "| 5 | 79.88495 | 0 | female | 0 | 16 | 2029 | ARF/MOSF w/Sepsis | ARF/MOSF           | 1 | <!----> | white | 3 | 0 | 0 | no         | no dnr | no(M2 and SIP pres) | 2 |\n",
       "| 6 | 93.01599 | 1 | male   | 1 |  4 |    4 | Coma              | Coma               | 1 | <!----> | white | 1 | 0 | 0 | no         | no dnr | &lt;2 mo. follow-up    | 1 |\n",
       "\n"
      ],
      "text/plain": [
       "  age      death sex    hospdead slos d.time dzgroup          \n",
       "1 62.84998 0     male   0         5   2029   Lung Cancer      \n",
       "2 60.33899 1     female 1         4      4   Cirrhosis        \n",
       "3 52.74698 1     female 0        17     47   Cirrhosis        \n",
       "4 42.38498 1     female 0         3    133   Lung Cancer      \n",
       "5 79.88495 0     female 0        16   2029   ARF/MOSF w/Sepsis\n",
       "6 93.01599 1     male   1         4      4   Coma             \n",
       "  dzclass            num.co income     race  hday diabetes dementia ca        \n",
       "1 Cancer             0      $11-$25k   other 1    0        0        metastatic\n",
       "2 COPD/CHF/Cirrhosis 2      $11-$25k   white 3    0        0        no        \n",
       "3 COPD/CHF/Cirrhosis 2      under $11k white 4    0        0        no        \n",
       "4 Cancer             2      under $11k white 1    0        0        metastatic\n",
       "5 ARF/MOSF           1                 white 3    0        0        no        \n",
       "6 Coma               1                 white 1    0        0        no        \n",
       "  dnr    sfdm2               adlsc\n",
       "1 no dnr                     7    \n",
       "2        <2 mo. follow-up    1    \n",
       "3 no dnr <2 mo. follow-up    0    \n",
       "4 no dnr no(M2 and SIP pres) 0    \n",
       "5 no dnr no(M2 and SIP pres) 2    \n",
       "6 no dnr <2 mo. follow-up    1    "
      ]
     },
     "metadata": {},
     "output_type": "display_data"
    }
   ],
   "source": [
    "data_clean <- data[, colSums(is.na(data)) == 0]\n",
    "head(data_clean)"
   ]
  },
  {
   "cell_type": "markdown",
   "metadata": {},
   "source": [
    "On supprime dnr car issue d'un modèle précédent"
   ]
  },
  {
   "cell_type": "code",
   "execution_count": 9,
   "metadata": {
    "vscode": {
     "languageId": "r"
    }
   },
   "outputs": [
    {
     "data": {
      "text/html": [
       "<table class=\"dataframe\">\n",
       "<caption>A data.frame: 6 × 17</caption>\n",
       "<thead>\n",
       "\t<tr><th></th><th scope=col>age</th><th scope=col>death</th><th scope=col>sex</th><th scope=col>hospdead</th><th scope=col>slos</th><th scope=col>d.time</th><th scope=col>dzgroup</th><th scope=col>dzclass</th><th scope=col>num.co</th><th scope=col>income</th><th scope=col>race</th><th scope=col>hday</th><th scope=col>diabetes</th><th scope=col>dementia</th><th scope=col>ca</th><th scope=col>sfdm2</th><th scope=col>adlsc</th></tr>\n",
       "\t<tr><th></th><th scope=col>&lt;dbl&gt;</th><th scope=col>&lt;int&gt;</th><th scope=col>&lt;chr&gt;</th><th scope=col>&lt;int&gt;</th><th scope=col>&lt;int&gt;</th><th scope=col>&lt;int&gt;</th><th scope=col>&lt;chr&gt;</th><th scope=col>&lt;chr&gt;</th><th scope=col>&lt;int&gt;</th><th scope=col>&lt;chr&gt;</th><th scope=col>&lt;chr&gt;</th><th scope=col>&lt;int&gt;</th><th scope=col>&lt;int&gt;</th><th scope=col>&lt;int&gt;</th><th scope=col>&lt;chr&gt;</th><th scope=col>&lt;chr&gt;</th><th scope=col>&lt;dbl&gt;</th></tr>\n",
       "</thead>\n",
       "<tbody>\n",
       "\t<tr><th scope=row>1</th><td>62.84998</td><td>0</td><td>male  </td><td>0</td><td> 5</td><td>2029</td><td>Lung Cancer      </td><td>Cancer            </td><td>0</td><td>$11-$25k  </td><td>other</td><td>1</td><td>0</td><td>0</td><td>metastatic</td><td>                   </td><td>7</td></tr>\n",
       "\t<tr><th scope=row>2</th><td>60.33899</td><td>1</td><td>female</td><td>1</td><td> 4</td><td><span style=white-space:pre-wrap>   4</span></td><td><span style=white-space:pre-wrap>Cirrhosis        </span></td><td>COPD/CHF/Cirrhosis</td><td>2</td><td><span style=white-space:pre-wrap>$11-$25k  </span></td><td>white</td><td>3</td><td>0</td><td>0</td><td><span style=white-space:pre-wrap>no        </span></td><td><span style=white-space:pre-wrap>&lt;2 mo. follow-up   </span></td><td>1</td></tr>\n",
       "\t<tr><th scope=row>3</th><td>52.74698</td><td>1</td><td>female</td><td>0</td><td>17</td><td><span style=white-space:pre-wrap>  47</span></td><td><span style=white-space:pre-wrap>Cirrhosis        </span></td><td>COPD/CHF/Cirrhosis</td><td>2</td><td>under $11k</td><td>white</td><td>4</td><td>0</td><td>0</td><td><span style=white-space:pre-wrap>no        </span></td><td><span style=white-space:pre-wrap>&lt;2 mo. follow-up   </span></td><td>0</td></tr>\n",
       "\t<tr><th scope=row>4</th><td>42.38498</td><td>1</td><td>female</td><td>0</td><td> 3</td><td> 133</td><td>Lung Cancer      </td><td>Cancer            </td><td>2</td><td>under $11k</td><td>white</td><td>1</td><td>0</td><td>0</td><td>metastatic</td><td>no(M2 and SIP pres)</td><td>0</td></tr>\n",
       "\t<tr><th scope=row>5</th><td>79.88495</td><td>0</td><td>female</td><td>0</td><td>16</td><td>2029</td><td>ARF/MOSF w/Sepsis</td><td>ARF/MOSF          </td><td>1</td><td>          </td><td>white</td><td>3</td><td>0</td><td>0</td><td>no        </td><td>no(M2 and SIP pres)</td><td>2</td></tr>\n",
       "\t<tr><th scope=row>6</th><td>93.01599</td><td>1</td><td><span style=white-space:pre-wrap>male  </span></td><td>1</td><td> 4</td><td><span style=white-space:pre-wrap>   4</span></td><td><span style=white-space:pre-wrap>Coma             </span></td><td><span style=white-space:pre-wrap>Coma              </span></td><td>1</td><td><span style=white-space:pre-wrap>          </span></td><td>white</td><td>1</td><td>0</td><td>0</td><td><span style=white-space:pre-wrap>no        </span></td><td><span style=white-space:pre-wrap>&lt;2 mo. follow-up   </span></td><td>1</td></tr>\n",
       "</tbody>\n",
       "</table>\n"
      ],
      "text/latex": [
       "A data.frame: 6 × 17\n",
       "\\begin{tabular}{r|lllllllllllllllll}\n",
       "  & age & death & sex & hospdead & slos & d.time & dzgroup & dzclass & num.co & income & race & hday & diabetes & dementia & ca & sfdm2 & adlsc\\\\\n",
       "  & <dbl> & <int> & <chr> & <int> & <int> & <int> & <chr> & <chr> & <int> & <chr> & <chr> & <int> & <int> & <int> & <chr> & <chr> & <dbl>\\\\\n",
       "\\hline\n",
       "\t1 & 62.84998 & 0 & male   & 0 &  5 & 2029 & Lung Cancer       & Cancer             & 0 & \\$11-\\$25k   & other & 1 & 0 & 0 & metastatic &                     & 7\\\\\n",
       "\t2 & 60.33899 & 1 & female & 1 &  4 &    4 & Cirrhosis         & COPD/CHF/Cirrhosis & 2 & \\$11-\\$25k   & white & 3 & 0 & 0 & no         & <2 mo. follow-up    & 1\\\\\n",
       "\t3 & 52.74698 & 1 & female & 0 & 17 &   47 & Cirrhosis         & COPD/CHF/Cirrhosis & 2 & under \\$11k & white & 4 & 0 & 0 & no         & <2 mo. follow-up    & 0\\\\\n",
       "\t4 & 42.38498 & 1 & female & 0 &  3 &  133 & Lung Cancer       & Cancer             & 2 & under \\$11k & white & 1 & 0 & 0 & metastatic & no(M2 and SIP pres) & 0\\\\\n",
       "\t5 & 79.88495 & 0 & female & 0 & 16 & 2029 & ARF/MOSF w/Sepsis & ARF/MOSF           & 1 &            & white & 3 & 0 & 0 & no         & no(M2 and SIP pres) & 2\\\\\n",
       "\t6 & 93.01599 & 1 & male   & 1 &  4 &    4 & Coma              & Coma               & 1 &            & white & 1 & 0 & 0 & no         & <2 mo. follow-up    & 1\\\\\n",
       "\\end{tabular}\n"
      ],
      "text/markdown": [
       "\n",
       "A data.frame: 6 × 17\n",
       "\n",
       "| <!--/--> | age &lt;dbl&gt; | death &lt;int&gt; | sex &lt;chr&gt; | hospdead &lt;int&gt; | slos &lt;int&gt; | d.time &lt;int&gt; | dzgroup &lt;chr&gt; | dzclass &lt;chr&gt; | num.co &lt;int&gt; | income &lt;chr&gt; | race &lt;chr&gt; | hday &lt;int&gt; | diabetes &lt;int&gt; | dementia &lt;int&gt; | ca &lt;chr&gt; | sfdm2 &lt;chr&gt; | adlsc &lt;dbl&gt; |\n",
       "|---|---|---|---|---|---|---|---|---|---|---|---|---|---|---|---|---|---|\n",
       "| 1 | 62.84998 | 0 | male   | 0 |  5 | 2029 | Lung Cancer       | Cancer             | 0 | $11-$25k   | other | 1 | 0 | 0 | metastatic | <!----> | 7 |\n",
       "| 2 | 60.33899 | 1 | female | 1 |  4 |    4 | Cirrhosis         | COPD/CHF/Cirrhosis | 2 | $11-$25k   | white | 3 | 0 | 0 | no         | &lt;2 mo. follow-up    | 1 |\n",
       "| 3 | 52.74698 | 1 | female | 0 | 17 |   47 | Cirrhosis         | COPD/CHF/Cirrhosis | 2 | under $11k | white | 4 | 0 | 0 | no         | &lt;2 mo. follow-up    | 0 |\n",
       "| 4 | 42.38498 | 1 | female | 0 |  3 |  133 | Lung Cancer       | Cancer             | 2 | under $11k | white | 1 | 0 | 0 | metastatic | no(M2 and SIP pres) | 0 |\n",
       "| 5 | 79.88495 | 0 | female | 0 | 16 | 2029 | ARF/MOSF w/Sepsis | ARF/MOSF           | 1 | <!----> | white | 3 | 0 | 0 | no         | no(M2 and SIP pres) | 2 |\n",
       "| 6 | 93.01599 | 1 | male   | 1 |  4 |    4 | Coma              | Coma               | 1 | <!----> | white | 1 | 0 | 0 | no         | &lt;2 mo. follow-up    | 1 |\n",
       "\n"
      ],
      "text/plain": [
       "  age      death sex    hospdead slos d.time dzgroup          \n",
       "1 62.84998 0     male   0         5   2029   Lung Cancer      \n",
       "2 60.33899 1     female 1         4      4   Cirrhosis        \n",
       "3 52.74698 1     female 0        17     47   Cirrhosis        \n",
       "4 42.38498 1     female 0         3    133   Lung Cancer      \n",
       "5 79.88495 0     female 0        16   2029   ARF/MOSF w/Sepsis\n",
       "6 93.01599 1     male   1         4      4   Coma             \n",
       "  dzclass            num.co income     race  hday diabetes dementia ca        \n",
       "1 Cancer             0      $11-$25k   other 1    0        0        metastatic\n",
       "2 COPD/CHF/Cirrhosis 2      $11-$25k   white 3    0        0        no        \n",
       "3 COPD/CHF/Cirrhosis 2      under $11k white 4    0        0        no        \n",
       "4 Cancer             2      under $11k white 1    0        0        metastatic\n",
       "5 ARF/MOSF           1                 white 3    0        0        no        \n",
       "6 Coma               1                 white 1    0        0        no        \n",
       "  sfdm2               adlsc\n",
       "1                     7    \n",
       "2 <2 mo. follow-up    1    \n",
       "3 <2 mo. follow-up    0    \n",
       "4 no(M2 and SIP pres) 0    \n",
       "5 no(M2 and SIP pres) 2    \n",
       "6 <2 mo. follow-up    1    "
      ]
     },
     "metadata": {},
     "output_type": "display_data"
    }
   ],
   "source": [
    "data_clean <- data_clean[, !names(data_clean) %in% \"dnr\"]\n",
    "head(data_clean)"
   ]
  },
  {
   "cell_type": "markdown",
   "metadata": {},
   "source": [
    "Régression linéaire"
   ]
  },
  {
   "cell_type": "code",
   "execution_count": 10,
   "metadata": {
    "vscode": {
     "languageId": "r"
    }
   },
   "outputs": [
    {
     "data": {
      "text/plain": [
       "\n",
       "Call:\n",
       "lm(formula = death ~ ., data = data_clean)\n",
       "\n",
       "Residuals:\n",
       "     Min       1Q   Median       3Q      Max \n",
       "-0.88395 -0.12840  0.02771  0.16224  1.10422 \n",
       "\n",
       "Coefficients: (3 not defined because of singularities)\n",
       "                            Estimate Std. Error t value Pr(>|t|)    \n",
       "(Intercept)                6.359e-01  5.604e-02  11.348  < 2e-16 ***\n",
       "age                        2.482e-03  2.343e-04  10.591  < 2e-16 ***\n",
       "sexmale                    2.108e-02  6.738e-03   3.129 0.001761 ** \n",
       "hospdead                   8.259e-02  1.235e-02   6.688 2.40e-11 ***\n",
       "slos                       5.778e-04  1.713e-04   3.373 0.000747 ***\n",
       "d.time                    -4.761e-04  7.745e-06 -61.466  < 2e-16 ***\n",
       "dzgroupCHF                 1.119e-01  1.163e-02   9.628  < 2e-16 ***\n",
       "dzgroupCirrhosis           1.020e-01  1.588e-02   6.428 1.36e-10 ***\n",
       "dzgroupColon Cancer        1.985e-01  2.411e-02   8.232  < 2e-16 ***\n",
       "dzgroupComa                2.535e-02  1.430e-02   1.772 0.076362 .  \n",
       "dzgroupCOPD                5.091e-02  1.255e-02   4.058 5.00e-05 ***\n",
       "dzgroupLung Cancer         1.870e-01  2.218e-02   8.431  < 2e-16 ***\n",
       "dzgroupMOSF w/Malig        1.033e-01  1.704e-02   6.061 1.40e-09 ***\n",
       "dzclassCancer                     NA         NA      NA       NA    \n",
       "dzclassComa                       NA         NA      NA       NA    \n",
       "dzclassCOPD/CHF/Cirrhosis         NA         NA      NA       NA    \n",
       "num.co                     8.343e-03  3.198e-03   2.609 0.009105 ** \n",
       "income>$50k               -2.139e-02  1.361e-02  -1.572 0.116000    \n",
       "income$11-$25k            -6.059e-03  1.013e-02  -0.598 0.549897    \n",
       "income$25-$50k            -8.956e-03  1.153e-02  -0.777 0.437447    \n",
       "incomeunder $11k           4.044e-03  8.625e-03   0.469 0.639210    \n",
       "raceasian                  1.559e-02  6.007e-02   0.260 0.795200    \n",
       "raceblack                 -9.754e-03  4.943e-02  -0.197 0.843567    \n",
       "racehispanic              -2.678e-02  5.213e-02  -0.514 0.607368    \n",
       "raceother                  2.772e-02  5.687e-02   0.487 0.625992    \n",
       "racewhite                 -3.068e-03  4.878e-02  -0.063 0.949854    \n",
       "hday                       8.470e-04  3.897e-04   2.173 0.029771 *  \n",
       "diabetes                   8.675e-03  9.365e-03   0.926 0.354323    \n",
       "dementia                  -2.301e-02  1.986e-02  -1.158 0.246698    \n",
       "cano                      -4.189e-02  1.950e-02  -2.149 0.031666 *  \n",
       "cayes                     -3.126e-02  1.847e-02  -1.692 0.090689 .  \n",
       "sfdm2<2 mo. follow-up      6.824e-02  1.396e-02   4.889 1.03e-06 ***\n",
       "sfdm2adl>=4 (>=5 if sur)   7.169e-03  1.411e-02   0.508 0.611309    \n",
       "sfdm2Coma or Intub         1.014e-01  5.049e-02   2.008 0.044661 *  \n",
       "sfdm2no(M2 and SIP pres)  -4.725e-02  1.065e-02  -4.438 9.19e-06 ***\n",
       "sfdm2SIP>=30              -1.954e-02  1.597e-02  -1.224 0.221009    \n",
       "adlsc                      8.984e-03  1.813e-03   4.955 7.36e-07 ***\n",
       "---\n",
       "Signif. codes:  0 ‘***’ 0.001 ‘**’ 0.01 ‘*’ 0.05 ‘.’ 0.1 ‘ ’ 1\n",
       "\n",
       "Residual standard error: 0.3133 on 9071 degrees of freedom\n",
       "Multiple R-squared:  0.5499,\tAdjusted R-squared:  0.5483 \n",
       "F-statistic: 335.9 on 33 and 9071 DF,  p-value: < 2.2e-16\n"
      ]
     },
     "metadata": {},
     "output_type": "display_data"
    }
   ],
   "source": [
    "model = lm(death  ~ ., data=data_clean)\n",
    "summary(model)"
   ]
  },
  {
   "cell_type": "markdown",
   "metadata": {},
   "source": [
    "on va commencer par prendre que les valeurs numériques"
   ]
  },
  {
   "cell_type": "code",
   "execution_count": 12,
   "metadata": {
    "vscode": {
     "languageId": "r"
    }
   },
   "outputs": [
    {
     "data": {
      "text/html": [
       "<table class=\"dataframe\">\n",
       "<caption>A data.frame: 6 × 10</caption>\n",
       "<thead>\n",
       "\t<tr><th></th><th scope=col>age</th><th scope=col>death</th><th scope=col>hospdead</th><th scope=col>slos</th><th scope=col>d.time</th><th scope=col>num.co</th><th scope=col>hday</th><th scope=col>diabetes</th><th scope=col>dementia</th><th scope=col>adlsc</th></tr>\n",
       "\t<tr><th></th><th scope=col>&lt;dbl&gt;</th><th scope=col>&lt;int&gt;</th><th scope=col>&lt;int&gt;</th><th scope=col>&lt;int&gt;</th><th scope=col>&lt;int&gt;</th><th scope=col>&lt;int&gt;</th><th scope=col>&lt;int&gt;</th><th scope=col>&lt;int&gt;</th><th scope=col>&lt;int&gt;</th><th scope=col>&lt;dbl&gt;</th></tr>\n",
       "</thead>\n",
       "<tbody>\n",
       "\t<tr><th scope=row>1</th><td>62.84998</td><td>0</td><td>0</td><td> 5</td><td>2029</td><td>0</td><td>1</td><td>0</td><td>0</td><td>7</td></tr>\n",
       "\t<tr><th scope=row>2</th><td>60.33899</td><td>1</td><td>1</td><td> 4</td><td>   4</td><td>2</td><td>3</td><td>0</td><td>0</td><td>1</td></tr>\n",
       "\t<tr><th scope=row>3</th><td>52.74698</td><td>1</td><td>0</td><td>17</td><td>  47</td><td>2</td><td>4</td><td>0</td><td>0</td><td>0</td></tr>\n",
       "\t<tr><th scope=row>4</th><td>42.38498</td><td>1</td><td>0</td><td> 3</td><td> 133</td><td>2</td><td>1</td><td>0</td><td>0</td><td>0</td></tr>\n",
       "\t<tr><th scope=row>5</th><td>79.88495</td><td>0</td><td>0</td><td>16</td><td>2029</td><td>1</td><td>3</td><td>0</td><td>0</td><td>2</td></tr>\n",
       "\t<tr><th scope=row>6</th><td>93.01599</td><td>1</td><td>1</td><td> 4</td><td>   4</td><td>1</td><td>1</td><td>0</td><td>0</td><td>1</td></tr>\n",
       "</tbody>\n",
       "</table>\n"
      ],
      "text/latex": [
       "A data.frame: 6 × 10\n",
       "\\begin{tabular}{r|llllllllll}\n",
       "  & age & death & hospdead & slos & d.time & num.co & hday & diabetes & dementia & adlsc\\\\\n",
       "  & <dbl> & <int> & <int> & <int> & <int> & <int> & <int> & <int> & <int> & <dbl>\\\\\n",
       "\\hline\n",
       "\t1 & 62.84998 & 0 & 0 &  5 & 2029 & 0 & 1 & 0 & 0 & 7\\\\\n",
       "\t2 & 60.33899 & 1 & 1 &  4 &    4 & 2 & 3 & 0 & 0 & 1\\\\\n",
       "\t3 & 52.74698 & 1 & 0 & 17 &   47 & 2 & 4 & 0 & 0 & 0\\\\\n",
       "\t4 & 42.38498 & 1 & 0 &  3 &  133 & 2 & 1 & 0 & 0 & 0\\\\\n",
       "\t5 & 79.88495 & 0 & 0 & 16 & 2029 & 1 & 3 & 0 & 0 & 2\\\\\n",
       "\t6 & 93.01599 & 1 & 1 &  4 &    4 & 1 & 1 & 0 & 0 & 1\\\\\n",
       "\\end{tabular}\n"
      ],
      "text/markdown": [
       "\n",
       "A data.frame: 6 × 10\n",
       "\n",
       "| <!--/--> | age &lt;dbl&gt; | death &lt;int&gt; | hospdead &lt;int&gt; | slos &lt;int&gt; | d.time &lt;int&gt; | num.co &lt;int&gt; | hday &lt;int&gt; | diabetes &lt;int&gt; | dementia &lt;int&gt; | adlsc &lt;dbl&gt; |\n",
       "|---|---|---|---|---|---|---|---|---|---|---|\n",
       "| 1 | 62.84998 | 0 | 0 |  5 | 2029 | 0 | 1 | 0 | 0 | 7 |\n",
       "| 2 | 60.33899 | 1 | 1 |  4 |    4 | 2 | 3 | 0 | 0 | 1 |\n",
       "| 3 | 52.74698 | 1 | 0 | 17 |   47 | 2 | 4 | 0 | 0 | 0 |\n",
       "| 4 | 42.38498 | 1 | 0 |  3 |  133 | 2 | 1 | 0 | 0 | 0 |\n",
       "| 5 | 79.88495 | 0 | 0 | 16 | 2029 | 1 | 3 | 0 | 0 | 2 |\n",
       "| 6 | 93.01599 | 1 | 1 |  4 |    4 | 1 | 1 | 0 | 0 | 1 |\n",
       "\n"
      ],
      "text/plain": [
       "  age      death hospdead slos d.time num.co hday diabetes dementia adlsc\n",
       "1 62.84998 0     0         5   2029   0      1    0        0        7    \n",
       "2 60.33899 1     1         4      4   2      3    0        0        1    \n",
       "3 52.74698 1     0        17     47   2      4    0        0        0    \n",
       "4 42.38498 1     0         3    133   2      1    0        0        0    \n",
       "5 79.88495 0     0        16   2029   1      3    0        0        2    \n",
       "6 93.01599 1     1         4      4   1      1    0        0        1    "
      ]
     },
     "metadata": {},
     "output_type": "display_data"
    }
   ],
   "source": [
    "data_numeric <- data_clean[, sapply(data_clean, is.numeric)]\n",
    "head(data_numeric)"
   ]
  },
  {
   "cell_type": "code",
   "execution_count": 13,
   "metadata": {
    "vscode": {
     "languageId": "r"
    }
   },
   "outputs": [
    {
     "data": {
      "text/plain": [
       "\n",
       "Call:\n",
       "lm(formula = death ~ ., data = data_numeric)\n",
       "\n",
       "Residuals:\n",
       "     Min       1Q   Median       3Q      Max \n",
       "-0.83392 -0.08102  0.04134  0.16428  1.12350 \n",
       "\n",
       "Coefficients:\n",
       "              Estimate Std. Error t value Pr(>|t|)    \n",
       "(Intercept)  7.259e-01  1.671e-02  43.432  < 2e-16 ***\n",
       "age          2.508e-03  2.257e-04  11.108  < 2e-16 ***\n",
       "hospdead     8.714e-02  9.095e-03   9.580  < 2e-16 ***\n",
       "slos        -1.754e-04  1.595e-04  -1.100 0.271263    \n",
       "d.time      -5.424e-04  7.041e-06 -77.028  < 2e-16 ***\n",
       "num.co       1.263e-02  2.819e-03   4.482 7.47e-06 ***\n",
       "hday        -1.637e-04  3.895e-04  -0.420 0.674366    \n",
       "diabetes    -1.980e-02  9.298e-03  -2.129 0.033268 *  \n",
       "dementia    -7.010e-02  2.012e-02  -3.484 0.000497 ***\n",
       "adlsc        1.130e-02  1.781e-03   6.346 2.31e-10 ***\n",
       "---\n",
       "Signif. codes:  0 ‘***’ 0.001 ‘**’ 0.01 ‘*’ 0.05 ‘.’ 0.1 ‘ ’ 1\n",
       "\n",
       "Residual standard error: 0.3229 on 9095 degrees of freedom\n",
       "Multiple R-squared:  0.5206,\tAdjusted R-squared:  0.5202 \n",
       "F-statistic:  1098 on 9 and 9095 DF,  p-value: < 2.2e-16\n"
      ]
     },
     "metadata": {},
     "output_type": "display_data"
    }
   ],
   "source": [
    "model = lm(death ~ . , data=data_numeric)\n",
    "summary(model)"
   ]
  },
  {
   "cell_type": "markdown",
   "metadata": {},
   "source": [
    "On va faire une matrice de corrélation pour voir si il est utile de faire une régression ridge et/ou lasso"
   ]
  },
  {
   "cell_type": "code",
   "execution_count": 15,
   "metadata": {
    "vscode": {
     "languageId": "r"
    }
   },
   "outputs": [
    {
     "data": {
      "text/html": [
       "<table class=\"dataframe\">\n",
       "<caption>A matrix: 10 × 10 of type dbl</caption>\n",
       "<thead>\n",
       "\t<tr><th></th><th scope=col>age</th><th scope=col>death</th><th scope=col>hospdead</th><th scope=col>slos</th><th scope=col>d.time</th><th scope=col>num.co</th><th scope=col>hday</th><th scope=col>diabetes</th><th scope=col>dementia</th><th scope=col>adlsc</th></tr>\n",
       "</thead>\n",
       "<tbody>\n",
       "\t<tr><th scope=row>age</th><td> 1.00000000</td><td> 0.17923034</td><td> 0.03935385</td><td>-0.085518433</td><td>-0.13453062</td><td> 0.12798626</td><td>-0.07192299</td><td> 0.095957528</td><td> 0.19530277</td><td> 0.11537935</td></tr>\n",
       "\t<tr><th scope=row>death</th><td> 0.17923034</td><td> 1.00000000</td><td> 0.40479251</td><td>-0.083098125</td><td>-0.71048937</td><td> 0.06863418</td><td> 0.06384538</td><td> 0.011939907</td><td> 0.04439059</td><td> 0.15476037</td></tr>\n",
       "\t<tr><th scope=row>hospdead</th><td> 0.03935385</td><td> 0.40479251</td><td> 1.00000000</td><td>-0.010578883</td><td>-0.48661573</td><td>-0.07774640</td><td> 0.21380429</td><td>-0.013185702</td><td> 0.02583071</td><td> 0.12634954</td></tr>\n",
       "\t<tr><th scope=row>slos</th><td>-0.08551843</td><td>-0.08309812</td><td>-0.01057888</td><td> 1.000000000</td><td> 0.09690339</td><td>-0.11097843</td><td> 0.20415451</td><td> 0.006075082</td><td>-0.01081974</td><td> 0.01914290</td></tr>\n",
       "\t<tr><th scope=row>d.time</th><td>-0.13453062</td><td>-0.71048937</td><td>-0.48661573</td><td> 0.096903390</td><td> 1.00000000</td><td>-0.04593609</td><td>-0.08971790</td><td>-0.008119550</td><td>-0.05448843</td><td>-0.13652140</td></tr>\n",
       "\t<tr><th scope=row>num.co</th><td> 0.12798626</td><td> 0.06863418</td><td>-0.07774640</td><td>-0.110978429</td><td>-0.04593609</td><td> 1.00000000</td><td>-0.08062655</td><td> 0.387568684</td><td> 0.13952626</td><td> 0.14283622</td></tr>\n",
       "\t<tr><th scope=row>hday</th><td>-0.07192299</td><td> 0.06384538</td><td> 0.21380429</td><td> 0.204154507</td><td>-0.08971790</td><td>-0.08062655</td><td> 1.00000000</td><td>-0.010661795</td><td>-0.02839143</td><td> 0.01554326</td></tr>\n",
       "\t<tr><th scope=row>diabetes</th><td> 0.09595753</td><td> 0.01193991</td><td>-0.01318570</td><td> 0.006075082</td><td>-0.00811955</td><td> 0.38756868</td><td>-0.01066179</td><td> 1.000000000</td><td> 0.03155356</td><td> 0.06683614</td></tr>\n",
       "\t<tr><th scope=row>dementia</th><td> 0.19530277</td><td> 0.04439059</td><td> 0.02583071</td><td>-0.010819735</td><td>-0.05448843</td><td> 0.13952626</td><td>-0.02839143</td><td> 0.031553557</td><td> 1.00000000</td><td> 0.25314720</td></tr>\n",
       "\t<tr><th scope=row>adlsc</th><td> 0.11537935</td><td> 0.15476037</td><td> 0.12634954</td><td> 0.019142898</td><td>-0.13652140</td><td> 0.14283622</td><td> 0.01554326</td><td> 0.066836135</td><td> 0.25314720</td><td> 1.00000000</td></tr>\n",
       "</tbody>\n",
       "</table>\n"
      ],
      "text/latex": [
       "A matrix: 10 × 10 of type dbl\n",
       "\\begin{tabular}{r|llllllllll}\n",
       "  & age & death & hospdead & slos & d.time & num.co & hday & diabetes & dementia & adlsc\\\\\n",
       "\\hline\n",
       "\tage &  1.00000000 &  0.17923034 &  0.03935385 & -0.085518433 & -0.13453062 &  0.12798626 & -0.07192299 &  0.095957528 &  0.19530277 &  0.11537935\\\\\n",
       "\tdeath &  0.17923034 &  1.00000000 &  0.40479251 & -0.083098125 & -0.71048937 &  0.06863418 &  0.06384538 &  0.011939907 &  0.04439059 &  0.15476037\\\\\n",
       "\thospdead &  0.03935385 &  0.40479251 &  1.00000000 & -0.010578883 & -0.48661573 & -0.07774640 &  0.21380429 & -0.013185702 &  0.02583071 &  0.12634954\\\\\n",
       "\tslos & -0.08551843 & -0.08309812 & -0.01057888 &  1.000000000 &  0.09690339 & -0.11097843 &  0.20415451 &  0.006075082 & -0.01081974 &  0.01914290\\\\\n",
       "\td.time & -0.13453062 & -0.71048937 & -0.48661573 &  0.096903390 &  1.00000000 & -0.04593609 & -0.08971790 & -0.008119550 & -0.05448843 & -0.13652140\\\\\n",
       "\tnum.co &  0.12798626 &  0.06863418 & -0.07774640 & -0.110978429 & -0.04593609 &  1.00000000 & -0.08062655 &  0.387568684 &  0.13952626 &  0.14283622\\\\\n",
       "\thday & -0.07192299 &  0.06384538 &  0.21380429 &  0.204154507 & -0.08971790 & -0.08062655 &  1.00000000 & -0.010661795 & -0.02839143 &  0.01554326\\\\\n",
       "\tdiabetes &  0.09595753 &  0.01193991 & -0.01318570 &  0.006075082 & -0.00811955 &  0.38756868 & -0.01066179 &  1.000000000 &  0.03155356 &  0.06683614\\\\\n",
       "\tdementia &  0.19530277 &  0.04439059 &  0.02583071 & -0.010819735 & -0.05448843 &  0.13952626 & -0.02839143 &  0.031553557 &  1.00000000 &  0.25314720\\\\\n",
       "\tadlsc &  0.11537935 &  0.15476037 &  0.12634954 &  0.019142898 & -0.13652140 &  0.14283622 &  0.01554326 &  0.066836135 &  0.25314720 &  1.00000000\\\\\n",
       "\\end{tabular}\n"
      ],
      "text/markdown": [
       "\n",
       "A matrix: 10 × 10 of type dbl\n",
       "\n",
       "| <!--/--> | age | death | hospdead | slos | d.time | num.co | hday | diabetes | dementia | adlsc |\n",
       "|---|---|---|---|---|---|---|---|---|---|---|\n",
       "| age |  1.00000000 |  0.17923034 |  0.03935385 | -0.085518433 | -0.13453062 |  0.12798626 | -0.07192299 |  0.095957528 |  0.19530277 |  0.11537935 |\n",
       "| death |  0.17923034 |  1.00000000 |  0.40479251 | -0.083098125 | -0.71048937 |  0.06863418 |  0.06384538 |  0.011939907 |  0.04439059 |  0.15476037 |\n",
       "| hospdead |  0.03935385 |  0.40479251 |  1.00000000 | -0.010578883 | -0.48661573 | -0.07774640 |  0.21380429 | -0.013185702 |  0.02583071 |  0.12634954 |\n",
       "| slos | -0.08551843 | -0.08309812 | -0.01057888 |  1.000000000 |  0.09690339 | -0.11097843 |  0.20415451 |  0.006075082 | -0.01081974 |  0.01914290 |\n",
       "| d.time | -0.13453062 | -0.71048937 | -0.48661573 |  0.096903390 |  1.00000000 | -0.04593609 | -0.08971790 | -0.008119550 | -0.05448843 | -0.13652140 |\n",
       "| num.co |  0.12798626 |  0.06863418 | -0.07774640 | -0.110978429 | -0.04593609 |  1.00000000 | -0.08062655 |  0.387568684 |  0.13952626 |  0.14283622 |\n",
       "| hday | -0.07192299 |  0.06384538 |  0.21380429 |  0.204154507 | -0.08971790 | -0.08062655 |  1.00000000 | -0.010661795 | -0.02839143 |  0.01554326 |\n",
       "| diabetes |  0.09595753 |  0.01193991 | -0.01318570 |  0.006075082 | -0.00811955 |  0.38756868 | -0.01066179 |  1.000000000 |  0.03155356 |  0.06683614 |\n",
       "| dementia |  0.19530277 |  0.04439059 |  0.02583071 | -0.010819735 | -0.05448843 |  0.13952626 | -0.02839143 |  0.031553557 |  1.00000000 |  0.25314720 |\n",
       "| adlsc |  0.11537935 |  0.15476037 |  0.12634954 |  0.019142898 | -0.13652140 |  0.14283622 |  0.01554326 |  0.066836135 |  0.25314720 |  1.00000000 |\n",
       "\n"
      ],
      "text/plain": [
       "         age         death       hospdead    slos         d.time     \n",
       "age       1.00000000  0.17923034  0.03935385 -0.085518433 -0.13453062\n",
       "death     0.17923034  1.00000000  0.40479251 -0.083098125 -0.71048937\n",
       "hospdead  0.03935385  0.40479251  1.00000000 -0.010578883 -0.48661573\n",
       "slos     -0.08551843 -0.08309812 -0.01057888  1.000000000  0.09690339\n",
       "d.time   -0.13453062 -0.71048937 -0.48661573  0.096903390  1.00000000\n",
       "num.co    0.12798626  0.06863418 -0.07774640 -0.110978429 -0.04593609\n",
       "hday     -0.07192299  0.06384538  0.21380429  0.204154507 -0.08971790\n",
       "diabetes  0.09595753  0.01193991 -0.01318570  0.006075082 -0.00811955\n",
       "dementia  0.19530277  0.04439059  0.02583071 -0.010819735 -0.05448843\n",
       "adlsc     0.11537935  0.15476037  0.12634954  0.019142898 -0.13652140\n",
       "         num.co      hday        diabetes     dementia    adlsc      \n",
       "age       0.12798626 -0.07192299  0.095957528  0.19530277  0.11537935\n",
       "death     0.06863418  0.06384538  0.011939907  0.04439059  0.15476037\n",
       "hospdead -0.07774640  0.21380429 -0.013185702  0.02583071  0.12634954\n",
       "slos     -0.11097843  0.20415451  0.006075082 -0.01081974  0.01914290\n",
       "d.time   -0.04593609 -0.08971790 -0.008119550 -0.05448843 -0.13652140\n",
       "num.co    1.00000000 -0.08062655  0.387568684  0.13952626  0.14283622\n",
       "hday     -0.08062655  1.00000000 -0.010661795 -0.02839143  0.01554326\n",
       "diabetes  0.38756868 -0.01066179  1.000000000  0.03155356  0.06683614\n",
       "dementia  0.13952626 -0.02839143  0.031553557  1.00000000  0.25314720\n",
       "adlsc     0.14283622  0.01554326  0.066836135  0.25314720  1.00000000"
      ]
     },
     "metadata": {},
     "output_type": "display_data"
    }
   ],
   "source": [
    "correlation_matrix <- cor(data_numeric)\n",
    "correlation_matrix"
   ]
  },
  {
   "cell_type": "markdown",
   "metadata": {},
   "source": [
    "Les variables numériques non nulles ne sont pas corrélées entre elles, on ne fait donc pas de ridge/lasso"
   ]
  },
  {
   "cell_type": "code",
   "execution_count": null,
   "metadata": {
    "vscode": {
     "languageId": "r"
    }
   },
   "outputs": [
    {
     "data": {
      "text/html": [
       "<table class=\"dataframe\">\n",
       "<caption>A data.frame: 6 × 17</caption>\n",
       "<thead>\n",
       "\t<tr><th></th><th scope=col>age</th><th scope=col>death</th><th scope=col>sex</th><th scope=col>hospdead</th><th scope=col>slos</th><th scope=col>d.time</th><th scope=col>dzgroup</th><th scope=col>dzclass</th><th scope=col>num.co</th><th scope=col>income</th><th scope=col>race</th><th scope=col>hday</th><th scope=col>diabetes</th><th scope=col>dementia</th><th scope=col>ca</th><th scope=col>sfdm2</th><th scope=col>adlsc</th></tr>\n",
       "\t<tr><th></th><th scope=col>&lt;dbl&gt;</th><th scope=col>&lt;int&gt;</th><th scope=col>&lt;dbl&gt;</th><th scope=col>&lt;int&gt;</th><th scope=col>&lt;int&gt;</th><th scope=col>&lt;int&gt;</th><th scope=col>&lt;dbl&gt;</th><th scope=col>&lt;dbl&gt;</th><th scope=col>&lt;int&gt;</th><th scope=col>&lt;dbl&gt;</th><th scope=col>&lt;dbl&gt;</th><th scope=col>&lt;int&gt;</th><th scope=col>&lt;int&gt;</th><th scope=col>&lt;int&gt;</th><th scope=col>&lt;dbl&gt;</th><th scope=col>&lt;dbl&gt;</th><th scope=col>&lt;dbl&gt;</th></tr>\n",
       "</thead>\n",
       "<tbody>\n",
       "\t<tr><th scope=row>1</th><td>62.84998</td><td>0</td><td>1</td><td>0</td><td> 5</td><td>2029</td><td>7</td><td>1</td><td>0</td><td>2</td><td>4</td><td>1</td><td>0</td><td>0</td><td>0</td><td>0</td><td>7</td></tr>\n",
       "\t<tr><th scope=row>2</th><td>60.33899</td><td>1</td><td>0</td><td>1</td><td> 4</td><td>   4</td><td>3</td><td>3</td><td>2</td><td>2</td><td>5</td><td>3</td><td>0</td><td>0</td><td>1</td><td>1</td><td>1</td></tr>\n",
       "\t<tr><th scope=row>3</th><td>52.74698</td><td>1</td><td>0</td><td>0</td><td>17</td><td>  47</td><td>3</td><td>3</td><td>2</td><td>4</td><td>5</td><td>4</td><td>0</td><td>0</td><td>1</td><td>1</td><td>0</td></tr>\n",
       "\t<tr><th scope=row>4</th><td>42.38498</td><td>1</td><td>0</td><td>0</td><td> 3</td><td> 133</td><td>7</td><td>1</td><td>2</td><td>4</td><td>5</td><td>1</td><td>0</td><td>0</td><td>0</td><td>4</td><td>0</td></tr>\n",
       "\t<tr><th scope=row>5</th><td>79.88495</td><td>0</td><td>0</td><td>0</td><td>16</td><td>2029</td><td>1</td><td>0</td><td>1</td><td>0</td><td>5</td><td>3</td><td>0</td><td>0</td><td>1</td><td>4</td><td>2</td></tr>\n",
       "\t<tr><th scope=row>6</th><td>93.01599</td><td>1</td><td>1</td><td>1</td><td> 4</td><td>   4</td><td>5</td><td>2</td><td>1</td><td>0</td><td>5</td><td>1</td><td>0</td><td>0</td><td>1</td><td>1</td><td>1</td></tr>\n",
       "</tbody>\n",
       "</table>\n"
      ],
      "text/latex": [
       "A data.frame: 6 × 17\n",
       "\\begin{tabular}{r|lllllllllllllllll}\n",
       "  & age & death & sex & hospdead & slos & d.time & dzgroup & dzclass & num.co & income & race & hday & diabetes & dementia & ca & sfdm2 & adlsc\\\\\n",
       "  & <dbl> & <int> & <dbl> & <int> & <int> & <int> & <dbl> & <dbl> & <int> & <dbl> & <dbl> & <int> & <int> & <int> & <dbl> & <dbl> & <dbl>\\\\\n",
       "\\hline\n",
       "\t1 & 62.84998 & 0 & 1 & 0 &  5 & 2029 & 7 & 1 & 0 & 2 & 4 & 1 & 0 & 0 & 0 & 0 & 7\\\\\n",
       "\t2 & 60.33899 & 1 & 0 & 1 &  4 &    4 & 3 & 3 & 2 & 2 & 5 & 3 & 0 & 0 & 1 & 1 & 1\\\\\n",
       "\t3 & 52.74698 & 1 & 0 & 0 & 17 &   47 & 3 & 3 & 2 & 4 & 5 & 4 & 0 & 0 & 1 & 1 & 0\\\\\n",
       "\t4 & 42.38498 & 1 & 0 & 0 &  3 &  133 & 7 & 1 & 2 & 4 & 5 & 1 & 0 & 0 & 0 & 4 & 0\\\\\n",
       "\t5 & 79.88495 & 0 & 0 & 0 & 16 & 2029 & 1 & 0 & 1 & 0 & 5 & 3 & 0 & 0 & 1 & 4 & 2\\\\\n",
       "\t6 & 93.01599 & 1 & 1 & 1 &  4 &    4 & 5 & 2 & 1 & 0 & 5 & 1 & 0 & 0 & 1 & 1 & 1\\\\\n",
       "\\end{tabular}\n"
      ],
      "text/markdown": [
       "\n",
       "A data.frame: 6 × 17\n",
       "\n",
       "| <!--/--> | age &lt;dbl&gt; | death &lt;int&gt; | sex &lt;dbl&gt; | hospdead &lt;int&gt; | slos &lt;int&gt; | d.time &lt;int&gt; | dzgroup &lt;dbl&gt; | dzclass &lt;dbl&gt; | num.co &lt;int&gt; | income &lt;dbl&gt; | race &lt;dbl&gt; | hday &lt;int&gt; | diabetes &lt;int&gt; | dementia &lt;int&gt; | ca &lt;dbl&gt; | sfdm2 &lt;dbl&gt; | adlsc &lt;dbl&gt; |\n",
       "|---|---|---|---|---|---|---|---|---|---|---|---|---|---|---|---|---|---|\n",
       "| 1 | 62.84998 | 0 | 1 | 0 |  5 | 2029 | 7 | 1 | 0 | 2 | 4 | 1 | 0 | 0 | 0 | 0 | 7 |\n",
       "| 2 | 60.33899 | 1 | 0 | 1 |  4 |    4 | 3 | 3 | 2 | 2 | 5 | 3 | 0 | 0 | 1 | 1 | 1 |\n",
       "| 3 | 52.74698 | 1 | 0 | 0 | 17 |   47 | 3 | 3 | 2 | 4 | 5 | 4 | 0 | 0 | 1 | 1 | 0 |\n",
       "| 4 | 42.38498 | 1 | 0 | 0 |  3 |  133 | 7 | 1 | 2 | 4 | 5 | 1 | 0 | 0 | 0 | 4 | 0 |\n",
       "| 5 | 79.88495 | 0 | 0 | 0 | 16 | 2029 | 1 | 0 | 1 | 0 | 5 | 3 | 0 | 0 | 1 | 4 | 2 |\n",
       "| 6 | 93.01599 | 1 | 1 | 1 |  4 |    4 | 5 | 2 | 1 | 0 | 5 | 1 | 0 | 0 | 1 | 1 | 1 |\n",
       "\n"
      ],
      "text/plain": [
       "  age      death sex hospdead slos d.time dzgroup dzclass num.co income race\n",
       "1 62.84998 0     1   0         5   2029   7       1       0      2      4   \n",
       "2 60.33899 1     0   1         4      4   3       3       2      2      5   \n",
       "3 52.74698 1     0   0        17     47   3       3       2      4      5   \n",
       "4 42.38498 1     0   0         3    133   7       1       2      4      5   \n",
       "5 79.88495 0     0   0        16   2029   1       0       1      0      5   \n",
       "6 93.01599 1     1   1         4      4   5       2       1      0      5   \n",
       "  hday diabetes dementia ca sfdm2 adlsc\n",
       "1 1    0        0        0  0     7    \n",
       "2 3    0        0        1  1     1    \n",
       "3 4    0        0        1  1     0    \n",
       "4 1    0        0        0  4     0    \n",
       "5 3    0        0        1  4     2    \n",
       "6 1    0        0        1  1     1    "
      ]
     },
     "metadata": {},
     "output_type": "display_data"
    }
   ],
   "source": [
    "for (colonne in names(data_clean)) {\n",
    "    if (!is.numeric(data_clean[[colonne]])) {\n",
    "      # Remplacer les catégories par des nombres\n",
    "      data_clean[[colonne]] <- as.numeric(factor(data_clean[[colonne]])) - 1 \n",
    "    }\n",
    "  }\n",
    "head(data_clean)"
   ]
  },
  {
   "cell_type": "markdown",
   "metadata": {},
   "source": [
    "maintenant que toutes les variables non numériques sont converties en nombre, on peut faire une régression linéaire"
   ]
  },
  {
   "cell_type": "code",
   "execution_count": 22,
   "metadata": {
    "vscode": {
     "languageId": "r"
    }
   },
   "outputs": [
    {
     "data": {
      "text/plain": [
       "\n",
       "Call:\n",
       "lm(formula = death ~ ., data = data_clean)\n",
       "\n",
       "Residuals:\n",
       "    Min      1Q  Median      3Q     Max \n",
       "-0.8678 -0.1116  0.0344  0.1630  1.1460 \n",
       "\n",
       "Coefficients:\n",
       "              Estimate Std. Error t value Pr(>|t|)    \n",
       "(Intercept)  7.007e-01  2.220e-02  31.567  < 2e-16 ***\n",
       "age          2.521e-03  2.278e-04  11.066  < 2e-16 ***\n",
       "sex          2.552e-02  6.784e-03   3.761  0.00017 ***\n",
       "hospdead     9.929e-02  9.530e-03  10.418  < 2e-16 ***\n",
       "slos         2.778e-04  1.608e-04   1.727  0.08413 .  \n",
       "d.time      -5.061e-04  7.312e-06 -69.223  < 2e-16 ***\n",
       "dzgroup      1.392e-02  1.477e-03   9.424  < 2e-16 ***\n",
       "dzclass      7.011e-03  3.027e-03   2.316  0.02058 *  \n",
       "num.co       1.530e-02  3.051e-03   5.015 5.40e-07 ***\n",
       "income      -3.940e-04  2.065e-03  -0.191  0.84867    \n",
       "race         1.573e-03  2.857e-03   0.550  0.58203    \n",
       "hday         6.523e-04  3.928e-04   1.661  0.09684 .  \n",
       "diabetes     9.521e-04  9.332e-03   0.102  0.91874    \n",
       "dementia    -4.782e-02  1.990e-02  -2.403  0.01628 *  \n",
       "ca          -6.082e-02  6.308e-03  -9.642  < 2e-16 ***\n",
       "sfdm2       -1.498e-02  2.321e-03  -6.453 1.15e-10 ***\n",
       "adlsc        9.343e-03  1.791e-03   5.218 1.85e-07 ***\n",
       "---\n",
       "Signif. codes:  0 ‘***’ 0.001 ‘**’ 0.01 ‘*’ 0.05 ‘.’ 0.1 ‘ ’ 1\n",
       "\n",
       "Residual standard error: 0.3174 on 9088 degrees of freedom\n",
       "Multiple R-squared:  0.5371,\tAdjusted R-squared:  0.5363 \n",
       "F-statistic: 659.1 on 16 and 9088 DF,  p-value: < 2.2e-16\n"
      ]
     },
     "metadata": {},
     "output_type": "display_data"
    }
   ],
   "source": [
    "model = lm(death  ~ ., data=data_clean)\n",
    "summary(model)"
   ]
  },
  {
   "cell_type": "code",
   "execution_count": 24,
   "metadata": {
    "vscode": {
     "languageId": "r"
    }
   },
   "outputs": [
    {
     "data": {
      "text/html": [
       "<table class=\"dataframe\">\n",
       "<caption>A matrix: 17 × 17 of type dbl</caption>\n",
       "<thead>\n",
       "\t<tr><th></th><th scope=col>age</th><th scope=col>death</th><th scope=col>sex</th><th scope=col>hospdead</th><th scope=col>slos</th><th scope=col>d.time</th><th scope=col>dzgroup</th><th scope=col>dzclass</th><th scope=col>num.co</th><th scope=col>income</th><th scope=col>race</th><th scope=col>hday</th><th scope=col>diabetes</th><th scope=col>dementia</th><th scope=col>ca</th><th scope=col>sfdm2</th><th scope=col>adlsc</th></tr>\n",
       "</thead>\n",
       "<tbody>\n",
       "\t<tr><th scope=row>age</th><td> 1.00000000</td><td> 0.17923034</td><td>-0.043073652</td><td> 0.039353854</td><td>-0.085518433</td><td>-0.13453062</td><td> 0.031145311</td><td> 0.13842239</td><td> 0.127986261</td><td>-0.022260595</td><td> 0.167009599</td><td>-0.07192299</td><td> 0.095957528</td><td> 0.19530277</td><td> 0.044908141</td><td>-0.062539915</td><td> 0.11537935</td></tr>\n",
       "\t<tr><th scope=row>death</th><td> 0.17923034</td><td> 1.00000000</td><td> 0.032113358</td><td> 0.404792507</td><td>-0.083098125</td><td>-0.71048937</td><td> 0.218912499</td><td>-0.03515332</td><td> 0.068634185</td><td>-0.030954918</td><td> 0.024846324</td><td> 0.06384538</td><td> 0.011939907</td><td> 0.04439059</td><td>-0.119433870</td><td>-0.329897309</td><td> 0.15476037</td></tr>\n",
       "\t<tr><th scope=row>sex</th><td>-0.04307365</td><td> 0.03211336</td><td> 1.000000000</td><td>-0.011819339</td><td>-0.018102514</td><td>-0.01838210</td><td>-0.007144767</td><td> 0.02469881</td><td> 0.045326769</td><td>-0.049885518</td><td> 0.047870592</td><td>-0.01543027</td><td>-0.044011700</td><td>-0.03072733</td><td> 0.003852922</td><td> 0.006529654</td><td>-0.07847319</td></tr>\n",
       "\t<tr><th scope=row>hospdead</th><td> 0.03935385</td><td> 0.40479251</td><td>-0.011819339</td><td> 1.000000000</td><td>-0.010578883</td><td>-0.48661573</td><td> 0.001379934</td><td>-0.21383435</td><td>-0.077746405</td><td>-0.049805138</td><td>-0.029393954</td><td> 0.21380429</td><td>-0.013185702</td><td> 0.02583071</td><td> 0.129531668</td><td>-0.418343907</td><td> 0.12634954</td></tr>\n",
       "\t<tr><th scope=row>slos</th><td>-0.08551843</td><td>-0.08309812</td><td>-0.018102514</td><td>-0.010578883</td><td> 1.000000000</td><td> 0.09690339</td><td>-0.199401806</td><td>-0.22074889</td><td>-0.110978429</td><td>-0.022117192</td><td>-0.002046640</td><td> 0.20415451</td><td> 0.006075082</td><td>-0.01081974</td><td> 0.116551067</td><td>-0.018345976</td><td> 0.01914290</td></tr>\n",
       "\t<tr><th scope=row>d.time</th><td>-0.13453062</td><td>-0.71048937</td><td>-0.018382096</td><td>-0.486615732</td><td> 0.096903390</td><td> 1.00000000</td><td>-0.189294591</td><td> 0.10502965</td><td>-0.045936086</td><td> 0.020032648</td><td>-0.011923336</td><td>-0.08971790</td><td>-0.008119550</td><td>-0.05448843</td><td> 0.081517973</td><td> 0.367886309</td><td>-0.13652140</td></tr>\n",
       "\t<tr><th scope=row>dzgroup</th><td> 0.03114531</td><td> 0.21891250</td><td>-0.007144767</td><td> 0.001379934</td><td>-0.199401806</td><td>-0.18929459</td><td> 1.000000000</td><td> 0.22820170</td><td>-0.003072460</td><td>-0.009746749</td><td> 0.041367565</td><td>-0.07710298</td><td>-0.143111291</td><td>-0.05585753</td><td>-0.282628317</td><td>-0.044299117</td><td> 0.00128754</td></tr>\n",
       "\t<tr><th scope=row>dzclass</th><td> 0.13842239</td><td>-0.03515332</td><td> 0.024698809</td><td>-0.213834354</td><td>-0.220748888</td><td> 0.10502965</td><td> 0.228201697</td><td> 1.00000000</td><td> 0.372724427</td><td> 0.074845422</td><td> 0.011712790</td><td>-0.25151195</td><td> 0.033511616</td><td>-0.01365769</td><td> 0.033798185</td><td> 0.139060421</td><td>-0.02855355</td></tr>\n",
       "\t<tr><th scope=row>num.co</th><td> 0.12798626</td><td> 0.06863418</td><td> 0.045326769</td><td>-0.077746405</td><td>-0.110978429</td><td>-0.04593609</td><td>-0.003072460</td><td> 0.37272443</td><td> 1.000000000</td><td> 0.112248176</td><td> 0.008428311</td><td>-0.08062655</td><td> 0.387568684</td><td> 0.13952626</td><td> 0.165101933</td><td> 0.069805674</td><td> 0.14283622</td></tr>\n",
       "\t<tr><th scope=row>income</th><td>-0.02226059</td><td>-0.03095492</td><td>-0.049885518</td><td>-0.049805138</td><td>-0.022117192</td><td> 0.02003265</td><td>-0.009746749</td><td> 0.07484542</td><td> 0.112248176</td><td> 1.000000000</td><td>-0.072035066</td><td>-0.05258118</td><td> 0.049532594</td><td> 0.02728389</td><td> 0.034518706</td><td> 0.184275971</td><td>-0.02281185</td></tr>\n",
       "\t<tr><th scope=row>race</th><td> 0.16700960</td><td> 0.02484632</td><td> 0.047870592</td><td>-0.029393954</td><td>-0.002046640</td><td>-0.01192334</td><td> 0.041367565</td><td> 0.01171279</td><td> 0.008428311</td><td>-0.072035066</td><td> 1.000000000</td><td>-0.01482048</td><td>-0.043100121</td><td> 0.01469529</td><td> 0.003207167</td><td> 0.014714568</td><td>-0.03333012</td></tr>\n",
       "\t<tr><th scope=row>hday</th><td>-0.07192299</td><td> 0.06384538</td><td>-0.015430267</td><td> 0.213804295</td><td> 0.204154507</td><td>-0.08971790</td><td>-0.077102975</td><td>-0.25151195</td><td>-0.080626553</td><td>-0.052581179</td><td>-0.014820484</td><td> 1.00000000</td><td>-0.010661795</td><td>-0.02839143</td><td> 0.161548117</td><td>-0.107097342</td><td> 0.01554326</td></tr>\n",
       "\t<tr><th scope=row>diabetes</th><td> 0.09595753</td><td> 0.01193991</td><td>-0.044011700</td><td>-0.013185702</td><td> 0.006075082</td><td>-0.00811955</td><td>-0.143111291</td><td> 0.03351162</td><td> 0.387568684</td><td> 0.049532594</td><td>-0.043100121</td><td>-0.01066179</td><td> 1.000000000</td><td> 0.03155356</td><td> 0.076984310</td><td> 0.044997412</td><td> 0.06683614</td></tr>\n",
       "\t<tr><th scope=row>dementia</th><td> 0.19530277</td><td> 0.04439059</td><td>-0.030727331</td><td> 0.025830709</td><td>-0.010819735</td><td>-0.05448843</td><td>-0.055857528</td><td>-0.01365769</td><td> 0.139526262</td><td> 0.027283886</td><td> 0.014695293</td><td>-0.02839143</td><td> 0.031553557</td><td> 1.00000000</td><td> 0.053008901</td><td>-0.074425755</td><td> 0.25314720</td></tr>\n",
       "\t<tr><th scope=row>ca</th><td> 0.04490814</td><td>-0.11943387</td><td> 0.003852922</td><td> 0.129531668</td><td> 0.116551067</td><td> 0.08151797</td><td>-0.282628317</td><td> 0.03379818</td><td> 0.165101933</td><td> 0.034518706</td><td> 0.003207167</td><td> 0.16154812</td><td> 0.076984310</td><td> 0.05300890</td><td> 1.000000000</td><td> 0.008289209</td><td> 0.02775048</td></tr>\n",
       "\t<tr><th scope=row>sfdm2</th><td>-0.06253991</td><td>-0.32989731</td><td> 0.006529654</td><td>-0.418343907</td><td>-0.018345976</td><td> 0.36788631</td><td>-0.044299117</td><td> 0.13906042</td><td> 0.069805674</td><td> 0.184275971</td><td> 0.014714568</td><td>-0.10709734</td><td> 0.044997412</td><td>-0.07442575</td><td> 0.008289209</td><td> 1.000000000</td><td>-0.23346451</td></tr>\n",
       "\t<tr><th scope=row>adlsc</th><td> 0.11537935</td><td> 0.15476037</td><td>-0.078473186</td><td> 0.126349537</td><td> 0.019142898</td><td>-0.13652140</td><td> 0.001287540</td><td>-0.02855355</td><td> 0.142836218</td><td>-0.022811846</td><td>-0.033330121</td><td> 0.01554326</td><td> 0.066836135</td><td> 0.25314720</td><td> 0.027750476</td><td>-0.233464511</td><td> 1.00000000</td></tr>\n",
       "</tbody>\n",
       "</table>\n"
      ],
      "text/latex": [
       "A matrix: 17 × 17 of type dbl\n",
       "\\begin{tabular}{r|lllllllllllllllll}\n",
       "  & age & death & sex & hospdead & slos & d.time & dzgroup & dzclass & num.co & income & race & hday & diabetes & dementia & ca & sfdm2 & adlsc\\\\\n",
       "\\hline\n",
       "\tage &  1.00000000 &  0.17923034 & -0.043073652 &  0.039353854 & -0.085518433 & -0.13453062 &  0.031145311 &  0.13842239 &  0.127986261 & -0.022260595 &  0.167009599 & -0.07192299 &  0.095957528 &  0.19530277 &  0.044908141 & -0.062539915 &  0.11537935\\\\\n",
       "\tdeath &  0.17923034 &  1.00000000 &  0.032113358 &  0.404792507 & -0.083098125 & -0.71048937 &  0.218912499 & -0.03515332 &  0.068634185 & -0.030954918 &  0.024846324 &  0.06384538 &  0.011939907 &  0.04439059 & -0.119433870 & -0.329897309 &  0.15476037\\\\\n",
       "\tsex & -0.04307365 &  0.03211336 &  1.000000000 & -0.011819339 & -0.018102514 & -0.01838210 & -0.007144767 &  0.02469881 &  0.045326769 & -0.049885518 &  0.047870592 & -0.01543027 & -0.044011700 & -0.03072733 &  0.003852922 &  0.006529654 & -0.07847319\\\\\n",
       "\thospdead &  0.03935385 &  0.40479251 & -0.011819339 &  1.000000000 & -0.010578883 & -0.48661573 &  0.001379934 & -0.21383435 & -0.077746405 & -0.049805138 & -0.029393954 &  0.21380429 & -0.013185702 &  0.02583071 &  0.129531668 & -0.418343907 &  0.12634954\\\\\n",
       "\tslos & -0.08551843 & -0.08309812 & -0.018102514 & -0.010578883 &  1.000000000 &  0.09690339 & -0.199401806 & -0.22074889 & -0.110978429 & -0.022117192 & -0.002046640 &  0.20415451 &  0.006075082 & -0.01081974 &  0.116551067 & -0.018345976 &  0.01914290\\\\\n",
       "\td.time & -0.13453062 & -0.71048937 & -0.018382096 & -0.486615732 &  0.096903390 &  1.00000000 & -0.189294591 &  0.10502965 & -0.045936086 &  0.020032648 & -0.011923336 & -0.08971790 & -0.008119550 & -0.05448843 &  0.081517973 &  0.367886309 & -0.13652140\\\\\n",
       "\tdzgroup &  0.03114531 &  0.21891250 & -0.007144767 &  0.001379934 & -0.199401806 & -0.18929459 &  1.000000000 &  0.22820170 & -0.003072460 & -0.009746749 &  0.041367565 & -0.07710298 & -0.143111291 & -0.05585753 & -0.282628317 & -0.044299117 &  0.00128754\\\\\n",
       "\tdzclass &  0.13842239 & -0.03515332 &  0.024698809 & -0.213834354 & -0.220748888 &  0.10502965 &  0.228201697 &  1.00000000 &  0.372724427 &  0.074845422 &  0.011712790 & -0.25151195 &  0.033511616 & -0.01365769 &  0.033798185 &  0.139060421 & -0.02855355\\\\\n",
       "\tnum.co &  0.12798626 &  0.06863418 &  0.045326769 & -0.077746405 & -0.110978429 & -0.04593609 & -0.003072460 &  0.37272443 &  1.000000000 &  0.112248176 &  0.008428311 & -0.08062655 &  0.387568684 &  0.13952626 &  0.165101933 &  0.069805674 &  0.14283622\\\\\n",
       "\tincome & -0.02226059 & -0.03095492 & -0.049885518 & -0.049805138 & -0.022117192 &  0.02003265 & -0.009746749 &  0.07484542 &  0.112248176 &  1.000000000 & -0.072035066 & -0.05258118 &  0.049532594 &  0.02728389 &  0.034518706 &  0.184275971 & -0.02281185\\\\\n",
       "\trace &  0.16700960 &  0.02484632 &  0.047870592 & -0.029393954 & -0.002046640 & -0.01192334 &  0.041367565 &  0.01171279 &  0.008428311 & -0.072035066 &  1.000000000 & -0.01482048 & -0.043100121 &  0.01469529 &  0.003207167 &  0.014714568 & -0.03333012\\\\\n",
       "\thday & -0.07192299 &  0.06384538 & -0.015430267 &  0.213804295 &  0.204154507 & -0.08971790 & -0.077102975 & -0.25151195 & -0.080626553 & -0.052581179 & -0.014820484 &  1.00000000 & -0.010661795 & -0.02839143 &  0.161548117 & -0.107097342 &  0.01554326\\\\\n",
       "\tdiabetes &  0.09595753 &  0.01193991 & -0.044011700 & -0.013185702 &  0.006075082 & -0.00811955 & -0.143111291 &  0.03351162 &  0.387568684 &  0.049532594 & -0.043100121 & -0.01066179 &  1.000000000 &  0.03155356 &  0.076984310 &  0.044997412 &  0.06683614\\\\\n",
       "\tdementia &  0.19530277 &  0.04439059 & -0.030727331 &  0.025830709 & -0.010819735 & -0.05448843 & -0.055857528 & -0.01365769 &  0.139526262 &  0.027283886 &  0.014695293 & -0.02839143 &  0.031553557 &  1.00000000 &  0.053008901 & -0.074425755 &  0.25314720\\\\\n",
       "\tca &  0.04490814 & -0.11943387 &  0.003852922 &  0.129531668 &  0.116551067 &  0.08151797 & -0.282628317 &  0.03379818 &  0.165101933 &  0.034518706 &  0.003207167 &  0.16154812 &  0.076984310 &  0.05300890 &  1.000000000 &  0.008289209 &  0.02775048\\\\\n",
       "\tsfdm2 & -0.06253991 & -0.32989731 &  0.006529654 & -0.418343907 & -0.018345976 &  0.36788631 & -0.044299117 &  0.13906042 &  0.069805674 &  0.184275971 &  0.014714568 & -0.10709734 &  0.044997412 & -0.07442575 &  0.008289209 &  1.000000000 & -0.23346451\\\\\n",
       "\tadlsc &  0.11537935 &  0.15476037 & -0.078473186 &  0.126349537 &  0.019142898 & -0.13652140 &  0.001287540 & -0.02855355 &  0.142836218 & -0.022811846 & -0.033330121 &  0.01554326 &  0.066836135 &  0.25314720 &  0.027750476 & -0.233464511 &  1.00000000\\\\\n",
       "\\end{tabular}\n"
      ],
      "text/markdown": [
       "\n",
       "A matrix: 17 × 17 of type dbl\n",
       "\n",
       "| <!--/--> | age | death | sex | hospdead | slos | d.time | dzgroup | dzclass | num.co | income | race | hday | diabetes | dementia | ca | sfdm2 | adlsc |\n",
       "|---|---|---|---|---|---|---|---|---|---|---|---|---|---|---|---|---|---|\n",
       "| age |  1.00000000 |  0.17923034 | -0.043073652 |  0.039353854 | -0.085518433 | -0.13453062 |  0.031145311 |  0.13842239 |  0.127986261 | -0.022260595 |  0.167009599 | -0.07192299 |  0.095957528 |  0.19530277 |  0.044908141 | -0.062539915 |  0.11537935 |\n",
       "| death |  0.17923034 |  1.00000000 |  0.032113358 |  0.404792507 | -0.083098125 | -0.71048937 |  0.218912499 | -0.03515332 |  0.068634185 | -0.030954918 |  0.024846324 |  0.06384538 |  0.011939907 |  0.04439059 | -0.119433870 | -0.329897309 |  0.15476037 |\n",
       "| sex | -0.04307365 |  0.03211336 |  1.000000000 | -0.011819339 | -0.018102514 | -0.01838210 | -0.007144767 |  0.02469881 |  0.045326769 | -0.049885518 |  0.047870592 | -0.01543027 | -0.044011700 | -0.03072733 |  0.003852922 |  0.006529654 | -0.07847319 |\n",
       "| hospdead |  0.03935385 |  0.40479251 | -0.011819339 |  1.000000000 | -0.010578883 | -0.48661573 |  0.001379934 | -0.21383435 | -0.077746405 | -0.049805138 | -0.029393954 |  0.21380429 | -0.013185702 |  0.02583071 |  0.129531668 | -0.418343907 |  0.12634954 |\n",
       "| slos | -0.08551843 | -0.08309812 | -0.018102514 | -0.010578883 |  1.000000000 |  0.09690339 | -0.199401806 | -0.22074889 | -0.110978429 | -0.022117192 | -0.002046640 |  0.20415451 |  0.006075082 | -0.01081974 |  0.116551067 | -0.018345976 |  0.01914290 |\n",
       "| d.time | -0.13453062 | -0.71048937 | -0.018382096 | -0.486615732 |  0.096903390 |  1.00000000 | -0.189294591 |  0.10502965 | -0.045936086 |  0.020032648 | -0.011923336 | -0.08971790 | -0.008119550 | -0.05448843 |  0.081517973 |  0.367886309 | -0.13652140 |\n",
       "| dzgroup |  0.03114531 |  0.21891250 | -0.007144767 |  0.001379934 | -0.199401806 | -0.18929459 |  1.000000000 |  0.22820170 | -0.003072460 | -0.009746749 |  0.041367565 | -0.07710298 | -0.143111291 | -0.05585753 | -0.282628317 | -0.044299117 |  0.00128754 |\n",
       "| dzclass |  0.13842239 | -0.03515332 |  0.024698809 | -0.213834354 | -0.220748888 |  0.10502965 |  0.228201697 |  1.00000000 |  0.372724427 |  0.074845422 |  0.011712790 | -0.25151195 |  0.033511616 | -0.01365769 |  0.033798185 |  0.139060421 | -0.02855355 |\n",
       "| num.co |  0.12798626 |  0.06863418 |  0.045326769 | -0.077746405 | -0.110978429 | -0.04593609 | -0.003072460 |  0.37272443 |  1.000000000 |  0.112248176 |  0.008428311 | -0.08062655 |  0.387568684 |  0.13952626 |  0.165101933 |  0.069805674 |  0.14283622 |\n",
       "| income | -0.02226059 | -0.03095492 | -0.049885518 | -0.049805138 | -0.022117192 |  0.02003265 | -0.009746749 |  0.07484542 |  0.112248176 |  1.000000000 | -0.072035066 | -0.05258118 |  0.049532594 |  0.02728389 |  0.034518706 |  0.184275971 | -0.02281185 |\n",
       "| race |  0.16700960 |  0.02484632 |  0.047870592 | -0.029393954 | -0.002046640 | -0.01192334 |  0.041367565 |  0.01171279 |  0.008428311 | -0.072035066 |  1.000000000 | -0.01482048 | -0.043100121 |  0.01469529 |  0.003207167 |  0.014714568 | -0.03333012 |\n",
       "| hday | -0.07192299 |  0.06384538 | -0.015430267 |  0.213804295 |  0.204154507 | -0.08971790 | -0.077102975 | -0.25151195 | -0.080626553 | -0.052581179 | -0.014820484 |  1.00000000 | -0.010661795 | -0.02839143 |  0.161548117 | -0.107097342 |  0.01554326 |\n",
       "| diabetes |  0.09595753 |  0.01193991 | -0.044011700 | -0.013185702 |  0.006075082 | -0.00811955 | -0.143111291 |  0.03351162 |  0.387568684 |  0.049532594 | -0.043100121 | -0.01066179 |  1.000000000 |  0.03155356 |  0.076984310 |  0.044997412 |  0.06683614 |\n",
       "| dementia |  0.19530277 |  0.04439059 | -0.030727331 |  0.025830709 | -0.010819735 | -0.05448843 | -0.055857528 | -0.01365769 |  0.139526262 |  0.027283886 |  0.014695293 | -0.02839143 |  0.031553557 |  1.00000000 |  0.053008901 | -0.074425755 |  0.25314720 |\n",
       "| ca |  0.04490814 | -0.11943387 |  0.003852922 |  0.129531668 |  0.116551067 |  0.08151797 | -0.282628317 |  0.03379818 |  0.165101933 |  0.034518706 |  0.003207167 |  0.16154812 |  0.076984310 |  0.05300890 |  1.000000000 |  0.008289209 |  0.02775048 |\n",
       "| sfdm2 | -0.06253991 | -0.32989731 |  0.006529654 | -0.418343907 | -0.018345976 |  0.36788631 | -0.044299117 |  0.13906042 |  0.069805674 |  0.184275971 |  0.014714568 | -0.10709734 |  0.044997412 | -0.07442575 |  0.008289209 |  1.000000000 | -0.23346451 |\n",
       "| adlsc |  0.11537935 |  0.15476037 | -0.078473186 |  0.126349537 |  0.019142898 | -0.13652140 |  0.001287540 | -0.02855355 |  0.142836218 | -0.022811846 | -0.033330121 |  0.01554326 |  0.066836135 |  0.25314720 |  0.027750476 | -0.233464511 |  1.00000000 |\n",
       "\n"
      ],
      "text/plain": [
       "         age         death       sex          hospdead     slos        \n",
       "age       1.00000000  0.17923034 -0.043073652  0.039353854 -0.085518433\n",
       "death     0.17923034  1.00000000  0.032113358  0.404792507 -0.083098125\n",
       "sex      -0.04307365  0.03211336  1.000000000 -0.011819339 -0.018102514\n",
       "hospdead  0.03935385  0.40479251 -0.011819339  1.000000000 -0.010578883\n",
       "slos     -0.08551843 -0.08309812 -0.018102514 -0.010578883  1.000000000\n",
       "d.time   -0.13453062 -0.71048937 -0.018382096 -0.486615732  0.096903390\n",
       "dzgroup   0.03114531  0.21891250 -0.007144767  0.001379934 -0.199401806\n",
       "dzclass   0.13842239 -0.03515332  0.024698809 -0.213834354 -0.220748888\n",
       "num.co    0.12798626  0.06863418  0.045326769 -0.077746405 -0.110978429\n",
       "income   -0.02226059 -0.03095492 -0.049885518 -0.049805138 -0.022117192\n",
       "race      0.16700960  0.02484632  0.047870592 -0.029393954 -0.002046640\n",
       "hday     -0.07192299  0.06384538 -0.015430267  0.213804295  0.204154507\n",
       "diabetes  0.09595753  0.01193991 -0.044011700 -0.013185702  0.006075082\n",
       "dementia  0.19530277  0.04439059 -0.030727331  0.025830709 -0.010819735\n",
       "ca        0.04490814 -0.11943387  0.003852922  0.129531668  0.116551067\n",
       "sfdm2    -0.06253991 -0.32989731  0.006529654 -0.418343907 -0.018345976\n",
       "adlsc     0.11537935  0.15476037 -0.078473186  0.126349537  0.019142898\n",
       "         d.time      dzgroup      dzclass     num.co       income      \n",
       "age      -0.13453062  0.031145311  0.13842239  0.127986261 -0.022260595\n",
       "death    -0.71048937  0.218912499 -0.03515332  0.068634185 -0.030954918\n",
       "sex      -0.01838210 -0.007144767  0.02469881  0.045326769 -0.049885518\n",
       "hospdead -0.48661573  0.001379934 -0.21383435 -0.077746405 -0.049805138\n",
       "slos      0.09690339 -0.199401806 -0.22074889 -0.110978429 -0.022117192\n",
       "d.time    1.00000000 -0.189294591  0.10502965 -0.045936086  0.020032648\n",
       "dzgroup  -0.18929459  1.000000000  0.22820170 -0.003072460 -0.009746749\n",
       "dzclass   0.10502965  0.228201697  1.00000000  0.372724427  0.074845422\n",
       "num.co   -0.04593609 -0.003072460  0.37272443  1.000000000  0.112248176\n",
       "income    0.02003265 -0.009746749  0.07484542  0.112248176  1.000000000\n",
       "race     -0.01192334  0.041367565  0.01171279  0.008428311 -0.072035066\n",
       "hday     -0.08971790 -0.077102975 -0.25151195 -0.080626553 -0.052581179\n",
       "diabetes -0.00811955 -0.143111291  0.03351162  0.387568684  0.049532594\n",
       "dementia -0.05448843 -0.055857528 -0.01365769  0.139526262  0.027283886\n",
       "ca        0.08151797 -0.282628317  0.03379818  0.165101933  0.034518706\n",
       "sfdm2     0.36788631 -0.044299117  0.13906042  0.069805674  0.184275971\n",
       "adlsc    -0.13652140  0.001287540 -0.02855355  0.142836218 -0.022811846\n",
       "         race         hday        diabetes     dementia    ca          \n",
       "age       0.167009599 -0.07192299  0.095957528  0.19530277  0.044908141\n",
       "death     0.024846324  0.06384538  0.011939907  0.04439059 -0.119433870\n",
       "sex       0.047870592 -0.01543027 -0.044011700 -0.03072733  0.003852922\n",
       "hospdead -0.029393954  0.21380429 -0.013185702  0.02583071  0.129531668\n",
       "slos     -0.002046640  0.20415451  0.006075082 -0.01081974  0.116551067\n",
       "d.time   -0.011923336 -0.08971790 -0.008119550 -0.05448843  0.081517973\n",
       "dzgroup   0.041367565 -0.07710298 -0.143111291 -0.05585753 -0.282628317\n",
       "dzclass   0.011712790 -0.25151195  0.033511616 -0.01365769  0.033798185\n",
       "num.co    0.008428311 -0.08062655  0.387568684  0.13952626  0.165101933\n",
       "income   -0.072035066 -0.05258118  0.049532594  0.02728389  0.034518706\n",
       "race      1.000000000 -0.01482048 -0.043100121  0.01469529  0.003207167\n",
       "hday     -0.014820484  1.00000000 -0.010661795 -0.02839143  0.161548117\n",
       "diabetes -0.043100121 -0.01066179  1.000000000  0.03155356  0.076984310\n",
       "dementia  0.014695293 -0.02839143  0.031553557  1.00000000  0.053008901\n",
       "ca        0.003207167  0.16154812  0.076984310  0.05300890  1.000000000\n",
       "sfdm2     0.014714568 -0.10709734  0.044997412 -0.07442575  0.008289209\n",
       "adlsc    -0.033330121  0.01554326  0.066836135  0.25314720  0.027750476\n",
       "         sfdm2        adlsc      \n",
       "age      -0.062539915  0.11537935\n",
       "death    -0.329897309  0.15476037\n",
       "sex       0.006529654 -0.07847319\n",
       "hospdead -0.418343907  0.12634954\n",
       "slos     -0.018345976  0.01914290\n",
       "d.time    0.367886309 -0.13652140\n",
       "dzgroup  -0.044299117  0.00128754\n",
       "dzclass   0.139060421 -0.02855355\n",
       "num.co    0.069805674  0.14283622\n",
       "income    0.184275971 -0.02281185\n",
       "race      0.014714568 -0.03333012\n",
       "hday     -0.107097342  0.01554326\n",
       "diabetes  0.044997412  0.06683614\n",
       "dementia -0.074425755  0.25314720\n",
       "ca        0.008289209  0.02775048\n",
       "sfdm2     1.000000000 -0.23346451\n",
       "adlsc    -0.233464511  1.00000000"
      ]
     },
     "metadata": {},
     "output_type": "display_data"
    }
   ],
   "source": [
    "correlation_matrix <- cor(data_clean)\n",
    "correlation_matrix"
   ]
  }
 ],
 "metadata": {
  "kernelspec": {
   "display_name": "R",
   "language": "R",
   "name": "ir"
  },
  "language_info": {
   "codemirror_mode": "r",
   "file_extension": ".r",
   "mimetype": "text/x-r-source",
   "name": "R",
   "pygments_lexer": "r",
   "version": "4.4.2"
  }
 },
 "nbformat": 4,
 "nbformat_minor": 2
}
