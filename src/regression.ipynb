{
 "cells": [
  {
   "cell_type": "markdown",
   "metadata": {},
   "source": [
    "ROCHETTE\n",
    "LEVEQUE\n",
    "\n",
    "# Chargement des Données\n",
    "\n",
    "Nous importons le dataset pour obtenir une vue d'ensemble de ses caractéristiques et de ses variables."
   ]
  },
  {
   "cell_type": "code",
   "execution_count": 53,
   "metadata": {
    "vscode": {
     "languageId": "r"
    }
   },
   "outputs": [
    {
     "data": {
      "text/html": [
       "<table class=\"dataframe\">\n",
       "<caption>A data.frame: 6 × 47</caption>\n",
       "<thead>\n",
       "\t<tr><th></th><th scope=col>age</th><th scope=col>death</th><th scope=col>sex</th><th scope=col>hospdead</th><th scope=col>slos</th><th scope=col>d.time</th><th scope=col>dzgroup</th><th scope=col>dzclass</th><th scope=col>num.co</th><th scope=col>edu</th><th scope=col>⋯</th><th scope=col>crea</th><th scope=col>sod</th><th scope=col>ph</th><th scope=col>glucose</th><th scope=col>bun</th><th scope=col>urine</th><th scope=col>adlp</th><th scope=col>adls</th><th scope=col>sfdm2</th><th scope=col>adlsc</th></tr>\n",
       "\t<tr><th></th><th scope=col>&lt;dbl&gt;</th><th scope=col>&lt;int&gt;</th><th scope=col>&lt;chr&gt;</th><th scope=col>&lt;int&gt;</th><th scope=col>&lt;int&gt;</th><th scope=col>&lt;int&gt;</th><th scope=col>&lt;chr&gt;</th><th scope=col>&lt;chr&gt;</th><th scope=col>&lt;int&gt;</th><th scope=col>&lt;int&gt;</th><th scope=col>⋯</th><th scope=col>&lt;dbl&gt;</th><th scope=col>&lt;int&gt;</th><th scope=col>&lt;dbl&gt;</th><th scope=col>&lt;dbl&gt;</th><th scope=col>&lt;dbl&gt;</th><th scope=col>&lt;dbl&gt;</th><th scope=col>&lt;int&gt;</th><th scope=col>&lt;int&gt;</th><th scope=col>&lt;chr&gt;</th><th scope=col>&lt;dbl&gt;</th></tr>\n",
       "</thead>\n",
       "<tbody>\n",
       "\t<tr><th scope=row>1</th><td>62.84998</td><td>0</td><td>male  </td><td>0</td><td> 5</td><td>2029</td><td>Lung Cancer      </td><td>Cancer            </td><td>0</td><td>11</td><td>⋯</td><td>1.1999512</td><td>141</td><td>7.459961</td><td>NA</td><td>NA</td><td>NA</td><td> 7</td><td>7</td><td>                   </td><td>7</td></tr>\n",
       "\t<tr><th scope=row>2</th><td>60.33899</td><td>1</td><td>female</td><td>1</td><td> 4</td><td><span style=white-space:pre-wrap>   4</span></td><td><span style=white-space:pre-wrap>Cirrhosis        </span></td><td>COPD/CHF/Cirrhosis</td><td>2</td><td>12</td><td>⋯</td><td>5.5000000</td><td>132</td><td>7.250000</td><td>NA</td><td>NA</td><td>NA</td><td>NA</td><td>1</td><td><span style=white-space:pre-wrap>&lt;2 mo. follow-up   </span></td><td>1</td></tr>\n",
       "\t<tr><th scope=row>3</th><td>52.74698</td><td>1</td><td>female</td><td>0</td><td>17</td><td><span style=white-space:pre-wrap>  47</span></td><td><span style=white-space:pre-wrap>Cirrhosis        </span></td><td>COPD/CHF/Cirrhosis</td><td>2</td><td>12</td><td>⋯</td><td>2.0000000</td><td>134</td><td>7.459961</td><td>NA</td><td>NA</td><td>NA</td><td> 1</td><td>0</td><td><span style=white-space:pre-wrap>&lt;2 mo. follow-up   </span></td><td>0</td></tr>\n",
       "\t<tr><th scope=row>4</th><td>42.38498</td><td>1</td><td>female</td><td>0</td><td> 3</td><td> 133</td><td>Lung Cancer      </td><td>Cancer            </td><td>2</td><td>11</td><td>⋯</td><td>0.7999268</td><td>139</td><td>      NA</td><td>NA</td><td>NA</td><td>NA</td><td> 0</td><td>0</td><td>no(M2 and SIP pres)</td><td>0</td></tr>\n",
       "\t<tr><th scope=row>5</th><td>79.88495</td><td>0</td><td>female</td><td>0</td><td>16</td><td>2029</td><td>ARF/MOSF w/Sepsis</td><td>ARF/MOSF          </td><td>1</td><td>NA</td><td>⋯</td><td>0.7999268</td><td>143</td><td>7.509766</td><td>NA</td><td>NA</td><td>NA</td><td>NA</td><td>2</td><td>no(M2 and SIP pres)</td><td>2</td></tr>\n",
       "\t<tr><th scope=row>6</th><td>93.01599</td><td>1</td><td><span style=white-space:pre-wrap>male  </span></td><td>1</td><td> 4</td><td><span style=white-space:pre-wrap>   4</span></td><td><span style=white-space:pre-wrap>Coma             </span></td><td><span style=white-space:pre-wrap>Coma              </span></td><td>1</td><td>14</td><td>⋯</td><td>0.6999512</td><td>140</td><td>7.659180</td><td>NA</td><td>NA</td><td>NA</td><td>NA</td><td>1</td><td><span style=white-space:pre-wrap>&lt;2 mo. follow-up   </span></td><td>1</td></tr>\n",
       "</tbody>\n",
       "</table>\n"
      ],
      "text/latex": [
       "A data.frame: 6 × 47\n",
       "\\begin{tabular}{r|lllllllllllllllllllll}\n",
       "  & age & death & sex & hospdead & slos & d.time & dzgroup & dzclass & num.co & edu & ⋯ & crea & sod & ph & glucose & bun & urine & adlp & adls & sfdm2 & adlsc\\\\\n",
       "  & <dbl> & <int> & <chr> & <int> & <int> & <int> & <chr> & <chr> & <int> & <int> & ⋯ & <dbl> & <int> & <dbl> & <dbl> & <dbl> & <dbl> & <int> & <int> & <chr> & <dbl>\\\\\n",
       "\\hline\n",
       "\t1 & 62.84998 & 0 & male   & 0 &  5 & 2029 & Lung Cancer       & Cancer             & 0 & 11 & ⋯ & 1.1999512 & 141 & 7.459961 & NA & NA & NA &  7 & 7 &                     & 7\\\\\n",
       "\t2 & 60.33899 & 1 & female & 1 &  4 &    4 & Cirrhosis         & COPD/CHF/Cirrhosis & 2 & 12 & ⋯ & 5.5000000 & 132 & 7.250000 & NA & NA & NA & NA & 1 & <2 mo. follow-up    & 1\\\\\n",
       "\t3 & 52.74698 & 1 & female & 0 & 17 &   47 & Cirrhosis         & COPD/CHF/Cirrhosis & 2 & 12 & ⋯ & 2.0000000 & 134 & 7.459961 & NA & NA & NA &  1 & 0 & <2 mo. follow-up    & 0\\\\\n",
       "\t4 & 42.38498 & 1 & female & 0 &  3 &  133 & Lung Cancer       & Cancer             & 2 & 11 & ⋯ & 0.7999268 & 139 &       NA & NA & NA & NA &  0 & 0 & no(M2 and SIP pres) & 0\\\\\n",
       "\t5 & 79.88495 & 0 & female & 0 & 16 & 2029 & ARF/MOSF w/Sepsis & ARF/MOSF           & 1 & NA & ⋯ & 0.7999268 & 143 & 7.509766 & NA & NA & NA & NA & 2 & no(M2 and SIP pres) & 2\\\\\n",
       "\t6 & 93.01599 & 1 & male   & 1 &  4 &    4 & Coma              & Coma               & 1 & 14 & ⋯ & 0.6999512 & 140 & 7.659180 & NA & NA & NA & NA & 1 & <2 mo. follow-up    & 1\\\\\n",
       "\\end{tabular}\n"
      ],
      "text/markdown": [
       "\n",
       "A data.frame: 6 × 47\n",
       "\n",
       "| <!--/--> | age &lt;dbl&gt; | death &lt;int&gt; | sex &lt;chr&gt; | hospdead &lt;int&gt; | slos &lt;int&gt; | d.time &lt;int&gt; | dzgroup &lt;chr&gt; | dzclass &lt;chr&gt; | num.co &lt;int&gt; | edu &lt;int&gt; | ⋯ ⋯ | crea &lt;dbl&gt; | sod &lt;int&gt; | ph &lt;dbl&gt; | glucose &lt;dbl&gt; | bun &lt;dbl&gt; | urine &lt;dbl&gt; | adlp &lt;int&gt; | adls &lt;int&gt; | sfdm2 &lt;chr&gt; | adlsc &lt;dbl&gt; |\n",
       "|---|---|---|---|---|---|---|---|---|---|---|---|---|---|---|---|---|---|---|---|---|---|\n",
       "| 1 | 62.84998 | 0 | male   | 0 |  5 | 2029 | Lung Cancer       | Cancer             | 0 | 11 | ⋯ | 1.1999512 | 141 | 7.459961 | NA | NA | NA |  7 | 7 | <!----> | 7 |\n",
       "| 2 | 60.33899 | 1 | female | 1 |  4 |    4 | Cirrhosis         | COPD/CHF/Cirrhosis | 2 | 12 | ⋯ | 5.5000000 | 132 | 7.250000 | NA | NA | NA | NA | 1 | &lt;2 mo. follow-up    | 1 |\n",
       "| 3 | 52.74698 | 1 | female | 0 | 17 |   47 | Cirrhosis         | COPD/CHF/Cirrhosis | 2 | 12 | ⋯ | 2.0000000 | 134 | 7.459961 | NA | NA | NA |  1 | 0 | &lt;2 mo. follow-up    | 0 |\n",
       "| 4 | 42.38498 | 1 | female | 0 |  3 |  133 | Lung Cancer       | Cancer             | 2 | 11 | ⋯ | 0.7999268 | 139 |       NA | NA | NA | NA |  0 | 0 | no(M2 and SIP pres) | 0 |\n",
       "| 5 | 79.88495 | 0 | female | 0 | 16 | 2029 | ARF/MOSF w/Sepsis | ARF/MOSF           | 1 | NA | ⋯ | 0.7999268 | 143 | 7.509766 | NA | NA | NA | NA | 2 | no(M2 and SIP pres) | 2 |\n",
       "| 6 | 93.01599 | 1 | male   | 1 |  4 |    4 | Coma              | Coma               | 1 | 14 | ⋯ | 0.6999512 | 140 | 7.659180 | NA | NA | NA | NA | 1 | &lt;2 mo. follow-up    | 1 |\n",
       "\n"
      ],
      "text/plain": [
       "  age      death sex    hospdead slos d.time dzgroup          \n",
       "1 62.84998 0     male   0         5   2029   Lung Cancer      \n",
       "2 60.33899 1     female 1         4      4   Cirrhosis        \n",
       "3 52.74698 1     female 0        17     47   Cirrhosis        \n",
       "4 42.38498 1     female 0         3    133   Lung Cancer      \n",
       "5 79.88495 0     female 0        16   2029   ARF/MOSF w/Sepsis\n",
       "6 93.01599 1     male   1         4      4   Coma             \n",
       "  dzclass            num.co edu ⋯ crea      sod ph       glucose bun urine adlp\n",
       "1 Cancer             0      11  ⋯ 1.1999512 141 7.459961 NA      NA  NA     7  \n",
       "2 COPD/CHF/Cirrhosis 2      12  ⋯ 5.5000000 132 7.250000 NA      NA  NA    NA  \n",
       "3 COPD/CHF/Cirrhosis 2      12  ⋯ 2.0000000 134 7.459961 NA      NA  NA     1  \n",
       "4 Cancer             2      11  ⋯ 0.7999268 139       NA NA      NA  NA     0  \n",
       "5 ARF/MOSF           1      NA  ⋯ 0.7999268 143 7.509766 NA      NA  NA    NA  \n",
       "6 Coma               1      14  ⋯ 0.6999512 140 7.659180 NA      NA  NA    NA  \n",
       "  adls sfdm2               adlsc\n",
       "1 7                        7    \n",
       "2 1    <2 mo. follow-up    1    \n",
       "3 0    <2 mo. follow-up    0    \n",
       "4 0    no(M2 and SIP pres) 0    \n",
       "5 2    no(M2 and SIP pres) 2    \n",
       "6 1    <2 mo. follow-up    1    "
      ]
     },
     "metadata": {},
     "output_type": "display_data"
    }
   ],
   "source": [
    "data <- read.csv(\"../data/support2.csv\")\n",
    "head(data)"
   ]
  },
  {
   "cell_type": "markdown",
   "metadata": {},
   "source": [
    "# On va utiliser tout le dataset, en rajoutant des valeurs moyennes"
   ]
  },
  {
   "cell_type": "code",
   "execution_count": 54,
   "metadata": {
    "vscode": {
     "languageId": "r"
    }
   },
   "outputs": [
    {
     "data": {
      "text/html": [
       "&lt;NA&gt;"
      ],
      "text/latex": [
       "<NA>"
      ],
      "text/markdown": [
       "&lt;NA&gt;"
      ],
      "text/plain": [
       "[1] NA"
      ]
     },
     "metadata": {},
     "output_type": "display_data"
    }
   ],
   "source": [
    "data$pafi[is.na(data$pafi)] <- 333.3\n",
    "data$alb[is.na(data$alb)] <- 3.5\n",
    "data$bun[is.na(data$bun) <- 6.51]\n",
    "data$urine[is.na(data$urine)] <- 2502"
   ]
  },
  {
   "cell_type": "code",
   "execution_count": 55,
   "metadata": {
    "vscode": {
     "languageId": "r"
    }
   },
   "outputs": [
    {
     "data": {
      "text/html": [
       "<table class=\"dataframe\">\n",
       "<caption>A data.frame: 6 × 47</caption>\n",
       "<thead>\n",
       "\t<tr><th></th><th scope=col>age</th><th scope=col>death</th><th scope=col>sex</th><th scope=col>hospdead</th><th scope=col>slos</th><th scope=col>d.time</th><th scope=col>dzgroup</th><th scope=col>dzclass</th><th scope=col>num.co</th><th scope=col>edu</th><th scope=col>⋯</th><th scope=col>crea</th><th scope=col>sod</th><th scope=col>ph</th><th scope=col>glucose</th><th scope=col>bun</th><th scope=col>urine</th><th scope=col>adlp</th><th scope=col>adls</th><th scope=col>sfdm2</th><th scope=col>adlsc</th></tr>\n",
       "\t<tr><th></th><th scope=col>&lt;dbl&gt;</th><th scope=col>&lt;int&gt;</th><th scope=col>&lt;chr&gt;</th><th scope=col>&lt;int&gt;</th><th scope=col>&lt;int&gt;</th><th scope=col>&lt;int&gt;</th><th scope=col>&lt;chr&gt;</th><th scope=col>&lt;chr&gt;</th><th scope=col>&lt;int&gt;</th><th scope=col>&lt;int&gt;</th><th scope=col>⋯</th><th scope=col>&lt;dbl&gt;</th><th scope=col>&lt;dbl&gt;</th><th scope=col>&lt;dbl&gt;</th><th scope=col>&lt;dbl&gt;</th><th scope=col>&lt;dbl&gt;</th><th scope=col>&lt;dbl&gt;</th><th scope=col>&lt;dbl&gt;</th><th scope=col>&lt;dbl&gt;</th><th scope=col>&lt;chr&gt;</th><th scope=col>&lt;dbl&gt;</th></tr>\n",
       "</thead>\n",
       "<tbody>\n",
       "\t<tr><th scope=row>1</th><td>62.84998</td><td>0</td><td>male  </td><td>0</td><td> 5</td><td>2029</td><td>Lung Cancer      </td><td>Cancer            </td><td>0</td><td>11</td><td>⋯</td><td>1.1999512</td><td>141</td><td>7.459961</td><td>135</td><td>23</td><td>2502</td><td>7</td><td>7</td><td>                   </td><td>7</td></tr>\n",
       "\t<tr><th scope=row>2</th><td>60.33899</td><td>1</td><td>female</td><td>1</td><td> 4</td><td><span style=white-space:pre-wrap>   4</span></td><td><span style=white-space:pre-wrap>Cirrhosis        </span></td><td>COPD/CHF/Cirrhosis</td><td>2</td><td>12</td><td>⋯</td><td>5.5000000</td><td>132</td><td>7.250000</td><td>135</td><td>23</td><td>2502</td><td>0</td><td>1</td><td><span style=white-space:pre-wrap>&lt;2 mo. follow-up   </span></td><td>1</td></tr>\n",
       "\t<tr><th scope=row>3</th><td>52.74698</td><td>1</td><td>female</td><td>0</td><td>17</td><td><span style=white-space:pre-wrap>  47</span></td><td><span style=white-space:pre-wrap>Cirrhosis        </span></td><td>COPD/CHF/Cirrhosis</td><td>2</td><td>12</td><td>⋯</td><td>2.0000000</td><td>134</td><td>7.459961</td><td>135</td><td>23</td><td>2502</td><td>1</td><td>0</td><td><span style=white-space:pre-wrap>&lt;2 mo. follow-up   </span></td><td>0</td></tr>\n",
       "\t<tr><th scope=row>4</th><td>42.38498</td><td>1</td><td>female</td><td>0</td><td> 3</td><td> 133</td><td>Lung Cancer      </td><td>Cancer            </td><td>2</td><td>11</td><td>⋯</td><td>0.7999268</td><td>139</td><td>7.419922</td><td>135</td><td>23</td><td>2502</td><td>0</td><td>0</td><td>no(M2 and SIP pres)</td><td>0</td></tr>\n",
       "\t<tr><th scope=row>5</th><td>79.88495</td><td>0</td><td>female</td><td>0</td><td>16</td><td>2029</td><td>ARF/MOSF w/Sepsis</td><td>ARF/MOSF          </td><td>1</td><td>12</td><td>⋯</td><td>0.7999268</td><td>143</td><td>7.509766</td><td>135</td><td>23</td><td>2502</td><td>0</td><td>2</td><td>no(M2 and SIP pres)</td><td>2</td></tr>\n",
       "\t<tr><th scope=row>6</th><td>93.01599</td><td>1</td><td><span style=white-space:pre-wrap>male  </span></td><td>1</td><td> 4</td><td><span style=white-space:pre-wrap>   4</span></td><td><span style=white-space:pre-wrap>Coma             </span></td><td><span style=white-space:pre-wrap>Coma              </span></td><td>1</td><td>14</td><td>⋯</td><td>0.6999512</td><td>140</td><td>7.659180</td><td>135</td><td>23</td><td>2502</td><td>0</td><td>1</td><td><span style=white-space:pre-wrap>&lt;2 mo. follow-up   </span></td><td>1</td></tr>\n",
       "</tbody>\n",
       "</table>\n"
      ],
      "text/latex": [
       "A data.frame: 6 × 47\n",
       "\\begin{tabular}{r|lllllllllllllllllllll}\n",
       "  & age & death & sex & hospdead & slos & d.time & dzgroup & dzclass & num.co & edu & ⋯ & crea & sod & ph & glucose & bun & urine & adlp & adls & sfdm2 & adlsc\\\\\n",
       "  & <dbl> & <int> & <chr> & <int> & <int> & <int> & <chr> & <chr> & <int> & <int> & ⋯ & <dbl> & <dbl> & <dbl> & <dbl> & <dbl> & <dbl> & <dbl> & <dbl> & <chr> & <dbl>\\\\\n",
       "\\hline\n",
       "\t1 & 62.84998 & 0 & male   & 0 &  5 & 2029 & Lung Cancer       & Cancer             & 0 & 11 & ⋯ & 1.1999512 & 141 & 7.459961 & 135 & 23 & 2502 & 7 & 7 &                     & 7\\\\\n",
       "\t2 & 60.33899 & 1 & female & 1 &  4 &    4 & Cirrhosis         & COPD/CHF/Cirrhosis & 2 & 12 & ⋯ & 5.5000000 & 132 & 7.250000 & 135 & 23 & 2502 & 0 & 1 & <2 mo. follow-up    & 1\\\\\n",
       "\t3 & 52.74698 & 1 & female & 0 & 17 &   47 & Cirrhosis         & COPD/CHF/Cirrhosis & 2 & 12 & ⋯ & 2.0000000 & 134 & 7.459961 & 135 & 23 & 2502 & 1 & 0 & <2 mo. follow-up    & 0\\\\\n",
       "\t4 & 42.38498 & 1 & female & 0 &  3 &  133 & Lung Cancer       & Cancer             & 2 & 11 & ⋯ & 0.7999268 & 139 & 7.419922 & 135 & 23 & 2502 & 0 & 0 & no(M2 and SIP pres) & 0\\\\\n",
       "\t5 & 79.88495 & 0 & female & 0 & 16 & 2029 & ARF/MOSF w/Sepsis & ARF/MOSF           & 1 & 12 & ⋯ & 0.7999268 & 143 & 7.509766 & 135 & 23 & 2502 & 0 & 2 & no(M2 and SIP pres) & 2\\\\\n",
       "\t6 & 93.01599 & 1 & male   & 1 &  4 &    4 & Coma              & Coma               & 1 & 14 & ⋯ & 0.6999512 & 140 & 7.659180 & 135 & 23 & 2502 & 0 & 1 & <2 mo. follow-up    & 1\\\\\n",
       "\\end{tabular}\n"
      ],
      "text/markdown": [
       "\n",
       "A data.frame: 6 × 47\n",
       "\n",
       "| <!--/--> | age &lt;dbl&gt; | death &lt;int&gt; | sex &lt;chr&gt; | hospdead &lt;int&gt; | slos &lt;int&gt; | d.time &lt;int&gt; | dzgroup &lt;chr&gt; | dzclass &lt;chr&gt; | num.co &lt;int&gt; | edu &lt;int&gt; | ⋯ ⋯ | crea &lt;dbl&gt; | sod &lt;dbl&gt; | ph &lt;dbl&gt; | glucose &lt;dbl&gt; | bun &lt;dbl&gt; | urine &lt;dbl&gt; | adlp &lt;dbl&gt; | adls &lt;dbl&gt; | sfdm2 &lt;chr&gt; | adlsc &lt;dbl&gt; |\n",
       "|---|---|---|---|---|---|---|---|---|---|---|---|---|---|---|---|---|---|---|---|---|---|\n",
       "| 1 | 62.84998 | 0 | male   | 0 |  5 | 2029 | Lung Cancer       | Cancer             | 0 | 11 | ⋯ | 1.1999512 | 141 | 7.459961 | 135 | 23 | 2502 | 7 | 7 | <!----> | 7 |\n",
       "| 2 | 60.33899 | 1 | female | 1 |  4 |    4 | Cirrhosis         | COPD/CHF/Cirrhosis | 2 | 12 | ⋯ | 5.5000000 | 132 | 7.250000 | 135 | 23 | 2502 | 0 | 1 | &lt;2 mo. follow-up    | 1 |\n",
       "| 3 | 52.74698 | 1 | female | 0 | 17 |   47 | Cirrhosis         | COPD/CHF/Cirrhosis | 2 | 12 | ⋯ | 2.0000000 | 134 | 7.459961 | 135 | 23 | 2502 | 1 | 0 | &lt;2 mo. follow-up    | 0 |\n",
       "| 4 | 42.38498 | 1 | female | 0 |  3 |  133 | Lung Cancer       | Cancer             | 2 | 11 | ⋯ | 0.7999268 | 139 | 7.419922 | 135 | 23 | 2502 | 0 | 0 | no(M2 and SIP pres) | 0 |\n",
       "| 5 | 79.88495 | 0 | female | 0 | 16 | 2029 | ARF/MOSF w/Sepsis | ARF/MOSF           | 1 | 12 | ⋯ | 0.7999268 | 143 | 7.509766 | 135 | 23 | 2502 | 0 | 2 | no(M2 and SIP pres) | 2 |\n",
       "| 6 | 93.01599 | 1 | male   | 1 |  4 |    4 | Coma              | Coma               | 1 | 14 | ⋯ | 0.6999512 | 140 | 7.659180 | 135 | 23 | 2502 | 0 | 1 | &lt;2 mo. follow-up    | 1 |\n",
       "\n"
      ],
      "text/plain": [
       "  age      death sex    hospdead slos d.time dzgroup          \n",
       "1 62.84998 0     male   0         5   2029   Lung Cancer      \n",
       "2 60.33899 1     female 1         4      4   Cirrhosis        \n",
       "3 52.74698 1     female 0        17     47   Cirrhosis        \n",
       "4 42.38498 1     female 0         3    133   Lung Cancer      \n",
       "5 79.88495 0     female 0        16   2029   ARF/MOSF w/Sepsis\n",
       "6 93.01599 1     male   1         4      4   Coma             \n",
       "  dzclass            num.co edu ⋯ crea      sod ph       glucose bun urine adlp\n",
       "1 Cancer             0      11  ⋯ 1.1999512 141 7.459961 135     23  2502  7   \n",
       "2 COPD/CHF/Cirrhosis 2      12  ⋯ 5.5000000 132 7.250000 135     23  2502  0   \n",
       "3 COPD/CHF/Cirrhosis 2      12  ⋯ 2.0000000 134 7.459961 135     23  2502  1   \n",
       "4 Cancer             2      11  ⋯ 0.7999268 139 7.419922 135     23  2502  0   \n",
       "5 ARF/MOSF           1      12  ⋯ 0.7999268 143 7.509766 135     23  2502  0   \n",
       "6 Coma               1      14  ⋯ 0.6999512 140 7.659180 135     23  2502  0   \n",
       "  adls sfdm2               adlsc\n",
       "1 7                        7    \n",
       "2 1    <2 mo. follow-up    1    \n",
       "3 0    <2 mo. follow-up    0    \n",
       "4 0    no(M2 and SIP pres) 0    \n",
       "5 2    no(M2 and SIP pres) 2    \n",
       "6 1    <2 mo. follow-up    1    "
      ]
     },
     "metadata": {},
     "output_type": "display_data"
    }
   ],
   "source": [
    "data[] <- lapply(data, function(x) {\n",
    "  if (is.numeric(x)) {\n",
    "    x[is.na(x)] <- median(x, na.rm = TRUE) \n",
    "  }\n",
    "  return(x)\n",
    "})\n",
    "head(data)"
   ]
  },
  {
   "cell_type": "markdown",
   "metadata": {},
   "source": [
    "On regarde le nombre de colonnes vides"
   ]
  },
  {
   "cell_type": "code",
   "execution_count": 56,
   "metadata": {
    "vscode": {
     "languageId": "r"
    }
   },
   "outputs": [
    {
     "data": {
      "text/html": [
       "<table class=\"dataframe\">\n",
       "<caption>A data.frame: 8 × 2</caption>\n",
       "<thead>\n",
       "\t<tr><th></th><th scope=col>colonne</th><th scope=col>nombre_vides</th></tr>\n",
       "\t<tr><th></th><th scope=col>&lt;chr&gt;</th><th scope=col>&lt;int&gt;</th></tr>\n",
       "</thead>\n",
       "<tbody>\n",
       "\t<tr><th scope=row>sex</th><td>sex    </td><td>   0</td></tr>\n",
       "\t<tr><th scope=row>dzgroup</th><td>dzgroup</td><td>   0</td></tr>\n",
       "\t<tr><th scope=row>dzclass</th><td>dzclass</td><td>   0</td></tr>\n",
       "\t<tr><th scope=row>income</th><td>income </td><td>2982</td></tr>\n",
       "\t<tr><th scope=row>race</th><td>race   </td><td>  42</td></tr>\n",
       "\t<tr><th scope=row>ca</th><td>ca     </td><td>   0</td></tr>\n",
       "\t<tr><th scope=row>dnr</th><td>dnr    </td><td>  30</td></tr>\n",
       "\t<tr><th scope=row>sfdm2</th><td>sfdm2  </td><td>1400</td></tr>\n",
       "</tbody>\n",
       "</table>\n"
      ],
      "text/latex": [
       "A data.frame: 8 × 2\n",
       "\\begin{tabular}{r|ll}\n",
       "  & colonne & nombre\\_vides\\\\\n",
       "  & <chr> & <int>\\\\\n",
       "\\hline\n",
       "\tsex & sex     &    0\\\\\n",
       "\tdzgroup & dzgroup &    0\\\\\n",
       "\tdzclass & dzclass &    0\\\\\n",
       "\tincome & income  & 2982\\\\\n",
       "\trace & race    &   42\\\\\n",
       "\tca & ca      &    0\\\\\n",
       "\tdnr & dnr     &   30\\\\\n",
       "\tsfdm2 & sfdm2   & 1400\\\\\n",
       "\\end{tabular}\n"
      ],
      "text/markdown": [
       "\n",
       "A data.frame: 8 × 2\n",
       "\n",
       "| <!--/--> | colonne &lt;chr&gt; | nombre_vides &lt;int&gt; |\n",
       "|---|---|---|\n",
       "| sex | sex     |    0 |\n",
       "| dzgroup | dzgroup |    0 |\n",
       "| dzclass | dzclass |    0 |\n",
       "| income | income  | 2982 |\n",
       "| race | race    |   42 |\n",
       "| ca | ca      |    0 |\n",
       "| dnr | dnr     |   30 |\n",
       "| sfdm2 | sfdm2   | 1400 |\n",
       "\n"
      ],
      "text/plain": [
       "        colonne nombre_vides\n",
       "sex     sex        0        \n",
       "dzgroup dzgroup    0        \n",
       "dzclass dzclass    0        \n",
       "income  income  2982        \n",
       "race    race      42        \n",
       "ca      ca         0        \n",
       "dnr     dnr       30        \n",
       "sfdm2   sfdm2   1400        "
      ]
     },
     "metadata": {},
     "output_type": "display_data"
    }
   ],
   "source": [
    "colonnes_chaine <- sapply(data, is.character)\n",
    "\n",
    "nombres_vides <- sapply(data[, colonnes_chaine], function(x) sum(x == \"\"))\n",
    "\n",
    "# Afficher les résultats\n",
    "resultats <- data.frame(\n",
    "  colonne = names(nombres_vides),\n",
    "  nombre_vides = nombres_vides\n",
    ")\n",
    "resultats"
   ]
  },
  {
   "cell_type": "markdown",
   "metadata": {},
   "source": [
    "On va retirer la colonne income, et les lignes ou race et dnr sont vides. On va aussi tester sans la colonne sfmd2 pour l'instant"
   ]
  },
  {
   "cell_type": "code",
   "execution_count": 57,
   "metadata": {
    "vscode": {
     "languageId": "r"
    }
   },
   "outputs": [
    {
     "data": {
      "text/html": [
       "<table class=\"dataframe\">\n",
       "<caption>A data.frame: 6 × 2</caption>\n",
       "<thead>\n",
       "\t<tr><th></th><th scope=col>colonne</th><th scope=col>nombre_vides</th></tr>\n",
       "\t<tr><th></th><th scope=col>&lt;chr&gt;</th><th scope=col>&lt;int&gt;</th></tr>\n",
       "</thead>\n",
       "<tbody>\n",
       "\t<tr><th scope=row>sex</th><td>sex    </td><td>0</td></tr>\n",
       "\t<tr><th scope=row>dzgroup</th><td>dzgroup</td><td>0</td></tr>\n",
       "\t<tr><th scope=row>dzclass</th><td>dzclass</td><td>0</td></tr>\n",
       "\t<tr><th scope=row>race</th><td>race   </td><td>0</td></tr>\n",
       "\t<tr><th scope=row>ca</th><td>ca     </td><td>0</td></tr>\n",
       "\t<tr><th scope=row>dnr</th><td>dnr    </td><td>0</td></tr>\n",
       "</tbody>\n",
       "</table>\n"
      ],
      "text/latex": [
       "A data.frame: 6 × 2\n",
       "\\begin{tabular}{r|ll}\n",
       "  & colonne & nombre\\_vides\\\\\n",
       "  & <chr> & <int>\\\\\n",
       "\\hline\n",
       "\tsex & sex     & 0\\\\\n",
       "\tdzgroup & dzgroup & 0\\\\\n",
       "\tdzclass & dzclass & 0\\\\\n",
       "\trace & race    & 0\\\\\n",
       "\tca & ca      & 0\\\\\n",
       "\tdnr & dnr     & 0\\\\\n",
       "\\end{tabular}\n"
      ],
      "text/markdown": [
       "\n",
       "A data.frame: 6 × 2\n",
       "\n",
       "| <!--/--> | colonne &lt;chr&gt; | nombre_vides &lt;int&gt; |\n",
       "|---|---|---|\n",
       "| sex | sex     | 0 |\n",
       "| dzgroup | dzgroup | 0 |\n",
       "| dzclass | dzclass | 0 |\n",
       "| race | race    | 0 |\n",
       "| ca | ca      | 0 |\n",
       "| dnr | dnr     | 0 |\n",
       "\n"
      ],
      "text/plain": [
       "        colonne nombre_vides\n",
       "sex     sex     0           \n",
       "dzgroup dzgroup 0           \n",
       "dzclass dzclass 0           \n",
       "race    race    0           \n",
       "ca      ca      0           \n",
       "dnr     dnr     0           "
      ]
     },
     "metadata": {},
     "output_type": "display_data"
    }
   ],
   "source": [
    "data <- data[, !names(data) %in% \"income\"]\n",
    "data <- data[, !names(data) %in% \"sfdm2\"]\n",
    "data <- data[!(is.na(data$race) | data$race == \"\"), ]\n",
    "data <- data[!(is.na(data$dnr) | data$dnr == \"\"), ]\n",
    "\n",
    "colonnes_chaine <- sapply(data, is.character)\n",
    "\n",
    "nombres_vides <- sapply(data[, colonnes_chaine], function(x) sum(x == \"\"))\n",
    "\n",
    "# Afficher les résultats\n",
    "resultats <- data.frame(\n",
    "  colonne = names(nombres_vides),\n",
    "  nombre_vides = nombres_vides\n",
    ")\n",
    "resultats"
   ]
  },
  {
   "cell_type": "code",
   "execution_count": 58,
   "metadata": {
    "vscode": {
     "languageId": "r"
    }
   },
   "outputs": [
    {
     "data": {
      "text/html": [
       "<table class=\"dataframe\">\n",
       "<caption>A data.frame: 6 × 45</caption>\n",
       "<thead>\n",
       "\t<tr><th></th><th scope=col>age</th><th scope=col>death</th><th scope=col>sex</th><th scope=col>hospdead</th><th scope=col>slos</th><th scope=col>d.time</th><th scope=col>dzgroup</th><th scope=col>dzclass</th><th scope=col>num.co</th><th scope=col>edu</th><th scope=col>⋯</th><th scope=col>bili</th><th scope=col>crea</th><th scope=col>sod</th><th scope=col>ph</th><th scope=col>glucose</th><th scope=col>bun</th><th scope=col>urine</th><th scope=col>adlp</th><th scope=col>adls</th><th scope=col>adlsc</th></tr>\n",
       "\t<tr><th></th><th scope=col>&lt;dbl&gt;</th><th scope=col>&lt;int&gt;</th><th scope=col>&lt;chr&gt;</th><th scope=col>&lt;int&gt;</th><th scope=col>&lt;int&gt;</th><th scope=col>&lt;int&gt;</th><th scope=col>&lt;chr&gt;</th><th scope=col>&lt;chr&gt;</th><th scope=col>&lt;int&gt;</th><th scope=col>&lt;int&gt;</th><th scope=col>⋯</th><th scope=col>&lt;dbl&gt;</th><th scope=col>&lt;dbl&gt;</th><th scope=col>&lt;dbl&gt;</th><th scope=col>&lt;dbl&gt;</th><th scope=col>&lt;dbl&gt;</th><th scope=col>&lt;dbl&gt;</th><th scope=col>&lt;dbl&gt;</th><th scope=col>&lt;dbl&gt;</th><th scope=col>&lt;dbl&gt;</th><th scope=col>&lt;dbl&gt;</th></tr>\n",
       "</thead>\n",
       "<tbody>\n",
       "\t<tr><th scope=row>1</th><td>62.84998</td><td>0</td><td>male  </td><td>0</td><td> 5</td><td>2029</td><td>Lung Cancer      </td><td>Cancer            </td><td>0</td><td>11</td><td>⋯</td><td>0.1999817</td><td>1.1999512</td><td>141</td><td>7.459961</td><td>135</td><td>23</td><td>2502</td><td>7</td><td>7</td><td>7</td></tr>\n",
       "\t<tr><th scope=row>3</th><td>52.74698</td><td>1</td><td>female</td><td>0</td><td>17</td><td>  47</td><td>Cirrhosis        </td><td>COPD/CHF/Cirrhosis</td><td>2</td><td>12</td><td>⋯</td><td>2.1997070</td><td>2.0000000</td><td>134</td><td>7.459961</td><td>135</td><td>23</td><td>2502</td><td>1</td><td>0</td><td>0</td></tr>\n",
       "\t<tr><th scope=row>4</th><td>42.38498</td><td>1</td><td>female</td><td>0</td><td> 3</td><td> 133</td><td>Lung Cancer      </td><td>Cancer            </td><td>2</td><td>11</td><td>⋯</td><td>0.8999023</td><td>0.7999268</td><td>139</td><td>7.419922</td><td>135</td><td>23</td><td>2502</td><td>0</td><td>0</td><td>0</td></tr>\n",
       "\t<tr><th scope=row>5</th><td>79.88495</td><td>0</td><td>female</td><td>0</td><td>16</td><td>2029</td><td>ARF/MOSF w/Sepsis</td><td>ARF/MOSF          </td><td>1</td><td>12</td><td>⋯</td><td>0.8999023</td><td>0.7999268</td><td>143</td><td>7.509766</td><td>135</td><td>23</td><td>2502</td><td>0</td><td>2</td><td>2</td></tr>\n",
       "\t<tr><th scope=row>6</th><td>93.01599</td><td>1</td><td>male  </td><td>1</td><td> 4</td><td>   4</td><td>Coma             </td><td>Coma              </td><td>1</td><td>14</td><td>⋯</td><td>0.8999023</td><td>0.6999512</td><td>140</td><td>7.659180</td><td>135</td><td>23</td><td>2502</td><td>0</td><td>1</td><td>1</td></tr>\n",
       "\t<tr><th scope=row>7</th><td>62.37097</td><td>1</td><td>male  </td><td>0</td><td> 9</td><td> 659</td><td>CHF              </td><td>COPD/CHF/Cirrhosis</td><td>1</td><td>14</td><td>⋯</td><td>0.3999634</td><td>1.5998535</td><td>132</td><td>7.479492</td><td>135</td><td>23</td><td>2502</td><td>0</td><td>1</td><td>1</td></tr>\n",
       "</tbody>\n",
       "</table>\n"
      ],
      "text/latex": [
       "A data.frame: 6 × 45\n",
       "\\begin{tabular}{r|lllllllllllllllllllll}\n",
       "  & age & death & sex & hospdead & slos & d.time & dzgroup & dzclass & num.co & edu & ⋯ & bili & crea & sod & ph & glucose & bun & urine & adlp & adls & adlsc\\\\\n",
       "  & <dbl> & <int> & <chr> & <int> & <int> & <int> & <chr> & <chr> & <int> & <int> & ⋯ & <dbl> & <dbl> & <dbl> & <dbl> & <dbl> & <dbl> & <dbl> & <dbl> & <dbl> & <dbl>\\\\\n",
       "\\hline\n",
       "\t1 & 62.84998 & 0 & male   & 0 &  5 & 2029 & Lung Cancer       & Cancer             & 0 & 11 & ⋯ & 0.1999817 & 1.1999512 & 141 & 7.459961 & 135 & 23 & 2502 & 7 & 7 & 7\\\\\n",
       "\t3 & 52.74698 & 1 & female & 0 & 17 &   47 & Cirrhosis         & COPD/CHF/Cirrhosis & 2 & 12 & ⋯ & 2.1997070 & 2.0000000 & 134 & 7.459961 & 135 & 23 & 2502 & 1 & 0 & 0\\\\\n",
       "\t4 & 42.38498 & 1 & female & 0 &  3 &  133 & Lung Cancer       & Cancer             & 2 & 11 & ⋯ & 0.8999023 & 0.7999268 & 139 & 7.419922 & 135 & 23 & 2502 & 0 & 0 & 0\\\\\n",
       "\t5 & 79.88495 & 0 & female & 0 & 16 & 2029 & ARF/MOSF w/Sepsis & ARF/MOSF           & 1 & 12 & ⋯ & 0.8999023 & 0.7999268 & 143 & 7.509766 & 135 & 23 & 2502 & 0 & 2 & 2\\\\\n",
       "\t6 & 93.01599 & 1 & male   & 1 &  4 &    4 & Coma              & Coma               & 1 & 14 & ⋯ & 0.8999023 & 0.6999512 & 140 & 7.659180 & 135 & 23 & 2502 & 0 & 1 & 1\\\\\n",
       "\t7 & 62.37097 & 1 & male   & 0 &  9 &  659 & CHF               & COPD/CHF/Cirrhosis & 1 & 14 & ⋯ & 0.3999634 & 1.5998535 & 132 & 7.479492 & 135 & 23 & 2502 & 0 & 1 & 1\\\\\n",
       "\\end{tabular}\n"
      ],
      "text/markdown": [
       "\n",
       "A data.frame: 6 × 45\n",
       "\n",
       "| <!--/--> | age &lt;dbl&gt; | death &lt;int&gt; | sex &lt;chr&gt; | hospdead &lt;int&gt; | slos &lt;int&gt; | d.time &lt;int&gt; | dzgroup &lt;chr&gt; | dzclass &lt;chr&gt; | num.co &lt;int&gt; | edu &lt;int&gt; | ⋯ ⋯ | bili &lt;dbl&gt; | crea &lt;dbl&gt; | sod &lt;dbl&gt; | ph &lt;dbl&gt; | glucose &lt;dbl&gt; | bun &lt;dbl&gt; | urine &lt;dbl&gt; | adlp &lt;dbl&gt; | adls &lt;dbl&gt; | adlsc &lt;dbl&gt; |\n",
       "|---|---|---|---|---|---|---|---|---|---|---|---|---|---|---|---|---|---|---|---|---|---|\n",
       "| 1 | 62.84998 | 0 | male   | 0 |  5 | 2029 | Lung Cancer       | Cancer             | 0 | 11 | ⋯ | 0.1999817 | 1.1999512 | 141 | 7.459961 | 135 | 23 | 2502 | 7 | 7 | 7 |\n",
       "| 3 | 52.74698 | 1 | female | 0 | 17 |   47 | Cirrhosis         | COPD/CHF/Cirrhosis | 2 | 12 | ⋯ | 2.1997070 | 2.0000000 | 134 | 7.459961 | 135 | 23 | 2502 | 1 | 0 | 0 |\n",
       "| 4 | 42.38498 | 1 | female | 0 |  3 |  133 | Lung Cancer       | Cancer             | 2 | 11 | ⋯ | 0.8999023 | 0.7999268 | 139 | 7.419922 | 135 | 23 | 2502 | 0 | 0 | 0 |\n",
       "| 5 | 79.88495 | 0 | female | 0 | 16 | 2029 | ARF/MOSF w/Sepsis | ARF/MOSF           | 1 | 12 | ⋯ | 0.8999023 | 0.7999268 | 143 | 7.509766 | 135 | 23 | 2502 | 0 | 2 | 2 |\n",
       "| 6 | 93.01599 | 1 | male   | 1 |  4 |    4 | Coma              | Coma               | 1 | 14 | ⋯ | 0.8999023 | 0.6999512 | 140 | 7.659180 | 135 | 23 | 2502 | 0 | 1 | 1 |\n",
       "| 7 | 62.37097 | 1 | male   | 0 |  9 |  659 | CHF               | COPD/CHF/Cirrhosis | 1 | 14 | ⋯ | 0.3999634 | 1.5998535 | 132 | 7.479492 | 135 | 23 | 2502 | 0 | 1 | 1 |\n",
       "\n"
      ],
      "text/plain": [
       "  age      death sex    hospdead slos d.time dzgroup          \n",
       "1 62.84998 0     male   0         5   2029   Lung Cancer      \n",
       "3 52.74698 1     female 0        17     47   Cirrhosis        \n",
       "4 42.38498 1     female 0         3    133   Lung Cancer      \n",
       "5 79.88495 0     female 0        16   2029   ARF/MOSF w/Sepsis\n",
       "6 93.01599 1     male   1         4      4   Coma             \n",
       "7 62.37097 1     male   0         9    659   CHF              \n",
       "  dzclass            num.co edu ⋯ bili      crea      sod ph       glucose bun\n",
       "1 Cancer             0      11  ⋯ 0.1999817 1.1999512 141 7.459961 135     23 \n",
       "3 COPD/CHF/Cirrhosis 2      12  ⋯ 2.1997070 2.0000000 134 7.459961 135     23 \n",
       "4 Cancer             2      11  ⋯ 0.8999023 0.7999268 139 7.419922 135     23 \n",
       "5 ARF/MOSF           1      12  ⋯ 0.8999023 0.7999268 143 7.509766 135     23 \n",
       "6 Coma               1      14  ⋯ 0.8999023 0.6999512 140 7.659180 135     23 \n",
       "7 COPD/CHF/Cirrhosis 1      14  ⋯ 0.3999634 1.5998535 132 7.479492 135     23 \n",
       "  urine adlp adls adlsc\n",
       "1 2502  7    7    7    \n",
       "3 2502  1    0    0    \n",
       "4 2502  0    0    0    \n",
       "5 2502  0    2    2    \n",
       "6 2502  0    1    1    \n",
       "7 2502  0    1    1    "
      ]
     },
     "metadata": {},
     "output_type": "display_data"
    }
   ],
   "source": [
    "head(data)"
   ]
  },
  {
   "cell_type": "code",
   "execution_count": 63,
   "metadata": {
    "vscode": {
     "languageId": "r"
    }
   },
   "outputs": [
    {
     "data": {
      "text/plain": [
       "\n",
       "Call:\n",
       "lm(formula = hospdead ~ ., data = data)\n",
       "\n",
       "Residuals:\n",
       "     Min       1Q   Median       3Q      Max \n",
       "-1.15163 -0.16121 -0.00884  0.13969  1.29805 \n",
       "\n",
       "Coefficients: (3 not defined because of singularities)\n",
       "                            Estimate Std. Error t value Pr(>|t|)    \n",
       "(Intercept)                6.999e-01  3.445e-01   2.032 0.042216 *  \n",
       "age                       -4.551e-04  2.776e-04  -1.639 0.101189    \n",
       "death                      9.584e-02  9.313e-03  10.291  < 2e-16 ***\n",
       "sexmale                   -1.518e-03  5.947e-03  -0.255 0.798577    \n",
       "slos                      -5.546e-03  3.304e-04 -16.789  < 2e-16 ***\n",
       "d.time                    -1.148e-04  8.012e-06 -14.326  < 2e-16 ***\n",
       "dzgroupCHF                 4.338e-02  1.128e-02   3.846 0.000121 ***\n",
       "dzgroupCirrhosis           7.814e-02  1.592e-02   4.910 9.29e-07 ***\n",
       "dzgroupColon Cancer        6.394e-02  2.353e-02   2.717 0.006604 ** \n",
       "dzgroupComa                1.004e-02  1.620e-02   0.620 0.535436    \n",
       "dzgroupCOPD                2.367e-02  1.199e-02   1.974 0.048441 *  \n",
       "dzgroupLung Cancer         6.585e-02  2.450e-02   2.688 0.007196 ** \n",
       "dzgroupMOSF w/Malig       -2.177e-02  1.590e-02  -1.369 0.170899    \n",
       "dzclassCancer                     NA         NA      NA       NA    \n",
       "dzclassComa                       NA         NA      NA       NA    \n",
       "dzclassCOPD/CHF/Cirrhosis         NA         NA      NA       NA    \n",
       "num.co                    -1.044e-02  2.825e-03  -3.695 0.000221 ***\n",
       "edu                        2.287e-03  9.599e-04   2.382 0.017229 *  \n",
       "scoma                      9.214e-05  2.076e-04   0.444 0.657243    \n",
       "charges                    2.609e-08  4.800e-08   0.544 0.586756    \n",
       "totcst                     6.590e-07  1.288e-07   5.118 3.16e-07 ***\n",
       "totmcst                   -8.611e-07  1.184e-07  -7.271 3.88e-13 ***\n",
       "avtisst                    1.049e-02  3.491e-04  30.052  < 2e-16 ***\n",
       "raceblack                  1.217e-02  3.225e-02   0.377 0.705936    \n",
       "racehispanic              -2.366e-02  3.512e-02  -0.674 0.500417    \n",
       "raceother                  7.704e-04  4.061e-02   0.019 0.984865    \n",
       "racewhite                 -1.842e-02  3.145e-02  -0.586 0.558151    \n",
       "sps                       -1.172e-03  7.972e-04  -1.470 0.141722    \n",
       "aps                        9.820e-04  2.797e-04   3.511 0.000448 ***\n",
       "surv2m                    -9.092e-01  8.462e-02 -10.744  < 2e-16 ***\n",
       "surv6m                     6.533e-01  7.563e-02   8.638  < 2e-16 ***\n",
       "hday                       8.092e-04  3.926e-04   2.061 0.039345 *  \n",
       "diabetes                  -2.044e-03  8.296e-03  -0.246 0.805368    \n",
       "dementia                  -3.148e-02  1.772e-02  -1.777 0.075600 .  \n",
       "cano                       3.319e-02  1.785e-02   1.859 0.063026 .  \n",
       "cayes                      1.912e-02  1.648e-02   1.160 0.245996    \n",
       "prg2m                     -9.362e-02  2.634e-02  -3.555 0.000380 ***\n",
       "prg6m                      4.133e-02  2.564e-02   1.612 0.106995    \n",
       "dnrdnr before sadm        -1.291e-01  1.907e-02  -6.770 1.37e-11 ***\n",
       "dnrno dnr                 -3.284e-01  8.552e-03 -38.394  < 2e-16 ***\n",
       "dnrday                     3.887e-03  3.647e-04  10.657  < 2e-16 ***\n",
       "meanbp                     1.761e-04  1.108e-04   1.589 0.112108    \n",
       "wblc                      -9.871e-07  3.304e-04  -0.003 0.997617    \n",
       "hrt                       -6.725e-05  1.022e-04  -0.658 0.510537    \n",
       "resp                      -4.454e-04  3.149e-04  -1.414 0.157272    \n",
       "temp                      -3.685e-04  2.511e-03  -0.147 0.883315    \n",
       "pafi                       3.509e-05  3.109e-05   1.129 0.259051    \n",
       "alb                       -3.676e-03  4.148e-03  -0.886 0.375472    \n",
       "bili                       6.096e-04  6.942e-04   0.878 0.379886    \n",
       "crea                       1.170e-04  2.108e-03   0.056 0.955726    \n",
       "sod                        1.113e-04  4.937e-04   0.225 0.821635    \n",
       "ph                        -2.248e-02  4.331e-02  -0.519 0.603818    \n",
       "glucose                   -4.987e-05  4.638e-05  -1.075 0.282364    \n",
       "bun                       -8.625e-05  1.782e-04  -0.484 0.628309    \n",
       "urine                     -4.526e-07  3.044e-06  -0.149 0.881803    \n",
       "adlp                      -9.742e-03  2.556e-03  -3.811 0.000139 ***\n",
       "adls                      -1.432e-02  3.377e-03  -4.239 2.27e-05 ***\n",
       "adlsc                      1.458e-02  3.264e-03   4.466 8.08e-06 ***\n",
       "---\n",
       "Signif. codes:  0 ‘***’ 0.001 ‘**’ 0.01 ‘*’ 0.05 ‘.’ 0.1 ‘ ’ 1\n",
       "\n",
       "Residual standard error: 0.2746 on 8978 degrees of freedom\n",
       "Multiple R-squared:  0.6082,\tAdjusted R-squared:  0.6059 \n",
       "F-statistic: 258.1 on 54 and 8978 DF,  p-value: < 2.2e-16\n"
      ]
     },
     "metadata": {},
     "output_type": "display_data"
    }
   ],
   "source": [
    "model = lm(hospdead ~ ., data=data)\n",
    "summary(model)"
   ]
  }
 ],
 "metadata": {
  "kernelspec": {
   "display_name": "R",
   "language": "R",
   "name": "ir"
  },
  "language_info": {
   "codemirror_mode": "r",
   "file_extension": ".r",
   "mimetype": "text/x-r-source",
   "name": "R",
   "pygments_lexer": "r",
   "version": "4.2.2"
  }
 },
 "nbformat": 4,
 "nbformat_minor": 2
}
