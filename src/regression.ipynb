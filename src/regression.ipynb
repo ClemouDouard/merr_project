{
 "cells": [
  {
   "cell_type": "markdown",
   "metadata": {},
   "source": [
    "ROCHETTE\n",
    "LEVEQUE\n",
    "\n",
    "# Chargement des Données\n",
    "\n",
    "Nous importons le dataset pour obtenir une vue d'ensemble de ses caractéristiques et de ses variables."
   ]
  },
  {
   "cell_type": "code",
   "execution_count": 56,
   "metadata": {
    "vscode": {
     "languageId": "r"
    }
   },
   "outputs": [
    {
     "data": {
      "text/html": [
       "<table class=\"dataframe\">\n",
       "<caption>A data.frame: 6 × 47</caption>\n",
       "<thead>\n",
       "\t<tr><th></th><th scope=col>age</th><th scope=col>death</th><th scope=col>sex</th><th scope=col>hospdead</th><th scope=col>slos</th><th scope=col>d.time</th><th scope=col>dzgroup</th><th scope=col>dzclass</th><th scope=col>num.co</th><th scope=col>edu</th><th scope=col>⋯</th><th scope=col>crea</th><th scope=col>sod</th><th scope=col>ph</th><th scope=col>glucose</th><th scope=col>bun</th><th scope=col>urine</th><th scope=col>adlp</th><th scope=col>adls</th><th scope=col>sfdm2</th><th scope=col>adlsc</th></tr>\n",
       "\t<tr><th></th><th scope=col>&lt;dbl&gt;</th><th scope=col>&lt;int&gt;</th><th scope=col>&lt;chr&gt;</th><th scope=col>&lt;int&gt;</th><th scope=col>&lt;int&gt;</th><th scope=col>&lt;int&gt;</th><th scope=col>&lt;chr&gt;</th><th scope=col>&lt;chr&gt;</th><th scope=col>&lt;int&gt;</th><th scope=col>&lt;int&gt;</th><th scope=col>⋯</th><th scope=col>&lt;dbl&gt;</th><th scope=col>&lt;int&gt;</th><th scope=col>&lt;dbl&gt;</th><th scope=col>&lt;dbl&gt;</th><th scope=col>&lt;dbl&gt;</th><th scope=col>&lt;dbl&gt;</th><th scope=col>&lt;int&gt;</th><th scope=col>&lt;int&gt;</th><th scope=col>&lt;chr&gt;</th><th scope=col>&lt;dbl&gt;</th></tr>\n",
       "</thead>\n",
       "<tbody>\n",
       "\t<tr><th scope=row>1</th><td>62.84998</td><td>0</td><td>male  </td><td>0</td><td> 5</td><td>2029</td><td>Lung Cancer      </td><td>Cancer            </td><td>0</td><td>11</td><td>⋯</td><td>1.1999512</td><td>141</td><td>7.459961</td><td>NA</td><td>NA</td><td>NA</td><td> 7</td><td>7</td><td>                   </td><td>7</td></tr>\n",
       "\t<tr><th scope=row>2</th><td>60.33899</td><td>1</td><td>female</td><td>1</td><td> 4</td><td><span style=white-space:pre-wrap>   4</span></td><td><span style=white-space:pre-wrap>Cirrhosis        </span></td><td>COPD/CHF/Cirrhosis</td><td>2</td><td>12</td><td>⋯</td><td>5.5000000</td><td>132</td><td>7.250000</td><td>NA</td><td>NA</td><td>NA</td><td>NA</td><td>1</td><td><span style=white-space:pre-wrap>&lt;2 mo. follow-up   </span></td><td>1</td></tr>\n",
       "\t<tr><th scope=row>3</th><td>52.74698</td><td>1</td><td>female</td><td>0</td><td>17</td><td><span style=white-space:pre-wrap>  47</span></td><td><span style=white-space:pre-wrap>Cirrhosis        </span></td><td>COPD/CHF/Cirrhosis</td><td>2</td><td>12</td><td>⋯</td><td>2.0000000</td><td>134</td><td>7.459961</td><td>NA</td><td>NA</td><td>NA</td><td> 1</td><td>0</td><td><span style=white-space:pre-wrap>&lt;2 mo. follow-up   </span></td><td>0</td></tr>\n",
       "\t<tr><th scope=row>4</th><td>42.38498</td><td>1</td><td>female</td><td>0</td><td> 3</td><td> 133</td><td>Lung Cancer      </td><td>Cancer            </td><td>2</td><td>11</td><td>⋯</td><td>0.7999268</td><td>139</td><td>      NA</td><td>NA</td><td>NA</td><td>NA</td><td> 0</td><td>0</td><td>no(M2 and SIP pres)</td><td>0</td></tr>\n",
       "\t<tr><th scope=row>5</th><td>79.88495</td><td>0</td><td>female</td><td>0</td><td>16</td><td>2029</td><td>ARF/MOSF w/Sepsis</td><td>ARF/MOSF          </td><td>1</td><td>NA</td><td>⋯</td><td>0.7999268</td><td>143</td><td>7.509766</td><td>NA</td><td>NA</td><td>NA</td><td>NA</td><td>2</td><td>no(M2 and SIP pres)</td><td>2</td></tr>\n",
       "\t<tr><th scope=row>6</th><td>93.01599</td><td>1</td><td><span style=white-space:pre-wrap>male  </span></td><td>1</td><td> 4</td><td><span style=white-space:pre-wrap>   4</span></td><td><span style=white-space:pre-wrap>Coma             </span></td><td><span style=white-space:pre-wrap>Coma              </span></td><td>1</td><td>14</td><td>⋯</td><td>0.6999512</td><td>140</td><td>7.659180</td><td>NA</td><td>NA</td><td>NA</td><td>NA</td><td>1</td><td><span style=white-space:pre-wrap>&lt;2 mo. follow-up   </span></td><td>1</td></tr>\n",
       "</tbody>\n",
       "</table>\n"
      ],
      "text/latex": [
       "A data.frame: 6 × 47\n",
       "\\begin{tabular}{r|lllllllllllllllllllll}\n",
       "  & age & death & sex & hospdead & slos & d.time & dzgroup & dzclass & num.co & edu & ⋯ & crea & sod & ph & glucose & bun & urine & adlp & adls & sfdm2 & adlsc\\\\\n",
       "  & <dbl> & <int> & <chr> & <int> & <int> & <int> & <chr> & <chr> & <int> & <int> & ⋯ & <dbl> & <int> & <dbl> & <dbl> & <dbl> & <dbl> & <int> & <int> & <chr> & <dbl>\\\\\n",
       "\\hline\n",
       "\t1 & 62.84998 & 0 & male   & 0 &  5 & 2029 & Lung Cancer       & Cancer             & 0 & 11 & ⋯ & 1.1999512 & 141 & 7.459961 & NA & NA & NA &  7 & 7 &                     & 7\\\\\n",
       "\t2 & 60.33899 & 1 & female & 1 &  4 &    4 & Cirrhosis         & COPD/CHF/Cirrhosis & 2 & 12 & ⋯ & 5.5000000 & 132 & 7.250000 & NA & NA & NA & NA & 1 & <2 mo. follow-up    & 1\\\\\n",
       "\t3 & 52.74698 & 1 & female & 0 & 17 &   47 & Cirrhosis         & COPD/CHF/Cirrhosis & 2 & 12 & ⋯ & 2.0000000 & 134 & 7.459961 & NA & NA & NA &  1 & 0 & <2 mo. follow-up    & 0\\\\\n",
       "\t4 & 42.38498 & 1 & female & 0 &  3 &  133 & Lung Cancer       & Cancer             & 2 & 11 & ⋯ & 0.7999268 & 139 &       NA & NA & NA & NA &  0 & 0 & no(M2 and SIP pres) & 0\\\\\n",
       "\t5 & 79.88495 & 0 & female & 0 & 16 & 2029 & ARF/MOSF w/Sepsis & ARF/MOSF           & 1 & NA & ⋯ & 0.7999268 & 143 & 7.509766 & NA & NA & NA & NA & 2 & no(M2 and SIP pres) & 2\\\\\n",
       "\t6 & 93.01599 & 1 & male   & 1 &  4 &    4 & Coma              & Coma               & 1 & 14 & ⋯ & 0.6999512 & 140 & 7.659180 & NA & NA & NA & NA & 1 & <2 mo. follow-up    & 1\\\\\n",
       "\\end{tabular}\n"
      ],
      "text/markdown": [
       "\n",
       "A data.frame: 6 × 47\n",
       "\n",
       "| <!--/--> | age &lt;dbl&gt; | death &lt;int&gt; | sex &lt;chr&gt; | hospdead &lt;int&gt; | slos &lt;int&gt; | d.time &lt;int&gt; | dzgroup &lt;chr&gt; | dzclass &lt;chr&gt; | num.co &lt;int&gt; | edu &lt;int&gt; | ⋯ ⋯ | crea &lt;dbl&gt; | sod &lt;int&gt; | ph &lt;dbl&gt; | glucose &lt;dbl&gt; | bun &lt;dbl&gt; | urine &lt;dbl&gt; | adlp &lt;int&gt; | adls &lt;int&gt; | sfdm2 &lt;chr&gt; | adlsc &lt;dbl&gt; |\n",
       "|---|---|---|---|---|---|---|---|---|---|---|---|---|---|---|---|---|---|---|---|---|---|\n",
       "| 1 | 62.84998 | 0 | male   | 0 |  5 | 2029 | Lung Cancer       | Cancer             | 0 | 11 | ⋯ | 1.1999512 | 141 | 7.459961 | NA | NA | NA |  7 | 7 | <!----> | 7 |\n",
       "| 2 | 60.33899 | 1 | female | 1 |  4 |    4 | Cirrhosis         | COPD/CHF/Cirrhosis | 2 | 12 | ⋯ | 5.5000000 | 132 | 7.250000 | NA | NA | NA | NA | 1 | &lt;2 mo. follow-up    | 1 |\n",
       "| 3 | 52.74698 | 1 | female | 0 | 17 |   47 | Cirrhosis         | COPD/CHF/Cirrhosis | 2 | 12 | ⋯ | 2.0000000 | 134 | 7.459961 | NA | NA | NA |  1 | 0 | &lt;2 mo. follow-up    | 0 |\n",
       "| 4 | 42.38498 | 1 | female | 0 |  3 |  133 | Lung Cancer       | Cancer             | 2 | 11 | ⋯ | 0.7999268 | 139 |       NA | NA | NA | NA |  0 | 0 | no(M2 and SIP pres) | 0 |\n",
       "| 5 | 79.88495 | 0 | female | 0 | 16 | 2029 | ARF/MOSF w/Sepsis | ARF/MOSF           | 1 | NA | ⋯ | 0.7999268 | 143 | 7.509766 | NA | NA | NA | NA | 2 | no(M2 and SIP pres) | 2 |\n",
       "| 6 | 93.01599 | 1 | male   | 1 |  4 |    4 | Coma              | Coma               | 1 | 14 | ⋯ | 0.6999512 | 140 | 7.659180 | NA | NA | NA | NA | 1 | &lt;2 mo. follow-up    | 1 |\n",
       "\n"
      ],
      "text/plain": [
       "  age      death sex    hospdead slos d.time dzgroup          \n",
       "1 62.84998 0     male   0         5   2029   Lung Cancer      \n",
       "2 60.33899 1     female 1         4      4   Cirrhosis        \n",
       "3 52.74698 1     female 0        17     47   Cirrhosis        \n",
       "4 42.38498 1     female 0         3    133   Lung Cancer      \n",
       "5 79.88495 0     female 0        16   2029   ARF/MOSF w/Sepsis\n",
       "6 93.01599 1     male   1         4      4   Coma             \n",
       "  dzclass            num.co edu ⋯ crea      sod ph       glucose bun urine adlp\n",
       "1 Cancer             0      11  ⋯ 1.1999512 141 7.459961 NA      NA  NA     7  \n",
       "2 COPD/CHF/Cirrhosis 2      12  ⋯ 5.5000000 132 7.250000 NA      NA  NA    NA  \n",
       "3 COPD/CHF/Cirrhosis 2      12  ⋯ 2.0000000 134 7.459961 NA      NA  NA     1  \n",
       "4 Cancer             2      11  ⋯ 0.7999268 139       NA NA      NA  NA     0  \n",
       "5 ARF/MOSF           1      NA  ⋯ 0.7999268 143 7.509766 NA      NA  NA    NA  \n",
       "6 Coma               1      14  ⋯ 0.6999512 140 7.659180 NA      NA  NA    NA  \n",
       "  adls sfdm2               adlsc\n",
       "1 7                        7    \n",
       "2 1    <2 mo. follow-up    1    \n",
       "3 0    <2 mo. follow-up    0    \n",
       "4 0    no(M2 and SIP pres) 0    \n",
       "5 2    no(M2 and SIP pres) 2    \n",
       "6 1    <2 mo. follow-up    1    "
      ]
     },
     "metadata": {},
     "output_type": "display_data"
    }
   ],
   "source": [
    "data <- read.csv(\"../data/support2.csv\")\n",
    "head(data)"
   ]
  },
  {
   "cell_type": "markdown",
   "metadata": {},
   "source": [
    "# On va utiliser tout le dataset, en rajoutant des valeurs moyennes"
   ]
  },
  {
   "cell_type": "code",
   "execution_count": 2,
   "metadata": {
    "vscode": {
     "languageId": "r"
    }
   },
   "outputs": [],
   "source": [
    "data$pafi[is.na(data$pafi)] <- 333.3\n",
    "data$alb[is.na(data$alb)] <- 3.5\n",
    "data$bun[is.na(data$bun)] <- 6.51\n",
    "data$urine[is.na(data$urine)] <- 2502"
   ]
  },
  {
   "cell_type": "code",
   "execution_count": 3,
   "metadata": {
    "vscode": {
     "languageId": "r"
    }
   },
   "outputs": [
    {
     "data": {
      "text/html": [
       "<table class=\"dataframe\">\n",
       "<caption>A data.frame: 6 × 47</caption>\n",
       "<thead>\n",
       "\t<tr><th></th><th scope=col>age</th><th scope=col>death</th><th scope=col>sex</th><th scope=col>hospdead</th><th scope=col>slos</th><th scope=col>d.time</th><th scope=col>dzgroup</th><th scope=col>dzclass</th><th scope=col>num.co</th><th scope=col>edu</th><th scope=col>⋯</th><th scope=col>crea</th><th scope=col>sod</th><th scope=col>ph</th><th scope=col>glucose</th><th scope=col>bun</th><th scope=col>urine</th><th scope=col>adlp</th><th scope=col>adls</th><th scope=col>sfdm2</th><th scope=col>adlsc</th></tr>\n",
       "\t<tr><th></th><th scope=col>&lt;dbl&gt;</th><th scope=col>&lt;int&gt;</th><th scope=col>&lt;chr&gt;</th><th scope=col>&lt;int&gt;</th><th scope=col>&lt;int&gt;</th><th scope=col>&lt;int&gt;</th><th scope=col>&lt;chr&gt;</th><th scope=col>&lt;chr&gt;</th><th scope=col>&lt;int&gt;</th><th scope=col>&lt;int&gt;</th><th scope=col>⋯</th><th scope=col>&lt;dbl&gt;</th><th scope=col>&lt;dbl&gt;</th><th scope=col>&lt;dbl&gt;</th><th scope=col>&lt;dbl&gt;</th><th scope=col>&lt;dbl&gt;</th><th scope=col>&lt;dbl&gt;</th><th scope=col>&lt;dbl&gt;</th><th scope=col>&lt;dbl&gt;</th><th scope=col>&lt;chr&gt;</th><th scope=col>&lt;dbl&gt;</th></tr>\n",
       "</thead>\n",
       "<tbody>\n",
       "\t<tr><th scope=row>1</th><td>62.84998</td><td>0</td><td>male  </td><td>0</td><td> 5</td><td>2029</td><td>Lung Cancer      </td><td>Cancer            </td><td>0</td><td>11</td><td>⋯</td><td>1.1999512</td><td>141</td><td>7.459961</td><td>135</td><td>6.51</td><td>2502</td><td>7</td><td>7</td><td>                   </td><td>7</td></tr>\n",
       "\t<tr><th scope=row>2</th><td>60.33899</td><td>1</td><td>female</td><td>1</td><td> 4</td><td><span style=white-space:pre-wrap>   4</span></td><td><span style=white-space:pre-wrap>Cirrhosis        </span></td><td>COPD/CHF/Cirrhosis</td><td>2</td><td>12</td><td>⋯</td><td>5.5000000</td><td>132</td><td>7.250000</td><td>135</td><td>6.51</td><td>2502</td><td>0</td><td>1</td><td><span style=white-space:pre-wrap>&lt;2 mo. follow-up   </span></td><td>1</td></tr>\n",
       "\t<tr><th scope=row>3</th><td>52.74698</td><td>1</td><td>female</td><td>0</td><td>17</td><td><span style=white-space:pre-wrap>  47</span></td><td><span style=white-space:pre-wrap>Cirrhosis        </span></td><td>COPD/CHF/Cirrhosis</td><td>2</td><td>12</td><td>⋯</td><td>2.0000000</td><td>134</td><td>7.459961</td><td>135</td><td>6.51</td><td>2502</td><td>1</td><td>0</td><td><span style=white-space:pre-wrap>&lt;2 mo. follow-up   </span></td><td>0</td></tr>\n",
       "\t<tr><th scope=row>4</th><td>42.38498</td><td>1</td><td>female</td><td>0</td><td> 3</td><td> 133</td><td>Lung Cancer      </td><td>Cancer            </td><td>2</td><td>11</td><td>⋯</td><td>0.7999268</td><td>139</td><td>7.419922</td><td>135</td><td>6.51</td><td>2502</td><td>0</td><td>0</td><td>no(M2 and SIP pres)</td><td>0</td></tr>\n",
       "\t<tr><th scope=row>5</th><td>79.88495</td><td>0</td><td>female</td><td>0</td><td>16</td><td>2029</td><td>ARF/MOSF w/Sepsis</td><td>ARF/MOSF          </td><td>1</td><td>12</td><td>⋯</td><td>0.7999268</td><td>143</td><td>7.509766</td><td>135</td><td>6.51</td><td>2502</td><td>0</td><td>2</td><td>no(M2 and SIP pres)</td><td>2</td></tr>\n",
       "\t<tr><th scope=row>6</th><td>93.01599</td><td>1</td><td><span style=white-space:pre-wrap>male  </span></td><td>1</td><td> 4</td><td><span style=white-space:pre-wrap>   4</span></td><td><span style=white-space:pre-wrap>Coma             </span></td><td><span style=white-space:pre-wrap>Coma              </span></td><td>1</td><td>14</td><td>⋯</td><td>0.6999512</td><td>140</td><td>7.659180</td><td>135</td><td>6.51</td><td>2502</td><td>0</td><td>1</td><td><span style=white-space:pre-wrap>&lt;2 mo. follow-up   </span></td><td>1</td></tr>\n",
       "</tbody>\n",
       "</table>\n"
      ],
      "text/latex": [
       "A data.frame: 6 × 47\n",
       "\\begin{tabular}{r|lllllllllllllllllllll}\n",
       "  & age & death & sex & hospdead & slos & d.time & dzgroup & dzclass & num.co & edu & ⋯ & crea & sod & ph & glucose & bun & urine & adlp & adls & sfdm2 & adlsc\\\\\n",
       "  & <dbl> & <int> & <chr> & <int> & <int> & <int> & <chr> & <chr> & <int> & <int> & ⋯ & <dbl> & <dbl> & <dbl> & <dbl> & <dbl> & <dbl> & <dbl> & <dbl> & <chr> & <dbl>\\\\\n",
       "\\hline\n",
       "\t1 & 62.84998 & 0 & male   & 0 &  5 & 2029 & Lung Cancer       & Cancer             & 0 & 11 & ⋯ & 1.1999512 & 141 & 7.459961 & 135 & 6.51 & 2502 & 7 & 7 &                     & 7\\\\\n",
       "\t2 & 60.33899 & 1 & female & 1 &  4 &    4 & Cirrhosis         & COPD/CHF/Cirrhosis & 2 & 12 & ⋯ & 5.5000000 & 132 & 7.250000 & 135 & 6.51 & 2502 & 0 & 1 & <2 mo. follow-up    & 1\\\\\n",
       "\t3 & 52.74698 & 1 & female & 0 & 17 &   47 & Cirrhosis         & COPD/CHF/Cirrhosis & 2 & 12 & ⋯ & 2.0000000 & 134 & 7.459961 & 135 & 6.51 & 2502 & 1 & 0 & <2 mo. follow-up    & 0\\\\\n",
       "\t4 & 42.38498 & 1 & female & 0 &  3 &  133 & Lung Cancer       & Cancer             & 2 & 11 & ⋯ & 0.7999268 & 139 & 7.419922 & 135 & 6.51 & 2502 & 0 & 0 & no(M2 and SIP pres) & 0\\\\\n",
       "\t5 & 79.88495 & 0 & female & 0 & 16 & 2029 & ARF/MOSF w/Sepsis & ARF/MOSF           & 1 & 12 & ⋯ & 0.7999268 & 143 & 7.509766 & 135 & 6.51 & 2502 & 0 & 2 & no(M2 and SIP pres) & 2\\\\\n",
       "\t6 & 93.01599 & 1 & male   & 1 &  4 &    4 & Coma              & Coma               & 1 & 14 & ⋯ & 0.6999512 & 140 & 7.659180 & 135 & 6.51 & 2502 & 0 & 1 & <2 mo. follow-up    & 1\\\\\n",
       "\\end{tabular}\n"
      ],
      "text/markdown": [
       "\n",
       "A data.frame: 6 × 47\n",
       "\n",
       "| <!--/--> | age &lt;dbl&gt; | death &lt;int&gt; | sex &lt;chr&gt; | hospdead &lt;int&gt; | slos &lt;int&gt; | d.time &lt;int&gt; | dzgroup &lt;chr&gt; | dzclass &lt;chr&gt; | num.co &lt;int&gt; | edu &lt;int&gt; | ⋯ ⋯ | crea &lt;dbl&gt; | sod &lt;dbl&gt; | ph &lt;dbl&gt; | glucose &lt;dbl&gt; | bun &lt;dbl&gt; | urine &lt;dbl&gt; | adlp &lt;dbl&gt; | adls &lt;dbl&gt; | sfdm2 &lt;chr&gt; | adlsc &lt;dbl&gt; |\n",
       "|---|---|---|---|---|---|---|---|---|---|---|---|---|---|---|---|---|---|---|---|---|---|\n",
       "| 1 | 62.84998 | 0 | male   | 0 |  5 | 2029 | Lung Cancer       | Cancer             | 0 | 11 | ⋯ | 1.1999512 | 141 | 7.459961 | 135 | 6.51 | 2502 | 7 | 7 | <!----> | 7 |\n",
       "| 2 | 60.33899 | 1 | female | 1 |  4 |    4 | Cirrhosis         | COPD/CHF/Cirrhosis | 2 | 12 | ⋯ | 5.5000000 | 132 | 7.250000 | 135 | 6.51 | 2502 | 0 | 1 | &lt;2 mo. follow-up    | 1 |\n",
       "| 3 | 52.74698 | 1 | female | 0 | 17 |   47 | Cirrhosis         | COPD/CHF/Cirrhosis | 2 | 12 | ⋯ | 2.0000000 | 134 | 7.459961 | 135 | 6.51 | 2502 | 1 | 0 | &lt;2 mo. follow-up    | 0 |\n",
       "| 4 | 42.38498 | 1 | female | 0 |  3 |  133 | Lung Cancer       | Cancer             | 2 | 11 | ⋯ | 0.7999268 | 139 | 7.419922 | 135 | 6.51 | 2502 | 0 | 0 | no(M2 and SIP pres) | 0 |\n",
       "| 5 | 79.88495 | 0 | female | 0 | 16 | 2029 | ARF/MOSF w/Sepsis | ARF/MOSF           | 1 | 12 | ⋯ | 0.7999268 | 143 | 7.509766 | 135 | 6.51 | 2502 | 0 | 2 | no(M2 and SIP pres) | 2 |\n",
       "| 6 | 93.01599 | 1 | male   | 1 |  4 |    4 | Coma              | Coma               | 1 | 14 | ⋯ | 0.6999512 | 140 | 7.659180 | 135 | 6.51 | 2502 | 0 | 1 | &lt;2 mo. follow-up    | 1 |\n",
       "\n"
      ],
      "text/plain": [
       "  age      death sex    hospdead slos d.time dzgroup          \n",
       "1 62.84998 0     male   0         5   2029   Lung Cancer      \n",
       "2 60.33899 1     female 1         4      4   Cirrhosis        \n",
       "3 52.74698 1     female 0        17     47   Cirrhosis        \n",
       "4 42.38498 1     female 0         3    133   Lung Cancer      \n",
       "5 79.88495 0     female 0        16   2029   ARF/MOSF w/Sepsis\n",
       "6 93.01599 1     male   1         4      4   Coma             \n",
       "  dzclass            num.co edu ⋯ crea      sod ph       glucose bun  urine\n",
       "1 Cancer             0      11  ⋯ 1.1999512 141 7.459961 135     6.51 2502 \n",
       "2 COPD/CHF/Cirrhosis 2      12  ⋯ 5.5000000 132 7.250000 135     6.51 2502 \n",
       "3 COPD/CHF/Cirrhosis 2      12  ⋯ 2.0000000 134 7.459961 135     6.51 2502 \n",
       "4 Cancer             2      11  ⋯ 0.7999268 139 7.419922 135     6.51 2502 \n",
       "5 ARF/MOSF           1      12  ⋯ 0.7999268 143 7.509766 135     6.51 2502 \n",
       "6 Coma               1      14  ⋯ 0.6999512 140 7.659180 135     6.51 2502 \n",
       "  adlp adls sfdm2               adlsc\n",
       "1 7    7                        7    \n",
       "2 0    1    <2 mo. follow-up    1    \n",
       "3 1    0    <2 mo. follow-up    0    \n",
       "4 0    0    no(M2 and SIP pres) 0    \n",
       "5 0    2    no(M2 and SIP pres) 2    \n",
       "6 0    1    <2 mo. follow-up    1    "
      ]
     },
     "metadata": {},
     "output_type": "display_data"
    }
   ],
   "source": [
    "data[] <- lapply(data, function(x) {\n",
    "  if (is.numeric(x)) {\n",
    "    x[is.na(x)] <- median(x, na.rm = TRUE) \n",
    "  }\n",
    "  return(x)\n",
    "})\n",
    "head(data)"
   ]
  },
  {
   "cell_type": "markdown",
   "metadata": {},
   "source": [
    "On regarde le nombre de colonnes vides"
   ]
  },
  {
   "cell_type": "code",
   "execution_count": 4,
   "metadata": {
    "vscode": {
     "languageId": "r"
    }
   },
   "outputs": [
    {
     "data": {
      "text/html": [
       "<table class=\"dataframe\">\n",
       "<caption>A data.frame: 8 × 2</caption>\n",
       "<thead>\n",
       "\t<tr><th></th><th scope=col>colonne</th><th scope=col>nombre_vides</th></tr>\n",
       "\t<tr><th></th><th scope=col>&lt;chr&gt;</th><th scope=col>&lt;int&gt;</th></tr>\n",
       "</thead>\n",
       "<tbody>\n",
       "\t<tr><th scope=row>sex</th><td>sex    </td><td>   0</td></tr>\n",
       "\t<tr><th scope=row>dzgroup</th><td>dzgroup</td><td>   0</td></tr>\n",
       "\t<tr><th scope=row>dzclass</th><td>dzclass</td><td>   0</td></tr>\n",
       "\t<tr><th scope=row>income</th><td>income </td><td>2982</td></tr>\n",
       "\t<tr><th scope=row>race</th><td>race   </td><td>  42</td></tr>\n",
       "\t<tr><th scope=row>ca</th><td>ca     </td><td>   0</td></tr>\n",
       "\t<tr><th scope=row>dnr</th><td>dnr    </td><td>  30</td></tr>\n",
       "\t<tr><th scope=row>sfdm2</th><td>sfdm2  </td><td>1400</td></tr>\n",
       "</tbody>\n",
       "</table>\n"
      ],
      "text/latex": [
       "A data.frame: 8 × 2\n",
       "\\begin{tabular}{r|ll}\n",
       "  & colonne & nombre\\_vides\\\\\n",
       "  & <chr> & <int>\\\\\n",
       "\\hline\n",
       "\tsex & sex     &    0\\\\\n",
       "\tdzgroup & dzgroup &    0\\\\\n",
       "\tdzclass & dzclass &    0\\\\\n",
       "\tincome & income  & 2982\\\\\n",
       "\trace & race    &   42\\\\\n",
       "\tca & ca      &    0\\\\\n",
       "\tdnr & dnr     &   30\\\\\n",
       "\tsfdm2 & sfdm2   & 1400\\\\\n",
       "\\end{tabular}\n"
      ],
      "text/markdown": [
       "\n",
       "A data.frame: 8 × 2\n",
       "\n",
       "| <!--/--> | colonne &lt;chr&gt; | nombre_vides &lt;int&gt; |\n",
       "|---|---|---|\n",
       "| sex | sex     |    0 |\n",
       "| dzgroup | dzgroup |    0 |\n",
       "| dzclass | dzclass |    0 |\n",
       "| income | income  | 2982 |\n",
       "| race | race    |   42 |\n",
       "| ca | ca      |    0 |\n",
       "| dnr | dnr     |   30 |\n",
       "| sfdm2 | sfdm2   | 1400 |\n",
       "\n"
      ],
      "text/plain": [
       "        colonne nombre_vides\n",
       "sex     sex        0        \n",
       "dzgroup dzgroup    0        \n",
       "dzclass dzclass    0        \n",
       "income  income  2982        \n",
       "race    race      42        \n",
       "ca      ca         0        \n",
       "dnr     dnr       30        \n",
       "sfdm2   sfdm2   1400        "
      ]
     },
     "metadata": {},
     "output_type": "display_data"
    }
   ],
   "source": [
    "colonnes_chaine <- sapply(data, is.character)\n",
    "\n",
    "nombres_vides <- sapply(data[, colonnes_chaine], function(x) sum(x == \"\"))\n",
    "\n",
    "# Afficher les résultats\n",
    "resultats <- data.frame(\n",
    "  colonne = names(nombres_vides),\n",
    "  nombre_vides = nombres_vides\n",
    ")\n",
    "resultats"
   ]
  },
  {
   "cell_type": "markdown",
   "metadata": {},
   "source": [
    "On va retirer la colonne income, et les lignes ou race et dnr sont vides. On va aussi tester sans la colonne sfmd2 pour l'instant"
   ]
  },
  {
   "cell_type": "code",
   "execution_count": 5,
   "metadata": {
    "vscode": {
     "languageId": "r"
    }
   },
   "outputs": [
    {
     "data": {
      "text/html": [
       "<table class=\"dataframe\">\n",
       "<caption>A data.frame: 7 × 2</caption>\n",
       "<thead>\n",
       "\t<tr><th></th><th scope=col>colonne</th><th scope=col>nombre_vides</th></tr>\n",
       "\t<tr><th></th><th scope=col>&lt;chr&gt;</th><th scope=col>&lt;int&gt;</th></tr>\n",
       "</thead>\n",
       "<tbody>\n",
       "\t<tr><th scope=row>sex</th><td>sex    </td><td>0</td></tr>\n",
       "\t<tr><th scope=row>dzgroup</th><td>dzgroup</td><td>0</td></tr>\n",
       "\t<tr><th scope=row>dzclass</th><td>dzclass</td><td>0</td></tr>\n",
       "\t<tr><th scope=row>race</th><td>race   </td><td>0</td></tr>\n",
       "\t<tr><th scope=row>ca</th><td>ca     </td><td>0</td></tr>\n",
       "\t<tr><th scope=row>dnr</th><td>dnr    </td><td>0</td></tr>\n",
       "\t<tr><th scope=row>sfdm2</th><td>sfdm2  </td><td>0</td></tr>\n",
       "</tbody>\n",
       "</table>\n"
      ],
      "text/latex": [
       "A data.frame: 7 × 2\n",
       "\\begin{tabular}{r|ll}\n",
       "  & colonne & nombre\\_vides\\\\\n",
       "  & <chr> & <int>\\\\\n",
       "\\hline\n",
       "\tsex & sex     & 0\\\\\n",
       "\tdzgroup & dzgroup & 0\\\\\n",
       "\tdzclass & dzclass & 0\\\\\n",
       "\trace & race    & 0\\\\\n",
       "\tca & ca      & 0\\\\\n",
       "\tdnr & dnr     & 0\\\\\n",
       "\tsfdm2 & sfdm2   & 0\\\\\n",
       "\\end{tabular}\n"
      ],
      "text/markdown": [
       "\n",
       "A data.frame: 7 × 2\n",
       "\n",
       "| <!--/--> | colonne &lt;chr&gt; | nombre_vides &lt;int&gt; |\n",
       "|---|---|---|\n",
       "| sex | sex     | 0 |\n",
       "| dzgroup | dzgroup | 0 |\n",
       "| dzclass | dzclass | 0 |\n",
       "| race | race    | 0 |\n",
       "| ca | ca      | 0 |\n",
       "| dnr | dnr     | 0 |\n",
       "| sfdm2 | sfdm2   | 0 |\n",
       "\n"
      ],
      "text/plain": [
       "        colonne nombre_vides\n",
       "sex     sex     0           \n",
       "dzgroup dzgroup 0           \n",
       "dzclass dzclass 0           \n",
       "race    race    0           \n",
       "ca      ca      0           \n",
       "dnr     dnr     0           \n",
       "sfdm2   sfdm2   0           "
      ]
     },
     "metadata": {},
     "output_type": "display_data"
    }
   ],
   "source": [
    "data <- data[, !names(data) %in% \"income\"]\n",
    "#data <- data[, !names(data) %in% \"sfdm2\"]\n",
    "data <- data[!(is.na(data$sfdm2) | data$sfdm2 == \"\"), ]\n",
    "data <- data[!(is.na(data$race) | data$race == \"\"), ]\n",
    "data <- data[!(is.na(data$dnr) | data$dnr == \"\"), ]\n",
    "\n",
    "colonnes_chaine <- sapply(data, is.character)\n",
    "\n",
    "nombres_vides <- sapply(data[, colonnes_chaine], function(x) sum(x == \"\"))\n",
    "\n",
    "# Afficher les résultats\n",
    "resultats <- data.frame(\n",
    "  colonne = names(nombres_vides),\n",
    "  nombre_vides = nombres_vides\n",
    ")\n",
    "resultats"
   ]
  },
  {
   "cell_type": "code",
   "execution_count": 6,
   "metadata": {
    "vscode": {
     "languageId": "r"
    }
   },
   "outputs": [
    {
     "data": {
      "text/html": [
       "<table class=\"dataframe\">\n",
       "<caption>A data.frame: 6 × 46</caption>\n",
       "<thead>\n",
       "\t<tr><th></th><th scope=col>age</th><th scope=col>death</th><th scope=col>sex</th><th scope=col>hospdead</th><th scope=col>slos</th><th scope=col>d.time</th><th scope=col>dzgroup</th><th scope=col>dzclass</th><th scope=col>num.co</th><th scope=col>edu</th><th scope=col>⋯</th><th scope=col>crea</th><th scope=col>sod</th><th scope=col>ph</th><th scope=col>glucose</th><th scope=col>bun</th><th scope=col>urine</th><th scope=col>adlp</th><th scope=col>adls</th><th scope=col>sfdm2</th><th scope=col>adlsc</th></tr>\n",
       "\t<tr><th></th><th scope=col>&lt;dbl&gt;</th><th scope=col>&lt;int&gt;</th><th scope=col>&lt;chr&gt;</th><th scope=col>&lt;int&gt;</th><th scope=col>&lt;int&gt;</th><th scope=col>&lt;int&gt;</th><th scope=col>&lt;chr&gt;</th><th scope=col>&lt;chr&gt;</th><th scope=col>&lt;int&gt;</th><th scope=col>&lt;int&gt;</th><th scope=col>⋯</th><th scope=col>&lt;dbl&gt;</th><th scope=col>&lt;dbl&gt;</th><th scope=col>&lt;dbl&gt;</th><th scope=col>&lt;dbl&gt;</th><th scope=col>&lt;dbl&gt;</th><th scope=col>&lt;dbl&gt;</th><th scope=col>&lt;dbl&gt;</th><th scope=col>&lt;dbl&gt;</th><th scope=col>&lt;chr&gt;</th><th scope=col>&lt;dbl&gt;</th></tr>\n",
       "</thead>\n",
       "<tbody>\n",
       "\t<tr><th scope=row>3</th><td>52.74698</td><td>1</td><td>female</td><td>0</td><td>17</td><td><span style=white-space:pre-wrap>  47</span></td><td><span style=white-space:pre-wrap>Cirrhosis        </span></td><td>COPD/CHF/Cirrhosis</td><td>2</td><td>12</td><td>⋯</td><td>2.0000000</td><td>134</td><td>7.459961</td><td>135</td><td>6.51</td><td>2502</td><td>1</td><td>0</td><td><span style=white-space:pre-wrap>&lt;2 mo. follow-up   </span></td><td>0</td></tr>\n",
       "\t<tr><th scope=row>4</th><td>42.38498</td><td>1</td><td>female</td><td>0</td><td> 3</td><td> 133</td><td>Lung Cancer      </td><td>Cancer            </td><td>2</td><td>11</td><td>⋯</td><td>0.7999268</td><td>139</td><td>7.419922</td><td>135</td><td>6.51</td><td>2502</td><td>0</td><td>0</td><td>no(M2 and SIP pres)</td><td>0</td></tr>\n",
       "\t<tr><th scope=row>5</th><td>79.88495</td><td>0</td><td>female</td><td>0</td><td>16</td><td>2029</td><td>ARF/MOSF w/Sepsis</td><td>ARF/MOSF          </td><td>1</td><td>12</td><td>⋯</td><td>0.7999268</td><td>143</td><td>7.509766</td><td>135</td><td>6.51</td><td>2502</td><td>0</td><td>2</td><td>no(M2 and SIP pres)</td><td>2</td></tr>\n",
       "\t<tr><th scope=row>6</th><td>93.01599</td><td>1</td><td><span style=white-space:pre-wrap>male  </span></td><td>1</td><td> 4</td><td><span style=white-space:pre-wrap>   4</span></td><td><span style=white-space:pre-wrap>Coma             </span></td><td><span style=white-space:pre-wrap>Coma              </span></td><td>1</td><td>14</td><td>⋯</td><td>0.6999512</td><td>140</td><td>7.659180</td><td>135</td><td>6.51</td><td>2502</td><td>0</td><td>1</td><td><span style=white-space:pre-wrap>&lt;2 mo. follow-up   </span></td><td>1</td></tr>\n",
       "\t<tr><th scope=row>7</th><td>62.37097</td><td>1</td><td>male  </td><td>0</td><td> 9</td><td> 659</td><td>CHF              </td><td>COPD/CHF/Cirrhosis</td><td>1</td><td>14</td><td>⋯</td><td>1.5998535</td><td>132</td><td>7.479492</td><td>135</td><td>6.51</td><td>2502</td><td>0</td><td>1</td><td>no(M2 and SIP pres)</td><td>1</td></tr>\n",
       "\t<tr><th scope=row>11</th><td>47.94498</td><td>1</td><td>male  </td><td>0</td><td> 7</td><td> 114</td><td>CHF              </td><td>COPD/CHF/Cirrhosis</td><td>1</td><td>12</td><td>⋯</td><td>1.0000000</td><td>134</td><td>7.419922</td><td>135</td><td>6.51</td><td>2502</td><td>2</td><td>1</td><td>no(M2 and SIP pres)</td><td>1</td></tr>\n",
       "</tbody>\n",
       "</table>\n"
      ],
      "text/latex": [
       "A data.frame: 6 × 46\n",
       "\\begin{tabular}{r|lllllllllllllllllllll}\n",
       "  & age & death & sex & hospdead & slos & d.time & dzgroup & dzclass & num.co & edu & ⋯ & crea & sod & ph & glucose & bun & urine & adlp & adls & sfdm2 & adlsc\\\\\n",
       "  & <dbl> & <int> & <chr> & <int> & <int> & <int> & <chr> & <chr> & <int> & <int> & ⋯ & <dbl> & <dbl> & <dbl> & <dbl> & <dbl> & <dbl> & <dbl> & <dbl> & <chr> & <dbl>\\\\\n",
       "\\hline\n",
       "\t3 & 52.74698 & 1 & female & 0 & 17 &   47 & Cirrhosis         & COPD/CHF/Cirrhosis & 2 & 12 & ⋯ & 2.0000000 & 134 & 7.459961 & 135 & 6.51 & 2502 & 1 & 0 & <2 mo. follow-up    & 0\\\\\n",
       "\t4 & 42.38498 & 1 & female & 0 &  3 &  133 & Lung Cancer       & Cancer             & 2 & 11 & ⋯ & 0.7999268 & 139 & 7.419922 & 135 & 6.51 & 2502 & 0 & 0 & no(M2 and SIP pres) & 0\\\\\n",
       "\t5 & 79.88495 & 0 & female & 0 & 16 & 2029 & ARF/MOSF w/Sepsis & ARF/MOSF           & 1 & 12 & ⋯ & 0.7999268 & 143 & 7.509766 & 135 & 6.51 & 2502 & 0 & 2 & no(M2 and SIP pres) & 2\\\\\n",
       "\t6 & 93.01599 & 1 & male   & 1 &  4 &    4 & Coma              & Coma               & 1 & 14 & ⋯ & 0.6999512 & 140 & 7.659180 & 135 & 6.51 & 2502 & 0 & 1 & <2 mo. follow-up    & 1\\\\\n",
       "\t7 & 62.37097 & 1 & male   & 0 &  9 &  659 & CHF               & COPD/CHF/Cirrhosis & 1 & 14 & ⋯ & 1.5998535 & 132 & 7.479492 & 135 & 6.51 & 2502 & 0 & 1 & no(M2 and SIP pres) & 1\\\\\n",
       "\t11 & 47.94498 & 1 & male   & 0 &  7 &  114 & CHF               & COPD/CHF/Cirrhosis & 1 & 12 & ⋯ & 1.0000000 & 134 & 7.419922 & 135 & 6.51 & 2502 & 2 & 1 & no(M2 and SIP pres) & 1\\\\\n",
       "\\end{tabular}\n"
      ],
      "text/markdown": [
       "\n",
       "A data.frame: 6 × 46\n",
       "\n",
       "| <!--/--> | age &lt;dbl&gt; | death &lt;int&gt; | sex &lt;chr&gt; | hospdead &lt;int&gt; | slos &lt;int&gt; | d.time &lt;int&gt; | dzgroup &lt;chr&gt; | dzclass &lt;chr&gt; | num.co &lt;int&gt; | edu &lt;int&gt; | ⋯ ⋯ | crea &lt;dbl&gt; | sod &lt;dbl&gt; | ph &lt;dbl&gt; | glucose &lt;dbl&gt; | bun &lt;dbl&gt; | urine &lt;dbl&gt; | adlp &lt;dbl&gt; | adls &lt;dbl&gt; | sfdm2 &lt;chr&gt; | adlsc &lt;dbl&gt; |\n",
       "|---|---|---|---|---|---|---|---|---|---|---|---|---|---|---|---|---|---|---|---|---|---|\n",
       "| 3 | 52.74698 | 1 | female | 0 | 17 |   47 | Cirrhosis         | COPD/CHF/Cirrhosis | 2 | 12 | ⋯ | 2.0000000 | 134 | 7.459961 | 135 | 6.51 | 2502 | 1 | 0 | &lt;2 mo. follow-up    | 0 |\n",
       "| 4 | 42.38498 | 1 | female | 0 |  3 |  133 | Lung Cancer       | Cancer             | 2 | 11 | ⋯ | 0.7999268 | 139 | 7.419922 | 135 | 6.51 | 2502 | 0 | 0 | no(M2 and SIP pres) | 0 |\n",
       "| 5 | 79.88495 | 0 | female | 0 | 16 | 2029 | ARF/MOSF w/Sepsis | ARF/MOSF           | 1 | 12 | ⋯ | 0.7999268 | 143 | 7.509766 | 135 | 6.51 | 2502 | 0 | 2 | no(M2 and SIP pres) | 2 |\n",
       "| 6 | 93.01599 | 1 | male   | 1 |  4 |    4 | Coma              | Coma               | 1 | 14 | ⋯ | 0.6999512 | 140 | 7.659180 | 135 | 6.51 | 2502 | 0 | 1 | &lt;2 mo. follow-up    | 1 |\n",
       "| 7 | 62.37097 | 1 | male   | 0 |  9 |  659 | CHF               | COPD/CHF/Cirrhosis | 1 | 14 | ⋯ | 1.5998535 | 132 | 7.479492 | 135 | 6.51 | 2502 | 0 | 1 | no(M2 and SIP pres) | 1 |\n",
       "| 11 | 47.94498 | 1 | male   | 0 |  7 |  114 | CHF               | COPD/CHF/Cirrhosis | 1 | 12 | ⋯ | 1.0000000 | 134 | 7.419922 | 135 | 6.51 | 2502 | 2 | 1 | no(M2 and SIP pres) | 1 |\n",
       "\n"
      ],
      "text/plain": [
       "   age      death sex    hospdead slos d.time dzgroup          \n",
       "3  52.74698 1     female 0        17     47   Cirrhosis        \n",
       "4  42.38498 1     female 0         3    133   Lung Cancer      \n",
       "5  79.88495 0     female 0        16   2029   ARF/MOSF w/Sepsis\n",
       "6  93.01599 1     male   1         4      4   Coma             \n",
       "7  62.37097 1     male   0         9    659   CHF              \n",
       "11 47.94498 1     male   0         7    114   CHF              \n",
       "   dzclass            num.co edu ⋯ crea      sod ph       glucose bun  urine\n",
       "3  COPD/CHF/Cirrhosis 2      12  ⋯ 2.0000000 134 7.459961 135     6.51 2502 \n",
       "4  Cancer             2      11  ⋯ 0.7999268 139 7.419922 135     6.51 2502 \n",
       "5  ARF/MOSF           1      12  ⋯ 0.7999268 143 7.509766 135     6.51 2502 \n",
       "6  Coma               1      14  ⋯ 0.6999512 140 7.659180 135     6.51 2502 \n",
       "7  COPD/CHF/Cirrhosis 1      14  ⋯ 1.5998535 132 7.479492 135     6.51 2502 \n",
       "11 COPD/CHF/Cirrhosis 1      12  ⋯ 1.0000000 134 7.419922 135     6.51 2502 \n",
       "   adlp adls sfdm2               adlsc\n",
       "3  1    0    <2 mo. follow-up    0    \n",
       "4  0    0    no(M2 and SIP pres) 0    \n",
       "5  0    2    no(M2 and SIP pres) 2    \n",
       "6  0    1    <2 mo. follow-up    1    \n",
       "7  0    1    no(M2 and SIP pres) 1    \n",
       "11 2    1    no(M2 and SIP pres) 1    "
      ]
     },
     "metadata": {},
     "output_type": "display_data"
    }
   ],
   "source": [
    "head(data)"
   ]
  },
  {
   "cell_type": "code",
   "execution_count": 7,
   "metadata": {
    "vscode": {
     "languageId": "r"
    }
   },
   "outputs": [
    {
     "name": "stderr",
     "output_type": "stream",
     "text": [
      "Warning message:\n",
      "“glm.fit : l'algorithme n'a pas convergé”\n",
      "Warning message:\n",
      "“glm.fit: des probabilités ont été ajustées numériquement à 0 ou 1”\n"
     ]
    },
    {
     "data": {
      "text/plain": [
       "\n",
       "Call:\n",
       "glm(formula = hospdead ~ ., family = binomial, data = data)\n",
       "\n",
       "Coefficients: (3 not defined because of singularities)\n",
       "                            Estimate Std. Error    z value Pr(>|z|)    \n",
       "(Intercept)               -1.467e+15  9.064e+07  -16189332   <2e-16 ***\n",
       "age                        3.738e+12  7.265e+04   51458018   <2e-16 ***\n",
       "death                      5.901e+14  2.616e+06  225562162   <2e-16 ***\n",
       "sexmale                   -1.724e+13  1.584e+06  -10887097   <2e-16 ***\n",
       "slos                      -6.948e+12  9.121e+04  -76181818   <2e-16 ***\n",
       "d.time                    -5.268e+11  2.375e+03 -221829053   <2e-16 ***\n",
       "dzgroupCHF                 2.491e+14  3.019e+06   82497923   <2e-16 ***\n",
       "dzgroupCirrhosis           3.013e+14  4.194e+06   71854705   <2e-16 ***\n",
       "dzgroupColon Cancer        1.777e+14  6.310e+06   28155811   <2e-16 ***\n",
       "dzgroupComa                2.577e+14  4.175e+06   61723598   <2e-16 ***\n",
       "dzgroupCOPD                2.168e+14  3.175e+06   68296312   <2e-16 ***\n",
       "dzgroupLung Cancer         3.551e+14  6.382e+06   55645675   <2e-16 ***\n",
       "dzgroupMOSF w/Malig        5.721e+12  4.094e+06    1397399   <2e-16 ***\n",
       "dzclassCancer                     NA         NA         NA       NA    \n",
       "dzclassComa                       NA         NA         NA       NA    \n",
       "dzclassCOPD/CHF/Cirrhosis         NA         NA         NA       NA    \n",
       "num.co                    -6.365e+13  7.434e+05  -85617415   <2e-16 ***\n",
       "edu                        1.192e+13  2.492e+05   47835962   <2e-16 ***\n",
       "scoma                      4.268e+12  5.287e+04   80726941   <2e-16 ***\n",
       "charges                    5.979e+08  1.369e+01   43676333   <2e-16 ***\n",
       "totcst                     2.103e+09  3.432e+01   61270435   <2e-16 ***\n",
       "totmcst                   -2.009e+09  3.170e+01  -63368950   <2e-16 ***\n",
       "avtisst                    4.134e+13  9.132e+04  452735396   <2e-16 ***\n",
       "raceblack                  2.565e+13  8.891e+06    2885009   <2e-16 ***\n",
       "racehispanic              -2.613e+14  9.594e+06  -27241680   <2e-16 ***\n",
       "raceother                 -3.656e+14  1.134e+07  -32243109   <2e-16 ***\n",
       "racewhite                 -1.403e+14  8.684e+06  -16154751   <2e-16 ***\n",
       "sps                        2.318e+13  2.018e+05  114843368   <2e-16 ***\n",
       "aps                        6.408e+12  7.308e+04   87682715   <2e-16 ***\n",
       "surv2m                    -1.469e+15  2.215e+07  -66319280   <2e-16 ***\n",
       "surv6m                     2.066e+15  1.984e+07  104105861   <2e-16 ***\n",
       "hday                       5.175e+12  1.032e+05   50150368   <2e-16 ***\n",
       "diabetes                  -1.169e+13  2.190e+06   -5338892   <2e-16 ***\n",
       "dementia                   8.571e+12  4.709e+06    1820041   <2e-16 ***\n",
       "cano                      -8.923e+13  4.612e+06  -19347010   <2e-16 ***\n",
       "cayes                     -1.267e+14  4.246e+06  -29832526   <2e-16 ***\n",
       "prg2m                     -1.776e+14  6.990e+06  -25405699   <2e-16 ***\n",
       "prg6m                      1.642e+14  6.924e+06   23716095   <2e-16 ***\n",
       "dnrdnr before sadm        -4.252e+14  4.861e+06  -87481975   <2e-16 ***\n",
       "dnrno dnr                 -5.523e+14  2.360e+06 -234066547   <2e-16 ***\n",
       "dnrday                     1.092e+13  9.788e+04  111558472   <2e-16 ***\n",
       "meanbp                     7.950e+11  2.922e+04   27213056   <2e-16 ***\n",
       "wblc                      -2.225e+12  8.512e+04  -26139203   <2e-16 ***\n",
       "hrt                       -7.449e+11  2.695e+04  -27642747   <2e-16 ***\n",
       "resp                      -1.641e+12  8.274e+04  -19830116   <2e-16 ***\n",
       "temp                       1.002e+13  6.610e+05   15157648   <2e-16 ***\n",
       "pafi                       1.058e+11  8.189e+03   12921837   <2e-16 ***\n",
       "alb                       -1.774e+13  1.080e+06  -16433957   <2e-16 ***\n",
       "bili                       9.836e+12  1.781e+05   55213522   <2e-16 ***\n",
       "crea                       3.260e+13  5.425e+05   60084554   <2e-16 ***\n",
       "sod                        5.459e+11  1.301e+05    4195525   <2e-16 ***\n",
       "ph                        -2.774e+14  1.137e+07  -24387881   <2e-16 ***\n",
       "glucose                    7.828e+10  1.246e+04    6281312   <2e-16 ***\n",
       "bun                       -1.624e+12  4.093e+04  -39671124   <2e-16 ***\n",
       "urine                     -2.298e+10  8.070e+02  -28471844   <2e-16 ***\n",
       "adlp                      -2.234e+13  6.751e+05  -33084904   <2e-16 ***\n",
       "adls                      -7.848e+13  9.646e+05  -81367933   <2e-16 ***\n",
       "sfdm2adl>=4 (>=5 if sur)  -4.118e+14  3.161e+06 -130276581   <2e-16 ***\n",
       "sfdm2Coma or Intub        -4.385e+14  1.116e+07  -39306584   <2e-16 ***\n",
       "sfdm2no(M2 and SIP pres)  -3.118e+14  2.830e+06 -110184307   <2e-16 ***\n",
       "sfdm2SIP>=30              -6.838e+14  3.719e+06 -183857177   <2e-16 ***\n",
       "adlsc                      6.655e+13  9.534e+05   69811038   <2e-16 ***\n",
       "---\n",
       "Signif. codes:  0 ‘***’ 0.001 ‘**’ 0.01 ‘*’ 0.05 ‘.’ 0.1 ‘ ’ 1\n",
       "\n",
       "(Dispersion parameter for binomial family taken to be 1)\n",
       "\n",
       "    Null deviance:  9341.7  on 7645  degrees of freedom\n",
       "Residual deviance: 63436.8  on 7587  degrees of freedom\n",
       "AIC: 63555\n",
       "\n",
       "Number of Fisher Scoring iterations: 25\n"
      ]
     },
     "metadata": {},
     "output_type": "display_data"
    }
   ],
   "source": [
    "modreg <- glm(hospdead ~ ., data=data, family = binomial)\n",
    "summary(modreg)"
   ]
  },
  {
   "cell_type": "markdown",
   "metadata": {},
   "source": [
    "On affiche la régression"
   ]
  },
  {
   "cell_type": "code",
   "execution_count": 8,
   "metadata": {
    "vscode": {
     "languageId": "r"
    }
   },
   "outputs": [
    {
     "data": {
      "text/plain": [
       "         Actual\n",
       "Predicted    0    1\n",
       "        0 5263  791\n",
       "        1   89 1503"
      ]
     },
     "metadata": {},
     "output_type": "display_data"
    }
   ],
   "source": [
    "data$hatY  <- predict(modreg, type=\"response\")\n",
    "predicted_classes <- ifelse(data$hatY > 0.5, 1, 0)\n",
    "confusion_matrix <- table(Predicted = predicted_classes, Actual = data$hospdead)\n",
    "confusion_matrix"
   ]
  },
  {
   "cell_type": "code",
   "execution_count": 9,
   "metadata": {
    "vscode": {
     "languageId": "r"
    }
   },
   "outputs": [
    {
     "name": "stderr",
     "output_type": "stream",
     "text": [
      "\u001b[1m\u001b[22m`geom_smooth()` using formula = 'y ~ x'\n"
     ]
    },
    {
     "data": {
      "image/png": "[encoded data removed]",
      "text/plain": [
       "plot without title"
      ]
     },
     "metadata": {
      "image/png": {
       "height": 420,
       "width": 420
      }
     },
     "output_type": "display_data"
    }
   ],
   "source": [
    "library(ggplot2)\n",
    "ggplot(data, aes(x = hospdead, y = hatY)) +\n",
    "  geom_point(alpha = 0.5, color = \"blue\") +  # Nuage de points\n",
    "  geom_smooth(method = \"glm\", method.args = list(family = \"binomial\"), color = \"red\") + # Courbe ajustée\n",
    "  ggtitle(\"Régression Logistique : Probabilité prédite vs hospdead\") +\n",
    "  xlab(\"Hospdead (réel)\") +\n",
    "  ylab(\"Probabilité prédite\")"
   ]
  },
  {
   "cell_type": "code",
   "execution_count": 10,
   "metadata": {
    "vscode": {
     "languageId": "r"
    }
   },
   "outputs": [
    {
     "name": "stdout",
     "output_type": "stream",
     "text": [
      "[1] 0.0166293\n"
     ]
    }
   ],
   "source": [
    "false_positive_rate <- confusion_matrix[2,1] / sum(confusion_matrix[, 1])\n",
    "print(false_positive_rate)"
   ]
  },
  {
   "cell_type": "code",
   "execution_count": 11,
   "metadata": {
    "vscode": {
     "languageId": "r"
    }
   },
   "outputs": [
    {
     "name": "stdout",
     "output_type": "stream",
     "text": [
      "[1] 0.3448126\n"
     ]
    }
   ],
   "source": [
    "false_negative_rate <- confusion_matrix[1, 2] / sum(confusion_matrix[, 2])\n",
    "print(false_negative_rate)"
   ]
  },
  {
   "cell_type": "code",
   "execution_count": 12,
   "metadata": {
    "vscode": {
     "languageId": "r"
    }
   },
   "outputs": [
    {
     "name": "stdout",
     "output_type": "stream",
     "text": [
      "[1] 0.8849071\n"
     ]
    }
   ],
   "source": [
    "accuracy <- sum(diag(confusion_matrix)) / sum(confusion_matrix)\n",
    "print(accuracy)"
   ]
  },
  {
   "cell_type": "markdown",
   "metadata": {},
   "source": [
    "stepwise"
   ]
  },
  {
   "cell_type": "code",
   "execution_count": 13,
   "metadata": {
    "vscode": {
     "languageId": "r"
    }
   },
   "outputs": [
    {
     "name": "stdout",
     "output_type": "stream",
     "text": [
      "Start:  AIC=-21643.8\n",
      "hospdead ~ age + death + sex + slos + d.time + dzgroup + dzclass + \n",
      "    num.co + edu + scoma + charges + totcst + totmcst + avtisst + \n",
      "    race + sps + aps + surv2m + surv6m + hday + diabetes + dementia + \n",
      "    ca + prg2m + prg6m + dnr + dnrday + meanbp + wblc + hrt + \n",
      "    resp + temp + pafi + alb + bili + crea + sod + ph + glucose + \n",
      "    bun + urine + adlp + adls + sfdm2 + adlsc + hatY\n",
      "\n",
      "\n",
      "Step:  AIC=-21643.8\n",
      "hospdead ~ age + death + sex + slos + d.time + dzgroup + num.co + \n",
      "    edu + scoma + charges + totcst + totmcst + avtisst + race + \n",
      "    sps + aps + surv2m + surv6m + hday + diabetes + dementia + \n",
      "    ca + prg2m + prg6m + dnr + dnrday + meanbp + wblc + hrt + \n",
      "    resp + temp + pafi + alb + bili + crea + sod + ph + glucose + \n",
      "    bun + urine + adlp + adls + sfdm2 + adlsc + hatY\n",
      "\n",
      "           Df Sum of Sq    RSS    AIC\n",
      "- dzgroup   7     0.245 444.10 -21654\n",
      "- race      4     0.200 444.06 -21648\n",
      "- ca        2     0.026 443.89 -21647\n",
      "- crea      1     0.000 443.86 -21646\n",
      "- glucose   1     0.000 443.86 -21646\n",
      "- bili      1     0.000 443.86 -21646\n",
      "- age       1     0.001 443.86 -21646\n",
      "- wblc      1     0.001 443.86 -21646\n",
      "- resp      1     0.001 443.86 -21646\n",
      "- temp      1     0.002 443.86 -21646\n",
      "- dementia  1     0.002 443.86 -21646\n",
      "- diabetes  1     0.007 443.87 -21646\n",
      "- meanbp    1     0.008 443.87 -21646\n",
      "- sod       1     0.009 443.87 -21646\n",
      "- scoma     1     0.011 443.87 -21646\n",
      "- sex       1     0.011 443.87 -21646\n",
      "- ph        1     0.013 443.87 -21646\n",
      "- alb       1     0.013 443.87 -21646\n",
      "- hrt       1     0.013 443.87 -21646\n",
      "- urine     1     0.017 443.88 -21646\n",
      "- pafi      1     0.031 443.89 -21645\n",
      "- hday      1     0.037 443.90 -21645\n",
      "- bun       1     0.039 443.90 -21645\n",
      "- aps       1     0.040 443.90 -21645\n",
      "- num.co    1     0.105 443.96 -21644\n",
      "<none>                  443.86 -21644\n",
      "- charges   1     0.119 443.98 -21644\n",
      "- sps       1     0.123 443.98 -21644\n",
      "- totcst    1     0.177 444.04 -21643\n",
      "- edu       1     0.260 444.12 -21641\n",
      "- d.time    1     0.276 444.14 -21641\n",
      "- prg6m     1     0.311 444.17 -21640\n",
      "- adlp      1     0.327 444.19 -21640\n",
      "- prg2m     1     0.350 444.21 -21640\n",
      "- totmcst   1     0.389 444.25 -21639\n",
      "- adls      1     0.394 444.25 -21639\n",
      "- adlsc     1     0.473 444.33 -21638\n",
      "- death     1     0.622 444.48 -21635\n",
      "- surv6m    1     0.915 444.77 -21630\n",
      "- slos      1     0.946 444.81 -21630\n",
      "- dnrday    1     0.961 444.82 -21629\n",
      "- surv2m    1     1.261 445.12 -21624\n",
      "- avtisst   1     6.147 450.01 -21541\n",
      "- dnr       2    13.759 457.62 -21414\n",
      "- hatY      1    35.349 479.21 -21060\n",
      "- sfdm2     4   107.093 550.95 -19999\n",
      "\n",
      "Step:  AIC=-21653.59\n",
      "hospdead ~ age + death + sex + slos + d.time + num.co + edu + \n",
      "    scoma + charges + totcst + totmcst + avtisst + race + sps + \n",
      "    aps + surv2m + surv6m + hday + diabetes + dementia + ca + \n",
      "    prg2m + prg6m + dnr + dnrday + meanbp + wblc + hrt + resp + \n",
      "    temp + pafi + alb + bili + crea + sod + ph + glucose + bun + \n",
      "    urine + adlp + adls + sfdm2 + adlsc + hatY\n",
      "\n",
      "           Df Sum of Sq    RSS    AIC\n",
      "- race      4     0.188 444.29 -21658\n",
      "- glucose   1     0.000 444.10 -21656\n",
      "- crea      1     0.000 444.10 -21656\n",
      "- temp      1     0.000 444.10 -21656\n",
      "- bili      1     0.001 444.11 -21656\n",
      "- age       1     0.001 444.11 -21656\n",
      "- wblc      1     0.001 444.11 -21656\n",
      "- resp      1     0.002 444.11 -21656\n",
      "- dementia  1     0.002 444.11 -21656\n",
      "- diabetes  1     0.003 444.11 -21656\n",
      "- scoma     1     0.006 444.11 -21656\n",
      "- sod       1     0.006 444.11 -21656\n",
      "- hrt       1     0.012 444.12 -21655\n",
      "- ph        1     0.013 444.12 -21655\n",
      "- meanbp    1     0.014 444.12 -21655\n",
      "- sex       1     0.016 444.12 -21655\n",
      "- urine     1     0.017 444.12 -21655\n",
      "- alb       1     0.030 444.13 -21655\n",
      "- hday      1     0.030 444.13 -21655\n",
      "- pafi      1     0.033 444.14 -21655\n",
      "- bun       1     0.041 444.14 -21655\n",
      "- aps       1     0.069 444.17 -21654\n",
      "- ca        2     0.188 444.29 -21654\n",
      "- charges   1     0.114 444.22 -21654\n",
      "<none>                  444.10 -21654\n",
      "- num.co    1     0.124 444.23 -21654\n",
      "- sps       1     0.136 444.24 -21653\n",
      "- totcst    1     0.186 444.29 -21652\n",
      "- edu       1     0.275 444.38 -21651\n",
      "- d.time    1     0.276 444.38 -21651\n",
      "- adlp      1     0.316 444.42 -21650\n",
      "- prg6m     1     0.339 444.44 -21650\n",
      "+ dzclass   3     0.096 444.01 -21649\n",
      "- prg2m     1     0.379 444.48 -21649\n",
      "- adls      1     0.390 444.49 -21649\n",
      "- totmcst   1     0.405 444.51 -21649\n",
      "- adlsc     1     0.478 444.58 -21647\n",
      "- death     1     0.612 444.72 -21645\n",
      "+ dzgroup   7     0.245 443.86 -21644\n",
      "- slos      1     0.931 445.04 -21640\n",
      "- dnrday    1     0.973 445.08 -21639\n",
      "- surv6m    1     2.045 446.15 -21620\n",
      "- surv2m    1     2.420 446.52 -21614\n",
      "- avtisst   1     7.115 451.22 -21534\n",
      "- dnr       2    14.170 458.27 -21417\n",
      "- hatY      1    36.374 480.48 -21054\n",
      "- sfdm2     4   107.673 551.78 -20002\n",
      "\n",
      "Step:  AIC=-21658.35\n",
      "hospdead ~ age + death + sex + slos + d.time + num.co + edu + \n",
      "    scoma + charges + totcst + totmcst + avtisst + sps + aps + \n",
      "    surv2m + surv6m + hday + diabetes + dementia + ca + prg2m + \n",
      "    prg6m + dnr + dnrday + meanbp + wblc + hrt + resp + temp + \n",
      "    pafi + alb + bili + crea + sod + ph + glucose + bun + urine + \n",
      "    adlp + adls + sfdm2 + adlsc + hatY\n",
      "\n",
      "           Df Sum of Sq    RSS    AIC\n",
      "- glucose   1     0.000 444.29 -21660\n",
      "- crea      1     0.000 444.29 -21660\n",
      "- age       1     0.001 444.29 -21660\n",
      "- temp      1     0.001 444.29 -21660\n",
      "- bili      1     0.001 444.29 -21660\n",
      "- wblc      1     0.001 444.29 -21660\n",
      "- dementia  1     0.001 444.29 -21660\n",
      "- resp      1     0.002 444.29 -21660\n",
      "- diabetes  1     0.006 444.30 -21660\n",
      "- sod       1     0.008 444.30 -21660\n",
      "- scoma     1     0.009 444.30 -21660\n",
      "- hrt       1     0.013 444.31 -21660\n",
      "- ph        1     0.015 444.31 -21660\n",
      "- urine     1     0.016 444.31 -21660\n",
      "- meanbp    1     0.018 444.31 -21660\n",
      "- sex       1     0.023 444.31 -21660\n",
      "- hday      1     0.031 444.32 -21660\n",
      "- alb       1     0.033 444.33 -21660\n",
      "- pafi      1     0.037 444.33 -21660\n",
      "- bun       1     0.042 444.33 -21660\n",
      "- ca        2     0.181 444.47 -21659\n",
      "- aps       1     0.074 444.37 -21659\n",
      "<none>                  444.29 -21658\n",
      "- charges   1     0.116 444.41 -21658\n",
      "- num.co    1     0.126 444.42 -21658\n",
      "- sps       1     0.133 444.42 -21658\n",
      "- totcst    1     0.182 444.47 -21657\n",
      "- edu       1     0.229 444.52 -21656\n",
      "- d.time    1     0.283 444.58 -21656\n",
      "- adlp      1     0.321 444.61 -21655\n",
      "- prg6m     1     0.339 444.63 -21654\n",
      "+ dzclass   3     0.104 444.19 -21654\n",
      "- adls      1     0.378 444.67 -21654\n",
      "+ race      4     0.188 444.10 -21654\n",
      "- prg2m     1     0.394 444.69 -21654\n",
      "- totmcst   1     0.414 444.71 -21653\n",
      "- adlsc     1     0.470 444.76 -21652\n",
      "- death     1     0.599 444.89 -21650\n",
      "+ dzgroup   7     0.233 444.06 -21648\n",
      "- slos      1     0.919 445.21 -21644\n",
      "- dnrday    1     0.962 445.25 -21644\n",
      "- surv6m    1     2.078 446.37 -21625\n",
      "- surv2m    1     2.435 446.73 -21619\n",
      "- avtisst   1     6.995 451.29 -21541\n",
      "- dnr       2    14.032 458.32 -21425\n",
      "- hatY      1    36.894 481.19 -21050\n",
      "- sfdm2     4   107.736 552.03 -20006\n",
      "\n",
      "Step:  AIC=-21660.35\n",
      "hospdead ~ age + death + sex + slos + d.time + num.co + edu + \n",
      "    scoma + charges + totcst + totmcst + avtisst + sps + aps + \n",
      "    surv2m + surv6m + hday + diabetes + dementia + ca + prg2m + \n",
      "    prg6m + dnr + dnrday + meanbp + wblc + hrt + resp + temp + \n",
      "    pafi + alb + bili + crea + sod + ph + bun + urine + adlp + \n",
      "    adls + sfdm2 + adlsc + hatY\n",
      "\n",
      "           Df Sum of Sq    RSS    AIC\n",
      "- crea      1     0.000 444.29 -21662\n",
      "- age       1     0.001 444.29 -21662\n",
      "- temp      1     0.001 444.29 -21662\n",
      "- bili      1     0.001 444.29 -21662\n",
      "- wblc      1     0.001 444.29 -21662\n",
      "- dementia  1     0.001 444.29 -21662\n",
      "- resp      1     0.002 444.29 -21662\n",
      "- diabetes  1     0.006 444.30 -21662\n",
      "- sod       1     0.008 444.30 -21662\n",
      "- scoma     1     0.009 444.30 -21662\n",
      "- hrt       1     0.013 444.31 -21662\n",
      "- ph        1     0.015 444.31 -21662\n",
      "- urine     1     0.016 444.31 -21662\n",
      "- meanbp    1     0.018 444.31 -21662\n",
      "- sex       1     0.023 444.31 -21662\n",
      "- hday      1     0.031 444.32 -21662\n",
      "- alb       1     0.033 444.33 -21662\n",
      "- pafi      1     0.037 444.33 -21662\n",
      "- bun       1     0.043 444.34 -21662\n",
      "- ca        2     0.181 444.47 -21661\n",
      "- aps       1     0.074 444.37 -21661\n",
      "<none>                  444.29 -21660\n",
      "- charges   1     0.117 444.41 -21660\n",
      "- num.co    1     0.126 444.42 -21660\n",
      "- sps       1     0.133 444.42 -21660\n",
      "- totcst    1     0.182 444.47 -21659\n",
      "- edu       1     0.229 444.52 -21658\n",
      "+ glucose   1     0.000 444.29 -21658\n",
      "- d.time    1     0.283 444.58 -21658\n",
      "- adlp      1     0.321 444.61 -21657\n",
      "- prg6m     1     0.339 444.63 -21656\n",
      "+ dzclass   3     0.104 444.19 -21656\n",
      "- adls      1     0.378 444.67 -21656\n",
      "+ race      4     0.188 444.10 -21656\n",
      "- prg2m     1     0.394 444.69 -21656\n",
      "- totmcst   1     0.414 444.71 -21655\n",
      "- adlsc     1     0.470 444.76 -21654\n",
      "- death     1     0.599 444.89 -21652\n",
      "+ dzgroup   7     0.233 444.06 -21650\n",
      "- slos      1     0.920 445.21 -21646\n",
      "- dnrday    1     0.962 445.25 -21646\n",
      "- surv6m    1     2.078 446.37 -21627\n",
      "- surv2m    1     2.435 446.73 -21621\n",
      "- avtisst   1     6.995 451.29 -21543\n",
      "- dnr       2    14.036 458.33 -21426\n",
      "- hatY      1    36.899 481.19 -21052\n",
      "- sfdm2     4   107.747 552.04 -20008\n",
      "\n",
      "Step:  AIC=-21662.35\n",
      "hospdead ~ age + death + sex + slos + d.time + num.co + edu + \n",
      "    scoma + charges + totcst + totmcst + avtisst + sps + aps + \n",
      "    surv2m + surv6m + hday + diabetes + dementia + ca + prg2m + \n",
      "    prg6m + dnr + dnrday + meanbp + wblc + hrt + resp + temp + \n",
      "    pafi + alb + bili + sod + ph + bun + urine + adlp + adls + \n",
      "    sfdm2 + adlsc + hatY\n",
      "\n",
      "           Df Sum of Sq    RSS    AIC\n",
      "- age       1     0.001 444.29 -21664\n",
      "- temp      1     0.001 444.29 -21664\n",
      "- bili      1     0.001 444.29 -21664\n",
      "- wblc      1     0.001 444.29 -21664\n",
      "- dementia  1     0.001 444.29 -21664\n",
      "- resp      1     0.002 444.29 -21664\n",
      "- diabetes  1     0.006 444.30 -21664\n",
      "- sod       1     0.008 444.30 -21664\n",
      "- scoma     1     0.009 444.30 -21664\n",
      "- hrt       1     0.013 444.31 -21664\n",
      "- ph        1     0.015 444.31 -21664\n",
      "- urine     1     0.016 444.31 -21664\n",
      "- meanbp    1     0.018 444.31 -21664\n",
      "- sex       1     0.023 444.31 -21664\n",
      "- hday      1     0.031 444.32 -21664\n",
      "- alb       1     0.033 444.33 -21664\n",
      "- pafi      1     0.037 444.33 -21664\n",
      "- bun       1     0.051 444.34 -21664\n",
      "- ca        2     0.181 444.47 -21663\n",
      "- aps       1     0.076 444.37 -21663\n",
      "<none>                  444.29 -21662\n",
      "- charges   1     0.117 444.41 -21662\n",
      "- num.co    1     0.126 444.42 -21662\n",
      "- sps       1     0.133 444.43 -21662\n",
      "- totcst    1     0.185 444.48 -21661\n",
      "- edu       1     0.229 444.52 -21660\n",
      "+ crea      1     0.000 444.29 -21660\n",
      "+ glucose   1     0.000 444.29 -21660\n",
      "- d.time    1     0.286 444.58 -21659\n",
      "- adlp      1     0.321 444.61 -21659\n",
      "- prg6m     1     0.339 444.63 -21658\n",
      "+ dzclass   3     0.104 444.19 -21658\n",
      "- adls      1     0.378 444.67 -21658\n",
      "+ race      4     0.188 444.10 -21658\n",
      "- prg2m     1     0.395 444.69 -21658\n",
      "- totmcst   1     0.420 444.71 -21657\n",
      "- adlsc     1     0.470 444.76 -21656\n",
      "- death     1     0.603 444.89 -21654\n",
      "+ dzgroup   7     0.232 444.06 -21652\n",
      "- slos      1     0.920 445.21 -21648\n",
      "- dnrday    1     0.962 445.25 -21648\n",
      "- surv6m    1     2.078 446.37 -21629\n",
      "- surv2m    1     2.435 446.73 -21623\n",
      "- avtisst   1     6.999 451.29 -21545\n",
      "- dnr       2    14.037 458.33 -21428\n",
      "- hatY      1    36.943 481.24 -21054\n",
      "- sfdm2     4   107.758 552.05 -20010\n",
      "\n",
      "Step:  AIC=-21664.34\n",
      "hospdead ~ death + sex + slos + d.time + num.co + edu + scoma + \n",
      "    charges + totcst + totmcst + avtisst + sps + aps + surv2m + \n",
      "    surv6m + hday + diabetes + dementia + ca + prg2m + prg6m + \n",
      "    dnr + dnrday + meanbp + wblc + hrt + resp + temp + pafi + \n",
      "    alb + bili + sod + ph + bun + urine + adlp + adls + sfdm2 + \n",
      "    adlsc + hatY\n",
      "\n",
      "           Df Sum of Sq    RSS    AIC\n",
      "- temp      1     0.001 444.29 -21666\n",
      "- wblc      1     0.001 444.29 -21666\n",
      "- bili      1     0.001 444.29 -21666\n",
      "- dementia  1     0.001 444.29 -21666\n",
      "- resp      1     0.002 444.29 -21666\n",
      "- diabetes  1     0.006 444.30 -21666\n",
      "- sod       1     0.008 444.30 -21666\n",
      "- scoma     1     0.012 444.30 -21666\n",
      "- hrt       1     0.014 444.31 -21666\n",
      "- ph        1     0.015 444.31 -21666\n",
      "- urine     1     0.016 444.31 -21666\n",
      "- meanbp    1     0.018 444.31 -21666\n",
      "- sex       1     0.022 444.32 -21666\n",
      "- hday      1     0.030 444.32 -21666\n",
      "- alb       1     0.034 444.33 -21666\n",
      "- pafi      1     0.038 444.33 -21666\n",
      "- bun       1     0.051 444.34 -21666\n",
      "- aps       1     0.075 444.37 -21665\n",
      "- ca        2     0.196 444.49 -21665\n",
      "<none>                  444.29 -21664\n",
      "- charges   1     0.119 444.41 -21664\n",
      "- num.co    1     0.126 444.42 -21664\n",
      "- sps       1     0.153 444.45 -21664\n",
      "- totcst    1     0.185 444.48 -21663\n",
      "+ age       1     0.001 444.29 -21662\n",
      "+ crea      1     0.000 444.29 -21662\n",
      "+ glucose   1     0.000 444.29 -21662\n",
      "- edu       1     0.233 444.53 -21662\n",
      "- d.time    1     0.285 444.58 -21661\n",
      "- adlp      1     0.321 444.61 -21661\n",
      "- prg6m     1     0.341 444.63 -21660\n",
      "+ dzclass   3     0.100 444.19 -21660\n",
      "- adls      1     0.378 444.67 -21660\n",
      "+ race      4     0.187 444.11 -21660\n",
      "- prg2m     1     0.397 444.69 -21660\n",
      "- totmcst   1     0.420 444.71 -21659\n",
      "- adlsc     1     0.470 444.76 -21658\n",
      "- death     1     0.603 444.90 -21656\n",
      "+ dzgroup   7     0.232 444.06 -21654\n",
      "- slos      1     0.921 445.21 -21650\n",
      "- dnrday    1     0.963 445.26 -21650\n",
      "- surv6m    1     2.123 446.42 -21630\n",
      "- surv2m    1     2.465 446.76 -21624\n",
      "- avtisst   1     7.036 451.33 -21546\n",
      "- dnr       2    14.082 458.37 -21430\n",
      "- hatY      1    36.956 481.25 -21055\n",
      "- sfdm2     4   108.037 552.33 -20008\n",
      "\n",
      "Step:  AIC=-21666.33\n",
      "hospdead ~ death + sex + slos + d.time + num.co + edu + scoma + \n",
      "    charges + totcst + totmcst + avtisst + sps + aps + surv2m + \n",
      "    surv6m + hday + diabetes + dementia + ca + prg2m + prg6m + \n",
      "    dnr + dnrday + meanbp + wblc + hrt + resp + pafi + alb + \n",
      "    bili + sod + ph + bun + urine + adlp + adls + sfdm2 + adlsc + \n",
      "    hatY\n",
      "\n",
      "           Df Sum of Sq    RSS    AIC\n",
      "- wblc      1     0.001 444.29 -21668\n",
      "- bili      1     0.001 444.29 -21668\n",
      "- dementia  1     0.001 444.29 -21668\n",
      "- resp      1     0.002 444.30 -21668\n",
      "- diabetes  1     0.006 444.30 -21668\n",
      "- sod       1     0.007 444.30 -21668\n",
      "- scoma     1     0.012 444.31 -21668\n",
      "- hrt       1     0.013 444.31 -21668\n",
      "- ph        1     0.016 444.31 -21668\n",
      "- urine     1     0.016 444.31 -21668\n",
      "- meanbp    1     0.018 444.31 -21668\n",
      "- sex       1     0.022 444.32 -21668\n",
      "- hday      1     0.031 444.32 -21668\n",
      "- alb       1     0.033 444.33 -21668\n",
      "- pafi      1     0.040 444.33 -21668\n",
      "- bun       1     0.051 444.34 -21668\n",
      "- aps       1     0.075 444.37 -21667\n",
      "- ca        2     0.197 444.49 -21667\n",
      "<none>                  444.29 -21666\n",
      "- charges   1     0.118 444.41 -21666\n",
      "- num.co    1     0.125 444.42 -21666\n",
      "- sps       1     0.153 444.45 -21666\n",
      "- totcst    1     0.185 444.48 -21665\n",
      "+ temp      1     0.001 444.29 -21664\n",
      "+ age       1     0.000 444.29 -21664\n",
      "- edu       1     0.232 444.53 -21664\n",
      "+ crea      1     0.000 444.29 -21664\n",
      "+ glucose   1     0.000 444.29 -21664\n",
      "- d.time    1     0.286 444.58 -21663\n",
      "- adlp      1     0.320 444.61 -21663\n",
      "- prg6m     1     0.341 444.63 -21662\n",
      "+ dzclass   3     0.100 444.19 -21662\n",
      "- adls      1     0.377 444.67 -21662\n",
      "+ race      4     0.188 444.11 -21662\n",
      "- prg2m     1     0.397 444.69 -21662\n",
      "- totmcst   1     0.420 444.71 -21661\n",
      "- adlsc     1     0.470 444.76 -21660\n",
      "- death     1     0.603 444.90 -21658\n",
      "+ dzgroup   7     0.230 444.06 -21656\n",
      "- slos      1     0.922 445.22 -21652\n",
      "- dnrday    1     0.964 445.26 -21652\n",
      "- surv6m    1     2.122 446.42 -21632\n",
      "- surv2m    1     2.465 446.76 -21626\n",
      "- avtisst   1     7.047 451.34 -21548\n",
      "- dnr       2    14.092 458.39 -21432\n",
      "- hatY      1    36.956 481.25 -21057\n",
      "- sfdm2     4   108.038 552.33 -20010\n",
      "\n",
      "Step:  AIC=-21668.31\n",
      "hospdead ~ death + sex + slos + d.time + num.co + edu + scoma + \n",
      "    charges + totcst + totmcst + avtisst + sps + aps + surv2m + \n",
      "    surv6m + hday + diabetes + dementia + ca + prg2m + prg6m + \n",
      "    dnr + dnrday + meanbp + hrt + resp + pafi + alb + bili + \n",
      "    sod + ph + bun + urine + adlp + adls + sfdm2 + adlsc + hatY\n",
      "\n",
      "           Df Sum of Sq    RSS    AIC\n",
      "- bili      1     0.001 444.30 -21670\n",
      "- dementia  1     0.001 444.30 -21670\n",
      "- resp      1     0.002 444.30 -21670\n",
      "- diabetes  1     0.006 444.30 -21670\n",
      "- sod       1     0.007 444.30 -21670\n",
      "- scoma     1     0.011 444.31 -21670\n",
      "- hrt       1     0.013 444.31 -21670\n",
      "- ph        1     0.015 444.31 -21670\n",
      "- urine     1     0.016 444.31 -21670\n",
      "- meanbp    1     0.018 444.31 -21670\n",
      "- sex       1     0.022 444.32 -21670\n",
      "- hday      1     0.030 444.33 -21670\n",
      "- alb       1     0.033 444.33 -21670\n",
      "- pafi      1     0.042 444.34 -21670\n",
      "- bun       1     0.052 444.35 -21669\n",
      "- aps       1     0.076 444.37 -21669\n",
      "- ca        2     0.197 444.49 -21669\n",
      "<none>                  444.29 -21668\n",
      "- charges   1     0.119 444.41 -21668\n",
      "- num.co    1     0.126 444.42 -21668\n",
      "- sps       1     0.154 444.45 -21668\n",
      "- totcst    1     0.184 444.48 -21667\n",
      "+ wblc      1     0.001 444.29 -21666\n",
      "+ temp      1     0.001 444.29 -21666\n",
      "+ age       1     0.001 444.29 -21666\n",
      "- edu       1     0.232 444.53 -21666\n",
      "+ glucose   1     0.000 444.29 -21666\n",
      "+ crea      1     0.000 444.29 -21666\n",
      "- d.time    1     0.285 444.58 -21665\n",
      "- adlp      1     0.320 444.61 -21665\n",
      "- prg6m     1     0.341 444.64 -21664\n",
      "+ dzclass   3     0.101 444.19 -21664\n",
      "- adls      1     0.377 444.67 -21664\n",
      "+ race      4     0.187 444.11 -21664\n",
      "- prg2m     1     0.396 444.69 -21664\n",
      "- totmcst   1     0.419 444.71 -21663\n",
      "- adlsc     1     0.469 444.76 -21662\n",
      "- death     1     0.603 444.90 -21660\n",
      "+ dzgroup   7     0.231 444.06 -21658\n",
      "- slos      1     0.923 445.22 -21654\n",
      "- dnrday    1     0.964 445.26 -21654\n",
      "- surv6m    1     2.121 446.42 -21634\n",
      "- surv2m    1     2.464 446.76 -21628\n",
      "- avtisst   1     7.049 451.34 -21550\n",
      "- dnr       2    14.091 458.39 -21434\n",
      "- hatY      1    37.064 481.36 -21058\n",
      "- sfdm2     4   108.068 552.36 -20012\n",
      "\n",
      "Step:  AIC=-21670.29\n",
      "hospdead ~ death + sex + slos + d.time + num.co + edu + scoma + \n",
      "    charges + totcst + totmcst + avtisst + sps + aps + surv2m + \n",
      "    surv6m + hday + diabetes + dementia + ca + prg2m + prg6m + \n",
      "    dnr + dnrday + meanbp + hrt + resp + pafi + alb + sod + ph + \n",
      "    bun + urine + adlp + adls + sfdm2 + adlsc + hatY\n",
      "\n",
      "           Df Sum of Sq    RSS    AIC\n",
      "- dementia  1     0.001 444.30 -21672\n",
      "- resp      1     0.002 444.30 -21672\n",
      "- diabetes  1     0.005 444.30 -21672\n",
      "- sod       1     0.008 444.30 -21672\n",
      "- scoma     1     0.012 444.31 -21672\n",
      "- hrt       1     0.013 444.31 -21672\n",
      "- ph        1     0.015 444.31 -21672\n",
      "- urine     1     0.016 444.31 -21672\n",
      "- meanbp    1     0.018 444.31 -21672\n",
      "- sex       1     0.022 444.32 -21672\n",
      "- hday      1     0.030 444.33 -21672\n",
      "- alb       1     0.034 444.33 -21672\n",
      "- pafi      1     0.042 444.34 -21672\n",
      "- bun       1     0.051 444.35 -21671\n",
      "- aps       1     0.077 444.37 -21671\n",
      "- ca        2     0.198 444.49 -21671\n",
      "<none>                  444.30 -21670\n",
      "- charges   1     0.122 444.42 -21670\n",
      "- num.co    1     0.125 444.42 -21670\n",
      "- sps       1     0.152 444.45 -21670\n",
      "- totcst    1     0.187 444.48 -21669\n",
      "+ bili      1     0.001 444.29 -21668\n",
      "+ wblc      1     0.001 444.29 -21668\n",
      "+ temp      1     0.001 444.29 -21668\n",
      "+ age       1     0.001 444.30 -21668\n",
      "+ glucose   1     0.000 444.30 -21668\n",
      "+ crea      1     0.000 444.30 -21668\n",
      "- edu       1     0.233 444.53 -21668\n",
      "- d.time    1     0.285 444.58 -21667\n",
      "- adlp      1     0.319 444.61 -21667\n",
      "- prg6m     1     0.340 444.64 -21666\n",
      "+ dzclass   3     0.100 444.20 -21666\n",
      "- adls      1     0.377 444.67 -21666\n",
      "+ race      4     0.188 444.11 -21666\n",
      "- prg2m     1     0.395 444.69 -21666\n",
      "- totmcst   1     0.421 444.72 -21665\n",
      "- adlsc     1     0.470 444.77 -21664\n",
      "- death     1     0.603 444.90 -21662\n",
      "+ dzgroup   7     0.232 444.06 -21660\n",
      "- slos      1     0.930 445.23 -21656\n",
      "- dnrday    1     0.964 445.26 -21656\n",
      "- surv6m    1     2.121 446.42 -21636\n",
      "- surv2m    1     2.463 446.76 -21630\n",
      "- avtisst   1     7.055 451.35 -21552\n",
      "- dnr       2    14.090 458.39 -21436\n",
      "- hatY      1    37.141 481.44 -21058\n",
      "- sfdm2     4   108.079 552.37 -20014\n",
      "\n",
      "Step:  AIC=-21672.27\n",
      "hospdead ~ death + sex + slos + d.time + num.co + edu + scoma + \n",
      "    charges + totcst + totmcst + avtisst + sps + aps + surv2m + \n",
      "    surv6m + hday + diabetes + ca + prg2m + prg6m + dnr + dnrday + \n",
      "    meanbp + hrt + resp + pafi + alb + sod + ph + bun + urine + \n",
      "    adlp + adls + sfdm2 + adlsc + hatY\n",
      "\n",
      "           Df Sum of Sq    RSS    AIC\n",
      "- resp      1     0.002 444.30 -21674\n",
      "- diabetes  1     0.005 444.30 -21674\n",
      "- sod       1     0.007 444.30 -21674\n",
      "- scoma     1     0.012 444.31 -21674\n",
      "- hrt       1     0.013 444.31 -21674\n",
      "- ph        1     0.015 444.31 -21674\n",
      "- urine     1     0.016 444.31 -21674\n",
      "- meanbp    1     0.018 444.32 -21674\n",
      "- sex       1     0.022 444.32 -21674\n",
      "- hday      1     0.030 444.33 -21674\n",
      "- alb       1     0.034 444.33 -21674\n",
      "- pafi      1     0.043 444.34 -21674\n",
      "- bun       1     0.051 444.35 -21673\n",
      "- aps       1     0.077 444.37 -21673\n",
      "- ca        2     0.196 444.49 -21673\n",
      "<none>                  444.30 -21672\n",
      "- charges   1     0.123 444.42 -21672\n",
      "- num.co    1     0.129 444.43 -21672\n",
      "- sps       1     0.151 444.45 -21672\n",
      "- totcst    1     0.187 444.48 -21671\n",
      "+ dementia  1     0.001 444.30 -21670\n",
      "+ bili      1     0.001 444.30 -21670\n",
      "+ wblc      1     0.001 444.30 -21670\n",
      "+ age       1     0.001 444.30 -21670\n",
      "+ temp      1     0.001 444.30 -21670\n",
      "- edu       1     0.232 444.53 -21670\n",
      "+ glucose   1     0.000 444.30 -21670\n",
      "+ crea      1     0.000 444.30 -21670\n",
      "- d.time    1     0.284 444.58 -21669\n",
      "- adlp      1     0.318 444.62 -21669\n",
      "- prg6m     1     0.341 444.64 -21668\n",
      "+ dzclass   3     0.099 444.20 -21668\n",
      "- adls      1     0.378 444.68 -21668\n",
      "+ race      4     0.188 444.11 -21668\n",
      "- prg2m     1     0.396 444.69 -21667\n",
      "- totmcst   1     0.421 444.72 -21667\n",
      "- adlsc     1     0.481 444.78 -21666\n",
      "- death     1     0.605 444.90 -21664\n",
      "+ dzgroup   7     0.232 444.07 -21662\n",
      "- slos      1     0.931 445.23 -21658\n",
      "- dnrday    1     0.964 445.26 -21658\n",
      "- surv6m    1     2.121 446.42 -21638\n",
      "- surv2m    1     2.462 446.76 -21632\n",
      "- avtisst   1     7.060 451.36 -21554\n",
      "- dnr       2    14.089 458.39 -21438\n",
      "- hatY      1    37.168 481.47 -21060\n",
      "- sfdm2     4   108.298 552.60 -20012\n",
      "\n",
      "Step:  AIC=-21674.23\n",
      "hospdead ~ death + sex + slos + d.time + num.co + edu + scoma + \n",
      "    charges + totcst + totmcst + avtisst + sps + aps + surv2m + \n",
      "    surv6m + hday + diabetes + ca + prg2m + prg6m + dnr + dnrday + \n",
      "    meanbp + hrt + pafi + alb + sod + ph + bun + urine + adlp + \n",
      "    adls + sfdm2 + adlsc + hatY\n",
      "\n",
      "           Df Sum of Sq    RSS    AIC\n",
      "- diabetes  1     0.006 444.31 -21676\n",
      "- sod       1     0.007 444.31 -21676\n",
      "- hrt       1     0.012 444.31 -21676\n",
      "- scoma     1     0.012 444.31 -21676\n",
      "- ph        1     0.015 444.31 -21676\n",
      "- urine     1     0.016 444.32 -21676\n",
      "- meanbp    1     0.017 444.32 -21676\n",
      "- sex       1     0.022 444.32 -21676\n",
      "- hday      1     0.030 444.33 -21676\n",
      "- alb       1     0.034 444.33 -21676\n",
      "- pafi      1     0.044 444.34 -21676\n",
      "- bun       1     0.051 444.35 -21675\n",
      "- aps       1     0.075 444.37 -21675\n",
      "- ca        2     0.196 444.50 -21675\n",
      "<none>                  444.30 -21674\n",
      "- charges   1     0.123 444.42 -21674\n",
      "- num.co    1     0.130 444.43 -21674\n",
      "- sps       1     0.150 444.45 -21674\n",
      "- totcst    1     0.187 444.49 -21673\n",
      "+ resp      1     0.002 444.30 -21672\n",
      "+ dementia  1     0.001 444.30 -21672\n",
      "+ bili      1     0.001 444.30 -21672\n",
      "+ wblc      1     0.001 444.30 -21672\n",
      "+ temp      1     0.001 444.30 -21672\n",
      "+ age       1     0.001 444.30 -21672\n",
      "+ crea      1     0.000 444.30 -21672\n",
      "+ glucose   1     0.000 444.30 -21672\n",
      "- edu       1     0.234 444.53 -21672\n",
      "- d.time    1     0.284 444.58 -21671\n",
      "- adlp      1     0.318 444.62 -21671\n",
      "- prg6m     1     0.341 444.64 -21670\n",
      "+ dzclass   3     0.099 444.20 -21670\n",
      "- adls      1     0.377 444.68 -21670\n",
      "+ race      4     0.188 444.11 -21670\n",
      "- prg2m     1     0.396 444.70 -21669\n",
      "- totmcst   1     0.420 444.72 -21669\n",
      "- adlsc     1     0.481 444.78 -21668\n",
      "- death     1     0.604 444.90 -21666\n",
      "+ dzgroup   7     0.233 444.07 -21664\n",
      "- slos      1     0.930 445.23 -21660\n",
      "- dnrday    1     0.964 445.26 -21660\n",
      "- surv6m    1     2.121 446.42 -21640\n",
      "- surv2m    1     2.462 446.76 -21634\n",
      "- avtisst   1     7.077 451.38 -21555\n",
      "- dnr       2    14.089 458.39 -21440\n",
      "- hatY      1    37.268 481.57 -21060\n",
      "- sfdm2     4   108.296 552.60 -20014\n",
      "\n",
      "Step:  AIC=-21676.13\n",
      "hospdead ~ death + sex + slos + d.time + num.co + edu + scoma + \n",
      "    charges + totcst + totmcst + avtisst + sps + aps + surv2m + \n",
      "    surv6m + hday + ca + prg2m + prg6m + dnr + dnrday + meanbp + \n",
      "    hrt + pafi + alb + sod + ph + bun + urine + adlp + adls + \n",
      "    sfdm2 + adlsc + hatY\n",
      "\n",
      "           Df Sum of Sq    RSS    AIC\n",
      "- sod       1     0.007 444.31 -21678\n",
      "- hrt       1     0.011 444.32 -21678\n",
      "- scoma     1     0.012 444.32 -21678\n",
      "- ph        1     0.015 444.32 -21678\n",
      "- urine     1     0.016 444.32 -21678\n",
      "- meanbp    1     0.018 444.32 -21678\n",
      "- sex       1     0.024 444.33 -21678\n",
      "- hday      1     0.030 444.34 -21678\n",
      "- alb       1     0.035 444.34 -21678\n",
      "- pafi      1     0.044 444.35 -21677\n",
      "- bun       1     0.050 444.36 -21677\n",
      "- aps       1     0.079 444.38 -21677\n",
      "- ca        2     0.196 444.50 -21677\n",
      "<none>                  444.31 -21676\n",
      "- charges   1     0.121 444.43 -21676\n",
      "- num.co    1     0.129 444.43 -21676\n",
      "- sps       1     0.153 444.46 -21676\n",
      "- totcst    1     0.189 444.49 -21675\n",
      "+ diabetes  1     0.006 444.30 -21674\n",
      "+ resp      1     0.003 444.30 -21674\n",
      "+ dementia  1     0.002 444.30 -21674\n",
      "+ wblc      1     0.001 444.30 -21674\n",
      "+ bili      1     0.001 444.30 -21674\n",
      "+ temp      1     0.001 444.30 -21674\n",
      "- edu       1     0.232 444.54 -21674\n",
      "+ age       1     0.001 444.30 -21674\n",
      "+ crea      1     0.000 444.31 -21674\n",
      "+ glucose   1     0.000 444.31 -21674\n",
      "- d.time    1     0.285 444.59 -21673\n",
      "- adlp      1     0.319 444.62 -21673\n",
      "- prg6m     1     0.341 444.65 -21672\n",
      "+ dzclass   3     0.098 444.21 -21672\n",
      "- adls      1     0.377 444.68 -21672\n",
      "+ race      4     0.191 444.11 -21671\n",
      "- prg2m     1     0.396 444.70 -21671\n",
      "- totmcst   1     0.422 444.73 -21671\n",
      "- adlsc     1     0.480 444.79 -21670\n",
      "- death     1     0.605 444.91 -21668\n",
      "+ dzgroup   7     0.228 444.08 -21666\n",
      "- slos      1     0.926 445.23 -21662\n",
      "- dnrday    1     0.961 445.27 -21662\n",
      "- surv6m    1     2.139 446.44 -21641\n",
      "- surv2m    1     2.481 446.79 -21636\n",
      "- avtisst   1     7.103 451.41 -21557\n",
      "- dnr       2    14.085 458.39 -21442\n",
      "- hatY      1    37.262 481.57 -21062\n",
      "- sfdm2     4   108.298 552.60 -20016\n",
      "\n",
      "Step:  AIC=-21678\n",
      "hospdead ~ death + sex + slos + d.time + num.co + edu + scoma + \n",
      "    charges + totcst + totmcst + avtisst + sps + aps + surv2m + \n",
      "    surv6m + hday + ca + prg2m + prg6m + dnr + dnrday + meanbp + \n",
      "    hrt + pafi + alb + ph + bun + urine + adlp + adls + sfdm2 + \n",
      "    adlsc + hatY\n",
      "\n",
      "           Df Sum of Sq    RSS    AIC\n",
      "- hrt       1     0.011 444.32 -21680\n",
      "- scoma     1     0.013 444.33 -21680\n",
      "- urine     1     0.015 444.33 -21680\n",
      "- ph        1     0.016 444.33 -21680\n",
      "- meanbp    1     0.019 444.33 -21680\n",
      "- sex       1     0.024 444.34 -21680\n",
      "- hday      1     0.030 444.34 -21680\n",
      "- alb       1     0.034 444.35 -21679\n",
      "- pafi      1     0.042 444.35 -21679\n",
      "- bun       1     0.047 444.36 -21679\n",
      "- ca        2     0.193 444.51 -21679\n",
      "- aps       1     0.082 444.39 -21679\n",
      "<none>                  444.31 -21678\n",
      "- charges   1     0.122 444.43 -21678\n",
      "- num.co    1     0.129 444.44 -21678\n",
      "- sps       1     0.156 444.47 -21677\n",
      "- totcst    1     0.189 444.50 -21677\n",
      "+ sod       1     0.007 444.31 -21676\n",
      "+ diabetes  1     0.006 444.31 -21676\n",
      "+ resp      1     0.002 444.31 -21676\n",
      "+ dementia  1     0.001 444.31 -21676\n",
      "- edu       1     0.231 444.54 -21676\n",
      "+ wblc      1     0.001 444.31 -21676\n",
      "+ bili      1     0.001 444.31 -21676\n",
      "+ age       1     0.000 444.31 -21676\n",
      "+ temp      1     0.000 444.31 -21676\n",
      "+ crea      1     0.000 444.31 -21676\n",
      "+ glucose   1     0.000 444.31 -21676\n",
      "- d.time    1     0.285 444.60 -21675\n",
      "- adlp      1     0.323 444.64 -21674\n",
      "- prg6m     1     0.342 444.65 -21674\n",
      "+ dzclass   3     0.096 444.22 -21674\n",
      "- adls      1     0.377 444.69 -21674\n",
      "+ race      4     0.192 444.12 -21673\n",
      "- prg2m     1     0.397 444.71 -21673\n",
      "- totmcst   1     0.423 444.74 -21673\n",
      "- adlsc     1     0.482 444.79 -21672\n",
      "- death     1     0.605 444.92 -21670\n",
      "+ dzgroup   7     0.225 444.09 -21668\n",
      "- slos      1     0.923 445.24 -21664\n",
      "- dnrday    1     0.958 445.27 -21664\n",
      "- surv6m    1     2.148 446.46 -21643\n",
      "- surv2m    1     2.484 446.80 -21637\n",
      "- avtisst   1     7.108 451.42 -21559\n",
      "- dnr       2    14.080 458.39 -21444\n",
      "- hatY      1    37.286 481.60 -21064\n",
      "- sfdm2     4   108.299 552.61 -20018\n",
      "\n",
      "Step:  AIC=-21679.82\n",
      "hospdead ~ death + sex + slos + d.time + num.co + edu + scoma + \n",
      "    charges + totcst + totmcst + avtisst + sps + aps + surv2m + \n",
      "    surv6m + hday + ca + prg2m + prg6m + dnr + dnrday + meanbp + \n",
      "    pafi + alb + ph + bun + urine + adlp + adls + sfdm2 + adlsc + \n",
      "    hatY\n",
      "\n",
      "           Df Sum of Sq    RSS    AIC\n",
      "- scoma     1     0.012 444.34 -21682\n",
      "- ph        1     0.015 444.34 -21682\n",
      "- urine     1     0.015 444.34 -21682\n",
      "- meanbp    1     0.023 444.35 -21681\n",
      "- sex       1     0.024 444.35 -21681\n",
      "- hday      1     0.030 444.35 -21681\n",
      "- pafi      1     0.037 444.36 -21681\n",
      "- alb       1     0.040 444.36 -21681\n",
      "- bun       1     0.048 444.37 -21681\n",
      "- ca        2     0.194 444.52 -21680\n",
      "- aps       1     0.086 444.41 -21680\n",
      "<none>                  444.32 -21680\n",
      "- charges   1     0.124 444.45 -21680\n",
      "- num.co    1     0.132 444.46 -21680\n",
      "- sps       1     0.160 444.48 -21679\n",
      "- totcst    1     0.195 444.52 -21678\n",
      "+ hrt       1     0.011 444.31 -21678\n",
      "+ sod       1     0.008 444.32 -21678\n",
      "+ diabetes  1     0.005 444.32 -21678\n",
      "- edu       1     0.230 444.55 -21678\n",
      "+ dementia  1     0.002 444.32 -21678\n",
      "+ bili      1     0.001 444.32 -21678\n",
      "+ age       1     0.001 444.32 -21678\n",
      "+ resp      1     0.001 444.32 -21678\n",
      "+ wblc      1     0.001 444.32 -21678\n",
      "+ crea      1     0.000 444.32 -21678\n",
      "+ temp      1     0.000 444.32 -21678\n",
      "+ glucose   1     0.000 444.32 -21678\n",
      "- d.time    1     0.288 444.61 -21677\n",
      "- adlp      1     0.325 444.65 -21676\n",
      "- prg6m     1     0.343 444.67 -21676\n",
      "+ dzclass   3     0.097 444.23 -21676\n",
      "- adls      1     0.380 444.70 -21675\n",
      "+ race      4     0.193 444.13 -21675\n",
      "- prg2m     1     0.398 444.72 -21675\n",
      "- totmcst   1     0.432 444.75 -21674\n",
      "- adlsc     1     0.486 444.81 -21674\n",
      "- death     1     0.599 444.92 -21672\n",
      "+ dzgroup   7     0.225 444.10 -21670\n",
      "- slos      1     0.930 445.25 -21666\n",
      "- dnrday    1     0.963 445.29 -21665\n",
      "- surv6m    1     2.141 446.46 -21645\n",
      "- surv2m    1     2.483 446.81 -21639\n",
      "- avtisst   1     7.148 451.47 -21560\n",
      "- dnr       2    14.075 458.40 -21445\n",
      "- hatY      1    37.280 481.60 -21066\n",
      "- sfdm2     4   108.319 552.64 -20020\n",
      "\n",
      "Step:  AIC=-21681.61\n",
      "hospdead ~ death + sex + slos + d.time + num.co + edu + charges + \n",
      "    totcst + totmcst + avtisst + sps + aps + surv2m + surv6m + \n",
      "    hday + ca + prg2m + prg6m + dnr + dnrday + meanbp + pafi + \n",
      "    alb + ph + bun + urine + adlp + adls + sfdm2 + adlsc + hatY\n",
      "\n",
      "           Df Sum of Sq    RSS    AIC\n",
      "- urine     1     0.015 444.35 -21683\n",
      "- ph        1     0.016 444.35 -21683\n",
      "- meanbp    1     0.024 444.36 -21683\n",
      "- sex       1     0.024 444.36 -21683\n",
      "- hday      1     0.036 444.37 -21683\n",
      "- pafi      1     0.039 444.37 -21683\n",
      "- alb       1     0.040 444.38 -21683\n",
      "- bun       1     0.048 444.38 -21683\n",
      "- aps       1     0.079 444.41 -21682\n",
      "- ca        2     0.227 444.56 -21682\n",
      "<none>                  444.34 -21682\n",
      "- charges   1     0.127 444.46 -21681\n",
      "- num.co    1     0.137 444.47 -21681\n",
      "- totcst    1     0.195 444.53 -21680\n",
      "+ scoma     1     0.012 444.32 -21680\n",
      "- sps       1     0.222 444.56 -21680\n",
      "+ hrt       1     0.010 444.33 -21680\n",
      "+ sod       1     0.009 444.33 -21680\n",
      "+ diabetes  1     0.005 444.33 -21680\n",
      "+ age       1     0.005 444.33 -21680\n",
      "+ dementia  1     0.002 444.33 -21680\n",
      "+ bili      1     0.002 444.33 -21680\n",
      "+ resp      1     0.001 444.33 -21680\n",
      "- edu       1     0.232 444.57 -21680\n",
      "+ wblc      1     0.000 444.34 -21680\n",
      "+ temp      1     0.000 444.34 -21680\n",
      "+ crea      1     0.000 444.34 -21680\n",
      "+ glucose   1     0.000 444.34 -21680\n",
      "- d.time    1     0.291 444.63 -21679\n",
      "- adlp      1     0.335 444.67 -21678\n",
      "- prg6m     1     0.344 444.68 -21678\n",
      "+ dzclass   3     0.086 444.25 -21677\n",
      "+ race      4     0.200 444.14 -21677\n",
      "- adls      1     0.389 444.72 -21677\n",
      "- prg2m     1     0.404 444.74 -21677\n",
      "- totmcst   1     0.434 444.77 -21676\n",
      "- adlsc     1     0.499 444.83 -21675\n",
      "- death     1     0.594 444.93 -21673\n",
      "+ dzgroup   7     0.217 444.12 -21671\n",
      "- slos      1     0.933 445.27 -21668\n",
      "- dnrday    1     0.964 445.30 -21667\n",
      "- surv6m    1     2.332 446.67 -21644\n",
      "- surv2m    1     3.411 447.75 -21625\n",
      "- avtisst   1     7.141 451.48 -21562\n",
      "- dnr       2    14.063 458.40 -21447\n",
      "- hatY      1    37.530 481.87 -21064\n",
      "- sfdm2     4   108.308 552.64 -20022\n",
      "\n",
      "Step:  AIC=-21683.35\n",
      "hospdead ~ death + sex + slos + d.time + num.co + edu + charges + \n",
      "    totcst + totmcst + avtisst + sps + aps + surv2m + surv6m + \n",
      "    hday + ca + prg2m + prg6m + dnr + dnrday + meanbp + pafi + \n",
      "    alb + ph + bun + adlp + adls + sfdm2 + adlsc + hatY\n",
      "\n",
      "           Df Sum of Sq    RSS    AIC\n",
      "- ph        1     0.018 444.37 -21685\n",
      "- meanbp    1     0.021 444.37 -21685\n",
      "- sex       1     0.025 444.38 -21685\n",
      "- hday      1     0.036 444.39 -21685\n",
      "- bun       1     0.037 444.39 -21685\n",
      "- pafi      1     0.040 444.39 -21685\n",
      "- alb       1     0.040 444.39 -21685\n",
      "- aps       1     0.080 444.43 -21684\n",
      "- ca        2     0.227 444.58 -21683\n",
      "<none>                  444.35 -21683\n",
      "- charges   1     0.124 444.47 -21683\n",
      "- num.co    1     0.137 444.49 -21683\n",
      "- totcst    1     0.198 444.55 -21682\n",
      "+ urine     1     0.015 444.34 -21682\n",
      "+ scoma     1     0.012 444.34 -21682\n",
      "+ hrt       1     0.010 444.34 -21682\n",
      "- sps       1     0.223 444.57 -21682\n",
      "+ sod       1     0.008 444.34 -21682\n",
      "+ diabetes  1     0.005 444.35 -21681\n",
      "+ age       1     0.005 444.35 -21681\n",
      "+ bili      1     0.002 444.35 -21681\n",
      "+ dementia  1     0.002 444.35 -21681\n",
      "- edu       1     0.231 444.58 -21681\n",
      "+ resp      1     0.001 444.35 -21681\n",
      "+ wblc      1     0.000 444.35 -21681\n",
      "+ crea      1     0.000 444.35 -21681\n",
      "+ glucose   1     0.000 444.35 -21681\n",
      "+ temp      1     0.000 444.35 -21681\n",
      "- d.time    1     0.290 444.64 -21680\n",
      "- adlp      1     0.336 444.69 -21680\n",
      "- prg6m     1     0.345 444.70 -21679\n",
      "+ dzclass   3     0.088 444.26 -21679\n",
      "+ race      4     0.199 444.15 -21679\n",
      "- adls      1     0.391 444.74 -21679\n",
      "- prg2m     1     0.404 444.76 -21678\n",
      "- totmcst   1     0.437 444.79 -21678\n",
      "- adlsc     1     0.505 444.86 -21677\n",
      "- death     1     0.595 444.95 -21675\n",
      "+ dzgroup   7     0.219 444.13 -21673\n",
      "- slos      1     0.933 445.28 -21669\n",
      "- dnrday    1     0.966 445.32 -21669\n",
      "- surv6m    1     2.330 446.68 -21645\n",
      "- surv2m    1     3.407 447.76 -21627\n",
      "- avtisst   1     7.142 451.49 -21563\n",
      "- dnr       2    14.056 458.41 -21449\n",
      "- hatY      1    37.574 481.93 -21065\n",
      "- sfdm2     4   108.311 552.66 -20024\n",
      "\n",
      "Step:  AIC=-21685.04\n",
      "hospdead ~ death + sex + slos + d.time + num.co + edu + charges + \n",
      "    totcst + totmcst + avtisst + sps + aps + surv2m + surv6m + \n",
      "    hday + ca + prg2m + prg6m + dnr + dnrday + meanbp + pafi + \n",
      "    alb + bun + adlp + adls + sfdm2 + adlsc + hatY\n",
      "\n",
      "           Df Sum of Sq    RSS    AIC\n",
      "- meanbp    1     0.018 444.39 -21687\n",
      "- sex       1     0.026 444.39 -21687\n",
      "- bun       1     0.033 444.40 -21686\n",
      "- pafi      1     0.035 444.40 -21686\n",
      "- hday      1     0.035 444.40 -21686\n",
      "- alb       1     0.040 444.41 -21686\n",
      "- aps       1     0.084 444.45 -21686\n",
      "- ca        2     0.223 444.59 -21685\n",
      "<none>                  444.37 -21685\n",
      "- charges   1     0.120 444.49 -21685\n",
      "- num.co    1     0.137 444.51 -21685\n",
      "- totcst    1     0.196 444.56 -21684\n",
      "+ ph        1     0.018 444.35 -21683\n",
      "+ urine     1     0.017 444.35 -21683\n",
      "+ scoma     1     0.013 444.36 -21683\n",
      "- sps       1     0.220 444.59 -21683\n",
      "+ hrt       1     0.009 444.36 -21683\n",
      "+ sod       1     0.009 444.36 -21683\n",
      "+ diabetes  1     0.005 444.36 -21683\n",
      "+ age       1     0.004 444.36 -21683\n",
      "- edu       1     0.229 444.60 -21683\n",
      "+ bili      1     0.002 444.37 -21683\n",
      "+ dementia  1     0.002 444.37 -21683\n",
      "+ crea      1     0.001 444.37 -21683\n",
      "+ resp      1     0.001 444.37 -21683\n",
      "+ wblc      1     0.000 444.37 -21683\n",
      "+ temp      1     0.000 444.37 -21683\n",
      "+ glucose   1     0.000 444.37 -21683\n",
      "- d.time    1     0.289 444.66 -21682\n",
      "- adlp      1     0.334 444.70 -21681\n",
      "- prg6m     1     0.346 444.71 -21681\n",
      "+ dzclass   3     0.085 444.28 -21680\n",
      "+ race      4     0.201 444.17 -21680\n",
      "- adls      1     0.396 444.76 -21680\n",
      "- prg2m     1     0.404 444.77 -21680\n",
      "- totmcst   1     0.441 444.81 -21679\n",
      "- adlsc     1     0.510 444.88 -21678\n",
      "- death     1     0.595 444.96 -21677\n",
      "+ dzgroup   7     0.217 444.15 -21675\n",
      "- slos      1     0.928 445.30 -21671\n",
      "- dnrday    1     0.961 445.33 -21670\n",
      "- surv6m    1     2.328 446.70 -21647\n",
      "- surv2m    1     3.397 447.77 -21629\n",
      "- avtisst   1     7.151 451.52 -21565\n",
      "- dnr       2    14.057 458.43 -21451\n",
      "- hatY      1    37.668 482.04 -21065\n",
      "- sfdm2     4   108.321 552.69 -20025\n",
      "\n",
      "Step:  AIC=-21686.73\n",
      "hospdead ~ death + sex + slos + d.time + num.co + edu + charges + \n",
      "    totcst + totmcst + avtisst + sps + aps + surv2m + surv6m + \n",
      "    hday + ca + prg2m + prg6m + dnr + dnrday + pafi + alb + bun + \n",
      "    adlp + adls + sfdm2 + adlsc + hatY\n",
      "\n",
      "           Df Sum of Sq    RSS    AIC\n",
      "- sex       1     0.025 444.41 -21688\n",
      "- hday      1     0.033 444.42 -21688\n",
      "- bun       1     0.036 444.42 -21688\n",
      "- alb       1     0.037 444.42 -21688\n",
      "- pafi      1     0.037 444.42 -21688\n",
      "- aps       1     0.084 444.47 -21687\n",
      "- ca        2     0.222 444.61 -21687\n",
      "<none>                  444.39 -21687\n",
      "- charges   1     0.119 444.51 -21687\n",
      "- num.co    1     0.139 444.53 -21686\n",
      "- totcst    1     0.193 444.58 -21685\n",
      "+ meanbp    1     0.018 444.37 -21685\n",
      "+ ph        1     0.015 444.37 -21685\n",
      "+ urine     1     0.014 444.37 -21685\n",
      "+ scoma     1     0.013 444.37 -21685\n",
      "+ hrt       1     0.012 444.37 -21685\n",
      "+ sod       1     0.011 444.38 -21685\n",
      "- edu       1     0.226 444.61 -21685\n",
      "+ age       1     0.006 444.38 -21685\n",
      "+ diabetes  1     0.005 444.38 -21685\n",
      "+ bili      1     0.002 444.38 -21685\n",
      "+ dementia  1     0.001 444.38 -21685\n",
      "+ crea      1     0.001 444.39 -21685\n",
      "+ resp      1     0.000 444.39 -21685\n",
      "+ wblc      1     0.000 444.39 -21685\n",
      "+ temp      1     0.000 444.39 -21685\n",
      "+ glucose   1     0.000 444.39 -21685\n",
      "- sps       1     0.238 444.62 -21685\n",
      "- d.time    1     0.289 444.68 -21684\n",
      "- adlp      1     0.335 444.72 -21683\n",
      "- prg6m     1     0.354 444.74 -21683\n",
      "+ race      4     0.206 444.18 -21682\n",
      "+ dzclass   3     0.086 444.30 -21682\n",
      "- adls      1     0.390 444.78 -21682\n",
      "- prg2m     1     0.413 444.80 -21682\n",
      "- totmcst   1     0.438 444.82 -21681\n",
      "- adlsc     1     0.503 444.89 -21680\n",
      "- death     1     0.592 444.98 -21678\n",
      "+ dzgroup   7     0.223 444.16 -21677\n",
      "- slos      1     0.924 445.31 -21673\n",
      "- dnrday    1     0.962 445.35 -21672\n",
      "- surv6m    1     2.317 446.70 -21649\n",
      "- surv2m    1     3.386 447.77 -21631\n",
      "- avtisst   1     7.155 451.54 -21567\n",
      "- dnr       2    14.047 458.43 -21453\n",
      "- hatY      1    37.686 482.07 -21066\n",
      "- sfdm2     4   108.397 552.78 -20026\n",
      "\n",
      "Step:  AIC=-21688.29\n",
      "hospdead ~ death + slos + d.time + num.co + edu + charges + totcst + \n",
      "    totmcst + avtisst + sps + aps + surv2m + surv6m + hday + \n",
      "    ca + prg2m + prg6m + dnr + dnrday + pafi + alb + bun + adlp + \n",
      "    adls + sfdm2 + adlsc + hatY\n",
      "\n",
      "           Df Sum of Sq    RSS    AIC\n",
      "- hday      1     0.032 444.44 -21690\n",
      "- alb       1     0.036 444.45 -21690\n",
      "- bun       1     0.036 444.45 -21690\n",
      "- pafi      1     0.039 444.45 -21690\n",
      "- aps       1     0.083 444.49 -21689\n",
      "- ca        2     0.221 444.63 -21688\n",
      "<none>                  444.41 -21688\n",
      "- charges   1     0.120 444.53 -21688\n",
      "- num.co    1     0.146 444.56 -21688\n",
      "- totcst    1     0.191 444.60 -21687\n",
      "+ sex       1     0.025 444.39 -21687\n",
      "+ meanbp    1     0.018 444.39 -21687\n",
      "+ ph        1     0.016 444.40 -21687\n",
      "+ urine     1     0.014 444.40 -21686\n",
      "+ scoma     1     0.013 444.40 -21686\n",
      "+ hrt       1     0.013 444.40 -21686\n",
      "+ sod       1     0.011 444.40 -21686\n",
      "+ diabetes  1     0.007 444.41 -21686\n",
      "- edu       1     0.226 444.64 -21686\n",
      "+ age       1     0.005 444.41 -21686\n",
      "+ bili      1     0.001 444.41 -21686\n",
      "+ dementia  1     0.001 444.41 -21686\n",
      "+ crea      1     0.001 444.41 -21686\n",
      "+ resp      1     0.000 444.41 -21686\n",
      "+ wblc      1     0.000 444.41 -21686\n",
      "+ temp      1     0.000 444.41 -21686\n",
      "+ glucose   1     0.000 444.41 -21686\n",
      "- sps       1     0.242 444.65 -21686\n",
      "- d.time    1     0.287 444.70 -21685\n",
      "- adlp      1     0.328 444.74 -21685\n",
      "- prg6m     1     0.360 444.77 -21684\n",
      "+ race      4     0.213 444.20 -21684\n",
      "+ dzclass   3     0.090 444.32 -21684\n",
      "- adls      1     0.387 444.80 -21684\n",
      "- prg2m     1     0.420 444.83 -21683\n",
      "- totmcst   1     0.435 444.85 -21683\n",
      "- adlsc     1     0.507 444.92 -21682\n",
      "- death     1     0.586 445.00 -21680\n",
      "+ dzgroup   7     0.229 444.18 -21678\n",
      "- slos      1     0.925 445.34 -21674\n",
      "- dnrday    1     0.964 445.38 -21674\n",
      "- surv6m    1     2.332 446.74 -21650\n",
      "- surv2m    1     3.414 447.83 -21632\n",
      "- avtisst   1     7.147 451.56 -21568\n",
      "- dnr       2    14.110 458.52 -21453\n",
      "- hatY      1    37.721 482.13 -21067\n",
      "- sfdm2     4   108.372 552.78 -20028\n",
      "\n",
      "Step:  AIC=-21689.74\n",
      "hospdead ~ death + slos + d.time + num.co + edu + charges + totcst + \n",
      "    totmcst + avtisst + sps + aps + surv2m + surv6m + ca + prg2m + \n",
      "    prg6m + dnr + dnrday + pafi + alb + bun + adlp + adls + sfdm2 + \n",
      "    adlsc + hatY\n",
      "\n",
      "           Df Sum of Sq    RSS    AIC\n",
      "- alb       1     0.034 444.48 -21691\n",
      "- bun       1     0.035 444.48 -21691\n",
      "- pafi      1     0.039 444.48 -21691\n",
      "- aps       1     0.081 444.53 -21690\n",
      "- charges   1     0.095 444.54 -21690\n",
      "- ca        2     0.215 444.66 -21690\n",
      "<none>                  444.44 -21690\n",
      "- num.co    1     0.141 444.59 -21689\n",
      "- totcst    1     0.169 444.61 -21689\n",
      "+ hday      1     0.032 444.41 -21688\n",
      "+ sex       1     0.025 444.42 -21688\n",
      "+ scoma     1     0.019 444.43 -21688\n",
      "+ meanbp    1     0.016 444.43 -21688\n",
      "+ ph        1     0.015 444.43 -21688\n",
      "+ urine     1     0.014 444.43 -21688\n",
      "+ hrt       1     0.012 444.43 -21688\n",
      "+ sod       1     0.011 444.43 -21688\n",
      "+ diabetes  1     0.006 444.44 -21688\n",
      "+ age       1     0.004 444.44 -21688\n",
      "- edu       1     0.230 444.67 -21688\n",
      "+ bili      1     0.001 444.44 -21688\n",
      "+ dementia  1     0.001 444.44 -21688\n",
      "+ crea      1     0.001 444.44 -21688\n",
      "+ resp      1     0.000 444.44 -21688\n",
      "+ glucose   1     0.000 444.44 -21688\n",
      "+ wblc      1     0.000 444.44 -21688\n",
      "+ temp      1     0.000 444.44 -21688\n",
      "- sps       1     0.234 444.68 -21688\n",
      "- d.time    1     0.290 444.73 -21687\n",
      "- adlp      1     0.327 444.77 -21686\n",
      "- prg6m     1     0.367 444.81 -21685\n",
      "+ race      4     0.214 444.23 -21685\n",
      "+ dzclass   3     0.083 444.36 -21685\n",
      "- adls      1     0.393 444.84 -21685\n",
      "- prg2m     1     0.426 444.87 -21684\n",
      "- totmcst   1     0.452 444.90 -21684\n",
      "- adlsc     1     0.514 444.96 -21683\n",
      "- death     1     0.579 445.02 -21682\n",
      "+ dzgroup   7     0.220 444.22 -21680\n",
      "- slos      1     0.901 445.35 -21676\n",
      "- dnrday    1     0.979 445.42 -21675\n",
      "- surv6m    1     2.313 446.76 -21652\n",
      "- surv2m    1     3.383 447.83 -21634\n",
      "- avtisst   1     7.205 451.65 -21569\n",
      "- dnr       2    14.152 458.60 -21454\n",
      "- hatY      1    37.689 482.13 -21069\n",
      "- sfdm2     4   108.351 552.80 -20030\n",
      "\n",
      "Step:  AIC=-21691.15\n",
      "hospdead ~ death + slos + d.time + num.co + edu + charges + totcst + \n",
      "    totmcst + avtisst + sps + aps + surv2m + surv6m + ca + prg2m + \n",
      "    prg6m + dnr + dnrday + pafi + bun + adlp + adls + sfdm2 + \n",
      "    adlsc + hatY\n",
      "\n",
      "           Df Sum of Sq    RSS    AIC\n",
      "- bun       1     0.032 444.51 -21693\n",
      "- pafi      1     0.034 444.51 -21693\n",
      "- aps       1     0.084 444.56 -21692\n",
      "- charges   1     0.087 444.57 -21692\n",
      "- ca        2     0.212 444.69 -21692\n",
      "<none>                  444.48 -21691\n",
      "- num.co    1     0.144 444.62 -21691\n",
      "- totcst    1     0.176 444.65 -21690\n",
      "+ alb       1     0.034 444.44 -21690\n",
      "+ hday      1     0.031 444.45 -21690\n",
      "+ sex       1     0.024 444.45 -21690\n",
      "+ hrt       1     0.018 444.46 -21690\n",
      "+ scoma     1     0.018 444.46 -21690\n",
      "+ ph        1     0.015 444.46 -21689\n",
      "+ urine     1     0.015 444.46 -21689\n",
      "+ meanbp    1     0.013 444.46 -21689\n",
      "+ sod       1     0.010 444.47 -21689\n",
      "+ diabetes  1     0.006 444.47 -21689\n",
      "+ age       1     0.005 444.47 -21689\n",
      "- sps       1     0.228 444.71 -21689\n",
      "+ bili      1     0.003 444.47 -21689\n",
      "- edu       1     0.231 444.71 -21689\n",
      "+ dementia  1     0.001 444.48 -21689\n",
      "+ crea      1     0.001 444.48 -21689\n",
      "+ resp      1     0.000 444.48 -21689\n",
      "+ glucose   1     0.000 444.48 -21689\n",
      "+ temp      1     0.000 444.48 -21689\n",
      "+ wblc      1     0.000 444.48 -21689\n",
      "- d.time    1     0.294 444.77 -21688\n",
      "- adlp      1     0.324 444.80 -21688\n",
      "+ race      4     0.218 444.26 -21687\n",
      "- prg6m     1     0.376 444.85 -21687\n",
      "+ dzclass   3     0.088 444.39 -21687\n",
      "- adls      1     0.388 444.87 -21686\n",
      "- prg2m     1     0.436 444.91 -21686\n",
      "- totmcst   1     0.460 444.94 -21685\n",
      "- adlsc     1     0.512 444.99 -21684\n",
      "- death     1     0.565 445.04 -21683\n",
      "+ dzgroup   7     0.238 444.24 -21681\n",
      "- slos      1     0.896 445.37 -21678\n",
      "- dnrday    1     0.985 445.46 -21676\n",
      "- surv6m    1     2.302 446.78 -21654\n",
      "- surv2m    1     3.367 447.85 -21635\n",
      "- avtisst   1     7.290 451.77 -21569\n",
      "- dnr       2    14.155 458.63 -21456\n",
      "- hatY      1    37.696 482.17 -21071\n",
      "- sfdm2     4   108.435 552.91 -20030\n",
      "\n",
      "Step:  AIC=-21692.6\n",
      "hospdead ~ death + slos + d.time + num.co + edu + charges + totcst + \n",
      "    totmcst + avtisst + sps + aps + surv2m + surv6m + ca + prg2m + \n",
      "    prg6m + dnr + dnrday + pafi + adlp + adls + sfdm2 + adlsc + \n",
      "    hatY\n",
      "\n",
      "           Df Sum of Sq    RSS    AIC\n",
      "- pafi      1     0.039 444.55 -21694\n",
      "- charges   1     0.076 444.59 -21693\n",
      "- aps       1     0.080 444.59 -21693\n",
      "- ca        2     0.213 444.72 -21693\n",
      "<none>                  444.51 -21693\n",
      "- num.co    1     0.149 444.66 -21692\n",
      "- totcst    1     0.198 444.71 -21691\n",
      "+ bun       1     0.032 444.48 -21691\n",
      "+ alb       1     0.031 444.48 -21691\n",
      "+ hday      1     0.029 444.48 -21691\n",
      "+ sex       1     0.024 444.49 -21691\n",
      "+ hrt       1     0.019 444.49 -21691\n",
      "+ scoma     1     0.018 444.49 -21691\n",
      "+ meanbp    1     0.016 444.49 -21691\n",
      "+ ph        1     0.012 444.50 -21691\n",
      "- sps       1     0.223 444.73 -21691\n",
      "+ sod       1     0.008 444.50 -21691\n",
      "+ age       1     0.006 444.50 -21691\n",
      "+ diabetes  1     0.006 444.50 -21691\n",
      "+ urine     1     0.005 444.51 -21691\n",
      "- edu       1     0.229 444.74 -21691\n",
      "+ crea      1     0.003 444.51 -21691\n",
      "+ bili      1     0.001 444.51 -21691\n",
      "+ dementia  1     0.001 444.51 -21691\n",
      "+ glucose   1     0.000 444.51 -21691\n",
      "+ resp      1     0.000 444.51 -21691\n",
      "+ wblc      1     0.000 444.51 -21691\n",
      "+ temp      1     0.000 444.51 -21691\n",
      "- d.time    1     0.264 444.77 -21690\n",
      "- adlp      1     0.325 444.84 -21689\n",
      "+ race      4     0.217 444.29 -21688\n",
      "- prg6m     1     0.367 444.88 -21688\n",
      "+ dzclass   3     0.088 444.42 -21688\n",
      "- adls      1     0.393 444.90 -21688\n",
      "- prg2m     1     0.426 444.94 -21687\n",
      "- totmcst   1     0.512 445.02 -21686\n",
      "- adlsc     1     0.518 445.03 -21686\n",
      "- death     1     0.636 445.15 -21684\n",
      "+ dzgroup   7     0.241 444.27 -21683\n",
      "- slos      1     0.884 445.39 -21679\n",
      "- dnrday    1     0.981 445.49 -21678\n",
      "- surv6m    1     2.296 446.81 -21655\n",
      "- surv2m    1     3.358 447.87 -21637\n",
      "- avtisst   1     7.338 451.85 -21569\n",
      "- dnr       2    14.160 458.67 -21457\n",
      "- hatY      1    37.727 482.24 -21072\n",
      "- sfdm2     4   108.999 553.51 -20024\n",
      "\n",
      "Step:  AIC=-21693.92\n",
      "hospdead ~ death + slos + d.time + num.co + edu + charges + totcst + \n",
      "    totmcst + avtisst + sps + aps + surv2m + surv6m + ca + prg2m + \n",
      "    prg6m + dnr + dnrday + adlp + adls + sfdm2 + adlsc + hatY\n",
      "\n",
      "           Df Sum of Sq    RSS    AIC\n",
      "- charges   1     0.080 444.63 -21694\n",
      "- aps       1     0.080 444.63 -21694\n",
      "- ca        2     0.215 444.76 -21694\n",
      "<none>                  444.55 -21694\n",
      "- num.co    1     0.145 444.70 -21693\n",
      "- totcst    1     0.187 444.74 -21693\n",
      "+ pafi      1     0.039 444.51 -21693\n",
      "+ bun       1     0.038 444.51 -21693\n",
      "+ hday      1     0.030 444.52 -21692\n",
      "+ sex       1     0.026 444.52 -21692\n",
      "+ alb       1     0.025 444.52 -21692\n",
      "+ scoma     1     0.020 444.53 -21692\n",
      "+ meanbp    1     0.019 444.53 -21692\n",
      "+ hrt       1     0.011 444.54 -21692\n",
      "+ age       1     0.008 444.54 -21692\n",
      "+ ph        1     0.007 444.54 -21692\n",
      "+ diabetes  1     0.006 444.54 -21692\n",
      "+ sod       1     0.005 444.54 -21692\n",
      "+ urine     1     0.004 444.55 -21692\n",
      "+ crea      1     0.003 444.55 -21692\n",
      "- edu       1     0.230 444.78 -21692\n",
      "+ wblc      1     0.002 444.55 -21692\n",
      "+ dementia  1     0.002 444.55 -21692\n",
      "+ bili      1     0.001 444.55 -21692\n",
      "+ resp      1     0.001 444.55 -21692\n",
      "+ glucose   1     0.001 444.55 -21692\n",
      "+ temp      1     0.000 444.55 -21692\n",
      "- sps       1     0.238 444.79 -21692\n",
      "- d.time    1     0.259 444.81 -21692\n",
      "- adlp      1     0.322 444.87 -21690\n",
      "+ race      4     0.223 444.33 -21690\n",
      "- prg6m     1     0.365 444.91 -21690\n",
      "+ dzclass   3     0.085 444.46 -21689\n",
      "- adls      1     0.387 444.94 -21689\n",
      "- prg2m     1     0.423 444.97 -21689\n",
      "- totmcst   1     0.493 445.04 -21687\n",
      "- adlsc     1     0.513 445.06 -21687\n",
      "- death     1     0.651 445.20 -21685\n",
      "+ dzgroup   7     0.243 444.31 -21684\n",
      "- slos      1     0.891 445.44 -21681\n",
      "- dnrday    1     0.984 445.53 -21679\n",
      "- surv6m    1     2.279 446.83 -21657\n",
      "- surv2m    1     3.339 447.89 -21639\n",
      "- avtisst   1     7.308 451.86 -21571\n",
      "- dnr       2    14.133 458.68 -21459\n",
      "- hatY      1    37.784 482.33 -21072\n",
      "- sfdm2     4   109.179 553.73 -20023\n",
      "\n",
      "Step:  AIC=-21694.54\n",
      "hospdead ~ death + slos + d.time + num.co + edu + totcst + totmcst + \n",
      "    avtisst + sps + aps + surv2m + surv6m + ca + prg2m + prg6m + \n",
      "    dnr + dnrday + adlp + adls + sfdm2 + adlsc + hatY\n",
      "\n",
      "           Df Sum of Sq    RSS    AIC\n",
      "- aps       1     0.091 444.72 -21695\n",
      "- ca        2     0.219 444.85 -21695\n",
      "<none>                  444.63 -21694\n",
      "- num.co    1     0.141 444.77 -21694\n",
      "+ charges   1     0.080 444.55 -21694\n",
      "+ pafi      1     0.044 444.59 -21693\n",
      "+ sex       1     0.027 444.60 -21693\n",
      "+ bun       1     0.025 444.60 -21693\n",
      "+ scoma     1     0.021 444.61 -21693\n",
      "+ alb       1     0.019 444.61 -21693\n",
      "+ meanbp    1     0.018 444.61 -21693\n",
      "+ age       1     0.014 444.62 -21693\n",
      "+ hrt       1     0.012 444.62 -21693\n",
      "+ hday      1     0.007 444.62 -21693\n",
      "+ sod       1     0.006 444.62 -21693\n",
      "+ ph        1     0.006 444.62 -21693\n",
      "+ bili      1     0.004 444.63 -21693\n",
      "+ diabetes  1     0.004 444.63 -21693\n",
      "+ urine     1     0.004 444.63 -21693\n",
      "+ crea      1     0.003 444.63 -21693\n",
      "+ wblc      1     0.003 444.63 -21693\n",
      "+ dementia  1     0.003 444.63 -21693\n",
      "+ resp      1     0.001 444.63 -21693\n",
      "+ glucose   1     0.000 444.63 -21692\n",
      "+ temp      1     0.000 444.63 -21692\n",
      "- sps       1     0.244 444.87 -21692\n",
      "- edu       1     0.251 444.88 -21692\n",
      "- d.time    1     0.278 444.91 -21692\n",
      "- adlp      1     0.323 444.95 -21691\n",
      "+ race      4     0.229 444.40 -21690\n",
      "- prg6m     1     0.371 445.00 -21690\n",
      "+ dzclass   3     0.084 444.55 -21690\n",
      "- totcst    1     0.389 445.02 -21690\n",
      "- adls      1     0.398 445.03 -21690\n",
      "- prg2m     1     0.424 445.05 -21689\n",
      "- totmcst   1     0.507 445.14 -21688\n",
      "- adlsc     1     0.522 445.15 -21688\n",
      "- death     1     0.630 445.26 -21686\n",
      "+ dzgroup   7     0.239 444.39 -21685\n",
      "- slos      1     0.841 445.47 -21682\n",
      "- dnrday    1     1.016 445.65 -21679\n",
      "- surv6m    1     2.259 446.89 -21658\n",
      "- surv2m    1     3.322 447.95 -21640\n",
      "- avtisst   1     7.443 452.07 -21570\n",
      "- dnr       2    14.138 458.77 -21459\n",
      "- hatY      1    38.264 482.89 -21065\n",
      "- sfdm2     4   109.100 553.73 -20025\n",
      "\n",
      "Step:  AIC=-21694.98\n",
      "hospdead ~ death + slos + d.time + num.co + edu + totcst + totmcst + \n",
      "    avtisst + sps + surv2m + surv6m + ca + prg2m + prg6m + dnr + \n",
      "    dnrday + adlp + adls + sfdm2 + adlsc + hatY\n",
      "\n",
      "           Df Sum of Sq    RSS    AIC\n",
      "<none>                  444.72 -21695\n",
      "- num.co    1     0.117 444.84 -21695\n",
      "+ aps       1     0.091 444.63 -21694\n",
      "+ charges   1     0.091 444.63 -21694\n",
      "- ca        2     0.268 444.99 -21694\n",
      "- sps       1     0.156 444.88 -21694\n",
      "+ pafi      1     0.045 444.68 -21694\n",
      "+ sex       1     0.026 444.70 -21693\n",
      "+ alb       1     0.021 444.70 -21693\n",
      "+ bun       1     0.020 444.70 -21693\n",
      "+ meanbp    1     0.019 444.70 -21693\n",
      "+ hrt       1     0.016 444.70 -21693\n",
      "+ scoma     1     0.011 444.71 -21693\n",
      "+ age       1     0.011 444.71 -21693\n",
      "+ sod       1     0.009 444.71 -21693\n",
      "+ ph        1     0.008 444.71 -21693\n",
      "+ diabetes  1     0.007 444.71 -21693\n",
      "+ bili      1     0.007 444.71 -21693\n",
      "+ hday      1     0.006 444.72 -21693\n",
      "+ urine     1     0.005 444.72 -21693\n",
      "+ wblc      1     0.004 444.72 -21693\n",
      "+ dementia  1     0.003 444.72 -21693\n",
      "+ crea      1     0.000 444.72 -21693\n",
      "+ temp      1     0.000 444.72 -21693\n",
      "+ glucose   1     0.000 444.72 -21693\n",
      "+ resp      1     0.000 444.72 -21693\n",
      "- edu       1     0.251 444.97 -21693\n",
      "- d.time    1     0.275 445.00 -21692\n",
      "- adlp      1     0.329 445.05 -21691\n",
      "+ race      4     0.234 444.49 -21691\n",
      "+ dzclass   3     0.111 444.61 -21691\n",
      "- prg6m     1     0.375 445.10 -21690\n",
      "- totcst    1     0.388 445.11 -21690\n",
      "- adls      1     0.403 445.12 -21690\n",
      "- prg2m     1     0.434 445.16 -21690\n",
      "- totmcst   1     0.483 445.20 -21689\n",
      "- adlsc     1     0.534 445.26 -21688\n",
      "- death     1     0.650 445.37 -21686\n",
      "+ dzgroup   7     0.272 444.45 -21686\n",
      "- slos      1     0.840 445.56 -21683\n",
      "- dnrday    1     1.018 445.74 -21680\n",
      "- surv6m    1     2.325 447.05 -21657\n",
      "- surv2m    1     3.465 448.19 -21638\n",
      "- avtisst   1     7.761 452.48 -21565\n",
      "- dnr       2    14.159 458.88 -21459\n",
      "- hatY      1    38.676 483.40 -21059\n",
      "- sfdm2     4   109.078 553.80 -20026\n"
     ]
    }
   ],
   "source": [
    "regboth = step(lm(hospdead~., data=data), direction='both')"
   ]
  },
  {
   "cell_type": "code",
   "execution_count": 14,
   "metadata": {
    "vscode": {
     "languageId": "r"
    }
   },
   "outputs": [
    {
     "name": "stderr",
     "output_type": "stream",
     "text": [
      "Warning message:\n",
      "“glm.fit : l'algorithme n'a pas convergé”\n",
      "Warning message:\n",
      "“glm.fit: des probabilités ont été ajustées numériquement à 0 ou 1”\n"
     ]
    },
    {
     "data": {
      "text/plain": [
       "\n",
       "Call:\n",
       "glm(formula = hospdead ~ death + slos + d.time + dzgroup + num.co + \n",
       "    edu + scoma + charges + totcst + totmcst + avtisst + race + \n",
       "    sps + aps + surv2m + surv6m + prg2m + prg6m + dnr + dnrday + \n",
       "    adlp + adls + sfdm2 + adlsc, family = binomial, data = data)\n",
       "\n",
       "Coefficients:\n",
       "                           Estimate Std. Error z value Pr(>|z|)\n",
       "(Intercept)               5.853e+03  2.342e+04   0.250    0.803\n",
       "death                    -5.842e+03  2.341e+04  -0.250    0.803\n",
       "slos                      2.640e+01  3.773e+01   0.700    0.484\n",
       "d.time                   -2.639e+01  3.760e+01  -0.702    0.483\n",
       "dzgroupCHF                5.211e-02  9.852e+01   0.001    1.000\n",
       "dzgroupCirrhosis         -8.870e-02  1.032e+02  -0.001    0.999\n",
       "dzgroupColon Cancer       2.349e+01  5.757e+02   0.041    0.967\n",
       "dzgroupComa               4.864e-01  8.469e+01   0.006    0.995\n",
       "dzgroupCOPD               3.443e-03  8.842e+01   0.000    1.000\n",
       "dzgroupLung Cancer        3.069e-01  1.213e+02   0.003    0.998\n",
       "dzgroupMOSF w/Malig      -2.996e-01  6.164e+01  -0.005    0.996\n",
       "num.co                    1.321e-01  2.002e+01   0.007    0.995\n",
       "edu                       6.719e-02  6.550e+00   0.010    0.992\n",
       "scoma                     4.515e-03  1.105e+00   0.004    0.997\n",
       "charges                   5.874e-07  2.880e-04   0.002    0.998\n",
       "totcst                    2.326e-06  7.726e-04   0.003    0.998\n",
       "totmcst                   1.995e-06  8.417e-04   0.002    0.998\n",
       "avtisst                   2.530e-02  1.966e+00   0.013    0.990\n",
       "raceblack                 1.096e+00  2.131e+02   0.005    0.996\n",
       "racehispanic              2.610e+00  5.821e+02   0.004    0.996\n",
       "raceother                -6.956e-01  2.312e+02  -0.003    0.998\n",
       "racewhite                 2.966e-02  2.007e+02   0.000    1.000\n",
       "sps                       5.237e-02  4.703e+00   0.011    0.991\n",
       "aps                      -2.358e-03  1.615e+00  -0.001    0.999\n",
       "surv2m                    2.052e-01  5.920e+02   0.000    1.000\n",
       "surv6m                    1.523e+00  5.603e+02   0.003    0.998\n",
       "prg2m                     7.778e-01  1.561e+02   0.005    0.996\n",
       "prg6m                    -1.520e+00  1.719e+02  -0.009    0.993\n",
       "dnrdnr before sadm        1.317e+00  1.481e+02   0.009    0.993\n",
       "dnrno dnr                 4.760e-01  6.034e+01   0.008    0.994\n",
       "dnrday                    4.209e-03  1.941e+00   0.002    0.998\n",
       "adlp                     -8.246e-02  1.809e+01  -0.005    0.996\n",
       "adls                     -1.296e-01  2.141e+01  -0.006    0.995\n",
       "sfdm2adl>=4 (>=5 if sur) -2.104e+00  1.607e+02  -0.013    0.990\n",
       "sfdm2Coma or Intub       -3.339e+00  2.551e+02  -0.013    0.990\n",
       "sfdm2no(M2 and SIP pres)  6.934e+00  2.181e+04   0.000    1.000\n",
       "sfdm2SIP>=30             -1.912e+00  3.136e+02  -0.006    0.995\n",
       "adlsc                     9.686e-02  2.180e+01   0.004    0.996\n",
       "\n",
       "(Dispersion parameter for binomial family taken to be 1)\n",
       "\n",
       "    Null deviance: 9.3417e+03  on 7645  degrees of freedom\n",
       "Residual deviance: 2.1728e-03  on 7608  degrees of freedom\n",
       "AIC: 76.002\n",
       "\n",
       "Number of Fisher Scoring iterations: 25\n"
      ]
     },
     "metadata": {},
     "output_type": "display_data"
    }
   ],
   "source": [
    "modreg2 <- glm(hospdead ~ death + slos + d.time + dzgroup + num.co + edu + scoma + charges + totcst + totmcst + avtisst + race + sps + aps + surv2m + surv6m + prg2m + prg6m + dnr + dnrday + adlp + adls + sfdm2 + adlsc, data=data, family = binomial)\n",
    "summary(modreg2)"
   ]
  },
  {
   "cell_type": "code",
   "execution_count": 15,
   "metadata": {
    "vscode": {
     "languageId": "r"
    }
   },
   "outputs": [
    {
     "data": {
      "text/plain": [
       "         Actual\n",
       "Predicted    0    1\n",
       "        0 5352    0\n",
       "        1    0 2294"
      ]
     },
     "metadata": {},
     "output_type": "display_data"
    }
   ],
   "source": [
    "data$hatY  <- predict(modreg2, type=\"response\")\n",
    "predicted_classes <- ifelse(data$hatY > 0.5, 1, 0)\n",
    "confusion_matrix <- table(Predicted = predicted_classes, Actual = data$hospdead)\n",
    "confusion_matrix"
   ]
  },
  {
   "cell_type": "code",
   "execution_count": 16,
   "metadata": {
    "vscode": {
     "languageId": "r"
    }
   },
   "outputs": [
    {
     "name": "stderr",
     "output_type": "stream",
     "text": [
      "\u001b[1m\u001b[22m`geom_smooth()` using formula = 'y ~ x'\n"
     ]
    },
    {
     "data": {
      "image/png": "[encoded data removed]",
      "text/plain": [
       "plot without title"
      ]
     },
     "metadata": {
      "image/png": {
       "height": 420,
       "width": 420
      }
     },
     "output_type": "display_data"
    }
   ],
   "source": [
    "ggplot(data, aes(x = hospdead, y = hatY)) +\n",
    "  geom_point(alpha = 0.5, color = \"blue\") +  # Nuage de points\n",
    "  geom_smooth(method = \"glm\", method.args = list(family = \"binomial\"), color = \"red\") + # Courbe ajustée\n",
    "  ggtitle(\"Régression Logistique : Probabilité prédite vs hospdead\") +\n",
    "  xlab(\"Hospdead (réel)\") +\n",
    "  ylab(\"Probabilité prédite\")"
   ]
  },
  {
   "cell_type": "markdown",
   "metadata": {},
   "source": [
    "## Séparation"
   ]
  },
  {
   "cell_type": "code",
   "execution_count": 17,
   "metadata": {
    "vscode": {
     "languageId": "r"
    }
   },
   "outputs": [
    {
     "data": {
      "text/html": [
       "<style>\n",
       ".list-inline {list-style: none; margin:0; padding: 0}\n",
       ".list-inline>li {display: inline-block}\n",
       ".list-inline>li:not(:last-child)::after {content: \"\\00b7\"; padding: 0 .5ex}\n",
       "</style>\n",
       "<ol class=list-inline><li>5352</li><li>47</li></ol>\n"
      ],
      "text/latex": [
       "\\begin{enumerate*}\n",
       "\\item 5352\n",
       "\\item 47\n",
       "\\end{enumerate*}\n"
      ],
      "text/markdown": [
       "1. 5352\n",
       "2. 47\n",
       "\n",
       "\n"
      ],
      "text/plain": [
       "[1] 5352   47"
      ]
     },
     "metadata": {},
     "output_type": "display_data"
    },
    {
     "data": {
      "text/html": [
       "<style>\n",
       ".list-inline {list-style: none; margin:0; padding: 0}\n",
       ".list-inline>li {display: inline-block}\n",
       ".list-inline>li:not(:last-child)::after {content: \"\\00b7\"; padding: 0 .5ex}\n",
       "</style>\n",
       "<ol class=list-inline><li>2294</li><li>47</li></ol>\n"
      ],
      "text/latex": [
       "\\begin{enumerate*}\n",
       "\\item 2294\n",
       "\\item 47\n",
       "\\end{enumerate*}\n"
      ],
      "text/markdown": [
       "1. 2294\n",
       "2. 47\n",
       "\n",
       "\n"
      ],
      "text/plain": [
       "[1] 2294   47"
      ]
     },
     "metadata": {},
     "output_type": "display_data"
    }
   ],
   "source": [
    "train_index <- sample(1:nrow(data), size = 0.7 * nrow(data))\n",
    "\n",
    "train_data1 <- data[train_index, ]\n",
    "test_data1 <- data[setdiff(1:nrow(data), train_index), ]\n",
    "\n",
    "dim(train_data1)\n",
    "dim(test_data1)"
   ]
  },
  {
   "cell_type": "code",
   "execution_count": 18,
   "metadata": {
    "vscode": {
     "languageId": "r"
    }
   },
   "outputs": [
    {
     "name": "stderr",
     "output_type": "stream",
     "text": [
      "Warning message:\n",
      "“glm.fit : l'algorithme n'a pas convergé”\n",
      "Warning message:\n",
      "“glm.fit: des probabilités ont été ajustées numériquement à 0 ou 1”\n"
     ]
    },
    {
     "data": {
      "text/plain": [
       "\n",
       "Call:\n",
       "glm(formula = hospdead ~ death + slos + d.time + dzgroup + num.co + \n",
       "    edu + scoma + charges + totcst + totmcst + avtisst + race + \n",
       "    sps + aps + surv2m + surv6m + prg2m + prg6m + dnr + dnrday + \n",
       "    adlp + adls + sfdm2 + adlsc, family = binomial, data = train_data1)\n",
       "\n",
       "Coefficients:\n",
       "                           Estimate Std. Error z value Pr(>|z|)\n",
       "(Intercept)              -9.308e+04  2.042e+06  -0.046    0.964\n",
       "death                     9.309e+04  2.042e+06   0.046    0.964\n",
       "slos                      2.536e+01  3.813e+01   0.665    0.506\n",
       "d.time                   -2.537e+01  3.810e+01  -0.666    0.505\n",
       "dzgroupCHF                8.850e-01  1.210e+02   0.007    0.994\n",
       "dzgroupCirrhosis          2.328e+01  4.629e+02   0.050    0.960\n",
       "dzgroupColon Cancer       2.352e+01  5.795e+02   0.041    0.968\n",
       "dzgroupComa               1.465e+00  1.022e+02   0.014    0.989\n",
       "dzgroupCOPD              -7.925e-03  8.092e+01   0.000    1.000\n",
       "dzgroupLung Cancer        1.265e+00  1.326e+02   0.010    0.992\n",
       "dzgroupMOSF w/Malig      -2.184e-01  5.937e+01  -0.004    0.997\n",
       "num.co                    8.159e-02  2.041e+01   0.004    0.997\n",
       "edu                       5.710e-02  7.635e+00   0.007    0.994\n",
       "scoma                     1.869e-02  1.456e+00   0.013    0.990\n",
       "charges                  -1.990e-06  2.733e-04  -0.007    0.994\n",
       "totcst                    3.294e-06  7.320e-04   0.005    0.996\n",
       "totmcst                   5.370e-06  7.205e-04   0.007    0.994\n",
       "avtisst                   4.127e-02  2.272e+00   0.018    0.986\n",
       "raceblack                 1.637e+00  2.176e+02   0.008    0.994\n",
       "racehispanic              8.981e-01  3.025e+02   0.003    0.998\n",
       "raceother                -1.092e-01  2.349e+02   0.000    1.000\n",
       "racewhite                 5.971e-02  1.870e+02   0.000    1.000\n",
       "sps                       1.354e-01  6.925e+00   0.020    0.984\n",
       "aps                      -3.845e-03  1.712e+00  -0.002    0.998\n",
       "surv2m                    2.388e+00  6.190e+02   0.004    0.997\n",
       "surv6m                    2.338e+00  5.727e+02   0.004    0.997\n",
       "prg2m                     1.862e+00  1.516e+02   0.012    0.990\n",
       "prg6m                    -2.062e+00  1.658e+02  -0.012    0.990\n",
       "dnrdnr before sadm        1.293e+00  1.475e+02   0.009    0.993\n",
       "dnrno dnr                 1.451e-01  6.323e+01   0.002    0.998\n",
       "dnrday                    4.141e-03  1.971e+00   0.002    0.998\n",
       "adlp                     -2.153e-02  1.947e+01  -0.001    0.999\n",
       "adls                     -1.500e-01  2.188e+01  -0.007    0.995\n",
       "sfdm2adl>=4 (>=5 if sur) -1.106e-01  1.821e+02  -0.001    1.000\n",
       "sfdm2Coma or Intub       -1.854e+00  2.116e+02  -0.009    0.993\n",
       "sfdm2no(M2 and SIP pres)  5.303e+02  1.613e+06   0.000    1.000\n",
       "sfdm2SIP>=30             -1.096e+00  2.523e+02  -0.004    0.997\n",
       "adlsc                     1.159e-01  2.201e+01   0.005    0.996\n",
       "\n",
       "(Dispersion parameter for binomial family taken to be 1)\n",
       "\n",
       "    Null deviance: 6.5394e+03  on 5351  degrees of freedom\n",
       "Residual deviance: 2.1363e-03  on 5314  degrees of freedom\n",
       "AIC: 76.002\n",
       "\n",
       "Number of Fisher Scoring iterations: 25\n"
      ]
     },
     "metadata": {},
     "output_type": "display_data"
    }
   ],
   "source": [
    "modreg <- glm(hospdead ~ death + slos + d.time + dzgroup + num.co + edu + scoma + charges + totcst + totmcst + avtisst + race + sps + aps + surv2m + surv6m + prg2m + prg6m + dnr + dnrday + adlp + adls + sfdm2 + adlsc, data = train_data1, family=binomial)\n",
    "summary(modreg)"
   ]
  },
  {
   "cell_type": "code",
   "execution_count": 19,
   "metadata": {
    "vscode": {
     "languageId": "r"
    }
   },
   "outputs": [
    {
     "name": "stdout",
     "output_type": "stream",
     "text": [
      "   predictions_class\n",
      "       0    1\n",
      "  0 1602    4\n",
      "  1    0  688\n"
     ]
    }
   ],
   "source": [
    "test_data1$pred <- predict(modreg, newdata=test_data1, type=\"response\")\n",
    "predictions_class <- ifelse(test_data1$pred > 0.5, 1, 0)\n",
    "confusion_matrix <- table(test_data1$hospdead, predictions_class)\n",
    "print(confusion_matrix)"
   ]
  },
  {
   "cell_type": "code",
   "execution_count": 20,
   "metadata": {
    "vscode": {
     "languageId": "r"
    }
   },
   "outputs": [
    {
     "name": "stdout",
     "output_type": "stream",
     "text": [
      "[1] \"Précision: 0.998256320836966\"\n"
     ]
    }
   ],
   "source": [
    "accuracy <- sum(diag(confusion_matrix)) / sum(confusion_matrix)\n",
    "print(paste(\"Précision:\", accuracy))"
   ]
  },
  {
   "cell_type": "code",
   "execution_count": 21,
   "metadata": {
    "vscode": {
     "languageId": "r"
    }
   },
   "outputs": [
    {
     "name": "stderr",
     "output_type": "stream",
     "text": [
      "\u001b[1m\u001b[22m`geom_smooth()` using formula = 'y ~ x'\n"
     ]
    },
    {
     "name": "stderr",
     "output_type": "stream",
     "text": [
      "Warning message in eval(family$initialize):\n",
      "“nombre de succès non entier dans un glm binomial !”\n"
     ]
    },
    {
     "data": {
      "image/png": "[encoded data removed]",
      "text/plain": [
       "plot without title"
      ]
     },
     "metadata": {
      "image/png": {
       "height": 420,
       "width": 420
      }
     },
     "output_type": "display_data"
    }
   ],
   "source": [
    "ggplot(test_data1, aes(x = hospdead, y = pred)) +\n",
    "  geom_point(alpha = 0.5, color = \"blue\") +  # Nuage de points\n",
    "  geom_smooth(method = \"glm\", method.args = list(family = \"binomial\"), color = \"red\") + # Courbe ajustée\n",
    "  ggtitle(\"Régression Logistique : Probabilité prédite vs hospdead\") +\n",
    "  xlab(\"Hospdead (réel)\") +\n",
    "  ylab(\"Probabilité prédite\")\n"
   ]
  },
  {
   "cell_type": "code",
   "execution_count": 22,
   "metadata": {
    "vscode": {
     "languageId": "r"
    }
   },
   "outputs": [
    {
     "data": {
      "text/html": [
       "2.33304272013949"
      ],
      "text/latex": [
       "2.33304272013949"
      ],
      "text/markdown": [
       "2.33304272013949"
      ],
      "text/plain": [
       "[1] 2.333043"
      ]
     },
     "metadata": {},
     "output_type": "display_data"
    }
   ],
   "source": [
    "A <- ifelse(data$hospdead > 0.5, 1, 0)\n",
    "A <- A[A == 1]\n",
    "B <- ifelse(data$hospdead < 0.5, 1, 0)\n",
    "B <- B[B == 1]\n",
    "\n",
    "A_t = length(A)/nrow(data)\n",
    "B_t = length(B)/nrow(data)\n",
    "\n",
    "inv_At = 1/A_t *B_t\n",
    "inv_Bt = 1\n",
    "\n",
    "inv_At"
   ]
  },
  {
   "cell_type": "code",
   "execution_count": 57,
   "metadata": {
    "vscode": {
     "languageId": "r"
    }
   },
   "outputs": [],
   "source": [
    "library(caret)\n",
    "\n",
    "set.seed(123)\n",
    "index <- createDataPartition(data$hospdead, p = 0.7, list = FALSE)\n",
    "\n",
    "train_data2 <- data[index, ]\n",
    "test_data2 <- data[-index, ]"
   ]
  },
  {
   "cell_type": "code",
   "execution_count": 24,
   "metadata": {
    "vscode": {
     "languageId": "r"
    }
   },
   "outputs": [
    {
     "name": "stderr",
     "output_type": "stream",
     "text": [
      "Warning message:\n",
      "“glm.fit : l'algorithme n'a pas convergé”\n",
      "Warning message:\n",
      "“glm.fit: des probabilités ont été ajustées numériquement à 0 ou 1”\n"
     ]
    },
    {
     "data": {
      "text/plain": [
       "\n",
       "Call:\n",
       "glm(formula = hospdead ~ death + slos + d.time + dzgroup + num.co + \n",
       "    edu + scoma + charges + totcst + totmcst + avtisst + race + \n",
       "    sps + aps + surv2m + surv6m + prg2m + prg6m + dnr + dnrday + \n",
       "    adlp + adls + sfdm2 + adlsc, family = binomial(link = \"logit\"), \n",
       "    data = train_data2, weights = weights)\n",
       "\n",
       "Coefficients:\n",
       "                           Estimate Std. Error    z value Pr(>|z|)    \n",
       "(Intercept)              -9.862e+14  1.253e+07  -78691199   <2e-16 ***\n",
       "death                     4.706e+12  2.001e+06    2351348   <2e-16 ***\n",
       "slos                     -1.211e+13  7.409e+04 -163434972   <2e-16 ***\n",
       "d.time                   -7.242e+11  1.811e+03 -399883909   <2e-16 ***\n",
       "dzgroupCHF                3.353e+14  2.462e+06  136178628   <2e-16 ***\n",
       "dzgroupCirrhosis          3.226e+14  3.310e+06   97460999   <2e-16 ***\n",
       "dzgroupColon Cancer       3.072e+14  4.087e+06   75173231   <2e-16 ***\n",
       "dzgroupComa               1.608e+14  3.863e+06   41625524   <2e-16 ***\n",
       "dzgroupCOPD               1.764e+14  2.591e+06   68069428   <2e-16 ***\n",
       "dzgroupLung Cancer        3.349e+14  4.309e+06   77721075   <2e-16 ***\n",
       "dzgroupMOSF w/Malig      -1.161e+14  3.116e+06  -37262696   <2e-16 ***\n",
       "num.co                   -5.683e+13  5.718e+05  -99387003   <2e-16 ***\n",
       "edu                       4.794e+12  2.122e+05   22592765   <2e-16 ***\n",
       "scoma                     3.413e+12  4.793e+04   71197198   <2e-16 ***\n",
       "charges                   3.259e+08  1.156e+01   28195751   <2e-16 ***\n",
       "totcst                    1.664e+09  3.004e+01   55403619   <2e-16 ***\n",
       "totmcst                  -2.226e+09  2.683e+01  -82945768   <2e-16 ***\n",
       "avtisst                   5.649e+13  8.372e+04  674694638   <2e-16 ***\n",
       "raceblack                -2.667e+14  7.612e+06  -35038984   <2e-16 ***\n",
       "racehispanic             -5.239e+14  8.219e+06  -63738257   <2e-16 ***\n",
       "raceother                -3.472e+14  1.005e+07  -34538227   <2e-16 ***\n",
       "racewhite                -5.152e+14  7.436e+06  -69276324   <2e-16 ***\n",
       "sps                      -2.344e+12  1.677e+05  -13975433   <2e-16 ***\n",
       "aps                       6.285e+12  6.254e+04  100503856   <2e-16 ***\n",
       "surv2m                   -2.299e+15  1.967e+07 -116897118   <2e-16 ***\n",
       "surv6m                    1.835e+15  1.714e+07  107061134   <2e-16 ***\n",
       "prg2m                     2.695e+13  6.212e+06    4338814   <2e-16 ***\n",
       "prg6m                     5.288e+13  5.895e+06    8970798   <2e-16 ***\n",
       "dnrdnr before sadm        5.080e+13  4.123e+06   12319886   <2e-16 ***\n",
       "dnrno dnr                -5.845e+14  2.142e+06 -272939845   <2e-16 ***\n",
       "dnrday                    1.098e+13  7.961e+04  137944559   <2e-16 ***\n",
       "adlp                     -1.678e+13  5.450e+05  -30781711   <2e-16 ***\n",
       "adls                     -9.202e+13  8.705e+05 -105715484   <2e-16 ***\n",
       "sfdm2adl>=4 (>=5 if sur) -2.317e+14  2.599e+06  -89116287   <2e-16 ***\n",
       "sfdm2Coma or Intub       -7.499e+14  8.916e+06  -84106617   <2e-16 ***\n",
       "sfdm2no(M2 and SIP pres) -2.015e+14  2.386e+06  -84467805   <2e-16 ***\n",
       "sfdm2SIP>=30             -1.356e+14  3.037e+06  -44647665   <2e-16 ***\n",
       "adlsc                     6.760e+13  8.501e+05   79514020   <2e-16 ***\n",
       "---\n",
       "Signif. codes:  0 ‘***’ 0.001 ‘**’ 0.01 ‘*’ 0.05 ‘.’ 0.1 ‘ ’ 1\n",
       "\n",
       "(Dispersion parameter for binomial family taken to be 1)\n",
       "\n",
       "    Null deviance:  8959.2  on 5352  degrees of freedom\n",
       "Residual deviance: 48849.6  on 5315  degrees of freedom\n",
       "AIC: 47149\n",
       "\n",
       "Number of Fisher Scoring iterations: 25\n"
      ]
     },
     "metadata": {},
     "output_type": "display_data"
    }
   ],
   "source": [
    "weights <- ifelse(train_data2$hospdead == 1, 1, inv_At)\n",
    "modreg <- glm(hospdead ~ death + slos + d.time + dzgroup + num.co + edu + scoma + charges + totcst + totmcst + avtisst + race + sps + aps + surv2m + surv6m + prg2m + prg6m + dnr + dnrday + adlp + adls + sfdm2 + adlsc, data = train_data2, family=binomial(link = \"logit\"), weights = weights)\n",
    "summary(modreg)"
   ]
  },
  {
   "cell_type": "code",
   "execution_count": 25,
   "metadata": {
    "vscode": {
     "languageId": "r"
    }
   },
   "outputs": [
    {
     "name": "stdout",
     "output_type": "stream",
     "text": [
      "   predictions_class\n",
      "       0    1\n",
      "  0 1575   39\n",
      "  1  222  457\n"
     ]
    }
   ],
   "source": [
    "# Ajouter les prédictions directement au dataset de test\n",
    "test_data2$pred <- predict(modreg, newdata=test_data2, type=\"response\")\n",
    "\n",
    "predictions_class <- ifelse(test_data2$pred > 0.5, 1, 0)\n",
    "confusion_matrix <- table(test_data2$hospdead, predictions_class)\n",
    "print(confusion_matrix)"
   ]
  },
  {
   "cell_type": "code",
   "execution_count": 26,
   "metadata": {
    "vscode": {
     "languageId": "r"
    }
   },
   "outputs": [
    {
     "name": "stdout",
     "output_type": "stream",
     "text": [
      "[1] \"Précision: 0.886175316179677\"\n"
     ]
    }
   ],
   "source": [
    "accuracy <- sum(diag(confusion_matrix)) / sum(confusion_matrix)\n",
    "print(paste(\"Précision:\", accuracy))"
   ]
  },
  {
   "cell_type": "code",
   "execution_count": 27,
   "metadata": {
    "vscode": {
     "languageId": "r"
    }
   },
   "outputs": [
    {
     "name": "stderr",
     "output_type": "stream",
     "text": [
      "\u001b[1m\u001b[22m`geom_smooth()` using formula = 'y ~ x'\n"
     ]
    },
    {
     "data": {
      "image/png": "[encoded data removed]",
      "text/plain": [
       "plot without title"
      ]
     },
     "metadata": {
      "image/png": {
       "height": 420,
       "width": 420
      }
     },
     "output_type": "display_data"
    }
   ],
   "source": [
    "# Créer le graphique avec les données de test\n",
    "ggplot(test_data2, aes(x = hospdead, y = pred)) +\n",
    "  geom_point(alpha = 0.5, color = \"blue\") +  # Nuage de points\n",
    "  geom_smooth(method = \"glm\", method.args = list(family = \"binomial\"), color = \"red\") + # Courbe ajustée\n",
    "  ggtitle(\"Régression Logistique : Probabilité prédite vs hospdead\") +\n",
    "  xlab(\"Hospdead (réel)\") +\n",
    "  ylab(\"Probabilité prédite\")\n",
    "\n"
   ]
  },
  {
   "cell_type": "markdown",
   "metadata": {},
   "source": [
    "## Ridge et Lasso"
   ]
  },
  {
   "cell_type": "code",
   "execution_count": null,
   "metadata": {
    "vscode": {
     "languageId": "r"
    }
   },
   "outputs": [],
   "source": [
    "library(glmnet)\n"
   ]
  },
  {
   "cell_type": "code",
   "execution_count": 58,
   "metadata": {
    "vscode": {
     "languageId": "r"
    }
   },
   "outputs": [],
   "source": [
    "formula <- hospdead ~ . - 1\n",
    "\n",
    "x_train <- model.matrix(formula, data = train_data2)\n",
    "y_train <- train_data2$hospdead\n",
    "\n",
    "x_test <- model.matrix(formula, data = test_data2)\n",
    "y_test <- test_data2$hospdead"
   ]
  },
  {
   "cell_type": "code",
   "execution_count": 59,
   "metadata": {
    "vscode": {
     "languageId": "r"
    }
   },
   "outputs": [
    {
     "ename": "ERROR",
     "evalue": "Error in glmnet(x_train, y_train, family = \"binomial\", alpha = 0): number of observations in y (6374) not equal to the number of rows of x (273)\n",
     "output_type": "error",
     "traceback": [
      "Error in glmnet(x_train, y_train, family = \"binomial\", alpha = 0): number of observations in y (6374) not equal to the number of rows of x (273)\nTraceback:\n",
      "1. stop(paste(\"number of observations in y (\", nrowy, \") not equal to the number of rows of x (\", \n .     nobs, \")\", sep = \"\"))",
      "2. .handleSimpleError(function (cnd) \n . {\n .     watcher$capture_plot_and_output()\n .     cnd <- sanitize_call(cnd)\n .     watcher$push(cnd)\n .     switch(on_error, continue = invokeRestart(\"eval_continue\"), \n .         stop = invokeRestart(\"eval_stop\"), error = invokeRestart(\"eval_error\", \n .             cnd))\n . }, \"number of observations in y (6374) not equal to the number of rows of x (273)\", \n .     base::quote(glmnet(x_train, y_train, family = \"binomial\", \n .         alpha = 0)))"
     ]
    }
   ],
   "source": [
    "ridge_model <- glmnet(x_train, y_train, family = \"binomial\", alpha = 0)\n",
    "\n",
    "cv_ridge <- cv.glmnet(x_train, y_train, family = \"binomial\", alpha = 0)\n",
    "\n",
    "best_lambda_ridge <- cv_ridge$lambda.min\n",
    "\n",
    "final_ridge_model <- glmnet(x_train, y_train, family = \"binomial\", alpha = 0, lambda = best_lambda_ridge)"
   ]
  },
  {
   "cell_type": "code",
   "execution_count": 52,
   "metadata": {
    "vscode": {
     "languageId": "r"
    }
   },
   "outputs": [],
   "source": [
    "lasso_model <- glmnet(x_train, y_train, family = \"binomial\", alpha = 1)\n",
    "\n",
    "cv_lasso <- cv.glmnet(x_train, y_train, family = \"binomial\", alpha = 1)\n",
    "\n",
    "best_lambda_lasso <- cv_lasso$lambda.min\n",
    "\n",
    "final_lasso_model <- glmnet(x_train, y_train, family = \"binomial\", alpha = 1, lambda = best_lambda_lasso, weights = weights)"
   ]
  },
  {
   "cell_type": "code",
   "execution_count": 55,
   "metadata": {
    "vscode": {
     "languageId": "r"
    }
   },
   "outputs": [
    {
     "data": {
      "text/plain": [
       "63 x 1 sparse Matrix of class \"dgCMatrix\"\n",
       "                                s0\n",
       "age                        .      \n",
       "death                      .      \n",
       "sexfemale                  .      \n",
       "sexmale                    .      \n",
       "slos                       .      \n",
       "d.time                     .      \n",
       "dzgroupCHF                 .      \n",
       "dzgroupCirrhosis           .      \n",
       "dzgroupColon Cancer        .      \n",
       "dzgroupComa                .      \n",
       "dzgroupCOPD                .      \n",
       "dzgroupLung Cancer         .      \n",
       "dzgroupMOSF w/Malig        .      \n",
       "dzclassCancer              .      \n",
       "dzclassComa                .      \n",
       "dzclassCOPD/CHF/Cirrhosis  .      \n",
       "num.co                     .      \n",
       "edu                        .      \n",
       "scoma                      .      \n",
       "charges                    .      \n",
       "totcst                     .      \n",
       "totmcst                    .      \n",
       "avtisst                    .      \n",
       "raceblack                  .      \n",
       "racehispanic               .      \n",
       "raceother                  .      \n",
       "racewhite                  .      \n",
       "sps                        .      \n",
       "aps                        .      \n",
       "surv2m                     .      \n",
       "surv6m                     .      \n",
       "hday                       .      \n",
       "diabetes                   .      \n",
       "dementia                   .      \n",
       "cano                       .      \n",
       "cayes                      .      \n",
       "prg2m                      .      \n",
       "prg6m                      .      \n",
       "dnrdnr before sadm         .      \n",
       "dnrno dnr                  .      \n",
       "dnrday                     .      \n",
       "meanbp                     .      \n",
       "wblc                       .      \n",
       "hrt                        .      \n",
       "resp                       .      \n",
       "temp                       .      \n",
       "pafi                       .      \n",
       "alb                        .      \n",
       "bili                       .      \n",
       "crea                       .      \n",
       "sod                        .      \n",
       "ph                         .      \n",
       "glucose                    .      \n",
       "bun                        .      \n",
       "urine                      .      \n",
       "adlp                       .      \n",
       "adls                       .      \n",
       "sfdm2adl>=4 (>=5 if sur)   .      \n",
       "sfdm2Coma or Intub         .      \n",
       "sfdm2no(M2 and SIP pres)   .      \n",
       "sfdm2SIP>=30               .      \n",
       "adlsc                      .      \n",
       "hatY                      14.75445"
      ]
     },
     "metadata": {},
     "output_type": "display_data"
    }
   ],
   "source": [
    "final_lasso_model$beta"
   ]
  },
  {
   "cell_type": "code",
   "execution_count": 53,
   "metadata": {
    "vscode": {
     "languageId": "r"
    }
   },
   "outputs": [],
   "source": [
    "ridge_preds <- predict(final_ridge_model, s = best_lambda_ridge, newx = x_test, type = \"response\")\n",
    "ridge_classes <- ifelse(ridge_preds > 0.5, 1, 0)\n",
    "\n",
    "lasso_preds <- predict(final_lasso_model, s = best_lambda_lasso, newx = x_test, type = \"response\")\n",
    "lasso_classes <- ifelse(lasso_preds > 0.5, 1, 0)\n",
    "\n",
    "conf_matrix_ridge <- table(Actual = y_test, Predicted = ridge_classes)\n",
    "conf_matrix_lasso <- table(Actual = y_test, Predicted = lasso_classes)"
   ]
  },
  {
   "cell_type": "code",
   "execution_count": 54,
   "metadata": {
    "vscode": {
     "languageId": "r"
    }
   },
   "outputs": [
    {
     "name": "stdout",
     "output_type": "stream",
     "text": [
      "[1] \"Confusion Matrix for Ridge:\"\n",
      "      Predicted\n",
      "Actual    0    1\n",
      "     0 1614    0\n",
      "     1    1  678\n",
      "[1] \"Confusion Matrix for Lasso:\"\n",
      "      Predicted\n",
      "Actual    0    1\n",
      "     0 1614    0\n",
      "     1    0  679\n",
      "[1] \"Accuracy for Ridge: 0.999563890100305\"\n",
      "[1] \"Accuracy for Lasso: 1\"\n"
     ]
    }
   ],
   "source": [
    "print(\"Confusion Matrix for Ridge:\")\n",
    "print(conf_matrix_ridge)\n",
    "\n",
    "print(\"Confusion Matrix for Lasso:\")\n",
    "print(conf_matrix_lasso)\n",
    "\n",
    "accuracy_ridge <- sum(diag(conf_matrix_ridge)) / sum(conf_matrix_ridge)\n",
    "accuracy_lasso <- sum(diag(conf_matrix_lasso)) / sum(conf_matrix_lasso)\n",
    "\n",
    "print(paste(\"Accuracy for Ridge:\", accuracy_ridge))\n",
    "print(paste(\"Accuracy for Lasso:\", accuracy_lasso))"
   ]
  },
  {
   "cell_type": "code",
   "execution_count": 51,
   "metadata": {
    "vscode": {
     "languageId": "r"
    }
   },
   "outputs": [
    {
     "name": "stderr",
     "output_type": "stream",
     "text": [
      "\u001b[1m\u001b[22m`geom_smooth()` using formula = 'y ~ x'\n",
      "Warning message in eval(family$initialize):\n",
      "“nombre de succès non entier dans un glm binomial !”\n"
     ]
    },
    {
     "data": {
      "image/png": "[encoded data removed]",
      "text/plain": [
       "plot without title"
      ]
     },
     "metadata": {
      "image/png": {
       "height": 420,
       "width": 420
      }
     },
     "output_type": "display_data"
    }
   ],
   "source": [
    "ridge_plot_data <- data.frame(\n",
    "  Actual = y_test,\n",
    "  Predicted = as.numeric(ridge_preds)\n",
    ")\n",
    "\n",
    "ggplot(ridge_plot_data, aes(x = Actual, y = Predicted)) +\n",
    "  geom_point(alpha = 0.5, color = \"blue\") +\n",
    "  geom_smooth(method = \"glm\", method.args = list(family = \"binomial\"), color = \"red\") +\n",
    "  ggtitle(\"Ridge Regression: Predicted Probability vs Actual\") +\n",
    "  xlab(\"Actual hospdead\") +\n",
    "  ylab(\"Predicted Probability\")"
   ]
  }
 ],
 "metadata": {
  "kernelspec": {
   "display_name": "R",
   "language": "R",
   "name": "ir"
  },
  "language_info": {
   "codemirror_mode": "r",
   "file_extension": ".r",
   "mimetype": "text/x-r-source",
   "name": "R",
   "pygments_lexer": "r",
   "version": "4.4.2"
  }
 },
 "nbformat": 4,
 "nbformat_minor": 2
}
