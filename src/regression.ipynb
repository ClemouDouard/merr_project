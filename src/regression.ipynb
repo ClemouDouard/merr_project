{
 "cells": [
  {
   "cell_type": "markdown",
   "metadata": {},
   "source": [
    "ROCHETTE\n",
    "LEVEQUE\n",
    "\n",
    "# Chargement des Données\n",
    "\n",
    "Nous importons le dataset pour obtenir une vue d'ensemble de ses caractéristiques et de ses variables."
   ]
  },
  {
   "cell_type": "code",
   "execution_count": 1,
   "metadata": {
    "vscode": {
     "languageId": "r"
    }
   },
   "outputs": [
    {
     "data": {
      "text/html": [
       "<table class=\"dataframe\">\n",
       "<caption>A data.frame: 6 × 47</caption>\n",
       "<thead>\n",
       "\t<tr><th></th><th scope=col>age</th><th scope=col>death</th><th scope=col>sex</th><th scope=col>hospdead</th><th scope=col>slos</th><th scope=col>d.time</th><th scope=col>dzgroup</th><th scope=col>dzclass</th><th scope=col>num.co</th><th scope=col>edu</th><th scope=col>⋯</th><th scope=col>crea</th><th scope=col>sod</th><th scope=col>ph</th><th scope=col>glucose</th><th scope=col>bun</th><th scope=col>urine</th><th scope=col>adlp</th><th scope=col>adls</th><th scope=col>sfdm2</th><th scope=col>adlsc</th></tr>\n",
       "\t<tr><th></th><th scope=col>&lt;dbl&gt;</th><th scope=col>&lt;int&gt;</th><th scope=col>&lt;chr&gt;</th><th scope=col>&lt;int&gt;</th><th scope=col>&lt;int&gt;</th><th scope=col>&lt;int&gt;</th><th scope=col>&lt;chr&gt;</th><th scope=col>&lt;chr&gt;</th><th scope=col>&lt;int&gt;</th><th scope=col>&lt;int&gt;</th><th scope=col>⋯</th><th scope=col>&lt;dbl&gt;</th><th scope=col>&lt;int&gt;</th><th scope=col>&lt;dbl&gt;</th><th scope=col>&lt;dbl&gt;</th><th scope=col>&lt;dbl&gt;</th><th scope=col>&lt;dbl&gt;</th><th scope=col>&lt;int&gt;</th><th scope=col>&lt;int&gt;</th><th scope=col>&lt;chr&gt;</th><th scope=col>&lt;dbl&gt;</th></tr>\n",
       "</thead>\n",
       "<tbody>\n",
       "\t<tr><th scope=row>1</th><td>62.84998</td><td>0</td><td>male  </td><td>0</td><td> 5</td><td>2029</td><td>Lung Cancer      </td><td>Cancer            </td><td>0</td><td>11</td><td>⋯</td><td>1.1999512</td><td>141</td><td>7.459961</td><td>NA</td><td>NA</td><td>NA</td><td> 7</td><td>7</td><td>                   </td><td>7</td></tr>\n",
       "\t<tr><th scope=row>2</th><td>60.33899</td><td>1</td><td>female</td><td>1</td><td> 4</td><td><span style=white-space:pre-wrap>   4</span></td><td><span style=white-space:pre-wrap>Cirrhosis        </span></td><td>COPD/CHF/Cirrhosis</td><td>2</td><td>12</td><td>⋯</td><td>5.5000000</td><td>132</td><td>7.250000</td><td>NA</td><td>NA</td><td>NA</td><td>NA</td><td>1</td><td><span style=white-space:pre-wrap>&lt;2 mo. follow-up   </span></td><td>1</td></tr>\n",
       "\t<tr><th scope=row>3</th><td>52.74698</td><td>1</td><td>female</td><td>0</td><td>17</td><td><span style=white-space:pre-wrap>  47</span></td><td><span style=white-space:pre-wrap>Cirrhosis        </span></td><td>COPD/CHF/Cirrhosis</td><td>2</td><td>12</td><td>⋯</td><td>2.0000000</td><td>134</td><td>7.459961</td><td>NA</td><td>NA</td><td>NA</td><td> 1</td><td>0</td><td><span style=white-space:pre-wrap>&lt;2 mo. follow-up   </span></td><td>0</td></tr>\n",
       "\t<tr><th scope=row>4</th><td>42.38498</td><td>1</td><td>female</td><td>0</td><td> 3</td><td> 133</td><td>Lung Cancer      </td><td>Cancer            </td><td>2</td><td>11</td><td>⋯</td><td>0.7999268</td><td>139</td><td>      NA</td><td>NA</td><td>NA</td><td>NA</td><td> 0</td><td>0</td><td>no(M2 and SIP pres)</td><td>0</td></tr>\n",
       "\t<tr><th scope=row>5</th><td>79.88495</td><td>0</td><td>female</td><td>0</td><td>16</td><td>2029</td><td>ARF/MOSF w/Sepsis</td><td>ARF/MOSF          </td><td>1</td><td>NA</td><td>⋯</td><td>0.7999268</td><td>143</td><td>7.509766</td><td>NA</td><td>NA</td><td>NA</td><td>NA</td><td>2</td><td>no(M2 and SIP pres)</td><td>2</td></tr>\n",
       "\t<tr><th scope=row>6</th><td>93.01599</td><td>1</td><td><span style=white-space:pre-wrap>male  </span></td><td>1</td><td> 4</td><td><span style=white-space:pre-wrap>   4</span></td><td><span style=white-space:pre-wrap>Coma             </span></td><td><span style=white-space:pre-wrap>Coma              </span></td><td>1</td><td>14</td><td>⋯</td><td>0.6999512</td><td>140</td><td>7.659180</td><td>NA</td><td>NA</td><td>NA</td><td>NA</td><td>1</td><td><span style=white-space:pre-wrap>&lt;2 mo. follow-up   </span></td><td>1</td></tr>\n",
       "</tbody>\n",
       "</table>\n"
      ],
      "text/latex": [
       "A data.frame: 6 × 47\n",
       "\\begin{tabular}{r|lllllllllllllllllllll}\n",
       "  & age & death & sex & hospdead & slos & d.time & dzgroup & dzclass & num.co & edu & ⋯ & crea & sod & ph & glucose & bun & urine & adlp & adls & sfdm2 & adlsc\\\\\n",
       "  & <dbl> & <int> & <chr> & <int> & <int> & <int> & <chr> & <chr> & <int> & <int> & ⋯ & <dbl> & <int> & <dbl> & <dbl> & <dbl> & <dbl> & <int> & <int> & <chr> & <dbl>\\\\\n",
       "\\hline\n",
       "\t1 & 62.84998 & 0 & male   & 0 &  5 & 2029 & Lung Cancer       & Cancer             & 0 & 11 & ⋯ & 1.1999512 & 141 & 7.459961 & NA & NA & NA &  7 & 7 &                     & 7\\\\\n",
       "\t2 & 60.33899 & 1 & female & 1 &  4 &    4 & Cirrhosis         & COPD/CHF/Cirrhosis & 2 & 12 & ⋯ & 5.5000000 & 132 & 7.250000 & NA & NA & NA & NA & 1 & <2 mo. follow-up    & 1\\\\\n",
       "\t3 & 52.74698 & 1 & female & 0 & 17 &   47 & Cirrhosis         & COPD/CHF/Cirrhosis & 2 & 12 & ⋯ & 2.0000000 & 134 & 7.459961 & NA & NA & NA &  1 & 0 & <2 mo. follow-up    & 0\\\\\n",
       "\t4 & 42.38498 & 1 & female & 0 &  3 &  133 & Lung Cancer       & Cancer             & 2 & 11 & ⋯ & 0.7999268 & 139 &       NA & NA & NA & NA &  0 & 0 & no(M2 and SIP pres) & 0\\\\\n",
       "\t5 & 79.88495 & 0 & female & 0 & 16 & 2029 & ARF/MOSF w/Sepsis & ARF/MOSF           & 1 & NA & ⋯ & 0.7999268 & 143 & 7.509766 & NA & NA & NA & NA & 2 & no(M2 and SIP pres) & 2\\\\\n",
       "\t6 & 93.01599 & 1 & male   & 1 &  4 &    4 & Coma              & Coma               & 1 & 14 & ⋯ & 0.6999512 & 140 & 7.659180 & NA & NA & NA & NA & 1 & <2 mo. follow-up    & 1\\\\\n",
       "\\end{tabular}\n"
      ],
      "text/markdown": [
       "\n",
       "A data.frame: 6 × 47\n",
       "\n",
       "| <!--/--> | age &lt;dbl&gt; | death &lt;int&gt; | sex &lt;chr&gt; | hospdead &lt;int&gt; | slos &lt;int&gt; | d.time &lt;int&gt; | dzgroup &lt;chr&gt; | dzclass &lt;chr&gt; | num.co &lt;int&gt; | edu &lt;int&gt; | ⋯ ⋯ | crea &lt;dbl&gt; | sod &lt;int&gt; | ph &lt;dbl&gt; | glucose &lt;dbl&gt; | bun &lt;dbl&gt; | urine &lt;dbl&gt; | adlp &lt;int&gt; | adls &lt;int&gt; | sfdm2 &lt;chr&gt; | adlsc &lt;dbl&gt; |\n",
       "|---|---|---|---|---|---|---|---|---|---|---|---|---|---|---|---|---|---|---|---|---|---|\n",
       "| 1 | 62.84998 | 0 | male   | 0 |  5 | 2029 | Lung Cancer       | Cancer             | 0 | 11 | ⋯ | 1.1999512 | 141 | 7.459961 | NA | NA | NA |  7 | 7 | <!----> | 7 |\n",
       "| 2 | 60.33899 | 1 | female | 1 |  4 |    4 | Cirrhosis         | COPD/CHF/Cirrhosis | 2 | 12 | ⋯ | 5.5000000 | 132 | 7.250000 | NA | NA | NA | NA | 1 | &lt;2 mo. follow-up    | 1 |\n",
       "| 3 | 52.74698 | 1 | female | 0 | 17 |   47 | Cirrhosis         | COPD/CHF/Cirrhosis | 2 | 12 | ⋯ | 2.0000000 | 134 | 7.459961 | NA | NA | NA |  1 | 0 | &lt;2 mo. follow-up    | 0 |\n",
       "| 4 | 42.38498 | 1 | female | 0 |  3 |  133 | Lung Cancer       | Cancer             | 2 | 11 | ⋯ | 0.7999268 | 139 |       NA | NA | NA | NA |  0 | 0 | no(M2 and SIP pres) | 0 |\n",
       "| 5 | 79.88495 | 0 | female | 0 | 16 | 2029 | ARF/MOSF w/Sepsis | ARF/MOSF           | 1 | NA | ⋯ | 0.7999268 | 143 | 7.509766 | NA | NA | NA | NA | 2 | no(M2 and SIP pres) | 2 |\n",
       "| 6 | 93.01599 | 1 | male   | 1 |  4 |    4 | Coma              | Coma               | 1 | 14 | ⋯ | 0.6999512 | 140 | 7.659180 | NA | NA | NA | NA | 1 | &lt;2 mo. follow-up    | 1 |\n",
       "\n"
      ],
      "text/plain": [
       "  age      death sex    hospdead slos d.time dzgroup          \n",
       "1 62.84998 0     male   0         5   2029   Lung Cancer      \n",
       "2 60.33899 1     female 1         4      4   Cirrhosis        \n",
       "3 52.74698 1     female 0        17     47   Cirrhosis        \n",
       "4 42.38498 1     female 0         3    133   Lung Cancer      \n",
       "5 79.88495 0     female 0        16   2029   ARF/MOSF w/Sepsis\n",
       "6 93.01599 1     male   1         4      4   Coma             \n",
       "  dzclass            num.co edu ⋯ crea      sod ph       glucose bun urine adlp\n",
       "1 Cancer             0      11  ⋯ 1.1999512 141 7.459961 NA      NA  NA     7  \n",
       "2 COPD/CHF/Cirrhosis 2      12  ⋯ 5.5000000 132 7.250000 NA      NA  NA    NA  \n",
       "3 COPD/CHF/Cirrhosis 2      12  ⋯ 2.0000000 134 7.459961 NA      NA  NA     1  \n",
       "4 Cancer             2      11  ⋯ 0.7999268 139       NA NA      NA  NA     0  \n",
       "5 ARF/MOSF           1      NA  ⋯ 0.7999268 143 7.509766 NA      NA  NA    NA  \n",
       "6 Coma               1      14  ⋯ 0.6999512 140 7.659180 NA      NA  NA    NA  \n",
       "  adls sfdm2               adlsc\n",
       "1 7                        7    \n",
       "2 1    <2 mo. follow-up    1    \n",
       "3 0    <2 mo. follow-up    0    \n",
       "4 0    no(M2 and SIP pres) 0    \n",
       "5 2    no(M2 and SIP pres) 2    \n",
       "6 1    <2 mo. follow-up    1    "
      ]
     },
     "metadata": {},
     "output_type": "display_data"
    }
   ],
   "source": [
    "data <- read.csv(\"../data/support2.csv\")\n",
    "head(data)"
   ]
  },
  {
   "cell_type": "markdown",
   "metadata": {},
   "source": [
    "# On va utiliser tout le dataset, en rajoutant des valeurs moyennes"
   ]
  },
  {
   "cell_type": "code",
   "execution_count": 2,
   "metadata": {
    "vscode": {
     "languageId": "r"
    }
   },
   "outputs": [
    {
     "data": {
      "text/html": [
       "&lt;NA&gt;"
      ],
      "text/latex": [
       "<NA>"
      ],
      "text/markdown": [
       "&lt;NA&gt;"
      ],
      "text/plain": [
       "[1] NA"
      ]
     },
     "metadata": {},
     "output_type": "display_data"
    }
   ],
   "source": [
    "data$pafi[is.na(data$pafi)] <- 333.3\n",
    "data$alb[is.na(data$alb)] <- 3.5\n",
    "data$bun[is.na(data$bun) <- 6.51]\n",
    "data$urine[is.na(data$urine)] <- 2502"
   ]
  },
  {
   "cell_type": "code",
   "execution_count": 3,
   "metadata": {
    "vscode": {
     "languageId": "r"
    }
   },
   "outputs": [
    {
     "data": {
      "text/html": [
       "<table class=\"dataframe\">\n",
       "<caption>A data.frame: 6 × 47</caption>\n",
       "<thead>\n",
       "\t<tr><th></th><th scope=col>age</th><th scope=col>death</th><th scope=col>sex</th><th scope=col>hospdead</th><th scope=col>slos</th><th scope=col>d.time</th><th scope=col>dzgroup</th><th scope=col>dzclass</th><th scope=col>num.co</th><th scope=col>edu</th><th scope=col>⋯</th><th scope=col>crea</th><th scope=col>sod</th><th scope=col>ph</th><th scope=col>glucose</th><th scope=col>bun</th><th scope=col>urine</th><th scope=col>adlp</th><th scope=col>adls</th><th scope=col>sfdm2</th><th scope=col>adlsc</th></tr>\n",
       "\t<tr><th></th><th scope=col>&lt;dbl&gt;</th><th scope=col>&lt;int&gt;</th><th scope=col>&lt;chr&gt;</th><th scope=col>&lt;int&gt;</th><th scope=col>&lt;int&gt;</th><th scope=col>&lt;int&gt;</th><th scope=col>&lt;chr&gt;</th><th scope=col>&lt;chr&gt;</th><th scope=col>&lt;int&gt;</th><th scope=col>&lt;int&gt;</th><th scope=col>⋯</th><th scope=col>&lt;dbl&gt;</th><th scope=col>&lt;dbl&gt;</th><th scope=col>&lt;dbl&gt;</th><th scope=col>&lt;dbl&gt;</th><th scope=col>&lt;dbl&gt;</th><th scope=col>&lt;dbl&gt;</th><th scope=col>&lt;dbl&gt;</th><th scope=col>&lt;dbl&gt;</th><th scope=col>&lt;chr&gt;</th><th scope=col>&lt;dbl&gt;</th></tr>\n",
       "</thead>\n",
       "<tbody>\n",
       "\t<tr><th scope=row>1</th><td>62.84998</td><td>0</td><td>male  </td><td>0</td><td> 5</td><td>2029</td><td>Lung Cancer      </td><td>Cancer            </td><td>0</td><td>11</td><td>⋯</td><td>1.1999512</td><td>141</td><td>7.459961</td><td>135</td><td>23</td><td>2502</td><td>7</td><td>7</td><td>                   </td><td>7</td></tr>\n",
       "\t<tr><th scope=row>2</th><td>60.33899</td><td>1</td><td>female</td><td>1</td><td> 4</td><td><span style=white-space:pre-wrap>   4</span></td><td><span style=white-space:pre-wrap>Cirrhosis        </span></td><td>COPD/CHF/Cirrhosis</td><td>2</td><td>12</td><td>⋯</td><td>5.5000000</td><td>132</td><td>7.250000</td><td>135</td><td>23</td><td>2502</td><td>0</td><td>1</td><td><span style=white-space:pre-wrap>&lt;2 mo. follow-up   </span></td><td>1</td></tr>\n",
       "\t<tr><th scope=row>3</th><td>52.74698</td><td>1</td><td>female</td><td>0</td><td>17</td><td><span style=white-space:pre-wrap>  47</span></td><td><span style=white-space:pre-wrap>Cirrhosis        </span></td><td>COPD/CHF/Cirrhosis</td><td>2</td><td>12</td><td>⋯</td><td>2.0000000</td><td>134</td><td>7.459961</td><td>135</td><td>23</td><td>2502</td><td>1</td><td>0</td><td><span style=white-space:pre-wrap>&lt;2 mo. follow-up   </span></td><td>0</td></tr>\n",
       "\t<tr><th scope=row>4</th><td>42.38498</td><td>1</td><td>female</td><td>0</td><td> 3</td><td> 133</td><td>Lung Cancer      </td><td>Cancer            </td><td>2</td><td>11</td><td>⋯</td><td>0.7999268</td><td>139</td><td>7.419922</td><td>135</td><td>23</td><td>2502</td><td>0</td><td>0</td><td>no(M2 and SIP pres)</td><td>0</td></tr>\n",
       "\t<tr><th scope=row>5</th><td>79.88495</td><td>0</td><td>female</td><td>0</td><td>16</td><td>2029</td><td>ARF/MOSF w/Sepsis</td><td>ARF/MOSF          </td><td>1</td><td>12</td><td>⋯</td><td>0.7999268</td><td>143</td><td>7.509766</td><td>135</td><td>23</td><td>2502</td><td>0</td><td>2</td><td>no(M2 and SIP pres)</td><td>2</td></tr>\n",
       "\t<tr><th scope=row>6</th><td>93.01599</td><td>1</td><td><span style=white-space:pre-wrap>male  </span></td><td>1</td><td> 4</td><td><span style=white-space:pre-wrap>   4</span></td><td><span style=white-space:pre-wrap>Coma             </span></td><td><span style=white-space:pre-wrap>Coma              </span></td><td>1</td><td>14</td><td>⋯</td><td>0.6999512</td><td>140</td><td>7.659180</td><td>135</td><td>23</td><td>2502</td><td>0</td><td>1</td><td><span style=white-space:pre-wrap>&lt;2 mo. follow-up   </span></td><td>1</td></tr>\n",
       "</tbody>\n",
       "</table>\n"
      ],
      "text/latex": [
       "A data.frame: 6 × 47\n",
       "\\begin{tabular}{r|lllllllllllllllllllll}\n",
       "  & age & death & sex & hospdead & slos & d.time & dzgroup & dzclass & num.co & edu & ⋯ & crea & sod & ph & glucose & bun & urine & adlp & adls & sfdm2 & adlsc\\\\\n",
       "  & <dbl> & <int> & <chr> & <int> & <int> & <int> & <chr> & <chr> & <int> & <int> & ⋯ & <dbl> & <dbl> & <dbl> & <dbl> & <dbl> & <dbl> & <dbl> & <dbl> & <chr> & <dbl>\\\\\n",
       "\\hline\n",
       "\t1 & 62.84998 & 0 & male   & 0 &  5 & 2029 & Lung Cancer       & Cancer             & 0 & 11 & ⋯ & 1.1999512 & 141 & 7.459961 & 135 & 23 & 2502 & 7 & 7 &                     & 7\\\\\n",
       "\t2 & 60.33899 & 1 & female & 1 &  4 &    4 & Cirrhosis         & COPD/CHF/Cirrhosis & 2 & 12 & ⋯ & 5.5000000 & 132 & 7.250000 & 135 & 23 & 2502 & 0 & 1 & <2 mo. follow-up    & 1\\\\\n",
       "\t3 & 52.74698 & 1 & female & 0 & 17 &   47 & Cirrhosis         & COPD/CHF/Cirrhosis & 2 & 12 & ⋯ & 2.0000000 & 134 & 7.459961 & 135 & 23 & 2502 & 1 & 0 & <2 mo. follow-up    & 0\\\\\n",
       "\t4 & 42.38498 & 1 & female & 0 &  3 &  133 & Lung Cancer       & Cancer             & 2 & 11 & ⋯ & 0.7999268 & 139 & 7.419922 & 135 & 23 & 2502 & 0 & 0 & no(M2 and SIP pres) & 0\\\\\n",
       "\t5 & 79.88495 & 0 & female & 0 & 16 & 2029 & ARF/MOSF w/Sepsis & ARF/MOSF           & 1 & 12 & ⋯ & 0.7999268 & 143 & 7.509766 & 135 & 23 & 2502 & 0 & 2 & no(M2 and SIP pres) & 2\\\\\n",
       "\t6 & 93.01599 & 1 & male   & 1 &  4 &    4 & Coma              & Coma               & 1 & 14 & ⋯ & 0.6999512 & 140 & 7.659180 & 135 & 23 & 2502 & 0 & 1 & <2 mo. follow-up    & 1\\\\\n",
       "\\end{tabular}\n"
      ],
      "text/markdown": [
       "\n",
       "A data.frame: 6 × 47\n",
       "\n",
       "| <!--/--> | age &lt;dbl&gt; | death &lt;int&gt; | sex &lt;chr&gt; | hospdead &lt;int&gt; | slos &lt;int&gt; | d.time &lt;int&gt; | dzgroup &lt;chr&gt; | dzclass &lt;chr&gt; | num.co &lt;int&gt; | edu &lt;int&gt; | ⋯ ⋯ | crea &lt;dbl&gt; | sod &lt;dbl&gt; | ph &lt;dbl&gt; | glucose &lt;dbl&gt; | bun &lt;dbl&gt; | urine &lt;dbl&gt; | adlp &lt;dbl&gt; | adls &lt;dbl&gt; | sfdm2 &lt;chr&gt; | adlsc &lt;dbl&gt; |\n",
       "|---|---|---|---|---|---|---|---|---|---|---|---|---|---|---|---|---|---|---|---|---|---|\n",
       "| 1 | 62.84998 | 0 | male   | 0 |  5 | 2029 | Lung Cancer       | Cancer             | 0 | 11 | ⋯ | 1.1999512 | 141 | 7.459961 | 135 | 23 | 2502 | 7 | 7 | <!----> | 7 |\n",
       "| 2 | 60.33899 | 1 | female | 1 |  4 |    4 | Cirrhosis         | COPD/CHF/Cirrhosis | 2 | 12 | ⋯ | 5.5000000 | 132 | 7.250000 | 135 | 23 | 2502 | 0 | 1 | &lt;2 mo. follow-up    | 1 |\n",
       "| 3 | 52.74698 | 1 | female | 0 | 17 |   47 | Cirrhosis         | COPD/CHF/Cirrhosis | 2 | 12 | ⋯ | 2.0000000 | 134 | 7.459961 | 135 | 23 | 2502 | 1 | 0 | &lt;2 mo. follow-up    | 0 |\n",
       "| 4 | 42.38498 | 1 | female | 0 |  3 |  133 | Lung Cancer       | Cancer             | 2 | 11 | ⋯ | 0.7999268 | 139 | 7.419922 | 135 | 23 | 2502 | 0 | 0 | no(M2 and SIP pres) | 0 |\n",
       "| 5 | 79.88495 | 0 | female | 0 | 16 | 2029 | ARF/MOSF w/Sepsis | ARF/MOSF           | 1 | 12 | ⋯ | 0.7999268 | 143 | 7.509766 | 135 | 23 | 2502 | 0 | 2 | no(M2 and SIP pres) | 2 |\n",
       "| 6 | 93.01599 | 1 | male   | 1 |  4 |    4 | Coma              | Coma               | 1 | 14 | ⋯ | 0.6999512 | 140 | 7.659180 | 135 | 23 | 2502 | 0 | 1 | &lt;2 mo. follow-up    | 1 |\n",
       "\n"
      ],
      "text/plain": [
       "  age      death sex    hospdead slos d.time dzgroup          \n",
       "1 62.84998 0     male   0         5   2029   Lung Cancer      \n",
       "2 60.33899 1     female 1         4      4   Cirrhosis        \n",
       "3 52.74698 1     female 0        17     47   Cirrhosis        \n",
       "4 42.38498 1     female 0         3    133   Lung Cancer      \n",
       "5 79.88495 0     female 0        16   2029   ARF/MOSF w/Sepsis\n",
       "6 93.01599 1     male   1         4      4   Coma             \n",
       "  dzclass            num.co edu ⋯ crea      sod ph       glucose bun urine adlp\n",
       "1 Cancer             0      11  ⋯ 1.1999512 141 7.459961 135     23  2502  7   \n",
       "2 COPD/CHF/Cirrhosis 2      12  ⋯ 5.5000000 132 7.250000 135     23  2502  0   \n",
       "3 COPD/CHF/Cirrhosis 2      12  ⋯ 2.0000000 134 7.459961 135     23  2502  1   \n",
       "4 Cancer             2      11  ⋯ 0.7999268 139 7.419922 135     23  2502  0   \n",
       "5 ARF/MOSF           1      12  ⋯ 0.7999268 143 7.509766 135     23  2502  0   \n",
       "6 Coma               1      14  ⋯ 0.6999512 140 7.659180 135     23  2502  0   \n",
       "  adls sfdm2               adlsc\n",
       "1 7                        7    \n",
       "2 1    <2 mo. follow-up    1    \n",
       "3 0    <2 mo. follow-up    0    \n",
       "4 0    no(M2 and SIP pres) 0    \n",
       "5 2    no(M2 and SIP pres) 2    \n",
       "6 1    <2 mo. follow-up    1    "
      ]
     },
     "metadata": {},
     "output_type": "display_data"
    }
   ],
   "source": [
    "data[] <- lapply(data, function(x) {\n",
    "  if (is.numeric(x)) {\n",
    "    x[is.na(x)] <- median(x, na.rm = TRUE) \n",
    "  }\n",
    "  return(x)\n",
    "})\n",
    "head(data)"
   ]
  },
  {
   "cell_type": "markdown",
   "metadata": {},
   "source": [
    "On regarde le nombre de colonnes vides"
   ]
  },
  {
   "cell_type": "code",
   "execution_count": 4,
   "metadata": {
    "vscode": {
     "languageId": "r"
    }
   },
   "outputs": [
    {
     "data": {
      "text/html": [
       "<table class=\"dataframe\">\n",
       "<caption>A data.frame: 8 × 2</caption>\n",
       "<thead>\n",
       "\t<tr><th></th><th scope=col>colonne</th><th scope=col>nombre_vides</th></tr>\n",
       "\t<tr><th></th><th scope=col>&lt;chr&gt;</th><th scope=col>&lt;int&gt;</th></tr>\n",
       "</thead>\n",
       "<tbody>\n",
       "\t<tr><th scope=row>sex</th><td>sex    </td><td>   0</td></tr>\n",
       "\t<tr><th scope=row>dzgroup</th><td>dzgroup</td><td>   0</td></tr>\n",
       "\t<tr><th scope=row>dzclass</th><td>dzclass</td><td>   0</td></tr>\n",
       "\t<tr><th scope=row>income</th><td>income </td><td>2982</td></tr>\n",
       "\t<tr><th scope=row>race</th><td>race   </td><td>  42</td></tr>\n",
       "\t<tr><th scope=row>ca</th><td>ca     </td><td>   0</td></tr>\n",
       "\t<tr><th scope=row>dnr</th><td>dnr    </td><td>  30</td></tr>\n",
       "\t<tr><th scope=row>sfdm2</th><td>sfdm2  </td><td>1400</td></tr>\n",
       "</tbody>\n",
       "</table>\n"
      ],
      "text/latex": [
       "A data.frame: 8 × 2\n",
       "\\begin{tabular}{r|ll}\n",
       "  & colonne & nombre\\_vides\\\\\n",
       "  & <chr> & <int>\\\\\n",
       "\\hline\n",
       "\tsex & sex     &    0\\\\\n",
       "\tdzgroup & dzgroup &    0\\\\\n",
       "\tdzclass & dzclass &    0\\\\\n",
       "\tincome & income  & 2982\\\\\n",
       "\trace & race    &   42\\\\\n",
       "\tca & ca      &    0\\\\\n",
       "\tdnr & dnr     &   30\\\\\n",
       "\tsfdm2 & sfdm2   & 1400\\\\\n",
       "\\end{tabular}\n"
      ],
      "text/markdown": [
       "\n",
       "A data.frame: 8 × 2\n",
       "\n",
       "| <!--/--> | colonne &lt;chr&gt; | nombre_vides &lt;int&gt; |\n",
       "|---|---|---|\n",
       "| sex | sex     |    0 |\n",
       "| dzgroup | dzgroup |    0 |\n",
       "| dzclass | dzclass |    0 |\n",
       "| income | income  | 2982 |\n",
       "| race | race    |   42 |\n",
       "| ca | ca      |    0 |\n",
       "| dnr | dnr     |   30 |\n",
       "| sfdm2 | sfdm2   | 1400 |\n",
       "\n"
      ],
      "text/plain": [
       "        colonne nombre_vides\n",
       "sex     sex        0        \n",
       "dzgroup dzgroup    0        \n",
       "dzclass dzclass    0        \n",
       "income  income  2982        \n",
       "race    race      42        \n",
       "ca      ca         0        \n",
       "dnr     dnr       30        \n",
       "sfdm2   sfdm2   1400        "
      ]
     },
     "metadata": {},
     "output_type": "display_data"
    }
   ],
   "source": [
    "colonnes_chaine <- sapply(data, is.character)\n",
    "\n",
    "nombres_vides <- sapply(data[, colonnes_chaine], function(x) sum(x == \"\"))\n",
    "\n",
    "# Afficher les résultats\n",
    "resultats <- data.frame(\n",
    "  colonne = names(nombres_vides),\n",
    "  nombre_vides = nombres_vides\n",
    ")\n",
    "resultats"
   ]
  },
  {
   "cell_type": "markdown",
   "metadata": {},
   "source": [
    "On va retirer la colonne income, et les lignes ou race et dnr sont vides. On va aussi tester sans la colonne sfmd2 pour l'instant"
   ]
  },
  {
   "cell_type": "code",
   "execution_count": 5,
   "metadata": {
    "vscode": {
     "languageId": "r"
    }
   },
   "outputs": [
    {
     "data": {
      "text/html": [
       "<table class=\"dataframe\">\n",
       "<caption>A data.frame: 6 × 2</caption>\n",
       "<thead>\n",
       "\t<tr><th></th><th scope=col>colonne</th><th scope=col>nombre_vides</th></tr>\n",
       "\t<tr><th></th><th scope=col>&lt;chr&gt;</th><th scope=col>&lt;int&gt;</th></tr>\n",
       "</thead>\n",
       "<tbody>\n",
       "\t<tr><th scope=row>sex</th><td>sex    </td><td>0</td></tr>\n",
       "\t<tr><th scope=row>dzgroup</th><td>dzgroup</td><td>0</td></tr>\n",
       "\t<tr><th scope=row>dzclass</th><td>dzclass</td><td>0</td></tr>\n",
       "\t<tr><th scope=row>race</th><td>race   </td><td>0</td></tr>\n",
       "\t<tr><th scope=row>ca</th><td>ca     </td><td>0</td></tr>\n",
       "\t<tr><th scope=row>dnr</th><td>dnr    </td><td>0</td></tr>\n",
       "</tbody>\n",
       "</table>\n"
      ],
      "text/latex": [
       "A data.frame: 6 × 2\n",
       "\\begin{tabular}{r|ll}\n",
       "  & colonne & nombre\\_vides\\\\\n",
       "  & <chr> & <int>\\\\\n",
       "\\hline\n",
       "\tsex & sex     & 0\\\\\n",
       "\tdzgroup & dzgroup & 0\\\\\n",
       "\tdzclass & dzclass & 0\\\\\n",
       "\trace & race    & 0\\\\\n",
       "\tca & ca      & 0\\\\\n",
       "\tdnr & dnr     & 0\\\\\n",
       "\\end{tabular}\n"
      ],
      "text/markdown": [
       "\n",
       "A data.frame: 6 × 2\n",
       "\n",
       "| <!--/--> | colonne &lt;chr&gt; | nombre_vides &lt;int&gt; |\n",
       "|---|---|---|\n",
       "| sex | sex     | 0 |\n",
       "| dzgroup | dzgroup | 0 |\n",
       "| dzclass | dzclass | 0 |\n",
       "| race | race    | 0 |\n",
       "| ca | ca      | 0 |\n",
       "| dnr | dnr     | 0 |\n",
       "\n"
      ],
      "text/plain": [
       "        colonne nombre_vides\n",
       "sex     sex     0           \n",
       "dzgroup dzgroup 0           \n",
       "dzclass dzclass 0           \n",
       "race    race    0           \n",
       "ca      ca      0           \n",
       "dnr     dnr     0           "
      ]
     },
     "metadata": {},
     "output_type": "display_data"
    }
   ],
   "source": [
    "data <- data[, !names(data) %in% \"income\"]\n",
    "data <- data[, !names(data) %in% \"sfdm2\"]\n",
    "data <- data[!(is.na(data$race) | data$race == \"\"), ]\n",
    "data <- data[!(is.na(data$dnr) | data$dnr == \"\"), ]\n",
    "\n",
    "colonnes_chaine <- sapply(data, is.character)\n",
    "\n",
    "nombres_vides <- sapply(data[, colonnes_chaine], function(x) sum(x == \"\"))\n",
    "\n",
    "# Afficher les résultats\n",
    "resultats <- data.frame(\n",
    "  colonne = names(nombres_vides),\n",
    "  nombre_vides = nombres_vides\n",
    ")\n",
    "resultats"
   ]
  },
  {
   "cell_type": "code",
   "execution_count": 6,
   "metadata": {
    "vscode": {
     "languageId": "r"
    }
   },
   "outputs": [
    {
     "data": {
      "text/html": [
       "<table class=\"dataframe\">\n",
       "<caption>A data.frame: 6 × 45</caption>\n",
       "<thead>\n",
       "\t<tr><th></th><th scope=col>age</th><th scope=col>death</th><th scope=col>sex</th><th scope=col>hospdead</th><th scope=col>slos</th><th scope=col>d.time</th><th scope=col>dzgroup</th><th scope=col>dzclass</th><th scope=col>num.co</th><th scope=col>edu</th><th scope=col>⋯</th><th scope=col>bili</th><th scope=col>crea</th><th scope=col>sod</th><th scope=col>ph</th><th scope=col>glucose</th><th scope=col>bun</th><th scope=col>urine</th><th scope=col>adlp</th><th scope=col>adls</th><th scope=col>adlsc</th></tr>\n",
       "\t<tr><th></th><th scope=col>&lt;dbl&gt;</th><th scope=col>&lt;int&gt;</th><th scope=col>&lt;chr&gt;</th><th scope=col>&lt;int&gt;</th><th scope=col>&lt;int&gt;</th><th scope=col>&lt;int&gt;</th><th scope=col>&lt;chr&gt;</th><th scope=col>&lt;chr&gt;</th><th scope=col>&lt;int&gt;</th><th scope=col>&lt;int&gt;</th><th scope=col>⋯</th><th scope=col>&lt;dbl&gt;</th><th scope=col>&lt;dbl&gt;</th><th scope=col>&lt;dbl&gt;</th><th scope=col>&lt;dbl&gt;</th><th scope=col>&lt;dbl&gt;</th><th scope=col>&lt;dbl&gt;</th><th scope=col>&lt;dbl&gt;</th><th scope=col>&lt;dbl&gt;</th><th scope=col>&lt;dbl&gt;</th><th scope=col>&lt;dbl&gt;</th></tr>\n",
       "</thead>\n",
       "<tbody>\n",
       "\t<tr><th scope=row>1</th><td>62.84998</td><td>0</td><td>male  </td><td>0</td><td> 5</td><td>2029</td><td>Lung Cancer      </td><td>Cancer            </td><td>0</td><td>11</td><td>⋯</td><td>0.1999817</td><td>1.1999512</td><td>141</td><td>7.459961</td><td>135</td><td>23</td><td>2502</td><td>7</td><td>7</td><td>7</td></tr>\n",
       "\t<tr><th scope=row>3</th><td>52.74698</td><td>1</td><td>female</td><td>0</td><td>17</td><td>  47</td><td>Cirrhosis        </td><td>COPD/CHF/Cirrhosis</td><td>2</td><td>12</td><td>⋯</td><td>2.1997070</td><td>2.0000000</td><td>134</td><td>7.459961</td><td>135</td><td>23</td><td>2502</td><td>1</td><td>0</td><td>0</td></tr>\n",
       "\t<tr><th scope=row>4</th><td>42.38498</td><td>1</td><td>female</td><td>0</td><td> 3</td><td> 133</td><td>Lung Cancer      </td><td>Cancer            </td><td>2</td><td>11</td><td>⋯</td><td>0.8999023</td><td>0.7999268</td><td>139</td><td>7.419922</td><td>135</td><td>23</td><td>2502</td><td>0</td><td>0</td><td>0</td></tr>\n",
       "\t<tr><th scope=row>5</th><td>79.88495</td><td>0</td><td>female</td><td>0</td><td>16</td><td>2029</td><td>ARF/MOSF w/Sepsis</td><td>ARF/MOSF          </td><td>1</td><td>12</td><td>⋯</td><td>0.8999023</td><td>0.7999268</td><td>143</td><td>7.509766</td><td>135</td><td>23</td><td>2502</td><td>0</td><td>2</td><td>2</td></tr>\n",
       "\t<tr><th scope=row>6</th><td>93.01599</td><td>1</td><td>male  </td><td>1</td><td> 4</td><td>   4</td><td>Coma             </td><td>Coma              </td><td>1</td><td>14</td><td>⋯</td><td>0.8999023</td><td>0.6999512</td><td>140</td><td>7.659180</td><td>135</td><td>23</td><td>2502</td><td>0</td><td>1</td><td>1</td></tr>\n",
       "\t<tr><th scope=row>7</th><td>62.37097</td><td>1</td><td>male  </td><td>0</td><td> 9</td><td> 659</td><td>CHF              </td><td>COPD/CHF/Cirrhosis</td><td>1</td><td>14</td><td>⋯</td><td>0.3999634</td><td>1.5998535</td><td>132</td><td>7.479492</td><td>135</td><td>23</td><td>2502</td><td>0</td><td>1</td><td>1</td></tr>\n",
       "</tbody>\n",
       "</table>\n"
      ],
      "text/latex": [
       "A data.frame: 6 × 45\n",
       "\\begin{tabular}{r|lllllllllllllllllllll}\n",
       "  & age & death & sex & hospdead & slos & d.time & dzgroup & dzclass & num.co & edu & ⋯ & bili & crea & sod & ph & glucose & bun & urine & adlp & adls & adlsc\\\\\n",
       "  & <dbl> & <int> & <chr> & <int> & <int> & <int> & <chr> & <chr> & <int> & <int> & ⋯ & <dbl> & <dbl> & <dbl> & <dbl> & <dbl> & <dbl> & <dbl> & <dbl> & <dbl> & <dbl>\\\\\n",
       "\\hline\n",
       "\t1 & 62.84998 & 0 & male   & 0 &  5 & 2029 & Lung Cancer       & Cancer             & 0 & 11 & ⋯ & 0.1999817 & 1.1999512 & 141 & 7.459961 & 135 & 23 & 2502 & 7 & 7 & 7\\\\\n",
       "\t3 & 52.74698 & 1 & female & 0 & 17 &   47 & Cirrhosis         & COPD/CHF/Cirrhosis & 2 & 12 & ⋯ & 2.1997070 & 2.0000000 & 134 & 7.459961 & 135 & 23 & 2502 & 1 & 0 & 0\\\\\n",
       "\t4 & 42.38498 & 1 & female & 0 &  3 &  133 & Lung Cancer       & Cancer             & 2 & 11 & ⋯ & 0.8999023 & 0.7999268 & 139 & 7.419922 & 135 & 23 & 2502 & 0 & 0 & 0\\\\\n",
       "\t5 & 79.88495 & 0 & female & 0 & 16 & 2029 & ARF/MOSF w/Sepsis & ARF/MOSF           & 1 & 12 & ⋯ & 0.8999023 & 0.7999268 & 143 & 7.509766 & 135 & 23 & 2502 & 0 & 2 & 2\\\\\n",
       "\t6 & 93.01599 & 1 & male   & 1 &  4 &    4 & Coma              & Coma               & 1 & 14 & ⋯ & 0.8999023 & 0.6999512 & 140 & 7.659180 & 135 & 23 & 2502 & 0 & 1 & 1\\\\\n",
       "\t7 & 62.37097 & 1 & male   & 0 &  9 &  659 & CHF               & COPD/CHF/Cirrhosis & 1 & 14 & ⋯ & 0.3999634 & 1.5998535 & 132 & 7.479492 & 135 & 23 & 2502 & 0 & 1 & 1\\\\\n",
       "\\end{tabular}\n"
      ],
      "text/markdown": [
       "\n",
       "A data.frame: 6 × 45\n",
       "\n",
       "| <!--/--> | age &lt;dbl&gt; | death &lt;int&gt; | sex &lt;chr&gt; | hospdead &lt;int&gt; | slos &lt;int&gt; | d.time &lt;int&gt; | dzgroup &lt;chr&gt; | dzclass &lt;chr&gt; | num.co &lt;int&gt; | edu &lt;int&gt; | ⋯ ⋯ | bili &lt;dbl&gt; | crea &lt;dbl&gt; | sod &lt;dbl&gt; | ph &lt;dbl&gt; | glucose &lt;dbl&gt; | bun &lt;dbl&gt; | urine &lt;dbl&gt; | adlp &lt;dbl&gt; | adls &lt;dbl&gt; | adlsc &lt;dbl&gt; |\n",
       "|---|---|---|---|---|---|---|---|---|---|---|---|---|---|---|---|---|---|---|---|---|---|\n",
       "| 1 | 62.84998 | 0 | male   | 0 |  5 | 2029 | Lung Cancer       | Cancer             | 0 | 11 | ⋯ | 0.1999817 | 1.1999512 | 141 | 7.459961 | 135 | 23 | 2502 | 7 | 7 | 7 |\n",
       "| 3 | 52.74698 | 1 | female | 0 | 17 |   47 | Cirrhosis         | COPD/CHF/Cirrhosis | 2 | 12 | ⋯ | 2.1997070 | 2.0000000 | 134 | 7.459961 | 135 | 23 | 2502 | 1 | 0 | 0 |\n",
       "| 4 | 42.38498 | 1 | female | 0 |  3 |  133 | Lung Cancer       | Cancer             | 2 | 11 | ⋯ | 0.8999023 | 0.7999268 | 139 | 7.419922 | 135 | 23 | 2502 | 0 | 0 | 0 |\n",
       "| 5 | 79.88495 | 0 | female | 0 | 16 | 2029 | ARF/MOSF w/Sepsis | ARF/MOSF           | 1 | 12 | ⋯ | 0.8999023 | 0.7999268 | 143 | 7.509766 | 135 | 23 | 2502 | 0 | 2 | 2 |\n",
       "| 6 | 93.01599 | 1 | male   | 1 |  4 |    4 | Coma              | Coma               | 1 | 14 | ⋯ | 0.8999023 | 0.6999512 | 140 | 7.659180 | 135 | 23 | 2502 | 0 | 1 | 1 |\n",
       "| 7 | 62.37097 | 1 | male   | 0 |  9 |  659 | CHF               | COPD/CHF/Cirrhosis | 1 | 14 | ⋯ | 0.3999634 | 1.5998535 | 132 | 7.479492 | 135 | 23 | 2502 | 0 | 1 | 1 |\n",
       "\n"
      ],
      "text/plain": [
       "  age      death sex    hospdead slos d.time dzgroup          \n",
       "1 62.84998 0     male   0         5   2029   Lung Cancer      \n",
       "3 52.74698 1     female 0        17     47   Cirrhosis        \n",
       "4 42.38498 1     female 0         3    133   Lung Cancer      \n",
       "5 79.88495 0     female 0        16   2029   ARF/MOSF w/Sepsis\n",
       "6 93.01599 1     male   1         4      4   Coma             \n",
       "7 62.37097 1     male   0         9    659   CHF              \n",
       "  dzclass            num.co edu ⋯ bili      crea      sod ph       glucose bun\n",
       "1 Cancer             0      11  ⋯ 0.1999817 1.1999512 141 7.459961 135     23 \n",
       "3 COPD/CHF/Cirrhosis 2      12  ⋯ 2.1997070 2.0000000 134 7.459961 135     23 \n",
       "4 Cancer             2      11  ⋯ 0.8999023 0.7999268 139 7.419922 135     23 \n",
       "5 ARF/MOSF           1      12  ⋯ 0.8999023 0.7999268 143 7.509766 135     23 \n",
       "6 Coma               1      14  ⋯ 0.8999023 0.6999512 140 7.659180 135     23 \n",
       "7 COPD/CHF/Cirrhosis 1      14  ⋯ 0.3999634 1.5998535 132 7.479492 135     23 \n",
       "  urine adlp adls adlsc\n",
       "1 2502  7    7    7    \n",
       "3 2502  1    0    0    \n",
       "4 2502  0    0    0    \n",
       "5 2502  0    2    2    \n",
       "6 2502  0    1    1    \n",
       "7 2502  0    1    1    "
      ]
     },
     "metadata": {},
     "output_type": "display_data"
    }
   ],
   "source": [
    "head(data)"
   ]
  },
  {
   "cell_type": "code",
   "execution_count": 7,
   "metadata": {
    "vscode": {
     "languageId": "r"
    }
   },
   "outputs": [
    {
     "name": "stderr",
     "output_type": "stream",
     "text": [
      "Warning message:\n",
      "“glm.fit: l'algorithme n'a pas convergé”\n",
      "Warning message:\n",
      "“glm.fit: des probabilités ont été ajustées numériquement à 0 ou 1”\n"
     ]
    },
    {
     "data": {
      "text/plain": [
       "\n",
       "Call:\n",
       "glm(formula = hospdead ~ ., family = binomial, data = data)\n",
       "\n",
       "Deviance Residuals: \n",
       "   Min      1Q  Median      3Q     Max  \n",
       " -8.49    0.00    0.00    0.00    8.49  \n",
       "\n",
       "Coefficients: (3 not defined because of singularities)\n",
       "                            Estimate Std. Error    z value Pr(>|z|)    \n",
       "(Intercept)                8.163e+14  8.420e+07  9.695e+06   <2e-16 ***\n",
       "age                       -1.205e+12  6.785e+04 -1.775e+07   <2e-16 ***\n",
       "death                     -2.274e+14  2.276e+06 -9.989e+07   <2e-16 ***\n",
       "sexmale                    6.953e+12  1.454e+06  4.784e+06   <2e-16 ***\n",
       "slos                      -1.017e+13  8.075e+04 -1.260e+08   <2e-16 ***\n",
       "d.time                    -2.162e+12  1.958e+03 -1.104e+09   <2e-16 ***\n",
       "dzgroupCHF                 5.147e+13  2.757e+06  1.867e+07   <2e-16 ***\n",
       "dzgroupCirrhosis           9.148e+13  3.890e+06  2.352e+07   <2e-16 ***\n",
       "dzgroupColon Cancer       -5.231e+14  5.752e+06 -9.093e+07   <2e-16 ***\n",
       "dzgroupComa               -2.021e+14  3.959e+06 -5.106e+07   <2e-16 ***\n",
       "dzgroupCOPD               -9.215e+13  2.932e+06 -3.143e+07   <2e-16 ***\n",
       "dzgroupLung Cancer        -5.303e+14  5.987e+06 -8.857e+07   <2e-16 ***\n",
       "dzgroupMOSF w/Malig       -2.045e+13  3.886e+06 -5.262e+06   <2e-16 ***\n",
       "dzclassCancer                     NA         NA         NA       NA    \n",
       "dzclassComa                       NA         NA         NA       NA    \n",
       "dzclassCOPD/CHF/Cirrhosis         NA         NA         NA       NA    \n",
       "num.co                    -4.487e+13  6.904e+05 -6.499e+07   <2e-16 ***\n",
       "edu                        1.463e+13  2.346e+05  6.235e+07   <2e-16 ***\n",
       "scoma                     -7.836e+11  5.075e+04 -1.544e+07   <2e-16 ***\n",
       "charges                   -4.796e+08  1.173e+01 -4.088e+07   <2e-16 ***\n",
       "totcst                     1.585e+09  3.148e+01  5.037e+07   <2e-16 ***\n",
       "totmcst                   -1.078e+09  2.895e+01 -3.725e+07   <2e-16 ***\n",
       "avtisst                    9.029e+12  8.532e+04  1.058e+08   <2e-16 ***\n",
       "raceblack                  2.074e+14  7.883e+06  2.631e+07   <2e-16 ***\n",
       "racehispanic               1.495e+14  8.583e+06  1.742e+07   <2e-16 ***\n",
       "raceother                 -1.786e+13  9.927e+06 -1.799e+06   <2e-16 ***\n",
       "racewhite                  7.174e+13  7.686e+06  9.334e+06   <2e-16 ***\n",
       "sps                        3.248e+12  1.949e+05  1.667e+07   <2e-16 ***\n",
       "aps                        7.167e+11  6.836e+04  1.048e+07   <2e-16 ***\n",
       "surv2m                    -1.257e+15  2.068e+07 -6.076e+07   <2e-16 ***\n",
       "surv6m                     1.033e+15  1.849e+07  5.585e+07   <2e-16 ***\n",
       "hday                      -1.215e+12  9.597e+04 -1.266e+07   <2e-16 ***\n",
       "diabetes                  -2.366e+13  2.028e+06 -1.167e+07   <2e-16 ***\n",
       "dementia                  -4.672e+13  4.330e+06 -1.079e+07   <2e-16 ***\n",
       "cano                      -1.380e+14  4.363e+06 -3.163e+07   <2e-16 ***\n",
       "cayes                     -1.125e+14  4.028e+06 -2.793e+07   <2e-16 ***\n",
       "prg2m                     -4.281e+14  6.437e+06 -6.651e+07   <2e-16 ***\n",
       "prg6m                      1.959e+14  6.267e+06  3.126e+07   <2e-16 ***\n",
       "dnrdnr before sadm        -3.053e+14  4.661e+06 -6.549e+07   <2e-16 ***\n",
       "dnrno dnr                 -8.444e+14  2.090e+06 -4.039e+08   <2e-16 ***\n",
       "dnrday                     1.402e+13  8.914e+04  1.572e+08   <2e-16 ***\n",
       "meanbp                     4.752e+11  2.709e+04  1.754e+07   <2e-16 ***\n",
       "wblc                       1.360e+12  8.076e+04  1.684e+07   <2e-16 ***\n",
       "hrt                       -4.256e+11  2.498e+04 -1.704e+07   <2e-16 ***\n",
       "resp                      -8.043e+11  7.697e+04 -1.045e+07   <2e-16 ***\n",
       "temp                       1.898e+12  6.137e+05  3.093e+06   <2e-16 ***\n",
       "pafi                       4.246e+10  7.599e+03  5.588e+06   <2e-16 ***\n",
       "alb                       -4.320e+13  1.014e+06 -4.261e+07   <2e-16 ***\n",
       "bili                       2.024e+12  1.697e+05  1.193e+07   <2e-16 ***\n",
       "crea                      -5.005e+12  5.153e+05 -9.714e+06   <2e-16 ***\n",
       "sod                        7.828e+11  1.207e+05  6.486e+06   <2e-16 ***\n",
       "ph                         2.535e+13  1.059e+07  2.394e+06   <2e-16 ***\n",
       "glucose                   -1.173e+11  1.134e+04 -1.035e+07   <2e-16 ***\n",
       "bun                        1.544e+12  4.355e+04  3.545e+07   <2e-16 ***\n",
       "urine                      6.421e+09  7.440e+02  8.630e+06   <2e-16 ***\n",
       "adlp                      -5.473e+13  6.248e+05 -8.759e+07   <2e-16 ***\n",
       "adls                      -4.687e+13  8.255e+05 -5.678e+07   <2e-16 ***\n",
       "adlsc                      7.504e+13  7.979e+05  9.405e+07   <2e-16 ***\n",
       "---\n",
       "Signif. codes:  0 ‘***’ 0.001 ‘**’ 0.01 ‘*’ 0.05 ‘.’ 0.1 ‘ ’ 1\n",
       "\n",
       "(Dispersion parameter for binomial family taken to be 1)\n",
       "\n",
       "    Null deviance: 10307  on 9032  degrees of freedom\n",
       "Residual deviance: 61490  on 8978  degrees of freedom\n",
       "AIC: 61600\n",
       "\n",
       "Number of Fisher Scoring iterations: 25\n"
      ]
     },
     "metadata": {},
     "output_type": "display_data"
    }
   ],
   "source": [
    "modreg <- glm(hospdead ~ ., data=data, family = binomial)\n",
    "summary(modreg)"
   ]
  },
  {
   "cell_type": "markdown",
   "metadata": {},
   "source": [
    "On affiche la régression"
   ]
  },
  {
   "cell_type": "code",
   "execution_count": 8,
   "metadata": {
    "vscode": {
     "languageId": "r"
    }
   },
   "outputs": [
    {
     "data": {
      "text/plain": [
       "         Actual\n",
       "Predicted    0    1\n",
       "        0 5997  144\n",
       "        1  709 2183"
      ]
     },
     "metadata": {},
     "output_type": "display_data"
    }
   ],
   "source": [
    "hatY  <- predict(modreg, type=\"response\")\n",
    "predicted_classes <- ifelse(hatY > 0.5, 1, 0)\n",
    "confusion_matrix <- table(Predicted = predicted_classes, Actual = data$hospdead)\n",
    "confusion_matrix"
   ]
  },
  {
   "cell_type": "code",
   "execution_count": 9,
   "metadata": {
    "vscode": {
     "languageId": "r"
    }
   },
   "outputs": [
    {
     "name": "stdout",
     "output_type": "stream",
     "text": [
      "[1] 0.1057262\n"
     ]
    }
   ],
   "source": [
    "false_positive_rate <- confusion_matrix[2,1] / sum(confusion_matrix[, 1])\n",
    "print(false_positive_rate)"
   ]
  },
  {
   "cell_type": "code",
   "execution_count": 10,
   "metadata": {
    "vscode": {
     "languageId": "r"
    }
   },
   "outputs": [
    {
     "name": "stdout",
     "output_type": "stream",
     "text": [
      "[1] 0.06188225\n"
     ]
    }
   ],
   "source": [
    "false_negative_rate <- confusion_matrix[1, 2] / sum(confusion_matrix[, 2])\n",
    "print(false_negative_rate)"
   ]
  },
  {
   "cell_type": "code",
   "execution_count": 11,
   "metadata": {
    "vscode": {
     "languageId": "r"
    }
   },
   "outputs": [
    {
     "name": "stdout",
     "output_type": "stream",
     "text": [
      "[1] 0.9055685\n"
     ]
    }
   ],
   "source": [
    "accuracy <- sum(diag(confusion_matrix)) / sum(confusion_matrix)\n",
    "print(accuracy)"
   ]
  },
  {
   "cell_type": "markdown",
   "metadata": {},
   "source": [
    "stepwise"
   ]
  },
  {
   "cell_type": "code",
   "execution_count": 41,
   "metadata": {
    "vscode": {
     "languageId": "r"
    }
   },
   "outputs": [
    {
     "name": "stdout",
     "output_type": "stream",
     "text": [
      "Start:  AIC=-23297.29\n",
      "hospdead ~ age + death + sex + slos + d.time + dzgroup + dzclass + \n",
      "    num.co + edu + scoma + charges + totcst + totmcst + avtisst + \n",
      "    race + sps + aps + surv2m + surv6m + hday + diabetes + dementia + \n",
      "    ca + prg2m + prg6m + dnr + dnrday + meanbp + wblc + hrt + \n",
      "    resp + temp + pafi + alb + bili + crea + sod + ph + glucose + \n",
      "    bun + urine + adlp + adls + adlsc\n",
      "\n",
      "\n",
      "Step:  AIC=-23297.29\n",
      "hospdead ~ age + death + sex + slos + d.time + dzgroup + num.co + \n",
      "    edu + scoma + charges + totcst + totmcst + avtisst + race + \n",
      "    sps + aps + surv2m + surv6m + hday + diabetes + dementia + \n",
      "    ca + prg2m + prg6m + dnr + dnrday + meanbp + wblc + hrt + \n",
      "    resp + temp + pafi + alb + bili + crea + sod + ph + glucose + \n",
      "    bun + urine + adlp + adls + adlsc\n",
      "\n",
      "           Df Sum of Sq    RSS    AIC\n",
      "- wblc      1     0.000 676.77 -23299\n",
      "- crea      1     0.000 676.77 -23299\n",
      "- temp      1     0.002 676.77 -23299\n",
      "- urine     1     0.002 676.77 -23299\n",
      "- sod       1     0.004 676.77 -23299\n",
      "- diabetes  1     0.005 676.77 -23299\n",
      "- sex       1     0.005 676.78 -23299\n",
      "- scoma     1     0.015 676.79 -23299\n",
      "- bun       1     0.018 676.79 -23299\n",
      "- ph        1     0.020 676.79 -23299\n",
      "- charges   1     0.022 676.79 -23299\n",
      "- hrt       1     0.033 676.80 -23299\n",
      "- bili      1     0.058 676.83 -23298\n",
      "- alb       1     0.059 676.83 -23298\n",
      "- glucose   1     0.087 676.86 -23298\n",
      "- pafi      1     0.096 676.87 -23298\n",
      "- ca        2     0.288 677.06 -23297\n",
      "<none>                  676.77 -23297\n",
      "- resp      1     0.151 676.92 -23297\n",
      "- sps       1     0.163 676.93 -23297\n",
      "- meanbp    1     0.190 676.96 -23297\n",
      "- prg6m     1     0.196 676.97 -23297\n",
      "- age       1     0.203 676.97 -23297\n",
      "- dementia  1     0.238 677.01 -23296\n",
      "- hday      1     0.320 677.09 -23295\n",
      "- edu       1     0.428 677.20 -23294\n",
      "- race      4     1.076 677.85 -23291\n",
      "- aps       1     0.929 677.70 -23287\n",
      "- prg2m     1     0.953 677.72 -23287\n",
      "- num.co    1     1.029 677.80 -23286\n",
      "- adlp      1     1.095 677.86 -23285\n",
      "- adls      1     1.355 678.12 -23281\n",
      "- adlsc     1     1.503 678.27 -23279\n",
      "- totcst    1     1.974 678.74 -23273\n",
      "- dzgroup   7     3.040 679.81 -23271\n",
      "- totmcst   1     3.985 680.75 -23246\n",
      "- surv6m    1     5.624 682.39 -23224\n",
      "- death     1     7.983 684.75 -23193\n",
      "- dnrday    1     8.561 685.33 -23186\n",
      "- surv2m    1     8.702 685.47 -23184\n",
      "- d.time    1    15.471 692.24 -23095\n",
      "- slos      1    21.247 698.02 -23020\n",
      "- avtisst   1    68.076 744.85 -22434\n",
      "- dnr       2   111.341 788.11 -21926\n",
      "\n",
      "Step:  AIC=-23299.29\n",
      "hospdead ~ age + death + sex + slos + d.time + dzgroup + num.co + \n",
      "    edu + scoma + charges + totcst + totmcst + avtisst + race + \n",
      "    sps + aps + surv2m + surv6m + hday + diabetes + dementia + \n",
      "    ca + prg2m + prg6m + dnr + dnrday + meanbp + hrt + resp + \n",
      "    temp + pafi + alb + bili + crea + sod + ph + glucose + bun + \n",
      "    urine + adlp + adls + adlsc\n",
      "\n",
      "           Df Sum of Sq    RSS    AIC\n",
      "- crea      1     0.000 676.77 -23301\n",
      "- temp      1     0.002 676.77 -23301\n",
      "- urine     1     0.002 676.77 -23301\n",
      "- sod       1     0.004 676.77 -23301\n",
      "- diabetes  1     0.005 676.77 -23301\n",
      "- sex       1     0.005 676.78 -23301\n",
      "- scoma     1     0.015 676.79 -23301\n",
      "- bun       1     0.018 676.79 -23301\n",
      "- ph        1     0.020 676.79 -23301\n",
      "- charges   1     0.022 676.79 -23301\n",
      "- hrt       1     0.033 676.80 -23301\n",
      "- bili      1     0.058 676.83 -23300\n",
      "- alb       1     0.059 676.83 -23300\n",
      "- glucose   1     0.087 676.86 -23300\n",
      "- pafi      1     0.097 676.87 -23300\n",
      "- ca        2     0.288 677.06 -23299\n",
      "<none>                  676.77 -23299\n",
      "- resp      1     0.151 676.92 -23299\n",
      "- sps       1     0.163 676.93 -23299\n",
      "- meanbp    1     0.190 676.96 -23299\n",
      "- prg6m     1     0.196 676.97 -23299\n",
      "- age       1     0.203 676.97 -23299\n",
      "- dementia  1     0.238 677.01 -23298\n",
      "+ wblc      1     0.000 676.77 -23297\n",
      "- hday      1     0.320 677.09 -23297\n",
      "- edu       1     0.428 677.20 -23296\n",
      "- race      4     1.076 677.85 -23293\n",
      "- aps       1     0.930 677.70 -23289\n",
      "- prg2m     1     0.953 677.72 -23289\n",
      "- num.co    1     1.030 677.80 -23288\n",
      "- adlp      1     1.095 677.87 -23287\n",
      "- adls      1     1.355 678.13 -23283\n",
      "- adlsc     1     1.503 678.27 -23281\n",
      "- totcst    1     1.976 678.75 -23275\n",
      "- dzgroup   7     3.040 679.81 -23273\n",
      "- totmcst   1     3.986 680.76 -23248\n",
      "- surv6m    1     5.624 682.39 -23226\n",
      "- death     1     7.985 684.75 -23195\n",
      "- dnrday    1     8.562 685.33 -23188\n",
      "- surv2m    1     8.702 685.47 -23186\n",
      "- d.time    1    15.476 692.25 -23097\n",
      "- slos      1    21.253 698.02 -23022\n",
      "- avtisst   1    68.082 744.85 -22435\n",
      "- dnr       2   111.342 788.11 -21928\n",
      "\n",
      "Step:  AIC=-23301.28\n",
      "hospdead ~ age + death + sex + slos + d.time + dzgroup + num.co + \n",
      "    edu + scoma + charges + totcst + totmcst + avtisst + race + \n",
      "    sps + aps + surv2m + surv6m + hday + diabetes + dementia + \n",
      "    ca + prg2m + prg6m + dnr + dnrday + meanbp + hrt + resp + \n",
      "    temp + pafi + alb + bili + sod + ph + glucose + bun + urine + \n",
      "    adlp + adls + adlsc\n",
      "\n",
      "           Df Sum of Sq    RSS    AIC\n",
      "- temp      1     0.002 676.77 -23303\n",
      "- urine     1     0.002 676.77 -23303\n",
      "- sod       1     0.004 676.77 -23303\n",
      "- diabetes  1     0.005 676.77 -23303\n",
      "- sex       1     0.005 676.78 -23303\n",
      "- scoma     1     0.015 676.79 -23303\n",
      "- bun       1     0.020 676.79 -23303\n",
      "- ph        1     0.021 676.79 -23303\n",
      "- charges   1     0.022 676.79 -23303\n",
      "- hrt       1     0.033 676.80 -23303\n",
      "- bili      1     0.059 676.83 -23302\n",
      "- alb       1     0.059 676.83 -23302\n",
      "- glucose   1     0.088 676.86 -23302\n",
      "- pafi      1     0.097 676.87 -23302\n",
      "- ca        2     0.289 677.06 -23301\n",
      "<none>                  676.77 -23301\n",
      "- resp      1     0.152 676.92 -23301\n",
      "- sps       1     0.164 676.93 -23301\n",
      "- meanbp    1     0.191 676.96 -23301\n",
      "- prg6m     1     0.196 676.97 -23301\n",
      "- age       1     0.203 676.97 -23301\n",
      "- dementia  1     0.238 677.01 -23300\n",
      "+ crea      1     0.000 676.77 -23299\n",
      "+ wblc      1     0.000 676.77 -23299\n",
      "- hday      1     0.320 677.09 -23299\n",
      "- edu       1     0.428 677.20 -23298\n",
      "- race      4     1.078 677.85 -23295\n",
      "- prg2m     1     0.953 677.72 -23291\n",
      "- aps       1     0.953 677.72 -23291\n",
      "- num.co    1     1.030 677.80 -23290\n",
      "- adlp      1     1.095 677.87 -23289\n",
      "- adls      1     1.355 678.13 -23285\n",
      "- adlsc     1     1.504 678.27 -23283\n",
      "- totcst    1     2.003 678.77 -23277\n",
      "- dzgroup   7     3.044 679.81 -23275\n",
      "- totmcst   1     4.037 680.81 -23250\n",
      "- surv6m    1     5.625 682.39 -23228\n",
      "- death     1     7.997 684.77 -23197\n",
      "- dnrday    1     8.562 685.33 -23190\n",
      "- surv2m    1     8.702 685.47 -23188\n",
      "- d.time    1    15.487 692.26 -23099\n",
      "- slos      1    21.253 698.02 -23024\n",
      "- avtisst   1    68.155 744.93 -22436\n",
      "- dnr       2   111.351 788.12 -21929\n",
      "\n",
      "Step:  AIC=-23303.26\n",
      "hospdead ~ age + death + sex + slos + d.time + dzgroup + num.co + \n",
      "    edu + scoma + charges + totcst + totmcst + avtisst + race + \n",
      "    sps + aps + surv2m + surv6m + hday + diabetes + dementia + \n",
      "    ca + prg2m + prg6m + dnr + dnrday + meanbp + hrt + resp + \n",
      "    pafi + alb + bili + sod + ph + glucose + bun + urine + adlp + \n",
      "    adls + adlsc\n",
      "\n",
      "           Df Sum of Sq    RSS    AIC\n",
      "- urine     1     0.002 676.77 -23305\n",
      "- sod       1     0.003 676.78 -23305\n",
      "- diabetes  1     0.005 676.78 -23305\n",
      "- sex       1     0.005 676.78 -23305\n",
      "- scoma     1     0.014 676.79 -23305\n",
      "- bun       1     0.020 676.79 -23305\n",
      "- charges   1     0.022 676.79 -23305\n",
      "- ph        1     0.022 676.79 -23305\n",
      "- hrt       1     0.037 676.81 -23305\n",
      "- alb       1     0.059 676.83 -23304\n",
      "- bili      1     0.059 676.83 -23304\n",
      "- glucose   1     0.088 676.86 -23304\n",
      "- pafi      1     0.103 676.87 -23304\n",
      "- ca        2     0.289 677.06 -23303\n",
      "<none>                  676.77 -23303\n",
      "- resp      1     0.154 676.93 -23303\n",
      "- sps       1     0.163 676.94 -23303\n",
      "- meanbp    1     0.192 676.96 -23303\n",
      "- prg6m     1     0.196 676.97 -23303\n",
      "- age       1     0.203 676.97 -23303\n",
      "- dementia  1     0.238 677.01 -23302\n",
      "+ temp      1     0.002 676.77 -23301\n",
      "+ crea      1     0.000 676.77 -23301\n",
      "+ wblc      1     0.000 676.77 -23301\n",
      "- hday      1     0.320 677.09 -23301\n",
      "- edu       1     0.428 677.20 -23300\n",
      "- race      4     1.080 677.85 -23297\n",
      "- prg2m     1     0.953 677.72 -23293\n",
      "- aps       1     0.954 677.73 -23292\n",
      "- num.co    1     1.029 677.80 -23292\n",
      "- adlp      1     1.093 677.87 -23291\n",
      "- adls      1     1.354 678.13 -23287\n",
      "- adlsc     1     1.503 678.27 -23285\n",
      "- totcst    1     2.002 678.77 -23279\n",
      "- dzgroup   7     3.052 679.82 -23277\n",
      "- totmcst   1     4.036 680.81 -23252\n",
      "- surv6m    1     5.627 682.40 -23230\n",
      "- death     1     7.997 684.77 -23199\n",
      "- dnrday    1     8.566 685.34 -23192\n",
      "- surv2m    1     8.711 685.48 -23190\n",
      "- d.time    1    15.498 692.27 -23101\n",
      "- slos      1    21.260 698.03 -23026\n",
      "- avtisst   1    68.262 745.03 -22437\n",
      "- dnr       2   111.405 788.18 -21931\n",
      "\n",
      "Step:  AIC=-23305.23\n",
      "hospdead ~ age + death + sex + slos + d.time + dzgroup + num.co + \n",
      "    edu + scoma + charges + totcst + totmcst + avtisst + race + \n",
      "    sps + aps + surv2m + surv6m + hday + diabetes + dementia + \n",
      "    ca + prg2m + prg6m + dnr + dnrday + meanbp + hrt + resp + \n",
      "    pafi + alb + bili + sod + ph + glucose + bun + adlp + adls + \n",
      "    adlsc\n",
      "\n",
      "           Df Sum of Sq    RSS    AIC\n",
      "- sod       1     0.003 676.78 -23307\n",
      "- diabetes  1     0.005 676.78 -23307\n",
      "- sex       1     0.005 676.78 -23307\n",
      "- scoma     1     0.014 676.79 -23307\n",
      "- bun       1     0.018 676.79 -23307\n",
      "- charges   1     0.022 676.80 -23307\n",
      "- ph        1     0.023 676.80 -23307\n",
      "- hrt       1     0.038 676.81 -23307\n",
      "- alb       1     0.059 676.83 -23306\n",
      "- bili      1     0.060 676.83 -23306\n",
      "- glucose   1     0.089 676.86 -23306\n",
      "- pafi      1     0.103 676.88 -23306\n",
      "- ca        2     0.289 677.06 -23305\n",
      "<none>                  676.77 -23305\n",
      "- resp      1     0.154 676.93 -23305\n",
      "- sps       1     0.164 676.94 -23305\n",
      "- meanbp    1     0.190 676.96 -23305\n",
      "- prg6m     1     0.197 676.97 -23305\n",
      "- age       1     0.202 676.98 -23304\n",
      "- dementia  1     0.237 677.01 -23304\n",
      "+ urine     1     0.002 676.77 -23303\n",
      "+ temp      1     0.002 676.77 -23303\n",
      "+ crea      1     0.000 676.77 -23303\n",
      "+ wblc      1     0.000 676.77 -23303\n",
      "- hday      1     0.319 677.09 -23303\n",
      "- edu       1     0.427 677.20 -23302\n",
      "- race      4     1.079 677.85 -23299\n",
      "- prg2m     1     0.954 677.73 -23294\n",
      "- aps       1     0.956 677.73 -23294\n",
      "- num.co    1     1.028 677.80 -23294\n",
      "- adlp      1     1.094 677.87 -23293\n",
      "- adls      1     1.355 678.13 -23289\n",
      "- adlsc     1     1.505 678.28 -23287\n",
      "- totcst    1     2.004 678.78 -23280\n",
      "- dzgroup   7     3.050 679.82 -23279\n",
      "- totmcst   1     4.035 680.81 -23254\n",
      "- surv6m    1     5.626 682.40 -23232\n",
      "- death     1     7.999 684.77 -23201\n",
      "- dnrday    1     8.570 685.34 -23194\n",
      "- surv2m    1     8.709 685.48 -23192\n",
      "- d.time    1    15.544 692.32 -23102\n",
      "- slos      1    21.266 698.04 -23028\n",
      "- avtisst   1    68.262 745.04 -22439\n",
      "- dnr       2   111.405 788.18 -21933\n",
      "\n",
      "Step:  AIC=-23307.19\n",
      "hospdead ~ age + death + sex + slos + d.time + dzgroup + num.co + \n",
      "    edu + scoma + charges + totcst + totmcst + avtisst + race + \n",
      "    sps + aps + surv2m + surv6m + hday + diabetes + dementia + \n",
      "    ca + prg2m + prg6m + dnr + dnrday + meanbp + hrt + resp + \n",
      "    pafi + alb + bili + ph + glucose + bun + adlp + adls + adlsc\n",
      "\n",
      "           Df Sum of Sq    RSS    AIC\n",
      "- diabetes  1     0.005 676.78 -23309\n",
      "- sex       1     0.005 676.78 -23309\n",
      "- scoma     1     0.015 676.79 -23309\n",
      "- bun       1     0.017 676.79 -23309\n",
      "- charges   1     0.022 676.80 -23309\n",
      "- ph        1     0.023 676.80 -23309\n",
      "- hrt       1     0.037 676.81 -23309\n",
      "- alb       1     0.059 676.84 -23308\n",
      "- bili      1     0.061 676.84 -23308\n",
      "- glucose   1     0.089 676.87 -23308\n",
      "- pafi      1     0.101 676.88 -23308\n",
      "- ca        2     0.289 677.07 -23307\n",
      "<none>                  676.78 -23307\n",
      "- resp      1     0.154 676.93 -23307\n",
      "- sps       1     0.164 676.94 -23307\n",
      "- meanbp    1     0.195 676.97 -23307\n",
      "- prg6m     1     0.197 676.97 -23307\n",
      "- age       1     0.201 676.98 -23306\n",
      "- dementia  1     0.236 677.01 -23306\n",
      "+ sod       1     0.003 676.77 -23305\n",
      "+ urine     1     0.002 676.78 -23305\n",
      "+ temp      1     0.001 676.78 -23305\n",
      "+ crea      1     0.000 676.78 -23305\n",
      "+ wblc      1     0.000 676.78 -23305\n",
      "- hday      1     0.320 677.10 -23305\n",
      "- edu       1     0.427 677.20 -23304\n",
      "- race      4     1.083 677.86 -23301\n",
      "- prg2m     1     0.955 677.73 -23296\n",
      "- aps       1     0.963 677.74 -23296\n",
      "- num.co    1     1.028 677.80 -23296\n",
      "- adlp      1     1.099 677.88 -23294\n",
      "- adls      1     1.353 678.13 -23291\n",
      "- adlsc     1     1.504 678.28 -23289\n",
      "- totcst    1     2.005 678.78 -23282\n",
      "- dzgroup   7     3.048 679.82 -23281\n",
      "- totmcst   1     4.033 680.81 -23256\n",
      "- surv6m    1     5.652 682.43 -23234\n",
      "- death     1     7.997 684.77 -23203\n",
      "- dnrday    1     8.567 685.34 -23196\n",
      "- surv2m    1     8.723 685.50 -23194\n",
      "- d.time    1    15.542 692.32 -23104\n",
      "- slos      1    21.263 698.04 -23030\n",
      "- avtisst   1    68.303 745.08 -22441\n",
      "- dnr       2   111.406 788.18 -21935\n",
      "\n",
      "Step:  AIC=-23309.13\n",
      "hospdead ~ age + death + sex + slos + d.time + dzgroup + num.co + \n",
      "    edu + scoma + charges + totcst + totmcst + avtisst + race + \n",
      "    sps + aps + surv2m + surv6m + hday + dementia + ca + prg2m + \n",
      "    prg6m + dnr + dnrday + meanbp + hrt + resp + pafi + alb + \n",
      "    bili + ph + glucose + bun + adlp + adls + adlsc\n",
      "\n",
      "           Df Sum of Sq    RSS    AIC\n",
      "- sex       1     0.004 676.79 -23311\n",
      "- scoma     1     0.015 676.80 -23311\n",
      "- bun       1     0.017 676.80 -23311\n",
      "- charges   1     0.023 676.80 -23311\n",
      "- ph        1     0.023 676.81 -23311\n",
      "- hrt       1     0.037 676.82 -23311\n",
      "- alb       1     0.058 676.84 -23310\n",
      "- bili      1     0.062 676.84 -23310\n",
      "- glucose   1     0.090 676.87 -23310\n",
      "- pafi      1     0.102 676.88 -23310\n",
      "- ca        2     0.285 677.07 -23309\n",
      "<none>                  676.78 -23309\n",
      "- resp      1     0.152 676.93 -23309\n",
      "- sps       1     0.163 676.95 -23309\n",
      "- meanbp    1     0.194 676.98 -23308\n",
      "- prg6m     1     0.197 676.98 -23308\n",
      "- age       1     0.206 676.99 -23308\n",
      "- dementia  1     0.233 677.01 -23308\n",
      "+ diabetes  1     0.005 676.78 -23307\n",
      "+ sod       1     0.003 676.78 -23307\n",
      "+ urine     1     0.002 676.78 -23307\n",
      "+ temp      1     0.002 676.78 -23307\n",
      "+ crea      1     0.000 676.78 -23307\n",
      "+ wblc      1     0.000 676.78 -23307\n",
      "- hday      1     0.319 677.10 -23307\n",
      "- edu       1     0.428 677.21 -23305\n",
      "- race      4     1.079 677.86 -23303\n",
      "- prg2m     1     0.957 677.74 -23298\n",
      "- aps       1     0.959 677.74 -23298\n",
      "- adlp      1     1.101 677.88 -23296\n",
      "- num.co    1     1.295 678.08 -23294\n",
      "- adls      1     1.355 678.14 -23293\n",
      "- adlsc     1     1.505 678.29 -23291\n",
      "- totcst    1     2.001 678.78 -23284\n",
      "- dzgroup   7     3.087 679.87 -23282\n",
      "- totmcst   1     4.030 680.81 -23258\n",
      "- surv6m    1     5.650 682.43 -23236\n",
      "- death     1     7.996 684.78 -23205\n",
      "- dnrday    1     8.577 685.36 -23197\n",
      "- surv2m    1     8.723 685.50 -23195\n",
      "- d.time    1    15.538 692.32 -23106\n",
      "- slos      1    21.299 698.08 -23031\n",
      "- avtisst   1    68.310 745.09 -22442\n",
      "- dnr       2   111.651 788.43 -21934\n",
      "\n",
      "Step:  AIC=-23311.07\n",
      "hospdead ~ age + death + slos + d.time + dzgroup + num.co + edu + \n",
      "    scoma + charges + totcst + totmcst + avtisst + race + sps + \n",
      "    aps + surv2m + surv6m + hday + dementia + ca + prg2m + prg6m + \n",
      "    dnr + dnrday + meanbp + hrt + resp + pafi + alb + bili + \n",
      "    ph + glucose + bun + adlp + adls + adlsc\n",
      "\n",
      "           Df Sum of Sq    RSS    AIC\n",
      "- scoma     1     0.015 676.80 -23313\n",
      "- bun       1     0.017 676.80 -23313\n",
      "- charges   1     0.023 676.81 -23313\n",
      "- ph        1     0.024 676.81 -23313\n",
      "- hrt       1     0.036 676.82 -23313\n",
      "- alb       1     0.057 676.84 -23312\n",
      "- bili      1     0.062 676.85 -23312\n",
      "- glucose   1     0.090 676.88 -23312\n",
      "- pafi      1     0.104 676.89 -23312\n",
      "- ca        2     0.283 677.07 -23311\n",
      "<none>                  676.79 -23311\n",
      "- resp      1     0.151 676.94 -23311\n",
      "- sps       1     0.164 676.95 -23311\n",
      "- meanbp    1     0.194 676.98 -23310\n",
      "- prg6m     1     0.199 676.99 -23310\n",
      "- age       1     0.204 676.99 -23310\n",
      "- dementia  1     0.233 677.02 -23310\n",
      "+ sex       1     0.004 676.78 -23309\n",
      "+ diabetes  1     0.004 676.78 -23309\n",
      "+ sod       1     0.003 676.78 -23309\n",
      "+ urine     1     0.002 676.78 -23309\n",
      "+ temp      1     0.002 676.78 -23309\n",
      "+ crea      1     0.000 676.79 -23309\n",
      "+ wblc      1     0.000 676.79 -23309\n",
      "- hday      1     0.320 677.11 -23309\n",
      "- edu       1     0.430 677.22 -23307\n",
      "- race      4     1.089 677.88 -23304\n",
      "- aps       1     0.957 677.74 -23300\n",
      "- prg2m     1     0.960 677.75 -23300\n",
      "- adlp      1     1.097 677.88 -23298\n",
      "- num.co    1     1.302 678.09 -23296\n",
      "- adls      1     1.352 678.14 -23295\n",
      "- adlsc     1     1.506 678.29 -23293\n",
      "- totcst    1     1.999 678.79 -23286\n",
      "- dzgroup   7     3.082 679.87 -23284\n",
      "- totmcst   1     4.026 680.81 -23260\n",
      "- surv6m    1     5.648 682.43 -23238\n",
      "- death     1     7.992 684.78 -23207\n",
      "- dnrday    1     8.578 685.36 -23199\n",
      "- surv2m    1     8.723 685.51 -23197\n",
      "- d.time    1    15.534 692.32 -23108\n",
      "- slos      1    21.302 698.09 -23033\n",
      "- avtisst   1    68.305 745.09 -22444\n",
      "- dnr       2   111.809 788.60 -21934\n",
      "\n",
      "Step:  AIC=-23312.87\n",
      "hospdead ~ age + death + slos + d.time + dzgroup + num.co + edu + \n",
      "    charges + totcst + totmcst + avtisst + race + sps + aps + \n",
      "    surv2m + surv6m + hday + dementia + ca + prg2m + prg6m + \n",
      "    dnr + dnrday + meanbp + hrt + resp + pafi + alb + bili + \n",
      "    ph + glucose + bun + adlp + adls + adlsc\n",
      "\n",
      "           Df Sum of Sq    RSS    AIC\n",
      "- bun       1     0.017 676.82 -23315\n",
      "- charges   1     0.024 676.83 -23314\n",
      "- ph        1     0.025 676.83 -23314\n",
      "- hrt       1     0.041 676.84 -23314\n",
      "- alb       1     0.057 676.86 -23314\n",
      "- bili      1     0.062 676.86 -23314\n",
      "- glucose   1     0.088 676.89 -23314\n",
      "- pafi      1     0.106 676.91 -23314\n",
      "<none>                  676.80 -23313\n",
      "- resp      1     0.154 676.96 -23313\n",
      "- ca        2     0.324 677.13 -23312\n",
      "- meanbp    1     0.193 676.99 -23312\n",
      "- prg6m     1     0.198 677.00 -23312\n",
      "- dementia  1     0.234 677.04 -23312\n",
      "- sps       1     0.260 677.06 -23311\n",
      "- age       1     0.282 677.08 -23311\n",
      "+ scoma     1     0.015 676.79 -23311\n",
      "+ sex       1     0.004 676.80 -23311\n",
      "+ sod       1     0.004 676.80 -23311\n",
      "+ diabetes  1     0.004 676.80 -23311\n",
      "+ urine     1     0.002 676.80 -23311\n",
      "+ temp      1     0.001 676.80 -23311\n",
      "+ crea      1     0.000 676.80 -23311\n",
      "+ wblc      1     0.000 676.80 -23311\n",
      "- hday      1     0.307 677.11 -23311\n",
      "- edu       1     0.430 677.23 -23309\n",
      "- race      4     1.099 677.90 -23306\n",
      "- aps       1     0.945 677.75 -23302\n",
      "- prg2m     1     0.963 677.76 -23302\n",
      "- adlp      1     1.117 677.92 -23300\n",
      "- num.co    1     1.301 678.10 -23298\n",
      "- adls      1     1.376 678.18 -23296\n",
      "- adlsc     1     1.545 678.35 -23294\n",
      "- totcst    1     2.000 678.80 -23288\n",
      "- dzgroup   7     3.081 679.88 -23286\n",
      "- totmcst   1     4.051 680.85 -23261\n",
      "- surv6m    1     5.719 682.52 -23239\n",
      "- death     1     7.989 684.79 -23209\n",
      "- dnrday    1     8.578 685.38 -23201\n",
      "- surv2m    1    10.353 687.15 -23178\n",
      "- d.time    1    15.571 692.37 -23109\n",
      "- slos      1    21.307 698.11 -23035\n",
      "- avtisst   1    68.291 745.09 -22446\n",
      "- dnr       2   111.828 788.63 -21936\n",
      "\n",
      "Step:  AIC=-23314.63\n",
      "hospdead ~ age + death + slos + d.time + dzgroup + num.co + edu + \n",
      "    charges + totcst + totmcst + avtisst + race + sps + aps + \n",
      "    surv2m + surv6m + hday + dementia + ca + prg2m + prg6m + \n",
      "    dnr + dnrday + meanbp + hrt + resp + pafi + alb + bili + \n",
      "    ph + glucose + adlp + adls + adlsc\n",
      "\n",
      "           Df Sum of Sq    RSS    AIC\n",
      "- charges   1     0.021 676.84 -23316\n",
      "- ph        1     0.022 676.84 -23316\n",
      "- hrt       1     0.041 676.86 -23316\n",
      "- bili      1     0.054 676.87 -23316\n",
      "- alb       1     0.055 676.87 -23316\n",
      "- glucose   1     0.104 676.92 -23315\n",
      "- pafi      1     0.110 676.93 -23315\n",
      "<none>                  676.82 -23315\n",
      "- resp      1     0.153 676.97 -23315\n",
      "- ca        2     0.323 677.14 -23314\n",
      "- prg6m     1     0.196 677.01 -23314\n",
      "- meanbp    1     0.203 677.02 -23314\n",
      "- dementia  1     0.232 677.05 -23314\n",
      "- sps       1     0.257 677.08 -23313\n",
      "+ bun       1     0.017 676.80 -23313\n",
      "+ scoma     1     0.016 676.80 -23313\n",
      "- age       1     0.286 677.11 -23313\n",
      "+ sex       1     0.004 676.81 -23313\n",
      "+ diabetes  1     0.004 676.81 -23313\n",
      "+ sod       1     0.003 676.82 -23313\n",
      "+ crea      1     0.003 676.82 -23313\n",
      "+ temp      1     0.001 676.82 -23313\n",
      "+ wblc      1     0.000 676.82 -23313\n",
      "+ urine     1     0.000 676.82 -23313\n",
      "- hday      1     0.308 677.13 -23312\n",
      "- edu       1     0.428 677.25 -23311\n",
      "- race      4     1.098 677.92 -23308\n",
      "- aps       1     0.939 677.76 -23304\n",
      "- prg2m     1     0.957 677.78 -23304\n",
      "- adlp      1     1.120 677.94 -23302\n",
      "- num.co    1     1.314 678.13 -23299\n",
      "- adls      1     1.380 678.20 -23298\n",
      "- adlsc     1     1.550 678.37 -23296\n",
      "- totcst    1     2.031 678.85 -23290\n",
      "- dzgroup   7     3.099 679.92 -23287\n",
      "- totmcst   1     4.116 680.94 -23262\n",
      "- surv6m    1     5.720 682.54 -23241\n",
      "- death     1     8.059 684.88 -23210\n",
      "- dnrday    1     8.579 685.40 -23203\n",
      "- surv2m    1    10.358 687.18 -23179\n",
      "- d.time    1    15.576 692.40 -23111\n",
      "- slos      1    21.295 698.11 -23037\n",
      "- avtisst   1    68.554 745.37 -22445\n",
      "- dnr       2   111.912 788.73 -21936\n",
      "\n",
      "Step:  AIC=-23316.36\n",
      "hospdead ~ age + death + slos + d.time + dzgroup + num.co + edu + \n",
      "    totcst + totmcst + avtisst + race + sps + aps + surv2m + \n",
      "    surv6m + hday + dementia + ca + prg2m + prg6m + dnr + dnrday + \n",
      "    meanbp + hrt + resp + pafi + alb + bili + ph + glucose + \n",
      "    adlp + adls + adlsc\n",
      "\n",
      "           Df Sum of Sq    RSS    AIC\n",
      "- ph        1     0.021 676.86 -23318\n",
      "- hrt       1     0.041 676.88 -23318\n",
      "- alb       1     0.051 676.89 -23318\n",
      "- bili      1     0.061 676.90 -23318\n",
      "- glucose   1     0.099 676.94 -23317\n",
      "- pafi      1     0.113 676.95 -23317\n",
      "<none>                  676.84 -23316\n",
      "- resp      1     0.153 676.99 -23316\n",
      "- ca        2     0.327 677.17 -23316\n",
      "- prg6m     1     0.198 677.04 -23316\n",
      "- meanbp    1     0.199 677.04 -23316\n",
      "- dementia  1     0.235 677.07 -23315\n",
      "- sps       1     0.269 677.11 -23315\n",
      "+ charges   1     0.021 676.82 -23315\n",
      "+ scoma     1     0.016 676.82 -23315\n",
      "+ bun       1     0.015 676.83 -23314\n",
      "+ diabetes  1     0.005 676.84 -23314\n",
      "+ sex       1     0.005 676.84 -23314\n",
      "+ sod       1     0.003 676.84 -23314\n",
      "+ crea      1     0.003 676.84 -23314\n",
      "+ temp      1     0.001 676.84 -23314\n",
      "+ wblc      1     0.000 676.84 -23314\n",
      "+ urine     1     0.000 676.84 -23314\n",
      "- age       1     0.302 677.14 -23314\n",
      "- hday      1     0.370 677.21 -23313\n",
      "- edu       1     0.442 677.28 -23312\n",
      "- race      4     1.094 677.93 -23310\n",
      "- aps       1     0.955 677.79 -23306\n",
      "- prg2m     1     0.957 677.80 -23306\n",
      "- adlp      1     1.124 677.96 -23303\n",
      "- num.co    1     1.307 678.15 -23301\n",
      "- adls      1     1.402 678.24 -23300\n",
      "- adlsc     1     1.570 678.41 -23297\n",
      "- dzgroup   7     3.088 679.93 -23289\n",
      "- totcst    1     2.460 679.30 -23286\n",
      "- totmcst   1     4.146 680.99 -23263\n",
      "- surv6m    1     5.702 682.54 -23243\n",
      "- death     1     8.038 684.88 -23212\n",
      "- dnrday    1     8.690 685.53 -23203\n",
      "- surv2m    1    10.350 687.19 -23181\n",
      "- d.time    1    15.704 692.54 -23111\n",
      "- slos      1    21.490 698.33 -23036\n",
      "- avtisst   1    69.436 746.28 -22436\n",
      "- dnr       2   111.955 788.80 -21938\n",
      "\n",
      "Step:  AIC=-23318.08\n",
      "hospdead ~ age + death + slos + d.time + dzgroup + num.co + edu + \n",
      "    totcst + totmcst + avtisst + race + sps + aps + surv2m + \n",
      "    surv6m + hday + dementia + ca + prg2m + prg6m + dnr + dnrday + \n",
      "    meanbp + hrt + resp + pafi + alb + bili + glucose + adlp + \n",
      "    adls + adlsc\n",
      "\n",
      "           Df Sum of Sq    RSS    AIC\n",
      "- hrt       1     0.043 676.90 -23320\n",
      "- alb       1     0.051 676.91 -23319\n",
      "- bili      1     0.059 676.92 -23319\n",
      "- glucose   1     0.096 676.96 -23319\n",
      "- pafi      1     0.104 676.96 -23319\n",
      "<none>                  676.86 -23318\n",
      "- resp      1     0.155 677.02 -23318\n",
      "- ca        2     0.325 677.19 -23318\n",
      "- meanbp    1     0.191 677.05 -23318\n",
      "- prg6m     1     0.198 677.06 -23317\n",
      "- dementia  1     0.233 677.09 -23317\n",
      "- sps       1     0.265 677.13 -23316\n",
      "+ ph        1     0.021 676.84 -23316\n",
      "+ charges   1     0.020 676.84 -23316\n",
      "+ scoma     1     0.017 676.84 -23316\n",
      "+ bun       1     0.012 676.85 -23316\n",
      "+ sex       1     0.005 676.86 -23316\n",
      "+ diabetes  1     0.005 676.86 -23316\n",
      "+ sod       1     0.004 676.86 -23316\n",
      "+ temp      1     0.001 676.86 -23316\n",
      "+ crea      1     0.001 676.86 -23316\n",
      "+ urine     1     0.000 676.86 -23316\n",
      "+ wblc      1     0.000 676.86 -23316\n",
      "- age       1     0.300 677.16 -23316\n",
      "- hday      1     0.373 677.23 -23315\n",
      "- edu       1     0.440 677.30 -23314\n",
      "- race      4     1.101 677.96 -23311\n",
      "- prg2m     1     0.958 677.82 -23307\n",
      "- aps       1     0.971 677.83 -23307\n",
      "- adlp      1     1.121 677.98 -23305\n",
      "- num.co    1     1.307 678.17 -23303\n",
      "- adls      1     1.403 678.26 -23301\n",
      "- adlsc     1     1.571 678.43 -23299\n",
      "- dzgroup   7     3.095 679.96 -23291\n",
      "- totcst    1     2.449 679.31 -23288\n",
      "- totmcst   1     4.154 681.01 -23265\n",
      "- surv6m    1     5.731 682.59 -23244\n",
      "- death     1     8.033 684.89 -23214\n",
      "- dnrday    1     8.681 685.54 -23205\n",
      "- surv2m    1    10.373 687.23 -23183\n",
      "- d.time    1    15.701 692.56 -23113\n",
      "- slos      1    21.477 698.34 -23038\n",
      "- avtisst   1    69.552 746.41 -22436\n",
      "- dnr       2   111.955 788.82 -21939\n",
      "\n",
      "Step:  AIC=-23319.51\n",
      "hospdead ~ age + death + slos + d.time + dzgroup + num.co + edu + \n",
      "    totcst + totmcst + avtisst + race + sps + aps + surv2m + \n",
      "    surv6m + hday + dementia + ca + prg2m + prg6m + dnr + dnrday + \n",
      "    meanbp + resp + pafi + alb + bili + glucose + adlp + adls + \n",
      "    adlsc\n",
      "\n",
      "           Df Sum of Sq    RSS    AIC\n",
      "- alb       1     0.041 676.94 -23321\n",
      "- bili      1     0.057 676.96 -23321\n",
      "- glucose   1     0.099 677.00 -23320\n",
      "- pafi      1     0.124 677.03 -23320\n",
      "<none>                  676.90 -23320\n",
      "- ca        2     0.321 677.22 -23319\n",
      "- meanbp    1     0.176 677.08 -23319\n",
      "- resp      1     0.192 677.10 -23319\n",
      "- prg6m     1     0.197 677.10 -23319\n",
      "- dementia  1     0.231 677.13 -23318\n",
      "- sps       1     0.253 677.16 -23318\n",
      "+ hrt       1     0.043 676.86 -23318\n",
      "+ ph        1     0.023 676.88 -23318\n",
      "+ scoma     1     0.022 676.88 -23318\n",
      "- age       1     0.278 677.18 -23318\n",
      "+ charges   1     0.020 676.88 -23318\n",
      "+ bun       1     0.012 676.89 -23318\n",
      "+ temp      1     0.006 676.90 -23318\n",
      "+ sex       1     0.005 676.90 -23318\n",
      "+ sod       1     0.004 676.90 -23318\n",
      "+ diabetes  1     0.004 676.90 -23318\n",
      "+ wblc      1     0.001 676.90 -23318\n",
      "+ crea      1     0.001 676.90 -23318\n",
      "+ urine     1     0.000 676.90 -23318\n",
      "- hday      1     0.376 677.28 -23316\n",
      "- edu       1     0.446 677.35 -23316\n",
      "- race      4     1.100 678.00 -23313\n",
      "- prg2m     1     0.956 677.86 -23309\n",
      "- aps       1     0.959 677.86 -23309\n",
      "- adlp      1     1.116 678.02 -23307\n",
      "- num.co    1     1.292 678.20 -23304\n",
      "- adls      1     1.399 678.30 -23303\n",
      "- adlsc     1     1.565 678.47 -23301\n",
      "- dzgroup   7     3.127 680.03 -23292\n",
      "- totcst    1     2.421 679.32 -23289\n",
      "- totmcst   1     4.123 681.03 -23267\n",
      "- surv6m    1     5.813 682.72 -23244\n",
      "- death     1     8.066 684.97 -23214\n",
      "- dnrday    1     8.669 685.57 -23207\n",
      "- surv2m    1    10.425 687.33 -23183\n",
      "- d.time    1    15.670 692.57 -23115\n",
      "- slos      1    21.466 698.37 -23040\n",
      "- avtisst   1    69.521 746.42 -22438\n",
      "- dnr       2   112.010 788.91 -21940\n",
      "\n",
      "Step:  AIC=-23320.97\n",
      "hospdead ~ age + death + slos + d.time + dzgroup + num.co + edu + \n",
      "    totcst + totmcst + avtisst + race + sps + aps + surv2m + \n",
      "    surv6m + hday + dementia + ca + prg2m + prg6m + dnr + dnrday + \n",
      "    meanbp + resp + pafi + bili + glucose + adlp + adls + adlsc\n",
      "\n",
      "           Df Sum of Sq    RSS    AIC\n",
      "- bili      1     0.065 677.01 -23322\n",
      "- glucose   1     0.095 677.04 -23322\n",
      "- pafi      1     0.112 677.06 -23322\n",
      "<none>                  676.94 -23321\n",
      "- meanbp    1     0.166 677.11 -23321\n",
      "- ca        2     0.317 677.26 -23321\n",
      "- resp      1     0.190 677.13 -23320\n",
      "- prg6m     1     0.204 677.15 -23320\n",
      "- dementia  1     0.230 677.17 -23320\n",
      "- sps       1     0.246 677.19 -23320\n",
      "+ alb       1     0.041 676.90 -23320\n",
      "+ hrt       1     0.032 676.91 -23319\n",
      "+ ph        1     0.023 676.92 -23319\n",
      "+ scoma     1     0.021 676.92 -23319\n",
      "- age       1     0.278 677.22 -23319\n",
      "+ charges   1     0.016 676.93 -23319\n",
      "+ bun       1     0.011 676.93 -23319\n",
      "+ temp      1     0.004 676.94 -23319\n",
      "+ sex       1     0.004 676.94 -23319\n",
      "+ sod       1     0.004 676.94 -23319\n",
      "+ diabetes  1     0.003 676.94 -23319\n",
      "+ urine     1     0.001 676.94 -23319\n",
      "+ crea      1     0.000 676.94 -23319\n",
      "+ wblc      1     0.000 676.94 -23319\n",
      "- hday      1     0.377 677.32 -23318\n",
      "- edu       1     0.444 677.39 -23317\n",
      "- race      4     1.114 678.06 -23314\n",
      "- aps       1     0.961 677.91 -23310\n",
      "- prg2m     1     0.971 677.91 -23310\n",
      "- adlp      1     1.108 678.05 -23308\n",
      "- num.co    1     1.293 678.24 -23306\n",
      "- adls      1     1.384 678.33 -23304\n",
      "- adlsc     1     1.557 678.50 -23302\n",
      "- dzgroup   7     3.127 680.07 -23293\n",
      "- totcst    1     2.413 679.36 -23291\n",
      "- totmcst   1     4.140 681.08 -23268\n",
      "- surv6m    1     5.783 682.73 -23246\n",
      "- death     1     8.030 684.97 -23216\n",
      "- dnrday    1     8.679 685.62 -23208\n",
      "- surv2m    1    10.386 687.33 -23185\n",
      "- d.time    1    15.730 692.67 -23116\n",
      "- slos      1    21.443 698.39 -23041\n",
      "- avtisst   1    69.807 746.75 -22436\n",
      "- dnr       2   112.023 788.97 -21942\n",
      "\n",
      "Step:  AIC=-23322.1\n",
      "hospdead ~ age + death + slos + d.time + dzgroup + num.co + edu + \n",
      "    totcst + totmcst + avtisst + race + sps + aps + surv2m + \n",
      "    surv6m + hday + dementia + ca + prg2m + prg6m + dnr + dnrday + \n",
      "    meanbp + resp + pafi + glucose + adlp + adls + adlsc\n",
      "\n",
      "           Df Sum of Sq    RSS    AIC\n",
      "- glucose   1     0.095 677.10 -23323\n",
      "- pafi      1     0.111 677.12 -23323\n",
      "<none>                  677.01 -23322\n",
      "- meanbp    1     0.160 677.17 -23322\n",
      "- ca        2     0.324 677.33 -23322\n",
      "- resp      1     0.190 677.20 -23322\n",
      "- prg6m     1     0.200 677.21 -23321\n",
      "- dementia  1     0.232 677.24 -23321\n",
      "+ bili      1     0.065 676.94 -23321\n",
      "- sps       1     0.248 677.26 -23321\n",
      "+ alb       1     0.049 676.96 -23321\n",
      "+ hrt       1     0.029 676.98 -23320\n",
      "+ charges   1     0.021 676.99 -23320\n",
      "+ ph        1     0.021 676.99 -23320\n",
      "+ scoma     1     0.021 676.99 -23320\n",
      "+ sod       1     0.005 677.00 -23320\n",
      "+ diabetes  1     0.005 677.00 -23320\n",
      "+ temp      1     0.004 677.00 -23320\n",
      "+ bun       1     0.004 677.00 -23320\n",
      "+ sex       1     0.004 677.01 -23320\n",
      "+ urine     1     0.001 677.01 -23320\n",
      "+ crea      1     0.000 677.01 -23320\n",
      "+ wblc      1     0.000 677.01 -23320\n",
      "- age       1     0.307 677.32 -23320\n",
      "- hday      1     0.384 677.39 -23319\n",
      "- edu       1     0.449 677.46 -23318\n",
      "- race      4     1.121 678.13 -23315\n",
      "- prg2m     1     0.963 677.97 -23311\n",
      "- aps       1     0.994 678.00 -23311\n",
      "- adlp      1     1.102 678.11 -23309\n",
      "- num.co    1     1.291 678.30 -23307\n",
      "- adls      1     1.395 678.40 -23306\n",
      "- adlsc     1     1.565 678.57 -23303\n",
      "- dzgroup   7     3.292 680.30 -23292\n",
      "- totcst    1     2.506 679.51 -23291\n",
      "- totmcst   1     4.170 681.18 -23269\n",
      "- surv6m    1     5.779 682.79 -23247\n",
      "- death     1     7.994 685.00 -23218\n",
      "- dnrday    1     8.699 685.71 -23209\n",
      "- surv2m    1    10.438 687.45 -23186\n",
      "- d.time    1    15.783 692.79 -23116\n",
      "- slos      1    21.609 698.62 -23040\n",
      "- avtisst   1    69.764 746.77 -22438\n",
      "- dnr       2   112.192 789.20 -21941\n",
      "\n",
      "Step:  AIC=-23322.83\n",
      "hospdead ~ age + death + slos + d.time + dzgroup + num.co + edu + \n",
      "    totcst + totmcst + avtisst + race + sps + aps + surv2m + \n",
      "    surv6m + hday + dementia + ca + prg2m + prg6m + dnr + dnrday + \n",
      "    meanbp + resp + pafi + adlp + adls + adlsc\n",
      "\n",
      "           Df Sum of Sq    RSS    AIC\n",
      "- pafi      1     0.125 677.23 -23323\n",
      "<none>                  677.10 -23323\n",
      "- meanbp    1     0.152 677.26 -23323\n",
      "- ca        2     0.325 677.43 -23322\n",
      "- resp      1     0.189 677.29 -23322\n",
      "- prg6m     1     0.196 677.30 -23322\n",
      "+ glucose   1     0.095 677.01 -23322\n",
      "- dementia  1     0.235 677.34 -23322\n",
      "+ bili      1     0.065 677.04 -23322\n",
      "- sps       1     0.242 677.35 -23322\n",
      "+ alb       1     0.045 677.06 -23321\n",
      "+ hrt       1     0.031 677.07 -23321\n",
      "+ scoma     1     0.020 677.08 -23321\n",
      "+ ph        1     0.018 677.09 -23321\n",
      "+ charges   1     0.017 677.09 -23321\n",
      "+ bun       1     0.013 677.09 -23321\n",
      "+ temp      1     0.006 677.10 -23321\n",
      "+ diabetes  1     0.005 677.10 -23321\n",
      "+ sod       1     0.005 677.10 -23321\n",
      "+ sex       1     0.003 677.10 -23321\n",
      "+ urine     1     0.001 677.10 -23321\n",
      "+ wblc      1     0.000 677.10 -23321\n",
      "+ crea      1     0.000 677.10 -23321\n",
      "- age       1     0.307 677.41 -23321\n",
      "- hday      1     0.383 677.49 -23320\n",
      "- edu       1     0.447 677.55 -23319\n",
      "- race      4     1.112 678.22 -23316\n",
      "- prg2m     1     0.958 678.06 -23312\n",
      "- aps       1     0.981 678.08 -23312\n",
      "- adlp      1     1.095 678.20 -23310\n",
      "- num.co    1     1.300 678.40 -23308\n",
      "- adls      1     1.398 678.50 -23306\n",
      "- adlsc     1     1.569 678.67 -23304\n",
      "- dzgroup   7     3.273 680.38 -23293\n",
      "- totcst    1     2.532 679.64 -23291\n",
      "- totmcst   1     4.269 681.37 -23268\n",
      "- surv6m    1     5.770 682.87 -23248\n",
      "- death     1     8.145 685.25 -23217\n",
      "- dnrday    1     8.698 685.80 -23210\n",
      "- surv2m    1    10.418 687.52 -23187\n",
      "- d.time    1    15.688 692.79 -23118\n",
      "- slos      1    21.592 698.70 -23041\n",
      "- avtisst   1    69.772 746.88 -22439\n",
      "- dnr       2   112.404 789.51 -21940\n",
      "\n",
      "Step:  AIC=-23323.16\n",
      "hospdead ~ age + death + slos + d.time + dzgroup + num.co + edu + \n",
      "    totcst + totmcst + avtisst + race + sps + aps + surv2m + \n",
      "    surv6m + hday + dementia + ca + prg2m + prg6m + dnr + dnrday + \n",
      "    meanbp + resp + adlp + adls + adlsc\n",
      "\n",
      "           Df Sum of Sq    RSS    AIC\n",
      "<none>                  677.23 -23323\n",
      "- meanbp    1     0.171 677.40 -23323\n",
      "+ pafi      1     0.125 677.10 -23323\n",
      "+ glucose   1     0.109 677.12 -23323\n",
      "- ca        2     0.341 677.57 -23323\n",
      "- prg6m     1     0.194 677.42 -23323\n",
      "- resp      1     0.219 677.45 -23322\n",
      "+ bili      1     0.063 677.17 -23322\n",
      "- dementia  1     0.240 677.47 -23322\n",
      "+ hrt       1     0.051 677.18 -23322\n",
      "- sps       1     0.265 677.49 -23322\n",
      "+ alb       1     0.031 677.20 -23322\n",
      "+ scoma     1     0.023 677.21 -23322\n",
      "+ charges   1     0.019 677.21 -23321\n",
      "+ bun       1     0.019 677.21 -23321\n",
      "+ temp      1     0.018 677.21 -23321\n",
      "+ ph        1     0.010 677.22 -23321\n",
      "+ diabetes  1     0.006 677.22 -23321\n",
      "+ sex       1     0.005 677.22 -23321\n",
      "+ wblc      1     0.005 677.22 -23321\n",
      "+ sod       1     0.002 677.23 -23321\n",
      "+ urine     1     0.001 677.23 -23321\n",
      "+ crea      1     0.000 677.23 -23321\n",
      "- age       1     0.314 677.54 -23321\n",
      "- hday      1     0.388 677.62 -23320\n",
      "- edu       1     0.446 677.68 -23319\n",
      "- race      4     1.127 678.36 -23316\n",
      "- prg2m     1     0.951 678.18 -23312\n",
      "- aps       1     0.999 678.23 -23312\n",
      "- adlp      1     1.089 678.32 -23311\n",
      "- num.co    1     1.294 678.52 -23308\n",
      "- adls      1     1.392 678.62 -23307\n",
      "- adlsc     1     1.576 678.81 -23304\n",
      "- totcst    1     2.480 679.71 -23292\n",
      "- dzgroup   7     3.390 680.62 -23292\n",
      "- totmcst   1     4.189 681.42 -23270\n",
      "- surv6m    1     5.725 682.95 -23249\n",
      "- death     1     8.252 685.48 -23216\n",
      "- dnrday    1     8.720 685.95 -23210\n",
      "- surv2m    1    10.362 687.59 -23188\n",
      "- d.time    1    15.640 692.87 -23119\n",
      "- slos      1    21.628 698.86 -23041\n",
      "- avtisst   1    69.833 747.06 -22439\n",
      "- dnr       2   112.427 789.66 -21940\n"
     ]
    }
   ],
   "source": [
    "regboth = step(lm(hospdead~., data=data), direction='both')"
   ]
  },
  {
   "cell_type": "code",
   "execution_count": 42,
   "metadata": {
    "vscode": {
     "languageId": "r"
    }
   },
   "outputs": [
    {
     "name": "stderr",
     "output_type": "stream",
     "text": [
      "Warning message:\n",
      "“glm.fit: l'algorithme n'a pas convergé”\n",
      "Warning message:\n",
      "“glm.fit: des probabilités ont été ajustées numériquement à 0 ou 1”\n"
     ]
    },
    {
     "data": {
      "text/plain": [
       "\n",
       "Call:\n",
       "glm(formula = hospdead ~ age + death + slos + d.time + dzgroup + \n",
       "    num.co + edu + totcst + totmcst + avtisst + race + sps + \n",
       "    aps + surv2m + surv6m + hday + dementia + ca + prg2m + prg6m + \n",
       "    dnr + dnrday + meanbp + resp + adlp + adls + adlsc, family = binomial, \n",
       "    data = data)\n",
       "\n",
       "Deviance Residuals: \n",
       "   Min      1Q  Median      3Q     Max  \n",
       " -8.49    0.00    0.00    0.00    8.49  \n",
       "\n",
       "Coefficients:\n",
       "                      Estimate Std. Error    z value Pr(>|z|)    \n",
       "(Intercept)          1.023e+15  1.497e+07  6.831e+07   <2e-16 ***\n",
       "age                 -9.741e+11  6.208e+04 -1.569e+07   <2e-16 ***\n",
       "death               -1.868e+14  2.255e+06 -8.285e+07   <2e-16 ***\n",
       "slos                -1.078e+13  7.987e+04 -1.350e+08   <2e-16 ***\n",
       "d.time              -2.249e+12  1.937e+03 -1.161e+09   <2e-16 ***\n",
       "dzgroupCHF           2.858e+13  2.710e+06  1.055e+07   <2e-16 ***\n",
       "dzgroupCirrhosis     1.195e+14  3.737e+06  3.197e+07   <2e-16 ***\n",
       "dzgroupColon Cancer -5.598e+14  5.724e+06 -9.779e+07   <2e-16 ***\n",
       "dzgroupComa         -2.464e+14  3.900e+06 -6.317e+07   <2e-16 ***\n",
       "dzgroupCOPD         -7.288e+13  2.845e+06 -2.562e+07   <2e-16 ***\n",
       "dzgroupLung Cancer  -6.548e+14  5.925e+06 -1.105e+08   <2e-16 ***\n",
       "dzgroupMOSF w/Malig -2.283e+12  3.790e+06 -6.023e+05   <2e-16 ***\n",
       "num.co              -4.807e+13  6.294e+05 -7.637e+07   <2e-16 ***\n",
       "edu                  1.532e+13  2.339e+05  6.548e+07   <2e-16 ***\n",
       "totcst               6.052e+08  2.910e+01  2.079e+07   <2e-16 ***\n",
       "totmcst             -6.999e+08  2.846e+01 -2.459e+07   <2e-16 ***\n",
       "avtisst              8.737e+12  8.410e+04  1.039e+08   <2e-16 ***\n",
       "raceblack            1.355e+14  7.830e+06  1.730e+07   <2e-16 ***\n",
       "racehispanic         3.447e+13  8.568e+06  4.024e+06   <2e-16 ***\n",
       "raceother           -1.382e+14  9.908e+06 -1.395e+07   <2e-16 ***\n",
       "racewhite           -1.535e+12  7.637e+06 -2.010e+05   <2e-16 ***\n",
       "sps                  4.345e+12  1.738e+05  2.500e+07   <2e-16 ***\n",
       "aps                  6.913e+11  6.684e+04  1.034e+07   <2e-16 ***\n",
       "surv2m              -9.211e+14  1.921e+07 -4.795e+07   <2e-16 ***\n",
       "surv6m               8.320e+14  1.833e+07  4.539e+07   <2e-16 ***\n",
       "hday                -3.086e+12  9.213e+04 -3.349e+07   <2e-16 ***\n",
       "dementia             1.237e+13  4.315e+06  2.867e+06   <2e-16 ***\n",
       "cano                -1.719e+14  4.280e+06 -4.015e+07   <2e-16 ***\n",
       "cayes               -1.635e+14  4.011e+06 -4.076e+07   <2e-16 ***\n",
       "prg2m               -4.447e+14  6.424e+06 -6.923e+07   <2e-16 ***\n",
       "prg6m                2.479e+14  6.253e+06  3.965e+07   <2e-16 ***\n",
       "dnrdnr before sadm  -2.951e+14  4.653e+06 -6.343e+07   <2e-16 ***\n",
       "dnrno dnr           -8.779e+14  2.085e+06 -4.210e+08   <2e-16 ***\n",
       "dnrday               1.564e+13  8.883e+04  1.761e+08   <2e-16 ***\n",
       "meanbp               4.084e+11  2.651e+04  1.541e+07   <2e-16 ***\n",
       "resp                -9.901e+11  7.506e+04 -1.319e+07   <2e-16 ***\n",
       "adlp                -5.390e+13  6.219e+05 -8.666e+07   <2e-16 ***\n",
       "adls                -4.027e+13  8.215e+05 -4.903e+07   <2e-16 ***\n",
       "adlsc                6.252e+13  7.930e+05  7.884e+07   <2e-16 ***\n",
       "---\n",
       "Signif. codes:  0 ‘***’ 0.001 ‘**’ 0.01 ‘*’ 0.05 ‘.’ 0.1 ‘ ’ 1\n",
       "\n",
       "(Dispersion parameter for binomial family taken to be 1)\n",
       "\n",
       "    Null deviance: 10307  on 9032  degrees of freedom\n",
       "Residual deviance: 63148  on 8994  degrees of freedom\n",
       "AIC: 63226\n",
       "\n",
       "Number of Fisher Scoring iterations: 25\n"
      ]
     },
     "metadata": {},
     "output_type": "display_data"
    }
   ],
   "source": [
    "modreg2 <- glm(hospdead ~ age + death + slos + d.time + dzgroup + num.co + edu + totcst + totmcst + avtisst + race + sps + aps + surv2m + surv6m + hday + dementia + ca + prg2m + prg6m + dnr + dnrday + meanbp + resp + adlp + adls + adlsc, data=data, family = binomial)\n",
    "summary(modreg2)"
   ]
  },
  {
   "cell_type": "code",
   "execution_count": 43,
   "metadata": {
    "vscode": {
     "languageId": "r"
    }
   },
   "outputs": [
    {
     "data": {
      "text/plain": [
       "         Actual\n",
       "Predicted    0    1\n",
       "        0 5976  146\n",
       "        1  730 2181"
      ]
     },
     "metadata": {},
     "output_type": "display_data"
    }
   ],
   "source": [
    "hatY  <- predict(modreg2, type=\"response\")\n",
    "predicted_classes <- ifelse(hatY > 0.5, 1, 0)\n",
    "confusion_matrix <- table(Predicted = predicted_classes, Actual = data$hospdead)\n",
    "confusion_matrix"
   ]
  },
  {
   "cell_type": "markdown",
   "metadata": {},
   "source": [
    "## Séparation"
   ]
  },
  {
   "cell_type": "code",
   "execution_count": 44,
   "metadata": {
    "vscode": {
     "languageId": "r"
    }
   },
   "outputs": [
    {
     "data": {
      "text/html": [
       "<style>\n",
       ".list-inline {list-style: none; margin:0; padding: 0}\n",
       ".list-inline>li {display: inline-block}\n",
       ".list-inline>li:not(:last-child)::after {content: \"\\00b7\"; padding: 0 .5ex}\n",
       "</style>\n",
       "<ol class=list-inline><li>6323</li><li>45</li></ol>\n"
      ],
      "text/latex": [
       "\\begin{enumerate*}\n",
       "\\item 6323\n",
       "\\item 45\n",
       "\\end{enumerate*}\n"
      ],
      "text/markdown": [
       "1. 6323\n",
       "2. 45\n",
       "\n",
       "\n"
      ],
      "text/plain": [
       "[1] 6323   45"
      ]
     },
     "metadata": {},
     "output_type": "display_data"
    },
    {
     "data": {
      "text/html": [
       "<style>\n",
       ".list-inline {list-style: none; margin:0; padding: 0}\n",
       ".list-inline>li {display: inline-block}\n",
       ".list-inline>li:not(:last-child)::after {content: \"\\00b7\"; padding: 0 .5ex}\n",
       "</style>\n",
       "<ol class=list-inline><li>2710</li><li>45</li></ol>\n"
      ],
      "text/latex": [
       "\\begin{enumerate*}\n",
       "\\item 2710\n",
       "\\item 45\n",
       "\\end{enumerate*}\n"
      ],
      "text/markdown": [
       "1. 2710\n",
       "2. 45\n",
       "\n",
       "\n"
      ],
      "text/plain": [
       "[1] 2710   45"
      ]
     },
     "metadata": {},
     "output_type": "display_data"
    }
   ],
   "source": [
    "train_index <- sample(1:nrow(data), size = 0.7 * nrow(data))\n",
    "\n",
    "train_data1 <- data[train_index, ]\n",
    "test_data1 <- data[setdiff(1:nrow(data), train_index), ]\n",
    "\n",
    "dim(train_data1)\n",
    "dim(test_data1)"
   ]
  },
  {
   "cell_type": "code",
   "execution_count": 45,
   "metadata": {
    "vscode": {
     "languageId": "r"
    }
   },
   "outputs": [
    {
     "name": "stderr",
     "output_type": "stream",
     "text": [
      "Warning message:\n",
      "“glm.fit: l'algorithme n'a pas convergé”\n",
      "Warning message:\n",
      "“glm.fit: des probabilités ont été ajustées numériquement à 0 ou 1”\n"
     ]
    },
    {
     "data": {
      "text/plain": [
       "\n",
       "Call:\n",
       "glm(formula = hospdead ~ age + death + slos + d.time + dzgroup + \n",
       "    num.co + edu + totcst + totmcst + avtisst + race + sps + \n",
       "    aps + surv2m + surv6m + hday + dementia + ca + prg2m + prg6m + \n",
       "    dnr + dnrday + meanbp + resp + adlp + adls + adlsc, family = binomial, \n",
       "    data = train_data1)\n",
       "\n",
       "Deviance Residuals: \n",
       "       Min          1Q      Median          3Q         Max  \n",
       "-0.0070328   0.0000000   0.0000000   0.0000672   0.0039603  \n",
       "\n",
       "Coefficients:\n",
       "                      Estimate Std. Error z value Pr(>|z|)\n",
       "(Intercept)          5.799e+03  9.653e+03   0.601    0.548\n",
       "age                 -6.897e-03  1.818e+00  -0.004    0.997\n",
       "death               -5.787e+03  9.623e+03  -0.601    0.548\n",
       "slos                 2.610e+01  4.173e+01   0.626    0.532\n",
       "d.time              -2.611e+01  4.165e+01  -0.627    0.531\n",
       "dzgroupCHF          -4.869e-01  1.181e+02  -0.004    0.997\n",
       "dzgroupCirrhosis    -9.201e-01  1.036e+02  -0.009    0.993\n",
       "dzgroupColon Cancer  2.252e+01  7.885e+02   0.029    0.977\n",
       "dzgroupComa          6.258e-01  9.836e+01   0.006    0.995\n",
       "dzgroupCOPD         -1.794e-01  9.893e+01  -0.002    0.999\n",
       "dzgroupLung Cancer  -4.084e-02  1.439e+02   0.000    1.000\n",
       "dzgroupMOSF w/Malig -1.195e-01  7.644e+01  -0.002    0.999\n",
       "num.co               2.950e-01  2.390e+01   0.012    0.990\n",
       "edu                  9.581e-02  7.075e+00   0.014    0.989\n",
       "totcst               1.278e-05  1.231e-03   0.010    0.992\n",
       "totmcst             -5.114e-06  1.180e-03  -0.004    0.997\n",
       "avtisst              2.018e-02  2.216e+00   0.009    0.993\n",
       "raceblack            1.675e+00  1.974e+02   0.008    0.993\n",
       "racehispanic         4.002e+00  9.707e+02   0.004    0.997\n",
       "raceother           -2.074e-01  2.286e+02  -0.001    0.999\n",
       "racewhite            3.899e-01  1.769e+02   0.002    0.998\n",
       "sps                  2.260e-02  4.820e+00   0.005    0.996\n",
       "aps                  2.890e-03  1.801e+00   0.002    0.999\n",
       "surv2m              -6.971e-02  5.642e+02   0.000    1.000\n",
       "surv6m               1.097e+00  5.793e+02   0.002    0.998\n",
       "hday                -1.451e-02  2.230e+00  -0.007    0.995\n",
       "dementia             2.388e-01  1.412e+02   0.002    0.999\n",
       "cano                 3.686e-01  9.548e+01   0.004    0.997\n",
       "cayes               -5.160e-01  8.726e+01  -0.006    0.995\n",
       "prg2m                5.748e-01  1.786e+02   0.003    0.997\n",
       "prg6m               -1.391e+00  1.957e+02  -0.007    0.994\n",
       "dnrdnr before sadm   2.312e+01  5.539e+02   0.042    0.967\n",
       "dnrno dnr            8.653e-02  6.274e+01   0.001    0.999\n",
       "dnrday              -7.726e-03  2.213e+00  -0.003    0.997\n",
       "meanbp              -6.204e-04  8.142e-01  -0.001    0.999\n",
       "resp                -8.830e-03  2.194e+00  -0.004    0.997\n",
       "adlp                -1.482e-02  2.027e+01  -0.001    0.999\n",
       "adls                -1.417e-01  2.399e+01  -0.006    0.995\n",
       "adlsc                4.772e-02  2.467e+01   0.002    0.998\n",
       "\n",
       "(Dispersion parameter for binomial family taken to be 1)\n",
       "\n",
       "    Null deviance: 7.2967e+03  on 6322  degrees of freedom\n",
       "Residual deviance: 1.7715e-03  on 6284  degrees of freedom\n",
       "AIC: 78.002\n",
       "\n",
       "Number of Fisher Scoring iterations: 25\n"
      ]
     },
     "metadata": {},
     "output_type": "display_data"
    }
   ],
   "source": [
    "modreg <- glm(hospdead ~ age + death + slos + d.time + dzgroup + num.co + edu + totcst + totmcst + avtisst + race + sps + aps + surv2m + surv6m + hday + dementia + ca + prg2m + prg6m + dnr + dnrday + meanbp + resp + adlp + adls + adlsc, data = train_data1, family=binomial)\n",
    "summary(modreg)"
   ]
  },
  {
   "cell_type": "code",
   "execution_count": 46,
   "metadata": {
    "vscode": {
     "languageId": "r"
    }
   },
   "outputs": [
    {
     "name": "stdout",
     "output_type": "stream",
     "text": [
      "   predictions_class\n",
      "       0    1\n",
      "  0 2050    1\n",
      "  1    0  659\n"
     ]
    }
   ],
   "source": [
    "pred <- predict(modreg, newdata=test_data1, type=\"response\")\n",
    "predictions_class <- ifelse(pred > 0.5, 1, 0)\n",
    "confusion_matrix <- table(test_data1$hospdead, predictions_class)\n",
    "print(confusion_matrix)"
   ]
  },
  {
   "cell_type": "code",
   "execution_count": 47,
   "metadata": {
    "vscode": {
     "languageId": "r"
    }
   },
   "outputs": [
    {
     "name": "stdout",
     "output_type": "stream",
     "text": [
      "[1] \"Précision: 0.999630996309963\"\n"
     ]
    }
   ],
   "source": [
    "accuracy <- sum(diag(confusion_matrix)) / sum(confusion_matrix)\n",
    "print(paste(\"Précision:\", accuracy))"
   ]
  },
  {
   "cell_type": "code",
   "execution_count": 19,
   "metadata": {
    "vscode": {
     "languageId": "r"
    }
   },
   "outputs": [
    {
     "data": {
      "text/html": [
       "2.881822088526"
      ],
      "text/latex": [
       "2.881822088526"
      ],
      "text/markdown": [
       "2.881822088526"
      ],
      "text/plain": [
       "[1] 2.881822"
      ]
     },
     "metadata": {},
     "output_type": "display_data"
    }
   ],
   "source": [
    "A <- ifelse(data$hospdead > 0.5, 1, 0)\n",
    "A <- A[A == 1]\n",
    "B <- ifelse(data$hospdead < 0.5, 1, 0)\n",
    "B <- B[B == 1]\n",
    "\n",
    "A_t = length(A)/nrow(data)\n",
    "B_t = length(B)/nrow(data)\n",
    "\n",
    "inv_At = 1/A_t *B_t\n",
    "inv_Bt = 1\n",
    "\n",
    "inv_At"
   ]
  },
  {
   "cell_type": "code",
   "execution_count": 38,
   "metadata": {
    "vscode": {
     "languageId": "r"
    }
   },
   "outputs": [],
   "source": [
    "library(caret)\n",
    "\n",
    "set.seed(123)\n",
    "index <- createDataPartition(data$hospdead, p = 0.7, list = FALSE)\n",
    "\n",
    "train_data2 <- data[index, ]\n",
    "test_data2 <- data[-index, ]"
   ]
  },
  {
   "cell_type": "code",
   "execution_count": 39,
   "metadata": {
    "vscode": {
     "languageId": "r"
    }
   },
   "outputs": [
    {
     "name": "stderr",
     "output_type": "stream",
     "text": [
      "Warning message:\n",
      "“glm.fit: l'algorithme n'a pas convergé”\n",
      "Warning message:\n",
      "“glm.fit: des probabilités ont été ajustées numériquement à 0 ou 1”\n"
     ]
    },
    {
     "data": {
      "text/plain": [
       "\n",
       "Call:\n",
       "glm(formula = hospdead ~ age + death + slos + d.time + dzgroup + \n",
       "    num.co + edu + totcst + totmcst + avtisst + race + sps + \n",
       "    aps + surv2m + surv6m + hday + dementia + ca + prg2m + prg6m + \n",
       "    dnr + dnrday + meanbp + resp + adlp + adls + adlsc, family = binomial(link = \"logit\"), \n",
       "    data = train_data2, weights = weights)\n",
       "\n",
       "Deviance Residuals: \n",
       "       Min          1Q      Median          3Q         Max  \n",
       "-0.0089369   0.0000000   0.0000000   0.0000667   0.0042695  \n",
       "\n",
       "Coefficients:\n",
       "                      Estimate Std. Error z value Pr(>|z|)\n",
       "(Intercept)          5.763e+03  2.273e+04   0.254    0.800\n",
       "age                 -8.735e-03  1.314e+00  -0.007    0.995\n",
       "death               -5.752e+03  2.273e+04  -0.253    0.800\n",
       "slos                 2.597e+01  3.035e+01   0.856    0.392\n",
       "d.time              -2.598e+01  3.032e+01  -0.857    0.392\n",
       "dzgroupCHF          -1.049e-01  9.228e+01  -0.001    0.999\n",
       "dzgroupCirrhosis    -6.995e-01  8.506e+01  -0.008    0.993\n",
       "dzgroupColon Cancer  2.316e+01  3.492e+02   0.066    0.947\n",
       "dzgroupComa          3.975e-02  6.605e+01   0.001    1.000\n",
       "dzgroupCOPD         -2.894e-01  7.298e+01  -0.004    0.997\n",
       "dzgroupLung Cancer  -2.685e-01  1.146e+02  -0.002    0.998\n",
       "dzgroupMOSF w/Malig -3.016e-01  5.974e+01  -0.005    0.996\n",
       "num.co               2.282e-01  1.762e+01   0.013    0.990\n",
       "edu                  7.028e-02  5.123e+00   0.014    0.989\n",
       "totcst               1.197e-05  8.071e-04   0.015    0.988\n",
       "totmcst             -4.071e-06  7.835e-04  -0.005    0.996\n",
       "avtisst              2.136e-02  1.605e+00   0.013    0.989\n",
       "raceblack            1.680e+00  1.289e+02   0.013    0.990\n",
       "racehispanic         6.273e+00  1.970e+03   0.003    0.997\n",
       "raceother           -1.283e-01  1.594e+02  -0.001    0.999\n",
       "racewhite            7.398e-01  1.174e+02   0.006    0.995\n",
       "sps                  2.719e-02  3.646e+00   0.007    0.994\n",
       "aps                  7.474e-03  1.450e+00   0.005    0.996\n",
       "surv2m              -1.708e+00  4.324e+02  -0.004    0.997\n",
       "surv6m               2.602e+00  4.376e+02   0.006    0.995\n",
       "hday                -2.802e-02  1.273e+00  -0.022    0.982\n",
       "dementia             8.556e-01  1.358e+02   0.006    0.995\n",
       "cano                -1.056e-01  7.741e+01  -0.001    0.999\n",
       "cayes               -7.766e-01  6.963e+01  -0.011    0.991\n",
       "prg2m                1.349e+00  1.314e+02   0.010    0.992\n",
       "prg6m               -1.977e+00  1.435e+02  -0.014    0.989\n",
       "dnrdnr before sadm   1.361e+00  1.297e+02   0.010    0.992\n",
       "dnrno dnr            4.562e-01  5.042e+01   0.009    0.993\n",
       "dnrday              -1.710e-03  1.312e+00  -0.001    0.999\n",
       "meanbp               2.329e-03  5.825e-01   0.004    0.997\n",
       "resp                -7.630e-03  1.539e+00  -0.005    0.996\n",
       "adlp                -2.749e-02  1.676e+01  -0.002    0.999\n",
       "adls                -1.190e-01  1.839e+01  -0.006    0.995\n",
       "adlsc                5.451e-02  1.883e+01   0.003    0.998\n",
       "\n",
       "(Dispersion parameter for binomial family taken to be 1)\n",
       "\n",
       "    Null deviance: 1.0355e+04  on 6323  degrees of freedom\n",
       "Residual deviance: 3.3498e-03  on 6285  degrees of freedom\n",
       "AIC: 78.003\n",
       "\n",
       "Number of Fisher Scoring iterations: 25\n"
      ]
     },
     "metadata": {},
     "output_type": "display_data"
    }
   ],
   "source": [
    "weights <- ifelse(train_data2$hospdead == 1, 1, inv_At)\n",
    "modreg <- glm(hospdead ~ age + death + slos + d.time + dzgroup + num.co + edu + totcst + totmcst + avtisst + race + sps + aps + surv2m + surv6m + hday + dementia + ca + prg2m + prg6m + dnr + dnrday + meanbp + resp + adlp + adls + adlsc, data = train_data2, family=binomial(link = \"logit\"), weights = weights)\n",
    "summary(modreg)"
   ]
  },
  {
   "cell_type": "code",
   "execution_count": 40,
   "metadata": {
    "vscode": {
     "languageId": "r"
    }
   },
   "outputs": [
    {
     "name": "stdout",
     "output_type": "stream",
     "text": [
      "   predictions_class\n",
      "       0    1\n",
      "  0 2009    0\n",
      "  1    0  701\n"
     ]
    }
   ],
   "source": [
    "pred <- predict(modreg, newdata=test_data, type=\"response\")\n",
    "predictions_class <- ifelse(pred > 0.5, 1, 0)\n",
    "confusion_matrix <- table(test_data$hospdead, predictions_class)\n",
    "print(confusion_matrix)"
   ]
  }
 ],
 "metadata": {
  "kernelspec": {
   "display_name": "R",
   "language": "R",
   "name": "ir"
  },
  "language_info": {
   "codemirror_mode": "r",
   "file_extension": ".r",
   "mimetype": "text/x-r-source",
   "name": "R",
   "pygments_lexer": "r",
   "version": "4.2.2"
  }
 },
 "nbformat": 4,
 "nbformat_minor": 2
}
